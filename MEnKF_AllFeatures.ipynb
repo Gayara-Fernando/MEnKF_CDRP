{
 "cells": [
  {
   "cell_type": "code",
   "execution_count": 1,
   "id": "56ac014d-d291-422e-aea0-705eb7b4c4b8",
   "metadata": {},
   "outputs": [
    {
     "name": "stderr",
     "output_type": "stream",
     "text": [
      "2024-07-12 16:48:41.181202: I tensorflow/core/util/port.cc:113] oneDNN custom operations are on. You may see slightly different numerical results due to floating-point round-off errors from different computation orders. To turn them off, set the environment variable `TF_ENABLE_ONEDNN_OPTS=0`.\n",
      "2024-07-12 16:48:41.638554: E external/local_xla/xla/stream_executor/cuda/cuda_dnn.cc:9261] Unable to register cuDNN factory: Attempting to register factory for plugin cuDNN when one has already been registered\n",
      "2024-07-12 16:48:41.638609: E external/local_xla/xla/stream_executor/cuda/cuda_fft.cc:607] Unable to register cuFFT factory: Attempting to register factory for plugin cuFFT when one has already been registered\n",
      "2024-07-12 16:48:41.751588: E external/local_xla/xla/stream_executor/cuda/cuda_blas.cc:1515] Unable to register cuBLAS factory: Attempting to register factory for plugin cuBLAS when one has already been registered\n",
      "2024-07-12 16:48:41.907273: I tensorflow/core/platform/cpu_feature_guard.cc:182] This TensorFlow binary is optimized to use available CPU instructions in performance-critical operations.\n",
      "To enable the following instructions: SSE4.1 SSE4.2 AVX AVX2 AVX512F AVX512_VNNI FMA, in other operations, rebuild TensorFlow with the appropriate compiler flags.\n"
     ]
    }
   ],
   "source": [
    "from sklearn.decomposition import PCA\n",
    "import pickle\n",
    "import numpy as np\n",
    "import matplotlib.pyplot as plt\n",
    "import random\n",
    "import pandas as pd\n",
    "import numpy as np\n",
    "from sklearn.model_selection import KFold\n",
    "from sklearn.feature_selection import VarianceThreshold\n",
    "import random\n",
    "import pickle\n",
    "from sklearn.preprocessing import StandardScaler\n",
    "import os\n",
    "import tensorflow as tf\n",
    "# from tqdm.notebook import tqdm\n",
    "from scipy.stats import multivariate_normal as mvn\n",
    "import matplotlib.pyplot as plt\n",
    "from scipy.linalg import block_diag\n",
    "import warnings\n",
    "import os\n",
    "os.environ['TF_CPP_MIN_LOG_LEVEL'] = '3' "
   ]
  },
  {
   "cell_type": "code",
   "execution_count": 2,
   "id": "7646af0f-ee7d-4761-b6b5-06bf7b4e183c",
   "metadata": {},
   "outputs": [],
   "source": [
    "warnings.filterwarnings('ignore')"
   ]
  },
  {
   "cell_type": "code",
   "execution_count": 3,
   "id": "ef9703c7-dc82-42bb-b7e1-6ebc3393dd00",
   "metadata": {},
   "outputs": [],
   "source": [
    "# import the extracted embeddings first \n",
    "# cdr embeddings - valid\n",
    "cdr_test_mut = np.load(\"..//saved_output_data//Valid_mut_new_split_CDR.npy\")\n",
    "cdr_test_methyl = np.load(\"..//saved_output_data//Valid_methyl_new_split_CDR.npy\")\n",
    "cdr_test_gene = np.load(\"..//saved_output_data//Valid_gene_new_split_CDR.npy\")\n",
    "cdr_test_drugs = np.load(\"..//saved_output_data//Valid_drug_new_split_CDR.npy\")\n",
    "test_y = np.load(\"..//saved_output_data//Valid_y.npy\")\n",
    "\n",
    "# gcn embeddings - valid\n",
    "gcn_test_cnv = np.load(\"..//saved_output_data//Valid_cnv_new_split_GCN.npy\")\n",
    "gcn_test_gene = np.load(\"..//saved_output_data//Valid_gene_new_split_GCN.npy\")\n",
    "gcn_test_drugs = np.load(\"..//saved_output_data//Valid_drug_new_split_GCN.npy\")"
   ]
  },
  {
   "cell_type": "code",
   "execution_count": 4,
   "id": "0fe933f2-d680-4726-b113-e421452cc72c",
   "metadata": {},
   "outputs": [
    {
     "data": {
      "text/plain": [
       "(17316, 2010)"
      ]
     },
     "execution_count": 4,
     "metadata": {},
     "output_type": "execute_result"
    }
   ],
   "source": [
    "cdr_test_mut.shape"
   ]
  },
  {
   "cell_type": "code",
   "execution_count": 5,
   "id": "bb49425d-fc68-4f4c-a2f2-ab887f339465",
   "metadata": {},
   "outputs": [
    {
     "data": {
      "text/plain": [
       "(17316, 100)"
      ]
     },
     "execution_count": 5,
     "metadata": {},
     "output_type": "execute_result"
    }
   ],
   "source": [
    "cdr_test_gene.shape"
   ]
  },
  {
   "cell_type": "code",
   "execution_count": 6,
   "id": "583a1a99-4e83-4ca5-abd7-d28805931916",
   "metadata": {},
   "outputs": [
    {
     "data": {
      "text/plain": [
       "(17316, 300)"
      ]
     },
     "execution_count": 6,
     "metadata": {},
     "output_type": "execute_result"
    }
   ],
   "source": [
    "cdr_test_methyl.shape"
   ]
  },
  {
   "cell_type": "markdown",
   "id": "67adef1c-087e-483c-8c3c-70b72a5565e0",
   "metadata": {},
   "source": [
    "Need to only use the target domain data - that is embeddings from test set only. Chose the first 10K as train and the rest as test."
   ]
  },
  {
   "cell_type": "code",
   "execution_count": 7,
   "id": "30e9c6e2-c6aa-4911-a017-684051241216",
   "metadata": {},
   "outputs": [],
   "source": [
    "def chunks(lst, n):\n",
    "    \"\"\"Yield successive n-sized chunks from lst.\"\"\"\n",
    "    for i in range(0, len(lst), n):\n",
    "        yield lst[i:i + n]"
   ]
  },
  {
   "cell_type": "code",
   "execution_count": 8,
   "id": "625f66c6-1010-4129-8805-245229c438ee",
   "metadata": {},
   "outputs": [],
   "source": [
    "chunks = np.array_split(list(range(0,cdr_test_methyl.shape[0])), 3)"
   ]
  },
  {
   "cell_type": "code",
   "execution_count": 9,
   "id": "0f5f6ee5-8840-4b97-b79b-270765e2ed4b",
   "metadata": {},
   "outputs": [],
   "source": [
    "# chunks"
   ]
  },
  {
   "cell_type": "code",
   "execution_count": 10,
   "id": "73eed634-bbdb-4c44-8320-cb58132421e1",
   "metadata": {},
   "outputs": [],
   "source": [
    "test_index = 2"
   ]
  },
  {
   "cell_type": "code",
   "execution_count": 11,
   "id": "21de03b5-bf2a-48b1-8258-7603d8e28203",
   "metadata": {},
   "outputs": [],
   "source": [
    "test_items = chunks[test_index]"
   ]
  },
  {
   "cell_type": "code",
   "execution_count": 12,
   "id": "8d4a5161-199e-4efc-a514-87e89fe51c2d",
   "metadata": {},
   "outputs": [],
   "source": [
    "# test_items"
   ]
  },
  {
   "cell_type": "code",
   "execution_count": 13,
   "id": "71ae8721-0f71-400d-b53e-502a3926829c",
   "metadata": {},
   "outputs": [],
   "source": [
    "train_items = list(set(list(range(0,cdr_test_methyl.shape[0]))).difference(test_items))"
   ]
  },
  {
   "cell_type": "code",
   "execution_count": 14,
   "id": "74bf1f5c-7fa4-4b51-a560-d44f68c20c05",
   "metadata": {},
   "outputs": [],
   "source": [
    "# train_items[-10:]"
   ]
  },
  {
   "cell_type": "code",
   "execution_count": 15,
   "id": "ea94a9d6-111a-4233-b31e-5dea1c5ef245",
   "metadata": {},
   "outputs": [
    {
     "name": "stdout",
     "output_type": "stream",
     "text": [
      "(11544, 2010) (5772, 2010)\n",
      "(11544, 300) (5772, 300)\n",
      "(11544, 100) (5772, 100)\n",
      "(11544, 100) (5772, 100)\n",
      "(11544, 256) (5772, 256)\n",
      "(11544, 256) (5772, 256)\n",
      "(11544, 128) (5772, 128)\n",
      "(11544, 1) (5772, 1)\n"
     ]
    }
   ],
   "source": [
    "# CDR\n",
    "# mutation\n",
    "cdr_train_mut = cdr_test_mut[train_items,:]\n",
    "# cdr_valid_mut = cdr_test_mut[10000:13816,:]\n",
    "cdr_test_mut = cdr_test_mut[test_items,:]\n",
    "print(cdr_train_mut.shape, cdr_test_mut.shape)\n",
    "\n",
    "# methylation\n",
    "cdr_train_methyl = cdr_test_methyl[train_items,:]\n",
    "# cdr_valid_methyl = cdr_test_methyl[10000:13816,:]\n",
    "cdr_test_methyl = cdr_test_methyl[test_items,:]\n",
    "print(cdr_train_methyl.shape,  cdr_test_methyl.shape)\n",
    "\n",
    "# expression\n",
    "cdr_train_gene = cdr_test_gene[train_items,:]\n",
    "# cdr_valid_gene = cdr_test_gene[10000:13816,:]\n",
    "cdr_test_gene = cdr_test_gene[test_items,:]\n",
    "print(cdr_train_gene.shape, cdr_test_gene.shape)\n",
    "\n",
    "# drugs\n",
    "cdr_train_drugs = cdr_test_drugs[train_items,:]\n",
    "# cdr_valid_drugs = cdr_test_drugs[10000:13816,:]\n",
    "cdr_test_drugs = cdr_test_drugs[test_items,:]\n",
    "print(cdr_train_drugs.shape, cdr_test_drugs.shape)\n",
    "\n",
    "# GCN\n",
    "# cnv\n",
    "gcn_train_cnv = gcn_test_cnv[train_items,:]\n",
    "# gcn_valid_cnv = gcn_test_cnv[10000:13816,:]\n",
    "gcn_test_cnv = gcn_test_cnv[test_items,:]\n",
    "print(gcn_train_cnv.shape, gcn_test_cnv.shape)\n",
    "\n",
    "# expression\n",
    "gcn_train_gene = gcn_test_gene[train_items,:]\n",
    "# gcn_valid_gene = gcn_test_gene[10000:13816,:]\n",
    "gcn_test_gene = gcn_test_gene[test_items,:]\n",
    "print(gcn_train_gene.shape, gcn_test_gene.shape)\n",
    "\n",
    "# drugs\n",
    "gcn_train_drugs = gcn_test_drugs[train_items,:]\n",
    "# gcn_valid_drugs = gcn_test_drugs[10000:13816,:]\n",
    "gcn_test_drugs = gcn_test_drugs[test_items,:]\n",
    "print(gcn_train_drugs.shape, gcn_test_drugs.shape)\n",
    "\n",
    "# response\n",
    "y_train = test_y[train_items,:]\n",
    "# y_valid = test_y[10000:13816,:]\n",
    "y_test = test_y[test_items,:]\n",
    "print(y_train.shape, y_test.shape)"
   ]
  },
  {
   "cell_type": "code",
   "execution_count": 16,
   "id": "4307260e-f432-4022-a6d1-d5a631966e6b",
   "metadata": {},
   "outputs": [
    {
     "data": {
      "text/plain": [
       "2.094244087144837"
      ]
     },
     "execution_count": 16,
     "metadata": {},
     "output_type": "execute_result"
    }
   ],
   "source": [
    "y_test.mean()"
   ]
  },
  {
   "cell_type": "code",
   "execution_count": 17,
   "id": "33b84254-4c45-4892-a87b-49808b07c1a4",
   "metadata": {},
   "outputs": [
    {
     "data": {
      "text/plain": [
       "2.8136855131635183"
      ]
     },
     "execution_count": 17,
     "metadata": {},
     "output_type": "execute_result"
    }
   ],
   "source": [
    "y_test.std()"
   ]
  },
  {
   "cell_type": "code",
   "execution_count": 18,
   "id": "e1246a77-8c6e-4dce-967b-347bb328bf46",
   "metadata": {},
   "outputs": [],
   "source": [
    "# define a function to aquire the needed omics, and then fit a PCA - let's not collapse any column in the X_t matrix\n",
    "\n",
    "def extract_PCA(train_cdr_omics, train_gcn_omics, test_cdr_omics, test_gcn_omics, train_cdr_drug, test_cdr_drug, train_gcn_drug, test_gcn_drug, y_train, y_test, keep_dims = 100):\n",
    "    # for CDR omics - PCA\n",
    "    if len(train_cdr_omics) == 1:\n",
    "        pca_cdr = PCA(n_components=train_cdr_omics[0].shape[1])\n",
    "        pca_cdr.fit(train_cdr_omics[0])\n",
    "        cdr_train_omics = pca_cdr.transform(train_cdr_omics[0])[:, :keep_dims]\n",
    "        # cdr_valid_omics = pca_cdr.transform(valid_cdr_omics[0])[:, :keep_dims]\n",
    "        cdr_test_omics = pca_cdr.transform(test_cdr_omics[0])[:, :keep_dims]\n",
    "    elif len(train_cdr_omics) == 2:\n",
    "        combined_omics_train = np.hstack(train_cdr_omics)\n",
    "        # combined_omics_valid = np.hstack(valid_cdr_omics)\n",
    "        combined_omics_test = np.hstack(test_cdr_omics)\n",
    "        pca_cdr = PCA(n_components=combined_omics_train.shape[1])\n",
    "        pca_cdr.fit(combined_omics_train)\n",
    "        cdr_train_omics = pca_cdr.transform(combined_omics_train)[:, :keep_dims]\n",
    "        # cdr_valid_omics = pca_cdr.transform(combined_omics_valid)[:, :keep_dims]\n",
    "        cdr_test_omics = pca_cdr.transform(combined_omics_test)[:, :keep_dims]\n",
    "    else:\n",
    "        combined_omics_train = np.hstack(train_cdr_omics)\n",
    "        # combined_omics_valid = np.hstack(valid_cdr_omics)\n",
    "        combined_omics_test = np.hstack(test_cdr_omics)\n",
    "        pca_cdr = PCA(n_components=combined_omics_train.shape[1])\n",
    "        pca_cdr.fit(combined_omics_train)\n",
    "        cdr_train_omics = pca_cdr.transform(combined_omics_train)[:, :keep_dims]\n",
    "        # cdr_valid_omics = pca_cdr.transform(combined_omics_valid)[:, :keep_dims]\n",
    "        cdr_test_omics = pca_cdr.transform(combined_omics_test)[:, :keep_dims]\n",
    "\n",
    "    # for GCN omics - PCA\n",
    "    if len(train_gcn_omics) == 1:\n",
    "        pca_gcn = PCA(n_components=train_gcn_omics[0].shape[1])\n",
    "        pca_gcn.fit(train_gcn_omics[0])\n",
    "        gcn_train_omics = pca_gcn.transform(train_gcn_omics[0])[:, :keep_dims]\n",
    "        # gcn_valid_omics = pca_gcn.transform(valid_gcn_omics[0])[:, :keep_dims]\n",
    "        gcn_test_omics = pca_gcn.transform(test_gcn_omics[0])[:, :keep_dims]\n",
    "    else:\n",
    "        combined_gcn_omics_train = np.hstack(train_gcn_omics)\n",
    "        # combined_gcn_omics_valid = np.hstack(valid_gcn_omics)\n",
    "        combined_gcn_omics_test = np.hstack(test_gcn_omics)\n",
    "        pca_gcn = PCA(n_components=combined_gcn_omics_train.shape[1])\n",
    "        pca_gcn.fit(combined_gcn_omics_train)\n",
    "        gcn_train_omics = pca_gcn.transform(combined_gcn_omics_train)[:, :keep_dims]\n",
    "        # gcn_valid_omics = pca_gcn.transform(combined_gcn_omics_valid)[:, :keep_dims]\n",
    "        gcn_test_omics = pca_gcn.transform(combined_gcn_omics_test)[:, :keep_dims]\n",
    "\n",
    "    # note that we are going to have the same drug embeddings, but the original EnKF has different embeddings from separately training the two networks - DualGCN and DeepCDR\n",
    "    # Let's include two methods for this for now, but need to discuss with Ved about this\n",
    "    \n",
    "    # cdr drugs\n",
    "    pca_cdr_drug = PCA(n_components=train_cdr_drug.shape[1])\n",
    "    pca_cdr_drug.fit(train_cdr_drug)\n",
    "    cdr_train_drugs = pca_cdr_drug.transform(train_cdr_drug)[:, :keep_dims]\n",
    "    # cdr_valid_drugs = pca_cdr_drug.transform(valid_cdr_drug)[:, :keep_dims]\n",
    "    cdr_test_drugs = pca_cdr_drug.transform(test_cdr_drug)[:, :keep_dims]\n",
    "\n",
    "\n",
    "    # gcn drugs\n",
    "    pca_gcn_drug = PCA(n_components=train_gcn_drug.shape[1])\n",
    "    pca_gcn_drug.fit(train_gcn_drug)\n",
    "    gcn_train_drugs = pca_gcn_drug.transform(train_gcn_drug)[:, :keep_dims]\n",
    "    # gcn_valid_drugs = pca_gcn_drug.transform(valid_gcn_drug)[:, :keep_dims]\n",
    "    gcn_test_drugs = pca_gcn_drug.transform(test_gcn_drug)[:, :keep_dims]\n",
    "\n",
    "    final_train = [cdr_train_drugs, cdr_train_omics, gcn_train_drugs, gcn_train_omics, y_train.astype(\"float32\")]\n",
    "    # final_valid = [cdr_valid_drugs, cdr_valid_omics, gcn_valid_drugs, gcn_valid_omics, y_valid.astype(\"float32\")]\n",
    "    final_test = [cdr_test_drugs, cdr_test_omics, gcn_test_drugs, gcn_test_omics, y_test.astype(\"float32\")]\n",
    "\n",
    "    return(final_train, final_test)"
   ]
  },
  {
   "cell_type": "code",
   "execution_count": 19,
   "id": "335cd958-d3c3-4f0a-8346-a6b0e1206dbe",
   "metadata": {},
   "outputs": [],
   "source": [
    "# let's do this without methylation and cnv data"
   ]
  },
  {
   "cell_type": "code",
   "execution_count": 20,
   "id": "58d6520f-cad4-4bd1-862a-0899f56b09bd",
   "metadata": {},
   "outputs": [],
   "source": [
    "train_cdr_omics = [cdr_train_gene, cdr_train_methyl, cdr_train_mut]\n",
    "train_gcn_omics = [gcn_train_cnv, gcn_train_gene]\n",
    "test_cdr_omics = [cdr_test_gene, cdr_test_methyl, cdr_test_mut]\n",
    "test_gcn_omics = [gcn_test_cnv, gcn_test_gene]\n",
    "train_cdr_drug = cdr_train_drugs\n",
    "test_cdr_drug = cdr_test_drugs\n",
    "train_gcn_drug = gcn_train_drugs\n",
    "test_gcn_drug = gcn_test_drugs"
   ]
  },
  {
   "cell_type": "code",
   "execution_count": 21,
   "id": "952a10a6-6bb1-4fbb-9543-5054e58b859c",
   "metadata": {},
   "outputs": [
    {
     "name": "stdout",
     "output_type": "stream",
     "text": [
      "CPU times: user 18.1 s, sys: 16.4 s, total: 34.4 s\n",
      "Wall time: 2.52 s\n"
     ]
    }
   ],
   "source": [
    "%%time\n",
    "train_list, test_list = extract_PCA(train_cdr_omics, train_gcn_omics, test_cdr_omics, test_gcn_omics, train_cdr_drug,  test_cdr_drug, train_gcn_drug,  test_gcn_drug, y_train, y_test, keep_dims = 100)"
   ]
  },
  {
   "cell_type": "code",
   "execution_count": 22,
   "id": "a56a7a59-e8c7-4b40-96de-af3142d4747e",
   "metadata": {},
   "outputs": [],
   "source": [
    "def get_targets_with_weights(batch_data, initial_ensembles, size_ens): \n",
    "    \n",
    "    target_dim = 1\n",
    "    \n",
    "    # weights_ann_1 = ann.get_weights()\n",
    "    \n",
    "    # h1  = ann.layers[1].output.shape[-1]\n",
    "\n",
    "    n_hidden_1 = len(weights_ann_1[0].ravel())\n",
    "    \n",
    "    hidden_weights_1 = initial_ensembles[:,:n_hidden_1].reshape( size_ens, batch_data.shape[1], h1)\n",
    "    \n",
    "    \n",
    "    hidden_output_1 = np.einsum('ij,kjl->kil', batch_data, hidden_weights_1)\n",
    "\n",
    "    \n",
    "    hidden_layer_bias_1 = initial_ensembles[:,n_hidden_1:(n_hidden_1 + h1)].reshape(size_ens, 1,  h1)\n",
    "\n",
    "\n",
    "    hidden_output_1 = hidden_output_1 + hidden_layer_bias_1\n",
    "\n",
    "    n_pred_weights_1 = len(weights_ann_1[2].ravel())\n",
    "\n",
    "    output_weights_1 = initial_ensembles[:,(n_hidden_1 + h1):(n_hidden_1 + h1 + n_pred_weights_1) ].reshape(size_ens, h1, target_dim)\n",
    "\n",
    "\n",
    "    output_1 = np.einsum('ijk,ikl->ijl', hidden_output_1, output_weights_1)\n",
    "\n",
    "\n",
    "    output_layer_bias_1 = initial_ensembles[:,(n_hidden_1 + h1 + n_pred_weights_1):(n_hidden_1 + h1 + n_pred_weights_1 + target_dim)].reshape(size_ens, 1, target_dim)\n",
    "\n",
    "\n",
    "    final_output_1 = output_1 + output_layer_bias_1\n",
    "    \n",
    "    final_output_1 = final_output_1[:,:, 0]\n",
    "    \n",
    "    # print(final_output_1.shape, initial_ensembles.shape)\n",
    "    \n",
    "    stack = np.hstack((final_output_1, initial_ensembles))\n",
    "\n",
    "    \n",
    "    return final_output_1, stack"
   ]
  },
  {
   "cell_type": "code",
   "execution_count": 23,
   "id": "e06f6361-ece8-40c7-ae02-f562b6f023fb",
   "metadata": {},
   "outputs": [],
   "source": [
    "def ann(hidden = 32, input_shape = 256, output_shape = 1): \n",
    "    input_layer = tf.keras.layers.Input(shape = (input_shape))\n",
    "    hidden_layer = tf.keras.layers.Dense(hidden)\n",
    "    hidden_output = hidden_layer(input_layer)\n",
    "    pred_layer = tf.keras.layers.Dense(output_shape, activation = \"relu\")\n",
    "    pred_output = pred_layer(hidden_output)\n",
    "#     pred_output = tf.keras.layers.Activation(\"softmax\")(pred_output)\n",
    "    model = tf.keras.models.Model(input_layer, pred_output)\n",
    "    return model"
   ]
  },
  {
   "cell_type": "code",
   "execution_count": 24,
   "id": "d2356abd-550a-4125-af88-ad8ff943ac80",
   "metadata": {},
   "outputs": [],
   "source": [
    "def generate_initial_ensembles(num_weights, lambda1, size_ens):\n",
    "    mean_vec = np.zeros((num_weights,))\n",
    "    cov_matrix = lambda1*np.identity(num_weights)\n",
    "    mvn_samp = mvn(mean_vec, cov_matrix)\n",
    "    return mvn_samp.rvs(size_ens)"
   ]
  },
  {
   "cell_type": "code",
   "execution_count": 25,
   "id": "7b4b76b4-080b-4330-9698-4527453b7a2a",
   "metadata": {},
   "outputs": [
    {
     "name": "stderr",
     "output_type": "stream",
     "text": [
      "2024-07-12 16:48:57.401437: I tensorflow/core/common_runtime/gpu/gpu_device.cc:1929] Created device /job:localhost/replica:0/task:0/device:GPU:0 with 31141 MB memory:  -> device: 0, name: Tesla V100S-PCIE-32GB, pci bus id: 0000:86:00.0, compute capability: 7.0\n"
     ]
    }
   ],
   "source": [
    "samp_ann =  ann(hidden = 8, input_shape = 100, output_shape = 1)"
   ]
  },
  {
   "cell_type": "code",
   "execution_count": 26,
   "id": "ece0c9d9-6984-4c61-926e-dea295a190d2",
   "metadata": {},
   "outputs": [],
   "source": [
    "weights_ann_1 = samp_ann.get_weights()"
   ]
  },
  {
   "cell_type": "code",
   "execution_count": 27,
   "id": "59640b1e-0b5d-4c28-a755-261b97d34da6",
   "metadata": {},
   "outputs": [],
   "source": [
    "h1  = samp_ann.layers[1].output.shape[-1]"
   ]
  },
  {
   "cell_type": "code",
   "execution_count": 28,
   "id": "b151337a-f442-4798-845e-7a9973ead263",
   "metadata": {},
   "outputs": [
    {
     "data": {
      "text/plain": [
       "8"
      ]
     },
     "execution_count": 28,
     "metadata": {},
     "output_type": "execute_result"
    }
   ],
   "source": [
    "h1"
   ]
  },
  {
   "cell_type": "code",
   "execution_count": 29,
   "id": "3fb3c0f7-7e94-46be-bd93-8637bec59da5",
   "metadata": {},
   "outputs": [
    {
     "data": {
      "text/plain": [
       "817"
      ]
     },
     "execution_count": 29,
     "metadata": {},
     "output_type": "execute_result"
    }
   ],
   "source": [
    "samp_ann.count_params()"
   ]
  },
  {
   "cell_type": "code",
   "execution_count": 30,
   "id": "de6b5e55-7fa8-41cc-980a-f64d88abe88f",
   "metadata": {},
   "outputs": [],
   "source": [
    "hidden_neurons = h1"
   ]
  },
  {
   "cell_type": "code",
   "execution_count": 31,
   "id": "fe60c6ae-fbbe-4a8f-aaa4-15558e919b7a",
   "metadata": {},
   "outputs": [],
   "source": [
    "samp_ann_params = samp_ann.count_params()"
   ]
  },
  {
   "cell_type": "code",
   "execution_count": 32,
   "id": "52ed7850-b4d3-4ac6-b4c6-856b0fc90a52",
   "metadata": {},
   "outputs": [],
   "source": [
    "def prepare_data_train(catch_train, idxes): \n",
    "    # idxes = random.sample(range(0, catch_train[0].shape[0]), k = size)\n",
    "    # idxes = list(idxes)\n",
    "    data1, data2, data3, data4 = catch_train[0][idxes,:], catch_train[1][idxes,:], catch_train[2][idxes,:], catch_train[3][idxes,:]\n",
    "    \n",
    "    y_train = catch_train[-1][idxes].reshape(-1,1)\n",
    "    \n",
    "    return data1, data2, data3, data4, y_train "
   ]
  },
  {
   "cell_type": "code",
   "execution_count": 33,
   "id": "0c8face5-0b7d-40b4-a9d8-aa09a664bdba",
   "metadata": {},
   "outputs": [],
   "source": [
    "def prepare_data_test( catch_test, size): \n",
    "    idxes = random.sample(range(0, catch_test[0].shape[0]), k = size)\n",
    "    idxes = list(idxes)\n",
    "    data1, data2, data3, data4 = catch_test[0][idxes,:], catch_test[1][idxes,:], catch_test[2][idxes,:], catch_test[3][idxes,:]\n",
    "    y_train = catch_test[-1][idxes].reshape(-1,1)\n",
    "    return data1, data2, data3, data4, y_train"
   ]
  },
  {
   "cell_type": "code",
   "execution_count": 34,
   "id": "effad424-8e5e-4576-bb16-054599a16279",
   "metadata": {},
   "outputs": [],
   "source": [
    "def prepare_data_valid( catch_valid, size): \n",
    "    idxes = random.sample(range(0, catch_valid[0].shape[0]), k = size)\n",
    "    idxes = list(idxes)\n",
    "    data1, data2, data3, data4 = catch_valid[0][idxes,:], catch_valid[1][idxes,:], catch_valid[2][idxes,:], catch_valid[3][idxes,:]\n",
    "    y_valid = catch_valid[-1][idxes].reshape(-1,1)\n",
    "    return data1, data2, data3, data4, y_valid"
   ]
  },
  {
   "cell_type": "code",
   "execution_count": 35,
   "id": "8527dd0e-82d6-45b6-941c-9ca4b80b50f7",
   "metadata": {},
   "outputs": [],
   "source": [
    "train_idxes = random.sample(range(0, train_list[0].shape[0]), k = train_list[0].shape[0])"
   ]
  },
  {
   "cell_type": "code",
   "execution_count": 36,
   "id": "0db35459-2da4-4833-b558-05c0471847f6",
   "metadata": {},
   "outputs": [],
   "source": [
    "data1_traina, data2_traina, data3_traina, data4_traina, y_traina =  prepare_data_train(train_list, train_idxes)"
   ]
  },
  {
   "cell_type": "code",
   "execution_count": 37,
   "id": "6fc2f059-0bdb-4a96-8304-1ffb80d7f22e",
   "metadata": {},
   "outputs": [],
   "source": [
    "data1_test, data2_test, data3_test, data4_test, y_test =  prepare_data_test(test_list, size = test_list[0].shape[0])"
   ]
  },
  {
   "cell_type": "code",
   "execution_count": 38,
   "id": "d9d78e0b-422f-41bb-8f21-cb488a804692",
   "metadata": {},
   "outputs": [],
   "source": [
    "def get_initial_X_t(data1, data2, data3, data4, size_ens, var_weights = 1.0, var_weight_weights = 4.0, var_L = 1.0, var_D = 1.0):\n",
    "    # samp_ann =  ann(hidden = hidden_neurons, input_shape = 32, output_shape = 1)\n",
    "    \n",
    "    initial_ensembles1 = generate_initial_ensembles(samp_ann_params, var_weights, size_ens)\n",
    "    data1_out1, data1_stack1 = get_targets_with_weights(data1, initial_ensembles1, size_ens = size_ens)\n",
    "    \n",
    "    initial_ensembles2 = generate_initial_ensembles(samp_ann_params, var_weights, size_ens)\n",
    "    data1_out2, data1_stack2 = get_targets_with_weights(data2, initial_ensembles2, size_ens = size_ens)\n",
    "    \n",
    "    initial_ensembles3 = generate_initial_ensembles(samp_ann_params, var_weights, size_ens)\n",
    "    data2_out1, data2_stack1 = get_targets_with_weights(data3, initial_ensembles3, size_ens = size_ens)\n",
    "    \n",
    "    initial_ensembles4 = generate_initial_ensembles(samp_ann_params, var_weights, size_ens)\n",
    "    data2_out2, data2_stack2 = get_targets_with_weights(data4, initial_ensembles4, size_ens = size_ens)   \n",
    "    \n",
    "    X_t = np.concatenate((np.expand_dims(data1_stack1, -1), np.expand_dims(data1_stack2, -1), \n",
    "                         np.expand_dims(data2_stack1, -1), np.expand_dims(data2_stack2, -1)), axis = -1)\n",
    "    \n",
    "    initial_ensembles_for_weights = generate_initial_ensembles(4, var_weight_weights, size_ens)\n",
    "    initial_ensembles_for_weights = np.expand_dims(initial_ensembles_for_weights,1)\n",
    "    \n",
    "    initial_ensembles_for_D1 = generate_initial_ensembles(1, var_D, size_ens).reshape(-1,1)\n",
    "    \n",
    "    initial_ensembles_for_D1_zero = np.zeros((size_ens,1,1)).reshape(-1,1)\n",
    "    initial_ensembles_for_D2_zero = np.zeros((size_ens,1,1)).reshape(-1,1)\n",
    "    \n",
    "    initial_ensembles_for_D3_zero = np.zeros((size_ens,1,1)).reshape(-1,1)\n",
    "    \n",
    "    initial_ensembles_for_D = np.concatenate((np.expand_dims(initial_ensembles_for_D1,1),\n",
    "                                                       np.expand_dims(initial_ensembles_for_D1_zero,1), \n",
    "                                                      np.expand_dims(initial_ensembles_for_D2_zero,1),\n",
    "                                                       np.expand_dims(initial_ensembles_for_D3_zero,1)), axis = 2)\n",
    "    \n",
    "    # print(X_t.shape, initial_ensembles_for_weights.shape)\n",
    "    \n",
    "    X_t = np.concatenate((X_t, initial_ensembles_for_weights, initial_ensembles_for_D), axis = 1)\n",
    "    \n",
    "    initial_ensembles = np.hstack((initial_ensembles1, initial_ensembles2, initial_ensembles3, initial_ensembles4))\n",
    "    \n",
    "    return X_t, initial_ensembles, initial_ensembles_for_weights[:,0,:], initial_ensembles_for_D[:,0,:]"
   ]
  },
  {
   "cell_type": "code",
   "execution_count": 39,
   "id": "fc80dc22-9d6c-4053-a2d9-b4bead0d9297",
   "metadata": {},
   "outputs": [],
   "source": [
    "def get_weighted_targets_with_weights(batch_data, initial_ensembles, size_ens, weights): \n",
    "    \n",
    "    target_dim = 1\n",
    "    \n",
    "\n",
    "    n_hidden_1 = len(weights_ann_1[0].ravel())\n",
    "    \n",
    "    hidden_weights_1 = initial_ensembles[:,:n_hidden_1].reshape( size_ens, batch_data.shape[1], h1)\n",
    "    \n",
    "    \n",
    "    hidden_output_1 = np.einsum('ij,kjl->kil', batch_data, hidden_weights_1)\n",
    "\n",
    "    \n",
    "    hidden_layer_bias_1 = initial_ensembles[:,n_hidden_1:(n_hidden_1 + h1)].reshape(size_ens, 1,  h1)\n",
    "\n",
    "\n",
    "    hidden_output_1 = hidden_output_1 + hidden_layer_bias_1\n",
    "\n",
    "    n_pred_weights_1 = len(weights_ann_1[2].ravel())\n",
    "\n",
    "    output_weights_1 = initial_ensembles[:,(n_hidden_1 + h1):(n_hidden_1 + h1 + n_pred_weights_1) ].reshape(size_ens, h1, target_dim)\n",
    "\n",
    "\n",
    "    output_1 = np.einsum('ijk,ikl->ijl', hidden_output_1, output_weights_1)\n",
    "\n",
    "\n",
    "    output_layer_bias_1 = initial_ensembles[:,(n_hidden_1 + h1 + n_pred_weights_1):(n_hidden_1 + h1 + n_pred_weights_1 + target_dim)].reshape(size_ens, 1, target_dim)\n",
    "\n",
    "\n",
    "    final_output_1 = output_1 + output_layer_bias_1\n",
    "    \n",
    "    final_output_1 = final_output_1[:,:, 0]\n",
    "    \n",
    "    final_output_1 = final_output_1*weights\n",
    "    \n",
    "    # print(final_output_1.shape, initial_ensembles.shape)\n",
    "    \n",
    "    stack = np.hstack((final_output_1, initial_ensembles))\n",
    "\n",
    "    \n",
    "    return final_output_1, stack"
   ]
  },
  {
   "cell_type": "code",
   "execution_count": 40,
   "id": "85c88cd0-66fa-4016-96c8-c36b23a6cf03",
   "metadata": {},
   "outputs": [],
   "source": [
    "from scipy.stats import beta"
   ]
  },
  {
   "cell_type": "code",
   "execution_count": 41,
   "id": "cee845a6-8064-4d6b-b152-75e19f23e76d",
   "metadata": {},
   "outputs": [],
   "source": [
    "fudging_beta = beta(1,9)"
   ]
  },
  {
   "cell_type": "code",
   "execution_count": 42,
   "id": "2b4351fa-cc0d-4322-9b31-372749f6c289",
   "metadata": {},
   "outputs": [],
   "source": [
    "def forward_operation(data1, data2, data3, data4, combined_ensembles , size_ens, fudging_beta):\n",
    "    # samp_ann =  ann(hidden = hidden_neurons, input_shape = 32, output_shape = 1)\n",
    "    params = samp_ann_params\n",
    "    initial_ensembles1 = combined_ensembles[:, :params]\n",
    "    initial_ensembles2 = combined_ensembles[:, params:(2*params)]\n",
    "    initial_ensembles3 = combined_ensembles[:, (2*params):(3*params)]\n",
    "    initial_ensembles4 = combined_ensembles[:, (3*params):(4*params)]\n",
    "\n",
    "    \n",
    "    initial_ensembles_for_weights = combined_ensembles[:, (4*params):(4*params + 4)]\n",
    "    \n",
    "    # initial_ensembles_for_L = combined_ensembles[:, (4*params + 4):(4*params + 4 + 4)]\n",
    "    \n",
    "    initial_ensembles_for_D = combined_ensembles[:,(4*params + 4):(4*params + 4 + 4 )]\n",
    "    \n",
    "    \n",
    "    softmax_weights = tf.math.softmax(initial_ensembles_for_weights).numpy()\n",
    "    \n",
    "    model_1 = softmax_weights[:, 0].reshape(-1,1) \n",
    "    \n",
    "    # model_1 = np.min(model_1 -fudging_factor)\n",
    "    \n",
    "    model_2 = softmax_weights[:, 1].reshape(-1,1) \n",
    "    \n",
    "    model_3 = softmax_weights[:, 2].reshape(-1,1) \n",
    "    \n",
    "    model_4 = softmax_weights[:, 3].reshape(-1,1)\n",
    "    \n",
    "    sum_weights = model_1 + model_2 + model_3 + model_4\n",
    "    \n",
    "    \n",
    "    # model_1_plus_model_2 = model_1 + model_2\n",
    "    \n",
    "    model_1 = model_1/sum_weights\n",
    "    \n",
    "    model_2 = model_2/sum_weights\n",
    "    \n",
    "    model_3 = model_3/sum_weights\n",
    "    \n",
    "    model_4 = model_4/sum_weights\n",
    "    \n",
    "    \n",
    "    # print(np.mean(model_1 + model_2))\n",
    "    \n",
    "    data1_out1, data1_stack1 = get_weighted_targets_with_weights(data1, initial_ensembles1, size_ens = size_ens,\n",
    "                                                                  weights=model_1)\n",
    "    \n",
    "    data1_out2, data1_stack2 = get_weighted_targets_with_weights(data2, initial_ensembles2, size_ens = size_ens,\n",
    "                                                                weights=model_2)\n",
    "    \n",
    "    data2_out1, data2_stack1 = get_weighted_targets_with_weights(data3, initial_ensembles3, size_ens = size_ens,\n",
    "                                                                 weights=model_3)\n",
    "    \n",
    "    data2_out2, data2_stack2 = get_weighted_targets_with_weights(data4, initial_ensembles4, size_ens = size_ens,\n",
    "                                                                  weights=model_4)   \n",
    "    \n",
    "    X_t = np.concatenate((np.expand_dims(data1_stack1, -1), np.expand_dims(data1_stack2, -1), \n",
    "                         np.expand_dims(data2_stack1, -1), np.expand_dims(data2_stack2, -1)), axis = -1)\n",
    "    \n",
    "    initial_ensembles = np.hstack((initial_ensembles1, initial_ensembles2, initial_ensembles3, initial_ensembles4, \n",
    "                        initial_ensembles_for_weights, initial_ensembles_for_D))\n",
    "    \n",
    "    # print(X_t.shape)\n",
    "    \n",
    "    initial_ensembles_for_weights = np.expand_dims(initial_ensembles_for_weights,1)\n",
    "    \n",
    "    # initial_ensembles_for_L = np.expand_dims(initial_ensembles_for_L,1)\n",
    "    \n",
    "    initial_ensembles_for_D = np.expand_dims(initial_ensembles_for_D,1)\n",
    "    \n",
    "    # print(initial_ensembles_for_weights.shape)\n",
    "    \n",
    "    X_t = np.concatenate((X_t, initial_ensembles_for_weights, initial_ensembles_for_D), axis = 1)\n",
    "    \n",
    "    final_output = data1_out1 + data1_out2 + data2_out1 + data2_out2\n",
    "    \n",
    "    # weighted_psa = data1_out2 + data2_out2\n",
    "    \n",
    "    return X_t, initial_ensembles,final_output, model_1, model_2, model_3, model_4"
   ]
  },
  {
   "cell_type": "code",
   "execution_count": 43,
   "id": "86268a3f-c79f-4113-a37d-b9477677785b",
   "metadata": {},
   "outputs": [],
   "source": [
    "def forward_operation_test(data1, data2, data3, data4, combined_ensembles , size_ens):\n",
    "    # samp_ann =  ann(hidden = hidden_neurons, input_shape = 32, output_shape = 1)\n",
    "    params = samp_ann_params\n",
    "    initial_ensembles1 = combined_ensembles[:, :params]\n",
    "    initial_ensembles2 = combined_ensembles[:, params:(2*params)]\n",
    "    initial_ensembles3 = combined_ensembles[:, (2*params):(3*params)]\n",
    "    initial_ensembles4 = combined_ensembles[:, (3*params):(4*params)]\n",
    "\n",
    "    \n",
    "    initial_ensembles_for_weights = combined_ensembles[:, (4*params):(4*params + 4)]\n",
    "    \n",
    "    initial_ensembles_for_D = combined_ensembles[:,(4*params + 4):(4*params + 4 + 4)]\n",
    "    \n",
    "    \n",
    "    softmax_weights = tf.math.softmax(initial_ensembles_for_weights).numpy()\n",
    "    \n",
    "    model_1 = softmax_weights[:, :1].reshape(-1,1) \n",
    "    \n",
    "    # model_1 = np.min(model_1 -fudging_factor)\n",
    "    \n",
    "    model_2 = softmax_weights[:, 1:2].reshape(-1,1) \n",
    "    \n",
    "    model_3 = softmax_weights[:, 2:3].reshape(-1,1)\n",
    "    \n",
    "    model_4 = softmax_weights[:, 3:4].reshape(-1,1)\n",
    "    \n",
    "    sum_weights = model_1 + model_2 + model_3 + model_4\n",
    "    \n",
    "    \n",
    "    # model_1_plus_model_2 = model_1 + model_2\n",
    "    \n",
    "    model_1 = model_1/sum_weights\n",
    "    \n",
    "    model_2 = model_2/sum_weights\n",
    "    \n",
    "    model_3 = model_3/sum_weights\n",
    "    \n",
    "    model_4 = model_4/sum_weights\n",
    "    \n",
    "    data1_out1, data1_stack1 = get_weighted_targets_with_weights(data1, initial_ensembles1, size_ens = size_ens,\n",
    "                                                                  weights=model_1)\n",
    "    \n",
    "    data1_out2, data1_stack2 = get_weighted_targets_with_weights(data2, initial_ensembles2, size_ens = size_ens,\n",
    "                                                                weights=model_2)\n",
    "    \n",
    "    data2_out1, data2_stack1 = get_weighted_targets_with_weights(data3, initial_ensembles3, size_ens = size_ens,\n",
    "                                                                 weights=model_3)\n",
    "    \n",
    "    data2_out2, data2_stack2 = get_weighted_targets_with_weights(data4, initial_ensembles4, size_ens = size_ens,\n",
    "                                                                  weights=model_4)   \n",
    "    \n",
    "    X_t = np.concatenate((np.expand_dims(data1_stack1, -1), np.expand_dims(data1_stack2, -1), \n",
    "                         np.expand_dims(data2_stack1, -1), np.expand_dims(data2_stack2, -1)), axis = -1)\n",
    "    \n",
    "    initial_ensembles = np.hstack((initial_ensembles1, initial_ensembles2, initial_ensembles3, initial_ensembles4, \n",
    "                        initial_ensembles_for_weights, initial_ensembles_for_D))\n",
    "    \n",
    "    # print(X_t.shape)\n",
    "    \n",
    "    initial_ensembles_for_weights = np.expand_dims(initial_ensembles_for_weights,1)\n",
    "    \n",
    "    # initial_ensembles_for_L = np.expand_dims(initial_ensembles_for_L,1)\n",
    "    \n",
    "    initial_ensembles_for_D = np.expand_dims(initial_ensembles_for_D,1)\n",
    "    \n",
    "    # print(initial_ensembles_for_weights.shape)\n",
    "    \n",
    "    X_t = np.concatenate((X_t, initial_ensembles_for_weights, initial_ensembles_for_D), axis = 1)\n",
    "    \n",
    "    final_output = data1_out1 + data1_out2 + data2_out1 + data2_out2\n",
    "    \n",
    "    return X_t, initial_ensembles, final_output, model_1, model_2, model_3, model_4"
   ]
  },
  {
   "cell_type": "code",
   "execution_count": 44,
   "id": "d2f0d887-4ffa-4835-975b-b934518dcf41",
   "metadata": {},
   "outputs": [],
   "source": [
    "total_weights = 4*(samp_ann.count_params() + 1 + 1)"
   ]
  },
  {
   "cell_type": "code",
   "execution_count": 45,
   "id": "70aae74a-10f9-4eb2-af96-aa05ca0b20ed",
   "metadata": {},
   "outputs": [],
   "source": [
    "reduction = 50"
   ]
  },
  {
   "cell_type": "code",
   "execution_count": 46,
   "id": "3c5d4efa-492f-48f2-91ed-7ccb0737709c",
   "metadata": {},
   "outputs": [],
   "source": [
    "size_ens = total_weights//reduction\n",
    "# total_weights//reduction"
   ]
  },
  {
   "cell_type": "code",
   "execution_count": 47,
   "id": "0b30af87-02ce-40dc-a0cf-c798f593e9f0",
   "metadata": {},
   "outputs": [
    {
     "data": {
      "text/plain": [
       "65"
      ]
     },
     "execution_count": 47,
     "metadata": {},
     "output_type": "execute_result"
    }
   ],
   "source": [
    "size_ens"
   ]
  },
  {
   "cell_type": "code",
   "execution_count": 48,
   "id": "90a13254-46d6-48af-b55a-40e00f2f0461",
   "metadata": {},
   "outputs": [],
   "source": [
    "G_t = [[1, 1, 1, 1]]\n",
    "G_t = np.array(G_t).T"
   ]
  },
  {
   "cell_type": "code",
   "execution_count": 49,
   "id": "6b752952-64f8-42b1-a8ba-df450facf0ed",
   "metadata": {},
   "outputs": [
    {
     "data": {
      "text/plain": [
       "(4, 1)"
      ]
     },
     "execution_count": 49,
     "metadata": {},
     "output_type": "execute_result"
    }
   ],
   "source": [
    "G_t.shape"
   ]
  },
  {
   "cell_type": "code",
   "execution_count": 50,
   "id": "acaf4bb8-856e-4823-a436-f00728c77ee7",
   "metadata": {},
   "outputs": [],
   "source": [
    "def get_predictions(data1, data2, data3, data4, initial_ensembles, fudging_beta  =fudging_beta): \n",
    "    _,_, weighted_alogp, w1, w2, w3, w4 = forward_operation(data1, data2, data3, data4, initial_ensembles, size_ens = size_ens, fudging_beta = fudging_beta)\n",
    "    return weighted_alogp, w1, w2, w3, w4"
   ]
  },
  {
   "cell_type": "code",
   "execution_count": 51,
   "id": "7736e80f-9c3f-4d20-8ac1-2b143692b3a4",
   "metadata": {},
   "outputs": [],
   "source": [
    "def get_predictions_test(data1, data2, data3, data4, initial_ensembles): \n",
    "    _,_, weighted_alogp, w1, w2, w3, w4 = forward_operation_test(data1, data2, data3, data4, initial_ensembles, size_ens = size_ens)\n",
    "    return weighted_alogp, w1, w2, w3, w4"
   ]
  },
  {
   "cell_type": "code",
   "execution_count": 52,
   "id": "5f1496ca-99a3-4e44-ac35-3f7e760d1c2a",
   "metadata": {},
   "outputs": [],
   "source": [
    "def calculate_mu_bar_G_bar(data1, data2, data3, data4, initial_ensembles, fudging_beta):\n",
    "    H_t = np.hstack((np.identity(data1.shape[0]), np.zeros((data1.shape[0], samp_ann_params + 1  + 1))))\n",
    "    mu_bar = initial_ensembles.mean(0)\n",
    "    X_t, _,_, _, _, _, _ = forward_operation(data1, data2, data3, data4, initial_ensembles, size_ens = size_ens, fudging_beta = fudging_beta)\n",
    "    X_t = X_t.transpose((0,2,1))\n",
    "    X_t = X_t.reshape(X_t.shape[0], X_t.shape[1]*X_t.shape[2])\n",
    "    script_H_t = np.kron(G_t.T, H_t)\n",
    "    G_u = (script_H_t@X_t.T)\n",
    "    G_u = G_u.T\n",
    "    G_bar = (G_u.mean(0)).ravel()\n",
    "    return mu_bar.reshape(-1,1), G_bar.reshape(-1,1), G_u"
   ]
  },
  {
   "cell_type": "code",
   "execution_count": 53,
   "id": "6efd3bba-f580-42da-90dc-9b202d569dc1",
   "metadata": {},
   "outputs": [],
   "source": [
    "def calculate_C_u(initial_ensembles, mu_bar, G_bar, G_u): \n",
    "    u_j_minus_u_bar = initial_ensembles - mu_bar.reshape(1,-1)\n",
    "    G_u_minus_G_bar = G_u -  G_bar.reshape(1,-1)\n",
    "    c = np.zeros((total_weights, G_bar.shape[0]))\n",
    "    for i in range(0, size_ens): \n",
    "        c += np.kron(u_j_minus_u_bar[i, :].T.reshape(-1,1), G_u_minus_G_bar[i,:].reshape(-1,1).T)\n",
    "    return c/size_ens, G_u_minus_G_bar"
   ]
  },
  {
   "cell_type": "code",
   "execution_count": 54,
   "id": "4a515de7-b132-4321-9c23-3f815a60bd09",
   "metadata": {},
   "outputs": [],
   "source": [
    "def calculate_D_u( G_bar, G_u): \n",
    "    G_u_minus_G_bar = G_u -  G_bar.reshape(1,-1)\n",
    "    d = np.zeros((G_bar.shape[0], G_bar.shape[0]))\n",
    "    for i in range(0, size_ens): \n",
    "        d += np.kron(G_u_minus_G_bar[i,:].T.reshape(-1,1), G_u_minus_G_bar[i,:].reshape(-1,1).T)\n",
    "    return d/size_ens"
   ]
  },
  {
   "cell_type": "code",
   "execution_count": 55,
   "id": "92499fd5-fba1-47e3-84bc-110ac10458e6",
   "metadata": {},
   "outputs": [],
   "source": [
    "target_dim = 1"
   ]
  },
  {
   "cell_type": "code",
   "execution_count": 56,
   "id": "c3e6f401-00ee-492f-9040-4683e5b13cb2",
   "metadata": {},
   "outputs": [],
   "source": [
    "lambda_D = 1"
   ]
  },
  {
   "cell_type": "code",
   "execution_count": 57,
   "id": "8d93ef6f-e67c-4c72-9dd5-b67bbfbeb9f3",
   "metadata": {},
   "outputs": [],
   "source": [
    "def create_cov(shape, initial_ensembles):\n",
    "    cov_part = initial_ensembles[:, -4:-3]\n",
    "    cov_part = cov_part.mean(0)\n",
    "    variances1 = tf.math.softplus(cov_part).numpy()\n",
    "    n = shape\n",
    "    return variances1, np.identity(n)*variances1"
   ]
  },
  {
   "cell_type": "code",
   "execution_count": 58,
   "id": "c93be2ed-5253-487f-9a08-e27e8b0add4a",
   "metadata": {},
   "outputs": [],
   "source": [
    "def get_updated_ensemble(data1, data2, data3, data4, initial_ensembles, y_train, size_ens = size_ens, inflation_factor = 1.0, fudging_beta = fudging_beta, \n",
    "                        fudging_var = None):\n",
    "    mu_bar, G_bar, G_u = calculate_mu_bar_G_bar(data1, data2, data3, data4, initial_ensembles, fudging_beta)\n",
    "    C, G_u_minus_G_bar = calculate_C_u(initial_ensembles, mu_bar, G_bar, G_u)\n",
    "    D = calculate_D_u( G_bar, G_u)\n",
    "    _, R_t = create_cov(data1.shape[0],initial_ensembles)\n",
    "    inflation = np.identity(R_t.shape[0])*inflation_factor\n",
    "    D_plus_cov = D + (R_t *inflation_factor)\n",
    "    D_plus_cov_inv = np.linalg.inv(D_plus_cov)\n",
    "    mid_quant = C@D_plus_cov_inv\n",
    "    noise_vec_mean = np.zeros((R_t.shape[0], ))\n",
    "    noise_mvn = mvn(noise_vec_mean, R_t)\n",
    "    fudging = noise_mvn.rvs(size_ens)\n",
    "    interim = (y_train.T.flatten().reshape(1,-1) + fudging)\n",
    "    right_quant = interim - G_u\n",
    "    mid_times_right = mid_quant@right_quant.T\n",
    "    updated_ensemble = (initial_ensembles + mid_times_right.T)\n",
    "    if fudging_var is not None: \n",
    "        mean_vec = np.zeros((updated_ensemble.shape[1],))\n",
    "        cov_mat = np.identity(updated_ensemble.shape[1])*fudging_var\n",
    "        fudging_for_updated_ensembles = mvn(mean_vec, cov_mat)\n",
    "        fudging_for_updated_ensembles_vec = fudging_for_updated_ensembles.rvs(size_ens)\n",
    "        updated_ensemble = updated_ensemble + fudging_for_updated_ensembles_vec\n",
    "    return updated_ensemble"
   ]
  },
  {
   "cell_type": "code",
   "execution_count": 59,
   "id": "9b6e972d-a753-4573-9e0b-d0ff39153cf6",
   "metadata": {},
   "outputs": [],
   "source": [
    "from joblib import Parallel, delayed"
   ]
  },
  {
   "cell_type": "code",
   "execution_count": 60,
   "id": "bf4e9bef-2ccd-4eea-9605-6a2d093b11e5",
   "metadata": {},
   "outputs": [],
   "source": [
    "# idx = 1"
   ]
  },
  {
   "cell_type": "code",
   "execution_count": 61,
   "id": "4ddca8b2-f652-400b-aca6-cd69c3d905f2",
   "metadata": {},
   "outputs": [],
   "source": [
    "from scipy.stats import pearsonr"
   ]
  },
  {
   "cell_type": "code",
   "execution_count": 62,
   "id": "955eb992-d51a-47b5-b415-cd5985fe5635",
   "metadata": {},
   "outputs": [],
   "source": [
    "def chunks(lst, n):\n",
    "    \"\"\"Yield successive n-sized chunks from lst.\"\"\"\n",
    "    for i in range(0, len(lst), n):\n",
    "        yield lst[i:i + n]"
   ]
  },
  {
   "cell_type": "code",
   "execution_count": 63,
   "id": "faaef778-bcbb-45dc-86b0-8e257d16e410",
   "metadata": {},
   "outputs": [],
   "source": [
    "batch_size = 2500"
   ]
  },
  {
   "cell_type": "code",
   "execution_count": 64,
   "id": "06f1c4b3-9ce0-4d9f-99fc-727fd601d2ee",
   "metadata": {},
   "outputs": [],
   "source": [
    "import random"
   ]
  },
  {
   "cell_type": "code",
   "execution_count": 65,
   "id": "e27b9423-6645-4f9b-9d58-12c7269960dc",
   "metadata": {},
   "outputs": [],
   "source": [
    "def get_results(idx, var_weights = 1.0, var_weight_weights = 1.0, var_D = 0.01, inflation_factor = 1.6, fudging_beta = beta(1,19), \n",
    "               fudging_var = 1e-3, print_true = True):\n",
    "    \n",
    "    # smiles_feats_train, rdkit_feats_train, smiles_feats_valid, rdkit_feats_valid, y_train, y_train_actual, y_valid, y_valid_actual, initial_ensembles  = prepare_data(idx, var_weights = var_weights, var_weight_weights =var_weight_weights, var_L = var_L, var_D = var_D)\n",
    "    \n",
    "\n",
    "    train_rmse = []\n",
    "    test_rmse = []\n",
    "    # print(\"done initializing\")\n",
    "    \n",
    "    w1_catch = []\n",
    "    w2_catch = []\n",
    "    w3_catch = []\n",
    "    w4_catch = []\n",
    "    \n",
    "    \n",
    "    train_idxes = random.sample(range(0, train_list[0].shape[0]), k = train_list[0].shape[0])\n",
    "    \n",
    "    train_chunks = list(chunks(train_idxes, batch_size))\n",
    "    \n",
    "    best_rmse_train = 10000\n",
    "    \n",
    "    data1_train, data2_train, data3_train, data4_train, y_train = prepare_data_train(train_list, train_chunks[0])\n",
    "    \n",
    "    _, initial_ensembles, initial_ensembles_for_weights, initial_ensembles_for_D = get_initial_X_t(data1_train, data2_train, data3_train, data4_train,\n",
    "                                                                                                 size_ens = size_ens, var_weights = var_weights,\n",
    "                                                                                                var_weight_weights = var_weight_weights,\n",
    "                                                                                                             var_D = var_D)\n",
    "    \n",
    "    initial_ensembles = np.hstack((initial_ensembles, initial_ensembles_for_weights, initial_ensembles_for_D))\n",
    "    patience = 0\n",
    "    \n",
    "    for i in range(0,300):\n",
    "        \n",
    "        train_chunks = random.sample(train_chunks, len(train_chunks))\n",
    "        \n",
    "        if print_true == True:\n",
    "            print(\"epoch number is \" +str(i))\n",
    "        \n",
    "        for chunk in (train_chunks):\n",
    "        \n",
    "            data1_train, data2_train, data3_train, data4_train, y_train = prepare_data_train(train_list, chunk)\n",
    "\n",
    "            initial_ensembles = get_updated_ensemble(data1_train, data2_train, data3_train, data4_train, initial_ensembles, y_train, size_ens = size_ens,\n",
    "                                                 inflation_factor = inflation_factor, fudging_beta = fudging_beta, fudging_var = fudging_var)\n",
    "        \n",
    "            G_u_train, w1, w2, w3, w4 = get_predictions(data1_traina, data2_traina, data3_traina, data4_traina, initial_ensembles, fudging_beta)\n",
    "    \n",
    "            li_train = np.percentile(G_u_train, axis = 0, q = (2.5, 97.5))[0,:].reshape(-1,1)    \n",
    "            ui_train = np.percentile(G_u_train, axis = 0, q = (2.5, 97.5))[1,:].reshape(-1,1)  \n",
    "    \n",
    "            width_train = ui_train - li_train\n",
    "            avg_width_train = width_train.mean(0)[0]\n",
    "    \n",
    "            ind_train = (y_traina >= li_train) & (y_traina <= ui_train)\n",
    "            coverage_train= ind_train.mean(0)[0]\n",
    "    \n",
    "            averaged_targets_train = G_u_train.mean(0).reshape(-1,1)\n",
    "            rmse_train = np.sqrt(((y_traina -averaged_targets_train)**2).mean(0))[0]\n",
    "        \n",
    "            pearsonr_train = pearsonr(averaged_targets_train.reshape(averaged_targets_train.shape[0],), \n",
    "                                 y_traina.reshape(y_traina.shape[0],))\n",
    "        \n",
    "            r_train = pearsonr_train[0]\n",
    "    \n",
    "            G_u_test, _, _, _, _ = get_predictions_test(data1_test, data2_test, data3_test, data4_test, initial_ensembles)\n",
    "    \n",
    "\n",
    "    \n",
    "            li_test = np.percentile(G_u_test, axis = 0, q = (2.5, 97.5))[0,:].reshape(-1,1)     \n",
    "            ui_test = np.percentile(G_u_test, axis = 0, q = (2.5, 97.5))[1,:].reshape(-1,1)   \n",
    "    \n",
    "            width_test = ui_test - li_test\n",
    "            avg_width_test = width_test.mean(0)[0]\n",
    "    \n",
    "            ind_test = (y_test >= li_test) & (y_test <= ui_test)\n",
    "            coverage_test= ind_test.mean(0)[0]\n",
    "    \n",
    "            averaged_targets_test = G_u_test.mean(0).reshape(-1,1)\n",
    "            rmse_test = np.sqrt(((y_test -averaged_targets_test)**2).mean(0))[0]  \n",
    "        \n",
    "            pearsonr_test = pearsonr(averaged_targets_test.reshape(averaged_targets_test.shape[0],), \n",
    "                                 y_test.reshape(y_test.shape[0],))\n",
    "        \n",
    "            r_test = pearsonr_test[0]\n",
    "            \n",
    "            train_rmse.append(rmse_train)\n",
    "            \n",
    "            test_rmse.append(rmse_test)\n",
    "            \n",
    "            \n",
    "            if print_true == True:\n",
    "                print(\"Training Coverage, Widths, RMSE, and Pearson R\")\n",
    "                print(coverage_train, avg_width_train, rmse_train, r_train)\n",
    "                print(\"Testing Coverage, Widths, RMSE, and Pearson R\")\n",
    "                print(coverage_test, avg_width_test, rmse_test, r_test)\n",
    "                print(\"Weight 1 Stats\")\n",
    "                print(w1.mean(), w1.std())\n",
    "                print(\"Weight 2 Stats\")\n",
    "                print(w2.mean(), w2.std())\n",
    "                print(\"Weight 3 Stats\")\n",
    "                print(w3.mean(), w3.std())\n",
    "                print(\"Weight 4 Stats\")\n",
    "                print(w4.mean(), w4.std())\n",
    "            \n",
    "            w1_catch.append([w1.mean(), w1.std()])\n",
    "            w2_catch.append([w2.mean(), w2.std()])\n",
    "            w3_catch.append([w3.mean(), w3.std()])\n",
    "            w4_catch.append([w4.mean(), w4.std()])\n",
    "            \n",
    "\n",
    "            if (rmse_train < best_rmse_train): \n",
    "                best_pearsonr_train = r_train\n",
    "            # print(\"went here\")\n",
    "                best_train_width_mean = avg_width_train.mean()\n",
    "                best_train_width = avg_width_train\n",
    "                # best_smiles_weight = w1.mean()\n",
    "                best_coverage_train = coverage_train\n",
    "                best_rmse_train = rmse_train\n",
    "                best_pearson_r = r_test\n",
    "                best_test_width = avg_width_test\n",
    "\n",
    "                best_coverage_test = coverage_test    \n",
    "                best_rmse_test = rmse_test\n",
    "                patience = 0\n",
    "                best_ensembles = initial_ensembles\n",
    "                \n",
    "                best_w1_weight = w1.mean()\n",
    "                best_w2_weight = w2.mean()\n",
    "                best_w3_weight = w3.mean()\n",
    "                best_w4_weight = w4.mean()\n",
    "                \n",
    "                best_test_preds = averaged_targets_test\n",
    "                best_li = li_test\n",
    "                best_ui = ui_test\n",
    "                \n",
    "                best_residuals = (y_test -averaged_targets_test)\n",
    "            \n",
    "            else:\n",
    "                patience = patience + 1\n",
    "            \n",
    "            if print_true == True:\n",
    "                print(\"Patience is\")\n",
    "                print(patience)\n",
    "                print('\\n')\n",
    "        \n",
    "            if patience > threshold:\n",
    "                # print(\"train_coverage\" + str(best_coverage_train), flush = True)\n",
    "                print(\"test_coverage\" + str(best_coverage_test), flush = True)\n",
    "                # print(\"train_width\" + str(best_train_width.tolist()), flush = True)\n",
    "                print(\"test_width\" + str(best_test_width), flush = True)\n",
    "                # print(\"smiles_weight\" + str(best_smiles_weight), flush = True)\n",
    "                # print(\"rmse_train\" + str(best_rmse_train.tolist()), flush = True)\n",
    "                print(\"rmse_test\" + str(best_rmse_test), flush = True)\n",
    "                print(\"pearson_r_test\" + str(best_pearson_r), flush = True)\n",
    "                weights = [best_w1_weight, best_w2_weight, best_w3_weight, best_w4_weight]\n",
    "                print(\"weights\", flush = True)\n",
    "                print(weights, flush = True)\n",
    "                print('\\n', flush = True)\n",
    "                # print(\"smiles_weight_ci\" + str([best_li_smiles_weight, best_ui_smiles_weight]), flush = True)\n",
    "                test_preds = ui_test\n",
    "            \n",
    "                return [best_train_width, best_coverage_train, best_rmse_train, best_test_width, best_coverage_test, best_rmse_test, best_pearson_r, best_ensembles, train_rmse, test_rmse, w1_catch, w2_catch, w3_catch, w4_catch, best_w1_weight, best_w2_weight, best_w3_weight, best_w4_weight, best_test_preds, best_li, best_ui, best_residuals]\n"
   ]
  },
  {
   "cell_type": "markdown",
   "id": "fbc39299-8cc3-462e-af6a-8d7113552bff",
   "metadata": {},
   "source": [
    "## can tune the threshold here"
   ]
  },
  {
   "cell_type": "code",
   "execution_count": 66,
   "id": "b3e4e08d-4a33-40f3-accf-dff4e7df9c4f",
   "metadata": {},
   "outputs": [],
   "source": [
    "threshold = 10"
   ]
  },
  {
   "cell_type": "code",
   "execution_count": 67,
   "id": "7b241405-dc53-4e22-bdc9-8ace62eca32b",
   "metadata": {},
   "outputs": [
    {
     "name": "stdout",
     "output_type": "stream",
     "text": [
      "epoch number is 0\n",
      "Training Coverage, Widths, RMSE, and Pearson R\n",
      "0.14708939708939708 1.8103741475952737 3.674296302496111 -0.20024439463672264\n",
      "Testing Coverage, Widths, RMSE, and Pearson R\n",
      "0.14743589743589744 1.797093452364447 3.6626797426926494 -0.18713141342565734\n",
      "Weight 1 Stats\n",
      "0.20540950718938183 0.02062732049052061\n",
      "Weight 2 Stats\n",
      "0.24278061349584099 0.022572907493972613\n",
      "Weight 3 Stats\n",
      "0.25486527231270845 0.02391862953498154\n",
      "Weight 4 Stats\n",
      "0.29694460700206876 0.027942860390106867\n",
      "Patience is\n",
      "0\n",
      "\n",
      "\n",
      "Training Coverage, Widths, RMSE, and Pearson R\n",
      "0.279019404019404 2.458401286995375 2.8789675671819737 0.25081531496321163\n",
      "Testing Coverage, Widths, RMSE, and Pearson R\n",
      "0.2758142758142758 2.452111388459497 2.8348704031108736 0.2810236009512236\n",
      "Weight 1 Stats\n",
      "0.22220066155171078 0.02943984097676486\n",
      "Weight 2 Stats\n",
      "0.1923320232314939 0.0190668202849639\n",
      "Weight 3 Stats\n",
      "0.3874764194425347 0.03606142082127719\n",
      "Weight 4 Stats\n",
      "0.19799089577426054 0.022850672328005427\n",
      "Patience is\n",
      "0\n",
      "\n",
      "\n",
      "Training Coverage, Widths, RMSE, and Pearson R\n",
      "0.3523042273042273 2.27178186544687 2.2876951017661264 0.6327370666708418\n",
      "Testing Coverage, Widths, RMSE, and Pearson R\n",
      "0.3551628551628552 2.2591131088041796 2.2547159547396425 0.6423121553883365\n",
      "Weight 1 Stats\n",
      "0.13381789239024158 0.015904201743295734\n",
      "Weight 2 Stats\n",
      "0.14795912714004059 0.019911085166023672\n",
      "Weight 3 Stats\n",
      "0.47373987104803505 0.035248769278193384\n",
      "Weight 4 Stats\n",
      "0.24448310942168275 0.02425342200724235\n",
      "Patience is\n",
      "0\n",
      "\n",
      "\n",
      "Training Coverage, Widths, RMSE, and Pearson R\n",
      "0.5434857934857935 2.3682037669738882 1.6666672990423246 0.8280183239857621\n",
      "Testing Coverage, Widths, RMSE, and Pearson R\n",
      "0.5417532917532918 2.363959180175692 1.6600296755737574 0.8237434835274591\n",
      "Weight 1 Stats\n",
      "0.08843871208677229 0.009812357152886848\n",
      "Weight 2 Stats\n",
      "0.10225073781471825 0.012805160247898672\n",
      "Weight 3 Stats\n",
      "0.5894509011789633 0.03115041048890599\n",
      "Weight 4 Stats\n",
      "0.2198596489195463 0.024244208358472297\n",
      "Patience is\n",
      "0\n",
      "\n",
      "\n",
      "Training Coverage, Widths, RMSE, and Pearson R\n",
      "0.6067221067221067 2.5183714860846202 1.528863014409454 0.8503714409220102\n",
      "Testing Coverage, Widths, RMSE, and Pearson R\n",
      "0.5935550935550935 2.5017120430420734 1.5456386058176037 0.8429162560056344\n",
      "Weight 1 Stats\n",
      "0.08551333927440971 0.010992492044709949\n",
      "Weight 2 Stats\n",
      "0.1183123416095951 0.01357904791549252\n",
      "Weight 3 Stats\n",
      "0.5956980644337864 0.03596905092495508\n",
      "Weight 4 Stats\n",
      "0.2004762546822088 0.025365859561469428\n",
      "Patience is\n",
      "0\n",
      "\n",
      "\n",
      "epoch number is 1\n",
      "Training Coverage, Widths, RMSE, and Pearson R\n",
      "0.6177234927234927 2.527854566980941 1.497540864140899 0.8614340298826174\n",
      "Testing Coverage, Widths, RMSE, and Pearson R\n",
      "0.612959112959113 2.5212652346350217 1.5186015226630953 0.8528867465244495\n",
      "Weight 1 Stats\n",
      "0.0615326432371983 0.007979463203060422\n",
      "Weight 2 Stats\n",
      "0.06700851285792571 0.009205057011832048\n",
      "Weight 3 Stats\n",
      "0.7395862408200085 0.02486951027546677\n",
      "Weight 4 Stats\n",
      "0.13187260308486756 0.01739795805598803\n",
      "Patience is\n",
      "0\n",
      "\n",
      "\n",
      "Training Coverage, Widths, RMSE, and Pearson R\n",
      "0.6941268191268192 2.8592716900040838 1.4366251801767427 0.8639931114291766\n",
      "Testing Coverage, Widths, RMSE, and Pearson R\n",
      "0.689015939015939 2.8479794178293156 1.4545649640479814 0.857409385875935\n",
      "Weight 1 Stats\n",
      "0.06450967687718487 0.0076396686369542355\n",
      "Weight 2 Stats\n",
      "0.07633203143305338 0.011580133189331298\n",
      "Weight 3 Stats\n",
      "0.7312432352073405 0.02761609705957228\n",
      "Weight 4 Stats\n",
      "0.1279150564824214 0.01876024915291465\n",
      "Patience is\n",
      "0\n",
      "\n",
      "\n",
      "Training Coverage, Widths, RMSE, and Pearson R\n",
      "0.7342342342342343 3.132954302217457 1.4059060128450724 0.8706530426821656\n",
      "Testing Coverage, Widths, RMSE, and Pearson R\n",
      "0.7302494802494802 3.123712770869094 1.4263127913018674 0.8636758443004378\n",
      "Weight 1 Stats\n",
      "0.04265383475256354 0.005670141683888198\n",
      "Weight 2 Stats\n",
      "0.05806417001092826 0.007452964072720959\n",
      "Weight 3 Stats\n",
      "0.8174305039399904 0.02030522921502415\n",
      "Weight 4 Stats\n",
      "0.08185149129651788 0.012864754895232196\n",
      "Patience is\n",
      "0\n",
      "\n",
      "\n",
      "Training Coverage, Widths, RMSE, and Pearson R\n",
      "0.7417706167706167 3.1696733526130902 1.4005485943846279 0.8705569147759813\n",
      "Testing Coverage, Widths, RMSE, and Pearson R\n",
      "0.7382189882189882 3.1535923950207234 1.4246106090587676 0.8630206926923495\n",
      "Weight 1 Stats\n",
      "0.037405813056341566 0.004682911681585548\n",
      "Weight 2 Stats\n",
      "0.059825889005360205 0.009963303815722354\n",
      "Weight 3 Stats\n",
      "0.833648942194422 0.018192042941110036\n",
      "Weight 4 Stats\n",
      "0.06911935574387618 0.008372579125613351\n",
      "Patience is\n",
      "0\n",
      "\n",
      "\n",
      "Training Coverage, Widths, RMSE, and Pearson R\n",
      "0.7432432432432432 3.1838562080064663 1.388709446983231 0.872377393039551\n",
      "Testing Coverage, Widths, RMSE, and Pearson R\n",
      "0.7396049896049897 3.164235748239441 1.4182014631555002 0.8639922645093744\n",
      "Weight 1 Stats\n",
      "0.03578901833789526 0.004816881376524076\n",
      "Weight 2 Stats\n",
      "0.05055466482938923 0.007953390840101517\n",
      "Weight 3 Stats\n",
      "0.8380371544063289 0.020124532486388493\n",
      "Weight 4 Stats\n",
      "0.0756191624263867 0.012592299639255499\n",
      "Patience is\n",
      "0\n",
      "\n",
      "\n",
      "epoch number is 2\n",
      "Training Coverage, Widths, RMSE, and Pearson R\n",
      "0.7607415107415108 3.274098888885587 1.3754670902188697 0.8753231982404548\n",
      "Testing Coverage, Widths, RMSE, and Pearson R\n",
      "0.7571032571032571 3.2588011096831453 1.4031887943389045 0.8676533655982366\n",
      "Weight 1 Stats\n",
      "0.04060197346205622 0.004911256987510807\n",
      "Weight 2 Stats\n",
      "0.04591149751488303 0.005954257977099766\n",
      "Weight 3 Stats\n",
      "0.846403868030121 0.015496581059817195\n",
      "Weight 4 Stats\n",
      "0.06708266099293977 0.00985448362858314\n",
      "Patience is\n",
      "0\n",
      "\n",
      "\n",
      "Training Coverage, Widths, RMSE, and Pearson R\n",
      "0.7722626472626473 3.4344352192814425 1.3820196883917182 0.874922601163854\n",
      "Testing Coverage, Widths, RMSE, and Pearson R\n",
      "0.7617810117810118 3.423189620429649 1.4099563138323428 0.8675072759657526\n",
      "Weight 1 Stats\n",
      "0.037702664669582754 0.005709362395503856\n",
      "Weight 2 Stats\n",
      "0.04374118707518668 0.006465016782643949\n",
      "Weight 3 Stats\n",
      "0.8518066315032741 0.016360424801345662\n",
      "Weight 4 Stats\n",
      "0.06674951675195664 0.008957354688291765\n",
      "Patience is\n",
      "1\n",
      "\n",
      "\n",
      "Training Coverage, Widths, RMSE, and Pearson R\n",
      "0.7736486486486487 3.4213224029585003 1.3707411149473094 0.8758155009693087\n",
      "Testing Coverage, Widths, RMSE, and Pearson R\n",
      "0.7669785169785169 3.4164747506580952 1.3956564671146061 0.8683225849192323\n",
      "Weight 1 Stats\n",
      "0.03668678333540645 0.006657079539521847\n",
      "Weight 2 Stats\n",
      "0.03941605185739617 0.005704560968500357\n",
      "Weight 3 Stats\n",
      "0.8547206263288273 0.02005457499940888\n",
      "Weight 4 Stats\n",
      "0.06917653847837028 0.013173872761097655\n",
      "Patience is\n",
      "0\n",
      "\n",
      "\n",
      "Training Coverage, Widths, RMSE, and Pearson R\n",
      "0.7623007623007623 3.3283397336650378 1.3801681281326288 0.8757530354562971\n",
      "Testing Coverage, Widths, RMSE, and Pearson R\n",
      "0.7548510048510049 3.314236369145512 1.3954638942890374 0.869874946222238\n",
      "Weight 1 Stats\n",
      "0.02760020052102683 0.0042248483585964934\n",
      "Weight 2 Stats\n",
      "0.039752080588672134 0.0062416546593292285\n",
      "Weight 3 Stats\n",
      "0.867283673831877 0.01445972953109995\n",
      "Weight 4 Stats\n",
      "0.06536404505842394 0.010343865785671926\n",
      "Patience is\n",
      "1\n",
      "\n",
      "\n",
      "Training Coverage, Widths, RMSE, and Pearson R\n",
      "0.7386521136521137 3.1629135701394384 1.3699028767016268 0.8766886053980354\n",
      "Testing Coverage, Widths, RMSE, and Pearson R\n",
      "0.7233194733194733 3.124411771749578 1.3915553324226861 0.8697518996676448\n",
      "Weight 1 Stats\n",
      "0.023566408093842157 0.0035895632256471633\n",
      "Weight 2 Stats\n",
      "0.03747132360321309 0.005452840434824358\n",
      "Weight 3 Stats\n",
      "0.8485516584150111 0.01689494046617517\n",
      "Weight 4 Stats\n",
      "0.09041060988793367 0.012989913756003812\n",
      "Patience is\n",
      "0\n",
      "\n",
      "\n",
      "epoch number is 3\n",
      "Training Coverage, Widths, RMSE, and Pearson R\n",
      "0.7696638946638946 3.5014470623788245 1.401624905643991 0.8717582554660611\n",
      "Testing Coverage, Widths, RMSE, and Pearson R\n",
      "0.7683645183645184 3.4635462013045997 1.417311704670583 0.8654192434264201\n",
      "Weight 1 Stats\n",
      "0.023114726228531144 0.0037929116620387263\n",
      "Weight 2 Stats\n",
      "0.03305926396055804 0.005876568757281069\n",
      "Weight 3 Stats\n",
      "0.9017568646246134 0.013386259539672467\n",
      "Weight 4 Stats\n",
      "0.04206914518629744 0.006378398485117399\n",
      "Patience is\n",
      "1\n",
      "\n",
      "\n",
      "Training Coverage, Widths, RMSE, and Pearson R\n",
      "0.7807519057519058 3.606436946553463 1.4003068614946514 0.8712531054179447\n",
      "Testing Coverage, Widths, RMSE, and Pearson R\n",
      "0.7739085239085239 3.5644841462444377 1.4217467201514993 0.8638495959744341\n",
      "Weight 1 Stats\n",
      "0.023398620968362982 0.0034036976357768372\n",
      "Weight 2 Stats\n",
      "0.03762769839537431 0.0052701577122397855\n",
      "Weight 3 Stats\n",
      "0.9052496643806476 0.01180038481126058\n",
      "Weight 4 Stats\n",
      "0.03372401625561518 0.005825989109562954\n",
      "Patience is\n",
      "2\n",
      "\n",
      "\n",
      "Training Coverage, Widths, RMSE, and Pearson R\n",
      "0.7998960498960499 3.789583787752032 1.376845490443037 0.8750545585050071\n",
      "Testing Coverage, Widths, RMSE, and Pearson R\n",
      "0.7853430353430353 3.739528820380552 1.4053417122094332 0.8666809684160677\n",
      "Weight 1 Stats\n",
      "0.027217070415924586 0.004691129265378293\n",
      "Weight 2 Stats\n",
      "0.028608570570245257 0.004936473519104099\n",
      "Weight 3 Stats\n",
      "0.9240984079282673 0.009949570543186074\n",
      "Weight 4 Stats\n",
      "0.02007595108556292 0.002773227471960333\n",
      "Patience is\n",
      "3\n",
      "\n",
      "\n",
      "Training Coverage, Widths, RMSE, and Pearson R\n",
      "0.8292619542619543 4.079756077589843 1.37048690390961 0.875954253670124\n",
      "Testing Coverage, Widths, RMSE, and Pearson R\n",
      "0.8137560637560638 4.030642508430179 1.3991777489444033 0.86782625157902\n",
      "Weight 1 Stats\n",
      "0.028170181812853023 0.004507642282624086\n",
      "Weight 2 Stats\n",
      "0.027242313739888648 0.004373075742386507\n",
      "Weight 3 Stats\n",
      "0.923777515064377 0.009369331801404736\n",
      "Weight 4 Stats\n",
      "0.02080998938288115 0.0031077239396855036\n",
      "Patience is\n",
      "4\n",
      "\n",
      "\n",
      "Training Coverage, Widths, RMSE, and Pearson R\n",
      "0.8322072072072072 4.042204533004939 1.3802942333056765 0.8753011054844678\n",
      "Testing Coverage, Widths, RMSE, and Pearson R\n",
      "0.8186070686070686 3.99663585963153 1.4010132392628616 0.8687283121740184\n",
      "Weight 1 Stats\n",
      "0.027313368417675767 0.0036280541446046524\n",
      "Weight 2 Stats\n",
      "0.024149388388562523 0.0034687605394683723\n",
      "Weight 3 Stats\n",
      "0.9276066482232448 0.007854570255731969\n",
      "Weight 4 Stats\n",
      "0.02093059497051688 0.0033209831229281802\n",
      "Patience is\n",
      "5\n",
      "\n",
      "\n",
      "epoch number is 4\n",
      "Training Coverage, Widths, RMSE, and Pearson R\n",
      "0.8426888426888427 4.229178461600725 1.3644718483129132 0.8775408560254425\n",
      "Testing Coverage, Widths, RMSE, and Pearson R\n",
      "0.8383575883575883 4.178927988496384 1.3805048240464057 0.8718133884539463\n",
      "Weight 1 Stats\n",
      "0.02840503014303658 0.004476678676699994\n",
      "Weight 2 Stats\n",
      "0.022038765170081173 0.00362222774943001\n",
      "Weight 3 Stats\n",
      "0.9214159981229579 0.010441973756856638\n",
      "Weight 4 Stats\n",
      "0.028140206563924304 0.004633176784582985\n",
      "Patience is\n",
      "0\n",
      "\n",
      "\n",
      "Training Coverage, Widths, RMSE, and Pearson R\n",
      "0.8447678447678447 4.20721800414606 1.3596129638639147 0.8785265841216245\n",
      "Testing Coverage, Widths, RMSE, and Pearson R\n",
      "0.831947331947332 4.162358207870693 1.3771163100883168 0.8724880599835075\n",
      "Weight 1 Stats\n",
      "0.02454906176886392 0.003705322477227124\n",
      "Weight 2 Stats\n",
      "0.020079412824585068 0.003172673298136684\n",
      "Weight 3 Stats\n",
      "0.9270947677001607 0.008980894064248733\n",
      "Weight 4 Stats\n",
      "0.028276757706390373 0.004230796841005523\n",
      "Patience is\n",
      "0\n",
      "\n",
      "\n",
      "Training Coverage, Widths, RMSE, and Pearson R\n",
      "0.8542966042966043 4.338874176913521 1.3638513180437586 0.878273954416335\n",
      "Testing Coverage, Widths, RMSE, and Pearson R\n",
      "0.8477130977130977 4.319250860381252 1.38329016652937 0.8717286662926511\n",
      "Weight 1 Stats\n",
      "0.027122681253127393 0.004884229043024929\n",
      "Weight 2 Stats\n",
      "0.017196237963173926 0.003116361161014781\n",
      "Weight 3 Stats\n",
      "0.9391718405145241 0.009626906742007236\n",
      "Weight 4 Stats\n",
      "0.016509240269174604 0.0031726016540663763\n",
      "Patience is\n",
      "1\n",
      "\n",
      "\n",
      "Training Coverage, Widths, RMSE, and Pearson R\n",
      "0.8387040887040887 4.013889012918299 1.3607629241502281 0.8795708524418162\n",
      "Testing Coverage, Widths, RMSE, and Pearson R\n",
      "0.8274428274428275 3.9899889696378654 1.3806908187752185 0.8726776256090036\n",
      "Weight 1 Stats\n",
      "0.022151577656279575 0.0037908920355443575\n",
      "Weight 2 Stats\n",
      "0.019760236097953344 0.003140419694554931\n",
      "Weight 3 Stats\n",
      "0.9421722374898973 0.00814762721185586\n",
      "Weight 4 Stats\n",
      "0.015915948755869744 0.0028468010552474923\n",
      "Patience is\n",
      "2\n",
      "\n",
      "\n",
      "Training Coverage, Widths, RMSE, and Pearson R\n",
      "0.8589743589743589 4.475494915301199 1.36436691359321 0.8789374508512661\n",
      "Testing Coverage, Widths, RMSE, and Pearson R\n",
      "0.8525641025641025 4.429230356282387 1.3837237933312396 0.8725857733969156\n",
      "Weight 1 Stats\n",
      "0.022560972149969466 0.0032183563602705373\n",
      "Weight 2 Stats\n",
      "0.0157491134692252 0.002528663636108599\n",
      "Weight 3 Stats\n",
      "0.9443084124890107 0.006562847723988366\n",
      "Weight 4 Stats\n",
      "0.017381501891794687 0.0025580083492292007\n",
      "Patience is\n",
      "3\n",
      "\n",
      "\n",
      "epoch number is 5\n",
      "Training Coverage, Widths, RMSE, and Pearson R\n",
      "0.8485793485793486 4.3405359092197315 1.3982879886868322 0.8716297181533107\n",
      "Testing Coverage, Widths, RMSE, and Pearson R\n",
      "0.8392238392238393 4.30653843979717 1.4248376082261718 0.8640993076329299\n",
      "Weight 1 Stats\n",
      "0.02124719878889599 0.0029225953005190676\n",
      "Weight 2 Stats\n",
      "0.02059729779718829 0.0030952768332413267\n",
      "Weight 3 Stats\n",
      "0.9436840057632094 0.006272657710528746\n",
      "Weight 4 Stats\n",
      "0.014471497650706168 0.0024263604423159\n",
      "Patience is\n",
      "4\n",
      "\n",
      "\n",
      "Training Coverage, Widths, RMSE, and Pearson R\n",
      "0.8415627165627165 4.266058448590636 1.378915706673404 0.8746619456438618\n",
      "Testing Coverage, Widths, RMSE, and Pearson R\n",
      "0.8335065835065835 4.213660519433305 1.3891731141776527 0.8700485745671858\n",
      "Weight 1 Stats\n",
      "0.020531745692406855 0.002587064523241516\n",
      "Weight 2 Stats\n",
      "0.02161817375839544 0.003980197898303251\n",
      "Weight 3 Stats\n",
      "0.942447002338271 0.006634085655106072\n",
      "Weight 4 Stats\n",
      "0.015403078210926704 0.0025697907281166847\n",
      "Patience is\n",
      "5\n",
      "\n",
      "\n",
      "Training Coverage, Widths, RMSE, and Pearson R\n",
      "0.850051975051975 4.395195627159778 1.3792790282887064 0.8762258661197622\n",
      "Testing Coverage, Widths, RMSE, and Pearson R\n",
      "0.8404365904365905 4.346759331216157 1.4053361058671736 0.868577125418954\n",
      "Weight 1 Stats\n",
      "0.02453400346961968 0.0035800027155047133\n",
      "Weight 2 Stats\n",
      "0.016286059479883406 0.0023085366720014457\n",
      "Weight 3 Stats\n",
      "0.9431413743260417 0.006791554115809015\n",
      "Weight 4 Stats\n",
      "0.01603856272445527 0.002558919350271081\n",
      "Patience is\n",
      "6\n",
      "\n",
      "\n",
      "Training Coverage, Widths, RMSE, and Pearson R\n",
      "0.8431219681219682 4.494364047816978 1.4039567344519428 0.8731778911828121\n",
      "Testing Coverage, Widths, RMSE, and Pearson R\n",
      "0.8309078309078309 4.457578609651721 1.4339345983301928 0.8653183004291518\n",
      "Weight 1 Stats\n",
      "0.02322860892354305 0.003993848582814613\n",
      "Weight 2 Stats\n",
      "0.017461798478128242 0.0025901136041617022\n",
      "Weight 3 Stats\n",
      "0.9457241886823154 0.00766304340992403\n",
      "Weight 4 Stats\n",
      "0.013585403916013202 0.002486122268342013\n",
      "Patience is\n",
      "7\n",
      "\n",
      "\n",
      "Training Coverage, Widths, RMSE, and Pearson R\n",
      "0.852044352044352 4.448861871667373 1.3885066735592484 0.8735857283273875\n",
      "Testing Coverage, Widths, RMSE, and Pearson R\n",
      "0.8501386001386001 4.4021515088973295 1.4089296893141063 0.8666688942519141\n",
      "Weight 1 Stats\n",
      "0.01902809666413795 0.0025371933415432916\n",
      "Weight 2 Stats\n",
      "0.01698737688485187 0.0026830421268655025\n",
      "Weight 3 Stats\n",
      "0.956743713128303 0.004792800581246024\n",
      "Weight 4 Stats\n",
      "0.00724081332270722 0.0010774124651607522\n",
      "Patience is\n",
      "8\n",
      "\n",
      "\n",
      "epoch number is 6\n",
      "Training Coverage, Widths, RMSE, and Pearson R\n",
      "0.8755197505197505 4.679280655842595 1.3783546526037211 0.8744900544894045\n",
      "Testing Coverage, Widths, RMSE, and Pearson R\n",
      "0.8646916146916147 4.637441386755767 1.4049697490678765 0.8668607728131662\n",
      "Weight 1 Stats\n",
      "0.018291384908059538 0.0026784698266950737\n",
      "Weight 2 Stats\n",
      "0.02338419351833237 0.003327180316765578\n",
      "Weight 3 Stats\n",
      "0.9490628134674424 0.00599785178159419\n",
      "Weight 4 Stats\n",
      "0.009261608106165694 0.0013775317686875793\n",
      "Patience is\n",
      "9\n",
      "\n",
      "\n",
      "Training Coverage, Widths, RMSE, and Pearson R\n",
      "0.8973492723492723 5.374928268160997 1.3882227423138807 0.8734978128466274\n",
      "Testing Coverage, Widths, RMSE, and Pearson R\n",
      "0.8891198891198892 5.292974164990873 1.4164162048698317 0.8652682979807328\n",
      "Weight 1 Stats\n",
      "0.017266490622921446 0.002641578346883616\n",
      "Weight 2 Stats\n",
      "0.0208442422348528 0.0036062749473363886\n",
      "Weight 3 Stats\n",
      "0.9568779732579344 0.006080348048249599\n",
      "Weight 4 Stats\n",
      "0.00501129388429137 0.0007793903314072193\n",
      "Patience is\n",
      "10\n",
      "\n",
      "\n",
      "Training Coverage, Widths, RMSE, and Pearson R\n",
      "0.9033264033264033 5.213313784155698 1.3766563754227643 0.8781974453466852\n",
      "Testing Coverage, Widths, RMSE, and Pearson R\n",
      "0.895010395010395 5.142330087399242 1.4040572550850525 0.869560067812136\n",
      "Weight 1 Stats\n",
      "0.015101619188634504 0.002229861108157939\n",
      "Weight 2 Stats\n",
      "0.02207579651645271 0.00342408304436528\n",
      "Weight 3 Stats\n",
      "0.9593337012091256 0.0053119405027636565\n",
      "Weight 4 Stats\n",
      "0.0034888830857871247 0.0006124383492351919\n",
      "Patience is\n",
      "11\n",
      "\n",
      "\n",
      "test_coverage0.831947331947332\n",
      "test_width4.162358207870693\n",
      "rmse_test1.3771163100883168\n",
      "pearson_r_test0.8724880599835075\n",
      "weights\n",
      "[0.02454906176886392, 0.020079412824585068, 0.9270947677001607, 0.028276757706390373]\n",
      "\n",
      "\n",
      "CPU times: user 35min 6s, sys: 22min 54s, total: 58min 1s\n",
      "Wall time: 9min 50s\n"
     ]
    }
   ],
   "source": [
    "%%time\n",
    "best_train_width, best_coverage_train, best_rmse_train, best_test_width, best_coverage_test, best_rmse_test, best_pearson_r,  \\\n",
    "best_ensembles, train_rmse, test_rmse,   w1_catch, w2_catch, w3_catch, w4_catch, best_w1_weight, best_w2_weight, best_w3_weight, best_w4_weight, best_test_preds, best_li, best_ui, best_residuals = get_results(0, var_weights = 1.0, var_weight_weights = 0.20, var_D = 1.0, inflation_factor =1, fudging_beta = beta(1,19), \n",
    "           fudging_var = 0.0125, print_true = True)"
   ]
  },
  {
   "cell_type": "code",
   "execution_count": 68,
   "id": "f67312fa-51ca-4911-8a47-bf1eab8f7427",
   "metadata": {},
   "outputs": [],
   "source": [
    "# save the outputs from here "
   ]
  },
  {
   "cell_type": "code",
   "execution_count": 69,
   "id": "39b4c14d-750a-4092-b030-8a8993e84e58",
   "metadata": {},
   "outputs": [],
   "source": [
    "# best_train_width, best_coverage_train, best_rmse_train, best_test_width, best_coverage_test, best_rmse_test, best_pearson_r,  \\\n",
    "# best_ensembles, train_rmse, test_rmse,   w1_catch, w2_catch, w3_catch, w4_catch, best_w1_weight, best_w2_weight, best_w3_weight, best_w4_weight, best_test_preds, best_li, best_ui, best_residuals"
   ]
  },
  {
   "cell_type": "code",
   "execution_count": 70,
   "id": "c5ba72a7-62ef-4945-816f-9d619bc76e46",
   "metadata": {},
   "outputs": [],
   "source": [
    "col_names = ['best_test_width', 'best_coverage_test', 'best_rmse_test', 'best_pearson_r', 'best_w1_weight', 'best_w2_weight', 'best_w3_weight', 'best_w4_weight']"
   ]
  },
  {
   "cell_type": "code",
   "execution_count": 71,
   "id": "d0348380-c047-4cbe-8906-2a976e61e831",
   "metadata": {},
   "outputs": [],
   "source": [
    "col_values = [best_test_width, best_coverage_test, best_rmse_test, best_pearson_r, best_w1_weight, best_w2_weight, best_w3_weight, best_w4_weight]"
   ]
  },
  {
   "cell_type": "code",
   "execution_count": 72,
   "id": "7d5f15a8-7aed-48f8-a532-ce53b45b8307",
   "metadata": {},
   "outputs": [
    {
     "name": "stdout",
     "output_type": "stream",
     "text": [
      "best_test_width 4.162358207870693\n"
     ]
    }
   ],
   "source": [
    "print('best_test_width' , best_test_width)"
   ]
  },
  {
   "cell_type": "code",
   "execution_count": 73,
   "id": "759b2eae-a732-477a-a9de-3c467b6fb005",
   "metadata": {},
   "outputs": [],
   "source": [
    "Menkf_test_results = pd.DataFrame({'parameter': col_names, 'value': col_values})\n",
    "save_name = 'test_parameters_all_features_for_test_fold_' + str(test_index) + '.csv'\n",
    "save_path = '../MEnKF_fold_results/Fold_2/'\n",
    "Menkf_test_results.to_csv(save_path + save_name, index = False)"
   ]
  },
  {
   "cell_type": "code",
   "execution_count": 74,
   "id": "62ab8e0f-3d30-4f0f-a8fb-c7abf786fda2",
   "metadata": {},
   "outputs": [
    {
     "data": {
      "text/plain": [
       "(5772, 1)"
      ]
     },
     "execution_count": 74,
     "metadata": {},
     "output_type": "execute_result"
    }
   ],
   "source": [
    "best_test_preds.shape"
   ]
  },
  {
   "cell_type": "code",
   "execution_count": 75,
   "id": "fd6fc0b5-a99f-40b5-873a-0bb90f4c3d1e",
   "metadata": {},
   "outputs": [
    {
     "data": {
      "text/plain": [
       "array([[3.44440797],\n",
       "       [0.66301698],\n",
       "       [1.94531445],\n",
       "       ...,\n",
       "       [4.68024732],\n",
       "       [1.16499601],\n",
       "       [1.90466546]])"
      ]
     },
     "execution_count": 75,
     "metadata": {},
     "output_type": "execute_result"
    }
   ],
   "source": [
    "best_test_preds"
   ]
  },
  {
   "cell_type": "code",
   "execution_count": 76,
   "id": "26294fa8-6907-41a7-b1f4-dddae0d49f69",
   "metadata": {},
   "outputs": [],
   "source": [
    "# Scatterplot plots predicted and actual log IC50 of the test set"
   ]
  },
  {
   "cell_type": "code",
   "execution_count": 77,
   "id": "313e9227-bd87-4b8a-bf85-8399d0bbcd89",
   "metadata": {},
   "outputs": [],
   "source": [
    "# get the preds wit best ensemble weights\n",
    "preds_test, _, _, _, _ = get_predictions_test(data1_test, data2_test, data3_test, data4_test, best_ensembles)"
   ]
  },
  {
   "cell_type": "code",
   "execution_count": 78,
   "id": "4e0b0085-2d4a-40c9-ac70-4858fc7b9d1f",
   "metadata": {},
   "outputs": [],
   "source": [
    "averaged_preds_test = preds_test.mean(0).reshape(-1,1)"
   ]
  },
  {
   "cell_type": "code",
   "execution_count": 79,
   "id": "e624f47c-2c30-48fa-a826-ae197c56edda",
   "metadata": {},
   "outputs": [
    {
     "data": {
      "text/plain": [
       "(5772, 1)"
      ]
     },
     "execution_count": 79,
     "metadata": {},
     "output_type": "execute_result"
    }
   ],
   "source": [
    "averaged_preds_test.shape"
   ]
  },
  {
   "cell_type": "code",
   "execution_count": 80,
   "id": "4c0290b6-a878-40f2-9644-16b2f002a8a8",
   "metadata": {},
   "outputs": [],
   "source": [
    "# save these preds?\n",
    "np.save(save_path + 'test_preds_all_features_for_test_fold_' + str(test_index) + '.npy', averaged_preds_test)"
   ]
  },
  {
   "cell_type": "code",
   "execution_count": 81,
   "id": "e62f629e-a931-4271-99f1-43551be3a4db",
   "metadata": {},
   "outputs": [
    {
     "data": {
      "image/png": "[encoded data removed]",
      "text/plain": [
       "<Figure size 640x480 with 1 Axes>"
      ]
     },
     "metadata": {},
     "output_type": "display_data"
    }
   ],
   "source": [
    "fig = plt.figure()\n",
    "plt.scatter(y_test, averaged_preds_test, alpha = 0.1)\n",
    "plt.axline((0,0), slope = 1, c = \"black\")\n",
    "plt.xlabel(\"Ground Truth Values\", fontweight = \"bold\",fontsize = 10)\n",
    "plt.ylabel(\"MEnKF-ANN Predicted Values\", fontweight = \"bold\", fontsize = 10)\n",
    "plt.xticks(fontsize = 10, fontweight = \"bold\")\n",
    "plt.yticks(fontsize = 10, fontweight = \"bold\")\n",
    "fig.savefig(save_path + 'MEnKF_AllFeatures_Scatterplot_' + str(test_index) + '.pdf', bbox_inches='tight', format = \"pdf\", dpi = 1000)\n",
    "plt.show()"
   ]
  },
  {
   "cell_type": "code",
   "execution_count": 82,
   "id": "7ca9b751-25b3-4370-aa3e-3c120a7c8d13",
   "metadata": {},
   "outputs": [],
   "source": [
    "# Residual hisogram"
   ]
  },
  {
   "cell_type": "code",
   "execution_count": 83,
   "id": "7c817641-37b8-45b3-9b60-ae0e4a8bb307",
   "metadata": {},
   "outputs": [],
   "source": [
    "from scipy.optimize import curve_fit"
   ]
  },
  {
   "cell_type": "code",
   "execution_count": 84,
   "id": "033470e9-a031-436e-92c1-778e80cae6be",
   "metadata": {},
   "outputs": [],
   "source": [
    "# save the residuals\n",
    "np.save(save_path + 'test_best_residuals_all_features_for_test_fold_' + str(test_index) + '.npy', best_residuals)"
   ]
  },
  {
   "cell_type": "code",
   "execution_count": 85,
   "id": "95835acb-6bd1-4835-91c0-c4dc79cc219b",
   "metadata": {},
   "outputs": [],
   "source": [
    "def gaussian(x, mean, amplitude, standard_deviation):\n",
    "    return amplitude * np.exp( - (x - mean)**2 / (2*standard_deviation ** 2))"
   ]
  },
  {
   "cell_type": "code",
   "execution_count": 86,
   "id": "2b33a287-ce33-4ba0-95b3-752801c22962",
   "metadata": {},
   "outputs": [
    {
     "data": {
      "image/png": "[encoded data removed]",
      "text/plain": [
       "<Figure size 640x480 with 1 Axes>"
      ]
     },
     "metadata": {},
     "output_type": "display_data"
    }
   ],
   "source": [
    "fig = plt.figure()\n",
    "bin_heights, bin_borders, _ = plt.hist(best_residuals, bins='auto', label='histogram')\n",
    "bin_centers = bin_borders[:-1] + np.diff(bin_borders) / 2\n",
    "popt, _ = curve_fit(gaussian, bin_centers, bin_heights, p0=[1., 0., 1.])\n",
    "\n",
    "x_interval_for_fit = np.linspace(bin_borders[0], bin_borders[-1], 10000)\n",
    "\n",
    "plt.plot(x_interval_for_fit, gaussian(x_interval_for_fit, *popt), label='fit')\n",
    "plt.xticks(fontsize = 10, fontweight = \"bold\")\n",
    "plt.yticks(fontsize = 10, fontweight = \"bold\")\n",
    "fig.savefig(save_path + 'MEnKF_AllFeatures_residual_hist_' + str(test_index) + '.pdf', bbox_inches='tight', format = \"pdf\", dpi = 1000)\n",
    "plt.legend()\n",
    "plt.show()"
   ]
  },
  {
   "cell_type": "code",
   "execution_count": 87,
   "id": "1b7da470-1456-47a0-9f1d-bace6b0b1d60",
   "metadata": {},
   "outputs": [],
   "source": [
    "# Plot of confidence intervals, with observed values"
   ]
  },
  {
   "cell_type": "code",
   "execution_count": 88,
   "id": "2840ae34-7eb0-47c4-9c4b-1fbc56f2ae68",
   "metadata": {},
   "outputs": [],
   "source": [
    "catch_data = np.hstack((y_test, best_li, best_ui))"
   ]
  },
  {
   "cell_type": "code",
   "execution_count": 89,
   "id": "6d164d59-e363-4e27-87d1-1cadd863664f",
   "metadata": {},
   "outputs": [],
   "source": [
    "catch_data_df = pd.DataFrame(catch_data, columns = [ 'true_val', 'lower_CI', 'upper_CI'])"
   ]
  },
  {
   "cell_type": "code",
   "execution_count": 90,
   "id": "819b630a-13ad-4bef-8b9d-f9310ec8042e",
   "metadata": {},
   "outputs": [],
   "source": [
    "catch_data_df = catch_data_df.sort_values('true_val')"
   ]
  },
  {
   "cell_type": "code",
   "execution_count": 91,
   "id": "32d31dfd-1a33-4398-9d44-1e6eaacad556",
   "metadata": {},
   "outputs": [],
   "source": [
    "# save the df\n",
    "catch_data_df.to_csv(save_path + 'CI_infor_all_features_' + str(test_index) + '.csv' , index = False)"
   ]
  },
  {
   "cell_type": "code",
   "execution_count": 92,
   "id": "079a6ed7-bc3a-435f-8498-915de95045bb",
   "metadata": {},
   "outputs": [
    {
     "data": {
      "image/png": "[encoded data removed]",
      "text/plain": [
       "<Figure size 2000x1000 with 1 Axes>"
      ]
     },
     "metadata": {},
     "output_type": "display_data"
    }
   ],
   "source": [
    "fig= plt.figure(figsize = (20,10))\n",
    "# plt.figure(figsize = (20,10))\n",
    "# fig, axs = plt.subplots(4, 2)\n",
    "plt.scatter(range(0,catch_data_df.shape[0]), catch_data_df['true_val'],  c = \"blue\", label = \"IC50\")\n",
    "plt.plot(range(0,catch_data_df.shape[0]), catch_data_df['lower_CI'],   c = \"green\",\n",
    "            label = \"Lower Prediction Interval\")\n",
    "plt.plot(range(0,catch_data_df.shape[0]), catch_data_df['upper_CI'],   c = \"green\",\n",
    "            label = \"Upper Prediction Interval\")\n",
    "# plt.fill_between(range(0,combo_df1.shape[0]), combo_df1[\"LI_IC50_Pred\"].values, combo_df1[\"UI_IC50_Pred\"].values,\n",
    "#                  color = \"green\", label = \"Empirical 95 % Prediction Interval\",alpha=0.6)\n",
    "\n",
    "plt.xlabel(\"Sample Index\", fontsize = 20, fontweight = \"bold\")\n",
    "plt.ylabel(\"Log(IC50)\", fontsize = 20, fontweight = \"bold\")\n",
    "plt.xticks( fontsize = 15, fontweight = \"bold\")\n",
    "plt.yticks( fontsize = 15, fontweight = \"bold\")\n",
    "fig.savefig(save_path + 'MEnKF_AllFeatures_CI_plot_' + str(test_index) + '.pdf', bbox_inches='tight', format = \"pdf\", dpi = 1000)\n",
    "plt.show()"
   ]
  },
  {
   "cell_type": "code",
   "execution_count": null,
   "id": "db65fd61-5790-4afe-a47c-cf52690278c1",
   "metadata": {},
   "outputs": [],
   "source": []
  }
 ],
 "metadata": {
  "kernelspec": {
   "display_name": "Python (tfp_for_TN)",
   "language": "python",
   "name": "tfp_for_tn"
  },
  "language_info": {
   "codemirror_mode": {
    "name": "ipython",
    "version": 3
   },
   "file_extension": ".py",
   "mimetype": "text/x-python",
   "name": "python",
   "nbconvert_exporter": "python",
   "pygments_lexer": "ipython3",
   "version": "3.10.14"
  }
 },
 "nbformat": 4,
 "nbformat_minor": 5
}
