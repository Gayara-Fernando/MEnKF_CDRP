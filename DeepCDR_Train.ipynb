{
 "cells": [
  {
   "cell_type": "code",
   "execution_count": 1,
   "id": "d79c4d60-25e3-41cb-b814-ef360e2fee9e",
   "metadata": {},
   "outputs": [
    {
     "name": "stderr",
     "output_type": "stream",
     "text": [
      "2024-07-11 15:55:03.571267: I tensorflow/core/util/port.cc:113] oneDNN custom operations are on. You may see slightly different numerical results due to floating-point round-off errors from different computation orders. To turn them off, set the environment variable `TF_ENABLE_ONEDNN_OPTS=0`.\n",
      "2024-07-11 15:55:05.510048: E external/local_xla/xla/stream_executor/cuda/cuda_dnn.cc:9261] Unable to register cuDNN factory: Attempting to register factory for plugin cuDNN when one has already been registered\n",
      "2024-07-11 15:55:05.510101: E external/local_xla/xla/stream_executor/cuda/cuda_fft.cc:607] Unable to register cuFFT factory: Attempting to register factory for plugin cuFFT when one has already been registered\n",
      "2024-07-11 15:55:05.678694: E external/local_xla/xla/stream_executor/cuda/cuda_blas.cc:1515] Unable to register cuBLAS factory: Attempting to register factory for plugin cuBLAS when one has already been registered\n",
      "2024-07-11 15:55:06.020542: I tensorflow/core/platform/cpu_feature_guard.cc:182] This TensorFlow binary is optimized to use available CPU instructions in performance-critical operations.\n",
      "To enable the following instructions: SSE4.1 SSE4.2 AVX AVX2 AVX512F AVX512_VNNI FMA, in other operations, rebuild TensorFlow with the appropriate compiler flags.\n"
     ]
    }
   ],
   "source": [
    "import pandas as pd\n",
    "import tensorflow as tf\n",
    "import tensorflow_probability as tfp\n",
    "from tensorflow import keras\n",
    "from tensorflow.python.keras import backend as K\n",
    "from tensorflow.python.ops import array_ops\n",
    "from tensorflow.python.ops import math_ops\n",
    "import pickle\n",
    "import numpy as np\n",
    "from sklearn.model_selection import train_test_split\n",
    "from sklearn.preprocessing import StandardScaler\n",
    "import scipy.sparse as sp\n",
    "import random"
   ]
  },
  {
   "cell_type": "code",
   "execution_count": 2,
   "id": "06020fb9-0d23-4866-8a4b-d13beac7044f",
   "metadata": {},
   "outputs": [],
   "source": [
    "drugs_cell_lines_ic50_df = pd.read_csv(\"..//data//drugs_cell_lines_ic50.csv\")"
   ]
  },
  {
   "cell_type": "code",
   "execution_count": 3,
   "id": "ef3c56b4-0691-4fb7-8d8d-e4637957e91a",
   "metadata": {},
   "outputs": [
    {
     "data": {
      "text/html": [
       "<div>\n",
       "<style scoped>\n",
       "    .dataframe tbody tr th:only-of-type {\n",
       "        vertical-align: middle;\n",
       "    }\n",
       "\n",
       "    .dataframe tbody tr th {\n",
       "        vertical-align: top;\n",
       "    }\n",
       "\n",
       "    .dataframe thead th {\n",
       "        text-align: right;\n",
       "    }\n",
       "</style>\n",
       "<table border=\"1\" class=\"dataframe\">\n",
       "  <thead>\n",
       "    <tr style=\"text-align: right;\">\n",
       "      <th></th>\n",
       "      <th>drug_id</th>\n",
       "      <th>Cancer_Cell_Line</th>\n",
       "      <th>IC50</th>\n",
       "    </tr>\n",
       "  </thead>\n",
       "  <tbody>\n",
       "    <tr>\n",
       "      <th>0</th>\n",
       "      <td>1001</td>\n",
       "      <td>ACH-002137</td>\n",
       "      <td>7.258918</td>\n",
       "    </tr>\n",
       "    <tr>\n",
       "      <th>1</th>\n",
       "      <td>1004</td>\n",
       "      <td>ACH-002137</td>\n",
       "      <td>-3.802467</td>\n",
       "    </tr>\n",
       "    <tr>\n",
       "      <th>2</th>\n",
       "      <td>1005</td>\n",
       "      <td>ACH-002137</td>\n",
       "      <td>4.146364</td>\n",
       "    </tr>\n",
       "    <tr>\n",
       "      <th>3</th>\n",
       "      <td>1006</td>\n",
       "      <td>ACH-002137</td>\n",
       "      <td>3.171367</td>\n",
       "    </tr>\n",
       "    <tr>\n",
       "      <th>4</th>\n",
       "      <td>1007</td>\n",
       "      <td>ACH-002137</td>\n",
       "      <td>-4.959442</td>\n",
       "    </tr>\n",
       "  </tbody>\n",
       "</table>\n",
       "</div>"
      ],
      "text/plain": [
       "   drug_id Cancer_Cell_Line      IC50\n",
       "0     1001       ACH-002137  7.258918\n",
       "1     1004       ACH-002137 -3.802467\n",
       "2     1005       ACH-002137  4.146364\n",
       "3     1006       ACH-002137  3.171367\n",
       "4     1007       ACH-002137 -4.959442"
      ]
     },
     "execution_count": 3,
     "metadata": {},
     "output_type": "execute_result"
    }
   ],
   "source": [
    "drugs_cell_lines_ic50_df.head()"
   ]
  },
  {
   "cell_type": "code",
   "execution_count": 4,
   "id": "f4031c4a-65e4-4ee4-b7d7-fa1c5e547c18",
   "metadata": {},
   "outputs": [
    {
     "data": {
      "text/plain": [
       "(208734, 3)"
      ]
     },
     "execution_count": 4,
     "metadata": {},
     "output_type": "execute_result"
    }
   ],
   "source": [
    "drugs_cell_lines_ic50_df.shape"
   ]
  },
  {
   "cell_type": "code",
   "execution_count": 5,
   "id": "1660298b-b5ce-4cff-bd71-86f7dc9222f5",
   "metadata": {},
   "outputs": [],
   "source": [
    "pubchem_drugs_smiles_df = pd.read_csv('..//data//drugs_smile_strings.csv')"
   ]
  },
  {
   "cell_type": "code",
   "execution_count": 6,
   "id": "58feccba-d7f5-4839-b44d-7c5bb7557ddd",
   "metadata": {},
   "outputs": [
    {
     "data": {
      "text/html": [
       "<div>\n",
       "<style scoped>\n",
       "    .dataframe tbody tr th:only-of-type {\n",
       "        vertical-align: middle;\n",
       "    }\n",
       "\n",
       "    .dataframe tbody tr th {\n",
       "        vertical-align: top;\n",
       "    }\n",
       "\n",
       "    .dataframe thead th {\n",
       "        text-align: right;\n",
       "    }\n",
       "</style>\n",
       "<table border=\"1\" class=\"dataframe\">\n",
       "  <thead>\n",
       "    <tr style=\"text-align: right;\">\n",
       "      <th></th>\n",
       "      <th>drug_id</th>\n",
       "      <th>Smiles</th>\n",
       "    </tr>\n",
       "  </thead>\n",
       "  <tbody>\n",
       "    <tr>\n",
       "      <th>0</th>\n",
       "      <td>1242</td>\n",
       "      <td>COc1cc(O)c2c(c1)C=CCC(O)C(O)C(=O)C=CCC(C)OC2=O</td>\n",
       "    </tr>\n",
       "    <tr>\n",
       "      <th>1</th>\n",
       "      <td>179</td>\n",
       "      <td>O=c1[nH]cc(F)c(=O)[nH]1</td>\n",
       "    </tr>\n",
       "    <tr>\n",
       "      <th>2</th>\n",
       "      <td>86</td>\n",
       "      <td>Cc1[nH]nc2ccc(-c3cncc(OCC(N)Cc4c[nH]c5ccccc45)...</td>\n",
       "    </tr>\n",
       "    <tr>\n",
       "      <th>3</th>\n",
       "      <td>55</td>\n",
       "      <td>COc1cc(-c2nn(C3CCC(N4CCN(C(C)=O)CC4)CC3)c3ncnc...</td>\n",
       "    </tr>\n",
       "    <tr>\n",
       "      <th>4</th>\n",
       "      <td>1001</td>\n",
       "      <td>NC(=O)c1ncn(C2OC(COP(=O)(O)O)C(O)C2O)c1N</td>\n",
       "    </tr>\n",
       "  </tbody>\n",
       "</table>\n",
       "</div>"
      ],
      "text/plain": [
       "   drug_id                                             Smiles\n",
       "0     1242     COc1cc(O)c2c(c1)C=CCC(O)C(O)C(=O)C=CCC(C)OC2=O\n",
       "1      179                            O=c1[nH]cc(F)c(=O)[nH]1\n",
       "2       86  Cc1[nH]nc2ccc(-c3cncc(OCC(N)Cc4c[nH]c5ccccc45)...\n",
       "3       55  COc1cc(-c2nn(C3CCC(N4CCN(C(C)=O)CC4)CC3)c3ncnc...\n",
       "4     1001           NC(=O)c1ncn(C2OC(COP(=O)(O)O)C(O)C2O)c1N"
      ]
     },
     "execution_count": 6,
     "metadata": {},
     "output_type": "execute_result"
    }
   ],
   "source": [
    "pubchem_drugs_smiles_df.head()"
   ]
  },
  {
   "cell_type": "code",
   "execution_count": 7,
   "id": "1c777662-cefd-4746-866c-a351f04341e6",
   "metadata": {},
   "outputs": [
    {
     "data": {
      "text/plain": [
       "(238, 2)"
      ]
     },
     "execution_count": 7,
     "metadata": {},
     "output_type": "execute_result"
    }
   ],
   "source": [
    "pubchem_drugs_smiles_df.shape"
   ]
  },
  {
   "cell_type": "code",
   "execution_count": 8,
   "id": "d3b2a897-77be-420b-bd26-ab84d56a2ff3",
   "metadata": {},
   "outputs": [],
   "source": [
    "drugs_smiles_cell_lines_ic50_df = pd.merge(drugs_cell_lines_ic50_df, pubchem_drugs_smiles_df, \n",
    "                                             on = \"drug_id\")"
   ]
  },
  {
   "cell_type": "code",
   "execution_count": 9,
   "id": "7db45323-83db-43e1-af14-cd7ae9433a93",
   "metadata": {},
   "outputs": [
    {
     "data": {
      "text/html": [
       "<div>\n",
       "<style scoped>\n",
       "    .dataframe tbody tr th:only-of-type {\n",
       "        vertical-align: middle;\n",
       "    }\n",
       "\n",
       "    .dataframe tbody tr th {\n",
       "        vertical-align: top;\n",
       "    }\n",
       "\n",
       "    .dataframe thead th {\n",
       "        text-align: right;\n",
       "    }\n",
       "</style>\n",
       "<table border=\"1\" class=\"dataframe\">\n",
       "  <thead>\n",
       "    <tr style=\"text-align: right;\">\n",
       "      <th></th>\n",
       "      <th>drug_id</th>\n",
       "      <th>Cancer_Cell_Line</th>\n",
       "      <th>IC50</th>\n",
       "      <th>Smiles</th>\n",
       "    </tr>\n",
       "  </thead>\n",
       "  <tbody>\n",
       "    <tr>\n",
       "      <th>0</th>\n",
       "      <td>1001</td>\n",
       "      <td>ACH-002137</td>\n",
       "      <td>7.258918</td>\n",
       "      <td>NC(=O)c1ncn(C2OC(COP(=O)(O)O)C(O)C2O)c1N</td>\n",
       "    </tr>\n",
       "    <tr>\n",
       "      <th>1</th>\n",
       "      <td>1004</td>\n",
       "      <td>ACH-002137</td>\n",
       "      <td>-3.802467</td>\n",
       "      <td>CCC1(O)CC2CN(CCc3c([nH]c4ccccc34)C(C(=O)OC)(c3...</td>\n",
       "    </tr>\n",
       "    <tr>\n",
       "      <th>2</th>\n",
       "      <td>1005</td>\n",
       "      <td>ACH-002137</td>\n",
       "      <td>4.146364</td>\n",
       "      <td>N.N.[Cl-].[Cl-].[Pt+2]</td>\n",
       "    </tr>\n",
       "    <tr>\n",
       "      <th>3</th>\n",
       "      <td>1006</td>\n",
       "      <td>ACH-002137</td>\n",
       "      <td>3.171367</td>\n",
       "      <td>Nc1ccn(C2OC(CO)C(O)C2O)c(=O)n1</td>\n",
       "    </tr>\n",
       "    <tr>\n",
       "      <th>4</th>\n",
       "      <td>1007</td>\n",
       "      <td>ACH-002137</td>\n",
       "      <td>-4.959442</td>\n",
       "      <td>CC(=O)OC12COC1CC(O)C1(C)C(=O)C(O)C3=C(C)C(OC(=...</td>\n",
       "    </tr>\n",
       "  </tbody>\n",
       "</table>\n",
       "</div>"
      ],
      "text/plain": [
       "   drug_id Cancer_Cell_Line      IC50  \\\n",
       "0     1001       ACH-002137  7.258918   \n",
       "1     1004       ACH-002137 -3.802467   \n",
       "2     1005       ACH-002137  4.146364   \n",
       "3     1006       ACH-002137  3.171367   \n",
       "4     1007       ACH-002137 -4.959442   \n",
       "\n",
       "                                              Smiles  \n",
       "0           NC(=O)c1ncn(C2OC(COP(=O)(O)O)C(O)C2O)c1N  \n",
       "1  CCC1(O)CC2CN(CCc3c([nH]c4ccccc34)C(C(=O)OC)(c3...  \n",
       "2                             N.N.[Cl-].[Cl-].[Pt+2]  \n",
       "3                     Nc1ccn(C2OC(CO)C(O)C2O)c(=O)n1  \n",
       "4  CC(=O)OC12COC1CC(O)C1(C)C(=O)C(O)C3=C(C)C(OC(=...  "
      ]
     },
     "execution_count": 9,
     "metadata": {},
     "output_type": "execute_result"
    }
   ],
   "source": [
    "drugs_smiles_cell_lines_ic50_df.head()"
   ]
  },
  {
   "cell_type": "code",
   "execution_count": 10,
   "id": "ec800f67-ef7f-4e3b-9a70-8c7b8ab78342",
   "metadata": {},
   "outputs": [
    {
     "data": {
      "text/plain": [
       "(186789, 4)"
      ]
     },
     "execution_count": 10,
     "metadata": {},
     "output_type": "execute_result"
    }
   ],
   "source": [
    "drugs_smiles_cell_lines_ic50_df.shape"
   ]
  },
  {
   "cell_type": "code",
   "execution_count": 11,
   "id": "c9c0eda5-75c5-45e4-b48b-7f90b38da4d8",
   "metadata": {},
   "outputs": [],
   "source": [
    "drugs_smiles_cell_lines_ic50_df = drugs_smiles_cell_lines_ic50_df[[\"drug_id\", \"Cancer_Cell_Line\", \"Smiles\", \"IC50\"]]"
   ]
  },
  {
   "cell_type": "code",
   "execution_count": 12,
   "id": "4255a229-bb41-4ffe-abef-e6d466e1c00b",
   "metadata": {},
   "outputs": [
    {
     "data": {
      "text/plain": [
       "drug_id               int64\n",
       "Cancer_Cell_Line     object\n",
       "Smiles               object\n",
       "IC50                float64\n",
       "dtype: object"
      ]
     },
     "execution_count": 12,
     "metadata": {},
     "output_type": "execute_result"
    }
   ],
   "source": [
    "drugs_smiles_cell_lines_ic50_df.dtypes"
   ]
  },
  {
   "cell_type": "code",
   "execution_count": 13,
   "id": "b8f12d16-3e37-4c9a-aabb-51e6ceb99a00",
   "metadata": {},
   "outputs": [],
   "source": [
    "drugs_smiles_cell_lines_ic50_df[\"drug_id\"] = drugs_smiles_cell_lines_ic50_df[\"drug_id\"].astype(object)"
   ]
  },
  {
   "cell_type": "code",
   "execution_count": 14,
   "id": "e17ed73d-5051-4322-afa0-f95e71485d50",
   "metadata": {},
   "outputs": [
    {
     "data": {
      "text/plain": [
       "(186789, 4)"
      ]
     },
     "execution_count": 14,
     "metadata": {},
     "output_type": "execute_result"
    }
   ],
   "source": [
    "drugs_smiles_cell_lines_ic50_df.shape"
   ]
  },
  {
   "cell_type": "code",
   "execution_count": 15,
   "id": "1318885c-6fc2-4ee6-a74d-0a8337307777",
   "metadata": {},
   "outputs": [],
   "source": [
    "with open(\"..//data//drug_gcn_features.pickle\", \"rb\") as f:\n",
    "    dict_features = pickle.load(f)"
   ]
  },
  {
   "cell_type": "code",
   "execution_count": 16,
   "id": "46e0e644-213c-4bc6-8dde-78b3bd5638bb",
   "metadata": {},
   "outputs": [],
   "source": [
    "with open(\"..//data//drug_gcn_normalized_adj_mats.pickle\", \"rb\") as f:\n",
    "    dict_normalized_adj_mats = pickle.load(f)"
   ]
  },
  {
   "cell_type": "code",
   "execution_count": 17,
   "id": "bfadc255-519f-4d0f-83c5-49277a277209",
   "metadata": {},
   "outputs": [],
   "source": [
    "dualgcn_train = pd.read_csv(\"..//data//DualGCN_Embedding_train.csv\")"
   ]
  },
  {
   "cell_type": "code",
   "execution_count": 18,
   "id": "60f3cf56-0d0f-4738-97f2-69186a55381e",
   "metadata": {},
   "outputs": [
    {
     "data": {
      "text/plain": [
       "(69214, 388)"
      ]
     },
     "execution_count": 18,
     "metadata": {},
     "output_type": "execute_result"
    }
   ],
   "source": [
    "dualgcn_train.shape"
   ]
  },
  {
   "cell_type": "code",
   "execution_count": 19,
   "id": "cfcbe4cd-8493-462f-994a-727a40605454",
   "metadata": {},
   "outputs": [
    {
     "data": {
      "text/html": [
       "<div>\n",
       "<style scoped>\n",
       "    .dataframe tbody tr th:only-of-type {\n",
       "        vertical-align: middle;\n",
       "    }\n",
       "\n",
       "    .dataframe tbody tr th {\n",
       "        vertical-align: top;\n",
       "    }\n",
       "\n",
       "    .dataframe thead th {\n",
       "        text-align: right;\n",
       "    }\n",
       "</style>\n",
       "<table border=\"1\" class=\"dataframe\">\n",
       "  <thead>\n",
       "    <tr style=\"text-align: right;\">\n",
       "      <th></th>\n",
       "      <th>Cell_Line</th>\n",
       "      <th>Drug_ID</th>\n",
       "      <th>Target</th>\n",
       "      <th>TCGA_Type</th>\n",
       "      <th>DrugEmbedding_Dim0</th>\n",
       "      <th>DrugEmbedding_Dim1</th>\n",
       "      <th>DrugEmbedding_Dim2</th>\n",
       "      <th>DrugEmbedding_Dim3</th>\n",
       "      <th>DrugEmbedding_Dim4</th>\n",
       "      <th>DrugEmbedding_Dim5</th>\n",
       "      <th>...</th>\n",
       "      <th>CellEmbedding_Dim246</th>\n",
       "      <th>CellEmbedding_Dim247</th>\n",
       "      <th>CellEmbedding_Dim248</th>\n",
       "      <th>CellEmbedding_Dim249</th>\n",
       "      <th>CellEmbedding_Dim250</th>\n",
       "      <th>CellEmbedding_Dim251</th>\n",
       "      <th>CellEmbedding_Dim252</th>\n",
       "      <th>CellEmbedding_Dim253</th>\n",
       "      <th>CellEmbedding_Dim254</th>\n",
       "      <th>CellEmbedding_Dim255</th>\n",
       "    </tr>\n",
       "  </thead>\n",
       "  <tbody>\n",
       "    <tr>\n",
       "      <th>0</th>\n",
       "      <td>ACH-000070</td>\n",
       "      <td>176870</td>\n",
       "      <td>0.693305</td>\n",
       "      <td>ALL</td>\n",
       "      <td>0.128356</td>\n",
       "      <td>0.011836</td>\n",
       "      <td>0.243534</td>\n",
       "      <td>0.137116</td>\n",
       "      <td>-0.13091</td>\n",
       "      <td>-0.240304</td>\n",
       "      <td>...</td>\n",
       "      <td>-0.176026</td>\n",
       "      <td>0.054300</td>\n",
       "      <td>0.662075</td>\n",
       "      <td>-0.400942</td>\n",
       "      <td>-0.207140</td>\n",
       "      <td>-0.064926</td>\n",
       "      <td>-0.206338</td>\n",
       "      <td>-0.088848</td>\n",
       "      <td>-0.184410</td>\n",
       "      <td>-0.059895</td>\n",
       "    </tr>\n",
       "    <tr>\n",
       "      <th>1</th>\n",
       "      <td>ACH-000105</td>\n",
       "      <td>176870</td>\n",
       "      <td>1.738326</td>\n",
       "      <td>ALL</td>\n",
       "      <td>0.128356</td>\n",
       "      <td>0.011836</td>\n",
       "      <td>0.243534</td>\n",
       "      <td>0.137116</td>\n",
       "      <td>-0.13091</td>\n",
       "      <td>-0.240304</td>\n",
       "      <td>...</td>\n",
       "      <td>-0.121042</td>\n",
       "      <td>0.124696</td>\n",
       "      <td>-0.560812</td>\n",
       "      <td>-0.504415</td>\n",
       "      <td>-0.134911</td>\n",
       "      <td>-0.005806</td>\n",
       "      <td>-0.135737</td>\n",
       "      <td>-0.018490</td>\n",
       "      <td>-0.109957</td>\n",
       "      <td>-0.004947</td>\n",
       "    </tr>\n",
       "    <tr>\n",
       "      <th>2</th>\n",
       "      <td>ACH-000981</td>\n",
       "      <td>176870</td>\n",
       "      <td>2.838543</td>\n",
       "      <td>ALL</td>\n",
       "      <td>0.128356</td>\n",
       "      <td>0.011836</td>\n",
       "      <td>0.243534</td>\n",
       "      <td>0.137116</td>\n",
       "      <td>-0.13091</td>\n",
       "      <td>-0.240304</td>\n",
       "      <td>...</td>\n",
       "      <td>-0.128809</td>\n",
       "      <td>0.110884</td>\n",
       "      <td>-0.560812</td>\n",
       "      <td>-0.504415</td>\n",
       "      <td>-0.151752</td>\n",
       "      <td>-0.017094</td>\n",
       "      <td>-0.150296</td>\n",
       "      <td>-0.034415</td>\n",
       "      <td>-0.125914</td>\n",
       "      <td>-0.020937</td>\n",
       "    </tr>\n",
       "    <tr>\n",
       "      <th>3</th>\n",
       "      <td>ACH-000061</td>\n",
       "      <td>176870</td>\n",
       "      <td>3.880844</td>\n",
       "      <td>ALL</td>\n",
       "      <td>0.128356</td>\n",
       "      <td>0.011836</td>\n",
       "      <td>0.243534</td>\n",
       "      <td>0.137116</td>\n",
       "      <td>-0.13091</td>\n",
       "      <td>-0.240304</td>\n",
       "      <td>...</td>\n",
       "      <td>-0.172548</td>\n",
       "      <td>0.060355</td>\n",
       "      <td>0.710201</td>\n",
       "      <td>0.061378</td>\n",
       "      <td>-0.201455</td>\n",
       "      <td>-0.061008</td>\n",
       "      <td>-0.201532</td>\n",
       "      <td>-0.083990</td>\n",
       "      <td>-0.176958</td>\n",
       "      <td>-0.052960</td>\n",
       "    </tr>\n",
       "    <tr>\n",
       "      <th>4</th>\n",
       "      <td>ACH-001106</td>\n",
       "      <td>176870</td>\n",
       "      <td>2.112241</td>\n",
       "      <td>ALL</td>\n",
       "      <td>0.128356</td>\n",
       "      <td>0.011836</td>\n",
       "      <td>0.243534</td>\n",
       "      <td>0.137116</td>\n",
       "      <td>-0.13091</td>\n",
       "      <td>-0.240304</td>\n",
       "      <td>...</td>\n",
       "      <td>-0.176026</td>\n",
       "      <td>0.054300</td>\n",
       "      <td>-0.560812</td>\n",
       "      <td>-0.495085</td>\n",
       "      <td>-0.207140</td>\n",
       "      <td>-0.064926</td>\n",
       "      <td>-0.206338</td>\n",
       "      <td>-0.088848</td>\n",
       "      <td>-0.184410</td>\n",
       "      <td>-0.059895</td>\n",
       "    </tr>\n",
       "  </tbody>\n",
       "</table>\n",
       "<p>5 rows × 388 columns</p>\n",
       "</div>"
      ],
      "text/plain": [
       "    Cell_Line  Drug_ID    Target TCGA_Type  DrugEmbedding_Dim0  \\\n",
       "0  ACH-000070   176870  0.693305       ALL            0.128356   \n",
       "1  ACH-000105   176870  1.738326       ALL            0.128356   \n",
       "2  ACH-000981   176870  2.838543       ALL            0.128356   \n",
       "3  ACH-000061   176870  3.880844       ALL            0.128356   \n",
       "4  ACH-001106   176870  2.112241       ALL            0.128356   \n",
       "\n",
       "   DrugEmbedding_Dim1  DrugEmbedding_Dim2  DrugEmbedding_Dim3  \\\n",
       "0            0.011836            0.243534            0.137116   \n",
       "1            0.011836            0.243534            0.137116   \n",
       "2            0.011836            0.243534            0.137116   \n",
       "3            0.011836            0.243534            0.137116   \n",
       "4            0.011836            0.243534            0.137116   \n",
       "\n",
       "   DrugEmbedding_Dim4  DrugEmbedding_Dim5  ...  CellEmbedding_Dim246  \\\n",
       "0            -0.13091           -0.240304  ...             -0.176026   \n",
       "1            -0.13091           -0.240304  ...             -0.121042   \n",
       "2            -0.13091           -0.240304  ...             -0.128809   \n",
       "3            -0.13091           -0.240304  ...             -0.172548   \n",
       "4            -0.13091           -0.240304  ...             -0.176026   \n",
       "\n",
       "   CellEmbedding_Dim247  CellEmbedding_Dim248  CellEmbedding_Dim249  \\\n",
       "0              0.054300              0.662075             -0.400942   \n",
       "1              0.124696             -0.560812             -0.504415   \n",
       "2              0.110884             -0.560812             -0.504415   \n",
       "3              0.060355              0.710201              0.061378   \n",
       "4              0.054300             -0.560812             -0.495085   \n",
       "\n",
       "   CellEmbedding_Dim250  CellEmbedding_Dim251  CellEmbedding_Dim252  \\\n",
       "0             -0.207140             -0.064926             -0.206338   \n",
       "1             -0.134911             -0.005806             -0.135737   \n",
       "2             -0.151752             -0.017094             -0.150296   \n",
       "3             -0.201455             -0.061008             -0.201532   \n",
       "4             -0.207140             -0.064926             -0.206338   \n",
       "\n",
       "   CellEmbedding_Dim253  CellEmbedding_Dim254  CellEmbedding_Dim255  \n",
       "0             -0.088848             -0.184410             -0.059895  \n",
       "1             -0.018490             -0.109957             -0.004947  \n",
       "2             -0.034415             -0.125914             -0.020937  \n",
       "3             -0.083990             -0.176958             -0.052960  \n",
       "4             -0.088848             -0.184410             -0.059895  \n",
       "\n",
       "[5 rows x 388 columns]"
      ]
     },
     "execution_count": 19,
     "metadata": {},
     "output_type": "execute_result"
    }
   ],
   "source": [
    "dualgcn_train.head()"
   ]
  },
  {
   "cell_type": "code",
   "execution_count": 20,
   "id": "7e62a800-6f13-4a2f-965d-62d34061612d",
   "metadata": {},
   "outputs": [],
   "source": [
    "dualgcn_test = pd.read_csv(\"..//data//DualGCN_Embedding_test.csv\")"
   ]
  },
  {
   "cell_type": "code",
   "execution_count": 21,
   "id": "4dfec46c-9f48-495a-9d0a-1b9fb0a05243",
   "metadata": {},
   "outputs": [
    {
     "data": {
      "text/plain": [
       "(17316, 388)"
      ]
     },
     "execution_count": 21,
     "metadata": {},
     "output_type": "execute_result"
    }
   ],
   "source": [
    "dualgcn_test.shape"
   ]
  },
  {
   "cell_type": "code",
   "execution_count": 22,
   "id": "5bd3f846-d0c4-4c92-b2af-1836b2cdf13b",
   "metadata": {},
   "outputs": [],
   "source": [
    "pubchem_to_drugs_df = pd.read_csv('..//data//1.Drug_listMon Jun 24 09_00_55 2019.csv')"
   ]
  },
  {
   "cell_type": "code",
   "execution_count": 23,
   "id": "9849918a-7bbb-4df6-9922-acc5822033f9",
   "metadata": {},
   "outputs": [
    {
     "data": {
      "text/html": [
       "<div>\n",
       "<style scoped>\n",
       "    .dataframe tbody tr th:only-of-type {\n",
       "        vertical-align: middle;\n",
       "    }\n",
       "\n",
       "    .dataframe tbody tr th {\n",
       "        vertical-align: top;\n",
       "    }\n",
       "\n",
       "    .dataframe thead th {\n",
       "        text-align: right;\n",
       "    }\n",
       "</style>\n",
       "<table border=\"1\" class=\"dataframe\">\n",
       "  <thead>\n",
       "    <tr style=\"text-align: right;\">\n",
       "      <th></th>\n",
       "      <th>drug_id</th>\n",
       "      <th>Name</th>\n",
       "      <th>Synonyms</th>\n",
       "      <th>Targets</th>\n",
       "      <th>Target pathway</th>\n",
       "      <th>PubCHEM</th>\n",
       "      <th>Sample Size</th>\n",
       "      <th>Count</th>\n",
       "    </tr>\n",
       "  </thead>\n",
       "  <tbody>\n",
       "    <tr>\n",
       "      <th>0</th>\n",
       "      <td>1242</td>\n",
       "      <td>(5Z)-7-Oxozeaenol</td>\n",
       "      <td>5Z-7-Oxozeaenol, LL-Z1640-2</td>\n",
       "      <td>TAK1</td>\n",
       "      <td>Other, kinases</td>\n",
       "      <td>9863776</td>\n",
       "      <td>945</td>\n",
       "      <td>266</td>\n",
       "    </tr>\n",
       "    <tr>\n",
       "      <th>1</th>\n",
       "      <td>179</td>\n",
       "      <td>5-Fluorouracil</td>\n",
       "      <td>5-FU</td>\n",
       "      <td>Antimetabolite (DNA &amp; RNA)</td>\n",
       "      <td>Other</td>\n",
       "      <td>3385</td>\n",
       "      <td>968</td>\n",
       "      <td>266</td>\n",
       "    </tr>\n",
       "    <tr>\n",
       "      <th>2</th>\n",
       "      <td>86</td>\n",
       "      <td>A-443654</td>\n",
       "      <td>KIN001-139</td>\n",
       "      <td>AKT1, AKT2, AKT3</td>\n",
       "      <td>PI3K/MTOR signaling</td>\n",
       "      <td>10172943</td>\n",
       "      <td>425</td>\n",
       "      <td>266</td>\n",
       "    </tr>\n",
       "    <tr>\n",
       "      <th>3</th>\n",
       "      <td>55</td>\n",
       "      <td>A-770041</td>\n",
       "      <td>KIN001-111</td>\n",
       "      <td>LCK, FYN</td>\n",
       "      <td>Other, kinases</td>\n",
       "      <td>9549184</td>\n",
       "      <td>426</td>\n",
       "      <td>266</td>\n",
       "    </tr>\n",
       "    <tr>\n",
       "      <th>4</th>\n",
       "      <td>1001</td>\n",
       "      <td>AICA Ribonucleotide</td>\n",
       "      <td>AICAR, N1-(b-D-Ribofuranosyl)-5-aminoimidazole...</td>\n",
       "      <td>AMPK agonist</td>\n",
       "      <td>Metabolism</td>\n",
       "      <td>65110</td>\n",
       "      <td>872</td>\n",
       "      <td>266</td>\n",
       "    </tr>\n",
       "  </tbody>\n",
       "</table>\n",
       "</div>"
      ],
      "text/plain": [
       "   drug_id                 Name  \\\n",
       "0     1242    (5Z)-7-Oxozeaenol   \n",
       "1      179       5-Fluorouracil   \n",
       "2       86             A-443654   \n",
       "3       55             A-770041   \n",
       "4     1001  AICA Ribonucleotide   \n",
       "\n",
       "                                            Synonyms  \\\n",
       "0                        5Z-7-Oxozeaenol, LL-Z1640-2   \n",
       "1                                               5-FU   \n",
       "2                                         KIN001-139   \n",
       "3                                         KIN001-111   \n",
       "4  AICAR, N1-(b-D-Ribofuranosyl)-5-aminoimidazole...   \n",
       "\n",
       "                      Targets       Target pathway   PubCHEM  Sample Size  \\\n",
       "0                        TAK1       Other, kinases   9863776          945   \n",
       "1  Antimetabolite (DNA & RNA)                Other      3385          968   \n",
       "2            AKT1, AKT2, AKT3  PI3K/MTOR signaling  10172943          425   \n",
       "3                    LCK, FYN       Other, kinases   9549184          426   \n",
       "4                AMPK agonist           Metabolism     65110          872   \n",
       "\n",
       "   Count  \n",
       "0    266  \n",
       "1    266  \n",
       "2    266  \n",
       "3    266  \n",
       "4    266  "
      ]
     },
     "execution_count": 23,
     "metadata": {},
     "output_type": "execute_result"
    }
   ],
   "source": [
    "pubchem_to_drugs_df.head()"
   ]
  },
  {
   "cell_type": "code",
   "execution_count": 24,
   "id": "a6c1f4b9-7e9b-461f-ae0e-b7dd65b28a37",
   "metadata": {},
   "outputs": [
    {
     "data": {
      "text/plain": [
       "(266, 8)"
      ]
     },
     "execution_count": 24,
     "metadata": {},
     "output_type": "execute_result"
    }
   ],
   "source": [
    "pubchem_to_drugs_df.shape"
   ]
  },
  {
   "cell_type": "code",
   "execution_count": 25,
   "id": "4c1cabed-895b-4a33-9478-9c414246d9d6",
   "metadata": {},
   "outputs": [],
   "source": [
    "pubchem_to_drugs_df = pubchem_to_drugs_df[[\"drug_id\", \"PubCHEM\"]]"
   ]
  },
  {
   "cell_type": "code",
   "execution_count": 26,
   "id": "06050248-be5d-4413-a9f6-afba9c6dc1da",
   "metadata": {},
   "outputs": [
    {
     "data": {
      "text/plain": [
       "drug_id     int64\n",
       "PubCHEM    object\n",
       "dtype: object"
      ]
     },
     "execution_count": 26,
     "metadata": {},
     "output_type": "execute_result"
    }
   ],
   "source": [
    "pubchem_to_drugs_df.dtypes"
   ]
  },
  {
   "cell_type": "code",
   "execution_count": 27,
   "id": "226a6b4e-ddb7-4f0a-8e24-25fe64de8992",
   "metadata": {},
   "outputs": [],
   "source": [
    "pubchem_to_drugs_df[\"PubCHEM\"] = [val if str(val).isdigit() else np.nan for val in pubchem_to_drugs_df[\"PubCHEM\"] ]"
   ]
  },
  {
   "cell_type": "code",
   "execution_count": 28,
   "id": "49920b0c-24e4-4900-b65c-238b7918cb9f",
   "metadata": {},
   "outputs": [],
   "source": [
    "pubchem_to_drugs_df = pubchem_to_drugs_df.dropna()"
   ]
  },
  {
   "cell_type": "code",
   "execution_count": 29,
   "id": "7691b28b-0ae2-4ed4-8e16-54ff384b9dee",
   "metadata": {},
   "outputs": [
    {
     "data": {
      "text/plain": [
       "drug_id     int64\n",
       "PubCHEM    object\n",
       "dtype: object"
      ]
     },
     "execution_count": 29,
     "metadata": {},
     "output_type": "execute_result"
    }
   ],
   "source": [
    "pubchem_to_drugs_df.dtypes"
   ]
  },
  {
   "cell_type": "code",
   "execution_count": 30,
   "id": "6462ade0-cd2d-491d-be8a-aa0e7ddd3863",
   "metadata": {},
   "outputs": [],
   "source": [
    "pubchem_to_drugs_df[\"drug_id\"] = pubchem_to_drugs_df[\"drug_id\"].astype(str)"
   ]
  },
  {
   "cell_type": "code",
   "execution_count": 31,
   "id": "030dd23b-61e1-4409-97e4-b2cad0dc91f8",
   "metadata": {},
   "outputs": [
    {
     "data": {
      "text/html": [
       "<div>\n",
       "<style scoped>\n",
       "    .dataframe tbody tr th:only-of-type {\n",
       "        vertical-align: middle;\n",
       "    }\n",
       "\n",
       "    .dataframe tbody tr th {\n",
       "        vertical-align: top;\n",
       "    }\n",
       "\n",
       "    .dataframe thead th {\n",
       "        text-align: right;\n",
       "    }\n",
       "</style>\n",
       "<table border=\"1\" class=\"dataframe\">\n",
       "  <thead>\n",
       "    <tr style=\"text-align: right;\">\n",
       "      <th></th>\n",
       "      <th>drug_id</th>\n",
       "      <th>PubCHEM</th>\n",
       "    </tr>\n",
       "  </thead>\n",
       "  <tbody>\n",
       "    <tr>\n",
       "      <th>0</th>\n",
       "      <td>1242</td>\n",
       "      <td>9863776</td>\n",
       "    </tr>\n",
       "    <tr>\n",
       "      <th>1</th>\n",
       "      <td>179</td>\n",
       "      <td>3385</td>\n",
       "    </tr>\n",
       "    <tr>\n",
       "      <th>2</th>\n",
       "      <td>86</td>\n",
       "      <td>10172943</td>\n",
       "    </tr>\n",
       "    <tr>\n",
       "      <th>3</th>\n",
       "      <td>55</td>\n",
       "      <td>9549184</td>\n",
       "    </tr>\n",
       "    <tr>\n",
       "      <th>4</th>\n",
       "      <td>1001</td>\n",
       "      <td>65110</td>\n",
       "    </tr>\n",
       "  </tbody>\n",
       "</table>\n",
       "</div>"
      ],
      "text/plain": [
       "  drug_id   PubCHEM\n",
       "0    1242   9863776\n",
       "1     179      3385\n",
       "2      86  10172943\n",
       "3      55   9549184\n",
       "4    1001     65110"
      ]
     },
     "execution_count": 31,
     "metadata": {},
     "output_type": "execute_result"
    }
   ],
   "source": [
    "pubchem_to_drugs_df.head()"
   ]
  },
  {
   "cell_type": "code",
   "execution_count": 32,
   "id": "62fb85b7-2d09-453d-9d3d-e0075da7a7a4",
   "metadata": {},
   "outputs": [
    {
     "data": {
      "text/plain": [
       "(238, 2)"
      ]
     },
     "execution_count": 32,
     "metadata": {},
     "output_type": "execute_result"
    }
   ],
   "source": [
    "pubchem_to_drugs_df.shape"
   ]
  },
  {
   "cell_type": "code",
   "execution_count": 33,
   "id": "4da1026c-a2e6-41c9-8255-23273961970d",
   "metadata": {},
   "outputs": [
    {
     "data": {
      "text/html": [
       "<div>\n",
       "<style scoped>\n",
       "    .dataframe tbody tr th:only-of-type {\n",
       "        vertical-align: middle;\n",
       "    }\n",
       "\n",
       "    .dataframe tbody tr th {\n",
       "        vertical-align: top;\n",
       "    }\n",
       "\n",
       "    .dataframe thead th {\n",
       "        text-align: right;\n",
       "    }\n",
       "</style>\n",
       "<table border=\"1\" class=\"dataframe\">\n",
       "  <thead>\n",
       "    <tr style=\"text-align: right;\">\n",
       "      <th></th>\n",
       "      <th>drug_id</th>\n",
       "      <th>Cancer_Cell_Line</th>\n",
       "      <th>Smiles</th>\n",
       "      <th>IC50</th>\n",
       "    </tr>\n",
       "  </thead>\n",
       "  <tbody>\n",
       "    <tr>\n",
       "      <th>0</th>\n",
       "      <td>1001</td>\n",
       "      <td>ACH-002137</td>\n",
       "      <td>NC(=O)c1ncn(C2OC(COP(=O)(O)O)C(O)C2O)c1N</td>\n",
       "      <td>7.258918</td>\n",
       "    </tr>\n",
       "    <tr>\n",
       "      <th>1</th>\n",
       "      <td>1004</td>\n",
       "      <td>ACH-002137</td>\n",
       "      <td>CCC1(O)CC2CN(CCc3c([nH]c4ccccc34)C(C(=O)OC)(c3...</td>\n",
       "      <td>-3.802467</td>\n",
       "    </tr>\n",
       "    <tr>\n",
       "      <th>2</th>\n",
       "      <td>1005</td>\n",
       "      <td>ACH-002137</td>\n",
       "      <td>N.N.[Cl-].[Cl-].[Pt+2]</td>\n",
       "      <td>4.146364</td>\n",
       "    </tr>\n",
       "    <tr>\n",
       "      <th>3</th>\n",
       "      <td>1006</td>\n",
       "      <td>ACH-002137</td>\n",
       "      <td>Nc1ccn(C2OC(CO)C(O)C2O)c(=O)n1</td>\n",
       "      <td>3.171367</td>\n",
       "    </tr>\n",
       "    <tr>\n",
       "      <th>4</th>\n",
       "      <td>1007</td>\n",
       "      <td>ACH-002137</td>\n",
       "      <td>CC(=O)OC12COC1CC(O)C1(C)C(=O)C(O)C3=C(C)C(OC(=...</td>\n",
       "      <td>-4.959442</td>\n",
       "    </tr>\n",
       "  </tbody>\n",
       "</table>\n",
       "</div>"
      ],
      "text/plain": [
       "  drug_id Cancer_Cell_Line                                             Smiles  \\\n",
       "0    1001       ACH-002137           NC(=O)c1ncn(C2OC(COP(=O)(O)O)C(O)C2O)c1N   \n",
       "1    1004       ACH-002137  CCC1(O)CC2CN(CCc3c([nH]c4ccccc34)C(C(=O)OC)(c3...   \n",
       "2    1005       ACH-002137                             N.N.[Cl-].[Cl-].[Pt+2]   \n",
       "3    1006       ACH-002137                     Nc1ccn(C2OC(CO)C(O)C2O)c(=O)n1   \n",
       "4    1007       ACH-002137  CC(=O)OC12COC1CC(O)C1(C)C(=O)C(O)C3=C(C)C(OC(=...   \n",
       "\n",
       "       IC50  \n",
       "0  7.258918  \n",
       "1 -3.802467  \n",
       "2  4.146364  \n",
       "3  3.171367  \n",
       "4 -4.959442  "
      ]
     },
     "execution_count": 33,
     "metadata": {},
     "output_type": "execute_result"
    }
   ],
   "source": [
    "drugs_smiles_cell_lines_ic50_df.head()"
   ]
  },
  {
   "cell_type": "code",
   "execution_count": 34,
   "id": "3c1900fa-6af2-4bd7-92d9-aeab2c221778",
   "metadata": {},
   "outputs": [
    {
     "data": {
      "text/plain": [
       "(186789, 4)"
      ]
     },
     "execution_count": 34,
     "metadata": {},
     "output_type": "execute_result"
    }
   ],
   "source": [
    "drugs_smiles_cell_lines_ic50_df.shape"
   ]
  },
  {
   "cell_type": "code",
   "execution_count": 35,
   "id": "9f061438-2c6a-4af0-8c06-210ec4276fa4",
   "metadata": {},
   "outputs": [],
   "source": [
    "ttt = drugs_smiles_cell_lines_ic50_df.drop([\"IC50\"],axis = 1)"
   ]
  },
  {
   "cell_type": "code",
   "execution_count": 36,
   "id": "3286fd91-f6df-49fc-8d72-5e493f31d0ae",
   "metadata": {},
   "outputs": [],
   "source": [
    "x_train, x_valid, y_train, y_valid = train_test_split(drugs_smiles_cell_lines_ic50_df.drop([\"IC50\"],axis = 1), drugs_smiles_cell_lines_ic50_df[\"IC50\"].values, \n",
    "                                                     test_size = 0.20, random_state = 42)"
   ]
  },
  {
   "cell_type": "code",
   "execution_count": 37,
   "id": "9810980f-76c1-4d46-9ddf-c6a6fdc1bc50",
   "metadata": {},
   "outputs": [
    {
     "data": {
      "text/plain": [
       "((149431, 3), (37358, 3), (149431,), (37358,))"
      ]
     },
     "execution_count": 37,
     "metadata": {},
     "output_type": "execute_result"
    }
   ],
   "source": [
    "x_train.shape, x_valid.shape, y_train.shape, y_valid.shape"
   ]
  },
  {
   "cell_type": "code",
   "execution_count": 38,
   "id": "1b1ddb77-6e32-4225-96ba-cce23480ab1b",
   "metadata": {},
   "outputs": [],
   "source": [
    "dualgcn_train[\"Drug_ID\"] = dualgcn_train[\"Drug_ID\"].astype(str)"
   ]
  },
  {
   "cell_type": "code",
   "execution_count": 39,
   "id": "5d534def-d5c7-4b2c-a3ee-f4c5c43650c2",
   "metadata": {},
   "outputs": [],
   "source": [
    "dualgcn_test[\"Drug_ID\"] = dualgcn_test[\"Drug_ID\"].astype(str)"
   ]
  },
  {
   "cell_type": "code",
   "execution_count": 40,
   "id": "5a7161ee-e146-4c38-a8b8-66369327384f",
   "metadata": {},
   "outputs": [
    {
     "data": {
      "text/plain": [
       "drug_id    object\n",
       "PubCHEM    object\n",
       "dtype: object"
      ]
     },
     "execution_count": 40,
     "metadata": {},
     "output_type": "execute_result"
    }
   ],
   "source": [
    "pubchem_to_drugs_df.dtypes"
   ]
  },
  {
   "cell_type": "code",
   "execution_count": 41,
   "id": "fe2f7f38-bb3b-431e-8a11-d72bb51ff666",
   "metadata": {},
   "outputs": [],
   "source": [
    "# dualgcn_train"
   ]
  },
  {
   "cell_type": "code",
   "execution_count": 42,
   "id": "26536155-5c48-4960-bff8-21c5ec06bab2",
   "metadata": {},
   "outputs": [],
   "source": [
    "dualgcn_train = pubchem_to_drugs_df.merge(dualgcn_train, left_on = [\"PubCHEM\"], right_on = [\"Drug_ID\"])"
   ]
  },
  {
   "cell_type": "code",
   "execution_count": 43,
   "id": "2bc82e0e-8eff-4ca1-bf75-b7a7a9b129e0",
   "metadata": {},
   "outputs": [],
   "source": [
    "dualgcn_train = dualgcn_train[['Cell_Line', 'drug_id']]"
   ]
  },
  {
   "cell_type": "code",
   "execution_count": 44,
   "id": "1e3ad01a-2d35-4bc6-9101-406c07ed1b8b",
   "metadata": {},
   "outputs": [
    {
     "data": {
      "text/plain": [
       "(69214, 2)"
      ]
     },
     "execution_count": 44,
     "metadata": {},
     "output_type": "execute_result"
    }
   ],
   "source": [
    "dualgcn_train.shape"
   ]
  },
  {
   "cell_type": "code",
   "execution_count": 45,
   "id": "d908a7c8-025f-4f45-a691-38a54c2ad88a",
   "metadata": {},
   "outputs": [
    {
     "data": {
      "text/html": [
       "<div>\n",
       "<style scoped>\n",
       "    .dataframe tbody tr th:only-of-type {\n",
       "        vertical-align: middle;\n",
       "    }\n",
       "\n",
       "    .dataframe tbody tr th {\n",
       "        vertical-align: top;\n",
       "    }\n",
       "\n",
       "    .dataframe thead th {\n",
       "        text-align: right;\n",
       "    }\n",
       "</style>\n",
       "<table border=\"1\" class=\"dataframe\">\n",
       "  <thead>\n",
       "    <tr style=\"text-align: right;\">\n",
       "      <th></th>\n",
       "      <th>Cell_Line</th>\n",
       "      <th>drug_id</th>\n",
       "    </tr>\n",
       "  </thead>\n",
       "  <tbody>\n",
       "    <tr>\n",
       "      <th>0</th>\n",
       "      <td>ACH-000070</td>\n",
       "      <td>1242</td>\n",
       "    </tr>\n",
       "    <tr>\n",
       "      <th>1</th>\n",
       "      <td>ACH-000105</td>\n",
       "      <td>1242</td>\n",
       "    </tr>\n",
       "    <tr>\n",
       "      <th>2</th>\n",
       "      <td>ACH-000981</td>\n",
       "      <td>1242</td>\n",
       "    </tr>\n",
       "    <tr>\n",
       "      <th>3</th>\n",
       "      <td>ACH-000061</td>\n",
       "      <td>1242</td>\n",
       "    </tr>\n",
       "    <tr>\n",
       "      <th>4</th>\n",
       "      <td>ACH-000995</td>\n",
       "      <td>1242</td>\n",
       "    </tr>\n",
       "  </tbody>\n",
       "</table>\n",
       "</div>"
      ],
      "text/plain": [
       "    Cell_Line drug_id\n",
       "0  ACH-000070    1242\n",
       "1  ACH-000105    1242\n",
       "2  ACH-000981    1242\n",
       "3  ACH-000061    1242\n",
       "4  ACH-000995    1242"
      ]
     },
     "execution_count": 45,
     "metadata": {},
     "output_type": "execute_result"
    }
   ],
   "source": [
    "dualgcn_train.head()"
   ]
  },
  {
   "cell_type": "code",
   "execution_count": 46,
   "id": "e50296fa-56b8-43be-84a0-11879a326b75",
   "metadata": {},
   "outputs": [
    {
     "name": "stdout",
     "output_type": "stream",
     "text": [
      "525\n",
      "208\n"
     ]
    }
   ],
   "source": [
    "print(dualgcn_train['Cell_Line'].value_counts().size)\n",
    "print(dualgcn_train['drug_id'].value_counts().size)"
   ]
  },
  {
   "cell_type": "code",
   "execution_count": 47,
   "id": "eae9ef05-6e1c-4aaa-bf6b-940d92f46ffb",
   "metadata": {},
   "outputs": [],
   "source": [
    "dualgcn_test = pubchem_to_drugs_df.merge(dualgcn_test, left_on = [\"PubCHEM\"], right_on = [\"Drug_ID\"])"
   ]
  },
  {
   "cell_type": "code",
   "execution_count": 48,
   "id": "f30684d3-1a27-4d66-8fc4-f84310a30d70",
   "metadata": {},
   "outputs": [],
   "source": [
    "dualgcn_test = dualgcn_test[['Cell_Line', 'drug_id']]"
   ]
  },
  {
   "cell_type": "code",
   "execution_count": 49,
   "id": "f0542289-770e-4e4b-b664-92e4bc29cfc0",
   "metadata": {},
   "outputs": [
    {
     "data": {
      "text/plain": [
       "Cell_Line    object\n",
       "drug_id      object\n",
       "dtype: object"
      ]
     },
     "execution_count": 49,
     "metadata": {},
     "output_type": "execute_result"
    }
   ],
   "source": [
    "dualgcn_train.dtypes"
   ]
  },
  {
   "cell_type": "code",
   "execution_count": 50,
   "id": "1c63ae0c-24be-4d2e-91d5-6e2616980c51",
   "metadata": {},
   "outputs": [
    {
     "data": {
      "text/plain": [
       "drug_id             object\n",
       "Cancer_Cell_Line    object\n",
       "Smiles              object\n",
       "dtype: object"
      ]
     },
     "execution_count": 50,
     "metadata": {},
     "output_type": "execute_result"
    }
   ],
   "source": [
    "x_train.dtypes"
   ]
  },
  {
   "cell_type": "code",
   "execution_count": 51,
   "id": "76078299-ae77-4b6b-99bf-c8d04c0d8d89",
   "metadata": {},
   "outputs": [],
   "source": [
    "x_train['drug_id'] = x_train['drug_id'].astype(str)"
   ]
  },
  {
   "cell_type": "code",
   "execution_count": 52,
   "id": "5c693879-9d22-426a-973c-10f2428782e8",
   "metadata": {},
   "outputs": [],
   "source": [
    "x_valid['drug_id'] = x_valid['drug_id'].astype(str)"
   ]
  },
  {
   "cell_type": "code",
   "execution_count": 53,
   "id": "2ddad51a-89c9-4445-872e-b5747ec42139",
   "metadata": {},
   "outputs": [
    {
     "name": "stdout",
     "output_type": "stream",
     "text": [
      "drug_id             object\n",
      "Cancer_Cell_Line    object\n",
      "Smiles              object\n",
      "dtype: object drug_id             object\n",
      "Cancer_Cell_Line    object\n",
      "Smiles              object\n",
      "dtype: object\n"
     ]
    }
   ],
   "source": [
    "print(x_train.dtypes, x_valid.dtypes)"
   ]
  },
  {
   "cell_type": "code",
   "execution_count": 54,
   "id": "bc17185f-ea74-4d95-8e77-549522dc6d9d",
   "metadata": {},
   "outputs": [],
   "source": [
    "x_train_valid_feats = pd.concat([x_train, x_valid], ignore_index = True)"
   ]
  },
  {
   "cell_type": "code",
   "execution_count": 55,
   "id": "3dd68714-74df-4643-9b6a-554e0db5884e",
   "metadata": {},
   "outputs": [],
   "source": [
    "y_train_valid = pd.concat([pd.DataFrame(y_train.reshape(-1,1)), pd.DataFrame(y_valid.reshape(-1,1))], ignore_index = True)"
   ]
  },
  {
   "cell_type": "code",
   "execution_count": 56,
   "id": "9730b166-9a91-4349-bff4-2fe3feaf59a2",
   "metadata": {},
   "outputs": [],
   "source": [
    "x_train_only = x_train_valid_feats.iloc[:149431, :]\n",
    "x_valid_only = x_train_valid_feats.iloc[149431:, :]"
   ]
  },
  {
   "cell_type": "code",
   "execution_count": 57,
   "id": "0be043be-e8a5-4a5c-8d91-eb0ee0f6a11b",
   "metadata": {},
   "outputs": [
    {
     "name": "stdout",
     "output_type": "stream",
     "text": [
      "1.0\n",
      "1.0\n",
      "1.0\n",
      "1.0\n",
      "1.0\n",
      "1.0\n"
     ]
    }
   ],
   "source": [
    "# quick verifying of the train and valid data is concatenated correctly\n",
    "print(np.mean(x_train_only['drug_id'].values == x_train['drug_id'].values))\n",
    "print(np.mean(x_train_only['Cancer_Cell_Line'].values == x_train['Cancer_Cell_Line'].values))\n",
    "print(np.mean(x_train_only['Smiles'].values == x_train['Smiles'].values))\n",
    "\n",
    "print(np.mean(x_valid_only['drug_id'].values == x_valid['drug_id'].values))\n",
    "print(np.mean(x_valid_only['Cancer_Cell_Line'].values == x_valid['Cancer_Cell_Line'].values))\n",
    "print(np.mean(x_valid_only['Smiles'].values == x_valid['Smiles'].values))"
   ]
  },
  {
   "cell_type": "code",
   "execution_count": 58,
   "id": "1fd0d8df-9414-4fa8-b9c5-cc9f2b15895d",
   "metadata": {},
   "outputs": [],
   "source": [
    "# quick verifying of the train and valid data is concatenated correctly\n",
    "y_train_only = y_train_valid.iloc[:149431, :]\n",
    "y_valid_only = y_train_valid.iloc[149431:, :]"
   ]
  },
  {
   "cell_type": "code",
   "execution_count": 59,
   "id": "70c48a9c-7d7e-4569-8c2d-84b7f2b966f7",
   "metadata": {},
   "outputs": [
    {
     "name": "stdout",
     "output_type": "stream",
     "text": [
      "1.0\n",
      "1.0\n"
     ]
    }
   ],
   "source": [
    "print(np.mean(y_train_only.values.reshape(1,-1) == y_train))\n",
    "print(np.mean(y_valid_only.values.reshape(1,-1) == y_valid))"
   ]
  },
  {
   "cell_type": "code",
   "execution_count": 60,
   "id": "c26ae23f-b439-4b55-b904-3ce17f47fdce",
   "metadata": {},
   "outputs": [
    {
     "data": {
      "text/plain": [
       "(2.07713533482343, 2.0784021872423577, 2.723665295435388, 2.716344975603266)"
      ]
     },
     "execution_count": 60,
     "metadata": {},
     "output_type": "execute_result"
    }
   ],
   "source": [
    "np.mean(y_train), np.mean(y_valid), np.std(y_train), np.std(y_valid)"
   ]
  },
  {
   "cell_type": "code",
   "execution_count": 61,
   "id": "e5bdf3b9-9644-4f7a-a2d3-825b184a4671",
   "metadata": {},
   "outputs": [],
   "source": [
    "combo_train_valid = pd.concat([x_train_valid_feats, y_train_valid], axis = 1)"
   ]
  },
  {
   "cell_type": "code",
   "execution_count": 62,
   "id": "9e721271-f433-42c9-b7e2-fc3546672d59",
   "metadata": {},
   "outputs": [],
   "source": [
    "# combo_train_valid"
   ]
  },
  {
   "cell_type": "code",
   "execution_count": 63,
   "id": "b9de540d-bb4c-48e1-bcbe-b07df1a2c7f7",
   "metadata": {},
   "outputs": [],
   "source": [
    "combo_train_valid.columns = ['drug_id', 'Cancer_Cell_Line', 'Smiles', 'IC50']"
   ]
  },
  {
   "cell_type": "code",
   "execution_count": 64,
   "id": "ea6dbf88-7afb-42c9-b047-5fe452238bfe",
   "metadata": {},
   "outputs": [
    {
     "data": {
      "text/html": [
       "<div>\n",
       "<style scoped>\n",
       "    .dataframe tbody tr th:only-of-type {\n",
       "        vertical-align: middle;\n",
       "    }\n",
       "\n",
       "    .dataframe tbody tr th {\n",
       "        vertical-align: top;\n",
       "    }\n",
       "\n",
       "    .dataframe thead th {\n",
       "        text-align: right;\n",
       "    }\n",
       "</style>\n",
       "<table border=\"1\" class=\"dataframe\">\n",
       "  <thead>\n",
       "    <tr style=\"text-align: right;\">\n",
       "      <th></th>\n",
       "      <th>drug_id</th>\n",
       "      <th>Cancer_Cell_Line</th>\n",
       "      <th>Smiles</th>\n",
       "      <th>IC50</th>\n",
       "    </tr>\n",
       "  </thead>\n",
       "  <tbody>\n",
       "    <tr>\n",
       "      <th>0</th>\n",
       "      <td>1030</td>\n",
       "      <td>ACH-000295</td>\n",
       "      <td>O=c1cc(-c2cccc3c2Sc2ccccc2S3)oc(N2CCOCC2)c1</td>\n",
       "      <td>3.143044</td>\n",
       "    </tr>\n",
       "    <tr>\n",
       "      <th>1</th>\n",
       "      <td>203</td>\n",
       "      <td>ACH-000292</td>\n",
       "      <td>Cc1ccc2nc(NCCN)c3ncc(C)n3c2c1</td>\n",
       "      <td>2.772620</td>\n",
       "    </tr>\n",
       "    <tr>\n",
       "      <th>2</th>\n",
       "      <td>1072</td>\n",
       "      <td>ACH-002273</td>\n",
       "      <td>NC(=O)C(CCC(F)(F)F)N(Cc1ccc(-c2ncon2)cc1F)S(=O...</td>\n",
       "      <td>3.809977</td>\n",
       "    </tr>\n",
       "    <tr>\n",
       "      <th>3</th>\n",
       "      <td>150</td>\n",
       "      <td>ACH-000631</td>\n",
       "      <td>CC(O)(CS(=O)(=O)c1ccc(F)cc1)C(=O)Nc1ccc(C#N)c(...</td>\n",
       "      <td>3.053030</td>\n",
       "    </tr>\n",
       "    <tr>\n",
       "      <th>4</th>\n",
       "      <td>282</td>\n",
       "      <td>ACH-000270</td>\n",
       "      <td>CCOc1cc2ncc(C#N)c(Nc3ccc(F)c(Cl)c3)c2cc1NC(=O)...</td>\n",
       "      <td>-0.367467</td>\n",
       "    </tr>\n",
       "  </tbody>\n",
       "</table>\n",
       "</div>"
      ],
      "text/plain": [
       "  drug_id Cancer_Cell_Line                                             Smiles  \\\n",
       "0    1030       ACH-000295        O=c1cc(-c2cccc3c2Sc2ccccc2S3)oc(N2CCOCC2)c1   \n",
       "1     203       ACH-000292                      Cc1ccc2nc(NCCN)c3ncc(C)n3c2c1   \n",
       "2    1072       ACH-002273  NC(=O)C(CCC(F)(F)F)N(Cc1ccc(-c2ncon2)cc1F)S(=O...   \n",
       "3     150       ACH-000631  CC(O)(CS(=O)(=O)c1ccc(F)cc1)C(=O)Nc1ccc(C#N)c(...   \n",
       "4     282       ACH-000270  CCOc1cc2ncc(C#N)c(Nc3ccc(F)c(Cl)c3)c2cc1NC(=O)...   \n",
       "\n",
       "       IC50  \n",
       "0  3.143044  \n",
       "1  2.772620  \n",
       "2  3.809977  \n",
       "3  3.053030  \n",
       "4 -0.367467  "
      ]
     },
     "execution_count": 64,
     "metadata": {},
     "output_type": "execute_result"
    }
   ],
   "source": [
    "combo_train_valid.head()"
   ]
  },
  {
   "cell_type": "code",
   "execution_count": 65,
   "id": "d2efd456-f855-45a9-8062-b373a3bf5eb4",
   "metadata": {},
   "outputs": [
    {
     "data": {
      "text/plain": [
       "(186789, 4)"
      ]
     },
     "execution_count": 65,
     "metadata": {},
     "output_type": "execute_result"
    }
   ],
   "source": [
    "combo_train_valid.shape"
   ]
  },
  {
   "cell_type": "code",
   "execution_count": 66,
   "id": "6ad83127-f200-4ea3-8405-e3ec9e599ec1",
   "metadata": {},
   "outputs": [],
   "source": [
    "# filter x_train x _valid here\n",
    "x_y_train = combo_train_valid.merge(dualgcn_train, left_on = ['Cancer_Cell_Line','drug_id'], right_on = [ 'Cell_Line','drug_id'])"
   ]
  },
  {
   "cell_type": "code",
   "execution_count": 67,
   "id": "3ff87221-d69e-4ac0-b81c-408c18e6f3eb",
   "metadata": {},
   "outputs": [],
   "source": [
    "x_y_test = combo_train_valid.merge(dualgcn_test, left_on = ['Cancer_Cell_Line','drug_id'], right_on = [ 'Cell_Line','drug_id'])"
   ]
  },
  {
   "cell_type": "code",
   "execution_count": 68,
   "id": "58f33c87-b044-4a69-a25d-ef8c4c47cb0b",
   "metadata": {},
   "outputs": [
    {
     "data": {
      "text/html": [
       "<div>\n",
       "<style scoped>\n",
       "    .dataframe tbody tr th:only-of-type {\n",
       "        vertical-align: middle;\n",
       "    }\n",
       "\n",
       "    .dataframe tbody tr th {\n",
       "        vertical-align: top;\n",
       "    }\n",
       "\n",
       "    .dataframe thead th {\n",
       "        text-align: right;\n",
       "    }\n",
       "</style>\n",
       "<table border=\"1\" class=\"dataframe\">\n",
       "  <thead>\n",
       "    <tr style=\"text-align: right;\">\n",
       "      <th></th>\n",
       "      <th>drug_id</th>\n",
       "      <th>Cancer_Cell_Line</th>\n",
       "      <th>Smiles</th>\n",
       "      <th>IC50</th>\n",
       "      <th>Cell_Line</th>\n",
       "    </tr>\n",
       "  </thead>\n",
       "  <tbody>\n",
       "    <tr>\n",
       "      <th>0</th>\n",
       "      <td>203</td>\n",
       "      <td>ACH-000292</td>\n",
       "      <td>Cc1ccc2nc(NCCN)c3ncc(C)n3c2c1</td>\n",
       "      <td>2.772620</td>\n",
       "      <td>ACH-000292</td>\n",
       "    </tr>\n",
       "    <tr>\n",
       "      <th>1</th>\n",
       "      <td>282</td>\n",
       "      <td>ACH-000270</td>\n",
       "      <td>CCOc1cc2ncc(C#N)c(Nc3ccc(F)c(Cl)c3)c2cc1NC(=O)...</td>\n",
       "      <td>-0.367467</td>\n",
       "      <td>ACH-000270</td>\n",
       "    </tr>\n",
       "    <tr>\n",
       "      <th>2</th>\n",
       "      <td>51</td>\n",
       "      <td>ACH-000087</td>\n",
       "      <td>Cc1nc(Nc2ncc(C(=O)Nc3c(C)cccc3Cl)s2)cc(N2CCN(C...</td>\n",
       "      <td>2.620152</td>\n",
       "      <td>ACH-000087</td>\n",
       "    </tr>\n",
       "    <tr>\n",
       "      <th>3</th>\n",
       "      <td>167</td>\n",
       "      <td>ACH-000948</td>\n",
       "      <td>NCC(=O)Nc1ccc(-n2nc(C(F)(F)F)cc2-c2ccc3c(ccc4c...</td>\n",
       "      <td>2.061684</td>\n",
       "      <td>ACH-000948</td>\n",
       "    </tr>\n",
       "    <tr>\n",
       "      <th>4</th>\n",
       "      <td>180</td>\n",
       "      <td>ACH-000971</td>\n",
       "      <td>CC=C(C)C(=O)OC1C(C)=C2C(C1OC(=O)CCCCCCC)C(C)(O...</td>\n",
       "      <td>-5.105745</td>\n",
       "      <td>ACH-000971</td>\n",
       "    </tr>\n",
       "  </tbody>\n",
       "</table>\n",
       "</div>"
      ],
      "text/plain": [
       "  drug_id Cancer_Cell_Line                                             Smiles  \\\n",
       "0     203       ACH-000292                      Cc1ccc2nc(NCCN)c3ncc(C)n3c2c1   \n",
       "1     282       ACH-000270  CCOc1cc2ncc(C#N)c(Nc3ccc(F)c(Cl)c3)c2cc1NC(=O)...   \n",
       "2      51       ACH-000087  Cc1nc(Nc2ncc(C(=O)Nc3c(C)cccc3Cl)s2)cc(N2CCN(C...   \n",
       "3     167       ACH-000948  NCC(=O)Nc1ccc(-n2nc(C(F)(F)F)cc2-c2ccc3c(ccc4c...   \n",
       "4     180       ACH-000971  CC=C(C)C(=O)OC1C(C)=C2C(C1OC(=O)CCCCCCC)C(C)(O...   \n",
       "\n",
       "       IC50   Cell_Line  \n",
       "0  2.772620  ACH-000292  \n",
       "1 -0.367467  ACH-000270  \n",
       "2  2.620152  ACH-000087  \n",
       "3  2.061684  ACH-000948  \n",
       "4 -5.105745  ACH-000971  "
      ]
     },
     "execution_count": 68,
     "metadata": {},
     "output_type": "execute_result"
    }
   ],
   "source": [
    "x_y_train.head()"
   ]
  },
  {
   "cell_type": "code",
   "execution_count": 69,
   "id": "6ca8133d-93bf-4598-a809-106415ce65f1",
   "metadata": {},
   "outputs": [
    {
     "data": {
      "text/plain": [
       "(69214, 5)"
      ]
     },
     "execution_count": 69,
     "metadata": {},
     "output_type": "execute_result"
    }
   ],
   "source": [
    "x_y_train.shape"
   ]
  },
  {
   "cell_type": "code",
   "execution_count": 70,
   "id": "7b68f840-ab95-4fb6-8e9b-38edf7afd4e4",
   "metadata": {},
   "outputs": [
    {
     "data": {
      "text/plain": [
       "(2.049294179775768, 2.8425066110138553)"
      ]
     },
     "execution_count": 70,
     "metadata": {},
     "output_type": "execute_result"
    }
   ],
   "source": [
    "np.mean(x_y_train['IC50']), np.std(x_y_train['IC50'])"
   ]
  },
  {
   "cell_type": "code",
   "execution_count": 71,
   "id": "9d286265-bbd6-4410-bcf7-3326e2bcfb6b",
   "metadata": {},
   "outputs": [
    {
     "data": {
      "text/html": [
       "<div>\n",
       "<style scoped>\n",
       "    .dataframe tbody tr th:only-of-type {\n",
       "        vertical-align: middle;\n",
       "    }\n",
       "\n",
       "    .dataframe tbody tr th {\n",
       "        vertical-align: top;\n",
       "    }\n",
       "\n",
       "    .dataframe thead th {\n",
       "        text-align: right;\n",
       "    }\n",
       "</style>\n",
       "<table border=\"1\" class=\"dataframe\">\n",
       "  <thead>\n",
       "    <tr style=\"text-align: right;\">\n",
       "      <th></th>\n",
       "      <th>drug_id</th>\n",
       "      <th>Cancer_Cell_Line</th>\n",
       "      <th>Smiles</th>\n",
       "      <th>IC50</th>\n",
       "      <th>Cell_Line</th>\n",
       "    </tr>\n",
       "  </thead>\n",
       "  <tbody>\n",
       "    <tr>\n",
       "      <th>0</th>\n",
       "      <td>1030</td>\n",
       "      <td>ACH-000295</td>\n",
       "      <td>O=c1cc(-c2cccc3c2Sc2ccccc2S3)oc(N2CCOCC2)c1</td>\n",
       "      <td>3.143044</td>\n",
       "      <td>ACH-000295</td>\n",
       "    </tr>\n",
       "    <tr>\n",
       "      <th>1</th>\n",
       "      <td>249</td>\n",
       "      <td>ACH-000613</td>\n",
       "      <td>COc1cc2nccc(Oc3ccc(NC(=O)C4(C(=O)Nc5ccc(F)cc5)...</td>\n",
       "      <td>3.213836</td>\n",
       "      <td>ACH-000613</td>\n",
       "    </tr>\n",
       "    <tr>\n",
       "      <th>2</th>\n",
       "      <td>1005</td>\n",
       "      <td>ACH-000802</td>\n",
       "      <td>N.N.[Cl-].[Cl-].[Pt+2]</td>\n",
       "      <td>1.036346</td>\n",
       "      <td>ACH-000802</td>\n",
       "    </tr>\n",
       "    <tr>\n",
       "      <th>3</th>\n",
       "      <td>300</td>\n",
       "      <td>ACH-000174</td>\n",
       "      <td>Cc1cnc(CNC(=O)c2c(=O)c3ccc(N4CCCN(C)CC4)nc3n3c...</td>\n",
       "      <td>3.379955</td>\n",
       "      <td>ACH-000174</td>\n",
       "    </tr>\n",
       "    <tr>\n",
       "      <th>4</th>\n",
       "      <td>178</td>\n",
       "      <td>ACH-000362</td>\n",
       "      <td>COc1ccc(-c2cc3nccn3c(Nc3ncccc3C(N)=O)n2)cc1OC</td>\n",
       "      <td>-2.087380</td>\n",
       "      <td>ACH-000362</td>\n",
       "    </tr>\n",
       "  </tbody>\n",
       "</table>\n",
       "</div>"
      ],
      "text/plain": [
       "  drug_id Cancer_Cell_Line                                             Smiles  \\\n",
       "0    1030       ACH-000295        O=c1cc(-c2cccc3c2Sc2ccccc2S3)oc(N2CCOCC2)c1   \n",
       "1     249       ACH-000613  COc1cc2nccc(Oc3ccc(NC(=O)C4(C(=O)Nc5ccc(F)cc5)...   \n",
       "2    1005       ACH-000802                             N.N.[Cl-].[Cl-].[Pt+2]   \n",
       "3     300       ACH-000174  Cc1cnc(CNC(=O)c2c(=O)c3ccc(N4CCCN(C)CC4)nc3n3c...   \n",
       "4     178       ACH-000362      COc1ccc(-c2cc3nccn3c(Nc3ncccc3C(N)=O)n2)cc1OC   \n",
       "\n",
       "       IC50   Cell_Line  \n",
       "0  3.143044  ACH-000295  \n",
       "1  3.213836  ACH-000613  \n",
       "2  1.036346  ACH-000802  \n",
       "3  3.379955  ACH-000174  \n",
       "4 -2.087380  ACH-000362  "
      ]
     },
     "execution_count": 71,
     "metadata": {},
     "output_type": "execute_result"
    }
   ],
   "source": [
    "x_y_test.head()"
   ]
  },
  {
   "cell_type": "code",
   "execution_count": 72,
   "id": "ec82dcfb-19a9-40b6-9937-f522c8734c20",
   "metadata": {},
   "outputs": [
    {
     "data": {
      "text/plain": [
       "(17316, 5)"
      ]
     },
     "execution_count": 72,
     "metadata": {},
     "output_type": "execute_result"
    }
   ],
   "source": [
    "x_y_test.shape"
   ]
  },
  {
   "cell_type": "code",
   "execution_count": 73,
   "id": "e9e8266f-06c2-453a-a8a3-0f26347b2e58",
   "metadata": {},
   "outputs": [
    {
     "data": {
      "text/plain": [
       "Cell_Line\n",
       "ACH-000647    179\n",
       "ACH-000800    179\n",
       "ACH-000151    177\n",
       "ACH-000157    176\n",
       "ACH-000295    176\n",
       "             ... \n",
       "ACH-000763     41\n",
       "ACH-000727     35\n",
       "ACH-000345     24\n",
       "ACH-000225     20\n",
       "ACH-000035     15\n",
       "Name: count, Length: 525, dtype: int64"
      ]
     },
     "execution_count": 73,
     "metadata": {},
     "output_type": "execute_result"
    }
   ],
   "source": [
    "dualgcn_train['Cell_Line'].value_counts()"
   ]
  },
  {
   "cell_type": "code",
   "execution_count": 74,
   "id": "6858d883-30ab-4f0a-99ee-9ec29d41036f",
   "metadata": {},
   "outputs": [
    {
     "data": {
      "text/plain": [
       "Cancer_Cell_Line\n",
       "ACH-000647    179\n",
       "ACH-000800    179\n",
       "ACH-000151    177\n",
       "ACH-000295    176\n",
       "ACH-000157    176\n",
       "             ... \n",
       "ACH-000763     41\n",
       "ACH-000727     35\n",
       "ACH-000345     24\n",
       "ACH-000225     20\n",
       "ACH-000035     15\n",
       "Name: count, Length: 525, dtype: int64"
      ]
     },
     "execution_count": 74,
     "metadata": {},
     "output_type": "execute_result"
    }
   ],
   "source": [
    "x_y_train['Cancer_Cell_Line'].value_counts()"
   ]
  },
  {
   "cell_type": "code",
   "execution_count": 75,
   "id": "9283e5f4-80a6-4e6a-8fd0-1a8f64659729",
   "metadata": {},
   "outputs": [
    {
     "data": {
      "text/plain": [
       "Cell_Line\n",
       "ACH-000488    53\n",
       "ACH-000706    53\n",
       "ACH-000983    52\n",
       "ACH-000943    52\n",
       "ACH-000353    52\n",
       "              ..\n",
       "ACH-000506     8\n",
       "ACH-000681     8\n",
       "ACH-000187     6\n",
       "ACH-000225     4\n",
       "ACH-000035     3\n",
       "Name: count, Length: 524, dtype: int64"
      ]
     },
     "execution_count": 75,
     "metadata": {},
     "output_type": "execute_result"
    }
   ],
   "source": [
    "dualgcn_test['Cell_Line'].value_counts()"
   ]
  },
  {
   "cell_type": "code",
   "execution_count": 76,
   "id": "ca3a85bd-10c1-4bb1-99b9-b6e0e077844f",
   "metadata": {},
   "outputs": [
    {
     "data": {
      "text/plain": [
       "Cancer_Cell_Line\n",
       "ACH-000488    53\n",
       "ACH-000706    53\n",
       "ACH-000943    52\n",
       "ACH-000983    52\n",
       "ACH-000353    52\n",
       "              ..\n",
       "ACH-000506     8\n",
       "ACH-000681     8\n",
       "ACH-000187     6\n",
       "ACH-000225     4\n",
       "ACH-000035     3\n",
       "Name: count, Length: 524, dtype: int64"
      ]
     },
     "execution_count": 76,
     "metadata": {},
     "output_type": "execute_result"
    }
   ],
   "source": [
    "x_y_test['Cancer_Cell_Line'].value_counts()"
   ]
  },
  {
   "cell_type": "code",
   "execution_count": 77,
   "id": "1702a18a-ef8c-4041-a72c-8355be9d2d49",
   "metadata": {},
   "outputs": [],
   "source": [
    "# Do a train test split here for the train and validation sets based on the train dataset - have a test size of 20%"
   ]
  },
  {
   "cell_type": "code",
   "execution_count": 78,
   "id": "2e379fb0-8a4c-4481-801c-22ad21dca5ab",
   "metadata": {},
   "outputs": [],
   "source": [
    "x_train, x_valid, y_train, y_valid = train_test_split(x_y_train.drop([\"IC50\", 'Cell_Line'],axis = 1),x_y_train[\"IC50\"].values, random_state = 42, test_size = 0.2)"
   ]
  },
  {
   "cell_type": "code",
   "execution_count": 79,
   "id": "073efbe3-c8e0-4590-b55c-6cd3d30166b6",
   "metadata": {},
   "outputs": [
    {
     "name": "stdout",
     "output_type": "stream",
     "text": [
      "x train shape (55371, 3)\n",
      "x valid shape (13843, 3)\n",
      "y train shape (55371,)\n",
      "y valid shape (13843,)\n"
     ]
    }
   ],
   "source": [
    "print(\"x train shape\", x_train.shape)\n",
    "print(\"x valid shape\", x_valid.shape)\n",
    "print(\"y train shape\", y_train.shape)\n",
    "print(\"y valid shape\", y_valid.shape)"
   ]
  },
  {
   "cell_type": "code",
   "execution_count": 80,
   "id": "c5287b33-a8a0-426e-8cf5-4c7c7ab14026",
   "metadata": {},
   "outputs": [
    {
     "data": {
      "text/plain": [
       "(2.0558525880515073, 2.8441288895772825, 2.0230610204435453, 2.835856668835907)"
      ]
     },
     "execution_count": 80,
     "metadata": {},
     "output_type": "execute_result"
    }
   ],
   "source": [
    "np.mean(y_train), np.std(y_train), np.mean(y_valid), np.std(y_valid)"
   ]
  },
  {
   "cell_type": "code",
   "execution_count": 81,
   "id": "d526502f-cd0c-45f1-b1ac-21062fdb1ab6",
   "metadata": {},
   "outputs": [],
   "source": [
    "x_test, y_test = x_y_test.drop([\"IC50\", 'Cell_Line'], axis = 1), x_y_test[\"IC50\"].values"
   ]
  },
  {
   "cell_type": "code",
   "execution_count": 82,
   "id": "2a23b681-34c0-4140-87d1-1ecc4af2fcc7",
   "metadata": {},
   "outputs": [
    {
     "name": "stdout",
     "output_type": "stream",
     "text": [
      "x test shape (17316, 3)\n",
      "y test shape (17316,)\n"
     ]
    }
   ],
   "source": [
    "print(\"x test shape\", x_test.shape)\n",
    "print(\"y test shape\", y_test.shape)"
   ]
  },
  {
   "cell_type": "code",
   "execution_count": 83,
   "id": "547c0770-d8a9-40c2-8d8d-ddb55a538de3",
   "metadata": {},
   "outputs": [
    {
     "data": {
      "text/plain": [
       "(2.063824293081543, 2.8309603843576316)"
      ]
     },
     "execution_count": 83,
     "metadata": {},
     "output_type": "execute_result"
    }
   ],
   "source": [
    "np.mean(y_test), np.std(y_test)"
   ]
  },
  {
   "cell_type": "code",
   "execution_count": 84,
   "id": "d8e8a19c-3fc2-4c28-8a5c-5d44890baff8",
   "metadata": {},
   "outputs": [],
   "source": [
    "train_gcn_feats = []\n",
    "train_adj_list = []\n",
    "for drug_id in x_train[\"drug_id\"].values:\n",
    "    train_gcn_feats.append(dict_features[drug_id])\n",
    "    train_adj_list.append(dict_normalized_adj_mats[drug_id])"
   ]
  },
  {
   "cell_type": "code",
   "execution_count": 85,
   "id": "f18af922-6ad2-4ec9-8a06-e21dfec89e16",
   "metadata": {},
   "outputs": [],
   "source": [
    "valid_gcn_feats = []\n",
    "valid_adj_list = []\n",
    "for drug_id in x_valid[\"drug_id\"].values:\n",
    "    valid_gcn_feats.append(dict_features[drug_id])\n",
    "    valid_adj_list.append(dict_normalized_adj_mats[drug_id])"
   ]
  },
  {
   "cell_type": "code",
   "execution_count": 86,
   "id": "3bbaaa59-2ff0-4cbe-a2f9-6b33fdb17488",
   "metadata": {},
   "outputs": [],
   "source": [
    "test_gcn_feats = []\n",
    "test_adj_list = []\n",
    "for drug_id in x_test[\"drug_id\"].values:\n",
    "    test_gcn_feats.append(dict_features[drug_id])\n",
    "    test_adj_list.append(dict_normalized_adj_mats[drug_id])"
   ]
  },
  {
   "cell_type": "code",
   "execution_count": 87,
   "id": "8727a949-fe53-4c23-a8f1-495b0575cfe7",
   "metadata": {},
   "outputs": [
    {
     "name": "stdout",
     "output_type": "stream",
     "text": [
      "CPU times: user 2.69 s, sys: 698 ms, total: 3.39 s\n",
      "Wall time: 3.4 s\n"
     ]
    }
   ],
   "source": [
    "%%time\n",
    "train_gcn_feats = np.array(train_gcn_feats).astype(\"float16\")\n",
    "valid_gcn_feats = np.array(valid_gcn_feats).astype(\"float16\")\n",
    "test_gcn_feats = np.array(test_gcn_feats).astype(\"float16\")"
   ]
  },
  {
   "cell_type": "code",
   "execution_count": 88,
   "id": "ff086703-f6e7-4625-a8fb-ace4361d8d9a",
   "metadata": {},
   "outputs": [
    {
     "name": "stdout",
     "output_type": "stream",
     "text": [
      "False\n",
      "False\n",
      "False\n"
     ]
    }
   ],
   "source": [
    "print(np.isnan(train_gcn_feats).any())\n",
    "print(np.isnan(valid_gcn_feats).any())\n",
    "print(np.isnan(test_gcn_feats).any())"
   ]
  },
  {
   "cell_type": "code",
   "execution_count": 89,
   "id": "2051e9cb-d041-4112-8155-cac3b6ef6684",
   "metadata": {},
   "outputs": [
    {
     "name": "stdout",
     "output_type": "stream",
     "text": [
      "CPU times: user 3.6 s, sys: 909 ms, total: 4.51 s\n",
      "Wall time: 4.51 s\n"
     ]
    }
   ],
   "source": [
    "%%time\n",
    "train_adj_list = np.array(train_adj_list).astype(\"float16\")\n",
    "valid_adj_list = np.array(valid_adj_list).astype(\"float16\")\n",
    "test_adj_list = np.array(test_adj_list).astype(\"float16\")"
   ]
  },
  {
   "cell_type": "code",
   "execution_count": 90,
   "id": "5abe8da0-ceaf-4259-888c-370fc744a224",
   "metadata": {},
   "outputs": [
    {
     "name": "stdout",
     "output_type": "stream",
     "text": [
      "False\n",
      "False\n",
      "False\n"
     ]
    }
   ],
   "source": [
    "print(np.isnan(train_adj_list).any())\n",
    "print(np.isnan(valid_adj_list).any())\n",
    "print(np.isnan(test_adj_list).any())"
   ]
  },
  {
   "cell_type": "code",
   "execution_count": 91,
   "id": "b57c86db-c67b-4492-b945-9ee5ef7633be",
   "metadata": {},
   "outputs": [
    {
     "name": "stderr",
     "output_type": "stream",
     "text": [
      "2024-07-11 15:55:47.125568: I tensorflow/core/common_runtime/gpu/gpu_device.cc:1929] Created device /job:localhost/replica:0/task:0/device:GPU:0 with 31141 MB memory:  -> device: 0, name: Tesla V100S-PCIE-32GB, pci bus id: 0000:86:00.0, compute capability: 7.0\n"
     ]
    },
    {
     "name": "stdout",
     "output_type": "stream",
     "text": [
      "WARNING:tensorflow:No training configuration found in save file, so the model was *not* compiled. Compile it manually.\n"
     ]
    },
    {
     "name": "stderr",
     "output_type": "stream",
     "text": [
      "WARNING:tensorflow:No training configuration found in save file, so the model was *not* compiled. Compile it manually.\n"
     ]
    },
    {
     "name": "stdout",
     "output_type": "stream",
     "text": [
      "WARNING:tensorflow:No training configuration found in save file, so the model was *not* compiled. Compile it manually.\n"
     ]
    },
    {
     "name": "stderr",
     "output_type": "stream",
     "text": [
      "WARNING:tensorflow:No training configuration found in save file, so the model was *not* compiled. Compile it manually.\n"
     ]
    },
    {
     "name": "stdout",
     "output_type": "stream",
     "text": [
      "WARNING:tensorflow:No training configuration found in save file, so the model was *not* compiled. Compile it manually.\n"
     ]
    },
    {
     "name": "stderr",
     "output_type": "stream",
     "text": [
      "WARNING:tensorflow:No training configuration found in save file, so the model was *not* compiled. Compile it manually.\n"
     ]
    },
    {
     "name": "stdout",
     "output_type": "stream",
     "text": [
      "WARNING:tensorflow:No training configuration found in save file, so the model was *not* compiled. Compile it manually.\n"
     ]
    },
    {
     "name": "stderr",
     "output_type": "stream",
     "text": [
      "WARNING:tensorflow:No training configuration found in save file, so the model was *not* compiled. Compile it manually.\n"
     ]
    }
   ],
   "source": [
    "# load models\n",
    "# omic models\n",
    "cancer_copy_number_model = tf.keras.models.load_model(\"..//models//cancer_copy_number_model_no_norm_common\")\n",
    "cancer_cell_gen_expr_model = tf.keras.models.load_model(\"..//models//cancer_cell_gen_expr_model_no_norm_common\")\n",
    "cancer_cell_gen_methy_model = tf.keras.models.load_model(\"..//models//cancer_cell_gen_methy_model_no_norm\")\n",
    "cancer_cell_gen_mut_model = tf.keras.models.load_model(\"..//models//cancer_cell_gen_mut_model_no_norm\")"
   ]
  },
  {
   "cell_type": "code",
   "execution_count": 92,
   "id": "4c1533dd-2e0e-424f-be0d-24f06b51453b",
   "metadata": {},
   "outputs": [
    {
     "name": "stdout",
     "output_type": "stream",
     "text": [
      "WARNING:tensorflow:No training configuration found in save file, so the model was *not* compiled. Compile it manually.\n"
     ]
    },
    {
     "name": "stderr",
     "output_type": "stream",
     "text": [
      "WARNING:tensorflow:No training configuration found in save file, so the model was *not* compiled. Compile it manually.\n"
     ]
    }
   ],
   "source": [
    "# load models\n",
    "# drug models\n",
    "pubchem_drugs_rdkit_model = tf.keras.models.load_model(\"..//models//pubchem_drugs_rdkit_model_no_norm\")"
   ]
  },
  {
   "cell_type": "code",
   "execution_count": 93,
   "id": "4276fa33-3544-4a49-904e-020095d81f43",
   "metadata": {},
   "outputs": [],
   "source": [
    "std = StandardScaler()"
   ]
  },
  {
   "cell_type": "code",
   "execution_count": 94,
   "id": "6d5f0911-6e51-446d-a281-dc05086de8bf",
   "metadata": {},
   "outputs": [],
   "source": [
    "# extract drug features\n",
    "drug_features_train = pubchem_drugs_rdkit_model(x_train[\"drug_id\"].values).numpy().astype(\"float32\")\n",
    "drug_features_valid = pubchem_drugs_rdkit_model(x_valid[\"drug_id\"].values).numpy().astype(\"float32\")\n",
    "drug_features_test = pubchem_drugs_rdkit_model(x_test[\"drug_id\"].values).numpy().astype(\"float32\")"
   ]
  },
  {
   "cell_type": "code",
   "execution_count": 95,
   "id": "532d3eda-f04b-459a-b662-186a8d5f4184",
   "metadata": {},
   "outputs": [
    {
     "data": {
      "text/plain": [
       "((55371, 106), (13843, 106), (17316, 106))"
      ]
     },
     "execution_count": 95,
     "metadata": {},
     "output_type": "execute_result"
    }
   ],
   "source": [
    "drug_features_train.shape, drug_features_valid.shape, drug_features_test.shape"
   ]
  },
  {
   "cell_type": "code",
   "execution_count": 96,
   "id": "f09c1da2-9df1-4674-9a05-ed475aaed5fa",
   "metadata": {},
   "outputs": [
    {
     "data": {
      "text/plain": [
       "0"
      ]
     },
     "execution_count": 96,
     "metadata": {},
     "output_type": "execute_result"
    }
   ],
   "source": [
    "np.isinf(drug_features_train).sum()"
   ]
  },
  {
   "cell_type": "code",
   "execution_count": 97,
   "id": "76723b45-8e73-41b2-b00a-19c27200d943",
   "metadata": {},
   "outputs": [],
   "source": [
    "drug_features_train = std.fit_transform(drug_features_train)"
   ]
  },
  {
   "cell_type": "code",
   "execution_count": 98,
   "id": "3397ce65-28fa-42a3-8b35-cb378bde141d",
   "metadata": {},
   "outputs": [],
   "source": [
    "drug_features_valid = std.transform(drug_features_valid)\n",
    "drug_features_test = std.transform(drug_features_test)"
   ]
  },
  {
   "cell_type": "code",
   "execution_count": 99,
   "id": "08bff7e5-bb8e-46a1-a480-7401ba1dde74",
   "metadata": {},
   "outputs": [
    {
     "name": "stdout",
     "output_type": "stream",
     "text": [
      "False\n",
      "False\n",
      "False\n"
     ]
    }
   ],
   "source": [
    "print(np.isnan(drug_features_train).any())\n",
    "print(np.isnan(drug_features_valid).any())\n",
    "print(np.isnan(drug_features_test).any())"
   ]
  },
  {
   "cell_type": "code",
   "execution_count": 100,
   "id": "8a581814-8f25-47f8-88eb-b6d94e841e96",
   "metadata": {},
   "outputs": [],
   "source": [
    "# extract copy number features\n",
    "omics_copy_number_train = cancer_copy_number_model(x_train[\"Cancer_Cell_Line\"].values).numpy().astype(\"float16\")\n",
    "omics_copy_number_valid = cancer_copy_number_model(x_valid[\"Cancer_Cell_Line\"].values).numpy().astype(\"float16\")\n",
    "omics_copy_number_test = cancer_copy_number_model(x_test[\"Cancer_Cell_Line\"].values).numpy().astype(\"float16\")"
   ]
  },
  {
   "cell_type": "code",
   "execution_count": 101,
   "id": "a160e991-ebad-4f48-a8b9-e2ce191865ae",
   "metadata": {},
   "outputs": [
    {
     "data": {
      "text/plain": [
       "((55371, 691), (13843, 691), (17316, 691))"
      ]
     },
     "execution_count": 101,
     "metadata": {},
     "output_type": "execute_result"
    }
   ],
   "source": [
    "omics_copy_number_train.shape, omics_copy_number_valid.shape, omics_copy_number_test.shape"
   ]
  },
  {
   "cell_type": "code",
   "execution_count": 102,
   "id": "c4b14e25-1625-45e3-893f-90b65d1549f5",
   "metadata": {},
   "outputs": [
    {
     "name": "stdout",
     "output_type": "stream",
     "text": [
      "False\n",
      "False\n",
      "False\n"
     ]
    }
   ],
   "source": [
    "print(np.isnan(omics_copy_number_train).any())\n",
    "print(np.isnan(omics_copy_number_valid).any())\n",
    "print(np.isnan(omics_copy_number_test).any())"
   ]
  },
  {
   "cell_type": "code",
   "execution_count": 103,
   "id": "0d8f9737-5d43-4175-a68a-ff03ab3f58c3",
   "metadata": {},
   "outputs": [],
   "source": [
    "# extract gen expr features\n",
    "omics_gen_expr_train = cancer_cell_gen_expr_model(x_train[\"Cancer_Cell_Line\"].values).numpy().astype(\"float16\")\n",
    "omics_gen_expr_valid = cancer_cell_gen_expr_model(x_valid[\"Cancer_Cell_Line\"].values).numpy().astype(\"float16\")\n",
    "omics_gen_expr_test = cancer_cell_gen_expr_model(x_test[\"Cancer_Cell_Line\"].values).numpy().astype(\"float16\")"
   ]
  },
  {
   "cell_type": "code",
   "execution_count": 104,
   "id": "79e4911e-99db-4d28-b785-99c8b3da6e38",
   "metadata": {},
   "outputs": [
    {
     "data": {
      "text/plain": [
       "((55371, 691), (13843, 691), (17316, 691))"
      ]
     },
     "execution_count": 104,
     "metadata": {},
     "output_type": "execute_result"
    }
   ],
   "source": [
    "omics_gen_expr_train.shape, omics_gen_expr_valid.shape, omics_gen_expr_test.shape"
   ]
  },
  {
   "cell_type": "code",
   "execution_count": 105,
   "id": "a96bcc55-954c-4689-a821-c7cadc7bc468",
   "metadata": {},
   "outputs": [
    {
     "name": "stdout",
     "output_type": "stream",
     "text": [
      "False\n",
      "False\n",
      "False\n"
     ]
    }
   ],
   "source": [
    "print(np.isnan(omics_gen_expr_train).any())\n",
    "print(np.isnan(omics_gen_expr_valid).any())\n",
    "print(np.isnan(omics_gen_expr_test).any())"
   ]
  },
  {
   "cell_type": "code",
   "execution_count": 106,
   "id": "6fc3a94e-0ffe-4672-a97a-cc87eca89a54",
   "metadata": {},
   "outputs": [],
   "source": [
    "# extract gen methylation features\n",
    "omics_gen_methyl_train = cancer_cell_gen_methy_model(x_train[\"Cancer_Cell_Line\"].values).numpy().astype(\"float16\")\n",
    "omics_gen_methyl_valid = cancer_cell_gen_methy_model(x_valid[\"Cancer_Cell_Line\"].values).numpy().astype(\"float16\")\n",
    "omics_gen_methyl_test= cancer_cell_gen_methy_model(x_test[\"Cancer_Cell_Line\"].values).numpy().astype(\"float16\")"
   ]
  },
  {
   "cell_type": "code",
   "execution_count": 107,
   "id": "413c009e-c8fe-4ff6-bd81-b46d0f18fbd3",
   "metadata": {},
   "outputs": [
    {
     "data": {
      "text/plain": [
       "((55371, 808), (13843, 808), (17316, 808))"
      ]
     },
     "execution_count": 107,
     "metadata": {},
     "output_type": "execute_result"
    }
   ],
   "source": [
    "omics_gen_methyl_train.shape, omics_gen_methyl_valid.shape, omics_gen_methyl_test.shape"
   ]
  },
  {
   "cell_type": "code",
   "execution_count": 108,
   "id": "f4cca25a-491e-46b5-97f8-526ac311ce37",
   "metadata": {},
   "outputs": [
    {
     "name": "stdout",
     "output_type": "stream",
     "text": [
      "False\n",
      "False\n",
      "False\n"
     ]
    }
   ],
   "source": [
    "print(np.isnan(omics_gen_methyl_train).any())\n",
    "print(np.isnan(omics_gen_methyl_valid).any())\n",
    "print(np.isnan(omics_gen_methyl_test).any())"
   ]
  },
  {
   "cell_type": "code",
   "execution_count": 109,
   "id": "75398540-13b6-4cfa-b90d-8f2c0124dcd8",
   "metadata": {},
   "outputs": [
    {
     "name": "stdout",
     "output_type": "stream",
     "text": [
      "217/217 [==============================] - 4s 20ms/step\n",
      "55/55 [==============================] - 0s 5ms/step\n",
      "68/68 [==============================] - 0s 5ms/step\n"
     ]
    }
   ],
   "source": [
    "# extract gen mutation features\n",
    "with tf.device('/cpu:0'):\n",
    "    omics_gen_mut_train = cancer_cell_gen_mut_model.predict(x_train[\"Cancer_Cell_Line\"].values, verbose = 1, batch_size = 256).astype(\"float16\")\n",
    "    omics_gen_mut_valid = cancer_cell_gen_mut_model.predict(x_valid[\"Cancer_Cell_Line\"].values, verbose = 1, batch_size = 256).astype(\"float16\")\n",
    "    omics_gen_mut_test = cancer_cell_gen_mut_model.predict(x_test[\"Cancer_Cell_Line\"].values, verbose = 1, batch_size = 256).astype(\"float16\")"
   ]
  },
  {
   "cell_type": "code",
   "execution_count": 110,
   "id": "1e4d8d51-d564-4df5-985c-2cb91b7909fe",
   "metadata": {},
   "outputs": [
    {
     "data": {
      "text/plain": [
       "((55371, 34673), (13843, 34673), (17316, 34673))"
      ]
     },
     "execution_count": 110,
     "metadata": {},
     "output_type": "execute_result"
    }
   ],
   "source": [
    "omics_gen_mut_train.shape, omics_gen_mut_valid.shape, omics_gen_mut_test.shape"
   ]
  },
  {
   "cell_type": "code",
   "execution_count": 111,
   "id": "3a06eeb7-ef2a-4cb6-b82c-57a60f784d83",
   "metadata": {},
   "outputs": [
    {
     "name": "stdout",
     "output_type": "stream",
     "text": [
      "False\n",
      "False\n",
      "False\n"
     ]
    }
   ],
   "source": [
    "print(np.isnan(omics_gen_mut_train).any())\n",
    "print(np.isnan(omics_gen_mut_valid).any())\n",
    "print(np.isnan(omics_gen_mut_test).any())"
   ]
  },
  {
   "cell_type": "code",
   "execution_count": 112,
   "id": "1cd31175-0cb4-4718-8ff6-221e42f493d9",
   "metadata": {},
   "outputs": [],
   "source": [
    "smile_strings_train = x_train[\"Smiles\"].values.reshape(-1,1)\n",
    "smile_strings_valid = x_valid[\"Smiles\"].values.reshape(-1,1)\n",
    "smile_strings_test = x_test[\"Smiles\"].values.reshape(-1,1)"
   ]
  },
  {
   "cell_type": "code",
   "execution_count": 113,
   "id": "c88bfcad-a6b4-41d0-b8c0-a2ec02488526",
   "metadata": {},
   "outputs": [
    {
     "data": {
      "text/plain": [
       "((55371, 1), (13843, 1), (17316, 1))"
      ]
     },
     "execution_count": 113,
     "metadata": {},
     "output_type": "execute_result"
    }
   ],
   "source": [
    "smile_strings_train.shape, smile_strings_valid.shape, smile_strings_test.shape"
   ]
  },
  {
   "cell_type": "code",
   "execution_count": 114,
   "id": "32a9a130-7a5d-4cb0-b7f1-e95447642926",
   "metadata": {},
   "outputs": [],
   "source": [
    "input_gcn_features = tf.keras.layers.Input(shape = (100, 75))\n",
    "input_norm_adj_mat = tf.keras.layers.Input(shape = (100, 100))\n",
    "mult_1 = tf.keras.layers.Dot(1)([input_norm_adj_mat, input_gcn_features])\n",
    "dense_layer_gcn = tf.keras.layers.Dense(256, activation = \"relu\")\n",
    "dense_out = dense_layer_gcn(mult_1)\n",
    "dense_out = tf.keras.layers.BatchNormalization()(dense_out)\n",
    "dense_out = tf.keras.layers.Dropout(0.2)(dense_out)\n",
    "mult_2 = tf.keras.layers.Dot(1)([input_norm_adj_mat, dense_out])\n",
    "dense_layer_gcn = tf.keras.layers.Dense(256, activation = \"relu\")\n",
    "dense_out = dense_layer_gcn(mult_2)\n",
    "dense_out = tf.keras.layers.BatchNormalization()(dense_out)\n",
    "dense_out = tf.keras.layers.Dropout(0.2)(dense_out)\n",
    "\n",
    "dense_layer_gcn = tf.keras.layers.Dense(100, activation = \"relu\")\n",
    "mult_3 = tf.keras.layers.Dot(1)([input_norm_adj_mat, dense_out])\n",
    "dense_out = dense_layer_gcn(mult_3)\n",
    "dense_out = tf.keras.layers.BatchNormalization()(dense_out)\n",
    "dense_out = tf.keras.layers.Dropout(0.2)(dense_out)\n",
    "\n",
    "dense_out = tf.keras.layers.GlobalAvgPool1D()(dense_out)"
   ]
  },
  {
   "cell_type": "code",
   "execution_count": 115,
   "id": "607ca081-e937-4efe-8a2b-73700dae8def",
   "metadata": {},
   "outputs": [],
   "source": [
    "input_gen_expr = tf.keras.layers.Input(shape = (omics_gen_expr_train.shape[1]))"
   ]
  },
  {
   "cell_type": "code",
   "execution_count": 116,
   "id": "a93348f7-c647-4396-9ef3-efaf997451fb",
   "metadata": {},
   "outputs": [],
   "source": [
    "l1 = tf.keras.layers.Dense(256, activation = \"tanh\")(input_gen_expr)\n",
    "l1 = tf.keras.layers.BatchNormalization()(l1)\n",
    "l1 = tf.keras.layers.Dropout(0.2)(l1)\n",
    "l1 = tf.keras.layers.Dense(100, activation = \"relu\")(l1)\n",
    "# l2 = tf.keras.layers.Dense(128)(l1)\n",
    "# l2 = tf.keras.layers.Dropout(0.2)(l2)\n",
    "# mult_11 = tf.keras.layers.Dot(1)([const_input, l2])\n"
   ]
  },
  {
   "cell_type": "code",
   "execution_count": 117,
   "id": "5101070f-2ca2-45ba-ba43-8881a24fca55",
   "metadata": {},
   "outputs": [],
   "source": [
    "input_gen_methy = tf.keras.layers.Input(shape = (omics_gen_methyl_train.shape[1],))"
   ]
  },
  {
   "cell_type": "code",
   "execution_count": 118,
   "id": "73c6de76-6e7b-495c-a1ed-2f07bcbcac07",
   "metadata": {},
   "outputs": [],
   "source": [
    "gen_methy_layer = tf.keras.layers.Dense(256, activation = \"tanh\")"
   ]
  },
  {
   "cell_type": "code",
   "execution_count": 119,
   "id": "65dcd97c-9106-4928-b4ec-2b439579910a",
   "metadata": {},
   "outputs": [],
   "source": [
    "gen_methy_emb = gen_methy_layer(input_gen_methy)\n",
    "gen_methy_emb = tf.keras.layers.BatchNormalization()(gen_methy_emb)\n",
    "gen_methy_emb = tf.keras.layers.Dropout(0.2)(gen_methy_emb)"
   ]
  },
  {
   "cell_type": "code",
   "execution_count": 120,
   "id": "874a5732-d680-4cdc-8050-428fdcb3f81c",
   "metadata": {},
   "outputs": [],
   "source": [
    "gen_methy_layer = tf.keras.layers.Dense(100, activation = \"relu\")\n",
    "gen_methy_emb = gen_methy_layer(gen_methy_emb)"
   ]
  },
  {
   "cell_type": "code",
   "execution_count": 121,
   "id": "3be74dd0-0188-4bda-ab13-2dc17e8b6e0e",
   "metadata": {},
   "outputs": [],
   "source": [
    "input_gen_mut = tf.keras.layers.Input(shape = (omics_gen_mut_train.shape[1],))"
   ]
  },
  {
   "cell_type": "code",
   "execution_count": 122,
   "id": "436aa3bf-41ae-46d2-bf0e-6ef8d2703616",
   "metadata": {},
   "outputs": [],
   "source": [
    "reshape_gen_mut = tf.keras.layers.Reshape((1, omics_gen_mut_train.shape[1], 1))"
   ]
  },
  {
   "cell_type": "code",
   "execution_count": 123,
   "id": "017bb057-9f6d-4c86-a247-6496a2d1607a",
   "metadata": {},
   "outputs": [],
   "source": [
    "reshape_gen_mut = reshape_gen_mut(input_gen_mut)"
   ]
  },
  {
   "cell_type": "code",
   "execution_count": 124,
   "id": "5f262b6c-eb0c-4296-819e-b1eb82eeb575",
   "metadata": {},
   "outputs": [],
   "source": [
    "gen_mut_layer = tf.keras.layers.Conv2D(50, (1, 700), strides=5, activation = \"tanh\")"
   ]
  },
  {
   "cell_type": "code",
   "execution_count": 125,
   "id": "b098873c-2154-4cd8-a3fa-08b6940d3f80",
   "metadata": {},
   "outputs": [],
   "source": [
    "gen_mut_emb = gen_mut_layer(reshape_gen_mut)"
   ]
  },
  {
   "cell_type": "code",
   "execution_count": 126,
   "id": "f64748ce-c536-4eab-a0ae-e699ce7755bc",
   "metadata": {},
   "outputs": [],
   "source": [
    "pool_layer = tf.keras.layers.MaxPooling2D((1,5))"
   ]
  },
  {
   "cell_type": "code",
   "execution_count": 127,
   "id": "c4da40cd-9499-4e14-9e07-70c31b75983f",
   "metadata": {},
   "outputs": [],
   "source": [
    "pool_out = pool_layer(gen_mut_emb)"
   ]
  },
  {
   "cell_type": "code",
   "execution_count": 128,
   "id": "fcfe7721-f4eb-4da2-943e-ce1c04db3e00",
   "metadata": {},
   "outputs": [],
   "source": [
    "gen_mut_layer = tf.keras.layers.Conv2D(30, (1, 5), strides=2, activation = \"relu\")"
   ]
  },
  {
   "cell_type": "code",
   "execution_count": 129,
   "id": "232fac4b-f49c-46cc-ba54-1b503a692262",
   "metadata": {},
   "outputs": [],
   "source": [
    "gen_mut_emb = gen_mut_layer(pool_out)"
   ]
  },
  {
   "cell_type": "code",
   "execution_count": 130,
   "id": "0a13f555-d2ad-4c2d-b68a-6f9f1e2a7752",
   "metadata": {},
   "outputs": [],
   "source": [
    "pool_layer = tf.keras.layers.MaxPooling2D((1,10))"
   ]
  },
  {
   "cell_type": "code",
   "execution_count": 131,
   "id": "543756db-da27-44b0-af3a-cffb7ddf8145",
   "metadata": {},
   "outputs": [],
   "source": [
    "pool_out = pool_layer(gen_mut_emb)"
   ]
  },
  {
   "cell_type": "code",
   "execution_count": 132,
   "id": "86756a6b-a92c-4a06-ae80-39bef3c29f05",
   "metadata": {},
   "outputs": [],
   "source": [
    "flatten_layer = tf.keras.layers.Flatten()"
   ]
  },
  {
   "cell_type": "code",
   "execution_count": 133,
   "id": "99ae4cad-125b-49ca-8697-d0ef58455b96",
   "metadata": {},
   "outputs": [],
   "source": [
    "flatten_out = flatten_layer(pool_out)"
   ]
  },
  {
   "cell_type": "code",
   "execution_count": 134,
   "id": "d873bfc5-fb61-4529-b989-424509ba4315",
   "metadata": {},
   "outputs": [],
   "source": [
    "all_omics = tf.keras.layers.Concatenate()([gen_methy_emb, flatten_out, l1, dense_out])"
   ]
  },
  {
   "cell_type": "code",
   "execution_count": 135,
   "id": "c09578f7-e654-451c-91bb-38ec98bda3cc",
   "metadata": {},
   "outputs": [],
   "source": [
    "x = tf.keras.layers.Dense(300,activation = 'tanh')(all_omics)\n",
    "x = tf.keras.layers.Dropout(0.2)(x)\n",
    "x = tf.keras.layers.Lambda(lambda x: K.expand_dims(x,axis=-1))(x)\n",
    "x = tf.keras.layers.Lambda(lambda x: K.expand_dims(x,axis=1))(x)\n",
    "x = tf.keras.layers.Conv2D(filters=30, kernel_size=(1,150),strides=(1, 1), activation = 'relu',padding='valid')(x)\n",
    "x = tf.keras.layers.MaxPooling2D(pool_size=(1,2))(x)\n",
    "x = tf.keras.layers.Conv2D(filters=10, kernel_size=(1,5),strides=(1, 1), activation = 'relu',padding='valid')(x)\n",
    "x = tf.keras.layers.MaxPooling2D(pool_size=(1,3))(x)\n",
    "x = tf.keras.layers.Conv2D(filters=5, kernel_size=(1,5),strides=(1, 1), activation = 'relu',padding='valid')(x)\n",
    "x = tf.keras.layers.MaxPooling2D(pool_size=(1,3))(x)\n",
    "x = tf.keras.layers.Dropout(0.2)(x)\n",
    "x = tf.keras.layers.Flatten()(x)\n",
    "x = tf.keras.layers.Dropout(0.2)(x)"
   ]
  },
  {
   "cell_type": "code",
   "execution_count": 136,
   "id": "720ae0ed-8be9-44de-8beb-41155d444e76",
   "metadata": {},
   "outputs": [],
   "source": [
    "final_out_layer = tf.keras.layers.Dense(1)"
   ]
  },
  {
   "cell_type": "code",
   "execution_count": 137,
   "id": "a284faa6-42ed-4834-ab75-28291c65eb15",
   "metadata": {},
   "outputs": [],
   "source": [
    "final_out = final_out_layer(x)"
   ]
  },
  {
   "cell_type": "code",
   "execution_count": 138,
   "id": "dfe36747-9e6d-4f55-abaa-a52ef150d1f7",
   "metadata": {},
   "outputs": [],
   "source": [
    "simplecdr = tf.keras.models.Model([input_gcn_features, input_norm_adj_mat,input_gen_expr,\n",
    "                                   input_gen_methy, input_gen_mut], final_out)"
   ]
  },
  {
   "cell_type": "code",
   "execution_count": 139,
   "id": "6179d8a4-d66a-4084-a944-bc3fced8da92",
   "metadata": {},
   "outputs": [
    {
     "name": "stdout",
     "output_type": "stream",
     "text": [
      "Model: \"model\"\n",
      "__________________________________________________________________________________________________\n",
      " Layer (type)                Output Shape                 Param #   Connected to                  \n",
      "==================================================================================================\n",
      " input_2 (InputLayer)        [(None, 100, 100)]           0         []                            \n",
      "                                                                                                  \n",
      " input_1 (InputLayer)        [(None, 100, 75)]            0         []                            \n",
      "                                                                                                  \n",
      " dot (Dot)                   (None, 100, 75)              0         ['input_2[0][0]',             \n",
      "                                                                     'input_1[0][0]']             \n",
      "                                                                                                  \n",
      " dense (Dense)               (None, 100, 256)             19456     ['dot[0][0]']                 \n",
      "                                                                                                  \n",
      " batch_normalization (Batch  (None, 100, 256)             1024      ['dense[0][0]']               \n",
      " Normalization)                                                                                   \n",
      "                                                                                                  \n",
      " dropout (Dropout)           (None, 100, 256)             0         ['batch_normalization[0][0]'] \n",
      "                                                                                                  \n",
      " dot_1 (Dot)                 (None, 100, 256)             0         ['input_2[0][0]',             \n",
      "                                                                     'dropout[0][0]']             \n",
      "                                                                                                  \n",
      " dense_1 (Dense)             (None, 100, 256)             65792     ['dot_1[0][0]']               \n",
      "                                                                                                  \n",
      " input_5 (InputLayer)        [(None, 34673)]              0         []                            \n",
      "                                                                                                  \n",
      " batch_normalization_1 (Bat  (None, 100, 256)             1024      ['dense_1[0][0]']             \n",
      " chNormalization)                                                                                 \n",
      "                                                                                                  \n",
      " reshape (Reshape)           (None, 1, 34673, 1)          0         ['input_5[0][0]']             \n",
      "                                                                                                  \n",
      " dropout_1 (Dropout)         (None, 100, 256)             0         ['batch_normalization_1[0][0]'\n",
      "                                                                    ]                             \n",
      "                                                                                                  \n",
      " input_4 (InputLayer)        [(None, 808)]                0         []                            \n",
      "                                                                                                  \n",
      " conv2d (Conv2D)             (None, 1, 6795, 50)          35050     ['reshape[0][0]']             \n",
      "                                                                                                  \n",
      " input_3 (InputLayer)        [(None, 691)]                0         []                            \n",
      "                                                                                                  \n",
      " dot_2 (Dot)                 (None, 100, 256)             0         ['input_2[0][0]',             \n",
      "                                                                     'dropout_1[0][0]']           \n",
      "                                                                                                  \n",
      " dense_5 (Dense)             (None, 256)                  207104    ['input_4[0][0]']             \n",
      "                                                                                                  \n",
      " max_pooling2d (MaxPooling2  (None, 1, 1359, 50)          0         ['conv2d[0][0]']              \n",
      " D)                                                                                               \n",
      "                                                                                                  \n",
      " dense_3 (Dense)             (None, 256)                  177152    ['input_3[0][0]']             \n",
      "                                                                                                  \n",
      " dense_2 (Dense)             (None, 100, 100)             25700     ['dot_2[0][0]']               \n",
      "                                                                                                  \n",
      " batch_normalization_4 (Bat  (None, 256)                  1024      ['dense_5[0][0]']             \n",
      " chNormalization)                                                                                 \n",
      "                                                                                                  \n",
      " conv2d_1 (Conv2D)           (None, 1, 678, 30)           7530      ['max_pooling2d[0][0]']       \n",
      "                                                                                                  \n",
      " batch_normalization_3 (Bat  (None, 256)                  1024      ['dense_3[0][0]']             \n",
      " chNormalization)                                                                                 \n",
      "                                                                                                  \n",
      " batch_normalization_2 (Bat  (None, 100, 100)             400       ['dense_2[0][0]']             \n",
      " chNormalization)                                                                                 \n",
      "                                                                                                  \n",
      " dropout_4 (Dropout)         (None, 256)                  0         ['batch_normalization_4[0][0]'\n",
      "                                                                    ]                             \n",
      "                                                                                                  \n",
      " max_pooling2d_1 (MaxPoolin  (None, 1, 67, 30)            0         ['conv2d_1[0][0]']            \n",
      " g2D)                                                                                             \n",
      "                                                                                                  \n",
      " dropout_3 (Dropout)         (None, 256)                  0         ['batch_normalization_3[0][0]'\n",
      "                                                                    ]                             \n",
      "                                                                                                  \n",
      " dropout_2 (Dropout)         (None, 100, 100)             0         ['batch_normalization_2[0][0]'\n",
      "                                                                    ]                             \n",
      "                                                                                                  \n",
      " dense_6 (Dense)             (None, 100)                  25700     ['dropout_4[0][0]']           \n",
      "                                                                                                  \n",
      " flatten (Flatten)           (None, 2010)                 0         ['max_pooling2d_1[0][0]']     \n",
      "                                                                                                  \n",
      " dense_4 (Dense)             (None, 100)                  25700     ['dropout_3[0][0]']           \n",
      "                                                                                                  \n",
      " global_average_pooling1d (  (None, 100)                  0         ['dropout_2[0][0]']           \n",
      " GlobalAveragePooling1D)                                                                          \n",
      "                                                                                                  \n",
      " concatenate (Concatenate)   (None, 2310)                 0         ['dense_6[0][0]',             \n",
      "                                                                     'flatten[0][0]',             \n",
      "                                                                     'dense_4[0][0]',             \n",
      "                                                                     'global_average_pooling1d[0][\n",
      "                                                                    0]']                          \n",
      "                                                                                                  \n",
      " dense_7 (Dense)             (None, 300)                  693300    ['concatenate[0][0]']         \n",
      "                                                                                                  \n",
      " dropout_5 (Dropout)         (None, 300)                  0         ['dense_7[0][0]']             \n",
      "                                                                                                  \n",
      " lambda (Lambda)             (None, 300, 1)               0         ['dropout_5[0][0]']           \n",
      "                                                                                                  \n",
      " lambda_1 (Lambda)           (None, 1, 300, 1)            0         ['lambda[0][0]']              \n",
      "                                                                                                  \n",
      " conv2d_2 (Conv2D)           (None, 1, 151, 30)           4530      ['lambda_1[0][0]']            \n",
      "                                                                                                  \n",
      " max_pooling2d_2 (MaxPoolin  (None, 1, 75, 30)            0         ['conv2d_2[0][0]']            \n",
      " g2D)                                                                                             \n",
      "                                                                                                  \n",
      " conv2d_3 (Conv2D)           (None, 1, 71, 10)            1510      ['max_pooling2d_2[0][0]']     \n",
      "                                                                                                  \n",
      " max_pooling2d_3 (MaxPoolin  (None, 1, 23, 10)            0         ['conv2d_3[0][0]']            \n",
      " g2D)                                                                                             \n",
      "                                                                                                  \n",
      " conv2d_4 (Conv2D)           (None, 1, 19, 5)             255       ['max_pooling2d_3[0][0]']     \n",
      "                                                                                                  \n",
      " max_pooling2d_4 (MaxPoolin  (None, 1, 6, 5)              0         ['conv2d_4[0][0]']            \n",
      " g2D)                                                                                             \n",
      "                                                                                                  \n",
      " dropout_6 (Dropout)         (None, 1, 6, 5)              0         ['max_pooling2d_4[0][0]']     \n",
      "                                                                                                  \n",
      " flatten_1 (Flatten)         (None, 30)                   0         ['dropout_6[0][0]']           \n",
      "                                                                                                  \n",
      " dropout_7 (Dropout)         (None, 30)                   0         ['flatten_1[0][0]']           \n",
      "                                                                                                  \n",
      " dense_8 (Dense)             (None, 1)                    31        ['dropout_7[0][0]']           \n",
      "                                                                                                  \n",
      "==================================================================================================\n",
      "Total params: 1293306 (4.93 MB)\n",
      "Trainable params: 1291058 (4.92 MB)\n",
      "Non-trainable params: 2248 (8.78 KB)\n",
      "__________________________________________________________________________________________________\n"
     ]
    }
   ],
   "source": [
    "simplecdr.summary()"
   ]
  },
  {
   "cell_type": "code",
   "execution_count": 140,
   "id": "e83ba73d-bc93-4d35-948a-3b99fa03ba78",
   "metadata": {},
   "outputs": [],
   "source": [
    "simplecdr.compile(loss = tf.keras.losses.MeanSquaredError(), \n",
    "                    optimizer = tf.keras.optimizers.Adam(learning_rate=0.001), \n",
    "                    metrics = [tf.keras.metrics.RootMeanSquaredError()])"
   ]
  },
  {
   "cell_type": "code",
   "execution_count": 141,
   "id": "ea3eed9b-0f80-4613-87b9-3774cb74ea83",
   "metadata": {},
   "outputs": [],
   "source": [
    "# !conda install graphviz"
   ]
  },
  {
   "cell_type": "code",
   "execution_count": 142,
   "id": "bfb3b139-8a98-4f15-bca3-ba25cd989a44",
   "metadata": {},
   "outputs": [],
   "source": [
    "# tf.keras.utils.plot_model(simplecdr)"
   ]
  },
  {
   "cell_type": "code",
   "execution_count": 143,
   "id": "8bebf94e-d5c1-4bb7-9d54-531cab73644c",
   "metadata": {},
   "outputs": [
    {
     "name": "stdout",
     "output_type": "stream",
     "text": [
      "False\n",
      "False\n",
      "False\n"
     ]
    }
   ],
   "source": [
    "print(np.isnan(y_train).any())\n",
    "print(np.isnan(y_valid).any())\n",
    "print(np.isnan(y_test).any())"
   ]
  },
  {
   "cell_type": "code",
   "execution_count": 144,
   "id": "ebff6df3-7a4a-4fe9-870e-45bab44001ff",
   "metadata": {},
   "outputs": [
    {
     "name": "stdout",
     "output_type": "stream",
     "text": [
      "Epoch 1/1000\n"
     ]
    },
    {
     "name": "stderr",
     "output_type": "stream",
     "text": [
      "2024-07-11 15:56:43.725267: E tensorflow/core/grappler/optimizers/meta_optimizer.cc:961] layout failed: INVALID_ARGUMENT: Size of values 0 does not match size of permutation 4 @ fanin shape inmodel/dropout_6/dropout/SelectV2-2-TransposeNHWCToNCHW-LayoutOptimizer\n",
      "2024-07-11 15:56:44.396020: I external/local_xla/xla/stream_executor/cuda/cuda_dnn.cc:454] Loaded cuDNN version 8907\n",
      "2024-07-11 15:56:46.110869: I external/local_xla/xla/service/service.cc:168] XLA service 0x1533e4d04310 initialized for platform CUDA (this does not guarantee that XLA will be used). Devices:\n",
      "2024-07-11 15:56:46.110905: I external/local_xla/xla/service/service.cc:176]   StreamExecutor device (0): Tesla V100S-PCIE-32GB, Compute Capability 7.0\n",
      "2024-07-11 15:56:46.154293: I tensorflow/compiler/mlir/tensorflow/utils/dump_mlir_util.cc:269] disabling MLIR crash reproducer, set env var `MLIR_CRASH_REPRODUCER_DIRECTORY` to enable.\n",
      "WARNING: All log messages before absl::InitializeLog() is called are written to STDERR\n",
      "I0000 00:00:1720731406.437935   54624 device_compiler.h:186] Compiled cluster using XLA!  This line is logged at most once for the lifetime of the process.\n"
     ]
    },
    {
     "name": "stdout",
     "output_type": "stream",
     "text": [
      "109/109 [==============================] - 32s 194ms/step - loss: 5.6887 - root_mean_squared_error: 2.3851 - val_loss: 8.5493 - val_root_mean_squared_error: 2.9239\n",
      "Epoch 2/1000\n",
      "109/109 [==============================] - 16s 144ms/step - loss: 3.1622 - root_mean_squared_error: 1.7783 - val_loss: 8.0174 - val_root_mean_squared_error: 2.8315\n",
      "Epoch 3/1000\n",
      "109/109 [==============================] - 16s 145ms/step - loss: 2.6521 - root_mean_squared_error: 1.6285 - val_loss: 7.6012 - val_root_mean_squared_error: 2.7570\n",
      "Epoch 4/1000\n",
      "109/109 [==============================] - 16s 145ms/step - loss: 2.4653 - root_mean_squared_error: 1.5701 - val_loss: 6.7591 - val_root_mean_squared_error: 2.5998\n",
      "Epoch 5/1000\n",
      "109/109 [==============================] - 16s 145ms/step - loss: 2.3378 - root_mean_squared_error: 1.5290 - val_loss: 5.3452 - val_root_mean_squared_error: 2.3120\n",
      "Epoch 6/1000\n",
      "109/109 [==============================] - 16s 145ms/step - loss: 2.2599 - root_mean_squared_error: 1.5033 - val_loss: 3.3873 - val_root_mean_squared_error: 1.8405\n",
      "Epoch 7/1000\n",
      "109/109 [==============================] - 16s 145ms/step - loss: 2.1984 - root_mean_squared_error: 1.4827 - val_loss: 2.3105 - val_root_mean_squared_error: 1.5200\n",
      "Epoch 8/1000\n",
      "109/109 [==============================] - 16s 146ms/step - loss: 2.1294 - root_mean_squared_error: 1.4593 - val_loss: 2.0537 - val_root_mean_squared_error: 1.4331\n",
      "Epoch 9/1000\n",
      "109/109 [==============================] - 16s 145ms/step - loss: 2.0950 - root_mean_squared_error: 1.4474 - val_loss: 1.7382 - val_root_mean_squared_error: 1.3184\n",
      "Epoch 10/1000\n",
      "109/109 [==============================] - 16s 145ms/step - loss: 2.0676 - root_mean_squared_error: 1.4379 - val_loss: 1.6660 - val_root_mean_squared_error: 1.2907\n",
      "Epoch 11/1000\n",
      "109/109 [==============================] - 16s 145ms/step - loss: 2.0149 - root_mean_squared_error: 1.4195 - val_loss: 1.6976 - val_root_mean_squared_error: 1.3029\n",
      "Epoch 12/1000\n",
      "109/109 [==============================] - 16s 146ms/step - loss: 1.9577 - root_mean_squared_error: 1.3992 - val_loss: 1.6227 - val_root_mean_squared_error: 1.2739\n",
      "Epoch 13/1000\n",
      "109/109 [==============================] - 16s 146ms/step - loss: 1.9366 - root_mean_squared_error: 1.3916 - val_loss: 1.5882 - val_root_mean_squared_error: 1.2602\n",
      "Epoch 14/1000\n",
      "109/109 [==============================] - 16s 146ms/step - loss: 1.9023 - root_mean_squared_error: 1.3792 - val_loss: 1.5836 - val_root_mean_squared_error: 1.2584\n",
      "Epoch 15/1000\n",
      "109/109 [==============================] - 16s 146ms/step - loss: 1.8844 - root_mean_squared_error: 1.3727 - val_loss: 1.6396 - val_root_mean_squared_error: 1.2805\n",
      "Epoch 16/1000\n",
      "109/109 [==============================] - 16s 145ms/step - loss: 1.8654 - root_mean_squared_error: 1.3658 - val_loss: 1.5393 - val_root_mean_squared_error: 1.2407\n",
      "Epoch 17/1000\n",
      "109/109 [==============================] - 16s 146ms/step - loss: 1.8118 - root_mean_squared_error: 1.3460 - val_loss: 1.5177 - val_root_mean_squared_error: 1.2320\n",
      "Epoch 18/1000\n",
      "109/109 [==============================] - 16s 146ms/step - loss: 1.7971 - root_mean_squared_error: 1.3406 - val_loss: 1.4784 - val_root_mean_squared_error: 1.2159\n",
      "Epoch 19/1000\n",
      "109/109 [==============================] - 16s 145ms/step - loss: 1.7524 - root_mean_squared_error: 1.3238 - val_loss: 1.5182 - val_root_mean_squared_error: 1.2322\n",
      "Epoch 20/1000\n",
      "109/109 [==============================] - 16s 146ms/step - loss: 1.7374 - root_mean_squared_error: 1.3181 - val_loss: 1.5383 - val_root_mean_squared_error: 1.2403\n",
      "Epoch 21/1000\n",
      "109/109 [==============================] - 16s 146ms/step - loss: 1.7321 - root_mean_squared_error: 1.3161 - val_loss: 1.4880 - val_root_mean_squared_error: 1.2199\n",
      "Epoch 22/1000\n",
      "109/109 [==============================] - 16s 146ms/step - loss: 1.6944 - root_mean_squared_error: 1.3017 - val_loss: 1.5185 - val_root_mean_squared_error: 1.2323\n",
      "Epoch 23/1000\n",
      "109/109 [==============================] - 16s 145ms/step - loss: 1.6536 - root_mean_squared_error: 1.2859 - val_loss: 1.5622 - val_root_mean_squared_error: 1.2499\n",
      "Epoch 24/1000\n",
      "109/109 [==============================] - 16s 146ms/step - loss: 1.6635 - root_mean_squared_error: 1.2898 - val_loss: 1.4589 - val_root_mean_squared_error: 1.2078\n",
      "Epoch 25/1000\n",
      "109/109 [==============================] - 16s 146ms/step - loss: 1.6214 - root_mean_squared_error: 1.2734 - val_loss: 1.5116 - val_root_mean_squared_error: 1.2295\n",
      "Epoch 26/1000\n",
      "109/109 [==============================] - 16s 146ms/step - loss: 1.6008 - root_mean_squared_error: 1.2652 - val_loss: 1.4029 - val_root_mean_squared_error: 1.1844\n",
      "Epoch 27/1000\n",
      "109/109 [==============================] - 16s 145ms/step - loss: 1.5869 - root_mean_squared_error: 1.2597 - val_loss: 1.4502 - val_root_mean_squared_error: 1.2042\n",
      "Epoch 28/1000\n",
      "109/109 [==============================] - 16s 146ms/step - loss: 1.5672 - root_mean_squared_error: 1.2519 - val_loss: 1.4315 - val_root_mean_squared_error: 1.1965\n",
      "Epoch 29/1000\n",
      "109/109 [==============================] - 16s 145ms/step - loss: 1.5527 - root_mean_squared_error: 1.2461 - val_loss: 1.4158 - val_root_mean_squared_error: 1.1899\n",
      "Epoch 30/1000\n",
      "109/109 [==============================] - 16s 146ms/step - loss: 1.5273 - root_mean_squared_error: 1.2358 - val_loss: 1.4107 - val_root_mean_squared_error: 1.1877\n",
      "Epoch 31/1000\n",
      "109/109 [==============================] - 16s 146ms/step - loss: 1.5124 - root_mean_squared_error: 1.2298 - val_loss: 1.4393 - val_root_mean_squared_error: 1.1997\n",
      "Epoch 32/1000\n",
      "109/109 [==============================] - 16s 146ms/step - loss: 1.5162 - root_mean_squared_error: 1.2314 - val_loss: 1.4388 - val_root_mean_squared_error: 1.1995\n",
      "Epoch 33/1000\n",
      "109/109 [==============================] - 16s 146ms/step - loss: 1.5040 - root_mean_squared_error: 1.2264 - val_loss: 1.3754 - val_root_mean_squared_error: 1.1728\n",
      "Epoch 34/1000\n",
      "109/109 [==============================] - 16s 146ms/step - loss: 1.4918 - root_mean_squared_error: 1.2214 - val_loss: 1.4010 - val_root_mean_squared_error: 1.1836\n",
      "Epoch 35/1000\n",
      "109/109 [==============================] - 16s 147ms/step - loss: 1.4652 - root_mean_squared_error: 1.2105 - val_loss: 1.5352 - val_root_mean_squared_error: 1.2390\n",
      "Epoch 36/1000\n",
      "109/109 [==============================] - 16s 146ms/step - loss: 1.4402 - root_mean_squared_error: 1.2001 - val_loss: 1.3844 - val_root_mean_squared_error: 1.1766\n",
      "Epoch 37/1000\n",
      "109/109 [==============================] - 16s 147ms/step - loss: 1.4295 - root_mean_squared_error: 1.1956 - val_loss: 1.3827 - val_root_mean_squared_error: 1.1759\n",
      "Epoch 38/1000\n",
      "109/109 [==============================] - 16s 146ms/step - loss: 1.4231 - root_mean_squared_error: 1.1930 - val_loss: 1.4472 - val_root_mean_squared_error: 1.2030\n",
      "Epoch 39/1000\n",
      "109/109 [==============================] - 16s 145ms/step - loss: 1.4285 - root_mean_squared_error: 1.1952 - val_loss: 1.4080 - val_root_mean_squared_error: 1.1866\n",
      "Epoch 40/1000\n",
      "109/109 [==============================] - 16s 146ms/step - loss: 1.3914 - root_mean_squared_error: 1.1796 - val_loss: 1.3933 - val_root_mean_squared_error: 1.1804\n",
      "Epoch 41/1000\n",
      "109/109 [==============================] - 16s 146ms/step - loss: 1.4003 - root_mean_squared_error: 1.1834 - val_loss: 1.4381 - val_root_mean_squared_error: 1.1992\n",
      "Epoch 42/1000\n",
      "109/109 [==============================] - 16s 146ms/step - loss: 1.3944 - root_mean_squared_error: 1.1808 - val_loss: 1.3820 - val_root_mean_squared_error: 1.1756\n",
      "Epoch 43/1000\n",
      "109/109 [==============================] - 16s 146ms/step - loss: 1.3726 - root_mean_squared_error: 1.1716 - val_loss: 1.4333 - val_root_mean_squared_error: 1.1972\n",
      "Epoch 44/1000\n",
      "109/109 [==============================] - 16s 147ms/step - loss: 1.3617 - root_mean_squared_error: 1.1669 - val_loss: 1.3691 - val_root_mean_squared_error: 1.1701\n",
      "Epoch 45/1000\n",
      "109/109 [==============================] - 16s 146ms/step - loss: 1.3543 - root_mean_squared_error: 1.1638 - val_loss: 1.3665 - val_root_mean_squared_error: 1.1690\n",
      "Epoch 46/1000\n",
      "109/109 [==============================] - 16s 146ms/step - loss: 1.3486 - root_mean_squared_error: 1.1613 - val_loss: 1.3876 - val_root_mean_squared_error: 1.1780\n",
      "Epoch 47/1000\n",
      "109/109 [==============================] - 16s 146ms/step - loss: 1.3487 - root_mean_squared_error: 1.1614 - val_loss: 1.3845 - val_root_mean_squared_error: 1.1766\n",
      "Epoch 48/1000\n",
      "109/109 [==============================] - 16s 145ms/step - loss: 1.3275 - root_mean_squared_error: 1.1522 - val_loss: 1.4606 - val_root_mean_squared_error: 1.2085\n",
      "Epoch 49/1000\n",
      "109/109 [==============================] - 16s 145ms/step - loss: 1.3293 - root_mean_squared_error: 1.1530 - val_loss: 1.3725 - val_root_mean_squared_error: 1.1715\n",
      "Epoch 50/1000\n",
      "109/109 [==============================] - 16s 146ms/step - loss: 1.3115 - root_mean_squared_error: 1.1452 - val_loss: 1.4092 - val_root_mean_squared_error: 1.1871\n",
      "Epoch 51/1000\n",
      "109/109 [==============================] - 16s 146ms/step - loss: 1.2851 - root_mean_squared_error: 1.1336 - val_loss: 1.3560 - val_root_mean_squared_error: 1.1645\n",
      "Epoch 52/1000\n",
      "109/109 [==============================] - 16s 145ms/step - loss: 1.2838 - root_mean_squared_error: 1.1330 - val_loss: 1.3725 - val_root_mean_squared_error: 1.1715\n",
      "Epoch 53/1000\n",
      "109/109 [==============================] - 16s 146ms/step - loss: 1.2784 - root_mean_squared_error: 1.1307 - val_loss: 1.3489 - val_root_mean_squared_error: 1.1614\n",
      "Epoch 54/1000\n",
      "109/109 [==============================] - 16s 146ms/step - loss: 1.2946 - root_mean_squared_error: 1.1378 - val_loss: 1.3574 - val_root_mean_squared_error: 1.1651\n",
      "Epoch 55/1000\n",
      "109/109 [==============================] - 16s 145ms/step - loss: 1.2726 - root_mean_squared_error: 1.1281 - val_loss: 1.4299 - val_root_mean_squared_error: 1.1958\n",
      "Epoch 56/1000\n",
      "109/109 [==============================] - 16s 146ms/step - loss: 1.2658 - root_mean_squared_error: 1.1251 - val_loss: 1.3460 - val_root_mean_squared_error: 1.1602\n",
      "Epoch 57/1000\n",
      "109/109 [==============================] - 16s 145ms/step - loss: 1.2404 - root_mean_squared_error: 1.1137 - val_loss: 1.3893 - val_root_mean_squared_error: 1.1787\n",
      "Epoch 58/1000\n",
      "109/109 [==============================] - 16s 145ms/step - loss: 1.2456 - root_mean_squared_error: 1.1161 - val_loss: 1.3578 - val_root_mean_squared_error: 1.1653\n",
      "Epoch 59/1000\n",
      "109/109 [==============================] - 16s 146ms/step - loss: 1.2386 - root_mean_squared_error: 1.1129 - val_loss: 1.3506 - val_root_mean_squared_error: 1.1622\n",
      "Epoch 60/1000\n",
      "109/109 [==============================] - 16s 146ms/step - loss: 1.2312 - root_mean_squared_error: 1.1096 - val_loss: 1.3616 - val_root_mean_squared_error: 1.1669\n",
      "Epoch 61/1000\n",
      "109/109 [==============================] - 16s 145ms/step - loss: 1.2123 - root_mean_squared_error: 1.1010 - val_loss: 1.3604 - val_root_mean_squared_error: 1.1663\n",
      "Epoch 62/1000\n",
      "109/109 [==============================] - 16s 146ms/step - loss: 1.2084 - root_mean_squared_error: 1.0993 - val_loss: 1.3427 - val_root_mean_squared_error: 1.1588\n",
      "Epoch 63/1000\n",
      "109/109 [==============================] - 16s 145ms/step - loss: 1.2235 - root_mean_squared_error: 1.1061 - val_loss: 1.3515 - val_root_mean_squared_error: 1.1625\n",
      "Epoch 64/1000\n",
      "109/109 [==============================] - 16s 146ms/step - loss: 1.1996 - root_mean_squared_error: 1.0953 - val_loss: 1.3510 - val_root_mean_squared_error: 1.1623\n",
      "Epoch 65/1000\n",
      "109/109 [==============================] - 16s 146ms/step - loss: 1.1858 - root_mean_squared_error: 1.0889 - val_loss: 1.3224 - val_root_mean_squared_error: 1.1500\n",
      "Epoch 66/1000\n",
      "109/109 [==============================] - 16s 146ms/step - loss: 1.1865 - root_mean_squared_error: 1.0893 - val_loss: 1.3497 - val_root_mean_squared_error: 1.1618\n",
      "Epoch 67/1000\n",
      "109/109 [==============================] - 16s 145ms/step - loss: 1.1837 - root_mean_squared_error: 1.0880 - val_loss: 1.3681 - val_root_mean_squared_error: 1.1697\n",
      "Epoch 68/1000\n",
      "109/109 [==============================] - 16s 146ms/step - loss: 1.1833 - root_mean_squared_error: 1.0878 - val_loss: 1.3143 - val_root_mean_squared_error: 1.1464\n",
      "Epoch 69/1000\n",
      "109/109 [==============================] - 16s 146ms/step - loss: 1.1762 - root_mean_squared_error: 1.0845 - val_loss: 1.3364 - val_root_mean_squared_error: 1.1560\n",
      "Epoch 70/1000\n",
      "109/109 [==============================] - 16s 146ms/step - loss: 1.1605 - root_mean_squared_error: 1.0773 - val_loss: 1.3627 - val_root_mean_squared_error: 1.1673\n",
      "Epoch 71/1000\n",
      "109/109 [==============================] - 16s 146ms/step - loss: 1.1552 - root_mean_squared_error: 1.0748 - val_loss: 1.3848 - val_root_mean_squared_error: 1.1768\n",
      "Epoch 72/1000\n",
      "109/109 [==============================] - 16s 146ms/step - loss: 1.1862 - root_mean_squared_error: 1.0891 - val_loss: 1.3344 - val_root_mean_squared_error: 1.1551\n",
      "Epoch 73/1000\n",
      "109/109 [==============================] - 16s 146ms/step - loss: 1.1596 - root_mean_squared_error: 1.0769 - val_loss: 1.3308 - val_root_mean_squared_error: 1.1536\n",
      "Epoch 74/1000\n",
      "109/109 [==============================] - 16s 146ms/step - loss: 1.1373 - root_mean_squared_error: 1.0664 - val_loss: 1.4076 - val_root_mean_squared_error: 1.1864\n",
      "Epoch 75/1000\n",
      "109/109 [==============================] - 16s 146ms/step - loss: 1.1343 - root_mean_squared_error: 1.0650 - val_loss: 1.3448 - val_root_mean_squared_error: 1.1597\n",
      "Epoch 76/1000\n",
      "109/109 [==============================] - 16s 146ms/step - loss: 1.1233 - root_mean_squared_error: 1.0599 - val_loss: 1.3587 - val_root_mean_squared_error: 1.1656\n",
      "Epoch 77/1000\n",
      "109/109 [==============================] - 16s 145ms/step - loss: 1.1330 - root_mean_squared_error: 1.0644 - val_loss: 1.3292 - val_root_mean_squared_error: 1.1529\n",
      "Epoch 78/1000\n",
      "109/109 [==============================] - 16s 145ms/step - loss: 1.1222 - root_mean_squared_error: 1.0594 - val_loss: 1.3528 - val_root_mean_squared_error: 1.1631\n",
      "Epoch 79/1000\n",
      "109/109 [==============================] - 16s 145ms/step - loss: 1.1190 - root_mean_squared_error: 1.0578 - val_loss: 1.3210 - val_root_mean_squared_error: 1.1493\n",
      "Epoch 80/1000\n",
      "109/109 [==============================] - 16s 145ms/step - loss: 1.1146 - root_mean_squared_error: 1.0558 - val_loss: 1.3275 - val_root_mean_squared_error: 1.1522\n",
      "Epoch 81/1000\n",
      "109/109 [==============================] - 16s 146ms/step - loss: 1.0948 - root_mean_squared_error: 1.0463 - val_loss: 1.3423 - val_root_mean_squared_error: 1.1586\n",
      "Epoch 82/1000\n",
      "109/109 [==============================] - 16s 146ms/step - loss: 1.0995 - root_mean_squared_error: 1.0485 - val_loss: 1.3339 - val_root_mean_squared_error: 1.1549\n",
      "Epoch 83/1000\n",
      "109/109 [==============================] - 16s 146ms/step - loss: 1.0911 - root_mean_squared_error: 1.0446 - val_loss: 1.3581 - val_root_mean_squared_error: 1.1654\n",
      "Epoch 84/1000\n",
      "109/109 [==============================] - 16s 145ms/step - loss: 1.0912 - root_mean_squared_error: 1.0446 - val_loss: 1.3247 - val_root_mean_squared_error: 1.1510\n",
      "Epoch 85/1000\n",
      "109/109 [==============================] - 16s 145ms/step - loss: 1.0759 - root_mean_squared_error: 1.0373 - val_loss: 1.3512 - val_root_mean_squared_error: 1.1624\n",
      "Epoch 86/1000\n",
      "109/109 [==============================] - 16s 145ms/step - loss: 1.0872 - root_mean_squared_error: 1.0427 - val_loss: 1.3368 - val_root_mean_squared_error: 1.1562\n",
      "Epoch 87/1000\n",
      "109/109 [==============================] - 16s 146ms/step - loss: 1.0722 - root_mean_squared_error: 1.0355 - val_loss: 1.3108 - val_root_mean_squared_error: 1.1449\n",
      "Epoch 88/1000\n",
      "109/109 [==============================] - 16s 145ms/step - loss: 1.0818 - root_mean_squared_error: 1.0401 - val_loss: 1.3308 - val_root_mean_squared_error: 1.1536\n",
      "Epoch 89/1000\n",
      "109/109 [==============================] - 16s 145ms/step - loss: 1.0764 - root_mean_squared_error: 1.0375 - val_loss: 1.3178 - val_root_mean_squared_error: 1.1480\n",
      "Epoch 90/1000\n",
      "109/109 [==============================] - 16s 146ms/step - loss: 1.0694 - root_mean_squared_error: 1.0341 - val_loss: 1.3143 - val_root_mean_squared_error: 1.1464\n",
      "Epoch 91/1000\n",
      "109/109 [==============================] - 16s 145ms/step - loss: 1.0532 - root_mean_squared_error: 1.0263 - val_loss: 1.3186 - val_root_mean_squared_error: 1.1483\n",
      "Epoch 92/1000\n",
      "109/109 [==============================] - 16s 145ms/step - loss: 1.0531 - root_mean_squared_error: 1.0262 - val_loss: 1.3260 - val_root_mean_squared_error: 1.1515\n",
      "Epoch 93/1000\n",
      "109/109 [==============================] - 16s 146ms/step - loss: 1.0504 - root_mean_squared_error: 1.0249 - val_loss: 1.3023 - val_root_mean_squared_error: 1.1412\n",
      "Epoch 94/1000\n",
      "109/109 [==============================] - 16s 145ms/step - loss: 1.0455 - root_mean_squared_error: 1.0225 - val_loss: 1.3202 - val_root_mean_squared_error: 1.1490\n",
      "Epoch 95/1000\n",
      "109/109 [==============================] - 16s 146ms/step - loss: 1.0431 - root_mean_squared_error: 1.0213 - val_loss: 1.3206 - val_root_mean_squared_error: 1.1492\n",
      "Epoch 96/1000\n",
      "109/109 [==============================] - 16s 146ms/step - loss: 1.0486 - root_mean_squared_error: 1.0240 - val_loss: 1.3142 - val_root_mean_squared_error: 1.1464\n",
      "Epoch 97/1000\n",
      "109/109 [==============================] - 16s 145ms/step - loss: 1.0188 - root_mean_squared_error: 1.0093 - val_loss: 1.3124 - val_root_mean_squared_error: 1.1456\n",
      "Epoch 98/1000\n",
      "109/109 [==============================] - 16s 145ms/step - loss: 1.0260 - root_mean_squared_error: 1.0129 - val_loss: 1.3124 - val_root_mean_squared_error: 1.1456\n",
      "Epoch 99/1000\n",
      "109/109 [==============================] - 16s 145ms/step - loss: 1.0316 - root_mean_squared_error: 1.0157 - val_loss: 1.3564 - val_root_mean_squared_error: 1.1647\n",
      "Epoch 100/1000\n",
      "109/109 [==============================] - 16s 146ms/step - loss: 1.0286 - root_mean_squared_error: 1.0142 - val_loss: 1.3112 - val_root_mean_squared_error: 1.1451\n",
      "Epoch 101/1000\n",
      "109/109 [==============================] - 16s 146ms/step - loss: 1.0230 - root_mean_squared_error: 1.0114 - val_loss: 1.3167 - val_root_mean_squared_error: 1.1475\n",
      "Epoch 102/1000\n",
      "109/109 [==============================] - 16s 146ms/step - loss: 1.0121 - root_mean_squared_error: 1.0060 - val_loss: 1.3383 - val_root_mean_squared_error: 1.1568\n",
      "Epoch 103/1000\n",
      "109/109 [==============================] - 16s 146ms/step - loss: 1.0186 - root_mean_squared_error: 1.0092 - val_loss: 1.2956 - val_root_mean_squared_error: 1.1383\n",
      "Epoch 104/1000\n",
      "109/109 [==============================] - 16s 145ms/step - loss: 1.0188 - root_mean_squared_error: 1.0093 - val_loss: 1.3128 - val_root_mean_squared_error: 1.1458\n",
      "Epoch 105/1000\n",
      "109/109 [==============================] - 16s 146ms/step - loss: 1.0119 - root_mean_squared_error: 1.0060 - val_loss: 1.3353 - val_root_mean_squared_error: 1.1556\n",
      "Epoch 106/1000\n",
      "109/109 [==============================] - 16s 146ms/step - loss: 1.0080 - root_mean_squared_error: 1.0040 - val_loss: 1.3052 - val_root_mean_squared_error: 1.1425\n",
      "Epoch 107/1000\n",
      "109/109 [==============================] - 16s 145ms/step - loss: 0.9967 - root_mean_squared_error: 0.9984 - val_loss: 1.2955 - val_root_mean_squared_error: 1.1382\n",
      "Epoch 108/1000\n",
      "109/109 [==============================] - 16s 145ms/step - loss: 0.9967 - root_mean_squared_error: 0.9983 - val_loss: 1.3521 - val_root_mean_squared_error: 1.1628\n",
      "Epoch 109/1000\n",
      "109/109 [==============================] - 16s 145ms/step - loss: 0.9964 - root_mean_squared_error: 0.9982 - val_loss: 1.2971 - val_root_mean_squared_error: 1.1389\n",
      "Epoch 110/1000\n",
      "109/109 [==============================] - 16s 145ms/step - loss: 0.9942 - root_mean_squared_error: 0.9971 - val_loss: 1.3198 - val_root_mean_squared_error: 1.1488\n",
      "Epoch 111/1000\n",
      "109/109 [==============================] - 16s 145ms/step - loss: 0.9883 - root_mean_squared_error: 0.9941 - val_loss: 1.3492 - val_root_mean_squared_error: 1.1615\n",
      "Epoch 112/1000\n",
      "109/109 [==============================] - 16s 145ms/step - loss: 0.9832 - root_mean_squared_error: 0.9915 - val_loss: 1.3940 - val_root_mean_squared_error: 1.1807\n",
      "Epoch 113/1000\n",
      "109/109 [==============================] - 16s 145ms/step - loss: 0.9730 - root_mean_squared_error: 0.9864 - val_loss: 1.3305 - val_root_mean_squared_error: 1.1535\n",
      "Epoch 114/1000\n",
      "109/109 [==============================] - 16s 146ms/step - loss: 0.9713 - root_mean_squared_error: 0.9856 - val_loss: 1.3336 - val_root_mean_squared_error: 1.1548\n",
      "Epoch 115/1000\n",
      "109/109 [==============================] - 16s 146ms/step - loss: 0.9654 - root_mean_squared_error: 0.9825 - val_loss: 1.2943 - val_root_mean_squared_error: 1.1377\n",
      "Epoch 116/1000\n",
      "109/109 [==============================] - 16s 146ms/step - loss: 0.9617 - root_mean_squared_error: 0.9807 - val_loss: 1.3586 - val_root_mean_squared_error: 1.1656\n",
      "Epoch 117/1000\n",
      "109/109 [==============================] - 16s 146ms/step - loss: 0.9627 - root_mean_squared_error: 0.9812 - val_loss: 1.2891 - val_root_mean_squared_error: 1.1354\n",
      "Epoch 118/1000\n",
      "109/109 [==============================] - 16s 146ms/step - loss: 0.9569 - root_mean_squared_error: 0.9782 - val_loss: 1.3332 - val_root_mean_squared_error: 1.1547\n",
      "Epoch 119/1000\n",
      "109/109 [==============================] - 16s 145ms/step - loss: 0.9570 - root_mean_squared_error: 0.9783 - val_loss: 1.3265 - val_root_mean_squared_error: 1.1517\n",
      "Epoch 120/1000\n",
      "109/109 [==============================] - 16s 145ms/step - loss: 0.9524 - root_mean_squared_error: 0.9759 - val_loss: 1.2951 - val_root_mean_squared_error: 1.1380\n",
      "Epoch 121/1000\n",
      "109/109 [==============================] - 16s 145ms/step - loss: 0.9544 - root_mean_squared_error: 0.9770 - val_loss: 1.3534 - val_root_mean_squared_error: 1.1634\n",
      "Epoch 122/1000\n",
      "109/109 [==============================] - 16s 147ms/step - loss: 0.9425 - root_mean_squared_error: 0.9708 - val_loss: 1.2965 - val_root_mean_squared_error: 1.1386\n",
      "Epoch 123/1000\n",
      "109/109 [==============================] - 16s 146ms/step - loss: 0.9458 - root_mean_squared_error: 0.9725 - val_loss: 1.3397 - val_root_mean_squared_error: 1.1575\n",
      "Epoch 124/1000\n",
      "109/109 [==============================] - 16s 147ms/step - loss: 0.9451 - root_mean_squared_error: 0.9722 - val_loss: 1.3100 - val_root_mean_squared_error: 1.1445\n",
      "Epoch 125/1000\n",
      "109/109 [==============================] - 16s 146ms/step - loss: 0.9464 - root_mean_squared_error: 0.9728 - val_loss: 1.3193 - val_root_mean_squared_error: 1.1486\n",
      "Epoch 126/1000\n",
      "109/109 [==============================] - 16s 146ms/step - loss: 0.9361 - root_mean_squared_error: 0.9675 - val_loss: 1.2893 - val_root_mean_squared_error: 1.1355\n",
      "Epoch 127/1000\n",
      "109/109 [==============================] - 16s 145ms/step - loss: 0.9322 - root_mean_squared_error: 0.9655 - val_loss: 1.3173 - val_root_mean_squared_error: 1.1477\n",
      "Epoch 128/1000\n",
      "109/109 [==============================] - 16s 146ms/step - loss: 0.9404 - root_mean_squared_error: 0.9698 - val_loss: 1.2946 - val_root_mean_squared_error: 1.1378\n",
      "Epoch 129/1000\n",
      "109/109 [==============================] - 16s 145ms/step - loss: 0.9341 - root_mean_squared_error: 0.9665 - val_loss: 1.3073 - val_root_mean_squared_error: 1.1434\n",
      "Epoch 130/1000\n",
      "109/109 [==============================] - 16s 146ms/step - loss: 0.9296 - root_mean_squared_error: 0.9642 - val_loss: 1.3172 - val_root_mean_squared_error: 1.1477\n",
      "Epoch 131/1000\n",
      "109/109 [==============================] - 16s 146ms/step - loss: 0.9371 - root_mean_squared_error: 0.9680 - val_loss: 1.3270 - val_root_mean_squared_error: 1.1519\n",
      "Epoch 132/1000\n",
      "109/109 [==============================] - 16s 146ms/step - loss: 0.9232 - root_mean_squared_error: 0.9608 - val_loss: 1.3116 - val_root_mean_squared_error: 1.1453\n",
      "Epoch 133/1000\n",
      "109/109 [==============================] - 16s 145ms/step - loss: 0.9145 - root_mean_squared_error: 0.9563 - val_loss: 1.3116 - val_root_mean_squared_error: 1.1452\n",
      "Epoch 134/1000\n",
      "109/109 [==============================] - 16s 146ms/step - loss: 0.9169 - root_mean_squared_error: 0.9576 - val_loss: 1.3098 - val_root_mean_squared_error: 1.1445\n",
      "Epoch 135/1000\n",
      "109/109 [==============================] - 16s 146ms/step - loss: 0.9110 - root_mean_squared_error: 0.9544 - val_loss: 1.3100 - val_root_mean_squared_error: 1.1445\n",
      "Epoch 136/1000\n",
      "109/109 [==============================] - 16s 146ms/step - loss: 0.9128 - root_mean_squared_error: 0.9554 - val_loss: 1.2711 - val_root_mean_squared_error: 1.1274\n",
      "Epoch 137/1000\n",
      "109/109 [==============================] - 16s 146ms/step - loss: 0.9041 - root_mean_squared_error: 0.9508 - val_loss: 1.2779 - val_root_mean_squared_error: 1.1305\n",
      "Epoch 138/1000\n",
      "109/109 [==============================] - 16s 145ms/step - loss: 0.9090 - root_mean_squared_error: 0.9534 - val_loss: 1.2805 - val_root_mean_squared_error: 1.1316\n",
      "Epoch 139/1000\n",
      "109/109 [==============================] - 16s 145ms/step - loss: 0.9021 - root_mean_squared_error: 0.9498 - val_loss: 1.3252 - val_root_mean_squared_error: 1.1512\n",
      "Epoch 140/1000\n",
      "109/109 [==============================] - 16s 145ms/step - loss: 0.9186 - root_mean_squared_error: 0.9584 - val_loss: 1.2905 - val_root_mean_squared_error: 1.1360\n",
      "Epoch 141/1000\n",
      "109/109 [==============================] - 16s 145ms/step - loss: 0.9052 - root_mean_squared_error: 0.9514 - val_loss: 1.2765 - val_root_mean_squared_error: 1.1298\n",
      "Epoch 142/1000\n",
      "109/109 [==============================] - 16s 145ms/step - loss: 0.8968 - root_mean_squared_error: 0.9470 - val_loss: 1.3031 - val_root_mean_squared_error: 1.1416\n",
      "Epoch 143/1000\n",
      "109/109 [==============================] - 16s 146ms/step - loss: 0.9047 - root_mean_squared_error: 0.9512 - val_loss: 1.3082 - val_root_mean_squared_error: 1.1438\n",
      "Epoch 144/1000\n",
      "109/109 [==============================] - 16s 145ms/step - loss: 0.8906 - root_mean_squared_error: 0.9437 - val_loss: 1.2930 - val_root_mean_squared_error: 1.1371\n",
      "Epoch 145/1000\n",
      "109/109 [==============================] - 16s 145ms/step - loss: 0.8997 - root_mean_squared_error: 0.9485 - val_loss: 1.2979 - val_root_mean_squared_error: 1.1393\n",
      "Epoch 146/1000\n",
      "109/109 [==============================] - 16s 146ms/step - loss: 0.8948 - root_mean_squared_error: 0.9459 - val_loss: 1.2857 - val_root_mean_squared_error: 1.1339\n",
      "Epoch 147/1000\n",
      "109/109 [==============================] - 16s 146ms/step - loss: 0.9028 - root_mean_squared_error: 0.9501 - val_loss: 1.2911 - val_root_mean_squared_error: 1.1363\n",
      "Epoch 148/1000\n",
      "109/109 [==============================] - 16s 146ms/step - loss: 0.8937 - root_mean_squared_error: 0.9454 - val_loss: 1.2902 - val_root_mean_squared_error: 1.1359\n",
      "Epoch 149/1000\n",
      "109/109 [==============================] - 16s 146ms/step - loss: 0.8860 - root_mean_squared_error: 0.9413 - val_loss: 1.2933 - val_root_mean_squared_error: 1.1372\n",
      "Epoch 150/1000\n",
      "109/109 [==============================] - 16s 146ms/step - loss: 0.8886 - root_mean_squared_error: 0.9427 - val_loss: 1.2999 - val_root_mean_squared_error: 1.1401\n",
      "Epoch 151/1000\n",
      "109/109 [==============================] - 16s 145ms/step - loss: 0.8798 - root_mean_squared_error: 0.9380 - val_loss: 1.3104 - val_root_mean_squared_error: 1.1447\n",
      "Epoch 152/1000\n",
      "109/109 [==============================] - 16s 145ms/step - loss: 0.8805 - root_mean_squared_error: 0.9383 - val_loss: 1.3432 - val_root_mean_squared_error: 1.1590\n",
      "Epoch 153/1000\n",
      "109/109 [==============================] - 16s 146ms/step - loss: 0.8752 - root_mean_squared_error: 0.9355 - val_loss: 1.3145 - val_root_mean_squared_error: 1.1465\n",
      "Epoch 154/1000\n",
      "109/109 [==============================] - 16s 146ms/step - loss: 0.8747 - root_mean_squared_error: 0.9353 - val_loss: 1.2820 - val_root_mean_squared_error: 1.1323\n",
      "Epoch 155/1000\n",
      "109/109 [==============================] - 16s 146ms/step - loss: 0.8808 - root_mean_squared_error: 0.9385 - val_loss: 1.2965 - val_root_mean_squared_error: 1.1386\n",
      "Epoch 156/1000\n",
      "109/109 [==============================] - 16s 146ms/step - loss: 0.8747 - root_mean_squared_error: 0.9353 - val_loss: 1.3348 - val_root_mean_squared_error: 1.1553\n",
      "CPU times: user 41min 54s, sys: 38.6 s, total: 42min 32s\n",
      "Wall time: 41min 48s\n"
     ]
    }
   ],
   "source": [
    "%%time\n",
    "history = simplecdr.fit([train_gcn_feats, train_adj_list,\n",
    "                         omics_gen_expr_train, \n",
    "                         omics_gen_methyl_train, omics_gen_mut_train], y_train, \n",
    "                         \n",
    "          batch_size = 512, epochs = 1000, verbose = 1,\n",
    "                         \n",
    "          validation_data=([ valid_gcn_feats, valid_adj_list,\n",
    "                           omics_gen_expr_valid, \n",
    "                           omics_gen_methyl_valid, omics_gen_mut_valid], y_valid),\n",
    "                         \n",
    "\n",
    "        callbacks = tf.keras.callbacks.EarlyStopping(monitor = \"val_loss\", patience = 20, restore_best_weights=True,\n",
    "                                                       mode = \"min\"), \n",
    "         validation_batch_size = 512, shuffle = True)"
   ]
  },
  {
   "cell_type": "code",
   "execution_count": 145,
   "id": "163c3816-113b-4011-bc7e-9d312f422388",
   "metadata": {},
   "outputs": [
    {
     "name": "stdout",
     "output_type": "stream",
     "text": [
      "INFO:tensorflow:Assets written to: ..//models//deepcdr_trained_on_domain/assets\n"
     ]
    },
    {
     "name": "stderr",
     "output_type": "stream",
     "text": [
      "INFO:tensorflow:Assets written to: ..//models//deepcdr_trained_on_domain/assets\n"
     ]
    }
   ],
   "source": [
    "simplecdr.save(\"..//models//deepcdr_trained_on_domain\")"
   ]
  },
  {
   "cell_type": "code",
   "execution_count": 146,
   "id": "3c38ad23-051f-48ce-99f5-a1d9fda78f7b",
   "metadata": {},
   "outputs": [],
   "source": [
    "# !sudo apt install graphviz"
   ]
  },
  {
   "cell_type": "code",
   "execution_count": 147,
   "id": "0d03150f-4b29-41c3-8fb7-92699282c533",
   "metadata": {},
   "outputs": [],
   "source": [
    "# tf.keras.utils.plot_model(simplecdr)"
   ]
  }
 ],
 "metadata": {
  "kernelspec": {
   "display_name": "Python (tfp_for_TN)",
   "language": "python",
   "name": "tfp_for_tn"
  },
  "language_info": {
   "codemirror_mode": {
    "name": "ipython",
    "version": 3
   },
   "file_extension": ".py",
   "mimetype": "text/x-python",
   "name": "python",
   "nbconvert_exporter": "python",
   "pygments_lexer": "ipython3",
   "version": "3.10.14"
  }
 },
 "nbformat": 4,
 "nbformat_minor": 5
}
