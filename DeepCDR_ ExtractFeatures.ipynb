{
 "cells": [
  {
   "cell_type": "code",
   "execution_count": null,
   "id": "0572d546-ea4b-4a3b-b7a5-9840d8a15742",
   "metadata": {},
   "outputs": [],
   "source": [
    "import tensorflow as tf\n",
    "import pandas as pd\n",
    "import numpy as np\n",
    "import keras.backend as K\n",
    "import scipy.sparse as sp\n",
    "import random\n",
    "from sklearn.preprocessing import StandardScaler"
   ]
  },
  {
   "cell_type": "code",
   "execution_count": null,
   "id": "cbb3d474-b564-4bad-a51c-c215ef6cbe05",
   "metadata": {},
   "outputs": [],
   "source": [
    "# load the trained model\n",
    "model = tf.keras.models.load_model(\"models//simple_cdr_more_new_splits\")"
   ]
  },
  {
   "cell_type": "code",
   "execution_count": null,
   "id": "49c29701-554f-4738-b062-61f894e02f28",
   "metadata": {},
   "outputs": [],
   "source": [
    "model.summary()"
   ]
  },
  {
   "cell_type": "code",
   "execution_count": null,
   "id": "4b4211df-7533-4e3a-af88-5041eebb09bb",
   "metadata": {},
   "outputs": [],
   "source": [
    "tf.keras.utils.plot_model(model, show_shapes = True)"
   ]
  },
  {
   "cell_type": "code",
   "execution_count": null,
   "id": "25266105-4b98-4403-99c8-1368306579db",
   "metadata": {},
   "outputs": [],
   "source": [
    "drug_output = model.get_layer(\"global_average_pooling1d\").output"
   ]
  },
  {
   "cell_type": "code",
   "execution_count": null,
   "id": "5f5dd169-c982-463e-ba3e-71bc42431899",
   "metadata": {},
   "outputs": [],
   "source": [
    "drug_output.shape"
   ]
  },
  {
   "cell_type": "code",
   "execution_count": null,
   "id": "eb35980d-1123-4fe5-994a-ab6e65152fec",
   "metadata": {},
   "outputs": [],
   "source": [
    "gene_expr_output = model.get_layer(\"dense_4\").output\n",
    "gene_expr_output.shape"
   ]
  },
  {
   "cell_type": "code",
   "execution_count": null,
   "id": "bec8cff4-d065-4796-b166-ea902156cdc1",
   "metadata": {},
   "outputs": [],
   "source": [
    "methyl_out = model.get_layer(\"dense_7\").output\n",
    "methyl_out.shape"
   ]
  },
  {
   "cell_type": "code",
   "execution_count": null,
   "id": "d614d006-b8f9-4d25-b5e9-7c0c0338d135",
   "metadata": {},
   "outputs": [],
   "source": [
    "mutation_out = model.get_layer(\"flatten\").output\n",
    "mutation_out.shape"
   ]
  },
  {
   "cell_type": "code",
   "execution_count": null,
   "id": "5cdc8d63-f8f4-4133-a2f4-8a2d4c7f67ac",
   "metadata": {},
   "outputs": [],
   "source": [
    "extract_model = tf.keras.models.Model(model.input, [gene_expr_output, methyl_out, mutation_out, drug_output])"
   ]
  },
  {
   "cell_type": "code",
   "execution_count": null,
   "id": "8d388b11-e016-40a0-9db7-6dc608859cf6",
   "metadata": {},
   "outputs": [],
   "source": [
    "# Import and prep the data"
   ]
  },
  {
   "cell_type": "code",
   "execution_count": null,
   "id": "7ec1a317-92cb-4d0d-9065-f7317123393f",
   "metadata": {},
   "outputs": [],
   "source": [
    "# import the response data\n",
    "drugs_cell_lines_ic50_df = pd.read_csv(\"data/drugs_cell_lines_ic50.csv\") \n",
    "print(drugs_cell_lines_ic50_df.shape)\n",
    "# import the drug smiles data\n",
    "pubchem_drugs_smiles_df = pd.read_csv('data/drugs_smile_strings.csv')\n",
    "print(pubchem_drugs_smiles_df.shape)\n",
    "\n",
    "drugs_smiles_cell_lines_ic50_df = pd.merge(drugs_cell_lines_ic50_df, pubchem_drugs_smiles_df, \n",
    "                                             on = \"drug_id\")\n",
    "drugs_smiles_cell_lines_ic50_df = drugs_smiles_cell_lines_ic50_df[[\"drug_id\", \"Cancer_Cell_Line\", \"Smiles\", \"IC50\"]]\n",
    "drugs_smiles_cell_lines_ic50_df.dtypes\n",
    "drugs_smiles_cell_lines_ic50_df[\"drug_id\"] = drugs_smiles_cell_lines_ic50_df[\"drug_id\"].astype(object)\n"
   ]
  },
  {
   "cell_type": "code",
   "execution_count": null,
   "id": "7108621e-fdae-41ba-8e8a-233dcf340c4c",
   "metadata": {},
   "outputs": [],
   "source": [
    "drugs_smiles_cell_lines_ic50_df.shape"
   ]
  },
  {
   "cell_type": "code",
   "execution_count": null,
   "id": "95334304-c35a-4dc8-a85f-c7943f1b2aff",
   "metadata": {},
   "outputs": [],
   "source": [
    "drugs_smiles_cell_lines_ic50_df.head()"
   ]
  },
  {
   "cell_type": "code",
   "execution_count": null,
   "id": "4eec56cb-d310-4e8e-9dd1-151b771c7714",
   "metadata": {},
   "outputs": [],
   "source": [
    "import pickle\n",
    "\n",
    "# Get drug features and adjacency information\n",
    "with open(\"data/drug_gcn_features.pickle\", \"rb\") as f:\n",
    "    dict_features = pickle.load(f)\n",
    "\n",
    "with open(\"data/drug_gcn_normalized_adj_mats.pickle\", \"rb\") as f:\n",
    "    dict_normalized_adj_mats = pickle.load(f)"
   ]
  },
  {
   "cell_type": "code",
   "execution_count": null,
   "id": "a6faa4ef-7cf9-48c6-8da7-9affce7495d4",
   "metadata": {},
   "outputs": [],
   "source": [
    "dualgcn_train = pd.read_csv(\"data/DualGCN_Embedding_train.csv\")\n",
    "dualgcn_test = pd.read_csv(\"data/DualGCN_Embedding_test.csv\")\n",
    "pubchem_to_drugs_df = pd.read_csv('data/1.Drug_listMon Jun 24 09_00_55 2019.csv')\n",
    "pubchem_to_drugs_df = pubchem_to_drugs_df[[\"drug_id\", \"PubCHEM\"]]\n",
    "pubchem_to_drugs_df[\"PubCHEM\"] = [val if str(val).isdigit() else np.nan for val in pubchem_to_drugs_df[\"PubCHEM\"] ]\n",
    "pubchem_to_drugs_df = pubchem_to_drugs_df.dropna()\n",
    "pubchem_to_drugs_df[\"drug_id\"] = pubchem_to_drugs_df[\"drug_id\"].astype(str)\n",
    "from sklearn.model_selection import train_test_split\n",
    "x_train, x_valid, y_train, y_valid = train_test_split(drugs_smiles_cell_lines_ic50_df.drop([\"IC50\"],1), drugs_smiles_cell_lines_ic50_df[\"IC50\"].values, \n",
    "                                                     test_size = 0.20, random_state = 42)"
   ]
  },
  {
   "cell_type": "code",
   "execution_count": null,
   "id": "9b18c062-c021-467d-b965-d770ad6085c6",
   "metadata": {},
   "outputs": [],
   "source": [
    "dualgcn_train[\"Drug_ID\"] = dualgcn_train[\"Drug_ID\"].astype(str)\n",
    "dualgcn_test[\"Drug_ID\"] = dualgcn_test[\"Drug_ID\"].astype(str)\n",
    "dualgcn_train = pubchem_to_drugs_df.merge(dualgcn_train, left_on = [\"PubCHEM\"], right_on = [\"Drug_ID\"])\n",
    "np.mean(dualgcn_train['PubCHEM'] == dualgcn_train['Drug_ID'])\n",
    "dualgcn_train = dualgcn_train[['Cell_Line', 'drug_id']]\n",
    "dualgcn_test = pubchem_to_drugs_df.merge(dualgcn_test, left_on = [\"PubCHEM\"], right_on = [\"Drug_ID\"])\n",
    "dualgcn_test = dualgcn_test[['Cell_Line', 'drug_id']]\n",
    "x_train['drug_id'] = x_train['drug_id'].astype(str)\n",
    "x_valid['drug_id'] = x_valid['drug_id'].astype(str)\n",
    "x_train_valid_feats = pd.concat([x_train, x_valid], ignore_index = True)\n",
    "y_train_valid = pd.concat([pd.DataFrame(y_train.reshape(-1,1)), pd.DataFrame(y_valid.reshape(-1,1))], ignore_index = True)\n",
    "combo_train_valid = pd.concat([x_train_valid_feats, y_train_valid], 1)\n",
    "combo_train_valid.columns = ['drug_id', 'Cancer_Cell_Line', 'Smiles', 'IC50']\n",
    "# filter x_train x _valid here\n",
    "x_y_train = combo_train_valid.merge(dualgcn_train, left_on = ['Cancer_Cell_Line','drug_id'], right_on = [ 'Cell_Line','drug_id'])\n",
    "x_y_test = combo_train_valid.merge(dualgcn_test, left_on = ['Cancer_Cell_Line','drug_id'], right_on = [ 'Cell_Line','drug_id'])\n",
    "\n",
    "x_train, x_valid, y_train, y_valid = x_y_train.drop([\"IC50\", 'Cell_Line'],1), x_y_test.drop([\"IC50\", 'Cell_Line'], 1), x_y_train[\"IC50\"].values, x_y_test[\"IC50\"].values\n",
    "\n",
    "train_gcn_feats = []\n",
    "train_adj_list = []\n",
    "for drug_id in x_train[\"drug_id\"].values:\n",
    "    train_gcn_feats.append(dict_features[drug_id])\n",
    "    train_adj_list.append(dict_normalized_adj_mats[drug_id])\n",
    "\n",
    "valid_gcn_feats = []\n",
    "valid_adj_list = []\n",
    "for drug_id in x_valid[\"drug_id\"].values:\n",
    "    valid_gcn_feats.append(dict_features[drug_id])\n",
    "    valid_adj_list.append(dict_normalized_adj_mats[drug_id])\n",
    "\n",
    "train_gcn_feats = np.array(train_gcn_feats).astype(\"float32\")\n",
    "valid_gcn_feats = np.array(valid_gcn_feats).astype(\"float32\")\n",
    "\n",
    "train_adj_list = np.array(train_adj_list).astype(\"float32\")\n",
    "valid_adj_list = np.array(valid_adj_list).astype(\"float32\")\n"
   ]
  },
  {
   "cell_type": "code",
   "execution_count": null,
   "id": "ab7d0136-d098-4b12-bb01-fc12bc581e31",
   "metadata": {},
   "outputs": [],
   "source": [
    "cancer_copy_number_model = tf.keras.models.load_model(\"models//cancer_copy_number_model_no_norm_common\")\n",
    "cancer_cell_gen_expr_model = tf.keras.models.load_model(\"models//cancer_cell_gen_expr_model_no_norm_common\")\n",
    "cancer_cell_gen_methy_model = tf.keras.models.load_model(\"models//cancer_cell_gen_methy_model_no_norm\")\n",
    "cancer_cell_gen_mut_model = tf.keras.models.load_model(\"models//cancer_cell_gen_mut_model_no_norm\")\n"
   ]
  },
  {
   "cell_type": "code",
   "execution_count": null,
   "id": "ad1dac39-17ec-4e8f-a0e2-29a0f444d86e",
   "metadata": {},
   "outputs": [],
   "source": [
    "pubchem_drugs_rdkit_model = tf.keras.models.load_model(\"models//pubchem_drugs_rdkit_model_no_norm\")"
   ]
  },
  {
   "cell_type": "code",
   "execution_count": null,
   "id": "5f1a270e-2f2e-473e-bb8e-94292105b404",
   "metadata": {},
   "outputs": [],
   "source": [
    "std = StandardScaler()\n",
    "# extract drug features\n",
    "drug_features_train = pubchem_drugs_rdkit_model(x_train[\"drug_id\"].values).numpy().astype(\"float32\")\n",
    "drug_features_valid = pubchem_drugs_rdkit_model(x_valid[\"drug_id\"].values).numpy().astype(\"float32\")\n"
   ]
  },
  {
   "cell_type": "code",
   "execution_count": null,
   "id": "d6d49df3-c847-4ff2-a43c-7f78dfa928d2",
   "metadata": {},
   "outputs": [],
   "source": [
    "drug_features_train = std.fit_transform(drug_features_train)\n",
    "drug_features_valid = std.transform(drug_features_valid)"
   ]
  },
  {
   "cell_type": "code",
   "execution_count": null,
   "id": "7f5072a7-da09-44af-b3e0-d5befbb47ed6",
   "metadata": {},
   "outputs": [],
   "source": [
    "# extract copy number features\n",
    "omics_copy_number_train = cancer_copy_number_model(x_train[\"Cancer_Cell_Line\"].values).numpy().astype(\"float32\")\n",
    "omics_copy_number_valid = cancer_copy_number_model(x_valid[\"Cancer_Cell_Line\"].values).numpy().astype(\"float32\")\n",
    "\n",
    "# extract gen expr features\n",
    "omics_gen_expr_train = cancer_cell_gen_expr_model(x_train[\"Cancer_Cell_Line\"].values).numpy().astype(\"float32\")\n",
    "omics_gen_expr_valid = cancer_cell_gen_expr_model(x_valid[\"Cancer_Cell_Line\"].values).numpy().astype(\"float32\")\n",
    "\n",
    "omics_gen_copy_number_gen_expr_train = np.concatenate([np.expand_dims(omics_copy_number_train, -1),\n",
    "                                                      np.expand_dims(omics_gen_expr_train, -1)], axis = -1)\n",
    "\n",
    "omics_gen_copy_number_gen_expr_valid = np.concatenate([np.expand_dims(omics_copy_number_valid, -1),\n",
    "                                                      np.expand_dims(omics_gen_expr_valid, -1)], axis = -1)\n",
    "\n",
    "# extract gen methylation features\n",
    "omics_gen_methyl_train = cancer_cell_gen_methy_model(x_train[\"Cancer_Cell_Line\"].values).numpy().astype(\"float32\")\n",
    "omics_gen_methyl_valid = cancer_cell_gen_methy_model(x_valid[\"Cancer_Cell_Line\"].values).numpy().astype(\"float32\")\n",
    "\n",
    "# extract gen mutation features\n",
    "with tf.device('/cpu:0'):\n",
    "    omics_gen_mut_train = cancer_cell_gen_mut_model.predict(x_train[\"Cancer_Cell_Line\"].values, verbose = 1, batch_size = 256).astype(\"float32\")\n",
    "    omics_gen_mut_valid = cancer_cell_gen_mut_model.predict(x_valid[\"Cancer_Cell_Line\"].values, verbose = 1, batch_size = 256).astype(\"float32\")\n",
    "\n",
    "smile_strings_train = x_train[\"Smiles\"].values.reshape(-1,1)\n",
    "smile_strings_valid = x_valid[\"Smiles\"].values.reshape(-1,1)"
   ]
  },
  {
   "cell_type": "code",
   "execution_count": null,
   "id": "d14ce0d0-2bfe-4dc9-9bf4-c503b852cd29",
   "metadata": {},
   "outputs": [],
   "source": [
    "# Extract features\n",
    "Train_all_features = extract_model.predict([train_gcn_feats, train_adj_list,omics_gen_expr_train, \n",
    "                         omics_gen_methyl_train, omics_gen_mut_train])"
   ]
  },
  {
   "cell_type": "code",
   "execution_count": null,
   "id": "b1acd69e-9f78-4b59-8b52-b58be54b708a",
   "metadata": {},
   "outputs": [],
   "source": [
    "valid_all_featres = extract_model.predict([ valid_gcn_feats, valid_adj_list, omics_gen_expr_valid, \n",
    "                           omics_gen_methyl_valid, omics_gen_mut_valid])"
   ]
  },
  {
   "cell_type": "code",
   "execution_count": null,
   "id": "0fc1ed59-d19e-496e-ab27-7d7a8ae295ae",
   "metadata": {},
   "outputs": [],
   "source": [
    "# feature output order\n",
    "# gene_expr_output, methyl_out, mutation_out, drug_output\n",
    "\n",
    "# Extract the embeddings separately for features\n",
    "Train_gene = Train_all_features[0]\n",
    "Train_methyl = Train_all_features[1]\n",
    "Train_mut = Train_all_features[2]\n",
    "Train_drug = Train_all_features[3]"
   ]
  },
  {
   "cell_type": "code",
   "execution_count": null,
   "id": "70e371cf-6f86-45a3-976b-d08f9ab8f747",
   "metadata": {},
   "outputs": [],
   "source": [
    "Valid_gene = valid_all_featres[0]\n",
    "Valid_methyl = valid_all_featres[1]\n",
    "Valid_mut = valid_all_featres[2]\n",
    "Valid_drug = valid_all_featres[3]"
   ]
  },
  {
   "cell_type": "code",
   "execution_count": null,
   "id": "f7f6bffd-67f3-4e8d-b041-e6237aff3810",
   "metadata": {},
   "outputs": [],
   "source": [
    "Valid_drug.shape"
   ]
  },
  {
   "cell_type": "code",
   "execution_count": null,
   "id": "8272a1d4-dba8-4e19-a21b-c5c7268834a2",
   "metadata": {},
   "outputs": [],
   "source": [
    "# save the extracted embeddings\n",
    "np.save('saved_output_data/Train_gene_new_split_CDR.npy', Train_gene)\n",
    "np.save('saved_output_data/Train_methyl_new_split_CDR.npy', Train_methyl)\n",
    "np.save('saved_output_data/Train_mut_new_split_CDR.npy', Train_mut)\n",
    "np.save('saved_output_data/Train_drug_new_split_CDR.npy', Train_drug)\n",
    "\n",
    "np.save('saved_output_data/Valid_gene_new_split_CDR.npy', Valid_gene)\n",
    "np.save('saved_output_data/Valid_methyl_new_split_CDR.npy', Valid_methyl)\n",
    "np.save('saved_output_data/Valid_mut_new_split_CDR.npy', Valid_mut)\n",
    "np.save('saved_output_data/Valid_drug_new_split_CDR.npy', Valid_drug)"
   ]
  },
  {
   "cell_type": "code",
   "execution_count": null,
   "id": "81e53e37-250a-4716-9a77-9a89084c2233",
   "metadata": {},
   "outputs": [],
   "source": [
    "y_train = y_train.reshape(-1,1)"
   ]
  },
  {
   "cell_type": "code",
   "execution_count": null,
   "id": "082addaa-f9fe-4b3f-b3e4-20342b14777d",
   "metadata": {},
   "outputs": [],
   "source": [
    "y_valid = y_valid.reshape(-1,1)"
   ]
  },
  {
   "cell_type": "code",
   "execution_count": null,
   "id": "2b57240e-a7d5-47b9-aa21-3da01e54e657",
   "metadata": {},
   "outputs": [],
   "source": [
    "np.save('saved_output_data/Valid_y.npy', y_valid)\n",
    "np.save('saved_output_data/Train_y.npy', y_train)"
   ]
  }
 ],
 "metadata": {
  "kernelspec": {
   "display_name": "Python (tf_env1)",
   "language": "python",
   "name": "tf_env1"
  },
  "language_info": {
   "codemirror_mode": {
    "name": "ipython",
    "version": 3
   },
   "file_extension": ".py",
   "mimetype": "text/x-python",
   "name": "python",
   "nbconvert_exporter": "python",
   "pygments_lexer": "ipython3",
   "version": "3.9.15"
  }
 },
 "nbformat": 4,
 "nbformat_minor": 5
}
