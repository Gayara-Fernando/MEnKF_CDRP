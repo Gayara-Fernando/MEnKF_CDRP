{
 "cells": [
  {
   "cell_type": "code",
   "execution_count": 1,
   "id": "d79c4d60-25e3-41cb-b814-ef360e2fee9e",
   "metadata": {},
   "outputs": [
    {
     "name": "stderr",
     "output_type": "stream",
     "text": [
      "2024-07-12 18:57:50.378717: I tensorflow/core/util/port.cc:113] oneDNN custom operations are on. You may see slightly different numerical results due to floating-point round-off errors from different computation orders. To turn them off, set the environment variable `TF_ENABLE_ONEDNN_OPTS=0`.\n",
      "2024-07-12 18:57:50.722402: E external/local_xla/xla/stream_executor/cuda/cuda_dnn.cc:9261] Unable to register cuDNN factory: Attempting to register factory for plugin cuDNN when one has already been registered\n",
      "2024-07-12 18:57:50.722525: E external/local_xla/xla/stream_executor/cuda/cuda_fft.cc:607] Unable to register cuFFT factory: Attempting to register factory for plugin cuFFT when one has already been registered\n",
      "2024-07-12 18:57:50.809275: E external/local_xla/xla/stream_executor/cuda/cuda_blas.cc:1515] Unable to register cuBLAS factory: Attempting to register factory for plugin cuBLAS when one has already been registered\n",
      "2024-07-12 18:57:50.932539: I tensorflow/core/platform/cpu_feature_guard.cc:182] This TensorFlow binary is optimized to use available CPU instructions in performance-critical operations.\n",
      "To enable the following instructions: SSE4.1 SSE4.2 AVX AVX2 AVX512F AVX512_VNNI FMA, in other operations, rebuild TensorFlow with the appropriate compiler flags.\n"
     ]
    }
   ],
   "source": [
    "import pandas as pd\n",
    "import tensorflow as tf\n",
    "import tensorflow_probability as tfp\n",
    "from tensorflow import keras\n",
    "from tensorflow.python.keras import backend as K\n",
    "from tensorflow.python.ops import array_ops\n",
    "from tensorflow.python.ops import math_ops\n",
    "from sklearn.model_selection import train_test_split\n",
    "import pickle\n",
    "import scipy.sparse as sp\n",
    "import numpy as np\n",
    "import random\n",
    "tf.config.experimental.set_memory_growth(tf.config.list_physical_devices('GPU')[0], True)\n",
    "# import tqdm\n",
    "# from tqdm.notebook import tqdm"
   ]
  },
  {
   "cell_type": "code",
   "execution_count": 2,
   "id": "0e968da5-2919-4f19-9853-a751373f1222",
   "metadata": {},
   "outputs": [
    {
     "data": {
      "text/plain": [
       "PhysicalDevice(name='/physical_device:GPU:0', device_type='GPU')"
      ]
     },
     "execution_count": 2,
     "metadata": {},
     "output_type": "execute_result"
    }
   ],
   "source": [
    "tf.config.list_physical_devices('GPU')[0]"
   ]
  },
  {
   "cell_type": "code",
   "execution_count": 3,
   "id": "b7dd1d03-2348-44f1-9106-af4a29810f73",
   "metadata": {},
   "outputs": [],
   "source": [
    "# tf.config.list_physical_devices('GPU')"
   ]
  },
  {
   "cell_type": "code",
   "execution_count": 4,
   "id": "06020fb9-0d23-4866-8a4b-d13beac7044f",
   "metadata": {},
   "outputs": [],
   "source": [
    "drugs_cell_lines_ic50_df = pd.read_csv(\"..//data//drugs_cell_lines_ic50.csv\")"
   ]
  },
  {
   "cell_type": "code",
   "execution_count": 5,
   "id": "1660298b-b5ce-4cff-bd71-86f7dc9222f5",
   "metadata": {},
   "outputs": [],
   "source": [
    "pubchem_drugs_smiles_df = pd.read_csv('..//data//drugs_smile_strings.csv')"
   ]
  },
  {
   "cell_type": "code",
   "execution_count": 6,
   "id": "d3b2a897-77be-420b-bd26-ab84d56a2ff3",
   "metadata": {},
   "outputs": [],
   "source": [
    "drugs_smiles_cell_lines_ic50_df = pd.merge(drugs_cell_lines_ic50_df, pubchem_drugs_smiles_df, \n",
    "                                             on = \"drug_id\")"
   ]
  },
  {
   "cell_type": "code",
   "execution_count": 7,
   "id": "c9c0eda5-75c5-45e4-b48b-7f90b38da4d8",
   "metadata": {},
   "outputs": [],
   "source": [
    "drugs_smiles_cell_lines_ic50_df = drugs_smiles_cell_lines_ic50_df[[\"drug_id\", \"Cancer_Cell_Line\", \"Smiles\", \"IC50\"]]"
   ]
  },
  {
   "cell_type": "code",
   "execution_count": 8,
   "id": "4255a229-bb41-4ffe-abef-e6d466e1c00b",
   "metadata": {},
   "outputs": [
    {
     "data": {
      "text/plain": [
       "drug_id               int64\n",
       "Cancer_Cell_Line     object\n",
       "Smiles               object\n",
       "IC50                float64\n",
       "dtype: object"
      ]
     },
     "execution_count": 8,
     "metadata": {},
     "output_type": "execute_result"
    }
   ],
   "source": [
    "drugs_smiles_cell_lines_ic50_df.dtypes"
   ]
  },
  {
   "cell_type": "code",
   "execution_count": 9,
   "id": "b8f12d16-3e37-4c9a-aabb-51e6ceb99a00",
   "metadata": {},
   "outputs": [],
   "source": [
    "drugs_smiles_cell_lines_ic50_df[\"drug_id\"] = drugs_smiles_cell_lines_ic50_df[\"drug_id\"].astype(object)"
   ]
  },
  {
   "cell_type": "code",
   "execution_count": 10,
   "id": "e17ed73d-5051-4322-afa0-f95e71485d50",
   "metadata": {},
   "outputs": [
    {
     "data": {
      "text/plain": [
       "(186789, 4)"
      ]
     },
     "execution_count": 10,
     "metadata": {},
     "output_type": "execute_result"
    }
   ],
   "source": [
    "drugs_smiles_cell_lines_ic50_df.shape"
   ]
  },
  {
   "cell_type": "code",
   "execution_count": 11,
   "id": "1318885c-6fc2-4ee6-a74d-0a8337307777",
   "metadata": {},
   "outputs": [],
   "source": [
    "with open(\"..//data//drug_gcn_features.pickle\", \"rb\") as f:\n",
    "    dict_features = pickle.load(f)"
   ]
  },
  {
   "cell_type": "code",
   "execution_count": 12,
   "id": "46e0e644-213c-4bc6-8dde-78b3bd5638bb",
   "metadata": {},
   "outputs": [],
   "source": [
    "with open(\"..//data//drug_gcn_normalized_adj_mats.pickle\", \"rb\") as f:\n",
    "    dict_normalized_adj_mats = pickle.load(f)"
   ]
  },
  {
   "cell_type": "code",
   "execution_count": 13,
   "id": "bfadc255-519f-4d0f-83c5-49277a277209",
   "metadata": {},
   "outputs": [],
   "source": [
    "dualgcn_train = pd.read_csv(\"..//data//DualGCN_Embedding_train.csv\")"
   ]
  },
  {
   "cell_type": "code",
   "execution_count": 14,
   "id": "7e62a800-6f13-4a2f-965d-62d34061612d",
   "metadata": {},
   "outputs": [],
   "source": [
    "dualgcn_test = pd.read_csv(\"..//data//DualGCN_Embedding_test.csv\")"
   ]
  },
  {
   "cell_type": "code",
   "execution_count": 15,
   "id": "5bd3f846-d0c4-4c92-b2af-1836b2cdf13b",
   "metadata": {},
   "outputs": [],
   "source": [
    "pubchem_to_drugs_df = pd.read_csv('..//data//1.Drug_listMon Jun 24 09_00_55 2019.csv')"
   ]
  },
  {
   "cell_type": "code",
   "execution_count": 16,
   "id": "4c1cabed-895b-4a33-9478-9c414246d9d6",
   "metadata": {},
   "outputs": [],
   "source": [
    "pubchem_to_drugs_df = pubchem_to_drugs_df[[\"drug_id\", \"PubCHEM\"]]"
   ]
  },
  {
   "cell_type": "code",
   "execution_count": 17,
   "id": "06050248-be5d-4413-a9f6-afba9c6dc1da",
   "metadata": {},
   "outputs": [
    {
     "data": {
      "text/plain": [
       "drug_id     int64\n",
       "PubCHEM    object\n",
       "dtype: object"
      ]
     },
     "execution_count": 17,
     "metadata": {},
     "output_type": "execute_result"
    }
   ],
   "source": [
    "pubchem_to_drugs_df.dtypes"
   ]
  },
  {
   "cell_type": "code",
   "execution_count": 18,
   "id": "226a6b4e-ddb7-4f0a-8e24-25fe64de8992",
   "metadata": {},
   "outputs": [],
   "source": [
    "pubchem_to_drugs_df[\"PubCHEM\"] = [val if str(val).isdigit() else np.nan for val in pubchem_to_drugs_df[\"PubCHEM\"] ]"
   ]
  },
  {
   "cell_type": "code",
   "execution_count": 19,
   "id": "49920b0c-24e4-4900-b65c-238b7918cb9f",
   "metadata": {},
   "outputs": [],
   "source": [
    "pubchem_to_drugs_df = pubchem_to_drugs_df.dropna()"
   ]
  },
  {
   "cell_type": "code",
   "execution_count": 20,
   "id": "7691b28b-0ae2-4ed4-8e16-54ff384b9dee",
   "metadata": {},
   "outputs": [
    {
     "data": {
      "text/plain": [
       "drug_id     int64\n",
       "PubCHEM    object\n",
       "dtype: object"
      ]
     },
     "execution_count": 20,
     "metadata": {},
     "output_type": "execute_result"
    }
   ],
   "source": [
    "pubchem_to_drugs_df.dtypes"
   ]
  },
  {
   "cell_type": "code",
   "execution_count": 21,
   "id": "6462ade0-cd2d-491d-be8a-aa0e7ddd3863",
   "metadata": {},
   "outputs": [],
   "source": [
    "pubchem_to_drugs_df[\"drug_id\"] = pubchem_to_drugs_df[\"drug_id\"].astype(str)"
   ]
  },
  {
   "cell_type": "code",
   "execution_count": 22,
   "id": "3286fd91-f6df-49fc-8d72-5e493f31d0ae",
   "metadata": {},
   "outputs": [],
   "source": [
    "x_train, x_valid, y_train, y_valid = train_test_split(drugs_smiles_cell_lines_ic50_df.drop([\"IC50\"], axis = 1), drugs_smiles_cell_lines_ic50_df[\"IC50\"].values, \n",
    "                                                     test_size = 0.20, random_state = 42)"
   ]
  },
  {
   "cell_type": "code",
   "execution_count": 23,
   "id": "1b1ddb77-6e32-4225-96ba-cce23480ab1b",
   "metadata": {},
   "outputs": [],
   "source": [
    "dualgcn_train[\"Drug_ID\"] = dualgcn_train[\"Drug_ID\"].astype(str)"
   ]
  },
  {
   "cell_type": "code",
   "execution_count": 24,
   "id": "5d534def-d5c7-4b2c-a3ee-f4c5c43650c2",
   "metadata": {},
   "outputs": [],
   "source": [
    "dualgcn_test[\"Drug_ID\"] = dualgcn_test[\"Drug_ID\"].astype(str)"
   ]
  },
  {
   "cell_type": "code",
   "execution_count": 25,
   "id": "5a7161ee-e146-4c38-a8b8-66369327384f",
   "metadata": {},
   "outputs": [
    {
     "data": {
      "text/plain": [
       "drug_id    object\n",
       "PubCHEM    object\n",
       "dtype: object"
      ]
     },
     "execution_count": 25,
     "metadata": {},
     "output_type": "execute_result"
    }
   ],
   "source": [
    "pubchem_to_drugs_df.dtypes"
   ]
  },
  {
   "cell_type": "code",
   "execution_count": 26,
   "id": "26536155-5c48-4960-bff8-21c5ec06bab2",
   "metadata": {},
   "outputs": [],
   "source": [
    "dualgcn_train = pubchem_to_drugs_df.merge(dualgcn_train, left_on = [\"PubCHEM\"], right_on = [\"Drug_ID\"])"
   ]
  },
  {
   "cell_type": "code",
   "execution_count": 27,
   "id": "2bc82e0e-8eff-4ca1-bf75-b7a7a9b129e0",
   "metadata": {},
   "outputs": [],
   "source": [
    "dualgcn_train = dualgcn_train[['Cell_Line', 'drug_id']]"
   ]
  },
  {
   "cell_type": "code",
   "execution_count": 28,
   "id": "eae9ef05-6e1c-4aaa-bf6b-940d92f46ffb",
   "metadata": {},
   "outputs": [],
   "source": [
    "dualgcn_test = pubchem_to_drugs_df.merge(dualgcn_test, left_on = [\"PubCHEM\"], right_on = [\"Drug_ID\"])"
   ]
  },
  {
   "cell_type": "code",
   "execution_count": 29,
   "id": "f30684d3-1a27-4d66-8fc4-f84310a30d70",
   "metadata": {},
   "outputs": [],
   "source": [
    "dualgcn_test = dualgcn_test[['Cell_Line', 'drug_id']]"
   ]
  },
  {
   "cell_type": "code",
   "execution_count": 30,
   "id": "f0542289-770e-4e4b-b664-92e4bc29cfc0",
   "metadata": {},
   "outputs": [
    {
     "data": {
      "text/plain": [
       "Cell_Line    object\n",
       "drug_id      object\n",
       "dtype: object"
      ]
     },
     "execution_count": 30,
     "metadata": {},
     "output_type": "execute_result"
    }
   ],
   "source": [
    "dualgcn_train.dtypes"
   ]
  },
  {
   "cell_type": "code",
   "execution_count": 31,
   "id": "c2322204-c032-4c64-a2f7-319e233717b4",
   "metadata": {},
   "outputs": [],
   "source": [
    "# x_train["
   ]
  },
  {
   "cell_type": "code",
   "execution_count": 32,
   "id": "1c63ae0c-24be-4d2e-91d5-6e2616980c51",
   "metadata": {},
   "outputs": [
    {
     "data": {
      "text/plain": [
       "drug_id             object\n",
       "Cancer_Cell_Line    object\n",
       "Smiles              object\n",
       "dtype: object"
      ]
     },
     "execution_count": 32,
     "metadata": {},
     "output_type": "execute_result"
    }
   ],
   "source": [
    "x_train.dtypes"
   ]
  },
  {
   "cell_type": "code",
   "execution_count": 33,
   "id": "76078299-ae77-4b6b-99bf-c8d04c0d8d89",
   "metadata": {},
   "outputs": [],
   "source": [
    "x_train['drug_id'] = x_train['drug_id'].astype(str)"
   ]
  },
  {
   "cell_type": "code",
   "execution_count": 34,
   "id": "5c693879-9d22-426a-973c-10f2428782e8",
   "metadata": {},
   "outputs": [],
   "source": [
    "x_valid['drug_id'] = x_valid['drug_id'].astype(str)"
   ]
  },
  {
   "cell_type": "code",
   "execution_count": 35,
   "id": "bc17185f-ea74-4d95-8e77-549522dc6d9d",
   "metadata": {},
   "outputs": [],
   "source": [
    "x_train_valid_feats = pd.concat([x_train, x_valid], ignore_index = True)"
   ]
  },
  {
   "cell_type": "code",
   "execution_count": 36,
   "id": "3dd68714-74df-4643-9b6a-554e0db5884e",
   "metadata": {},
   "outputs": [],
   "source": [
    "y_train_valid = pd.concat([pd.DataFrame(y_train.reshape(-1,1)), pd.DataFrame(y_valid.reshape(-1,1))], ignore_index = True)"
   ]
  },
  {
   "cell_type": "code",
   "execution_count": 37,
   "id": "e5bdf3b9-9644-4f7a-a2d3-825b184a4671",
   "metadata": {},
   "outputs": [],
   "source": [
    "combo_train_valid = pd.concat([x_train_valid_feats, y_train_valid], axis =  1)"
   ]
  },
  {
   "cell_type": "code",
   "execution_count": 38,
   "id": "b9de540d-bb4c-48e1-bcbe-b07df1a2c7f7",
   "metadata": {},
   "outputs": [],
   "source": [
    "combo_train_valid.columns = ['drug_id', 'Cancer_Cell_Line', 'Smiles', 'IC50']"
   ]
  },
  {
   "cell_type": "code",
   "execution_count": 39,
   "id": "6ad83127-f200-4ea3-8405-e3ec9e599ec1",
   "metadata": {},
   "outputs": [],
   "source": [
    "# filter x_train x _valid here\n",
    "x_y_train = combo_train_valid.merge(dualgcn_train, left_on = ['Cancer_Cell_Line','drug_id'], right_on = [ 'Cell_Line','drug_id'])"
   ]
  },
  {
   "cell_type": "code",
   "execution_count": 40,
   "id": "3ff87221-d69e-4ac0-b81c-408c18e6f3eb",
   "metadata": {},
   "outputs": [],
   "source": [
    "x_y_test = combo_train_valid.merge(dualgcn_test, left_on = ['Cancer_Cell_Line','drug_id'], right_on = [ 'Cell_Line','drug_id'])"
   ]
  },
  {
   "cell_type": "code",
   "execution_count": 41,
   "id": "6ca8133d-93bf-4598-a809-106415ce65f1",
   "metadata": {},
   "outputs": [
    {
     "data": {
      "text/plain": [
       "drug_id             object\n",
       "Cancer_Cell_Line    object\n",
       "Smiles              object\n",
       "dtype: object"
      ]
     },
     "execution_count": 41,
     "metadata": {},
     "output_type": "execute_result"
    }
   ],
   "source": [
    "x_train.dtypes"
   ]
  },
  {
   "cell_type": "code",
   "execution_count": 42,
   "id": "2e379fb0-8a4c-4481-801c-22ad21dca5ab",
   "metadata": {},
   "outputs": [],
   "source": [
    "# x_y_test"
   ]
  },
  {
   "cell_type": "code",
   "execution_count": 43,
   "id": "d526502f-cd0c-45f1-b1ac-21062fdb1ab6",
   "metadata": {},
   "outputs": [],
   "source": [
    "x_train, x_valid, y_train, y_valid = x_y_train.drop([\"IC50\", 'Cell_Line'], axis = 1), x_y_test.drop([\"IC50\", 'Cell_Line'], axis = 1), x_y_train[\"IC50\"].values, x_y_test[\"IC50\"].values"
   ]
  },
  {
   "cell_type": "code",
   "execution_count": 44,
   "id": "c3084224-4e41-45e7-bd26-a30b2ff0f49c",
   "metadata": {},
   "outputs": [
    {
     "data": {
      "text/plain": [
       "(2.063824293081543, 2.8309603843576316)"
      ]
     },
     "execution_count": 44,
     "metadata": {},
     "output_type": "execute_result"
    }
   ],
   "source": [
    "np.mean(y_valid), np.std(y_valid)"
   ]
  },
  {
   "cell_type": "code",
   "execution_count": 45,
   "id": "d1c087de-3b8e-405d-b4e0-f2540c2b1648",
   "metadata": {},
   "outputs": [],
   "source": [
    "# from deepcdr train\n",
    "# (2.063824293081543, 2.8309603843576316)"
   ]
  },
  {
   "cell_type": "code",
   "execution_count": 46,
   "id": "d8e8a19c-3fc2-4c28-8a5c-5d44890baff8",
   "metadata": {},
   "outputs": [],
   "source": [
    "train_gcn_feats = []\n",
    "train_adj_list = []\n",
    "for drug_id in x_train[\"drug_id\"].values:\n",
    "    train_gcn_feats.append(dict_features[drug_id])\n",
    "    train_adj_list.append(dict_normalized_adj_mats[drug_id])"
   ]
  },
  {
   "cell_type": "code",
   "execution_count": 47,
   "id": "f18af922-6ad2-4ec9-8a06-e21dfec89e16",
   "metadata": {},
   "outputs": [],
   "source": [
    "valid_gcn_feats = []\n",
    "valid_adj_list = []\n",
    "for drug_id in x_valid[\"drug_id\"].values:\n",
    "    valid_gcn_feats.append(dict_features[drug_id])\n",
    "    valid_adj_list.append(dict_normalized_adj_mats[drug_id])"
   ]
  },
  {
   "cell_type": "code",
   "execution_count": 48,
   "id": "9bed1e37-8576-42df-bc9d-4490bf6777c8",
   "metadata": {},
   "outputs": [],
   "source": [
    "import numpy as np"
   ]
  },
  {
   "cell_type": "code",
   "execution_count": 49,
   "id": "8727a949-fe53-4c23-a8f1-495b0575cfe7",
   "metadata": {},
   "outputs": [],
   "source": [
    "train_gcn_feats = np.array(train_gcn_feats).astype(\"float16\")\n",
    "valid_gcn_feats = np.array(valid_gcn_feats).astype(\"float16\")"
   ]
  },
  {
   "cell_type": "code",
   "execution_count": 50,
   "id": "2051e9cb-d041-4112-8155-cac3b6ef6684",
   "metadata": {},
   "outputs": [],
   "source": [
    "train_adj_list = np.array(train_adj_list).astype(\"float16\")\n",
    "valid_adj_list = np.array(valid_adj_list).astype(\"float16\")"
   ]
  },
  {
   "cell_type": "code",
   "execution_count": 51,
   "id": "b57c86db-c67b-4492-b945-9ee5ef7633be",
   "metadata": {},
   "outputs": [
    {
     "name": "stderr",
     "output_type": "stream",
     "text": [
      "2024-07-12 18:58:19.113275: I tensorflow/core/common_runtime/gpu/gpu_device.cc:1929] Created device /job:localhost/replica:0/task:0/device:GPU:0 with 31141 MB memory:  -> device: 0, name: Tesla V100S-PCIE-32GB, pci bus id: 0000:86:00.0, compute capability: 7.0\n"
     ]
    },
    {
     "name": "stdout",
     "output_type": "stream",
     "text": [
      "WARNING:tensorflow:No training configuration found in save file, so the model was *not* compiled. Compile it manually.\n"
     ]
    },
    {
     "name": "stderr",
     "output_type": "stream",
     "text": [
      "WARNING:tensorflow:No training configuration found in save file, so the model was *not* compiled. Compile it manually.\n"
     ]
    },
    {
     "name": "stdout",
     "output_type": "stream",
     "text": [
      "WARNING:tensorflow:No training configuration found in save file, so the model was *not* compiled. Compile it manually.\n"
     ]
    },
    {
     "name": "stderr",
     "output_type": "stream",
     "text": [
      "WARNING:tensorflow:No training configuration found in save file, so the model was *not* compiled. Compile it manually.\n"
     ]
    },
    {
     "name": "stdout",
     "output_type": "stream",
     "text": [
      "WARNING:tensorflow:No training configuration found in save file, so the model was *not* compiled. Compile it manually.\n"
     ]
    },
    {
     "name": "stderr",
     "output_type": "stream",
     "text": [
      "WARNING:tensorflow:No training configuration found in save file, so the model was *not* compiled. Compile it manually.\n"
     ]
    },
    {
     "name": "stdout",
     "output_type": "stream",
     "text": [
      "WARNING:tensorflow:No training configuration found in save file, so the model was *not* compiled. Compile it manually.\n"
     ]
    },
    {
     "name": "stderr",
     "output_type": "stream",
     "text": [
      "WARNING:tensorflow:No training configuration found in save file, so the model was *not* compiled. Compile it manually.\n"
     ]
    }
   ],
   "source": [
    "# load models\n",
    "# omic models\n",
    "cancer_copy_number_model = tf.keras.models.load_model(\"..//models//cancer_copy_number_model_no_norm_common\")\n",
    "cancer_cell_gen_expr_model = tf.keras.models.load_model(\"..//models//cancer_cell_gen_expr_model_no_norm_common\")\n",
    "cancer_cell_gen_methy_model = tf.keras.models.load_model(\"..//models//cancer_cell_gen_methy_model_no_norm\")\n",
    "cancer_cell_gen_mut_model = tf.keras.models.load_model(\"..//models//cancer_cell_gen_mut_model_no_norm\")"
   ]
  },
  {
   "cell_type": "code",
   "execution_count": 52,
   "id": "4c1533dd-2e0e-424f-be0d-24f06b51453b",
   "metadata": {},
   "outputs": [
    {
     "name": "stdout",
     "output_type": "stream",
     "text": [
      "WARNING:tensorflow:No training configuration found in save file, so the model was *not* compiled. Compile it manually.\n"
     ]
    },
    {
     "name": "stderr",
     "output_type": "stream",
     "text": [
      "WARNING:tensorflow:No training configuration found in save file, so the model was *not* compiled. Compile it manually.\n"
     ]
    }
   ],
   "source": [
    "# load models\n",
    "# drug models\n",
    "pubchem_drugs_rdkit_model = tf.keras.models.load_model(\"..//models//pubchem_drugs_rdkit_model_no_norm\")"
   ]
  },
  {
   "cell_type": "code",
   "execution_count": 53,
   "id": "77362536-513b-46f8-9ac9-e6a4b4da514a",
   "metadata": {},
   "outputs": [],
   "source": [
    "from sklearn.preprocessing import StandardScaler"
   ]
  },
  {
   "cell_type": "code",
   "execution_count": 54,
   "id": "4276fa33-3544-4a49-904e-020095d81f43",
   "metadata": {},
   "outputs": [],
   "source": [
    "std = StandardScaler()"
   ]
  },
  {
   "cell_type": "code",
   "execution_count": 55,
   "id": "6d5f0911-6e51-446d-a281-dc05086de8bf",
   "metadata": {},
   "outputs": [],
   "source": [
    "# extract drug features\n",
    "drug_features_train = pubchem_drugs_rdkit_model(x_train[\"drug_id\"].values).numpy().astype(\"float32\")\n",
    "drug_features_valid = pubchem_drugs_rdkit_model(x_valid[\"drug_id\"].values).numpy().astype(\"float32\")"
   ]
  },
  {
   "cell_type": "code",
   "execution_count": 56,
   "id": "f09c1da2-9df1-4674-9a05-ed475aaed5fa",
   "metadata": {},
   "outputs": [
    {
     "data": {
      "text/plain": [
       "0"
      ]
     },
     "execution_count": 56,
     "metadata": {},
     "output_type": "execute_result"
    }
   ],
   "source": [
    "np.isinf(drug_features_train).sum()"
   ]
  },
  {
   "cell_type": "code",
   "execution_count": 57,
   "id": "76723b45-8e73-41b2-b00a-19c27200d943",
   "metadata": {},
   "outputs": [],
   "source": [
    "drug_features_train = std.fit_transform(drug_features_train)"
   ]
  },
  {
   "cell_type": "code",
   "execution_count": 58,
   "id": "3397ce65-28fa-42a3-8b35-cb378bde141d",
   "metadata": {},
   "outputs": [],
   "source": [
    "drug_features_valid = std.transform(drug_features_valid)"
   ]
  },
  {
   "cell_type": "code",
   "execution_count": 59,
   "id": "8a581814-8f25-47f8-88eb-b6d94e841e96",
   "metadata": {},
   "outputs": [],
   "source": [
    "# extract copy number features\n",
    "omics_copy_number_train = cancer_copy_number_model(x_train[\"Cancer_Cell_Line\"].values).numpy().astype(\"float16\")\n",
    "omics_copy_number_valid = cancer_copy_number_model(x_valid[\"Cancer_Cell_Line\"].values).numpy().astype(\"float16\")"
   ]
  },
  {
   "cell_type": "code",
   "execution_count": 60,
   "id": "0d8f9737-5d43-4175-a68a-ff03ab3f58c3",
   "metadata": {},
   "outputs": [],
   "source": [
    "# extract gen expr features\n",
    "omics_gen_expr_train = cancer_cell_gen_expr_model(x_train[\"Cancer_Cell_Line\"].values).numpy().astype(\"float16\")\n",
    "omics_gen_expr_valid = cancer_cell_gen_expr_model(x_valid[\"Cancer_Cell_Line\"].values).numpy().astype(\"float16\")"
   ]
  },
  {
   "cell_type": "code",
   "execution_count": 61,
   "id": "6fc3a94e-0ffe-4672-a97a-cc87eca89a54",
   "metadata": {},
   "outputs": [],
   "source": [
    "# extract gen methylation features\n",
    "omics_gen_methyl_train = cancer_cell_gen_methy_model(x_train[\"Cancer_Cell_Line\"].values).numpy().astype(\"float16\")\n",
    "omics_gen_methyl_valid = cancer_cell_gen_methy_model(x_valid[\"Cancer_Cell_Line\"].values).numpy().astype(\"float16\")"
   ]
  },
  {
   "cell_type": "code",
   "execution_count": 62,
   "id": "75398540-13b6-4cfa-b90d-8f2c0124dcd8",
   "metadata": {},
   "outputs": [
    {
     "name": "stdout",
     "output_type": "stream",
     "text": [
      "271/271 [==============================] - 8s 29ms/step\n",
      "68/68 [==============================] - 0s 5ms/step\n"
     ]
    }
   ],
   "source": [
    "# extract gen mutation features\n",
    "with tf.device('/cpu:0'):\n",
    "    omics_gen_mut_train = cancer_cell_gen_mut_model.predict(x_train[\"Cancer_Cell_Line\"].values, verbose = 1, batch_size = 256).astype(\"float16\")\n",
    "    omics_gen_mut_valid = cancer_cell_gen_mut_model.predict(x_valid[\"Cancer_Cell_Line\"].values, verbose = 1, batch_size = 256).astype(\"float16\")"
   ]
  },
  {
   "cell_type": "code",
   "execution_count": 63,
   "id": "1cd31175-0cb4-4718-8ff6-221e42f493d9",
   "metadata": {},
   "outputs": [],
   "source": [
    "smile_strings_train = x_train[\"Smiles\"].values.reshape(-1,1)\n",
    "smile_strings_valid = x_valid[\"Smiles\"].values.reshape(-1,1)"
   ]
  },
  {
   "cell_type": "code",
   "execution_count": 64,
   "id": "32a9a130-7a5d-4cb0-b7f1-e95447642926",
   "metadata": {},
   "outputs": [],
   "source": [
    "input_gcn_features = tf.keras.layers.Input(shape = (100, 75))\n",
    "input_norm_adj_mat = tf.keras.layers.Input(shape = (100, 100))\n",
    "mult_1 = tf.keras.layers.Dot(1)([input_norm_adj_mat, input_gcn_features])\n",
    "dense_layer_gcn = tf.keras.layers.Dense(256, activation = \"relu\")\n",
    "dense_out = dense_layer_gcn(mult_1)\n",
    "dense_out = tf.keras.layers.BatchNormalization()(dense_out)\n",
    "dense_out = tf.keras.layers.Dropout(0.2)(dense_out)\n",
    "mult_2 = tf.keras.layers.Dot(1)([input_norm_adj_mat, dense_out])\n",
    "dense_layer_gcn = tf.keras.layers.Dense(256, activation = \"relu\")\n",
    "dense_out = dense_layer_gcn(mult_2)\n",
    "dense_out = tf.keras.layers.BatchNormalization()(dense_out)\n",
    "dense_out = tf.keras.layers.Dropout(0.2)(dense_out)\n",
    "\n",
    "dense_layer_gcn = tf.keras.layers.Dense(100, activation = \"relu\")\n",
    "mult_3 = tf.keras.layers.Dot(1)([input_norm_adj_mat, dense_out])\n",
    "dense_out = dense_layer_gcn(mult_3)\n",
    "dense_out = tf.keras.layers.BatchNormalization()(dense_out)\n",
    "dense_out = tf.keras.layers.Dropout(0.2)(dense_out)\n",
    "\n",
    "dense_out = tf.keras.layers.GlobalAvgPool1D()(dense_out)"
   ]
  },
  {
   "cell_type": "code",
   "execution_count": 65,
   "id": "607ca081-e937-4efe-8a2b-73700dae8def",
   "metadata": {},
   "outputs": [],
   "source": [
    "input_gen_expr = tf.keras.layers.Input(shape = (omics_gen_expr_train.shape[1]))"
   ]
  },
  {
   "cell_type": "code",
   "execution_count": 66,
   "id": "a93348f7-c647-4396-9ef3-efaf997451fb",
   "metadata": {},
   "outputs": [],
   "source": [
    "l1 = tf.keras.layers.Dense(256, activation = \"tanh\")(input_gen_expr)\n",
    "l1 = tf.keras.layers.BatchNormalization()(l1)\n",
    "l1 = tf.keras.layers.Dropout(0.2)(l1)\n",
    "l1 = tf.keras.layers.Dense(100, activation = \"relu\")(l1)"
   ]
  },
  {
   "cell_type": "code",
   "execution_count": 67,
   "id": "5101070f-2ca2-45ba-ba43-8881a24fca55",
   "metadata": {},
   "outputs": [],
   "source": [
    "input_gen_methy = tf.keras.layers.Input(shape = (omics_gen_methyl_train.shape[1],))"
   ]
  },
  {
   "cell_type": "code",
   "execution_count": 68,
   "id": "73c6de76-6e7b-495c-a1ed-2f07bcbcac07",
   "metadata": {},
   "outputs": [],
   "source": [
    "gen_methy_layer = tf.keras.layers.Dense(256, activation = \"tanh\")"
   ]
  },
  {
   "cell_type": "code",
   "execution_count": 69,
   "id": "65dcd97c-9106-4928-b4ec-2b439579910a",
   "metadata": {},
   "outputs": [],
   "source": [
    "gen_methy_emb = gen_methy_layer(input_gen_methy)\n",
    "gen_methy_emb = tf.keras.layers.BatchNormalization()(gen_methy_emb)\n",
    "gen_methy_emb = tf.keras.layers.Dropout(0.2)(gen_methy_emb)"
   ]
  },
  {
   "cell_type": "code",
   "execution_count": 70,
   "id": "874a5732-d680-4cdc-8050-428fdcb3f81c",
   "metadata": {},
   "outputs": [],
   "source": [
    "gen_methy_layer = tf.keras.layers.Dense(100, activation = \"relu\")\n",
    "gen_methy_emb = gen_methy_layer(gen_methy_emb)"
   ]
  },
  {
   "cell_type": "code",
   "execution_count": 71,
   "id": "3be74dd0-0188-4bda-ab13-2dc17e8b6e0e",
   "metadata": {},
   "outputs": [],
   "source": [
    "input_gen_mut = tf.keras.layers.Input(shape = (omics_gen_mut_train.shape[1],))"
   ]
  },
  {
   "cell_type": "code",
   "execution_count": 72,
   "id": "436aa3bf-41ae-46d2-bf0e-6ef8d2703616",
   "metadata": {},
   "outputs": [],
   "source": [
    "reshape_gen_mut = tf.keras.layers.Reshape((1, omics_gen_mut_train.shape[1], 1))"
   ]
  },
  {
   "cell_type": "code",
   "execution_count": 73,
   "id": "017bb057-9f6d-4c86-a247-6496a2d1607a",
   "metadata": {},
   "outputs": [],
   "source": [
    "reshape_gen_mut = reshape_gen_mut(input_gen_mut)"
   ]
  },
  {
   "cell_type": "code",
   "execution_count": 74,
   "id": "5f262b6c-eb0c-4296-819e-b1eb82eeb575",
   "metadata": {},
   "outputs": [],
   "source": [
    "gen_mut_layer = tf.keras.layers.Conv2D(50, (1, 700), strides=5, activation = \"tanh\")"
   ]
  },
  {
   "cell_type": "code",
   "execution_count": 75,
   "id": "b098873c-2154-4cd8-a3fa-08b6940d3f80",
   "metadata": {},
   "outputs": [],
   "source": [
    "gen_mut_emb = gen_mut_layer(reshape_gen_mut)"
   ]
  },
  {
   "cell_type": "code",
   "execution_count": 76,
   "id": "f64748ce-c536-4eab-a0ae-e699ce7755bc",
   "metadata": {},
   "outputs": [],
   "source": [
    "pool_layer = tf.keras.layers.MaxPooling2D((1,5))"
   ]
  },
  {
   "cell_type": "code",
   "execution_count": 77,
   "id": "c4da40cd-9499-4e14-9e07-70c31b75983f",
   "metadata": {},
   "outputs": [],
   "source": [
    "pool_out = pool_layer(gen_mut_emb)"
   ]
  },
  {
   "cell_type": "code",
   "execution_count": 78,
   "id": "fcfe7721-f4eb-4da2-943e-ce1c04db3e00",
   "metadata": {},
   "outputs": [],
   "source": [
    "gen_mut_layer = tf.keras.layers.Conv2D(30, (1, 5), strides=2, activation = \"relu\")"
   ]
  },
  {
   "cell_type": "code",
   "execution_count": 79,
   "id": "232fac4b-f49c-46cc-ba54-1b503a692262",
   "metadata": {},
   "outputs": [],
   "source": [
    "gen_mut_emb = gen_mut_layer(pool_out)"
   ]
  },
  {
   "cell_type": "code",
   "execution_count": 80,
   "id": "0a13f555-d2ad-4c2d-b68a-6f9f1e2a7752",
   "metadata": {},
   "outputs": [],
   "source": [
    "pool_layer = tf.keras.layers.MaxPooling2D((1,10))"
   ]
  },
  {
   "cell_type": "code",
   "execution_count": 81,
   "id": "543756db-da27-44b0-af3a-cffb7ddf8145",
   "metadata": {},
   "outputs": [],
   "source": [
    "pool_out = pool_layer(gen_mut_emb)"
   ]
  },
  {
   "cell_type": "code",
   "execution_count": 82,
   "id": "86756a6b-a92c-4a06-ae80-39bef3c29f05",
   "metadata": {},
   "outputs": [],
   "source": [
    "flatten_layer = tf.keras.layers.Flatten()"
   ]
  },
  {
   "cell_type": "code",
   "execution_count": 83,
   "id": "99ae4cad-125b-49ca-8697-d0ef58455b96",
   "metadata": {},
   "outputs": [],
   "source": [
    "flatten_out = flatten_layer(pool_out)"
   ]
  },
  {
   "cell_type": "code",
   "execution_count": 84,
   "id": "d873bfc5-fb61-4529-b989-424509ba4315",
   "metadata": {},
   "outputs": [],
   "source": [
    "all_omics = tf.keras.layers.Concatenate()([gen_methy_emb, flatten_out, l1, dense_out])"
   ]
  },
  {
   "cell_type": "code",
   "execution_count": 85,
   "id": "b72f307a-a55d-412d-b669-2e70b2ddd7de",
   "metadata": {},
   "outputs": [],
   "source": [
    "# all_omics"
   ]
  },
  {
   "cell_type": "code",
   "execution_count": 86,
   "id": "c09578f7-e654-451c-91bb-38ec98bda3cc",
   "metadata": {},
   "outputs": [],
   "source": [
    "x = tf.keras.layers.Dense(300,activation = 'tanh')(all_omics)\n",
    "x = tf.keras.layers.Dropout(0.2)(x, training = True)\n",
    "x = tf.keras.layers.Lambda(lambda x: K.expand_dims(x,axis=-1))(x)\n",
    "x = tf.keras.layers.Lambda(lambda x: K.expand_dims(x,axis=1))(x)\n",
    "x = tf.keras.layers.Conv2D(filters=30, kernel_size=(1,150),strides=(1, 1), activation = 'relu',padding='valid')(x)\n",
    "x = tf.keras.layers.MaxPooling2D(pool_size=(1,2))(x)\n",
    "x = tf.keras.layers.Conv2D(filters=10, kernel_size=(1,5),strides=(1, 1), activation = 'relu',padding='valid')(x)\n",
    "x = tf.keras.layers.MaxPooling2D(pool_size=(1,3))(x)\n",
    "x = tf.keras.layers.Conv2D(filters=5, kernel_size=(1,5),strides=(1, 1), activation = 'relu',padding='valid')(x)\n",
    "x = tf.keras.layers.MaxPooling2D(pool_size=(1,3))(x)\n",
    "x = tf.keras.layers.Dropout(0.2)(x, training = True)\n",
    "x = tf.keras.layers.Flatten()(x)\n",
    "x = tf.keras.layers.Dropout(0.2)(x, training = True)"
   ]
  },
  {
   "cell_type": "code",
   "execution_count": 87,
   "id": "720ae0ed-8be9-44de-8beb-41155d444e76",
   "metadata": {},
   "outputs": [],
   "source": [
    "final_out_layer = tf.keras.layers.Dense(1)"
   ]
  },
  {
   "cell_type": "code",
   "execution_count": 88,
   "id": "a284faa6-42ed-4834-ab75-28291c65eb15",
   "metadata": {},
   "outputs": [],
   "source": [
    "final_out = final_out_layer(x)"
   ]
  },
  {
   "cell_type": "code",
   "execution_count": 89,
   "id": "dfe36747-9e6d-4f55-abaa-a52ef150d1f7",
   "metadata": {},
   "outputs": [],
   "source": [
    "simplecdr = tf.keras.models.Model([input_gcn_features, input_norm_adj_mat,input_gen_expr,\n",
    "                                   input_gen_methy, input_gen_mut], final_out)"
   ]
  },
  {
   "cell_type": "code",
   "execution_count": 90,
   "id": "6179d8a4-d66a-4084-a944-bc3fced8da92",
   "metadata": {},
   "outputs": [],
   "source": [
    "# simplecdr.summary()"
   ]
  },
  {
   "cell_type": "markdown",
   "id": "9b9f3a09-6514-475c-9173-5a4ba3795a90",
   "metadata": {},
   "source": [
    "We however, do not need this entire model. We can use the previously trained model, add a prediction head to it."
   ]
  },
  {
   "cell_type": "code",
   "execution_count": 91,
   "id": "da30a712-cf22-4780-b198-de12335079ff",
   "metadata": {},
   "outputs": [],
   "source": [
    "def chunks(lst, n):\n",
    "    \"\"\"Yield successive n-sized chunks from lst.\"\"\"\n",
    "    for i in range(0, len(lst), n):\n",
    "        yield lst[i:i + n]"
   ]
  },
  {
   "cell_type": "code",
   "execution_count": 92,
   "id": "74619d65-04d2-44cc-b6aa-1fb63363ca65",
   "metadata": {},
   "outputs": [],
   "source": [
    "chunks = np.array_split(list(range(0,valid_gcn_feats.shape[0])), 3)"
   ]
  },
  {
   "cell_type": "code",
   "execution_count": 93,
   "id": "9fc93601-f31f-4e4e-b01b-076c95bdf065",
   "metadata": {},
   "outputs": [],
   "source": [
    "# this is the train index\n",
    "test_index = 2"
   ]
  },
  {
   "cell_type": "code",
   "execution_count": 94,
   "id": "80de142f-5853-49b1-bc9d-02192fc10c39",
   "metadata": {},
   "outputs": [],
   "source": [
    "train_items = list(chunks[test_index])"
   ]
  },
  {
   "cell_type": "code",
   "execution_count": 95,
   "id": "891ce218-fcdd-4f25-822b-813d09ee25c8",
   "metadata": {},
   "outputs": [],
   "source": [
    "test_items = list(set(list(range(0,valid_gcn_feats.shape[0]))).difference(train_items))"
   ]
  },
  {
   "cell_type": "code",
   "execution_count": 96,
   "id": "8a7a26cc-4024-46f2-befa-a4a48b0034a2",
   "metadata": {},
   "outputs": [],
   "source": [
    "# len(train_items)"
   ]
  },
  {
   "cell_type": "code",
   "execution_count": 97,
   "id": "ea999347-16c8-4f86-a412-e4bb6c62753b",
   "metadata": {},
   "outputs": [
    {
     "name": "stdout",
     "output_type": "stream",
     "text": [
      "(5772, 100, 75) (11544, 100, 75)\n",
      "(5772, 100, 100) (11544, 100, 100)\n",
      "(5772, 691) (11544, 691)\n",
      "(5772, 808) (11544, 808)\n",
      "(5772, 34673) (11544, 34673)\n",
      "(5772,) (11544,)\n"
     ]
    }
   ],
   "source": [
    "# First the data - let's use a train set of 6k - then the rest will be test here (from the remaining values, use 3k for training the stacker, 1k for validation of it, and the rest ~7k as the final test data). \n",
    "# drug feats\n",
    "new_train_gcn_feats = valid_gcn_feats[train_items, :,:]\n",
    "new_test_gcn_feats = valid_gcn_feats[test_items, :,:]\n",
    "print(new_train_gcn_feats.shape, new_test_gcn_feats.shape)\n",
    "\n",
    "# drug adj info\n",
    "new_train_adj_list = valid_adj_list[train_items, :,:]\n",
    "new_test_adj_list = valid_adj_list[test_items, :,:]\n",
    "print(new_train_adj_list.shape, new_test_adj_list.shape)\n",
    "\n",
    "# expression\n",
    "new_omics_gen_expr_train = omics_gen_expr_valid[train_items, :]\n",
    "new_omics_gen_expr_test = omics_gen_expr_valid[test_items,:]\n",
    "print(new_omics_gen_expr_train.shape, new_omics_gen_expr_test.shape)\n",
    "\n",
    "# methylation\n",
    "new_omics_gen_methyl_train = omics_gen_methyl_valid[train_items, :]\n",
    "new_omics_gen_methyl_test = omics_gen_methyl_valid[test_items,:]\n",
    "print(new_omics_gen_methyl_train.shape, new_omics_gen_methyl_test.shape)\n",
    "\n",
    "# mutation\n",
    "new_omics_gen_mut_train = omics_gen_mut_valid[train_items, :]\n",
    "new_omics_gen_mut_test = omics_gen_mut_valid[test_items,:]\n",
    "print(new_omics_gen_mut_train.shape, new_omics_gen_mut_test.shape)\n",
    "\n",
    "# y\n",
    "new_y_train = y_valid[train_items,]\n",
    "new_y_test = y_valid[test_items,]\n",
    "print(new_y_train.shape, new_y_test.shape)"
   ]
  },
  {
   "cell_type": "code",
   "execution_count": 98,
   "id": "d6a3487f-6957-4865-9aff-61a1054f351e",
   "metadata": {},
   "outputs": [
    {
     "data": {
      "text/plain": [
       "(2.069332453915454, 2.8460217894549977, 2.0610702126645877, 2.8233955229121412)"
      ]
     },
     "execution_count": 98,
     "metadata": {},
     "output_type": "execute_result"
    }
   ],
   "source": [
    "np.mean(new_y_train), np.std(new_y_train), np.mean(new_y_test), np.std(new_y_test)"
   ]
  },
  {
   "cell_type": "code",
   "execution_count": 99,
   "id": "8edd6af0-4ffb-4d1d-85c3-b0bb0c410df7",
   "metadata": {},
   "outputs": [],
   "source": [
    "# now, get the warm start weights from the previously trained network\n",
    "\n",
    "# import the model\n",
    "simpleCDR_original_model = tf.keras.models.load_model(\"..//models//deepcdr_trained_on_domain\")"
   ]
  },
  {
   "cell_type": "code",
   "execution_count": 100,
   "id": "9fae7a78-2b4d-429a-8867-d4219f7c346d",
   "metadata": {},
   "outputs": [
    {
     "name": "stdout",
     "output_type": "stream",
     "text": [
      "Model: \"model\"\n",
      "__________________________________________________________________________________________________\n",
      " Layer (type)                Output Shape                 Param #   Connected to                  \n",
      "==================================================================================================\n",
      " input_2 (InputLayer)        [(None, 100, 100)]           0         []                            \n",
      "                                                                                                  \n",
      " input_1 (InputLayer)        [(None, 100, 75)]            0         []                            \n",
      "                                                                                                  \n",
      " dot (Dot)                   (None, 100, 75)              0         ['input_2[0][0]',             \n",
      "                                                                     'input_1[0][0]']             \n",
      "                                                                                                  \n",
      " dense (Dense)               (None, 100, 256)             19456     ['dot[0][0]']                 \n",
      "                                                                                                  \n",
      " batch_normalization (Batch  (None, 100, 256)             1024      ['dense[0][0]']               \n",
      " Normalization)                                                                                   \n",
      "                                                                                                  \n",
      " dropout (Dropout)           (None, 100, 256)             0         ['batch_normalization[0][0]'] \n",
      "                                                                                                  \n",
      " dot_1 (Dot)                 (None, 100, 256)             0         ['input_2[0][0]',             \n",
      "                                                                     'dropout[0][0]']             \n",
      "                                                                                                  \n",
      " dense_1 (Dense)             (None, 100, 256)             65792     ['dot_1[0][0]']               \n",
      "                                                                                                  \n",
      " input_5 (InputLayer)        [(None, 34673)]              0         []                            \n",
      "                                                                                                  \n",
      " batch_normalization_1 (Bat  (None, 100, 256)             1024      ['dense_1[0][0]']             \n",
      " chNormalization)                                                                                 \n",
      "                                                                                                  \n",
      " reshape (Reshape)           (None, 1, 34673, 1)          0         ['input_5[0][0]']             \n",
      "                                                                                                  \n",
      " dropout_1 (Dropout)         (None, 100, 256)             0         ['batch_normalization_1[0][0]'\n",
      "                                                                    ]                             \n",
      "                                                                                                  \n",
      " input_4 (InputLayer)        [(None, 808)]                0         []                            \n",
      "                                                                                                  \n",
      " conv2d (Conv2D)             (None, 1, 6795, 50)          35050     ['reshape[0][0]']             \n",
      "                                                                                                  \n",
      " input_3 (InputLayer)        [(None, 691)]                0         []                            \n",
      "                                                                                                  \n",
      " dot_2 (Dot)                 (None, 100, 256)             0         ['input_2[0][0]',             \n",
      "                                                                     'dropout_1[0][0]']           \n",
      "                                                                                                  \n",
      " dense_5 (Dense)             (None, 256)                  207104    ['input_4[0][0]']             \n",
      "                                                                                                  \n",
      " max_pooling2d (MaxPooling2  (None, 1, 1359, 50)          0         ['conv2d[0][0]']              \n",
      " D)                                                                                               \n",
      "                                                                                                  \n",
      " dense_3 (Dense)             (None, 256)                  177152    ['input_3[0][0]']             \n",
      "                                                                                                  \n",
      " dense_2 (Dense)             (None, 100, 100)             25700     ['dot_2[0][0]']               \n",
      "                                                                                                  \n",
      " batch_normalization_4 (Bat  (None, 256)                  1024      ['dense_5[0][0]']             \n",
      " chNormalization)                                                                                 \n",
      "                                                                                                  \n",
      " conv2d_1 (Conv2D)           (None, 1, 678, 30)           7530      ['max_pooling2d[0][0]']       \n",
      "                                                                                                  \n",
      " batch_normalization_3 (Bat  (None, 256)                  1024      ['dense_3[0][0]']             \n",
      " chNormalization)                                                                                 \n",
      "                                                                                                  \n",
      " batch_normalization_2 (Bat  (None, 100, 100)             400       ['dense_2[0][0]']             \n",
      " chNormalization)                                                                                 \n",
      "                                                                                                  \n",
      " dropout_4 (Dropout)         (None, 256)                  0         ['batch_normalization_4[0][0]'\n",
      "                                                                    ]                             \n",
      "                                                                                                  \n",
      " max_pooling2d_1 (MaxPoolin  (None, 1, 67, 30)            0         ['conv2d_1[0][0]']            \n",
      " g2D)                                                                                             \n",
      "                                                                                                  \n",
      " dropout_3 (Dropout)         (None, 256)                  0         ['batch_normalization_3[0][0]'\n",
      "                                                                    ]                             \n",
      "                                                                                                  \n",
      " dropout_2 (Dropout)         (None, 100, 100)             0         ['batch_normalization_2[0][0]'\n",
      "                                                                    ]                             \n",
      "                                                                                                  \n",
      " dense_6 (Dense)             (None, 100)                  25700     ['dropout_4[0][0]']           \n",
      "                                                                                                  \n",
      " flatten (Flatten)           (None, 2010)                 0         ['max_pooling2d_1[0][0]']     \n",
      "                                                                                                  \n",
      " dense_4 (Dense)             (None, 100)                  25700     ['dropout_3[0][0]']           \n",
      "                                                                                                  \n",
      " global_average_pooling1d (  (None, 100)                  0         ['dropout_2[0][0]']           \n",
      " GlobalAveragePooling1D)                                                                          \n",
      "                                                                                                  \n",
      " concatenate (Concatenate)   (None, 2310)                 0         ['dense_6[0][0]',             \n",
      "                                                                     'flatten[0][0]',             \n",
      "                                                                     'dense_4[0][0]',             \n",
      "                                                                     'global_average_pooling1d[0][\n",
      "                                                                    0]']                          \n",
      "                                                                                                  \n",
      " dense_7 (Dense)             (None, 300)                  693300    ['concatenate[0][0]']         \n",
      "                                                                                                  \n",
      " dropout_5 (Dropout)         (None, 300)                  0         ['dense_7[0][0]']             \n",
      "                                                                                                  \n",
      " lambda (Lambda)             (None, 300, 1)               0         ['dropout_5[0][0]']           \n",
      "                                                                                                  \n",
      " lambda_1 (Lambda)           (None, 1, 300, 1)            0         ['lambda[0][0]']              \n",
      "                                                                                                  \n",
      " conv2d_2 (Conv2D)           (None, 1, 151, 30)           4530      ['lambda_1[0][0]']            \n",
      "                                                                                                  \n",
      " max_pooling2d_2 (MaxPoolin  (None, 1, 75, 30)            0         ['conv2d_2[0][0]']            \n",
      " g2D)                                                                                             \n",
      "                                                                                                  \n",
      " conv2d_3 (Conv2D)           (None, 1, 71, 10)            1510      ['max_pooling2d_2[0][0]']     \n",
      "                                                                                                  \n",
      " max_pooling2d_3 (MaxPoolin  (None, 1, 23, 10)            0         ['conv2d_3[0][0]']            \n",
      " g2D)                                                                                             \n",
      "                                                                                                  \n",
      " conv2d_4 (Conv2D)           (None, 1, 19, 5)             255       ['max_pooling2d_3[0][0]']     \n",
      "                                                                                                  \n",
      " max_pooling2d_4 (MaxPoolin  (None, 1, 6, 5)              0         ['conv2d_4[0][0]']            \n",
      " g2D)                                                                                             \n",
      "                                                                                                  \n",
      " dropout_6 (Dropout)         (None, 1, 6, 5)              0         ['max_pooling2d_4[0][0]']     \n",
      "                                                                                                  \n",
      " flatten_1 (Flatten)         (None, 30)                   0         ['dropout_6[0][0]']           \n",
      "                                                                                                  \n",
      " dropout_7 (Dropout)         (None, 30)                   0         ['flatten_1[0][0]']           \n",
      "                                                                                                  \n",
      " dense_8 (Dense)             (None, 1)                    31        ['dropout_7[0][0]']           \n",
      "                                                                                                  \n",
      "==================================================================================================\n",
      "Total params: 1293306 (4.93 MB)\n",
      "Trainable params: 1291058 (4.92 MB)\n",
      "Non-trainable params: 2248 (8.78 KB)\n",
      "__________________________________________________________________________________________________\n"
     ]
    }
   ],
   "source": [
    "simpleCDR_original_model.summary()"
   ]
  },
  {
   "cell_type": "code",
   "execution_count": 101,
   "id": "a0d9c220-3c97-44c6-bbc8-95812f705fba",
   "metadata": {},
   "outputs": [],
   "source": [
    "# get the layer before the last layer\n",
    "# before_pred = simpleCDR_original_model.layers[-2].output"
   ]
  },
  {
   "cell_type": "code",
   "execution_count": 102,
   "id": "08cb9209-68d6-46c3-8c5a-b28b8e338474",
   "metadata": {},
   "outputs": [],
   "source": [
    "# add the prediction layer\n",
    "# pred_layer = tf.keras.layers.Dense(1)\n",
    "# pred_out = pred_layer(before_pred)"
   ]
  },
  {
   "cell_type": "code",
   "execution_count": 103,
   "id": "b8ad805f-8770-498d-a680-d99dd56f4ed5",
   "metadata": {},
   "outputs": [],
   "source": [
    "# new_cdr_model = tf.keras.models.Model(inputs = [simpleCDR_original_model.input], outputs = [pred_out])"
   ]
  },
  {
   "cell_type": "code",
   "execution_count": 104,
   "id": "259b86e7-fbbf-4f76-b22e-ed014177622d",
   "metadata": {},
   "outputs": [],
   "source": [
    "# new_cdr_model.summary()"
   ]
  },
  {
   "cell_type": "code",
   "execution_count": 105,
   "id": "a6b3249c-f053-4fef-b672-b53c940302e3",
   "metadata": {},
   "outputs": [],
   "source": [
    "simplecdr.set_weights(simpleCDR_original_model.get_weights())"
   ]
  },
  {
   "cell_type": "code",
   "execution_count": 106,
   "id": "e83ba73d-bc93-4d35-948a-3b99fa03ba78",
   "metadata": {},
   "outputs": [],
   "source": [
    "simplecdr.compile(loss = tf.keras.losses.MeanSquaredError(), \n",
    "                    optimizer = tf.keras.optimizers.Adam(learning_rate=0.001), \n",
    "                    metrics = [tf.keras.metrics.RootMeanSquaredError()])"
   ]
  },
  {
   "cell_type": "code",
   "execution_count": 107,
   "id": "821fc5ea-d50e-4073-8eb6-b6957aa16c4b",
   "metadata": {},
   "outputs": [
    {
     "name": "stdout",
     "output_type": "stream",
     "text": [
      "Epoch 1/1000\n"
     ]
    },
    {
     "name": "stderr",
     "output_type": "stream",
     "text": [
      "2024-07-12 18:58:54.193460: E tensorflow/core/grappler/optimizers/meta_optimizer.cc:961] layout failed: INVALID_ARGUMENT: Size of values 0 does not match size of permutation 4 @ fanin shape inmodel/dropout_6/dropout/SelectV2-2-TransposeNHWCToNCHW-LayoutOptimizer\n",
      "2024-07-12 18:58:54.846295: I external/local_xla/xla/stream_executor/cuda/cuda_dnn.cc:454] Loaded cuDNN version 8907\n",
      "2024-07-12 18:58:56.495349: I external/local_xla/xla/service/service.cc:168] XLA service 0x14c828d36190 initialized for platform CUDA (this does not guarantee that XLA will be used). Devices:\n",
      "2024-07-12 18:58:56.495393: I external/local_xla/xla/service/service.cc:176]   StreamExecutor device (0): Tesla V100S-PCIE-32GB, Compute Capability 7.0\n",
      "2024-07-12 18:58:56.544301: I tensorflow/compiler/mlir/tensorflow/utils/dump_mlir_util.cc:269] disabling MLIR crash reproducer, set env var `MLIR_CRASH_REPRODUCER_DIRECTORY` to enable.\n",
      "WARNING: All log messages before absl::InitializeLog() is called are written to STDERR\n",
      "I0000 00:00:1720828736.849602  288716 device_compiler.h:186] Compiled cluster using XLA!  This line is logged at most once for the lifetime of the process.\n"
     ]
    },
    {
     "name": "stdout",
     "output_type": "stream",
     "text": [
      "10/10 [==============================] - 13s 252ms/step - loss: 1.8029 - root_mean_squared_error: 1.3427 - val_loss: 1.5478 - val_root_mean_squared_error: 1.2441\n",
      "Epoch 2/1000\n",
      "10/10 [==============================] - 1s 140ms/step - loss: 1.5308 - root_mean_squared_error: 1.2372 - val_loss: 1.4861 - val_root_mean_squared_error: 1.2191\n",
      "Epoch 3/1000\n",
      "10/10 [==============================] - 1s 137ms/step - loss: 1.4736 - root_mean_squared_error: 1.2139 - val_loss: 1.5621 - val_root_mean_squared_error: 1.2498\n",
      "Epoch 4/1000\n",
      "10/10 [==============================] - 1s 139ms/step - loss: 1.4174 - root_mean_squared_error: 1.1906 - val_loss: 1.6429 - val_root_mean_squared_error: 1.2818\n",
      "Epoch 5/1000\n",
      "10/10 [==============================] - 1s 137ms/step - loss: 1.3956 - root_mean_squared_error: 1.1814 - val_loss: 1.8155 - val_root_mean_squared_error: 1.3474\n",
      "Epoch 6/1000\n",
      "10/10 [==============================] - 1s 137ms/step - loss: 1.3739 - root_mean_squared_error: 1.1721 - val_loss: 1.7481 - val_root_mean_squared_error: 1.3222\n",
      "Epoch 7/1000\n",
      "10/10 [==============================] - 1s 138ms/step - loss: 1.3399 - root_mean_squared_error: 1.1575 - val_loss: 1.6451 - val_root_mean_squared_error: 1.2826\n",
      "Epoch 8/1000\n",
      "10/10 [==============================] - 1s 136ms/step - loss: 1.2490 - root_mean_squared_error: 1.1176 - val_loss: 1.6110 - val_root_mean_squared_error: 1.2693\n",
      "Epoch 9/1000\n",
      "10/10 [==============================] - 1s 138ms/step - loss: 1.2291 - root_mean_squared_error: 1.1086 - val_loss: 1.5602 - val_root_mean_squared_error: 1.2491\n",
      "Epoch 10/1000\n",
      "10/10 [==============================] - 1s 138ms/step - loss: 1.1553 - root_mean_squared_error: 1.0748 - val_loss: 1.6408 - val_root_mean_squared_error: 1.2809\n",
      "Epoch 11/1000\n",
      "10/10 [==============================] - 1s 138ms/step - loss: 1.1832 - root_mean_squared_error: 1.0878 - val_loss: 1.6942 - val_root_mean_squared_error: 1.3016\n",
      "Epoch 12/1000\n",
      "10/10 [==============================] - 1s 139ms/step - loss: 1.1403 - root_mean_squared_error: 1.0679 - val_loss: 1.6707 - val_root_mean_squared_error: 1.2925\n",
      "Epoch 13/1000\n",
      "10/10 [==============================] - 1s 138ms/step - loss: 1.1416 - root_mean_squared_error: 1.0685 - val_loss: 1.5756 - val_root_mean_squared_error: 1.2552\n",
      "Epoch 14/1000\n",
      "10/10 [==============================] - 1s 138ms/step - loss: 1.1251 - root_mean_squared_error: 1.0607 - val_loss: 1.7176 - val_root_mean_squared_error: 1.3106\n",
      "Epoch 15/1000\n",
      "10/10 [==============================] - 1s 136ms/step - loss: 1.0937 - root_mean_squared_error: 1.0458 - val_loss: 1.7272 - val_root_mean_squared_error: 1.3142\n",
      "Epoch 16/1000\n",
      "10/10 [==============================] - 1s 138ms/step - loss: 1.1487 - root_mean_squared_error: 1.0718 - val_loss: 1.6061 - val_root_mean_squared_error: 1.2673\n",
      "Epoch 17/1000\n",
      "10/10 [==============================] - 1s 139ms/step - loss: 1.0921 - root_mean_squared_error: 1.0450 - val_loss: 1.7809 - val_root_mean_squared_error: 1.3345\n",
      "Epoch 18/1000\n",
      "10/10 [==============================] - 1s 138ms/step - loss: 1.0820 - root_mean_squared_error: 1.0402 - val_loss: 1.6981 - val_root_mean_squared_error: 1.3031\n",
      "Epoch 19/1000\n",
      "10/10 [==============================] - 1s 140ms/step - loss: 1.0861 - root_mean_squared_error: 1.0422 - val_loss: 1.6645 - val_root_mean_squared_error: 1.2902\n",
      "Epoch 20/1000\n",
      "10/10 [==============================] - 1s 140ms/step - loss: 1.0152 - root_mean_squared_error: 1.0076 - val_loss: 1.6556 - val_root_mean_squared_error: 1.2867\n",
      "Epoch 21/1000\n",
      "10/10 [==============================] - 1s 142ms/step - loss: 1.0317 - root_mean_squared_error: 1.0157 - val_loss: 1.7223 - val_root_mean_squared_error: 1.3124\n",
      "Epoch 22/1000\n",
      "10/10 [==============================] - 1s 141ms/step - loss: 1.0708 - root_mean_squared_error: 1.0348 - val_loss: 1.8748 - val_root_mean_squared_error: 1.3692\n",
      "CPU times: user 41.4 s, sys: 1.44 s, total: 42.8 s\n",
      "Wall time: 43.3 s\n"
     ]
    }
   ],
   "source": [
    "%%time\n",
    "history = simplecdr.fit([new_train_gcn_feats, new_train_adj_list,\n",
    "                        new_omics_gen_expr_train, new_omics_gen_methyl_train, new_omics_gen_mut_train], new_y_train.reshape(-1,1), \n",
    "                         \n",
    "          batch_size = 512, epochs = 1000, verbose = 1,\n",
    "                         \n",
    "          validation_split=0.2,\n",
    "        callbacks = tf.keras.callbacks.EarlyStopping(monitor = \"val_loss\", patience = 20, restore_best_weights=True,\n",
    "                                                       mode = \"min\"), \n",
    "         validation_batch_size = 512, shuffle = True)"
   ]
  },
  {
   "cell_type": "code",
   "execution_count": 108,
   "id": "163c3816-113b-4011-bc7e-9d312f422388",
   "metadata": {},
   "outputs": [
    {
     "name": "stdout",
     "output_type": "stream",
     "text": [
      "INFO:tensorflow:Assets written to: ..//models//deepcdr_fine_tuned_split_0/assets\n"
     ]
    },
    {
     "name": "stderr",
     "output_type": "stream",
     "text": [
      "INFO:tensorflow:Assets written to: ..//models//deepcdr_fine_tuned_split_0/assets\n"
     ]
    }
   ],
   "source": [
    "simplecdr.save(\"..//models//deepcdr_fine_tuned_split_\" + str(test_index))"
   ]
  },
  {
   "cell_type": "code",
   "execution_count": 109,
   "id": "31f42254-85b5-4f5c-894b-61ab50b83bf1",
   "metadata": {},
   "outputs": [],
   "source": [
    "simplecdr = tf.keras.models.load_model(\"..//models//deepcdr_fine_tuned_split_\" + str(test_index))"
   ]
  },
  {
   "cell_type": "code",
   "execution_count": 110,
   "id": "6d789215-03ea-424f-8e5e-79d6d8abc983",
   "metadata": {},
   "outputs": [],
   "source": [
    "# simplecdr.predict([ new_test_gcn_feats, new_test_adj_list,\n",
    "#                            new_omics_gen_expr_test, new_omics_gen_methyl_test, new_omics_gen_mut_test], \n",
    "#                               batch_size = new_test_gcn_feats.shape[0]).tolist()"
   ]
  },
  {
   "cell_type": "code",
   "execution_count": 111,
   "id": "df749f0f-a3ba-410d-82af-fd4b3493cd92",
   "metadata": {},
   "outputs": [],
   "source": [
    "# !pip install tqdm"
   ]
  },
  {
   "cell_type": "code",
   "execution_count": 112,
   "id": "653729bf-bdcb-4c10-af65-42c37101e60f",
   "metadata": {},
   "outputs": [],
   "source": [
    "reps = 25"
   ]
  },
  {
   "cell_type": "code",
   "execution_count": 113,
   "id": "67999a1b-c3c2-4a5b-8a99-9609a208c7a4",
   "metadata": {},
   "outputs": [
    {
     "name": "stdout",
     "output_type": "stream",
     "text": [
      "0\n",
      "1\n",
      "2\n",
      "3\n",
      "4\n",
      "5\n",
      "6\n",
      "7\n",
      "8\n",
      "9\n",
      "10\n",
      "11\n",
      "12\n",
      "13\n",
      "14\n",
      "15\n",
      "16\n",
      "17\n",
      "18\n",
      "19\n",
      "20\n",
      "21\n",
      "22\n",
      "23\n",
      "24\n"
     ]
    }
   ],
   "source": [
    "catch_preds = np.zeros((new_test_gcn_feats.shape[0],reps))\n",
    "for i in range(0,reps):\n",
    "    print(i)\n",
    "    preds = simplecdr.predict([ new_test_gcn_feats, new_test_adj_list,\n",
    "                           new_omics_gen_expr_test, new_omics_gen_methyl_test, new_omics_gen_mut_test], \n",
    "                              batch_size = 1024, verbose = 0)\n",
    "    catch_preds[:,i] = preds[:,0]"
   ]
  },
  {
   "cell_type": "code",
   "execution_count": 114,
   "id": "96cca401-ba35-4d90-a704-366f45fafe77",
   "metadata": {},
   "outputs": [],
   "source": [
    "# catch_preds.shape"
   ]
  },
  {
   "cell_type": "code",
   "execution_count": 115,
   "id": "51e19bdc-15be-4026-9def-57580d0fa7e9",
   "metadata": {},
   "outputs": [],
   "source": [
    "preds_data = np.hstack((new_y_test.reshape(-1,1), catch_preds))"
   ]
  },
  {
   "cell_type": "code",
   "execution_count": 116,
   "id": "cf14df78-f74e-4025-985e-5d6c49b7478f",
   "metadata": {},
   "outputs": [],
   "source": [
    "# preds_data.shape"
   ]
  },
  {
   "cell_type": "code",
   "execution_count": 117,
   "id": "c1a55848-c4f9-40ee-abfd-a213a225906c",
   "metadata": {},
   "outputs": [],
   "source": [
    "np.save(\"..//data//deepcdr_preds_val_and_test_\" +str(test_index) + \".npy\",preds_data )"
   ]
  },
  {
   "cell_type": "code",
   "execution_count": 118,
   "id": "8c652330-f2c8-42e5-8964-fc1d01a18356",
   "metadata": {},
   "outputs": [],
   "source": [
    "# np.load(\"..//data//deepcdr_preds_val_and_test_\" +str(test_index) + \".npy\" ).shape"
   ]
  }
 ],
 "metadata": {
  "kernelspec": {
   "display_name": "Python (tfp_for_TN)",
   "language": "python",
   "name": "tfp_for_tn"
  },
  "language_info": {
   "codemirror_mode": {
    "name": "ipython",
    "version": 3
   },
   "file_extension": ".py",
   "mimetype": "text/x-python",
   "name": "python",
   "nbconvert_exporter": "python",
   "pygments_lexer": "ipython3",
   "version": "3.10.14"
  }
 },
 "nbformat": 4,
 "nbformat_minor": 5
}
