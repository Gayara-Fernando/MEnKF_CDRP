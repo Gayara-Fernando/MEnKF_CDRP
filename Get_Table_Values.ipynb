{
 "cells": [
  {
   "cell_type": "code",
   "execution_count": 1,
   "id": "0f55d8e2-17b2-4ab4-8866-f5b9abc058b0",
   "metadata": {},
   "outputs": [],
   "source": [
    "import pandas as pd\n",
    "import numpy as np\n",
    "import os"
   ]
  },
  {
   "cell_type": "code",
   "execution_count": 2,
   "id": "c805cf0e-8ee3-4e37-af36-a4f3fd2a7b2a",
   "metadata": {},
   "outputs": [
    {
     "data": {
      "text/plain": [
       "15"
      ]
     },
     "execution_count": 2,
     "metadata": {},
     "output_type": "execute_result"
    }
   ],
   "source": [
    "len('test_parameters')"
   ]
  },
  {
   "cell_type": "code",
   "execution_count": 3,
   "id": "eb5d419f-10c6-4778-b46d-02253d4f78b2",
   "metadata": {},
   "outputs": [],
   "source": [
    "saved_csv_path = '../MEnKF_fold_results/'"
   ]
  },
  {
   "cell_type": "code",
   "execution_count": 4,
   "id": "6902591f-ef78-4fb5-99f2-246d1e194b79",
   "metadata": {},
   "outputs": [],
   "source": [
    "folds = ['Fold_0', 'Fold_1', 'Fold_2']"
   ]
  },
  {
   "cell_type": "code",
   "execution_count": 5,
   "id": "da982e93-8284-49a9-a5a4-435c7626ed69",
   "metadata": {},
   "outputs": [],
   "source": [
    "def load_csv_files(saved_path, fold):\n",
    "    # list contents\n",
    "    list_files = os.listdir(os.path.join(saved_path, fold))\n",
    "    list_files.sort()\n",
    "    # only get the csv files on parameters\n",
    "    param_csv_files = [file for file in list_files if file[:15] == 'test_parameters']\n",
    "    return(param_csv_files)"
   ]
  },
  {
   "cell_type": "code",
   "execution_count": 6,
   "id": "4dd8e2aa-dcf5-4108-aefb-c46dfa36fbe2",
   "metadata": {},
   "outputs": [],
   "source": [
    "# fold 0\n",
    "csv_files_fold_0 = load_csv_files(saved_csv_path, 'Fold_0')\n",
    "# fold 1\n",
    "csv_files_fold_1 = load_csv_files(saved_csv_path, 'Fold_1')\n",
    "# fold 2\n",
    "csv_files_fold_2 = load_csv_files(saved_csv_path, 'Fold_2')"
   ]
  },
  {
   "cell_type": "code",
   "execution_count": 7,
   "id": "9df728f5-cd45-4455-9cd6-e5a151845219",
   "metadata": {},
   "outputs": [
    {
     "data": {
      "text/plain": [
       "['test_parameters_ablation_for_test_fold_0.csv',\n",
       " 'test_parameters_ablation_stacker_complete_for_test_fold_0.csv',\n",
       " 'test_parameters_ablation_stacker_for_test_fold_0.csv',\n",
       " 'test_parameters_all_features_for_test_fold_0.csv',\n",
       " 'test_parameters_all_features_stacker_complete_for_test_fold_0.csv',\n",
       " 'test_parameters_all_features_stacker_for_test_fold_0.csv']"
      ]
     },
     "execution_count": 7,
     "metadata": {},
     "output_type": "execute_result"
    }
   ],
   "source": [
    "csv_files_fold_0"
   ]
  },
  {
   "cell_type": "code",
   "execution_count": 8,
   "id": "0969cfaf-3c6b-4285-9fe8-5f089c2a7b83",
   "metadata": {},
   "outputs": [
    {
     "data": {
      "text/plain": [
       "['test_parameters_ablation_for_test_fold_1.csv',\n",
       " 'test_parameters_ablation_stacker_complete_for_test_fold_1.csv',\n",
       " 'test_parameters_ablation_stacker_for_test_fold_1.csv',\n",
       " 'test_parameters_all_features_for_test_fold_1.csv',\n",
       " 'test_parameters_all_features_stacker_complete_for_test_fold_1.csv',\n",
       " 'test_parameters_all_features_stacker_for_test_fold_1.csv']"
      ]
     },
     "execution_count": 8,
     "metadata": {},
     "output_type": "execute_result"
    }
   ],
   "source": [
    "csv_files_fold_1"
   ]
  },
  {
   "cell_type": "code",
   "execution_count": 9,
   "id": "97553388-ac99-4c7a-99d8-5976c51cdc87",
   "metadata": {},
   "outputs": [
    {
     "data": {
      "text/plain": [
       "['test_parameters_ablation_for_test_fold_2.csv',\n",
       " 'test_parameters_ablation_stacker_complete_for_test_fold_2.csv',\n",
       " 'test_parameters_ablation_stacker_for_test_fold_2.csv',\n",
       " 'test_parameters_all_features_for_test_fold_2.csv',\n",
       " 'test_parameters_all_features_stacker_complete_for_test_fold_2.csv',\n",
       " 'test_parameters_all_features_stacker_for_test_fold_2.csv']"
      ]
     },
     "execution_count": 9,
     "metadata": {},
     "output_type": "execute_result"
    }
   ],
   "source": [
    "csv_files_fold_2"
   ]
  },
  {
   "cell_type": "code",
   "execution_count": 10,
   "id": "7a6cbb73-9749-40ce-bf38-9972aa10d0a9",
   "metadata": {},
   "outputs": [],
   "source": [
    "MEnKF_results_fold_0, Stacker_results_fold_0 = pd.read_csv(os.path.join(saved_csv_path, 'Fold_0', csv_files_fold_0[-3])), pd.read_csv(os.path.join(saved_csv_path, 'Fold_0', csv_files_fold_0[-2]))"
   ]
  },
  {
   "cell_type": "code",
   "execution_count": 11,
   "id": "4d1273d6-e36d-412f-8b59-5952ec553084",
   "metadata": {},
   "outputs": [],
   "source": [
    "MEnKF_results_fold_1, Stacker_results_fold_1 = pd.read_csv(os.path.join(saved_csv_path, 'Fold_1', csv_files_fold_1[-3])), pd.read_csv(os.path.join(saved_csv_path, 'Fold_1', csv_files_fold_1[-2]))"
   ]
  },
  {
   "cell_type": "code",
   "execution_count": 12,
   "id": "8a21dec3-de5a-424c-811e-f81b0d413cb0",
   "metadata": {},
   "outputs": [],
   "source": [
    "MEnKF_results_fold_2, Stacker_results_fold_2 = pd.read_csv(os.path.join(saved_csv_path, 'Fold_2', csv_files_fold_2[-3])), pd.read_csv(os.path.join(saved_csv_path, 'Fold_2', csv_files_fold_2[-2]))"
   ]
  },
  {
   "cell_type": "code",
   "execution_count": 13,
   "id": "84393a8e-2224-46bb-9722-b6924d3d1fe4",
   "metadata": {},
   "outputs": [],
   "source": [
    "MEnKF_ablation_fold_0, Stacker_ablation_fold_0 = pd.read_csv(os.path.join(saved_csv_path, 'Fold_0', csv_files_fold_0[0])), pd.read_csv(os.path.join(saved_csv_path, 'Fold_0', csv_files_fold_0[1]))"
   ]
  },
  {
   "cell_type": "code",
   "execution_count": 14,
   "id": "842760fb-29cd-4d50-810f-d576f9300eea",
   "metadata": {},
   "outputs": [],
   "source": [
    "MEnKF_ablation_fold_1, Stacker_ablation_fold_1 = pd.read_csv(os.path.join(saved_csv_path, 'Fold_1', csv_files_fold_1[0])), pd.read_csv(os.path.join(saved_csv_path, 'Fold_1', csv_files_fold_1[1]))"
   ]
  },
  {
   "cell_type": "code",
   "execution_count": 15,
   "id": "f6fa9eb7-d70a-47bf-b966-0832cf0913f1",
   "metadata": {},
   "outputs": [],
   "source": [
    "MEnKF_ablation_fold_2, Stacker_ablation_fold_2 = pd.read_csv(os.path.join(saved_csv_path, 'Fold_2', csv_files_fold_2[0])), pd.read_csv(os.path.join(saved_csv_path, 'Fold_2', csv_files_fold_2[1]))"
   ]
  },
  {
   "cell_type": "code",
   "execution_count": 16,
   "id": "e1eb2152-c206-4160-8eb5-c089298a9db3",
   "metadata": {},
   "outputs": [
    {
     "data": {
      "text/html": [
       "<div>\n",
       "<style scoped>\n",
       "    .dataframe tbody tr th:only-of-type {\n",
       "        vertical-align: middle;\n",
       "    }\n",
       "\n",
       "    .dataframe tbody tr th {\n",
       "        vertical-align: top;\n",
       "    }\n",
       "\n",
       "    .dataframe thead th {\n",
       "        text-align: right;\n",
       "    }\n",
       "</style>\n",
       "<table border=\"1\" class=\"dataframe\">\n",
       "  <thead>\n",
       "    <tr style=\"text-align: right;\">\n",
       "      <th></th>\n",
       "      <th>parameter</th>\n",
       "      <th>value</th>\n",
       "    </tr>\n",
       "  </thead>\n",
       "  <tbody>\n",
       "    <tr>\n",
       "      <th>0</th>\n",
       "      <td>test_coverage</td>\n",
       "      <td>0.432779</td>\n",
       "    </tr>\n",
       "    <tr>\n",
       "      <th>1</th>\n",
       "      <td>test_width</td>\n",
       "      <td>1.434199</td>\n",
       "    </tr>\n",
       "    <tr>\n",
       "      <th>2</th>\n",
       "      <td>test_pearsonr</td>\n",
       "      <td>0.882949</td>\n",
       "    </tr>\n",
       "    <tr>\n",
       "      <th>3</th>\n",
       "      <td>test_rmse</td>\n",
       "      <td>1.324457</td>\n",
       "    </tr>\n",
       "    <tr>\n",
       "      <th>4</th>\n",
       "      <td>test_cdr_weight</td>\n",
       "      <td>0.647405</td>\n",
       "    </tr>\n",
       "    <tr>\n",
       "      <th>5</th>\n",
       "      <td>test_gcn_weight</td>\n",
       "      <td>0.352595</td>\n",
       "    </tr>\n",
       "  </tbody>\n",
       "</table>\n",
       "</div>"
      ],
      "text/plain": [
       "         parameter     value\n",
       "0    test_coverage  0.432779\n",
       "1       test_width  1.434199\n",
       "2    test_pearsonr  0.882949\n",
       "3        test_rmse  1.324457\n",
       "4  test_cdr_weight  0.647405\n",
       "5  test_gcn_weight  0.352595"
      ]
     },
     "execution_count": 16,
     "metadata": {},
     "output_type": "execute_result"
    }
   ],
   "source": [
    "Stacker_ablation_fold_2"
   ]
  },
  {
   "cell_type": "markdown",
   "id": "8338b5bc-05b8-474e-a820-5357d3603cd4",
   "metadata": {},
   "source": [
    "MEnKF results - All feaures"
   ]
  },
  {
   "cell_type": "code",
   "execution_count": 17,
   "id": "2cf4b4ee-4848-480b-94bc-538f206f62fb",
   "metadata": {},
   "outputs": [],
   "source": [
    "All_MEnKF_results = pd.concat((MEnKF_results_fold_0, MEnKF_results_fold_1[['value']], MEnKF_results_fold_2[['value']]), axis = 1)"
   ]
  },
  {
   "cell_type": "code",
   "execution_count": 18,
   "id": "5af2d85b-1c96-4987-928a-0cafe1b08053",
   "metadata": {},
   "outputs": [],
   "source": [
    "All_MEnKF_results.columns = ['parameter','value_fold_0', 'value_fold_1', 'value_fold_2']"
   ]
  },
  {
   "cell_type": "code",
   "execution_count": 19,
   "id": "5dd91a35-1fd8-44a4-8d0d-b1117265fd45",
   "metadata": {},
   "outputs": [],
   "source": [
    "All_MEnKF_results['average_values'] = All_MEnKF_results[['value_fold_0', 'value_fold_1', 'value_fold_2']].mean(axis=1)"
   ]
  },
  {
   "cell_type": "code",
   "execution_count": 20,
   "id": "e1c65c56-4cec-4548-a4cf-56cf240a5f6d",
   "metadata": {},
   "outputs": [
    {
     "data": {
      "text/html": [
       "<div>\n",
       "<style scoped>\n",
       "    .dataframe tbody tr th:only-of-type {\n",
       "        vertical-align: middle;\n",
       "    }\n",
       "\n",
       "    .dataframe tbody tr th {\n",
       "        vertical-align: top;\n",
       "    }\n",
       "\n",
       "    .dataframe thead th {\n",
       "        text-align: right;\n",
       "    }\n",
       "</style>\n",
       "<table border=\"1\" class=\"dataframe\">\n",
       "  <thead>\n",
       "    <tr style=\"text-align: right;\">\n",
       "      <th></th>\n",
       "      <th>parameter</th>\n",
       "      <th>value_fold_0</th>\n",
       "      <th>value_fold_1</th>\n",
       "      <th>value_fold_2</th>\n",
       "      <th>average_values</th>\n",
       "    </tr>\n",
       "  </thead>\n",
       "  <tbody>\n",
       "    <tr>\n",
       "      <th>0</th>\n",
       "      <td>best_test_width</td>\n",
       "      <td>3.479618</td>\n",
       "      <td>5.127622</td>\n",
       "      <td>4.162358</td>\n",
       "      <td>4.256533</td>\n",
       "    </tr>\n",
       "    <tr>\n",
       "      <th>1</th>\n",
       "      <td>best_coverage_test</td>\n",
       "      <td>0.810638</td>\n",
       "      <td>0.928101</td>\n",
       "      <td>0.831947</td>\n",
       "      <td>0.856895</td>\n",
       "    </tr>\n",
       "    <tr>\n",
       "      <th>2</th>\n",
       "      <td>best_rmse_test</td>\n",
       "      <td>1.325722</td>\n",
       "      <td>1.302440</td>\n",
       "      <td>1.377116</td>\n",
       "      <td>1.335093</td>\n",
       "    </tr>\n",
       "    <tr>\n",
       "      <th>3</th>\n",
       "      <td>best_pearson_r</td>\n",
       "      <td>0.884885</td>\n",
       "      <td>0.888288</td>\n",
       "      <td>0.872488</td>\n",
       "      <td>0.881887</td>\n",
       "    </tr>\n",
       "    <tr>\n",
       "      <th>4</th>\n",
       "      <td>best_w1_weight</td>\n",
       "      <td>0.171465</td>\n",
       "      <td>0.478032</td>\n",
       "      <td>0.024549</td>\n",
       "      <td>0.224682</td>\n",
       "    </tr>\n",
       "    <tr>\n",
       "      <th>5</th>\n",
       "      <td>best_w2_weight</td>\n",
       "      <td>0.053781</td>\n",
       "      <td>0.240044</td>\n",
       "      <td>0.020079</td>\n",
       "      <td>0.104635</td>\n",
       "    </tr>\n",
       "    <tr>\n",
       "      <th>6</th>\n",
       "      <td>best_w3_weight</td>\n",
       "      <td>0.718657</td>\n",
       "      <td>0.225289</td>\n",
       "      <td>0.927095</td>\n",
       "      <td>0.623681</td>\n",
       "    </tr>\n",
       "    <tr>\n",
       "      <th>7</th>\n",
       "      <td>best_w4_weight</td>\n",
       "      <td>0.056096</td>\n",
       "      <td>0.056635</td>\n",
       "      <td>0.028277</td>\n",
       "      <td>0.047002</td>\n",
       "    </tr>\n",
       "  </tbody>\n",
       "</table>\n",
       "</div>"
      ],
      "text/plain": [
       "            parameter  value_fold_0  value_fold_1  value_fold_2  \\\n",
       "0     best_test_width      3.479618      5.127622      4.162358   \n",
       "1  best_coverage_test      0.810638      0.928101      0.831947   \n",
       "2      best_rmse_test      1.325722      1.302440      1.377116   \n",
       "3      best_pearson_r      0.884885      0.888288      0.872488   \n",
       "4      best_w1_weight      0.171465      0.478032      0.024549   \n",
       "5      best_w2_weight      0.053781      0.240044      0.020079   \n",
       "6      best_w3_weight      0.718657      0.225289      0.927095   \n",
       "7      best_w4_weight      0.056096      0.056635      0.028277   \n",
       "\n",
       "   average_values  \n",
       "0        4.256533  \n",
       "1        0.856895  \n",
       "2        1.335093  \n",
       "3        0.881887  \n",
       "4        0.224682  \n",
       "5        0.104635  \n",
       "6        0.623681  \n",
       "7        0.047002  "
      ]
     },
     "execution_count": 20,
     "metadata": {},
     "output_type": "execute_result"
    }
   ],
   "source": [
    "All_MEnKF_results"
   ]
  },
  {
   "cell_type": "markdown",
   "id": "1e5d64ba-8fa3-437e-ad42-7a1fb71655dd",
   "metadata": {},
   "source": [
    "Stacker results - All features"
   ]
  },
  {
   "cell_type": "code",
   "execution_count": 21,
   "id": "019b72fa-b999-4fab-b293-fdbc37526a49",
   "metadata": {},
   "outputs": [],
   "source": [
    "All_Stacker_results = pd.concat((Stacker_results_fold_0, Stacker_results_fold_1[['value']], Stacker_results_fold_2[['value']]), axis = 1)"
   ]
  },
  {
   "cell_type": "code",
   "execution_count": 22,
   "id": "315baf4e-490d-43af-a1e5-2412c20b6cf5",
   "metadata": {},
   "outputs": [],
   "source": [
    "All_Stacker_results.columns = ['parameter','value_fold_0', 'value_fold_1', 'value_fold_2']"
   ]
  },
  {
   "cell_type": "code",
   "execution_count": 23,
   "id": "83c2e06e-4f81-4232-b9dd-13093f1b600c",
   "metadata": {},
   "outputs": [],
   "source": [
    "All_Stacker_results['average_values'] = All_Stacker_results[['value_fold_0', 'value_fold_1', 'value_fold_2']].mean(axis=1)"
   ]
  },
  {
   "cell_type": "code",
   "execution_count": 24,
   "id": "07ae9447-3565-469e-92ef-d59e8bd67c06",
   "metadata": {},
   "outputs": [
    {
     "data": {
      "text/html": [
       "<div>\n",
       "<style scoped>\n",
       "    .dataframe tbody tr th:only-of-type {\n",
       "        vertical-align: middle;\n",
       "    }\n",
       "\n",
       "    .dataframe tbody tr th {\n",
       "        vertical-align: top;\n",
       "    }\n",
       "\n",
       "    .dataframe thead th {\n",
       "        text-align: right;\n",
       "    }\n",
       "</style>\n",
       "<table border=\"1\" class=\"dataframe\">\n",
       "  <thead>\n",
       "    <tr style=\"text-align: right;\">\n",
       "      <th></th>\n",
       "      <th>parameter</th>\n",
       "      <th>value_fold_0</th>\n",
       "      <th>value_fold_1</th>\n",
       "      <th>value_fold_2</th>\n",
       "      <th>average_values</th>\n",
       "    </tr>\n",
       "  </thead>\n",
       "  <tbody>\n",
       "    <tr>\n",
       "      <th>0</th>\n",
       "      <td>test_coverage</td>\n",
       "      <td>0.428274</td>\n",
       "      <td>0.448545</td>\n",
       "      <td>0.433472</td>\n",
       "      <td>0.436764</td>\n",
       "    </tr>\n",
       "    <tr>\n",
       "      <th>1</th>\n",
       "      <td>test_width</td>\n",
       "      <td>1.214561</td>\n",
       "      <td>1.234255</td>\n",
       "      <td>1.221032</td>\n",
       "      <td>1.223283</td>\n",
       "    </tr>\n",
       "    <tr>\n",
       "      <th>2</th>\n",
       "      <td>test_pearsonr</td>\n",
       "      <td>0.914162</td>\n",
       "      <td>0.917978</td>\n",
       "      <td>0.913961</td>\n",
       "      <td>0.915367</td>\n",
       "    </tr>\n",
       "    <tr>\n",
       "      <th>3</th>\n",
       "      <td>test_rmse</td>\n",
       "      <td>1.155581</td>\n",
       "      <td>1.126153</td>\n",
       "      <td>1.143770</td>\n",
       "      <td>1.141835</td>\n",
       "    </tr>\n",
       "    <tr>\n",
       "      <th>4</th>\n",
       "      <td>test_cdr_weight</td>\n",
       "      <td>0.560185</td>\n",
       "      <td>0.536420</td>\n",
       "      <td>0.553578</td>\n",
       "      <td>0.550061</td>\n",
       "    </tr>\n",
       "    <tr>\n",
       "      <th>5</th>\n",
       "      <td>test_gcn_weight</td>\n",
       "      <td>0.439815</td>\n",
       "      <td>0.463580</td>\n",
       "      <td>0.446422</td>\n",
       "      <td>0.449939</td>\n",
       "    </tr>\n",
       "  </tbody>\n",
       "</table>\n",
       "</div>"
      ],
      "text/plain": [
       "         parameter  value_fold_0  value_fold_1  value_fold_2  average_values\n",
       "0    test_coverage      0.428274      0.448545      0.433472        0.436764\n",
       "1       test_width      1.214561      1.234255      1.221032        1.223283\n",
       "2    test_pearsonr      0.914162      0.917978      0.913961        0.915367\n",
       "3        test_rmse      1.155581      1.126153      1.143770        1.141835\n",
       "4  test_cdr_weight      0.560185      0.536420      0.553578        0.550061\n",
       "5  test_gcn_weight      0.439815      0.463580      0.446422        0.449939"
      ]
     },
     "execution_count": 24,
     "metadata": {},
     "output_type": "execute_result"
    }
   ],
   "source": [
    "All_Stacker_results"
   ]
  },
  {
   "cell_type": "markdown",
   "id": "7b5bc19a-c56e-4b36-a249-1f8c8e7b26a7",
   "metadata": {},
   "source": [
    "MEnKF results - Ablation"
   ]
  },
  {
   "cell_type": "code",
   "execution_count": 25,
   "id": "8d7724f0-cea0-4017-946a-e7b434d57607",
   "metadata": {},
   "outputs": [],
   "source": [
    "Ablated_MEnKF_results = pd.concat((MEnKF_ablation_fold_0, MEnKF_ablation_fold_1[['value']], MEnKF_ablation_fold_2[['value']]), axis = 1)"
   ]
  },
  {
   "cell_type": "code",
   "execution_count": 26,
   "id": "ba7ca10e-a2be-41a5-aa99-6245c4164b5d",
   "metadata": {},
   "outputs": [],
   "source": [
    "Ablated_MEnKF_results.columns = ['parameter','value_fold_0', 'value_fold_1', 'value_fold_2']"
   ]
  },
  {
   "cell_type": "code",
   "execution_count": 27,
   "id": "d68e6d50-c0b8-40fd-b580-b27d18188405",
   "metadata": {},
   "outputs": [],
   "source": [
    "Ablated_MEnKF_results['average_values'] = Ablated_MEnKF_results[['value_fold_0', 'value_fold_1', 'value_fold_2']].mean(axis=1)"
   ]
  },
  {
   "cell_type": "code",
   "execution_count": 28,
   "id": "bdf49323-4ded-4b1a-bba5-a3f704345458",
   "metadata": {},
   "outputs": [
    {
     "data": {
      "text/html": [
       "<div>\n",
       "<style scoped>\n",
       "    .dataframe tbody tr th:only-of-type {\n",
       "        vertical-align: middle;\n",
       "    }\n",
       "\n",
       "    .dataframe tbody tr th {\n",
       "        vertical-align: top;\n",
       "    }\n",
       "\n",
       "    .dataframe thead th {\n",
       "        text-align: right;\n",
       "    }\n",
       "</style>\n",
       "<table border=\"1\" class=\"dataframe\">\n",
       "  <thead>\n",
       "    <tr style=\"text-align: right;\">\n",
       "      <th></th>\n",
       "      <th>parameter</th>\n",
       "      <th>value_fold_0</th>\n",
       "      <th>value_fold_1</th>\n",
       "      <th>value_fold_2</th>\n",
       "      <th>average_values</th>\n",
       "    </tr>\n",
       "  </thead>\n",
       "  <tbody>\n",
       "    <tr>\n",
       "      <th>0</th>\n",
       "      <td>best_test_width</td>\n",
       "      <td>3.729426</td>\n",
       "      <td>5.176157</td>\n",
       "      <td>4.085708</td>\n",
       "      <td>4.330430</td>\n",
       "    </tr>\n",
       "    <tr>\n",
       "      <th>1</th>\n",
       "      <td>best_coverage_test</td>\n",
       "      <td>0.834200</td>\n",
       "      <td>0.920651</td>\n",
       "      <td>0.856376</td>\n",
       "      <td>0.870409</td>\n",
       "    </tr>\n",
       "    <tr>\n",
       "      <th>2</th>\n",
       "      <td>best_rmse_test</td>\n",
       "      <td>1.331461</td>\n",
       "      <td>1.304690</td>\n",
       "      <td>1.312733</td>\n",
       "      <td>1.316295</td>\n",
       "    </tr>\n",
       "    <tr>\n",
       "      <th>3</th>\n",
       "      <td>best_pearson_r</td>\n",
       "      <td>0.883849</td>\n",
       "      <td>0.887990</td>\n",
       "      <td>0.884831</td>\n",
       "      <td>0.885557</td>\n",
       "    </tr>\n",
       "    <tr>\n",
       "      <th>4</th>\n",
       "      <td>best_w1_weight</td>\n",
       "      <td>0.535576</td>\n",
       "      <td>0.696148</td>\n",
       "      <td>0.147967</td>\n",
       "      <td>0.459897</td>\n",
       "    </tr>\n",
       "    <tr>\n",
       "      <th>5</th>\n",
       "      <td>best_w2_weight</td>\n",
       "      <td>0.026830</td>\n",
       "      <td>0.023309</td>\n",
       "      <td>0.064972</td>\n",
       "      <td>0.038371</td>\n",
       "    </tr>\n",
       "    <tr>\n",
       "      <th>6</th>\n",
       "      <td>best_w3_weight</td>\n",
       "      <td>0.258423</td>\n",
       "      <td>0.225952</td>\n",
       "      <td>0.721781</td>\n",
       "      <td>0.402052</td>\n",
       "    </tr>\n",
       "    <tr>\n",
       "      <th>7</th>\n",
       "      <td>best_w4_weight</td>\n",
       "      <td>0.179172</td>\n",
       "      <td>0.054591</td>\n",
       "      <td>0.065279</td>\n",
       "      <td>0.099681</td>\n",
       "    </tr>\n",
       "  </tbody>\n",
       "</table>\n",
       "</div>"
      ],
      "text/plain": [
       "            parameter  value_fold_0  value_fold_1  value_fold_2  \\\n",
       "0     best_test_width      3.729426      5.176157      4.085708   \n",
       "1  best_coverage_test      0.834200      0.920651      0.856376   \n",
       "2      best_rmse_test      1.331461      1.304690      1.312733   \n",
       "3      best_pearson_r      0.883849      0.887990      0.884831   \n",
       "4      best_w1_weight      0.535576      0.696148      0.147967   \n",
       "5      best_w2_weight      0.026830      0.023309      0.064972   \n",
       "6      best_w3_weight      0.258423      0.225952      0.721781   \n",
       "7      best_w4_weight      0.179172      0.054591      0.065279   \n",
       "\n",
       "   average_values  \n",
       "0        4.330430  \n",
       "1        0.870409  \n",
       "2        1.316295  \n",
       "3        0.885557  \n",
       "4        0.459897  \n",
       "5        0.038371  \n",
       "6        0.402052  \n",
       "7        0.099681  "
      ]
     },
     "execution_count": 28,
     "metadata": {},
     "output_type": "execute_result"
    }
   ],
   "source": [
    "Ablated_MEnKF_results"
   ]
  },
  {
   "cell_type": "markdown",
   "id": "05c8cbf0-5af0-4a6d-a3cb-e24f8021148d",
   "metadata": {},
   "source": [
    "Stacker results - Ablated features"
   ]
  },
  {
   "cell_type": "code",
   "execution_count": 29,
   "id": "a59991ec-d658-472b-81fe-6381d38012ef",
   "metadata": {},
   "outputs": [],
   "source": [
    "Ablated_Stacker_results = pd.concat((Stacker_ablation_fold_0, Stacker_ablation_fold_1[['value']], Stacker_ablation_fold_2[['value']]), axis = 1)"
   ]
  },
  {
   "cell_type": "code",
   "execution_count": 30,
   "id": "55619879-a28e-4e5d-a5a3-7b040f00d241",
   "metadata": {},
   "outputs": [],
   "source": [
    "Ablated_Stacker_results.columns = ['parameter','value_fold_0', 'value_fold_1', 'value_fold_2']"
   ]
  },
  {
   "cell_type": "code",
   "execution_count": 31,
   "id": "bef5a02d-cb9b-4a4d-9156-67ac2af9d74c",
   "metadata": {},
   "outputs": [],
   "source": [
    "Ablated_Stacker_results['average_values'] = Ablated_Stacker_results[['value_fold_0', 'value_fold_1', 'value_fold_2']].mean(axis=1)"
   ]
  },
  {
   "cell_type": "code",
   "execution_count": 32,
   "id": "735f14d5-5e38-4805-b55b-844dbed0d34d",
   "metadata": {},
   "outputs": [
    {
     "data": {
      "text/html": [
       "<div>\n",
       "<style scoped>\n",
       "    .dataframe tbody tr th:only-of-type {\n",
       "        vertical-align: middle;\n",
       "    }\n",
       "\n",
       "    .dataframe tbody tr th {\n",
       "        vertical-align: top;\n",
       "    }\n",
       "\n",
       "    .dataframe thead th {\n",
       "        text-align: right;\n",
       "    }\n",
       "</style>\n",
       "<table border=\"1\" class=\"dataframe\">\n",
       "  <thead>\n",
       "    <tr style=\"text-align: right;\">\n",
       "      <th></th>\n",
       "      <th>parameter</th>\n",
       "      <th>value_fold_0</th>\n",
       "      <th>value_fold_1</th>\n",
       "      <th>value_fold_2</th>\n",
       "      <th>average_values</th>\n",
       "    </tr>\n",
       "  </thead>\n",
       "  <tbody>\n",
       "    <tr>\n",
       "      <th>0</th>\n",
       "      <td>test_coverage</td>\n",
       "      <td>0.420305</td>\n",
       "      <td>0.442308</td>\n",
       "      <td>0.432779</td>\n",
       "      <td>0.431797</td>\n",
       "    </tr>\n",
       "    <tr>\n",
       "      <th>1</th>\n",
       "      <td>test_width</td>\n",
       "      <td>1.339944</td>\n",
       "      <td>1.403794</td>\n",
       "      <td>1.434199</td>\n",
       "      <td>1.392646</td>\n",
       "    </tr>\n",
       "    <tr>\n",
       "      <th>2</th>\n",
       "      <td>test_pearsonr</td>\n",
       "      <td>0.884463</td>\n",
       "      <td>0.887664</td>\n",
       "      <td>0.882949</td>\n",
       "      <td>0.885025</td>\n",
       "    </tr>\n",
       "    <tr>\n",
       "      <th>3</th>\n",
       "      <td>test_rmse</td>\n",
       "      <td>1.329756</td>\n",
       "      <td>1.309265</td>\n",
       "      <td>1.324457</td>\n",
       "      <td>1.321159</td>\n",
       "    </tr>\n",
       "    <tr>\n",
       "      <th>4</th>\n",
       "      <td>test_cdr_weight</td>\n",
       "      <td>0.608506</td>\n",
       "      <td>0.617720</td>\n",
       "      <td>0.647405</td>\n",
       "      <td>0.624544</td>\n",
       "    </tr>\n",
       "    <tr>\n",
       "      <th>5</th>\n",
       "      <td>test_gcn_weight</td>\n",
       "      <td>0.391494</td>\n",
       "      <td>0.382280</td>\n",
       "      <td>0.352595</td>\n",
       "      <td>0.375456</td>\n",
       "    </tr>\n",
       "  </tbody>\n",
       "</table>\n",
       "</div>"
      ],
      "text/plain": [
       "         parameter  value_fold_0  value_fold_1  value_fold_2  average_values\n",
       "0    test_coverage      0.420305      0.442308      0.432779        0.431797\n",
       "1       test_width      1.339944      1.403794      1.434199        1.392646\n",
       "2    test_pearsonr      0.884463      0.887664      0.882949        0.885025\n",
       "3        test_rmse      1.329756      1.309265      1.324457        1.321159\n",
       "4  test_cdr_weight      0.608506      0.617720      0.647405        0.624544\n",
       "5  test_gcn_weight      0.391494      0.382280      0.352595        0.375456"
      ]
     },
     "execution_count": 32,
     "metadata": {},
     "output_type": "execute_result"
    }
   ],
   "source": [
    "Ablated_Stacker_results"
   ]
  }
 ],
 "metadata": {
  "kernelspec": {
   "display_name": "Python (tfp_for_TN)",
   "language": "python",
   "name": "tfp_for_tn"
  },
  "language_info": {
   "codemirror_mode": {
    "name": "ipython",
    "version": 3
   },
   "file_extension": ".py",
   "mimetype": "text/x-python",
   "name": "python",
   "nbconvert_exporter": "python",
   "pygments_lexer": "ipython3",
   "version": "3.10.14"
  }
 },
 "nbformat": 4,
 "nbformat_minor": 5
}
