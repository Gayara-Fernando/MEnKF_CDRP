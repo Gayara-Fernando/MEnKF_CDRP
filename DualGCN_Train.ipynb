{
 "cells": [
  {
   "cell_type": "code",
   "execution_count": 1,
   "id": "d79c4d60-25e3-41cb-b814-ef360e2fee9e",
   "metadata": {},
   "outputs": [
    {
     "name": "stderr",
     "output_type": "stream",
     "text": [
      "2024-07-11 16:44:31.847669: I tensorflow/core/util/port.cc:113] oneDNN custom operations are on. You may see slightly different numerical results due to floating-point round-off errors from different computation orders. To turn them off, set the environment variable `TF_ENABLE_ONEDNN_OPTS=0`.\n",
      "2024-07-11 16:44:32.109097: E external/local_xla/xla/stream_executor/cuda/cuda_dnn.cc:9261] Unable to register cuDNN factory: Attempting to register factory for plugin cuDNN when one has already been registered\n",
      "2024-07-11 16:44:32.109154: E external/local_xla/xla/stream_executor/cuda/cuda_fft.cc:607] Unable to register cuFFT factory: Attempting to register factory for plugin cuFFT when one has already been registered\n",
      "2024-07-11 16:44:32.161690: E external/local_xla/xla/stream_executor/cuda/cuda_blas.cc:1515] Unable to register cuBLAS factory: Attempting to register factory for plugin cuBLAS when one has already been registered\n",
      "2024-07-11 16:44:32.245878: I tensorflow/core/platform/cpu_feature_guard.cc:182] This TensorFlow binary is optimized to use available CPU instructions in performance-critical operations.\n",
      "To enable the following instructions: SSE4.1 SSE4.2 AVX AVX2 AVX512F AVX512_VNNI FMA, in other operations, rebuild TensorFlow with the appropriate compiler flags.\n"
     ]
    }
   ],
   "source": [
    "import pandas as pd\n",
    "import tensorflow as tf\n",
    "import tensorflow_probability as tfp\n",
    "from tensorflow import keras\n",
    "from tensorflow.python.keras import backend as K\n",
    "from tensorflow.python.ops import array_ops\n",
    "from tensorflow.python.ops import math_ops\n",
    "import pickle\n",
    "import numpy as np\n",
    "from sklearn.preprocessing import StandardScaler\n",
    "import scipy.sparse as sp\n",
    "import random"
   ]
  },
  {
   "cell_type": "code",
   "execution_count": 2,
   "id": "06020fb9-0d23-4866-8a4b-d13beac7044f",
   "metadata": {},
   "outputs": [],
   "source": [
    "drugs_cell_lines_ic50_df = pd.read_csv(\"..//data//drugs_cell_lines_ic50.csv\")"
   ]
  },
  {
   "cell_type": "code",
   "execution_count": 3,
   "id": "b8b8dce7-0571-4590-828f-402a2de707a1",
   "metadata": {},
   "outputs": [
    {
     "data": {
      "text/plain": [
       "(208734, 3)"
      ]
     },
     "execution_count": 3,
     "metadata": {},
     "output_type": "execute_result"
    }
   ],
   "source": [
    "drugs_cell_lines_ic50_df.shape"
   ]
  },
  {
   "cell_type": "code",
   "execution_count": 4,
   "id": "ef3c56b4-0691-4fb7-8d8d-e4637957e91a",
   "metadata": {},
   "outputs": [
    {
     "data": {
      "text/html": [
       "<div>\n",
       "<style scoped>\n",
       "    .dataframe tbody tr th:only-of-type {\n",
       "        vertical-align: middle;\n",
       "    }\n",
       "\n",
       "    .dataframe tbody tr th {\n",
       "        vertical-align: top;\n",
       "    }\n",
       "\n",
       "    .dataframe thead th {\n",
       "        text-align: right;\n",
       "    }\n",
       "</style>\n",
       "<table border=\"1\" class=\"dataframe\">\n",
       "  <thead>\n",
       "    <tr style=\"text-align: right;\">\n",
       "      <th></th>\n",
       "      <th>drug_id</th>\n",
       "      <th>Cancer_Cell_Line</th>\n",
       "      <th>IC50</th>\n",
       "    </tr>\n",
       "  </thead>\n",
       "  <tbody>\n",
       "    <tr>\n",
       "      <th>0</th>\n",
       "      <td>1001</td>\n",
       "      <td>ACH-002137</td>\n",
       "      <td>7.258918</td>\n",
       "    </tr>\n",
       "    <tr>\n",
       "      <th>1</th>\n",
       "      <td>1004</td>\n",
       "      <td>ACH-002137</td>\n",
       "      <td>-3.802467</td>\n",
       "    </tr>\n",
       "    <tr>\n",
       "      <th>2</th>\n",
       "      <td>1005</td>\n",
       "      <td>ACH-002137</td>\n",
       "      <td>4.146364</td>\n",
       "    </tr>\n",
       "    <tr>\n",
       "      <th>3</th>\n",
       "      <td>1006</td>\n",
       "      <td>ACH-002137</td>\n",
       "      <td>3.171367</td>\n",
       "    </tr>\n",
       "    <tr>\n",
       "      <th>4</th>\n",
       "      <td>1007</td>\n",
       "      <td>ACH-002137</td>\n",
       "      <td>-4.959442</td>\n",
       "    </tr>\n",
       "  </tbody>\n",
       "</table>\n",
       "</div>"
      ],
      "text/plain": [
       "   drug_id Cancer_Cell_Line      IC50\n",
       "0     1001       ACH-002137  7.258918\n",
       "1     1004       ACH-002137 -3.802467\n",
       "2     1005       ACH-002137  4.146364\n",
       "3     1006       ACH-002137  3.171367\n",
       "4     1007       ACH-002137 -4.959442"
      ]
     },
     "execution_count": 4,
     "metadata": {},
     "output_type": "execute_result"
    }
   ],
   "source": [
    "drugs_cell_lines_ic50_df.head()"
   ]
  },
  {
   "cell_type": "code",
   "execution_count": 5,
   "id": "1660298b-b5ce-4cff-bd71-86f7dc9222f5",
   "metadata": {},
   "outputs": [],
   "source": [
    "pubchem_drugs_smiles_df = pd.read_csv('..//data//drugs_smile_strings.csv')"
   ]
  },
  {
   "cell_type": "code",
   "execution_count": 6,
   "id": "58feccba-d7f5-4839-b44d-7c5bb7557ddd",
   "metadata": {},
   "outputs": [
    {
     "data": {
      "text/html": [
       "<div>\n",
       "<style scoped>\n",
       "    .dataframe tbody tr th:only-of-type {\n",
       "        vertical-align: middle;\n",
       "    }\n",
       "\n",
       "    .dataframe tbody tr th {\n",
       "        vertical-align: top;\n",
       "    }\n",
       "\n",
       "    .dataframe thead th {\n",
       "        text-align: right;\n",
       "    }\n",
       "</style>\n",
       "<table border=\"1\" class=\"dataframe\">\n",
       "  <thead>\n",
       "    <tr style=\"text-align: right;\">\n",
       "      <th></th>\n",
       "      <th>drug_id</th>\n",
       "      <th>Smiles</th>\n",
       "    </tr>\n",
       "  </thead>\n",
       "  <tbody>\n",
       "    <tr>\n",
       "      <th>0</th>\n",
       "      <td>1242</td>\n",
       "      <td>COc1cc(O)c2c(c1)C=CCC(O)C(O)C(=O)C=CCC(C)OC2=O</td>\n",
       "    </tr>\n",
       "    <tr>\n",
       "      <th>1</th>\n",
       "      <td>179</td>\n",
       "      <td>O=c1[nH]cc(F)c(=O)[nH]1</td>\n",
       "    </tr>\n",
       "    <tr>\n",
       "      <th>2</th>\n",
       "      <td>86</td>\n",
       "      <td>Cc1[nH]nc2ccc(-c3cncc(OCC(N)Cc4c[nH]c5ccccc45)...</td>\n",
       "    </tr>\n",
       "    <tr>\n",
       "      <th>3</th>\n",
       "      <td>55</td>\n",
       "      <td>COc1cc(-c2nn(C3CCC(N4CCN(C(C)=O)CC4)CC3)c3ncnc...</td>\n",
       "    </tr>\n",
       "    <tr>\n",
       "      <th>4</th>\n",
       "      <td>1001</td>\n",
       "      <td>NC(=O)c1ncn(C2OC(COP(=O)(O)O)C(O)C2O)c1N</td>\n",
       "    </tr>\n",
       "  </tbody>\n",
       "</table>\n",
       "</div>"
      ],
      "text/plain": [
       "   drug_id                                             Smiles\n",
       "0     1242     COc1cc(O)c2c(c1)C=CCC(O)C(O)C(=O)C=CCC(C)OC2=O\n",
       "1      179                            O=c1[nH]cc(F)c(=O)[nH]1\n",
       "2       86  Cc1[nH]nc2ccc(-c3cncc(OCC(N)Cc4c[nH]c5ccccc45)...\n",
       "3       55  COc1cc(-c2nn(C3CCC(N4CCN(C(C)=O)CC4)CC3)c3ncnc...\n",
       "4     1001           NC(=O)c1ncn(C2OC(COP(=O)(O)O)C(O)C2O)c1N"
      ]
     },
     "execution_count": 6,
     "metadata": {},
     "output_type": "execute_result"
    }
   ],
   "source": [
    "pubchem_drugs_smiles_df.head()"
   ]
  },
  {
   "cell_type": "code",
   "execution_count": 7,
   "id": "8edf0794-8afe-4f57-b67a-7ceeb570b169",
   "metadata": {},
   "outputs": [
    {
     "data": {
      "text/plain": [
       "(238, 2)"
      ]
     },
     "execution_count": 7,
     "metadata": {},
     "output_type": "execute_result"
    }
   ],
   "source": [
    "pubchem_drugs_smiles_df.shape"
   ]
  },
  {
   "cell_type": "code",
   "execution_count": 8,
   "id": "d3b2a897-77be-420b-bd26-ab84d56a2ff3",
   "metadata": {},
   "outputs": [],
   "source": [
    "drugs_smiles_cell_lines_ic50_df = pd.merge(drugs_cell_lines_ic50_df, pubchem_drugs_smiles_df, \n",
    "                                             on = \"drug_id\")"
   ]
  },
  {
   "cell_type": "code",
   "execution_count": 9,
   "id": "c9c0eda5-75c5-45e4-b48b-7f90b38da4d8",
   "metadata": {},
   "outputs": [],
   "source": [
    "drugs_smiles_cell_lines_ic50_df = drugs_smiles_cell_lines_ic50_df[[\"drug_id\", \"Cancer_Cell_Line\", \"Smiles\", \"IC50\"]]"
   ]
  },
  {
   "cell_type": "code",
   "execution_count": 10,
   "id": "4255a229-bb41-4ffe-abef-e6d466e1c00b",
   "metadata": {},
   "outputs": [
    {
     "data": {
      "text/plain": [
       "drug_id               int64\n",
       "Cancer_Cell_Line     object\n",
       "Smiles               object\n",
       "IC50                float64\n",
       "dtype: object"
      ]
     },
     "execution_count": 10,
     "metadata": {},
     "output_type": "execute_result"
    }
   ],
   "source": [
    "drugs_smiles_cell_lines_ic50_df.dtypes"
   ]
  },
  {
   "cell_type": "code",
   "execution_count": 11,
   "id": "b8f12d16-3e37-4c9a-aabb-51e6ceb99a00",
   "metadata": {},
   "outputs": [],
   "source": [
    "drugs_smiles_cell_lines_ic50_df[\"drug_id\"] = drugs_smiles_cell_lines_ic50_df[\"drug_id\"].astype(object)"
   ]
  },
  {
   "cell_type": "code",
   "execution_count": 12,
   "id": "1318885c-6fc2-4ee6-a74d-0a8337307777",
   "metadata": {},
   "outputs": [],
   "source": [
    "with open(\"..//data//drug_gcn_features.pickle\", \"rb\") as f:\n",
    "    dict_features = pickle.load(f)"
   ]
  },
  {
   "cell_type": "code",
   "execution_count": 13,
   "id": "46e0e644-213c-4bc6-8dde-78b3bd5638bb",
   "metadata": {},
   "outputs": [],
   "source": [
    "with open(\"..//data//drug_gcn_normalized_adj_mats.pickle\", \"rb\") as f:\n",
    "    dict_normalized_adj_mats = pickle.load(f)"
   ]
  },
  {
   "cell_type": "code",
   "execution_count": 14,
   "id": "bfadc255-519f-4d0f-83c5-49277a277209",
   "metadata": {},
   "outputs": [],
   "source": [
    "dualgcn_train = pd.read_csv(\"..//data//DualGCN_Embedding_train.csv\")"
   ]
  },
  {
   "cell_type": "code",
   "execution_count": 15,
   "id": "7e62a800-6f13-4a2f-965d-62d34061612d",
   "metadata": {},
   "outputs": [],
   "source": [
    "dualgcn_test = pd.read_csv(\"..//data//DualGCN_Embedding_test.csv\")"
   ]
  },
  {
   "cell_type": "code",
   "execution_count": 16,
   "id": "5bd3f846-d0c4-4c92-b2af-1836b2cdf13b",
   "metadata": {},
   "outputs": [],
   "source": [
    "pubchem_to_drugs_df = pd.read_csv('..//data//1.Drug_listMon Jun 24 09_00_55 2019.csv')"
   ]
  },
  {
   "cell_type": "code",
   "execution_count": 17,
   "id": "2a664d12-9cd8-4aa0-bc4a-d3c3fc83b389",
   "metadata": {},
   "outputs": [
    {
     "data": {
      "text/html": [
       "<div>\n",
       "<style scoped>\n",
       "    .dataframe tbody tr th:only-of-type {\n",
       "        vertical-align: middle;\n",
       "    }\n",
       "\n",
       "    .dataframe tbody tr th {\n",
       "        vertical-align: top;\n",
       "    }\n",
       "\n",
       "    .dataframe thead th {\n",
       "        text-align: right;\n",
       "    }\n",
       "</style>\n",
       "<table border=\"1\" class=\"dataframe\">\n",
       "  <thead>\n",
       "    <tr style=\"text-align: right;\">\n",
       "      <th></th>\n",
       "      <th>drug_id</th>\n",
       "      <th>Name</th>\n",
       "      <th>Synonyms</th>\n",
       "      <th>Targets</th>\n",
       "      <th>Target pathway</th>\n",
       "      <th>PubCHEM</th>\n",
       "      <th>Sample Size</th>\n",
       "      <th>Count</th>\n",
       "    </tr>\n",
       "  </thead>\n",
       "  <tbody>\n",
       "    <tr>\n",
       "      <th>0</th>\n",
       "      <td>1242</td>\n",
       "      <td>(5Z)-7-Oxozeaenol</td>\n",
       "      <td>5Z-7-Oxozeaenol, LL-Z1640-2</td>\n",
       "      <td>TAK1</td>\n",
       "      <td>Other, kinases</td>\n",
       "      <td>9863776</td>\n",
       "      <td>945</td>\n",
       "      <td>266</td>\n",
       "    </tr>\n",
       "    <tr>\n",
       "      <th>1</th>\n",
       "      <td>179</td>\n",
       "      <td>5-Fluorouracil</td>\n",
       "      <td>5-FU</td>\n",
       "      <td>Antimetabolite (DNA &amp; RNA)</td>\n",
       "      <td>Other</td>\n",
       "      <td>3385</td>\n",
       "      <td>968</td>\n",
       "      <td>266</td>\n",
       "    </tr>\n",
       "    <tr>\n",
       "      <th>2</th>\n",
       "      <td>86</td>\n",
       "      <td>A-443654</td>\n",
       "      <td>KIN001-139</td>\n",
       "      <td>AKT1, AKT2, AKT3</td>\n",
       "      <td>PI3K/MTOR signaling</td>\n",
       "      <td>10172943</td>\n",
       "      <td>425</td>\n",
       "      <td>266</td>\n",
       "    </tr>\n",
       "    <tr>\n",
       "      <th>3</th>\n",
       "      <td>55</td>\n",
       "      <td>A-770041</td>\n",
       "      <td>KIN001-111</td>\n",
       "      <td>LCK, FYN</td>\n",
       "      <td>Other, kinases</td>\n",
       "      <td>9549184</td>\n",
       "      <td>426</td>\n",
       "      <td>266</td>\n",
       "    </tr>\n",
       "    <tr>\n",
       "      <th>4</th>\n",
       "      <td>1001</td>\n",
       "      <td>AICA Ribonucleotide</td>\n",
       "      <td>AICAR, N1-(b-D-Ribofuranosyl)-5-aminoimidazole...</td>\n",
       "      <td>AMPK agonist</td>\n",
       "      <td>Metabolism</td>\n",
       "      <td>65110</td>\n",
       "      <td>872</td>\n",
       "      <td>266</td>\n",
       "    </tr>\n",
       "  </tbody>\n",
       "</table>\n",
       "</div>"
      ],
      "text/plain": [
       "   drug_id                 Name  \\\n",
       "0     1242    (5Z)-7-Oxozeaenol   \n",
       "1      179       5-Fluorouracil   \n",
       "2       86             A-443654   \n",
       "3       55             A-770041   \n",
       "4     1001  AICA Ribonucleotide   \n",
       "\n",
       "                                            Synonyms  \\\n",
       "0                        5Z-7-Oxozeaenol, LL-Z1640-2   \n",
       "1                                               5-FU   \n",
       "2                                         KIN001-139   \n",
       "3                                         KIN001-111   \n",
       "4  AICAR, N1-(b-D-Ribofuranosyl)-5-aminoimidazole...   \n",
       "\n",
       "                      Targets       Target pathway   PubCHEM  Sample Size  \\\n",
       "0                        TAK1       Other, kinases   9863776          945   \n",
       "1  Antimetabolite (DNA & RNA)                Other      3385          968   \n",
       "2            AKT1, AKT2, AKT3  PI3K/MTOR signaling  10172943          425   \n",
       "3                    LCK, FYN       Other, kinases   9549184          426   \n",
       "4                AMPK agonist           Metabolism     65110          872   \n",
       "\n",
       "   Count  \n",
       "0    266  \n",
       "1    266  \n",
       "2    266  \n",
       "3    266  \n",
       "4    266  "
      ]
     },
     "execution_count": 17,
     "metadata": {},
     "output_type": "execute_result"
    }
   ],
   "source": [
    "pubchem_to_drugs_df.head()"
   ]
  },
  {
   "cell_type": "code",
   "execution_count": 18,
   "id": "ca5dbe93-a147-495e-975a-1f707c59d761",
   "metadata": {},
   "outputs": [
    {
     "data": {
      "text/plain": [
       "(266, 8)"
      ]
     },
     "execution_count": 18,
     "metadata": {},
     "output_type": "execute_result"
    }
   ],
   "source": [
    "pubchem_to_drugs_df.shape"
   ]
  },
  {
   "cell_type": "code",
   "execution_count": 19,
   "id": "4c1cabed-895b-4a33-9478-9c414246d9d6",
   "metadata": {},
   "outputs": [],
   "source": [
    "pubchem_to_drugs_df = pubchem_to_drugs_df[[\"drug_id\", \"PubCHEM\"]]"
   ]
  },
  {
   "cell_type": "code",
   "execution_count": 20,
   "id": "06050248-be5d-4413-a9f6-afba9c6dc1da",
   "metadata": {},
   "outputs": [
    {
     "data": {
      "text/plain": [
       "drug_id     int64\n",
       "PubCHEM    object\n",
       "dtype: object"
      ]
     },
     "execution_count": 20,
     "metadata": {},
     "output_type": "execute_result"
    }
   ],
   "source": [
    "pubchem_to_drugs_df.dtypes"
   ]
  },
  {
   "cell_type": "code",
   "execution_count": 21,
   "id": "226a6b4e-ddb7-4f0a-8e24-25fe64de8992",
   "metadata": {},
   "outputs": [],
   "source": [
    "pubchem_to_drugs_df[\"PubCHEM\"] = [val if str(val).isdigit() else np.nan for val in pubchem_to_drugs_df[\"PubCHEM\"] ]"
   ]
  },
  {
   "cell_type": "code",
   "execution_count": 22,
   "id": "49920b0c-24e4-4900-b65c-238b7918cb9f",
   "metadata": {},
   "outputs": [],
   "source": [
    "pubchem_to_drugs_df = pubchem_to_drugs_df.dropna()"
   ]
  },
  {
   "cell_type": "code",
   "execution_count": 23,
   "id": "7691b28b-0ae2-4ed4-8e16-54ff384b9dee",
   "metadata": {},
   "outputs": [
    {
     "data": {
      "text/plain": [
       "drug_id     int64\n",
       "PubCHEM    object\n",
       "dtype: object"
      ]
     },
     "execution_count": 23,
     "metadata": {},
     "output_type": "execute_result"
    }
   ],
   "source": [
    "pubchem_to_drugs_df.dtypes"
   ]
  },
  {
   "cell_type": "code",
   "execution_count": 24,
   "id": "04886577-e090-4d36-b7d6-8817df5747f5",
   "metadata": {},
   "outputs": [
    {
     "data": {
      "text/plain": [
       "(238, 2)"
      ]
     },
     "execution_count": 24,
     "metadata": {},
     "output_type": "execute_result"
    }
   ],
   "source": [
    "pubchem_to_drugs_df.shape"
   ]
  },
  {
   "cell_type": "code",
   "execution_count": 25,
   "id": "6462ade0-cd2d-491d-be8a-aa0e7ddd3863",
   "metadata": {},
   "outputs": [],
   "source": [
    "pubchem_to_drugs_df[\"drug_id\"] = pubchem_to_drugs_df[\"drug_id\"].astype(str)"
   ]
  },
  {
   "cell_type": "code",
   "execution_count": 26,
   "id": "11f133e4-70a2-4fae-8066-2d1d77de5fe8",
   "metadata": {},
   "outputs": [],
   "source": [
    "from sklearn.model_selection import train_test_split"
   ]
  },
  {
   "cell_type": "code",
   "execution_count": 27,
   "id": "3286fd91-f6df-49fc-8d72-5e493f31d0ae",
   "metadata": {},
   "outputs": [],
   "source": [
    "x_train, x_valid, y_train, y_valid = train_test_split(drugs_smiles_cell_lines_ic50_df.drop([\"IC50\"], axis = 1), drugs_smiles_cell_lines_ic50_df[\"IC50\"].values, \n",
    "                                                     test_size = 0.20, random_state = 42)"
   ]
  },
  {
   "cell_type": "code",
   "execution_count": 28,
   "id": "1b1ddb77-6e32-4225-96ba-cce23480ab1b",
   "metadata": {},
   "outputs": [],
   "source": [
    "dualgcn_train[\"Drug_ID\"] = dualgcn_train[\"Drug_ID\"].astype(str)"
   ]
  },
  {
   "cell_type": "code",
   "execution_count": 29,
   "id": "5d534def-d5c7-4b2c-a3ee-f4c5c43650c2",
   "metadata": {},
   "outputs": [],
   "source": [
    "dualgcn_test[\"Drug_ID\"] = dualgcn_test[\"Drug_ID\"].astype(str)"
   ]
  },
  {
   "cell_type": "code",
   "execution_count": 30,
   "id": "5a7161ee-e146-4c38-a8b8-66369327384f",
   "metadata": {},
   "outputs": [
    {
     "data": {
      "text/plain": [
       "drug_id    object\n",
       "PubCHEM    object\n",
       "dtype: object"
      ]
     },
     "execution_count": 30,
     "metadata": {},
     "output_type": "execute_result"
    }
   ],
   "source": [
    "pubchem_to_drugs_df.dtypes"
   ]
  },
  {
   "cell_type": "code",
   "execution_count": 31,
   "id": "26536155-5c48-4960-bff8-21c5ec06bab2",
   "metadata": {},
   "outputs": [],
   "source": [
    "dualgcn_train = pubchem_to_drugs_df.merge(dualgcn_train, left_on = [\"PubCHEM\"], right_on = [\"Drug_ID\"])"
   ]
  },
  {
   "cell_type": "code",
   "execution_count": 32,
   "id": "2bc82e0e-8eff-4ca1-bf75-b7a7a9b129e0",
   "metadata": {},
   "outputs": [],
   "source": [
    "dualgcn_train = dualgcn_train[['Cell_Line', 'drug_id']]"
   ]
  },
  {
   "cell_type": "code",
   "execution_count": 33,
   "id": "5c9068ea-7d0f-4b6c-a5d1-22bb234940d8",
   "metadata": {},
   "outputs": [
    {
     "data": {
      "text/html": [
       "<div>\n",
       "<style scoped>\n",
       "    .dataframe tbody tr th:only-of-type {\n",
       "        vertical-align: middle;\n",
       "    }\n",
       "\n",
       "    .dataframe tbody tr th {\n",
       "        vertical-align: top;\n",
       "    }\n",
       "\n",
       "    .dataframe thead th {\n",
       "        text-align: right;\n",
       "    }\n",
       "</style>\n",
       "<table border=\"1\" class=\"dataframe\">\n",
       "  <thead>\n",
       "    <tr style=\"text-align: right;\">\n",
       "      <th></th>\n",
       "      <th>Cell_Line</th>\n",
       "      <th>drug_id</th>\n",
       "    </tr>\n",
       "  </thead>\n",
       "  <tbody>\n",
       "    <tr>\n",
       "      <th>0</th>\n",
       "      <td>ACH-000070</td>\n",
       "      <td>1242</td>\n",
       "    </tr>\n",
       "    <tr>\n",
       "      <th>1</th>\n",
       "      <td>ACH-000105</td>\n",
       "      <td>1242</td>\n",
       "    </tr>\n",
       "    <tr>\n",
       "      <th>2</th>\n",
       "      <td>ACH-000981</td>\n",
       "      <td>1242</td>\n",
       "    </tr>\n",
       "    <tr>\n",
       "      <th>3</th>\n",
       "      <td>ACH-000061</td>\n",
       "      <td>1242</td>\n",
       "    </tr>\n",
       "    <tr>\n",
       "      <th>4</th>\n",
       "      <td>ACH-000995</td>\n",
       "      <td>1242</td>\n",
       "    </tr>\n",
       "  </tbody>\n",
       "</table>\n",
       "</div>"
      ],
      "text/plain": [
       "    Cell_Line drug_id\n",
       "0  ACH-000070    1242\n",
       "1  ACH-000105    1242\n",
       "2  ACH-000981    1242\n",
       "3  ACH-000061    1242\n",
       "4  ACH-000995    1242"
      ]
     },
     "execution_count": 33,
     "metadata": {},
     "output_type": "execute_result"
    }
   ],
   "source": [
    "dualgcn_train.head()"
   ]
  },
  {
   "cell_type": "code",
   "execution_count": 34,
   "id": "eae9ef05-6e1c-4aaa-bf6b-940d92f46ffb",
   "metadata": {},
   "outputs": [],
   "source": [
    "dualgcn_test = pubchem_to_drugs_df.merge(dualgcn_test, left_on = [\"PubCHEM\"], right_on = [\"Drug_ID\"])"
   ]
  },
  {
   "cell_type": "code",
   "execution_count": 35,
   "id": "a929310d-1ee0-45bc-8486-3571f39b6af3",
   "metadata": {},
   "outputs": [
    {
     "data": {
      "text/html": [
       "<div>\n",
       "<style scoped>\n",
       "    .dataframe tbody tr th:only-of-type {\n",
       "        vertical-align: middle;\n",
       "    }\n",
       "\n",
       "    .dataframe tbody tr th {\n",
       "        vertical-align: top;\n",
       "    }\n",
       "\n",
       "    .dataframe thead th {\n",
       "        text-align: right;\n",
       "    }\n",
       "</style>\n",
       "<table border=\"1\" class=\"dataframe\">\n",
       "  <thead>\n",
       "    <tr style=\"text-align: right;\">\n",
       "      <th></th>\n",
       "      <th>drug_id</th>\n",
       "      <th>PubCHEM</th>\n",
       "      <th>Cell_Line</th>\n",
       "      <th>Drug_ID</th>\n",
       "      <th>Target</th>\n",
       "      <th>TCGA_Type</th>\n",
       "      <th>DrugEmbedding_Dim0</th>\n",
       "      <th>DrugEmbedding_Dim1</th>\n",
       "      <th>DrugEmbedding_Dim2</th>\n",
       "      <th>DrugEmbedding_Dim3</th>\n",
       "      <th>...</th>\n",
       "      <th>CellEmbedding_Dim246</th>\n",
       "      <th>CellEmbedding_Dim247</th>\n",
       "      <th>CellEmbedding_Dim248</th>\n",
       "      <th>CellEmbedding_Dim249</th>\n",
       "      <th>CellEmbedding_Dim250</th>\n",
       "      <th>CellEmbedding_Dim251</th>\n",
       "      <th>CellEmbedding_Dim252</th>\n",
       "      <th>CellEmbedding_Dim253</th>\n",
       "      <th>CellEmbedding_Dim254</th>\n",
       "      <th>CellEmbedding_Dim255</th>\n",
       "    </tr>\n",
       "  </thead>\n",
       "  <tbody>\n",
       "    <tr>\n",
       "      <th>0</th>\n",
       "      <td>1242</td>\n",
       "      <td>9863776</td>\n",
       "      <td>ACH-000020</td>\n",
       "      <td>9863776</td>\n",
       "      <td>1.658465</td>\n",
       "      <td>ALL</td>\n",
       "      <td>-0.112977</td>\n",
       "      <td>-0.34584</td>\n",
       "      <td>0.000926</td>\n",
       "      <td>-0.024855</td>\n",
       "      <td>...</td>\n",
       "      <td>-0.176026</td>\n",
       "      <td>0.054300</td>\n",
       "      <td>-0.560812</td>\n",
       "      <td>-0.504415</td>\n",
       "      <td>-0.207140</td>\n",
       "      <td>-0.064926</td>\n",
       "      <td>-0.206338</td>\n",
       "      <td>-0.088848</td>\n",
       "      <td>-0.184410</td>\n",
       "      <td>-0.059895</td>\n",
       "    </tr>\n",
       "    <tr>\n",
       "      <th>1</th>\n",
       "      <td>1242</td>\n",
       "      <td>9863776</td>\n",
       "      <td>ACH-000142</td>\n",
       "      <td>9863776</td>\n",
       "      <td>-0.321683</td>\n",
       "      <td>BLCA</td>\n",
       "      <td>-0.112977</td>\n",
       "      <td>-0.34584</td>\n",
       "      <td>0.000926</td>\n",
       "      <td>-0.024855</td>\n",
       "      <td>...</td>\n",
       "      <td>-0.129487</td>\n",
       "      <td>0.054300</td>\n",
       "      <td>2.323304</td>\n",
       "      <td>0.499483</td>\n",
       "      <td>-0.207140</td>\n",
       "      <td>-0.064926</td>\n",
       "      <td>-0.206338</td>\n",
       "      <td>-0.088848</td>\n",
       "      <td>-0.184410</td>\n",
       "      <td>-0.025697</td>\n",
       "    </tr>\n",
       "    <tr>\n",
       "      <th>2</th>\n",
       "      <td>1242</td>\n",
       "      <td>9863776</td>\n",
       "      <td>ACH-000547</td>\n",
       "      <td>9863776</td>\n",
       "      <td>0.950017</td>\n",
       "      <td>BLCA</td>\n",
       "      <td>-0.112977</td>\n",
       "      <td>-0.34584</td>\n",
       "      <td>0.000926</td>\n",
       "      <td>-0.024855</td>\n",
       "      <td>...</td>\n",
       "      <td>0.242312</td>\n",
       "      <td>0.057235</td>\n",
       "      <td>1.133223</td>\n",
       "      <td>0.433553</td>\n",
       "      <td>-0.203844</td>\n",
       "      <td>-0.062081</td>\n",
       "      <td>-0.203995</td>\n",
       "      <td>-0.085297</td>\n",
       "      <td>-0.181583</td>\n",
       "      <td>-0.032253</td>\n",
       "    </tr>\n",
       "    <tr>\n",
       "      <th>3</th>\n",
       "      <td>1242</td>\n",
       "      <td>9863776</td>\n",
       "      <td>ACH-000242</td>\n",
       "      <td>9863776</td>\n",
       "      <td>1.190755</td>\n",
       "      <td>BLCA</td>\n",
       "      <td>-0.112977</td>\n",
       "      <td>-0.34584</td>\n",
       "      <td>0.000926</td>\n",
       "      <td>-0.024855</td>\n",
       "      <td>...</td>\n",
       "      <td>-0.175997</td>\n",
       "      <td>0.054300</td>\n",
       "      <td>2.544746</td>\n",
       "      <td>0.372183</td>\n",
       "      <td>-0.207140</td>\n",
       "      <td>-0.064926</td>\n",
       "      <td>-0.206338</td>\n",
       "      <td>-0.088848</td>\n",
       "      <td>-0.184410</td>\n",
       "      <td>0.017300</td>\n",
       "    </tr>\n",
       "    <tr>\n",
       "      <th>4</th>\n",
       "      <td>1242</td>\n",
       "      <td>9863776</td>\n",
       "      <td>ACH-000018</td>\n",
       "      <td>9863776</td>\n",
       "      <td>0.408545</td>\n",
       "      <td>BLCA</td>\n",
       "      <td>-0.112977</td>\n",
       "      <td>-0.34584</td>\n",
       "      <td>0.000926</td>\n",
       "      <td>-0.024855</td>\n",
       "      <td>...</td>\n",
       "      <td>-0.176026</td>\n",
       "      <td>0.054300</td>\n",
       "      <td>0.922048</td>\n",
       "      <td>-0.504415</td>\n",
       "      <td>-0.207140</td>\n",
       "      <td>-0.064926</td>\n",
       "      <td>-0.206338</td>\n",
       "      <td>-0.088848</td>\n",
       "      <td>-0.184410</td>\n",
       "      <td>-0.059895</td>\n",
       "    </tr>\n",
       "  </tbody>\n",
       "</table>\n",
       "<p>5 rows × 390 columns</p>\n",
       "</div>"
      ],
      "text/plain": [
       "  drug_id  PubCHEM   Cell_Line  Drug_ID    Target TCGA_Type  \\\n",
       "0    1242  9863776  ACH-000020  9863776  1.658465       ALL   \n",
       "1    1242  9863776  ACH-000142  9863776 -0.321683      BLCA   \n",
       "2    1242  9863776  ACH-000547  9863776  0.950017      BLCA   \n",
       "3    1242  9863776  ACH-000242  9863776  1.190755      BLCA   \n",
       "4    1242  9863776  ACH-000018  9863776  0.408545      BLCA   \n",
       "\n",
       "   DrugEmbedding_Dim0  DrugEmbedding_Dim1  DrugEmbedding_Dim2  \\\n",
       "0           -0.112977            -0.34584            0.000926   \n",
       "1           -0.112977            -0.34584            0.000926   \n",
       "2           -0.112977            -0.34584            0.000926   \n",
       "3           -0.112977            -0.34584            0.000926   \n",
       "4           -0.112977            -0.34584            0.000926   \n",
       "\n",
       "   DrugEmbedding_Dim3  ...  CellEmbedding_Dim246  CellEmbedding_Dim247  \\\n",
       "0           -0.024855  ...             -0.176026              0.054300   \n",
       "1           -0.024855  ...             -0.129487              0.054300   \n",
       "2           -0.024855  ...              0.242312              0.057235   \n",
       "3           -0.024855  ...             -0.175997              0.054300   \n",
       "4           -0.024855  ...             -0.176026              0.054300   \n",
       "\n",
       "   CellEmbedding_Dim248  CellEmbedding_Dim249  CellEmbedding_Dim250  \\\n",
       "0             -0.560812             -0.504415             -0.207140   \n",
       "1              2.323304              0.499483             -0.207140   \n",
       "2              1.133223              0.433553             -0.203844   \n",
       "3              2.544746              0.372183             -0.207140   \n",
       "4              0.922048             -0.504415             -0.207140   \n",
       "\n",
       "   CellEmbedding_Dim251  CellEmbedding_Dim252  CellEmbedding_Dim253  \\\n",
       "0             -0.064926             -0.206338             -0.088848   \n",
       "1             -0.064926             -0.206338             -0.088848   \n",
       "2             -0.062081             -0.203995             -0.085297   \n",
       "3             -0.064926             -0.206338             -0.088848   \n",
       "4             -0.064926             -0.206338             -0.088848   \n",
       "\n",
       "   CellEmbedding_Dim254  CellEmbedding_Dim255  \n",
       "0             -0.184410             -0.059895  \n",
       "1             -0.184410             -0.025697  \n",
       "2             -0.181583             -0.032253  \n",
       "3             -0.184410              0.017300  \n",
       "4             -0.184410             -0.059895  \n",
       "\n",
       "[5 rows x 390 columns]"
      ]
     },
     "execution_count": 35,
     "metadata": {},
     "output_type": "execute_result"
    }
   ],
   "source": [
    "dualgcn_test.head()"
   ]
  },
  {
   "cell_type": "code",
   "execution_count": 36,
   "id": "f30684d3-1a27-4d66-8fc4-f84310a30d70",
   "metadata": {},
   "outputs": [],
   "source": [
    "dualgcn_test = dualgcn_test[['Cell_Line', 'drug_id']]"
   ]
  },
  {
   "cell_type": "code",
   "execution_count": 37,
   "id": "4402d433-aefc-436a-aee5-b63a41c341aa",
   "metadata": {},
   "outputs": [
    {
     "data": {
      "text/html": [
       "<div>\n",
       "<style scoped>\n",
       "    .dataframe tbody tr th:only-of-type {\n",
       "        vertical-align: middle;\n",
       "    }\n",
       "\n",
       "    .dataframe tbody tr th {\n",
       "        vertical-align: top;\n",
       "    }\n",
       "\n",
       "    .dataframe thead th {\n",
       "        text-align: right;\n",
       "    }\n",
       "</style>\n",
       "<table border=\"1\" class=\"dataframe\">\n",
       "  <thead>\n",
       "    <tr style=\"text-align: right;\">\n",
       "      <th></th>\n",
       "      <th>Cell_Line</th>\n",
       "      <th>drug_id</th>\n",
       "    </tr>\n",
       "  </thead>\n",
       "  <tbody>\n",
       "    <tr>\n",
       "      <th>0</th>\n",
       "      <td>ACH-000020</td>\n",
       "      <td>1242</td>\n",
       "    </tr>\n",
       "    <tr>\n",
       "      <th>1</th>\n",
       "      <td>ACH-000142</td>\n",
       "      <td>1242</td>\n",
       "    </tr>\n",
       "    <tr>\n",
       "      <th>2</th>\n",
       "      <td>ACH-000547</td>\n",
       "      <td>1242</td>\n",
       "    </tr>\n",
       "    <tr>\n",
       "      <th>3</th>\n",
       "      <td>ACH-000242</td>\n",
       "      <td>1242</td>\n",
       "    </tr>\n",
       "    <tr>\n",
       "      <th>4</th>\n",
       "      <td>ACH-000018</td>\n",
       "      <td>1242</td>\n",
       "    </tr>\n",
       "  </tbody>\n",
       "</table>\n",
       "</div>"
      ],
      "text/plain": [
       "    Cell_Line drug_id\n",
       "0  ACH-000020    1242\n",
       "1  ACH-000142    1242\n",
       "2  ACH-000547    1242\n",
       "3  ACH-000242    1242\n",
       "4  ACH-000018    1242"
      ]
     },
     "execution_count": 37,
     "metadata": {},
     "output_type": "execute_result"
    }
   ],
   "source": [
    "dualgcn_test.head()"
   ]
  },
  {
   "cell_type": "code",
   "execution_count": 38,
   "id": "f0542289-770e-4e4b-b664-92e4bc29cfc0",
   "metadata": {},
   "outputs": [
    {
     "data": {
      "text/plain": [
       "Cell_Line    object\n",
       "drug_id      object\n",
       "dtype: object"
      ]
     },
     "execution_count": 38,
     "metadata": {},
     "output_type": "execute_result"
    }
   ],
   "source": [
    "dualgcn_train.dtypes"
   ]
  },
  {
   "cell_type": "code",
   "execution_count": 39,
   "id": "1c63ae0c-24be-4d2e-91d5-6e2616980c51",
   "metadata": {},
   "outputs": [
    {
     "data": {
      "text/plain": [
       "drug_id             object\n",
       "Cancer_Cell_Line    object\n",
       "Smiles              object\n",
       "dtype: object"
      ]
     },
     "execution_count": 39,
     "metadata": {},
     "output_type": "execute_result"
    }
   ],
   "source": [
    "x_train.dtypes"
   ]
  },
  {
   "cell_type": "code",
   "execution_count": 40,
   "id": "76078299-ae77-4b6b-99bf-c8d04c0d8d89",
   "metadata": {},
   "outputs": [],
   "source": [
    "x_train['drug_id'] = x_train['drug_id'].astype(str)"
   ]
  },
  {
   "cell_type": "code",
   "execution_count": 41,
   "id": "5c693879-9d22-426a-973c-10f2428782e8",
   "metadata": {},
   "outputs": [],
   "source": [
    "x_valid['drug_id'] = x_valid['drug_id'].astype(str)"
   ]
  },
  {
   "cell_type": "code",
   "execution_count": 42,
   "id": "bc17185f-ea74-4d95-8e77-549522dc6d9d",
   "metadata": {},
   "outputs": [],
   "source": [
    "x_train_valid_feats = pd.concat([x_train, x_valid], ignore_index = True)"
   ]
  },
  {
   "cell_type": "code",
   "execution_count": 43,
   "id": "3dd68714-74df-4643-9b6a-554e0db5884e",
   "metadata": {},
   "outputs": [],
   "source": [
    "y_train_valid = pd.concat([pd.DataFrame(y_train.reshape(-1,1)), pd.DataFrame(y_valid.reshape(-1,1))], ignore_index = True)"
   ]
  },
  {
   "cell_type": "code",
   "execution_count": 44,
   "id": "e5bdf3b9-9644-4f7a-a2d3-825b184a4671",
   "metadata": {},
   "outputs": [],
   "source": [
    "combo_train_valid = pd.concat([x_train_valid_feats, y_train_valid], axis = 1)"
   ]
  },
  {
   "cell_type": "code",
   "execution_count": 45,
   "id": "cd487c80-f100-47d8-91b4-704bc01aa318",
   "metadata": {},
   "outputs": [
    {
     "data": {
      "text/html": [
       "<div>\n",
       "<style scoped>\n",
       "    .dataframe tbody tr th:only-of-type {\n",
       "        vertical-align: middle;\n",
       "    }\n",
       "\n",
       "    .dataframe tbody tr th {\n",
       "        vertical-align: top;\n",
       "    }\n",
       "\n",
       "    .dataframe thead th {\n",
       "        text-align: right;\n",
       "    }\n",
       "</style>\n",
       "<table border=\"1\" class=\"dataframe\">\n",
       "  <thead>\n",
       "    <tr style=\"text-align: right;\">\n",
       "      <th></th>\n",
       "      <th>drug_id</th>\n",
       "      <th>Cancer_Cell_Line</th>\n",
       "      <th>Smiles</th>\n",
       "      <th>0</th>\n",
       "    </tr>\n",
       "  </thead>\n",
       "  <tbody>\n",
       "    <tr>\n",
       "      <th>0</th>\n",
       "      <td>1030</td>\n",
       "      <td>ACH-000295</td>\n",
       "      <td>O=c1cc(-c2cccc3c2Sc2ccccc2S3)oc(N2CCOCC2)c1</td>\n",
       "      <td>3.143044</td>\n",
       "    </tr>\n",
       "    <tr>\n",
       "      <th>1</th>\n",
       "      <td>203</td>\n",
       "      <td>ACH-000292</td>\n",
       "      <td>Cc1ccc2nc(NCCN)c3ncc(C)n3c2c1</td>\n",
       "      <td>2.772620</td>\n",
       "    </tr>\n",
       "    <tr>\n",
       "      <th>2</th>\n",
       "      <td>1072</td>\n",
       "      <td>ACH-002273</td>\n",
       "      <td>NC(=O)C(CCC(F)(F)F)N(Cc1ccc(-c2ncon2)cc1F)S(=O...</td>\n",
       "      <td>3.809977</td>\n",
       "    </tr>\n",
       "    <tr>\n",
       "      <th>3</th>\n",
       "      <td>150</td>\n",
       "      <td>ACH-000631</td>\n",
       "      <td>CC(O)(CS(=O)(=O)c1ccc(F)cc1)C(=O)Nc1ccc(C#N)c(...</td>\n",
       "      <td>3.053030</td>\n",
       "    </tr>\n",
       "    <tr>\n",
       "      <th>4</th>\n",
       "      <td>282</td>\n",
       "      <td>ACH-000270</td>\n",
       "      <td>CCOc1cc2ncc(C#N)c(Nc3ccc(F)c(Cl)c3)c2cc1NC(=O)...</td>\n",
       "      <td>-0.367467</td>\n",
       "    </tr>\n",
       "  </tbody>\n",
       "</table>\n",
       "</div>"
      ],
      "text/plain": [
       "  drug_id Cancer_Cell_Line                                             Smiles  \\\n",
       "0    1030       ACH-000295        O=c1cc(-c2cccc3c2Sc2ccccc2S3)oc(N2CCOCC2)c1   \n",
       "1     203       ACH-000292                      Cc1ccc2nc(NCCN)c3ncc(C)n3c2c1   \n",
       "2    1072       ACH-002273  NC(=O)C(CCC(F)(F)F)N(Cc1ccc(-c2ncon2)cc1F)S(=O...   \n",
       "3     150       ACH-000631  CC(O)(CS(=O)(=O)c1ccc(F)cc1)C(=O)Nc1ccc(C#N)c(...   \n",
       "4     282       ACH-000270  CCOc1cc2ncc(C#N)c(Nc3ccc(F)c(Cl)c3)c2cc1NC(=O)...   \n",
       "\n",
       "          0  \n",
       "0  3.143044  \n",
       "1  2.772620  \n",
       "2  3.809977  \n",
       "3  3.053030  \n",
       "4 -0.367467  "
      ]
     },
     "execution_count": 45,
     "metadata": {},
     "output_type": "execute_result"
    }
   ],
   "source": [
    "combo_train_valid.head()"
   ]
  },
  {
   "cell_type": "code",
   "execution_count": 46,
   "id": "b9de540d-bb4c-48e1-bcbe-b07df1a2c7f7",
   "metadata": {},
   "outputs": [],
   "source": [
    "combo_train_valid.columns = ['drug_id', 'Cancer_Cell_Line', 'Smiles', 'IC50']"
   ]
  },
  {
   "cell_type": "code",
   "execution_count": 47,
   "id": "6ad83127-f200-4ea3-8405-e3ec9e599ec1",
   "metadata": {},
   "outputs": [],
   "source": [
    "# filter x_train x _valid here\n",
    "x_y_train = combo_train_valid.merge(dualgcn_train, left_on = ['Cancer_Cell_Line','drug_id'], right_on = [ 'Cell_Line','drug_id'])"
   ]
  },
  {
   "cell_type": "code",
   "execution_count": 48,
   "id": "3e687f3f-bba1-4fa6-9687-96f998938f34",
   "metadata": {},
   "outputs": [
    {
     "data": {
      "text/html": [
       "<div>\n",
       "<style scoped>\n",
       "    .dataframe tbody tr th:only-of-type {\n",
       "        vertical-align: middle;\n",
       "    }\n",
       "\n",
       "    .dataframe tbody tr th {\n",
       "        vertical-align: top;\n",
       "    }\n",
       "\n",
       "    .dataframe thead th {\n",
       "        text-align: right;\n",
       "    }\n",
       "</style>\n",
       "<table border=\"1\" class=\"dataframe\">\n",
       "  <thead>\n",
       "    <tr style=\"text-align: right;\">\n",
       "      <th></th>\n",
       "      <th>drug_id</th>\n",
       "      <th>Cancer_Cell_Line</th>\n",
       "      <th>Smiles</th>\n",
       "      <th>IC50</th>\n",
       "      <th>Cell_Line</th>\n",
       "    </tr>\n",
       "  </thead>\n",
       "  <tbody>\n",
       "    <tr>\n",
       "      <th>0</th>\n",
       "      <td>203</td>\n",
       "      <td>ACH-000292</td>\n",
       "      <td>Cc1ccc2nc(NCCN)c3ncc(C)n3c2c1</td>\n",
       "      <td>2.772620</td>\n",
       "      <td>ACH-000292</td>\n",
       "    </tr>\n",
       "    <tr>\n",
       "      <th>1</th>\n",
       "      <td>282</td>\n",
       "      <td>ACH-000270</td>\n",
       "      <td>CCOc1cc2ncc(C#N)c(Nc3ccc(F)c(Cl)c3)c2cc1NC(=O)...</td>\n",
       "      <td>-0.367467</td>\n",
       "      <td>ACH-000270</td>\n",
       "    </tr>\n",
       "    <tr>\n",
       "      <th>2</th>\n",
       "      <td>51</td>\n",
       "      <td>ACH-000087</td>\n",
       "      <td>Cc1nc(Nc2ncc(C(=O)Nc3c(C)cccc3Cl)s2)cc(N2CCN(C...</td>\n",
       "      <td>2.620152</td>\n",
       "      <td>ACH-000087</td>\n",
       "    </tr>\n",
       "    <tr>\n",
       "      <th>3</th>\n",
       "      <td>167</td>\n",
       "      <td>ACH-000948</td>\n",
       "      <td>NCC(=O)Nc1ccc(-n2nc(C(F)(F)F)cc2-c2ccc3c(ccc4c...</td>\n",
       "      <td>2.061684</td>\n",
       "      <td>ACH-000948</td>\n",
       "    </tr>\n",
       "    <tr>\n",
       "      <th>4</th>\n",
       "      <td>180</td>\n",
       "      <td>ACH-000971</td>\n",
       "      <td>CC=C(C)C(=O)OC1C(C)=C2C(C1OC(=O)CCCCCCC)C(C)(O...</td>\n",
       "      <td>-5.105745</td>\n",
       "      <td>ACH-000971</td>\n",
       "    </tr>\n",
       "  </tbody>\n",
       "</table>\n",
       "</div>"
      ],
      "text/plain": [
       "  drug_id Cancer_Cell_Line                                             Smiles  \\\n",
       "0     203       ACH-000292                      Cc1ccc2nc(NCCN)c3ncc(C)n3c2c1   \n",
       "1     282       ACH-000270  CCOc1cc2ncc(C#N)c(Nc3ccc(F)c(Cl)c3)c2cc1NC(=O)...   \n",
       "2      51       ACH-000087  Cc1nc(Nc2ncc(C(=O)Nc3c(C)cccc3Cl)s2)cc(N2CCN(C...   \n",
       "3     167       ACH-000948  NCC(=O)Nc1ccc(-n2nc(C(F)(F)F)cc2-c2ccc3c(ccc4c...   \n",
       "4     180       ACH-000971  CC=C(C)C(=O)OC1C(C)=C2C(C1OC(=O)CCCCCCC)C(C)(O...   \n",
       "\n",
       "       IC50   Cell_Line  \n",
       "0  2.772620  ACH-000292  \n",
       "1 -0.367467  ACH-000270  \n",
       "2  2.620152  ACH-000087  \n",
       "3  2.061684  ACH-000948  \n",
       "4 -5.105745  ACH-000971  "
      ]
     },
     "execution_count": 48,
     "metadata": {},
     "output_type": "execute_result"
    }
   ],
   "source": [
    "x_y_train.head()"
   ]
  },
  {
   "cell_type": "code",
   "execution_count": 49,
   "id": "5848e482-2cf7-44c1-848a-469ca874f2be",
   "metadata": {},
   "outputs": [
    {
     "data": {
      "text/plain": [
       "(69214, 5)"
      ]
     },
     "execution_count": 49,
     "metadata": {},
     "output_type": "execute_result"
    }
   ],
   "source": [
    "x_y_train.shape"
   ]
  },
  {
   "cell_type": "code",
   "execution_count": 50,
   "id": "3ff87221-d69e-4ac0-b81c-408c18e6f3eb",
   "metadata": {},
   "outputs": [],
   "source": [
    "x_y_test = combo_train_valid.merge(dualgcn_test, left_on = ['Cancer_Cell_Line','drug_id'], right_on = [ 'Cell_Line','drug_id'])"
   ]
  },
  {
   "cell_type": "code",
   "execution_count": 51,
   "id": "9d286265-bbd6-4410-bcf7-3326e2bcfb6b",
   "metadata": {},
   "outputs": [
    {
     "data": {
      "text/plain": [
       "(17316, 5)"
      ]
     },
     "execution_count": 51,
     "metadata": {},
     "output_type": "execute_result"
    }
   ],
   "source": [
    "x_y_test.shape"
   ]
  },
  {
   "cell_type": "code",
   "execution_count": 52,
   "id": "32f7117a-247a-4657-a7aa-e0ddf9c56d13",
   "metadata": {},
   "outputs": [],
   "source": [
    "x_train, x_valid, y_train, y_valid = train_test_split(x_y_train.drop([\"IC50\", 'Cell_Line'],axis = 1),x_y_train[\"IC50\"].values, random_state = 42, test_size = 0.2)"
   ]
  },
  {
   "cell_type": "code",
   "execution_count": 53,
   "id": "5431b2ab-ae14-4e56-ae32-587f1da864c9",
   "metadata": {},
   "outputs": [
    {
     "name": "stdout",
     "output_type": "stream",
     "text": [
      "x train shape (55371, 3)\n",
      "x valid shape (13843, 3)\n",
      "y train shape (55371,)\n",
      "y valid shape (13843,)\n"
     ]
    }
   ],
   "source": [
    "print(\"x train shape\", x_train.shape)\n",
    "print(\"x valid shape\", x_valid.shape)\n",
    "print(\"y train shape\", y_train.shape)\n",
    "print(\"y valid shape\", y_valid.shape)"
   ]
  },
  {
   "cell_type": "code",
   "execution_count": 54,
   "id": "8aba3170-70f1-4d47-9cb1-7ee55ade45a4",
   "metadata": {},
   "outputs": [],
   "source": [
    "x_test, y_test = x_y_test.drop([\"IC50\", 'Cell_Line'], axis = 1), x_y_test[\"IC50\"].values"
   ]
  },
  {
   "cell_type": "code",
   "execution_count": 55,
   "id": "69a7d112-a3e0-4e4c-a1df-6cc5ad48bef4",
   "metadata": {},
   "outputs": [
    {
     "name": "stdout",
     "output_type": "stream",
     "text": [
      "x test shape (17316, 3)\n",
      "y test shape (17316,)\n"
     ]
    }
   ],
   "source": [
    "print(\"x test shape\", x_test.shape)\n",
    "print(\"y test shape\", y_test.shape)"
   ]
  },
  {
   "cell_type": "code",
   "execution_count": 56,
   "id": "c9dd2592-6c2e-43a2-a035-275883deed2f",
   "metadata": {},
   "outputs": [
    {
     "data": {
      "text/plain": [
       "(2.0558525880515073, 2.8441288895772825, 2.0230610204435453, 2.835856668835907)"
      ]
     },
     "execution_count": 56,
     "metadata": {},
     "output_type": "execute_result"
    }
   ],
   "source": [
    "np.mean(y_train), np.std(y_train), np.mean(y_valid),  np.std(y_valid)"
   ]
  },
  {
   "cell_type": "code",
   "execution_count": 57,
   "id": "3b6a3bb2-8a29-419f-8e0a-b2f4d28f27c6",
   "metadata": {},
   "outputs": [],
   "source": [
    "# from deepcdr\n",
    "# (2.0558525880515073, 2.8441288895772825, 2.0230610204435453, 2.835856668835907)"
   ]
  },
  {
   "cell_type": "code",
   "execution_count": 58,
   "id": "22a1a4ae-89aa-472a-a37a-cb5d38d87b15",
   "metadata": {},
   "outputs": [
    {
     "data": {
      "text/plain": [
       "(2.063824293081543, 2.8309603843576316)"
      ]
     },
     "execution_count": 58,
     "metadata": {},
     "output_type": "execute_result"
    }
   ],
   "source": [
    "np.mean(y_test), np.std(y_test),"
   ]
  },
  {
   "cell_type": "code",
   "execution_count": 59,
   "id": "33499e6a-1a19-4827-af41-627fe199a667",
   "metadata": {},
   "outputs": [],
   "source": [
    "# from deepcdr\n",
    "# (2.063824293081543, 2.8309603843576316)"
   ]
  },
  {
   "cell_type": "code",
   "execution_count": 60,
   "id": "6ee595a1-e8df-406a-875e-87f871ae238b",
   "metadata": {},
   "outputs": [
    {
     "data": {
      "text/html": [
       "<div>\n",
       "<style scoped>\n",
       "    .dataframe tbody tr th:only-of-type {\n",
       "        vertical-align: middle;\n",
       "    }\n",
       "\n",
       "    .dataframe tbody tr th {\n",
       "        vertical-align: top;\n",
       "    }\n",
       "\n",
       "    .dataframe thead th {\n",
       "        text-align: right;\n",
       "    }\n",
       "</style>\n",
       "<table border=\"1\" class=\"dataframe\">\n",
       "  <thead>\n",
       "    <tr style=\"text-align: right;\">\n",
       "      <th></th>\n",
       "      <th>drug_id</th>\n",
       "      <th>Cancer_Cell_Line</th>\n",
       "      <th>Smiles</th>\n",
       "    </tr>\n",
       "  </thead>\n",
       "  <tbody>\n",
       "    <tr>\n",
       "      <th>54743</th>\n",
       "      <td>180</td>\n",
       "      <td>ACH-000358</td>\n",
       "      <td>CC=C(C)C(=O)OC1C(C)=C2C(C1OC(=O)CCCCCCC)C(C)(O...</td>\n",
       "    </tr>\n",
       "    <tr>\n",
       "      <th>13257</th>\n",
       "      <td>260</td>\n",
       "      <td>ACH-000476</td>\n",
       "      <td>CCN1CCN(Cc2ccc(NC(=O)c3ccc(C)c(Oc4ccnc5[nH]ccc...</td>\n",
       "    </tr>\n",
       "    <tr>\n",
       "      <th>37343</th>\n",
       "      <td>308</td>\n",
       "      <td>ACH-000151</td>\n",
       "      <td>COc1cc2c(Oc3ccc(NC(=O)C4(C(=O)Nc5ccc(F)cc5)CC4...</td>\n",
       "    </tr>\n",
       "    <tr>\n",
       "      <th>33226</th>\n",
       "      <td>106</td>\n",
       "      <td>ACH-000218</td>\n",
       "      <td>COc1cc(N2CCN(C)CC2)ccc1Nc1ncc2c(n1)N(C)c1ccccc...</td>\n",
       "    </tr>\n",
       "    <tr>\n",
       "      <th>9313</th>\n",
       "      <td>1004</td>\n",
       "      <td>ACH-000210</td>\n",
       "      <td>CCC1(O)CC2CN(CCc3c([nH]c4ccccc34)C(C(=O)OC)(c3...</td>\n",
       "    </tr>\n",
       "  </tbody>\n",
       "</table>\n",
       "</div>"
      ],
      "text/plain": [
       "      drug_id Cancer_Cell_Line  \\\n",
       "54743     180       ACH-000358   \n",
       "13257     260       ACH-000476   \n",
       "37343     308       ACH-000151   \n",
       "33226     106       ACH-000218   \n",
       "9313     1004       ACH-000210   \n",
       "\n",
       "                                                  Smiles  \n",
       "54743  CC=C(C)C(=O)OC1C(C)=C2C(C1OC(=O)CCCCCCC)C(C)(O...  \n",
       "13257  CCN1CCN(Cc2ccc(NC(=O)c3ccc(C)c(Oc4ccnc5[nH]ccc...  \n",
       "37343  COc1cc2c(Oc3ccc(NC(=O)C4(C(=O)Nc5ccc(F)cc5)CC4...  \n",
       "33226  COc1cc(N2CCN(C)CC2)ccc1Nc1ncc2c(n1)N(C)c1ccccc...  \n",
       "9313   CCC1(O)CC2CN(CCc3c([nH]c4ccccc34)C(C(=O)OC)(c3...  "
      ]
     },
     "execution_count": 60,
     "metadata": {},
     "output_type": "execute_result"
    }
   ],
   "source": [
    "x_train.head()"
   ]
  },
  {
   "cell_type": "code",
   "execution_count": 61,
   "id": "d8e8a19c-3fc2-4c28-8a5c-5d44890baff8",
   "metadata": {},
   "outputs": [],
   "source": [
    "train_gcn_feats = []\n",
    "train_adj_list = []\n",
    "for drug_id in x_train[\"drug_id\"].values:\n",
    "    train_gcn_feats.append(dict_features[drug_id])\n",
    "    train_adj_list.append(dict_normalized_adj_mats[drug_id])"
   ]
  },
  {
   "cell_type": "code",
   "execution_count": 62,
   "id": "f18af922-6ad2-4ec9-8a06-e21dfec89e16",
   "metadata": {},
   "outputs": [],
   "source": [
    "valid_gcn_feats = []\n",
    "valid_adj_list = []\n",
    "for drug_id in x_valid[\"drug_id\"].values:\n",
    "    valid_gcn_feats.append(dict_features[drug_id])\n",
    "    valid_adj_list.append(dict_normalized_adj_mats[drug_id])"
   ]
  },
  {
   "cell_type": "code",
   "execution_count": 63,
   "id": "6d7cb1b8-92f6-42fb-ab0c-fb739d80d640",
   "metadata": {},
   "outputs": [],
   "source": [
    "test_gcn_feats = []\n",
    "test_adj_list = []\n",
    "for drug_id in x_test[\"drug_id\"].values:\n",
    "    test_gcn_feats.append(dict_features[drug_id])\n",
    "    test_adj_list.append(dict_normalized_adj_mats[drug_id])"
   ]
  },
  {
   "cell_type": "code",
   "execution_count": 64,
   "id": "95de6ec6-bf5b-4ade-9524-30fa1a7dd311",
   "metadata": {},
   "outputs": [],
   "source": [
    "import numpy as np"
   ]
  },
  {
   "cell_type": "code",
   "execution_count": 65,
   "id": "5ffb3e08-c208-43b6-b492-3f93d6eb4ded",
   "metadata": {},
   "outputs": [
    {
     "name": "stdout",
     "output_type": "stream",
     "text": [
      "CPU times: user 2.6 s, sys: 656 ms, total: 3.26 s\n",
      "Wall time: 3.27 s\n"
     ]
    }
   ],
   "source": [
    "%%time\n",
    "train_gcn_feats = np.array(train_gcn_feats).astype(\"float16\")\n",
    "valid_gcn_feats = np.array(valid_gcn_feats).astype(\"float16\")\n",
    "test_gcn_feats = np.array(test_gcn_feats).astype(\"float16\")"
   ]
  },
  {
   "cell_type": "code",
   "execution_count": 66,
   "id": "a64e2a60-4c1e-46bf-a421-e69fe55cd543",
   "metadata": {},
   "outputs": [
    {
     "name": "stdout",
     "output_type": "stream",
     "text": [
      "CPU times: user 3.44 s, sys: 888 ms, total: 4.33 s\n",
      "Wall time: 4.34 s\n"
     ]
    }
   ],
   "source": [
    "%%time\n",
    "train_adj_list = np.array(train_adj_list).astype(\"float16\")\n",
    "valid_adj_list = np.array(valid_adj_list).astype(\"float16\")\n",
    "test_adj_list = np.array(test_adj_list).astype(\"float16\")"
   ]
  },
  {
   "cell_type": "code",
   "execution_count": 67,
   "id": "b57c86db-c67b-4492-b945-9ee5ef7633be",
   "metadata": {},
   "outputs": [
    {
     "name": "stderr",
     "output_type": "stream",
     "text": [
      "2024-07-11 16:45:00.147260: I tensorflow/core/common_runtime/gpu/gpu_device.cc:1929] Created device /job:localhost/replica:0/task:0/device:GPU:0 with 31141 MB memory:  -> device: 0, name: Tesla V100S-PCIE-32GB, pci bus id: 0000:86:00.0, compute capability: 7.0\n"
     ]
    },
    {
     "name": "stdout",
     "output_type": "stream",
     "text": [
      "WARNING:tensorflow:No training configuration found in save file, so the model was *not* compiled. Compile it manually.\n"
     ]
    },
    {
     "name": "stderr",
     "output_type": "stream",
     "text": [
      "WARNING:tensorflow:No training configuration found in save file, so the model was *not* compiled. Compile it manually.\n"
     ]
    },
    {
     "name": "stdout",
     "output_type": "stream",
     "text": [
      "WARNING:tensorflow:No training configuration found in save file, so the model was *not* compiled. Compile it manually.\n"
     ]
    },
    {
     "name": "stderr",
     "output_type": "stream",
     "text": [
      "WARNING:tensorflow:No training configuration found in save file, so the model was *not* compiled. Compile it manually.\n"
     ]
    },
    {
     "name": "stdout",
     "output_type": "stream",
     "text": [
      "WARNING:tensorflow:No training configuration found in save file, so the model was *not* compiled. Compile it manually.\n"
     ]
    },
    {
     "name": "stderr",
     "output_type": "stream",
     "text": [
      "WARNING:tensorflow:No training configuration found in save file, so the model was *not* compiled. Compile it manually.\n"
     ]
    },
    {
     "name": "stdout",
     "output_type": "stream",
     "text": [
      "WARNING:tensorflow:No training configuration found in save file, so the model was *not* compiled. Compile it manually.\n"
     ]
    },
    {
     "name": "stderr",
     "output_type": "stream",
     "text": [
      "WARNING:tensorflow:No training configuration found in save file, so the model was *not* compiled. Compile it manually.\n"
     ]
    }
   ],
   "source": [
    "# load models\n",
    "# omic models\n",
    "cancer_copy_number_model = tf.keras.models.load_model(\"..//models//cancer_copy_number_model_no_norm_common\")\n",
    "cancer_cell_gen_expr_model = tf.keras.models.load_model(\"..//models//cancer_cell_gen_expr_model_no_norm_common\")\n",
    "cancer_cell_gen_methy_model = tf.keras.models.load_model(\"..//models//cancer_cell_gen_methy_model_no_norm\")\n",
    "cancer_cell_gen_mut_model = tf.keras.models.load_model(\"..//models//cancer_cell_gen_mut_model_no_norm\")"
   ]
  },
  {
   "cell_type": "code",
   "execution_count": 68,
   "id": "4c1533dd-2e0e-424f-be0d-24f06b51453b",
   "metadata": {},
   "outputs": [
    {
     "name": "stdout",
     "output_type": "stream",
     "text": [
      "WARNING:tensorflow:No training configuration found in save file, so the model was *not* compiled. Compile it manually.\n"
     ]
    },
    {
     "name": "stderr",
     "output_type": "stream",
     "text": [
      "WARNING:tensorflow:No training configuration found in save file, so the model was *not* compiled. Compile it manually.\n"
     ]
    }
   ],
   "source": [
    "# load models\n",
    "# drug models\n",
    "pubchem_drugs_rdkit_model = tf.keras.models.load_model(\"..//models//pubchem_drugs_rdkit_model_no_norm\")"
   ]
  },
  {
   "cell_type": "code",
   "execution_count": 69,
   "id": "4276fa33-3544-4a49-904e-020095d81f43",
   "metadata": {},
   "outputs": [],
   "source": [
    "std = StandardScaler()"
   ]
  },
  {
   "cell_type": "code",
   "execution_count": 70,
   "id": "6d5f0911-6e51-446d-a281-dc05086de8bf",
   "metadata": {},
   "outputs": [],
   "source": [
    "# extract drug features - does not seem like these are used in the network\n",
    "drug_features_train = pubchem_drugs_rdkit_model(x_train[\"drug_id\"].values).numpy().astype(\"float32\")\n",
    "drug_features_valid = pubchem_drugs_rdkit_model(x_valid[\"drug_id\"].values).numpy().astype(\"float32\")\n",
    "drug_features_test = pubchem_drugs_rdkit_model(x_test[\"drug_id\"].values).numpy().astype(\"float32\")\n",
    "\n",
    "# drug_features_train = pubchem_drugs_rdkit_model(x_train[\"drug_id\"].values)\n",
    "# drug_features_valid = pubchem_drugs_rdkit_model(x_valid[\"drug_id\"].values)"
   ]
  },
  {
   "cell_type": "code",
   "execution_count": 71,
   "id": "532d3eda-f04b-459a-b662-186a8d5f4184",
   "metadata": {},
   "outputs": [
    {
     "data": {
      "text/plain": [
       "((55371, 106), (13843, 106), (17316, 106))"
      ]
     },
     "execution_count": 71,
     "metadata": {},
     "output_type": "execute_result"
    }
   ],
   "source": [
    "drug_features_train.shape, drug_features_valid.shape, drug_features_test.shape"
   ]
  },
  {
   "cell_type": "code",
   "execution_count": 72,
   "id": "f09c1da2-9df1-4674-9a05-ed475aaed5fa",
   "metadata": {},
   "outputs": [
    {
     "data": {
      "text/plain": [
       "0"
      ]
     },
     "execution_count": 72,
     "metadata": {},
     "output_type": "execute_result"
    }
   ],
   "source": [
    "np.isinf(drug_features_train).sum()"
   ]
  },
  {
   "cell_type": "code",
   "execution_count": 73,
   "id": "76723b45-8e73-41b2-b00a-19c27200d943",
   "metadata": {},
   "outputs": [],
   "source": [
    "drug_features_train = std.fit_transform(drug_features_train)"
   ]
  },
  {
   "cell_type": "code",
   "execution_count": 74,
   "id": "3397ce65-28fa-42a3-8b35-cb378bde141d",
   "metadata": {},
   "outputs": [],
   "source": [
    "drug_features_valid = std.transform(drug_features_valid)\n",
    "drug_features_test = std.transform(drug_features_test)"
   ]
  },
  {
   "cell_type": "code",
   "execution_count": 75,
   "id": "8a581814-8f25-47f8-88eb-b6d94e841e96",
   "metadata": {},
   "outputs": [],
   "source": [
    "# extract copy number features\n",
    "omics_copy_number_train = cancer_copy_number_model(x_train[\"Cancer_Cell_Line\"].values).numpy().astype(\"float16\")\n",
    "omics_copy_number_valid = cancer_copy_number_model(x_valid[\"Cancer_Cell_Line\"].values).numpy().astype(\"float16\")\n",
    "omics_copy_number_test = cancer_copy_number_model(x_test[\"Cancer_Cell_Line\"].values).numpy().astype(\"float16\")"
   ]
  },
  {
   "cell_type": "code",
   "execution_count": 76,
   "id": "a160e991-ebad-4f48-a8b9-e2ce191865ae",
   "metadata": {},
   "outputs": [
    {
     "data": {
      "text/plain": [
       "((55371, 691), (13843, 691), (17316, 691))"
      ]
     },
     "execution_count": 76,
     "metadata": {},
     "output_type": "execute_result"
    }
   ],
   "source": [
    "omics_copy_number_train.shape, omics_copy_number_valid.shape, omics_copy_number_test.shape"
   ]
  },
  {
   "cell_type": "code",
   "execution_count": 77,
   "id": "0d8f9737-5d43-4175-a68a-ff03ab3f58c3",
   "metadata": {},
   "outputs": [],
   "source": [
    "# extract gen expr features\n",
    "omics_gen_expr_train = cancer_cell_gen_expr_model(x_train[\"Cancer_Cell_Line\"].values).numpy().astype(\"float16\")\n",
    "omics_gen_expr_valid = cancer_cell_gen_expr_model(x_valid[\"Cancer_Cell_Line\"].values).numpy().astype(\"float16\")\n",
    "omics_gen_expr_test = cancer_cell_gen_expr_model(x_test[\"Cancer_Cell_Line\"].values).numpy().astype(\"float16\")"
   ]
  },
  {
   "cell_type": "code",
   "execution_count": 78,
   "id": "79e4911e-99db-4d28-b785-99c8b3da6e38",
   "metadata": {},
   "outputs": [
    {
     "data": {
      "text/plain": [
       "((55371, 691), (13843, 691), (17316, 691))"
      ]
     },
     "execution_count": 78,
     "metadata": {},
     "output_type": "execute_result"
    }
   ],
   "source": [
    "omics_gen_expr_train.shape, omics_gen_expr_valid.shape, omics_gen_expr_test.shape"
   ]
  },
  {
   "cell_type": "code",
   "execution_count": 79,
   "id": "ceb5e8e9-58c8-44b6-af28-2e676cd4c4d9",
   "metadata": {},
   "outputs": [],
   "source": [
    "omics_gen_copy_number_gen_expr_train = np.concatenate([np.expand_dims(omics_copy_number_train, -1),\n",
    "                                                      np.expand_dims(omics_gen_expr_train, -1)], axis = -1)"
   ]
  },
  {
   "cell_type": "code",
   "execution_count": 80,
   "id": "ddd290e2-d981-440e-b33f-d9e269e9e7e5",
   "metadata": {},
   "outputs": [
    {
     "data": {
      "text/plain": [
       "(55371, 691, 2)"
      ]
     },
     "execution_count": 80,
     "metadata": {},
     "output_type": "execute_result"
    }
   ],
   "source": [
    "omics_gen_copy_number_gen_expr_train.shape"
   ]
  },
  {
   "cell_type": "code",
   "execution_count": 81,
   "id": "9af07cd6-3bf6-45eb-a0d9-6ada6e752a5d",
   "metadata": {},
   "outputs": [],
   "source": [
    "omics_gen_copy_number_gen_expr_valid = np.concatenate([np.expand_dims(omics_copy_number_valid, -1),\n",
    "                                                      np.expand_dims(omics_gen_expr_valid, -1)], axis = -1)"
   ]
  },
  {
   "cell_type": "code",
   "execution_count": 82,
   "id": "0de42a7d-07a7-472e-bc3b-8735aac8d8a0",
   "metadata": {},
   "outputs": [
    {
     "data": {
      "text/plain": [
       "(13843, 691, 2)"
      ]
     },
     "execution_count": 82,
     "metadata": {},
     "output_type": "execute_result"
    }
   ],
   "source": [
    "omics_gen_copy_number_gen_expr_valid.shape"
   ]
  },
  {
   "cell_type": "code",
   "execution_count": 83,
   "id": "57aaea83-8c02-43bb-a18c-8f2972f5703c",
   "metadata": {},
   "outputs": [],
   "source": [
    "omics_gen_copy_number_gen_expr_test = np.concatenate([np.expand_dims(omics_copy_number_test, -1),\n",
    "                                                      np.expand_dims(omics_gen_expr_test, -1)], axis = -1)"
   ]
  },
  {
   "cell_type": "code",
   "execution_count": 84,
   "id": "06f55caa-b366-418e-a6dd-c46672660b3c",
   "metadata": {},
   "outputs": [
    {
     "data": {
      "text/plain": [
       "(17316, 691, 2)"
      ]
     },
     "execution_count": 84,
     "metadata": {},
     "output_type": "execute_result"
    }
   ],
   "source": [
    "omics_gen_copy_number_gen_expr_test.shape"
   ]
  },
  {
   "cell_type": "code",
   "execution_count": 85,
   "id": "6fc3a94e-0ffe-4672-a97a-cc87eca89a54",
   "metadata": {},
   "outputs": [],
   "source": [
    "# extract gen methylation features\n",
    "omics_gen_methyl_train = cancer_cell_gen_methy_model(x_train[\"Cancer_Cell_Line\"].values).numpy().astype(\"float16\")\n",
    "omics_gen_methyl_valid = cancer_cell_gen_methy_model(x_valid[\"Cancer_Cell_Line\"].values).numpy().astype(\"float16\")\n",
    "omics_gen_methyl_test = cancer_cell_gen_methy_model(x_test[\"Cancer_Cell_Line\"].values).numpy().astype(\"float16\")"
   ]
  },
  {
   "cell_type": "code",
   "execution_count": 86,
   "id": "413c009e-c8fe-4ff6-bd81-b46d0f18fbd3",
   "metadata": {},
   "outputs": [
    {
     "data": {
      "text/plain": [
       "((55371, 808), (13843, 808), (17316, 808))"
      ]
     },
     "execution_count": 86,
     "metadata": {},
     "output_type": "execute_result"
    }
   ],
   "source": [
    "omics_gen_methyl_train.shape, omics_gen_methyl_valid.shape, omics_gen_methyl_test.shape"
   ]
  },
  {
   "cell_type": "code",
   "execution_count": 87,
   "id": "75398540-13b6-4cfa-b90d-8f2c0124dcd8",
   "metadata": {},
   "outputs": [
    {
     "name": "stdout",
     "output_type": "stream",
     "text": [
      "217/217 [==============================] - 5s 20ms/step\n",
      "55/55 [==============================] - 0s 5ms/step\n",
      "68/68 [==============================] - 0s 6ms/step\n"
     ]
    }
   ],
   "source": [
    "# extract gen mutation features\n",
    "with tf.device('/cpu:0'):\n",
    "    omics_gen_mut_train = cancer_cell_gen_mut_model.predict(x_train[\"Cancer_Cell_Line\"].values, verbose = 1, batch_size = 256).astype(\"float16\")\n",
    "    omics_gen_mut_valid = cancer_cell_gen_mut_model.predict(x_valid[\"Cancer_Cell_Line\"].values, verbose = 1, batch_size = 256).astype(\"float16\")\n",
    "    omics_gen_mut_test = cancer_cell_gen_mut_model.predict(x_test[\"Cancer_Cell_Line\"].values, verbose = 1, batch_size = 256).astype(\"float16\")"
   ]
  },
  {
   "cell_type": "code",
   "execution_count": 88,
   "id": "1e4d8d51-d564-4df5-985c-2cb91b7909fe",
   "metadata": {},
   "outputs": [
    {
     "data": {
      "text/plain": [
       "((55371, 34673), (13843, 34673), (17316, 34673))"
      ]
     },
     "execution_count": 88,
     "metadata": {},
     "output_type": "execute_result"
    }
   ],
   "source": [
    "omics_gen_mut_train.shape, omics_gen_mut_valid.shape, omics_gen_mut_test.shape"
   ]
  },
  {
   "cell_type": "code",
   "execution_count": 89,
   "id": "1cd31175-0cb4-4718-8ff6-221e42f493d9",
   "metadata": {},
   "outputs": [],
   "source": [
    "smile_strings_train = x_train[\"Smiles\"].values.reshape(-1,1)\n",
    "smile_strings_valid = x_valid[\"Smiles\"].values.reshape(-1,1)\n",
    "smile_strings_test = x_test[\"Smiles\"].values.reshape(-1,1)"
   ]
  },
  {
   "cell_type": "code",
   "execution_count": 90,
   "id": "c88bfcad-a6b4-41d0-b8c0-a2ec02488526",
   "metadata": {},
   "outputs": [
    {
     "data": {
      "text/plain": [
       "((55371, 1), (13843, 1), (17316, 1))"
      ]
     },
     "execution_count": 90,
     "metadata": {},
     "output_type": "execute_result"
    }
   ],
   "source": [
    "smile_strings_train.shape, smile_strings_valid.shape, smile_strings_test.shape"
   ]
  },
  {
   "cell_type": "code",
   "execution_count": 91,
   "id": "d13e5906-e69a-42a6-b9d0-c24f9d941e7d",
   "metadata": {},
   "outputs": [],
   "source": [
    "selected_info_common_cell_lines = \"..//data//cellline_list.txt\"\n",
    "selected_info_common_genes = \"..//data//gene_list.txt\""
   ]
  },
  {
   "cell_type": "code",
   "execution_count": 92,
   "id": "81270302-09c9-4885-bf20-1cea79f82c2c",
   "metadata": {},
   "outputs": [],
   "source": [
    "PPI_file = \"..//data//PPI_network.txt\""
   ]
  },
  {
   "cell_type": "code",
   "execution_count": 93,
   "id": "c061dec2-f66e-46bd-b75d-d0d3de3a4197",
   "metadata": {},
   "outputs": [],
   "source": [
    "with open(selected_info_common_cell_lines) as f:\n",
    "    common_cell_lines = [item.strip() for item in f.readlines()]"
   ]
  },
  {
   "cell_type": "code",
   "execution_count": 94,
   "id": "4cb87bff-5320-4bfd-a3cf-87140a8794b6",
   "metadata": {},
   "outputs": [
    {
     "data": {
      "text/plain": [
       "525"
      ]
     },
     "execution_count": 94,
     "metadata": {},
     "output_type": "execute_result"
    }
   ],
   "source": [
    "len(common_cell_lines)"
   ]
  },
  {
   "cell_type": "code",
   "execution_count": 95,
   "id": "fec2991e-1152-4fc3-afae-e537b1d94224",
   "metadata": {},
   "outputs": [],
   "source": [
    "with open(\"..//data//common_genes.pickle\", \"rb\") as f:\n",
    "    common_genes = pickle.load(f)"
   ]
  },
  {
   "cell_type": "code",
   "execution_count": 96,
   "id": "a08e52b1-78b9-4d3b-8bd6-55a771b74fbc",
   "metadata": {},
   "outputs": [
    {
     "data": {
      "text/plain": [
       "691"
      ]
     },
     "execution_count": 96,
     "metadata": {},
     "output_type": "execute_result"
    }
   ],
   "source": [
    "len(common_genes)"
   ]
  },
  {
   "cell_type": "code",
   "execution_count": 97,
   "id": "d03313a5-efb7-4620-b0df-ffab1d9c4925",
   "metadata": {},
   "outputs": [
    {
     "data": {
      "text/plain": [
       "691"
      ]
     },
     "execution_count": 97,
     "metadata": {},
     "output_type": "execute_result"
    }
   ],
   "source": [
    "len(np.unique(common_genes))"
   ]
  },
  {
   "cell_type": "code",
   "execution_count": 98,
   "id": "81938b6c-b5ec-4bec-bf6c-bcfb99333479",
   "metadata": {},
   "outputs": [],
   "source": [
    "idx_dic={}\n",
    "for index, item in enumerate(common_genes):\n",
    "    idx_dic[item] = index"
   ]
  },
  {
   "cell_type": "code",
   "execution_count": 99,
   "id": "db682909-16a7-4ef9-91d5-b92cd4cea70d",
   "metadata": {},
   "outputs": [
    {
     "data": {
      "text/plain": [
       "1"
      ]
     },
     "execution_count": 99,
     "metadata": {},
     "output_type": "execute_result"
    }
   ],
   "source": [
    "idx_dic['SUFU']"
   ]
  },
  {
   "cell_type": "code",
   "execution_count": 100,
   "id": "9be1966c-c95d-4763-9351-cc85f885dd77",
   "metadata": {},
   "outputs": [],
   "source": [
    "ppi_adj_info = [[] for item in common_genes] "
   ]
  },
  {
   "cell_type": "code",
   "execution_count": 101,
   "id": "dd95b114-413c-48b2-8ac4-d62341ca4b49",
   "metadata": {},
   "outputs": [],
   "source": [
    "# will return for each gene what other gene is connected - PPIs\n",
    "ppi_adj_info = [[] for item in common_genes] \n",
    "for line in open(PPI_file).readlines():\n",
    "    gene1,gene2 = line.split('\\t')[0],line.split('\\t')[1]\n",
    "    if (gene1 in common_genes) & (gene2 in common_genes):\n",
    "        if idx_dic[gene1]<=idx_dic[gene2]:\n",
    "            ppi_adj_info[idx_dic[gene1]].append(idx_dic[gene2])\n",
    "            ppi_adj_info[idx_dic[gene2]].append(idx_dic[gene1])"
   ]
  },
  {
   "cell_type": "code",
   "execution_count": 102,
   "id": "fb539837-5a63-4738-95ad-18d55b01742b",
   "metadata": {},
   "outputs": [
    {
     "data": {
      "text/plain": [
       "691"
      ]
     },
     "execution_count": 102,
     "metadata": {},
     "output_type": "execute_result"
    }
   ],
   "source": [
    "len(ppi_adj_info)"
   ]
  },
  {
   "cell_type": "code",
   "execution_count": 103,
   "id": "9e5f2843-9ab0-4c71-a5c2-b348bb29db1f",
   "metadata": {},
   "outputs": [
    {
     "data": {
      "text/plain": [
       "247"
      ]
     },
     "execution_count": 103,
     "metadata": {},
     "output_type": "execute_result"
    }
   ],
   "source": [
    "len(ppi_adj_info[0])"
   ]
  },
  {
   "cell_type": "code",
   "execution_count": 104,
   "id": "8f9b5c7b-6b6a-43d1-97b3-c2a901ce3aa7",
   "metadata": {},
   "outputs": [
    {
     "data": {
      "text/plain": [
       "691"
      ]
     },
     "execution_count": 104,
     "metadata": {},
     "output_type": "execute_result"
    }
   ],
   "source": [
    "len(common_genes)"
   ]
  },
  {
   "cell_type": "code",
   "execution_count": 105,
   "id": "e8dba0ba-76bf-43d9-a282-64d5ef857164",
   "metadata": {},
   "outputs": [],
   "source": [
    "def CelllineGraphAdjNorm(ppi_adj_info,common_genes = common_genes):\n",
    "    # with open(selected_info_common_genes) as f:\n",
    "    #     common_genes = [item.strip() for item in f.readlines()]\n",
    "    nb_nodes = len(common_genes)\n",
    "    adj_mat = np.zeros((nb_nodes,nb_nodes),dtype='float32')\n",
    "    # print(adj_mat.shape)\n",
    "    for i in range(len(ppi_adj_info)):\n",
    "        # print(i)\n",
    "        nodes = ppi_adj_info[i]\n",
    "        for each in nodes:\n",
    "            adj_mat[i,each] = 1\n",
    "\n",
    "    # for checking if two sparse matrices are the same\n",
    "    assert np.allclose(adj_mat,adj_mat.T)\n",
    "    norm_adj = NormalizeAdj(adj_mat)\n",
    "    return norm_adj "
   ]
  },
  {
   "cell_type": "code",
   "execution_count": 106,
   "id": "ccca20d9-ccb8-4e11-87dc-3b8bca5df5ac",
   "metadata": {},
   "outputs": [],
   "source": [
    "def NormalizeAdj(adj):\n",
    "    adj = adj + np.eye(adj.shape[0])\n",
    "    d = sp.diags(np.power(np.array(adj.sum(1)), -0.5).flatten(), 0).toarray()\n",
    "    a_norm = adj.dot(d).transpose().dot(d)\n",
    "    return a_norm"
   ]
  },
  {
   "cell_type": "code",
   "execution_count": 107,
   "id": "c091ab77-fe5b-4f41-80c7-9f4e5af94302",
   "metadata": {},
   "outputs": [],
   "source": [
    "ppi_adj = CelllineGraphAdjNorm(ppi_adj_info,common_genes)"
   ]
  },
  {
   "cell_type": "code",
   "execution_count": 108,
   "id": "09894fbc-8a1b-46c6-afd8-02ff6e17d9d5",
   "metadata": {},
   "outputs": [
    {
     "data": {
      "text/plain": [
       "(691, 691)"
      ]
     },
     "execution_count": 108,
     "metadata": {},
     "output_type": "execute_result"
    }
   ],
   "source": [
    "ppi_adj.shape"
   ]
  },
  {
   "cell_type": "code",
   "execution_count": 109,
   "id": "61b528be-cac2-4bd2-b64a-5bff3366d34d",
   "metadata": {},
   "outputs": [
    {
     "data": {
      "text/plain": [
       "array([[0.00403226, 0.00546522, 0.00684739, ..., 0.        , 0.003636  ,\n",
       "        0.00582104],\n",
       "       [0.00546522, 0.00740741, 0.        , ..., 0.        , 0.00492814,\n",
       "        0.00788968],\n",
       "       [0.00684739, 0.        , 0.01162791, ..., 0.        , 0.00617449,\n",
       "        0.        ],\n",
       "       ...,\n",
       "       [0.        , 0.        , 0.        , ..., 0.00510204, 0.        ,\n",
       "        0.00654785],\n",
       "       [0.003636  , 0.00492814, 0.00617449, ..., 0.        , 0.00327869,\n",
       "        0.        ],\n",
       "       [0.00582104, 0.00788968, 0.        , ..., 0.00654785, 0.        ,\n",
       "        0.00840336]])"
      ]
     },
     "execution_count": 109,
     "metadata": {},
     "output_type": "execute_result"
    }
   ],
   "source": [
    "ppi_adj"
   ]
  },
  {
   "cell_type": "code",
   "execution_count": 110,
   "id": "06b66e4c-ece7-40d6-b2d3-bf186c580ebd",
   "metadata": {},
   "outputs": [],
   "source": [
    "ppi_adj = np.expand_dims(ppi_adj,0)"
   ]
  },
  {
   "cell_type": "code",
   "execution_count": 111,
   "id": "4c126791-b275-4551-8d96-bbc9d32c92d6",
   "metadata": {},
   "outputs": [
    {
     "data": {
      "text/plain": [
       "(1, 691, 691)"
      ]
     },
     "execution_count": 111,
     "metadata": {},
     "output_type": "execute_result"
    }
   ],
   "source": [
    "ppi_adj.shape"
   ]
  },
  {
   "cell_type": "code",
   "execution_count": 112,
   "id": "9c523c6b-8a36-468a-966b-4bd5be2566d2",
   "metadata": {},
   "outputs": [],
   "source": [
    "omics_gen_copy_number_gen_expr_train_new = (ppi_adj@omics_gen_copy_number_gen_expr_train)\n",
    "omics_gen_copy_number_gen_expr_valid_new = (ppi_adj@omics_gen_copy_number_gen_expr_valid)\n",
    "omics_gen_copy_number_gen_expr_test_new = (ppi_adj@omics_gen_copy_number_gen_expr_test)"
   ]
  },
  {
   "cell_type": "code",
   "execution_count": 113,
   "id": "9e00df9e-3bc3-487f-82ee-c93f72cade79",
   "metadata": {},
   "outputs": [
    {
     "data": {
      "text/plain": [
       "((55371, 691, 2), (13843, 691, 2), (17316, 691, 2))"
      ]
     },
     "execution_count": 113,
     "metadata": {},
     "output_type": "execute_result"
    }
   ],
   "source": [
    "omics_gen_copy_number_gen_expr_train_new.shape, omics_gen_copy_number_gen_expr_valid_new.shape, omics_gen_copy_number_gen_expr_test_new.shape"
   ]
  },
  {
   "cell_type": "code",
   "execution_count": 114,
   "id": "09b74033-ce1b-4886-afe8-1fc84eaaefec",
   "metadata": {},
   "outputs": [],
   "source": [
    "copy_number_train = omics_gen_copy_number_gen_expr_train_new[:,:,0:1]\n",
    "copy_number_valid = omics_gen_copy_number_gen_expr_valid_new[:,:,0:1]\n",
    "copy_number_test = omics_gen_copy_number_gen_expr_test_new[:,:,0:1]"
   ]
  },
  {
   "cell_type": "code",
   "execution_count": 115,
   "id": "5bbe4d3d-1509-407f-bfe0-33b7ca6ee9cd",
   "metadata": {},
   "outputs": [
    {
     "data": {
      "text/plain": [
       "((55371, 691, 1), (13843, 691, 1), (17316, 691, 1))"
      ]
     },
     "execution_count": 115,
     "metadata": {},
     "output_type": "execute_result"
    }
   ],
   "source": [
    "copy_number_train.shape, copy_number_valid.shape, copy_number_test.shape"
   ]
  },
  {
   "cell_type": "code",
   "execution_count": 116,
   "id": "62214add-cba7-4ef8-8351-26b8883f2129",
   "metadata": {},
   "outputs": [],
   "source": [
    "gene_expr_train = omics_gen_copy_number_gen_expr_train_new[:,:,1:2]\n",
    "gene_expr_valid = omics_gen_copy_number_gen_expr_valid_new[:,:,1:2]\n",
    "gene_expr_test = omics_gen_copy_number_gen_expr_test_new[:,:,1:2]"
   ]
  },
  {
   "cell_type": "code",
   "execution_count": 117,
   "id": "b507561f-8f76-4a8f-9e14-59b2cc2ee891",
   "metadata": {},
   "outputs": [
    {
     "data": {
      "text/plain": [
       "((55371, 691, 1), (13843, 691, 1), (17316, 691, 1))"
      ]
     },
     "execution_count": 117,
     "metadata": {},
     "output_type": "execute_result"
    }
   ],
   "source": [
    "gene_expr_train.shape, gene_expr_valid.shape, gene_expr_test.shape"
   ]
  },
  {
   "cell_type": "code",
   "execution_count": 118,
   "id": "e0b5599d-402e-493e-8e3a-fc9ca0492aaf",
   "metadata": {},
   "outputs": [],
   "source": [
    "valid_items = [[ valid_gcn_feats, valid_adj_list,\n",
    "                           copy_number_valid, gene_expr_valid], y_valid]"
   ]
  },
  {
   "cell_type": "code",
   "execution_count": 119,
   "id": "4bb7e457-b40f-4c25-ad34-7b29305741eb",
   "metadata": {},
   "outputs": [],
   "source": [
    "with open(\"..//data//valid_items.pickle\", \"wb\") as f:\n",
    "    pickle.dump(valid_items, f)"
   ]
  },
  {
   "cell_type": "code",
   "execution_count": 120,
   "id": "32a9a130-7a5d-4cb0-b7f1-e95447642926",
   "metadata": {},
   "outputs": [],
   "source": [
    "input_gcn_features = tf.keras.layers.Input(shape = (100, 75))\n",
    "input_norm_adj_mat = tf.keras.layers.Input(shape = (100, 100))\n",
    "mult_1 = tf.keras.layers.Dot(1)([input_norm_adj_mat, input_gcn_features])\n",
    "dense_layer_gcn = tf.keras.layers.Dense(256, activation = \"relu\")\n",
    "dense_out = dense_layer_gcn(mult_1)\n",
    "dense_out = tf.keras.layers.BatchNormalization()(dense_out)\n",
    "dense_out = tf.keras.layers.Dropout(0.1)(dense_out)\n",
    "mult_2 = tf.keras.layers.Dot(1)([input_norm_adj_mat, dense_out])\n",
    "dense_layer_gcn = tf.keras.layers.Dense(128, activation = \"relu\")\n",
    "dense_out = dense_layer_gcn(mult_2)\n",
    "dense_out = tf.keras.layers.BatchNormalization()(dense_out)\n",
    "dense_out = tf.keras.layers.Dropout(0.1)(dense_out)\n",
    "\n",
    "# dense_layer_gcn = tf.keras.layers.Dense(100, activation = \"relu\")\n",
    "# mult_3 = tf.keras.layers.Dot(1)([input_norm_adj_mat, dense_out])\n",
    "# dense_out = dense_layer_gcn(mult_3)\n",
    "# dense_out = tf.keras.layers.BatchNormalization()(dense_out)\n",
    "# dense_out = tf.keras.layers.Dropout(0.2)(dense_out)\n",
    "\n",
    "dense_out = tf.keras.layers.GlobalAvgPool1D()(dense_out)"
   ]
  },
  {
   "cell_type": "code",
   "execution_count": 121,
   "id": "eb91c081-9638-48b8-b051-f7ad61b02954",
   "metadata": {},
   "outputs": [],
   "source": [
    "# here is the code for CNV and gene expression\n",
    "dropout1 = 0.10\n",
    "dropout2 = 0.20\n",
    "# first add the CNV\n",
    "input_cnv = tf.keras.layers.Input(shape = (omics_gen_expr_train.shape[1],1))\n",
    "    \n",
    "l1 = tf.keras.layers.Dense(32)(input_cnv)\n",
    "l1 = tf.keras.layers.Dropout(dropout1)(l1)\n",
    "l2 = tf.keras.layers.Dense(128)(l1)\n",
    "l2 = tf.keras.layers.Dropout(dropout1)(l2)\n",
    "    \n",
    "dense_layer_gcn1 = tf.keras.layers.Dense(256, activation = \"relu\")\n",
    "dense_out_cnv = dense_layer_gcn1(l2)\n",
    "dense_out_cnv = tf.keras.layers.BatchNormalization()(dense_out_cnv)\n",
    "dense_out_cnv = tf.keras.layers.Dropout(dropout1)(dense_out_cnv)\n",
    "# mult_21 = tf.keras.layers.Dot(1)([const_input, dense_out1])\n",
    "dense_layer_gcn1 = tf.keras.layers.Dense(256, activation = \"relu\")\n",
    "dense_out_cnv = dense_layer_gcn1(dense_out_cnv)\n",
    "dense_out_cnv = tf.keras.layers.BatchNormalization()(dense_out_cnv)\n",
    "dense_out_cnv = tf.keras.layers.Dropout(dropout1)(dense_out_cnv)\n",
    "dense_layer_gcn1 = tf.keras.layers.Dense(256, activation = \"relu\")\n",
    "dense_out_cnv = dense_layer_gcn1(dense_out_cnv)\n",
    "dense_out_cnv = tf.keras.layers.BatchNormalization()(dense_out_cnv)\n",
    "dense_out_cnv = tf.keras.layers.Dropout(dropout1)(dense_out_cnv)\n",
    "dense_layer_gcn1 = tf.keras.layers.Dense(256, activation = \"relu\")\n",
    "dense_out_cnv = dense_layer_gcn1(dense_out_cnv)\n",
    "dense_out_cnv = tf.keras.layers.BatchNormalization()(dense_out_cnv)\n",
    "dense_out_cnv = tf.keras.layers.Dropout(dropout1)(dense_out_cnv)\n",
    "dense_out_cnv = tf.keras.layers.GlobalAvgPool1D()(dense_out_cnv)\n",
    "\n",
    "# now add the gene expr\n",
    "input_gene_expr = tf.keras.layers.Input(shape = (omics_gen_expr_train.shape[1],1))\n",
    "    \n",
    "l11 = tf.keras.layers.Dense(32)(input_gene_expr)\n",
    "l11 = tf.keras.layers.Dropout(dropout1)(l11)\n",
    "l21 = tf.keras.layers.Dense(128)(l11)\n",
    "l21 = tf.keras.layers.Dropout(dropout1)(l21)\n",
    "    \n",
    "dense_layer_gcn2 = tf.keras.layers.Dense(256, activation = \"relu\")\n",
    "dense_out_expr = dense_layer_gcn2(l21)\n",
    "dense_out_expr = tf.keras.layers.BatchNormalization()(dense_out_expr)\n",
    "dense_out_expr = tf.keras.layers.Dropout(dropout1)(dense_out_expr)\n",
    "# mult_21 = tf.keras.layers.Dot(1)([const_input, dense_out1])\n",
    "dense_layer_gcn2 = tf.keras.layers.Dense(256, activation = \"relu\")\n",
    "dense_out_expr = dense_layer_gcn2(dense_out_expr)\n",
    "dense_out_expr = tf.keras.layers.BatchNormalization()(dense_out_expr)\n",
    "dense_out_expr = tf.keras.layers.Dropout(dropout1)(dense_out_expr)\n",
    "dense_layer_gcn2 = tf.keras.layers.Dense(256, activation = \"relu\")\n",
    "dense_out_expr = dense_layer_gcn2(dense_out_expr)\n",
    "dense_out_expr = tf.keras.layers.BatchNormalization()(dense_out_expr)\n",
    "dense_out_expr = tf.keras.layers.Dropout(dropout1)(dense_out_expr)\n",
    "dense_layer_gcn2 = tf.keras.layers.Dense(256, activation = \"relu\")\n",
    "dense_out_expr = dense_layer_gcn2(dense_out_expr)\n",
    "dense_out_expr = tf.keras.layers.BatchNormalization()(dense_out_expr)\n",
    "dense_out_expr = tf.keras.layers.Dropout(dropout1)(dense_out_expr)\n",
    "dense_out_expr = tf.keras.layers.GlobalAvgPool1D()(dense_out_expr)"
   ]
  },
  {
   "cell_type": "code",
   "execution_count": 122,
   "id": "d873bfc5-fb61-4529-b989-424509ba4315",
   "metadata": {},
   "outputs": [],
   "source": [
    "all_omics = tf.keras.layers.Concatenate()([ dense_out_cnv, dense_out_expr, dense_out])"
   ]
  },
  {
   "cell_type": "code",
   "execution_count": 123,
   "id": "c09578f7-e654-451c-91bb-38ec98bda3cc",
   "metadata": {},
   "outputs": [],
   "source": [
    "x = tf.keras.layers.Dense(256,activation = 'tanh')(all_omics)\n",
    "x = tf.keras.layers.Dropout(0.3)(x)\n",
    "x = tf.keras.layers.Dense(128,activation = 'tanh')(x)\n",
    "x = tf.keras.layers.Dropout(0.2)(x)\n",
    "x = tf.keras.layers.Dense(10,activation = 'tanh')(x)"
   ]
  },
  {
   "cell_type": "code",
   "execution_count": 124,
   "id": "720ae0ed-8be9-44de-8beb-41155d444e76",
   "metadata": {},
   "outputs": [],
   "source": [
    "final_out_layer = tf.keras.layers.Dense(1)"
   ]
  },
  {
   "cell_type": "code",
   "execution_count": 125,
   "id": "a284faa6-42ed-4834-ab75-28291c65eb15",
   "metadata": {},
   "outputs": [],
   "source": [
    "final_out = final_out_layer(x)"
   ]
  },
  {
   "cell_type": "code",
   "execution_count": 126,
   "id": "dfe36747-9e6d-4f55-abaa-a52ef150d1f7",
   "metadata": {},
   "outputs": [],
   "source": [
    "simplegcn = tf.keras.models.Model([input_gcn_features, input_norm_adj_mat, input_cnv, input_gene_expr], final_out)"
   ]
  },
  {
   "cell_type": "code",
   "execution_count": 127,
   "id": "6179d8a4-d66a-4084-a944-bc3fced8da92",
   "metadata": {},
   "outputs": [
    {
     "name": "stdout",
     "output_type": "stream",
     "text": [
      "Model: \"model\"\n",
      "__________________________________________________________________________________________________\n",
      " Layer (type)                Output Shape                 Param #   Connected to                  \n",
      "==================================================================================================\n",
      " input_3 (InputLayer)        [(None, 691, 1)]             0         []                            \n",
      "                                                                                                  \n",
      " input_4 (InputLayer)        [(None, 691, 1)]             0         []                            \n",
      "                                                                                                  \n",
      " dense_2 (Dense)             (None, 691, 32)              64        ['input_3[0][0]']             \n",
      "                                                                                                  \n",
      " dense_8 (Dense)             (None, 691, 32)              64        ['input_4[0][0]']             \n",
      "                                                                                                  \n",
      " dropout_2 (Dropout)         (None, 691, 32)              0         ['dense_2[0][0]']             \n",
      "                                                                                                  \n",
      " dropout_8 (Dropout)         (None, 691, 32)              0         ['dense_8[0][0]']             \n",
      "                                                                                                  \n",
      " dense_3 (Dense)             (None, 691, 128)             4224      ['dropout_2[0][0]']           \n",
      "                                                                                                  \n",
      " dense_9 (Dense)             (None, 691, 128)             4224      ['dropout_8[0][0]']           \n",
      "                                                                                                  \n",
      " dropout_3 (Dropout)         (None, 691, 128)             0         ['dense_3[0][0]']             \n",
      "                                                                                                  \n",
      " dropout_9 (Dropout)         (None, 691, 128)             0         ['dense_9[0][0]']             \n",
      "                                                                                                  \n",
      " dense_4 (Dense)             (None, 691, 256)             33024     ['dropout_3[0][0]']           \n",
      "                                                                                                  \n",
      " dense_10 (Dense)            (None, 691, 256)             33024     ['dropout_9[0][0]']           \n",
      "                                                                                                  \n",
      " batch_normalization_2 (Bat  (None, 691, 256)             1024      ['dense_4[0][0]']             \n",
      " chNormalization)                                                                                 \n",
      "                                                                                                  \n",
      " batch_normalization_6 (Bat  (None, 691, 256)             1024      ['dense_10[0][0]']            \n",
      " chNormalization)                                                                                 \n",
      "                                                                                                  \n",
      " dropout_4 (Dropout)         (None, 691, 256)             0         ['batch_normalization_2[0][0]'\n",
      "                                                                    ]                             \n",
      "                                                                                                  \n",
      " dropout_10 (Dropout)        (None, 691, 256)             0         ['batch_normalization_6[0][0]'\n",
      "                                                                    ]                             \n",
      "                                                                                                  \n",
      " dense_5 (Dense)             (None, 691, 256)             65792     ['dropout_4[0][0]']           \n",
      "                                                                                                  \n",
      " dense_11 (Dense)            (None, 691, 256)             65792     ['dropout_10[0][0]']          \n",
      "                                                                                                  \n",
      " input_2 (InputLayer)        [(None, 100, 100)]           0         []                            \n",
      "                                                                                                  \n",
      " input_1 (InputLayer)        [(None, 100, 75)]            0         []                            \n",
      "                                                                                                  \n",
      " batch_normalization_3 (Bat  (None, 691, 256)             1024      ['dense_5[0][0]']             \n",
      " chNormalization)                                                                                 \n",
      "                                                                                                  \n",
      " batch_normalization_7 (Bat  (None, 691, 256)             1024      ['dense_11[0][0]']            \n",
      " chNormalization)                                                                                 \n",
      "                                                                                                  \n",
      " dot (Dot)                   (None, 100, 75)              0         ['input_2[0][0]',             \n",
      "                                                                     'input_1[0][0]']             \n",
      "                                                                                                  \n",
      " dropout_5 (Dropout)         (None, 691, 256)             0         ['batch_normalization_3[0][0]'\n",
      "                                                                    ]                             \n",
      "                                                                                                  \n",
      " dropout_11 (Dropout)        (None, 691, 256)             0         ['batch_normalization_7[0][0]'\n",
      "                                                                    ]                             \n",
      "                                                                                                  \n",
      " dense (Dense)               (None, 100, 256)             19456     ['dot[0][0]']                 \n",
      "                                                                                                  \n",
      " dense_6 (Dense)             (None, 691, 256)             65792     ['dropout_5[0][0]']           \n",
      "                                                                                                  \n",
      " dense_12 (Dense)            (None, 691, 256)             65792     ['dropout_11[0][0]']          \n",
      "                                                                                                  \n",
      " batch_normalization (Batch  (None, 100, 256)             1024      ['dense[0][0]']               \n",
      " Normalization)                                                                                   \n",
      "                                                                                                  \n",
      " batch_normalization_4 (Bat  (None, 691, 256)             1024      ['dense_6[0][0]']             \n",
      " chNormalization)                                                                                 \n",
      "                                                                                                  \n",
      " batch_normalization_8 (Bat  (None, 691, 256)             1024      ['dense_12[0][0]']            \n",
      " chNormalization)                                                                                 \n",
      "                                                                                                  \n",
      " dropout (Dropout)           (None, 100, 256)             0         ['batch_normalization[0][0]'] \n",
      "                                                                                                  \n",
      " dropout_6 (Dropout)         (None, 691, 256)             0         ['batch_normalization_4[0][0]'\n",
      "                                                                    ]                             \n",
      "                                                                                                  \n",
      " dropout_12 (Dropout)        (None, 691, 256)             0         ['batch_normalization_8[0][0]'\n",
      "                                                                    ]                             \n",
      "                                                                                                  \n",
      " dot_1 (Dot)                 (None, 100, 256)             0         ['input_2[0][0]',             \n",
      "                                                                     'dropout[0][0]']             \n",
      "                                                                                                  \n",
      " dense_7 (Dense)             (None, 691, 256)             65792     ['dropout_6[0][0]']           \n",
      "                                                                                                  \n",
      " dense_13 (Dense)            (None, 691, 256)             65792     ['dropout_12[0][0]']          \n",
      "                                                                                                  \n",
      " dense_1 (Dense)             (None, 100, 128)             32896     ['dot_1[0][0]']               \n",
      "                                                                                                  \n",
      " batch_normalization_5 (Bat  (None, 691, 256)             1024      ['dense_7[0][0]']             \n",
      " chNormalization)                                                                                 \n",
      "                                                                                                  \n",
      " batch_normalization_9 (Bat  (None, 691, 256)             1024      ['dense_13[0][0]']            \n",
      " chNormalization)                                                                                 \n",
      "                                                                                                  \n",
      " batch_normalization_1 (Bat  (None, 100, 128)             512       ['dense_1[0][0]']             \n",
      " chNormalization)                                                                                 \n",
      "                                                                                                  \n",
      " dropout_7 (Dropout)         (None, 691, 256)             0         ['batch_normalization_5[0][0]'\n",
      "                                                                    ]                             \n",
      "                                                                                                  \n",
      " dropout_13 (Dropout)        (None, 691, 256)             0         ['batch_normalization_9[0][0]'\n",
      "                                                                    ]                             \n",
      "                                                                                                  \n",
      " dropout_1 (Dropout)         (None, 100, 128)             0         ['batch_normalization_1[0][0]'\n",
      "                                                                    ]                             \n",
      "                                                                                                  \n",
      " global_average_pooling1d_1  (None, 256)                  0         ['dropout_7[0][0]']           \n",
      "  (GlobalAveragePooling1D)                                                                        \n",
      "                                                                                                  \n",
      " global_average_pooling1d_2  (None, 256)                  0         ['dropout_13[0][0]']          \n",
      "  (GlobalAveragePooling1D)                                                                        \n",
      "                                                                                                  \n",
      " global_average_pooling1d (  (None, 128)                  0         ['dropout_1[0][0]']           \n",
      " GlobalAveragePooling1D)                                                                          \n",
      "                                                                                                  \n",
      " concatenate (Concatenate)   (None, 640)                  0         ['global_average_pooling1d_1[0\n",
      "                                                                    ][0]',                        \n",
      "                                                                     'global_average_pooling1d_2[0\n",
      "                                                                    ][0]',                        \n",
      "                                                                     'global_average_pooling1d[0][\n",
      "                                                                    0]']                          \n",
      "                                                                                                  \n",
      " dense_14 (Dense)            (None, 256)                  164096    ['concatenate[0][0]']         \n",
      "                                                                                                  \n",
      " dropout_14 (Dropout)        (None, 256)                  0         ['dense_14[0][0]']            \n",
      "                                                                                                  \n",
      " dense_15 (Dense)            (None, 128)                  32896     ['dropout_14[0][0]']          \n",
      "                                                                                                  \n",
      " dropout_15 (Dropout)        (None, 128)                  0         ['dense_15[0][0]']            \n",
      "                                                                                                  \n",
      " dense_16 (Dense)            (None, 10)                   1290      ['dropout_15[0][0]']          \n",
      "                                                                                                  \n",
      " dense_17 (Dense)            (None, 1)                    11        ['dense_16[0][0]']            \n",
      "                                                                                                  \n",
      "==================================================================================================\n",
      "Total params: 729749 (2.78 MB)\n",
      "Trainable params: 724885 (2.77 MB)\n",
      "Non-trainable params: 4864 (19.00 KB)\n",
      "__________________________________________________________________________________________________\n"
     ]
    }
   ],
   "source": [
    "simplegcn.summary()"
   ]
  },
  {
   "cell_type": "code",
   "execution_count": 128,
   "id": "e83ba73d-bc93-4d35-948a-3b99fa03ba78",
   "metadata": {},
   "outputs": [
    {
     "name": "stderr",
     "output_type": "stream",
     "text": [
      "WARNING:absl:`lr` is deprecated in Keras optimizer, please use `learning_rate` or use the legacy optimizer, e.g.,tf.keras.optimizers.legacy.Adam.\n"
     ]
    }
   ],
   "source": [
    "simplegcn.compile(loss = tf.keras.losses.MeanSquaredError(), \n",
    "                    optimizer = tf.keras.optimizers.Adam(lr=0.001), \n",
    "                    metrics = [tf.keras.metrics.RootMeanSquaredError()])"
   ]
  },
  {
   "cell_type": "code",
   "execution_count": 129,
   "id": "ebff6df3-7a4a-4fe9-870e-45bab44001ff",
   "metadata": {},
   "outputs": [
    {
     "name": "stdout",
     "output_type": "stream",
     "text": [
      "Epoch 1/1000\n"
     ]
    },
    {
     "name": "stderr",
     "output_type": "stream",
     "text": [
      "2024-07-11 16:45:54.691523: I external/local_xla/xla/service/service.cc:168] XLA service 0x146a79a10fa0 initialized for platform CUDA (this does not guarantee that XLA will be used). Devices:\n",
      "2024-07-11 16:45:54.691566: I external/local_xla/xla/service/service.cc:176]   StreamExecutor device (0): Tesla V100S-PCIE-32GB, Compute Capability 7.0\n",
      "2024-07-11 16:45:54.725810: I tensorflow/compiler/mlir/tensorflow/utils/dump_mlir_util.cc:269] disabling MLIR crash reproducer, set env var `MLIR_CRASH_REPRODUCER_DIRECTORY` to enable.\n",
      "2024-07-11 16:45:54.801654: I external/local_xla/xla/stream_executor/cuda/cuda_dnn.cc:454] Loaded cuDNN version 8907\n",
      "WARNING: All log messages before absl::InitializeLog() is called are written to STDERR\n",
      "I0000 00:00:1720734354.999532   65908 device_compiler.h:186] Compiled cluster using XLA!  This line is logged at most once for the lifetime of the process.\n"
     ]
    },
    {
     "name": "stdout",
     "output_type": "stream",
     "text": [
      "109/109 [==============================] - 42s 301ms/step - loss: 5.3095 - root_mean_squared_error: 2.3042 - val_loss: 8.3218 - val_root_mean_squared_error: 2.8848\n",
      "Epoch 2/1000\n",
      "109/109 [==============================] - 30s 278ms/step - loss: 3.2868 - root_mean_squared_error: 1.8130 - val_loss: 9.5002 - val_root_mean_squared_error: 3.0822\n",
      "Epoch 3/1000\n",
      "109/109 [==============================] - 30s 279ms/step - loss: 2.7924 - root_mean_squared_error: 1.6710 - val_loss: 8.0117 - val_root_mean_squared_error: 2.8305\n",
      "Epoch 4/1000\n",
      "109/109 [==============================] - 31s 280ms/step - loss: 2.5655 - root_mean_squared_error: 1.6017 - val_loss: 6.3995 - val_root_mean_squared_error: 2.5297\n",
      "Epoch 5/1000\n",
      "109/109 [==============================] - 30s 279ms/step - loss: 2.4617 - root_mean_squared_error: 1.5690 - val_loss: 8.7216 - val_root_mean_squared_error: 2.9532\n",
      "Epoch 6/1000\n",
      "109/109 [==============================] - 31s 280ms/step - loss: 2.3681 - root_mean_squared_error: 1.5389 - val_loss: 3.4859 - val_root_mean_squared_error: 1.8671\n",
      "Epoch 7/1000\n",
      "109/109 [==============================] - 30s 280ms/step - loss: 2.3388 - root_mean_squared_error: 1.5293 - val_loss: 2.7433 - val_root_mean_squared_error: 1.6563\n",
      "Epoch 8/1000\n",
      "109/109 [==============================] - 30s 279ms/step - loss: 2.2798 - root_mean_squared_error: 1.5099 - val_loss: 2.6399 - val_root_mean_squared_error: 1.6248\n",
      "Epoch 9/1000\n",
      "109/109 [==============================] - 30s 279ms/step - loss: 2.2550 - root_mean_squared_error: 1.5017 - val_loss: 5.6858 - val_root_mean_squared_error: 2.3845\n",
      "Epoch 10/1000\n",
      "109/109 [==============================] - 31s 280ms/step - loss: 2.2223 - root_mean_squared_error: 1.4907 - val_loss: 2.8508 - val_root_mean_squared_error: 1.6884\n",
      "Epoch 11/1000\n",
      "109/109 [==============================] - 30s 279ms/step - loss: 2.2080 - root_mean_squared_error: 1.4859 - val_loss: 3.4184 - val_root_mean_squared_error: 1.8489\n",
      "Epoch 12/1000\n",
      "109/109 [==============================] - 30s 279ms/step - loss: 2.1922 - root_mean_squared_error: 1.4806 - val_loss: 2.3520 - val_root_mean_squared_error: 1.5336\n",
      "Epoch 13/1000\n",
      "109/109 [==============================] - 30s 279ms/step - loss: 2.1738 - root_mean_squared_error: 1.4744 - val_loss: 2.3792 - val_root_mean_squared_error: 1.5425\n",
      "Epoch 14/1000\n",
      "109/109 [==============================] - 30s 280ms/step - loss: 2.1604 - root_mean_squared_error: 1.4698 - val_loss: 2.3500 - val_root_mean_squared_error: 1.5330\n",
      "Epoch 15/1000\n",
      "109/109 [==============================] - 30s 279ms/step - loss: 2.1471 - root_mean_squared_error: 1.4653 - val_loss: 2.2742 - val_root_mean_squared_error: 1.5080\n",
      "Epoch 16/1000\n",
      "109/109 [==============================] - 30s 279ms/step - loss: 2.1426 - root_mean_squared_error: 1.4638 - val_loss: 2.8702 - val_root_mean_squared_error: 1.6942\n",
      "Epoch 17/1000\n",
      "109/109 [==============================] - 30s 279ms/step - loss: 2.1266 - root_mean_squared_error: 1.4583 - val_loss: 2.1315 - val_root_mean_squared_error: 1.4600\n",
      "Epoch 18/1000\n",
      "109/109 [==============================] - 30s 278ms/step - loss: 2.1158 - root_mean_squared_error: 1.4546 - val_loss: 2.1477 - val_root_mean_squared_error: 1.4655\n",
      "Epoch 19/1000\n",
      "109/109 [==============================] - 30s 280ms/step - loss: 2.1232 - root_mean_squared_error: 1.4571 - val_loss: 2.2201 - val_root_mean_squared_error: 1.4900\n",
      "Epoch 20/1000\n",
      "109/109 [==============================] - 30s 279ms/step - loss: 2.1133 - root_mean_squared_error: 1.4537 - val_loss: 2.0703 - val_root_mean_squared_error: 1.4389\n",
      "Epoch 21/1000\n",
      "109/109 [==============================] - 30s 279ms/step - loss: 2.1098 - root_mean_squared_error: 1.4525 - val_loss: 2.6098 - val_root_mean_squared_error: 1.6155\n",
      "Epoch 22/1000\n",
      "109/109 [==============================] - 30s 279ms/step - loss: 2.0904 - root_mean_squared_error: 1.4458 - val_loss: 2.0911 - val_root_mean_squared_error: 1.4461\n",
      "Epoch 23/1000\n",
      "109/109 [==============================] - 30s 279ms/step - loss: 2.0777 - root_mean_squared_error: 1.4414 - val_loss: 2.0683 - val_root_mean_squared_error: 1.4381\n",
      "Epoch 24/1000\n",
      "109/109 [==============================] - 30s 279ms/step - loss: 2.0805 - root_mean_squared_error: 1.4424 - val_loss: 4.2931 - val_root_mean_squared_error: 2.0720\n",
      "Epoch 25/1000\n",
      "109/109 [==============================] - 30s 279ms/step - loss: 2.0792 - root_mean_squared_error: 1.4420 - val_loss: 2.0651 - val_root_mean_squared_error: 1.4371\n",
      "Epoch 26/1000\n",
      "109/109 [==============================] - 30s 280ms/step - loss: 2.0735 - root_mean_squared_error: 1.4400 - val_loss: 2.3711 - val_root_mean_squared_error: 1.5398\n",
      "Epoch 27/1000\n",
      "109/109 [==============================] - 30s 279ms/step - loss: 2.0664 - root_mean_squared_error: 1.4375 - val_loss: 2.1918 - val_root_mean_squared_error: 1.4805\n",
      "Epoch 28/1000\n",
      "109/109 [==============================] - 30s 279ms/step - loss: 2.0649 - root_mean_squared_error: 1.4370 - val_loss: 2.0759 - val_root_mean_squared_error: 1.4408\n",
      "Epoch 29/1000\n",
      "109/109 [==============================] - 30s 279ms/step - loss: 2.0613 - root_mean_squared_error: 1.4357 - val_loss: 2.4199 - val_root_mean_squared_error: 1.5556\n",
      "Epoch 30/1000\n",
      "109/109 [==============================] - 30s 280ms/step - loss: 2.0488 - root_mean_squared_error: 1.4314 - val_loss: 2.1207 - val_root_mean_squared_error: 1.4563\n",
      "Epoch 31/1000\n",
      "109/109 [==============================] - 30s 279ms/step - loss: 2.0496 - root_mean_squared_error: 1.4316 - val_loss: 1.9697 - val_root_mean_squared_error: 1.4034\n",
      "Epoch 32/1000\n",
      "109/109 [==============================] - 30s 279ms/step - loss: 2.0396 - root_mean_squared_error: 1.4282 - val_loss: 2.3757 - val_root_mean_squared_error: 1.5413\n",
      "Epoch 33/1000\n",
      "109/109 [==============================] - 30s 278ms/step - loss: 2.0335 - root_mean_squared_error: 1.4260 - val_loss: 2.0998 - val_root_mean_squared_error: 1.4491\n",
      "Epoch 34/1000\n",
      "109/109 [==============================] - 30s 279ms/step - loss: 2.0349 - root_mean_squared_error: 1.4265 - val_loss: 2.4062 - val_root_mean_squared_error: 1.5512\n",
      "Epoch 35/1000\n",
      "109/109 [==============================] - 30s 278ms/step - loss: 2.0245 - root_mean_squared_error: 1.4228 - val_loss: 2.0704 - val_root_mean_squared_error: 1.4389\n",
      "Epoch 36/1000\n",
      "109/109 [==============================] - 30s 278ms/step - loss: 2.0383 - root_mean_squared_error: 1.4277 - val_loss: 2.0699 - val_root_mean_squared_error: 1.4387\n",
      "Epoch 37/1000\n",
      "109/109 [==============================] - 30s 279ms/step - loss: 2.0366 - root_mean_squared_error: 1.4271 - val_loss: 2.0120 - val_root_mean_squared_error: 1.4185\n",
      "Epoch 38/1000\n",
      "109/109 [==============================] - 30s 278ms/step - loss: 2.0242 - root_mean_squared_error: 1.4228 - val_loss: 2.0986 - val_root_mean_squared_error: 1.4487\n",
      "Epoch 39/1000\n",
      "109/109 [==============================] - 30s 279ms/step - loss: 2.0191 - root_mean_squared_error: 1.4209 - val_loss: 2.2890 - val_root_mean_squared_error: 1.5130\n",
      "Epoch 40/1000\n",
      "109/109 [==============================] - 30s 279ms/step - loss: 2.0138 - root_mean_squared_error: 1.4191 - val_loss: 2.0876 - val_root_mean_squared_error: 1.4449\n",
      "Epoch 41/1000\n",
      "109/109 [==============================] - 30s 279ms/step - loss: 2.0053 - root_mean_squared_error: 1.4161 - val_loss: 2.0307 - val_root_mean_squared_error: 1.4250\n",
      "Epoch 42/1000\n",
      "109/109 [==============================] - 30s 278ms/step - loss: 2.0097 - root_mean_squared_error: 1.4176 - val_loss: 2.1082 - val_root_mean_squared_error: 1.4520\n",
      "Epoch 43/1000\n",
      "109/109 [==============================] - 31s 280ms/step - loss: 2.0153 - root_mean_squared_error: 1.4196 - val_loss: 2.1178 - val_root_mean_squared_error: 1.4553\n",
      "Epoch 44/1000\n",
      "109/109 [==============================] - 30s 279ms/step - loss: 1.9968 - root_mean_squared_error: 1.4131 - val_loss: 1.9850 - val_root_mean_squared_error: 1.4089\n",
      "Epoch 45/1000\n",
      "109/109 [==============================] - 30s 279ms/step - loss: 1.9923 - root_mean_squared_error: 1.4115 - val_loss: 1.9601 - val_root_mean_squared_error: 1.4000\n",
      "Epoch 46/1000\n",
      "109/109 [==============================] - 30s 279ms/step - loss: 1.9937 - root_mean_squared_error: 1.4120 - val_loss: 2.0334 - val_root_mean_squared_error: 1.4260\n",
      "Epoch 47/1000\n",
      "109/109 [==============================] - 30s 280ms/step - loss: 1.9847 - root_mean_squared_error: 1.4088 - val_loss: 2.3068 - val_root_mean_squared_error: 1.5188\n",
      "Epoch 48/1000\n",
      "109/109 [==============================] - 30s 279ms/step - loss: 1.9876 - root_mean_squared_error: 1.4098 - val_loss: 2.0408 - val_root_mean_squared_error: 1.4286\n",
      "Epoch 49/1000\n",
      "109/109 [==============================] - 30s 279ms/step - loss: 1.9783 - root_mean_squared_error: 1.4065 - val_loss: 1.9709 - val_root_mean_squared_error: 1.4039\n",
      "Epoch 50/1000\n",
      "109/109 [==============================] - 30s 280ms/step - loss: 1.9922 - root_mean_squared_error: 1.4115 - val_loss: 2.1661 - val_root_mean_squared_error: 1.4718\n",
      "Epoch 51/1000\n",
      "109/109 [==============================] - 30s 279ms/step - loss: 1.9873 - root_mean_squared_error: 1.4097 - val_loss: 2.0114 - val_root_mean_squared_error: 1.4182\n",
      "Epoch 52/1000\n",
      "109/109 [==============================] - 31s 280ms/step - loss: 1.9814 - root_mean_squared_error: 1.4076 - val_loss: 1.9523 - val_root_mean_squared_error: 1.3972\n",
      "Epoch 53/1000\n",
      "109/109 [==============================] - 30s 279ms/step - loss: 1.9724 - root_mean_squared_error: 1.4044 - val_loss: 2.3952 - val_root_mean_squared_error: 1.5476\n",
      "Epoch 54/1000\n",
      "109/109 [==============================] - 30s 279ms/step - loss: 1.9741 - root_mean_squared_error: 1.4050 - val_loss: 2.5885 - val_root_mean_squared_error: 1.6089\n",
      "Epoch 55/1000\n",
      "109/109 [==============================] - 30s 280ms/step - loss: 1.9735 - root_mean_squared_error: 1.4048 - val_loss: 2.0013 - val_root_mean_squared_error: 1.4147\n",
      "Epoch 56/1000\n",
      "109/109 [==============================] - 30s 279ms/step - loss: 1.9612 - root_mean_squared_error: 1.4004 - val_loss: 1.9915 - val_root_mean_squared_error: 1.4112\n",
      "Epoch 57/1000\n",
      "109/109 [==============================] - 31s 280ms/step - loss: 1.9720 - root_mean_squared_error: 1.4043 - val_loss: 1.9245 - val_root_mean_squared_error: 1.3873\n",
      "Epoch 58/1000\n",
      "109/109 [==============================] - 30s 279ms/step - loss: 1.9683 - root_mean_squared_error: 1.4030 - val_loss: 1.9673 - val_root_mean_squared_error: 1.4026\n",
      "Epoch 59/1000\n",
      "109/109 [==============================] - 30s 279ms/step - loss: 1.9576 - root_mean_squared_error: 1.3991 - val_loss: 2.1272 - val_root_mean_squared_error: 1.4585\n",
      "Epoch 60/1000\n",
      "109/109 [==============================] - 30s 279ms/step - loss: 1.9544 - root_mean_squared_error: 1.3980 - val_loss: 1.9593 - val_root_mean_squared_error: 1.3998\n",
      "Epoch 61/1000\n",
      "109/109 [==============================] - 30s 279ms/step - loss: 1.9589 - root_mean_squared_error: 1.3996 - val_loss: 2.3564 - val_root_mean_squared_error: 1.5351\n",
      "Epoch 62/1000\n",
      "109/109 [==============================] - 30s 279ms/step - loss: 1.9540 - root_mean_squared_error: 1.3979 - val_loss: 2.1459 - val_root_mean_squared_error: 1.4649\n",
      "Epoch 63/1000\n",
      "109/109 [==============================] - 30s 279ms/step - loss: 1.9397 - root_mean_squared_error: 1.3927 - val_loss: 1.9951 - val_root_mean_squared_error: 1.4125\n",
      "Epoch 64/1000\n",
      "109/109 [==============================] - 30s 279ms/step - loss: 1.9501 - root_mean_squared_error: 1.3965 - val_loss: 1.9113 - val_root_mean_squared_error: 1.3825\n",
      "Epoch 65/1000\n",
      "109/109 [==============================] - 30s 279ms/step - loss: 1.9384 - root_mean_squared_error: 1.3923 - val_loss: 1.9890 - val_root_mean_squared_error: 1.4103\n",
      "Epoch 66/1000\n",
      "109/109 [==============================] - 30s 279ms/step - loss: 1.9465 - root_mean_squared_error: 1.3952 - val_loss: 2.0026 - val_root_mean_squared_error: 1.4151\n",
      "Epoch 67/1000\n",
      "109/109 [==============================] - 30s 279ms/step - loss: 1.9350 - root_mean_squared_error: 1.3910 - val_loss: 1.9529 - val_root_mean_squared_error: 1.3975\n",
      "Epoch 68/1000\n",
      "109/109 [==============================] - 30s 279ms/step - loss: 1.9368 - root_mean_squared_error: 1.3917 - val_loss: 1.9379 - val_root_mean_squared_error: 1.3921\n",
      "Epoch 69/1000\n",
      "109/109 [==============================] - 30s 278ms/step - loss: 1.9470 - root_mean_squared_error: 1.3954 - val_loss: 2.1518 - val_root_mean_squared_error: 1.4669\n",
      "Epoch 70/1000\n",
      "109/109 [==============================] - 30s 279ms/step - loss: 1.9323 - root_mean_squared_error: 1.3901 - val_loss: 2.2851 - val_root_mean_squared_error: 1.5117\n",
      "Epoch 71/1000\n",
      "109/109 [==============================] - 30s 278ms/step - loss: 1.9433 - root_mean_squared_error: 1.3940 - val_loss: 1.9208 - val_root_mean_squared_error: 1.3859\n",
      "Epoch 72/1000\n",
      "109/109 [==============================] - 30s 279ms/step - loss: 1.9281 - root_mean_squared_error: 1.3886 - val_loss: 2.1182 - val_root_mean_squared_error: 1.4554\n",
      "Epoch 73/1000\n",
      "109/109 [==============================] - 30s 279ms/step - loss: 1.9286 - root_mean_squared_error: 1.3887 - val_loss: 1.9777 - val_root_mean_squared_error: 1.4063\n",
      "Epoch 74/1000\n",
      "109/109 [==============================] - 30s 280ms/step - loss: 1.9320 - root_mean_squared_error: 1.3900 - val_loss: 1.9394 - val_root_mean_squared_error: 1.3926\n",
      "Epoch 75/1000\n",
      "109/109 [==============================] - 30s 279ms/step - loss: 1.9228 - root_mean_squared_error: 1.3866 - val_loss: 2.0717 - val_root_mean_squared_error: 1.4393\n",
      "Epoch 76/1000\n",
      "109/109 [==============================] - 31s 280ms/step - loss: 1.9322 - root_mean_squared_error: 1.3900 - val_loss: 1.8817 - val_root_mean_squared_error: 1.3717\n",
      "Epoch 77/1000\n",
      "109/109 [==============================] - 30s 280ms/step - loss: 1.9199 - root_mean_squared_error: 1.3856 - val_loss: 1.8875 - val_root_mean_squared_error: 1.3739\n",
      "Epoch 78/1000\n",
      "109/109 [==============================] - 30s 279ms/step - loss: 1.9195 - root_mean_squared_error: 1.3855 - val_loss: 1.9654 - val_root_mean_squared_error: 1.4019\n",
      "Epoch 79/1000\n",
      "109/109 [==============================] - 30s 280ms/step - loss: 1.9205 - root_mean_squared_error: 1.3858 - val_loss: 1.9612 - val_root_mean_squared_error: 1.4004\n",
      "Epoch 80/1000\n",
      "109/109 [==============================] - 30s 279ms/step - loss: 1.9221 - root_mean_squared_error: 1.3864 - val_loss: 2.0297 - val_root_mean_squared_error: 1.4247\n",
      "Epoch 81/1000\n",
      "109/109 [==============================] - 30s 279ms/step - loss: 1.9192 - root_mean_squared_error: 1.3853 - val_loss: 1.9977 - val_root_mean_squared_error: 1.4134\n",
      "Epoch 82/1000\n",
      "109/109 [==============================] - 30s 279ms/step - loss: 1.9189 - root_mean_squared_error: 1.3852 - val_loss: 1.9213 - val_root_mean_squared_error: 1.3861\n",
      "Epoch 83/1000\n",
      "109/109 [==============================] - 30s 279ms/step - loss: 1.9139 - root_mean_squared_error: 1.3834 - val_loss: 2.1397 - val_root_mean_squared_error: 1.4628\n",
      "Epoch 84/1000\n",
      "109/109 [==============================] - 30s 279ms/step - loss: 1.9112 - root_mean_squared_error: 1.3825 - val_loss: 1.9573 - val_root_mean_squared_error: 1.3991\n",
      "Epoch 85/1000\n",
      "109/109 [==============================] - 30s 278ms/step - loss: 1.9079 - root_mean_squared_error: 1.3813 - val_loss: 1.9464 - val_root_mean_squared_error: 1.3951\n",
      "Epoch 86/1000\n",
      "109/109 [==============================] - 30s 280ms/step - loss: 1.9145 - root_mean_squared_error: 1.3837 - val_loss: 1.9307 - val_root_mean_squared_error: 1.3895\n",
      "Epoch 87/1000\n",
      "109/109 [==============================] - 30s 279ms/step - loss: 1.9104 - root_mean_squared_error: 1.3822 - val_loss: 1.9347 - val_root_mean_squared_error: 1.3909\n",
      "Epoch 88/1000\n",
      "109/109 [==============================] - 30s 279ms/step - loss: 1.9030 - root_mean_squared_error: 1.3795 - val_loss: 2.0339 - val_root_mean_squared_error: 1.4262\n",
      "Epoch 89/1000\n",
      "109/109 [==============================] - 30s 279ms/step - loss: 1.9071 - root_mean_squared_error: 1.3810 - val_loss: 1.8911 - val_root_mean_squared_error: 1.3752\n",
      "Epoch 90/1000\n",
      "109/109 [==============================] - 30s 279ms/step - loss: 1.8982 - root_mean_squared_error: 1.3778 - val_loss: 1.9098 - val_root_mean_squared_error: 1.3820\n",
      "Epoch 91/1000\n",
      "109/109 [==============================] - 30s 279ms/step - loss: 1.8949 - root_mean_squared_error: 1.3766 - val_loss: 1.9001 - val_root_mean_squared_error: 1.3784\n",
      "Epoch 92/1000\n",
      "109/109 [==============================] - 30s 279ms/step - loss: 1.9036 - root_mean_squared_error: 1.3797 - val_loss: 1.8792 - val_root_mean_squared_error: 1.3709\n",
      "Epoch 93/1000\n",
      "109/109 [==============================] - 30s 278ms/step - loss: 1.9003 - root_mean_squared_error: 1.3785 - val_loss: 1.9462 - val_root_mean_squared_error: 1.3951\n",
      "Epoch 94/1000\n",
      "109/109 [==============================] - 30s 279ms/step - loss: 1.8941 - root_mean_squared_error: 1.3763 - val_loss: 1.9587 - val_root_mean_squared_error: 1.3995\n",
      "Epoch 95/1000\n",
      "109/109 [==============================] - 30s 279ms/step - loss: 1.8921 - root_mean_squared_error: 1.3755 - val_loss: 1.8786 - val_root_mean_squared_error: 1.3706\n",
      "Epoch 96/1000\n",
      "109/109 [==============================] - 30s 279ms/step - loss: 1.8892 - root_mean_squared_error: 1.3745 - val_loss: 1.9804 - val_root_mean_squared_error: 1.4073\n",
      "Epoch 97/1000\n",
      "109/109 [==============================] - 30s 279ms/step - loss: 1.8910 - root_mean_squared_error: 1.3751 - val_loss: 1.9693 - val_root_mean_squared_error: 1.4033\n",
      "Epoch 98/1000\n",
      "109/109 [==============================] - 30s 278ms/step - loss: 1.8991 - root_mean_squared_error: 1.3781 - val_loss: 1.9164 - val_root_mean_squared_error: 1.3844\n",
      "Epoch 99/1000\n",
      "109/109 [==============================] - 30s 279ms/step - loss: 1.8849 - root_mean_squared_error: 1.3729 - val_loss: 1.9037 - val_root_mean_squared_error: 1.3798\n",
      "Epoch 100/1000\n",
      "109/109 [==============================] - 30s 279ms/step - loss: 1.8842 - root_mean_squared_error: 1.3727 - val_loss: 2.0164 - val_root_mean_squared_error: 1.4200\n",
      "Epoch 101/1000\n",
      "109/109 [==============================] - 30s 279ms/step - loss: 1.8761 - root_mean_squared_error: 1.3697 - val_loss: 1.9210 - val_root_mean_squared_error: 1.3860\n",
      "Epoch 102/1000\n",
      "109/109 [==============================] - 30s 279ms/step - loss: 1.8804 - root_mean_squared_error: 1.3713 - val_loss: 1.9186 - val_root_mean_squared_error: 1.3851\n",
      "Epoch 103/1000\n",
      "109/109 [==============================] - 30s 279ms/step - loss: 1.8828 - root_mean_squared_error: 1.3722 - val_loss: 1.9329 - val_root_mean_squared_error: 1.3903\n",
      "Epoch 104/1000\n",
      "109/109 [==============================] - 30s 279ms/step - loss: 1.8818 - root_mean_squared_error: 1.3718 - val_loss: 1.8676 - val_root_mean_squared_error: 1.3666\n",
      "Epoch 105/1000\n",
      "109/109 [==============================] - 30s 279ms/step - loss: 1.8682 - root_mean_squared_error: 1.3668 - val_loss: 2.0431 - val_root_mean_squared_error: 1.4294\n",
      "Epoch 106/1000\n",
      "109/109 [==============================] - 30s 279ms/step - loss: 1.8773 - root_mean_squared_error: 1.3701 - val_loss: 1.8911 - val_root_mean_squared_error: 1.3752\n",
      "Epoch 107/1000\n",
      "109/109 [==============================] - 30s 279ms/step - loss: 1.8662 - root_mean_squared_error: 1.3661 - val_loss: 1.8733 - val_root_mean_squared_error: 1.3687\n",
      "Epoch 108/1000\n",
      "109/109 [==============================] - 31s 280ms/step - loss: 1.8635 - root_mean_squared_error: 1.3651 - val_loss: 1.9416 - val_root_mean_squared_error: 1.3934\n",
      "Epoch 109/1000\n",
      "109/109 [==============================] - 30s 279ms/step - loss: 1.8629 - root_mean_squared_error: 1.3649 - val_loss: 1.8970 - val_root_mean_squared_error: 1.3773\n",
      "Epoch 110/1000\n",
      "109/109 [==============================] - 30s 279ms/step - loss: 1.8718 - root_mean_squared_error: 1.3681 - val_loss: 1.9121 - val_root_mean_squared_error: 1.3828\n",
      "Epoch 111/1000\n",
      "109/109 [==============================] - 30s 279ms/step - loss: 1.8682 - root_mean_squared_error: 1.3668 - val_loss: 1.9954 - val_root_mean_squared_error: 1.4126\n",
      "Epoch 112/1000\n",
      "109/109 [==============================] - 31s 280ms/step - loss: 1.8666 - root_mean_squared_error: 1.3662 - val_loss: 1.9427 - val_root_mean_squared_error: 1.3938\n",
      "Epoch 113/1000\n",
      "109/109 [==============================] - 30s 279ms/step - loss: 1.8656 - root_mean_squared_error: 1.3659 - val_loss: 1.8944 - val_root_mean_squared_error: 1.3764\n",
      "Epoch 114/1000\n",
      "109/109 [==============================] - 30s 279ms/step - loss: 1.8609 - root_mean_squared_error: 1.3642 - val_loss: 2.1857 - val_root_mean_squared_error: 1.4784\n",
      "Epoch 115/1000\n",
      "109/109 [==============================] - 30s 280ms/step - loss: 1.8655 - root_mean_squared_error: 1.3658 - val_loss: 1.9823 - val_root_mean_squared_error: 1.4079\n",
      "Epoch 116/1000\n",
      "109/109 [==============================] - 30s 279ms/step - loss: 1.8593 - root_mean_squared_error: 1.3636 - val_loss: 1.9285 - val_root_mean_squared_error: 1.3887\n",
      "Epoch 117/1000\n",
      "109/109 [==============================] - 30s 279ms/step - loss: 1.8576 - root_mean_squared_error: 1.3629 - val_loss: 1.8744 - val_root_mean_squared_error: 1.3691\n",
      "Epoch 118/1000\n",
      "109/109 [==============================] - 30s 279ms/step - loss: 1.8563 - root_mean_squared_error: 1.3625 - val_loss: 1.8692 - val_root_mean_squared_error: 1.3672\n",
      "Epoch 119/1000\n",
      "109/109 [==============================] - 30s 279ms/step - loss: 1.8517 - root_mean_squared_error: 1.3608 - val_loss: 2.1115 - val_root_mean_squared_error: 1.4531\n",
      "Epoch 120/1000\n",
      "109/109 [==============================] - 30s 279ms/step - loss: 1.8525 - root_mean_squared_error: 1.3611 - val_loss: 1.8598 - val_root_mean_squared_error: 1.3638\n",
      "Epoch 121/1000\n",
      "109/109 [==============================] - 30s 279ms/step - loss: 1.8471 - root_mean_squared_error: 1.3591 - val_loss: 1.8749 - val_root_mean_squared_error: 1.3693\n",
      "Epoch 122/1000\n",
      "109/109 [==============================] - 30s 279ms/step - loss: 1.8419 - root_mean_squared_error: 1.3572 - val_loss: 1.9914 - val_root_mean_squared_error: 1.4112\n",
      "Epoch 123/1000\n",
      "109/109 [==============================] - 30s 279ms/step - loss: 1.8465 - root_mean_squared_error: 1.3588 - val_loss: 2.0470 - val_root_mean_squared_error: 1.4307\n",
      "Epoch 124/1000\n",
      "109/109 [==============================] - 30s 278ms/step - loss: 1.8492 - root_mean_squared_error: 1.3599 - val_loss: 2.0053 - val_root_mean_squared_error: 1.4161\n",
      "Epoch 125/1000\n",
      "109/109 [==============================] - 30s 279ms/step - loss: 1.8397 - root_mean_squared_error: 1.3564 - val_loss: 1.9297 - val_root_mean_squared_error: 1.3891\n",
      "Epoch 126/1000\n",
      "109/109 [==============================] - 30s 279ms/step - loss: 1.8380 - root_mean_squared_error: 1.3557 - val_loss: 1.9368 - val_root_mean_squared_error: 1.3917\n",
      "Epoch 127/1000\n",
      "109/109 [==============================] - 30s 279ms/step - loss: 1.8406 - root_mean_squared_error: 1.3567 - val_loss: 2.0762 - val_root_mean_squared_error: 1.4409\n",
      "Epoch 128/1000\n",
      "109/109 [==============================] - 30s 279ms/step - loss: 1.8374 - root_mean_squared_error: 1.3555 - val_loss: 1.9897 - val_root_mean_squared_error: 1.4106\n",
      "Epoch 129/1000\n",
      "109/109 [==============================] - 30s 279ms/step - loss: 1.8348 - root_mean_squared_error: 1.3546 - val_loss: 1.9686 - val_root_mean_squared_error: 1.4031\n",
      "Epoch 130/1000\n",
      "109/109 [==============================] - 30s 279ms/step - loss: 1.8371 - root_mean_squared_error: 1.3554 - val_loss: 1.9556 - val_root_mean_squared_error: 1.3984\n",
      "Epoch 131/1000\n",
      "109/109 [==============================] - 30s 278ms/step - loss: 1.8477 - root_mean_squared_error: 1.3593 - val_loss: 1.9135 - val_root_mean_squared_error: 1.3833\n",
      "Epoch 132/1000\n",
      "109/109 [==============================] - 30s 279ms/step - loss: 1.8362 - root_mean_squared_error: 1.3551 - val_loss: 1.8632 - val_root_mean_squared_error: 1.3650\n",
      "Epoch 133/1000\n",
      "109/109 [==============================] - 30s 279ms/step - loss: 1.8251 - root_mean_squared_error: 1.3509 - val_loss: 1.8796 - val_root_mean_squared_error: 1.3710\n",
      "Epoch 134/1000\n",
      "109/109 [==============================] - 30s 279ms/step - loss: 1.8304 - root_mean_squared_error: 1.3529 - val_loss: 2.0235 - val_root_mean_squared_error: 1.4225\n",
      "Epoch 135/1000\n",
      "109/109 [==============================] - 30s 279ms/step - loss: 1.8283 - root_mean_squared_error: 1.3521 - val_loss: 2.0107 - val_root_mean_squared_error: 1.4180\n",
      "Epoch 136/1000\n",
      "109/109 [==============================] - 30s 279ms/step - loss: 1.8286 - root_mean_squared_error: 1.3523 - val_loss: 2.5131 - val_root_mean_squared_error: 1.5853\n",
      "Epoch 137/1000\n",
      "109/109 [==============================] - 31s 280ms/step - loss: 1.8194 - root_mean_squared_error: 1.3489 - val_loss: 1.8640 - val_root_mean_squared_error: 1.3653\n",
      "Epoch 138/1000\n",
      "109/109 [==============================] - 30s 279ms/step - loss: 1.8227 - root_mean_squared_error: 1.3501 - val_loss: 2.0054 - val_root_mean_squared_error: 1.4161\n",
      "Epoch 139/1000\n",
      "109/109 [==============================] - 30s 279ms/step - loss: 1.8216 - root_mean_squared_error: 1.3497 - val_loss: 1.9402 - val_root_mean_squared_error: 1.3929\n",
      "Epoch 140/1000\n",
      "109/109 [==============================] - 30s 279ms/step - loss: 1.8167 - root_mean_squared_error: 1.3478 - val_loss: 1.9599 - val_root_mean_squared_error: 1.3999\n",
      "CPU times: user 56min 47s, sys: 48.5 s, total: 57min 36s\n",
      "Wall time: 1h 11min 16s\n"
     ]
    }
   ],
   "source": [
    "%%time\n",
    "history = simplegcn.fit([train_gcn_feats, train_adj_list,\n",
    "                         copy_number_train,gene_expr_train], y_train, \n",
    "                         \n",
    "          batch_size = 512, epochs = 1000, verbose = 1,\n",
    "                         \n",
    "          validation_data=([[ valid_gcn_feats, valid_adj_list,\n",
    "                           copy_number_valid, gene_expr_valid], y_valid]),\n",
    "                         \n",
    "\n",
    "        callbacks = tf.keras.callbacks.EarlyStopping(monitor = \"val_loss\", patience = 20, restore_best_weights=True,\n",
    "                                                       mode = \"min\"), \n",
    "         validation_batch_size = 512, shuffle = True)"
   ]
  },
  {
   "cell_type": "code",
   "execution_count": 130,
   "id": "163c3816-113b-4011-bc7e-9d312f422388",
   "metadata": {},
   "outputs": [
    {
     "name": "stdout",
     "output_type": "stream",
     "text": [
      "INFO:tensorflow:Assets written to: ..//models//dualgcn_trained_on_domain/assets\n"
     ]
    },
    {
     "name": "stderr",
     "output_type": "stream",
     "text": [
      "INFO:tensorflow:Assets written to: ..//models//dualgcn_trained_on_domain/assets\n"
     ]
    }
   ],
   "source": [
    "simplegcn.save(\"..//models//dualgcn_trained_on_domain\")"
   ]
  }
 ],
 "metadata": {
  "kernelspec": {
   "display_name": "Python (tfp_for_TN)",
   "language": "python",
   "name": "tfp_for_tn"
  },
  "language_info": {
   "codemirror_mode": {
    "name": "ipython",
    "version": 3
   },
   "file_extension": ".py",
   "mimetype": "text/x-python",
   "name": "python",
   "nbconvert_exporter": "python",
   "pygments_lexer": "ipython3",
   "version": "3.10.14"
  }
 },
 "nbformat": 4,
 "nbformat_minor": 5
}
