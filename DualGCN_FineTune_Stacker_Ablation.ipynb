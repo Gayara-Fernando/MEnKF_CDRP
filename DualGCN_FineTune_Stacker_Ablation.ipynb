{
 "cells": [
  {
   "cell_type": "code",
   "execution_count": 1,
   "id": "d79c4d60-25e3-41cb-b814-ef360e2fee9e",
   "metadata": {},
   "outputs": [
    {
     "name": "stderr",
     "output_type": "stream",
     "text": [
      "2024-08-14 11:17:32.830299: I tensorflow/core/util/port.cc:113] oneDNN custom operations are on. You may see slightly different numerical results due to floating-point round-off errors from different computation orders. To turn them off, set the environment variable `TF_ENABLE_ONEDNN_OPTS=0`.\n",
      "2024-08-14 11:17:33.099390: E external/local_xla/xla/stream_executor/cuda/cuda_dnn.cc:9261] Unable to register cuDNN factory: Attempting to register factory for plugin cuDNN when one has already been registered\n",
      "2024-08-14 11:17:33.099447: E external/local_xla/xla/stream_executor/cuda/cuda_fft.cc:607] Unable to register cuFFT factory: Attempting to register factory for plugin cuFFT when one has already been registered\n",
      "2024-08-14 11:17:33.151595: E external/local_xla/xla/stream_executor/cuda/cuda_blas.cc:1515] Unable to register cuBLAS factory: Attempting to register factory for plugin cuBLAS when one has already been registered\n",
      "2024-08-14 11:17:33.239104: I tensorflow/core/platform/cpu_feature_guard.cc:182] This TensorFlow binary is optimized to use available CPU instructions in performance-critical operations.\n",
      "To enable the following instructions: SSE4.1 SSE4.2 AVX AVX2 AVX512F AVX512_VNNI FMA, in other operations, rebuild TensorFlow with the appropriate compiler flags.\n"
     ]
    }
   ],
   "source": [
    "import pandas as pd\n",
    "import tensorflow as tf\n",
    "import tensorflow_probability as tfp\n",
    "from tensorflow import keras\n",
    "from tensorflow.python.keras import backend as K\n",
    "from tensorflow.python.ops import array_ops\n",
    "from tensorflow.python.ops import math_ops\n",
    "import numpy as np\n",
    "import pickle\n",
    "import random\n",
    "from sklearn.preprocessing import StandardScaler\n",
    "from sklearn.model_selection import train_test_split"
   ]
  },
  {
   "cell_type": "code",
   "execution_count": 2,
   "id": "06020fb9-0d23-4866-8a4b-d13beac7044f",
   "metadata": {},
   "outputs": [],
   "source": [
    "drugs_cell_lines_ic50_df = pd.read_csv(\"..//data//drugs_cell_lines_ic50.csv\")"
   ]
  },
  {
   "cell_type": "code",
   "execution_count": 3,
   "id": "1660298b-b5ce-4cff-bd71-86f7dc9222f5",
   "metadata": {},
   "outputs": [],
   "source": [
    "pubchem_drugs_smiles_df = pd.read_csv('..//data//drugs_smile_strings.csv')"
   ]
  },
  {
   "cell_type": "code",
   "execution_count": 4,
   "id": "d3b2a897-77be-420b-bd26-ab84d56a2ff3",
   "metadata": {},
   "outputs": [],
   "source": [
    "drugs_smiles_cell_lines_ic50_df = pd.merge(drugs_cell_lines_ic50_df, pubchem_drugs_smiles_df, \n",
    "                                             on = \"drug_id\")"
   ]
  },
  {
   "cell_type": "code",
   "execution_count": 5,
   "id": "c9c0eda5-75c5-45e4-b48b-7f90b38da4d8",
   "metadata": {},
   "outputs": [],
   "source": [
    "drugs_smiles_cell_lines_ic50_df = drugs_smiles_cell_lines_ic50_df[[\"drug_id\", \"Cancer_Cell_Line\", \"Smiles\", \"IC50\"]]"
   ]
  },
  {
   "cell_type": "code",
   "execution_count": 6,
   "id": "4255a229-bb41-4ffe-abef-e6d466e1c00b",
   "metadata": {},
   "outputs": [
    {
     "data": {
      "text/plain": [
       "drug_id               int64\n",
       "Cancer_Cell_Line     object\n",
       "Smiles               object\n",
       "IC50                float64\n",
       "dtype: object"
      ]
     },
     "execution_count": 6,
     "metadata": {},
     "output_type": "execute_result"
    }
   ],
   "source": [
    "drugs_smiles_cell_lines_ic50_df.dtypes"
   ]
  },
  {
   "cell_type": "code",
   "execution_count": 7,
   "id": "b8f12d16-3e37-4c9a-aabb-51e6ceb99a00",
   "metadata": {},
   "outputs": [],
   "source": [
    "drugs_smiles_cell_lines_ic50_df[\"drug_id\"] = drugs_smiles_cell_lines_ic50_df[\"drug_id\"].astype(object)"
   ]
  },
  {
   "cell_type": "code",
   "execution_count": 8,
   "id": "1318885c-6fc2-4ee6-a74d-0a8337307777",
   "metadata": {},
   "outputs": [],
   "source": [
    "with open(\"..//data//drug_gcn_features.pickle\", \"rb\") as f:\n",
    "    dict_features = pickle.load(f)"
   ]
  },
  {
   "cell_type": "code",
   "execution_count": 9,
   "id": "46e0e644-213c-4bc6-8dde-78b3bd5638bb",
   "metadata": {},
   "outputs": [],
   "source": [
    "with open(\"..//data//drug_gcn_normalized_adj_mats.pickle\", \"rb\") as f:\n",
    "    dict_normalized_adj_mats = pickle.load(f)"
   ]
  },
  {
   "cell_type": "code",
   "execution_count": 10,
   "id": "bfadc255-519f-4d0f-83c5-49277a277209",
   "metadata": {},
   "outputs": [],
   "source": [
    "dualgcn_train = pd.read_csv(\"..//data//DualGCN_Embedding_train.csv\")"
   ]
  },
  {
   "cell_type": "code",
   "execution_count": 11,
   "id": "7e62a800-6f13-4a2f-965d-62d34061612d",
   "metadata": {},
   "outputs": [],
   "source": [
    "dualgcn_test = pd.read_csv(\"..//data//DualGCN_Embedding_test.csv\")"
   ]
  },
  {
   "cell_type": "code",
   "execution_count": 12,
   "id": "5bd3f846-d0c4-4c92-b2af-1836b2cdf13b",
   "metadata": {},
   "outputs": [],
   "source": [
    "pubchem_to_drugs_df = pd.read_csv('..//data//1.Drug_listMon Jun 24 09_00_55 2019.csv')"
   ]
  },
  {
   "cell_type": "code",
   "execution_count": 13,
   "id": "4c1cabed-895b-4a33-9478-9c414246d9d6",
   "metadata": {},
   "outputs": [],
   "source": [
    "pubchem_to_drugs_df = pubchem_to_drugs_df[[\"drug_id\", \"PubCHEM\"]]"
   ]
  },
  {
   "cell_type": "code",
   "execution_count": 14,
   "id": "06050248-be5d-4413-a9f6-afba9c6dc1da",
   "metadata": {},
   "outputs": [
    {
     "data": {
      "text/plain": [
       "drug_id     int64\n",
       "PubCHEM    object\n",
       "dtype: object"
      ]
     },
     "execution_count": 14,
     "metadata": {},
     "output_type": "execute_result"
    }
   ],
   "source": [
    "pubchem_to_drugs_df.dtypes"
   ]
  },
  {
   "cell_type": "code",
   "execution_count": 15,
   "id": "3c0bea4c-f12a-4b03-814b-cadf7cbee967",
   "metadata": {},
   "outputs": [],
   "source": [
    "import numpy as np"
   ]
  },
  {
   "cell_type": "code",
   "execution_count": 16,
   "id": "226a6b4e-ddb7-4f0a-8e24-25fe64de8992",
   "metadata": {},
   "outputs": [],
   "source": [
    "pubchem_to_drugs_df[\"PubCHEM\"] = [val if str(val).isdigit() else np.nan for val in pubchem_to_drugs_df[\"PubCHEM\"] ]"
   ]
  },
  {
   "cell_type": "code",
   "execution_count": 17,
   "id": "49920b0c-24e4-4900-b65c-238b7918cb9f",
   "metadata": {},
   "outputs": [],
   "source": [
    "pubchem_to_drugs_df = pubchem_to_drugs_df.dropna()"
   ]
  },
  {
   "cell_type": "code",
   "execution_count": 18,
   "id": "7691b28b-0ae2-4ed4-8e16-54ff384b9dee",
   "metadata": {},
   "outputs": [
    {
     "data": {
      "text/plain": [
       "drug_id     int64\n",
       "PubCHEM    object\n",
       "dtype: object"
      ]
     },
     "execution_count": 18,
     "metadata": {},
     "output_type": "execute_result"
    }
   ],
   "source": [
    "pubchem_to_drugs_df.dtypes"
   ]
  },
  {
   "cell_type": "code",
   "execution_count": 19,
   "id": "6462ade0-cd2d-491d-be8a-aa0e7ddd3863",
   "metadata": {},
   "outputs": [],
   "source": [
    "pubchem_to_drugs_df[\"drug_id\"] = pubchem_to_drugs_df[\"drug_id\"].astype(str)"
   ]
  },
  {
   "cell_type": "code",
   "execution_count": 20,
   "id": "3286fd91-f6df-49fc-8d72-5e493f31d0ae",
   "metadata": {},
   "outputs": [],
   "source": [
    "x_train, x_valid, y_train, y_valid = train_test_split(drugs_smiles_cell_lines_ic50_df.drop([\"IC50\"],axis =1), drugs_smiles_cell_lines_ic50_df[\"IC50\"].values, \n",
    "                                                     test_size = 0.20, random_state = 42)"
   ]
  },
  {
   "cell_type": "code",
   "execution_count": 21,
   "id": "1b1ddb77-6e32-4225-96ba-cce23480ab1b",
   "metadata": {},
   "outputs": [],
   "source": [
    "dualgcn_train[\"Drug_ID\"] = dualgcn_train[\"Drug_ID\"].astype(str)"
   ]
  },
  {
   "cell_type": "code",
   "execution_count": 22,
   "id": "5d534def-d5c7-4b2c-a3ee-f4c5c43650c2",
   "metadata": {},
   "outputs": [],
   "source": [
    "dualgcn_test[\"Drug_ID\"] = dualgcn_test[\"Drug_ID\"].astype(str)"
   ]
  },
  {
   "cell_type": "code",
   "execution_count": 23,
   "id": "5a7161ee-e146-4c38-a8b8-66369327384f",
   "metadata": {},
   "outputs": [
    {
     "data": {
      "text/plain": [
       "drug_id    object\n",
       "PubCHEM    object\n",
       "dtype: object"
      ]
     },
     "execution_count": 23,
     "metadata": {},
     "output_type": "execute_result"
    }
   ],
   "source": [
    "pubchem_to_drugs_df.dtypes"
   ]
  },
  {
   "cell_type": "code",
   "execution_count": 24,
   "id": "26536155-5c48-4960-bff8-21c5ec06bab2",
   "metadata": {},
   "outputs": [],
   "source": [
    "dualgcn_train = pubchem_to_drugs_df.merge(dualgcn_train, left_on = [\"PubCHEM\"], right_on = [\"Drug_ID\"])"
   ]
  },
  {
   "cell_type": "code",
   "execution_count": 25,
   "id": "2bc82e0e-8eff-4ca1-bf75-b7a7a9b129e0",
   "metadata": {},
   "outputs": [],
   "source": [
    "dualgcn_train = dualgcn_train[['Cell_Line', 'drug_id']]"
   ]
  },
  {
   "cell_type": "code",
   "execution_count": 26,
   "id": "eae9ef05-6e1c-4aaa-bf6b-940d92f46ffb",
   "metadata": {},
   "outputs": [],
   "source": [
    "dualgcn_test = pubchem_to_drugs_df.merge(dualgcn_test, left_on = [\"PubCHEM\"], right_on = [\"Drug_ID\"])"
   ]
  },
  {
   "cell_type": "code",
   "execution_count": 27,
   "id": "f30684d3-1a27-4d66-8fc4-f84310a30d70",
   "metadata": {},
   "outputs": [],
   "source": [
    "dualgcn_test = dualgcn_test[['Cell_Line', 'drug_id']]"
   ]
  },
  {
   "cell_type": "code",
   "execution_count": 28,
   "id": "f0542289-770e-4e4b-b664-92e4bc29cfc0",
   "metadata": {},
   "outputs": [
    {
     "data": {
      "text/plain": [
       "Cell_Line    object\n",
       "drug_id      object\n",
       "dtype: object"
      ]
     },
     "execution_count": 28,
     "metadata": {},
     "output_type": "execute_result"
    }
   ],
   "source": [
    "dualgcn_train.dtypes"
   ]
  },
  {
   "cell_type": "code",
   "execution_count": 29,
   "id": "c2322204-c032-4c64-a2f7-319e233717b4",
   "metadata": {},
   "outputs": [],
   "source": [
    "# x_train["
   ]
  },
  {
   "cell_type": "code",
   "execution_count": 30,
   "id": "1c63ae0c-24be-4d2e-91d5-6e2616980c51",
   "metadata": {},
   "outputs": [
    {
     "data": {
      "text/plain": [
       "drug_id             object\n",
       "Cancer_Cell_Line    object\n",
       "Smiles              object\n",
       "dtype: object"
      ]
     },
     "execution_count": 30,
     "metadata": {},
     "output_type": "execute_result"
    }
   ],
   "source": [
    "x_train.dtypes"
   ]
  },
  {
   "cell_type": "code",
   "execution_count": 31,
   "id": "ab53e997-9aa3-46ae-b3fe-f30549c35fdb",
   "metadata": {},
   "outputs": [],
   "source": [
    "# dualgcn_train"
   ]
  },
  {
   "cell_type": "code",
   "execution_count": 32,
   "id": "6cddda70-6c3e-4e5f-a2f7-882194bb43d1",
   "metadata": {},
   "outputs": [],
   "source": [
    "# x_train['drug_id'].values[0]"
   ]
  },
  {
   "cell_type": "code",
   "execution_count": 33,
   "id": "76078299-ae77-4b6b-99bf-c8d04c0d8d89",
   "metadata": {},
   "outputs": [],
   "source": [
    "x_train['drug_id'] = x_train['drug_id'].astype(str)"
   ]
  },
  {
   "cell_type": "code",
   "execution_count": 34,
   "id": "5c693879-9d22-426a-973c-10f2428782e8",
   "metadata": {},
   "outputs": [],
   "source": [
    "x_valid['drug_id'] = x_valid['drug_id'].astype(str)"
   ]
  },
  {
   "cell_type": "code",
   "execution_count": 35,
   "id": "bc17185f-ea74-4d95-8e77-549522dc6d9d",
   "metadata": {},
   "outputs": [],
   "source": [
    "x_train_valid_feats = pd.concat([x_train, x_valid], ignore_index = True)"
   ]
  },
  {
   "cell_type": "code",
   "execution_count": 36,
   "id": "3dd68714-74df-4643-9b6a-554e0db5884e",
   "metadata": {},
   "outputs": [],
   "source": [
    "y_train_valid = pd.concat([pd.DataFrame(y_train.reshape(-1,1)), pd.DataFrame(y_valid.reshape(-1,1))], ignore_index = True)"
   ]
  },
  {
   "cell_type": "code",
   "execution_count": 37,
   "id": "e5bdf3b9-9644-4f7a-a2d3-825b184a4671",
   "metadata": {},
   "outputs": [],
   "source": [
    "combo_train_valid = pd.concat([x_train_valid_feats, y_train_valid],axis =  1)"
   ]
  },
  {
   "cell_type": "code",
   "execution_count": 38,
   "id": "b9de540d-bb4c-48e1-bcbe-b07df1a2c7f7",
   "metadata": {},
   "outputs": [],
   "source": [
    "combo_train_valid.columns = ['drug_id', 'Cancer_Cell_Line', 'Smiles', 'IC50']"
   ]
  },
  {
   "cell_type": "code",
   "execution_count": 39,
   "id": "6ad83127-f200-4ea3-8405-e3ec9e599ec1",
   "metadata": {},
   "outputs": [],
   "source": [
    "# filter x_train x _valid here\n",
    "x_y_train = combo_train_valid.merge(dualgcn_train, left_on = ['Cancer_Cell_Line','drug_id'], right_on = [ 'Cell_Line','drug_id'])"
   ]
  },
  {
   "cell_type": "code",
   "execution_count": 40,
   "id": "3ff87221-d69e-4ac0-b81c-408c18e6f3eb",
   "metadata": {},
   "outputs": [],
   "source": [
    "x_y_test = combo_train_valid.merge(dualgcn_test, left_on = ['Cancer_Cell_Line','drug_id'], right_on = [ 'Cell_Line','drug_id'])"
   ]
  },
  {
   "cell_type": "code",
   "execution_count": 41,
   "id": "d526502f-cd0c-45f1-b1ac-21062fdb1ab6",
   "metadata": {},
   "outputs": [],
   "source": [
    "x_train, x_valid, y_train, y_valid = x_y_train.drop([\"IC50\", 'Cell_Line'],axis = 1), x_y_test.drop([\"IC50\", 'Cell_Line'], axis =1), x_y_train[\"IC50\"].values, x_y_test[\"IC50\"].values"
   ]
  },
  {
   "cell_type": "code",
   "execution_count": 42,
   "id": "d8e8a19c-3fc2-4c28-8a5c-5d44890baff8",
   "metadata": {},
   "outputs": [],
   "source": [
    "train_gcn_feats = []\n",
    "train_adj_list = []\n",
    "for drug_id in x_train[\"drug_id\"].values:\n",
    "    train_gcn_feats.append(dict_features[drug_id])\n",
    "    train_adj_list.append(dict_normalized_adj_mats[drug_id])"
   ]
  },
  {
   "cell_type": "code",
   "execution_count": 43,
   "id": "f18af922-6ad2-4ec9-8a06-e21dfec89e16",
   "metadata": {},
   "outputs": [],
   "source": [
    "valid_gcn_feats = []\n",
    "valid_adj_list = []\n",
    "for drug_id in x_valid[\"drug_id\"].values:\n",
    "    valid_gcn_feats.append(dict_features[drug_id])\n",
    "    valid_adj_list.append(dict_normalized_adj_mats[drug_id])"
   ]
  },
  {
   "cell_type": "code",
   "execution_count": 44,
   "id": "8727a949-fe53-4c23-a8f1-495b0575cfe7",
   "metadata": {},
   "outputs": [],
   "source": [
    "train_gcn_feats = np.array(train_gcn_feats).astype(\"float16\")\n",
    "valid_gcn_feats = np.array(valid_gcn_feats).astype(\"float16\")"
   ]
  },
  {
   "cell_type": "code",
   "execution_count": 45,
   "id": "2051e9cb-d041-4112-8155-cac3b6ef6684",
   "metadata": {},
   "outputs": [],
   "source": [
    "train_adj_list = np.array(train_adj_list).astype(\"float16\")\n",
    "valid_adj_list = np.array(valid_adj_list).astype(\"float16\")"
   ]
  },
  {
   "cell_type": "code",
   "execution_count": 46,
   "id": "b57c86db-c67b-4492-b945-9ee5ef7633be",
   "metadata": {},
   "outputs": [
    {
     "name": "stderr",
     "output_type": "stream",
     "text": [
      "2024-08-14 11:17:59.780445: I tensorflow/core/common_runtime/gpu/gpu_device.cc:1929] Created device /job:localhost/replica:0/task:0/device:GPU:0 with 31141 MB memory:  -> device: 0, name: Tesla V100S-PCIE-32GB, pci bus id: 0000:06:00.0, compute capability: 7.0\n"
     ]
    },
    {
     "name": "stdout",
     "output_type": "stream",
     "text": [
      "WARNING:tensorflow:No training configuration found in save file, so the model was *not* compiled. Compile it manually.\n"
     ]
    },
    {
     "name": "stderr",
     "output_type": "stream",
     "text": [
      "WARNING:tensorflow:No training configuration found in save file, so the model was *not* compiled. Compile it manually.\n"
     ]
    },
    {
     "name": "stdout",
     "output_type": "stream",
     "text": [
      "WARNING:tensorflow:No training configuration found in save file, so the model was *not* compiled. Compile it manually.\n"
     ]
    },
    {
     "name": "stderr",
     "output_type": "stream",
     "text": [
      "WARNING:tensorflow:No training configuration found in save file, so the model was *not* compiled. Compile it manually.\n"
     ]
    },
    {
     "name": "stdout",
     "output_type": "stream",
     "text": [
      "WARNING:tensorflow:No training configuration found in save file, so the model was *not* compiled. Compile it manually.\n"
     ]
    },
    {
     "name": "stderr",
     "output_type": "stream",
     "text": [
      "WARNING:tensorflow:No training configuration found in save file, so the model was *not* compiled. Compile it manually.\n"
     ]
    },
    {
     "name": "stdout",
     "output_type": "stream",
     "text": [
      "WARNING:tensorflow:No training configuration found in save file, so the model was *not* compiled. Compile it manually.\n"
     ]
    },
    {
     "name": "stderr",
     "output_type": "stream",
     "text": [
      "WARNING:tensorflow:No training configuration found in save file, so the model was *not* compiled. Compile it manually.\n"
     ]
    }
   ],
   "source": [
    "# load models\n",
    "# omic models\n",
    "cancer_copy_number_model = tf.keras.models.load_model(\"..//models//cancer_copy_number_model_no_norm_common\")\n",
    "cancer_cell_gen_expr_model = tf.keras.models.load_model(\"..//models//cancer_cell_gen_expr_model_no_norm_common\")\n",
    "cancer_cell_gen_methy_model = tf.keras.models.load_model(\"..//models//cancer_cell_gen_methy_model_no_norm\")\n",
    "cancer_cell_gen_mut_model = tf.keras.models.load_model(\"..//models//cancer_cell_gen_mut_model_no_norm\")"
   ]
  },
  {
   "cell_type": "code",
   "execution_count": 47,
   "id": "4c1533dd-2e0e-424f-be0d-24f06b51453b",
   "metadata": {},
   "outputs": [
    {
     "name": "stdout",
     "output_type": "stream",
     "text": [
      "WARNING:tensorflow:No training configuration found in save file, so the model was *not* compiled. Compile it manually.\n"
     ]
    },
    {
     "name": "stderr",
     "output_type": "stream",
     "text": [
      "WARNING:tensorflow:No training configuration found in save file, so the model was *not* compiled. Compile it manually.\n"
     ]
    }
   ],
   "source": [
    "# load models\n",
    "# drug models\n",
    "pubchem_drugs_rdkit_model = tf.keras.models.load_model(\"..//models//pubchem_drugs_rdkit_model_no_norm\")"
   ]
  },
  {
   "cell_type": "code",
   "execution_count": 48,
   "id": "0ad2f43e-005e-439c-ac14-d21d9c198938",
   "metadata": {},
   "outputs": [
    {
     "name": "stdout",
     "output_type": "stream",
     "text": [
      "Model: \"model_4\"\n",
      "_________________________________________________________________\n",
      " Layer (type)                Output Shape              Param #   \n",
      "=================================================================\n",
      " input_5 (InputLayer)        [(None, 1)]               0         \n",
      "                                                                 \n",
      " text_vectorization_4 (Text  (None, 1)                 0         \n",
      " Vectorization)                                                  \n",
      "                                                                 \n",
      " embedding_4 (Embedding)     (None, 1, 106)            25440     \n",
      "                                                                 \n",
      " flatten_4 (Flatten)         (None, 106)               0         \n",
      "                                                                 \n",
      "=================================================================\n",
      "Total params: 25440 (99.38 KB)\n",
      "Trainable params: 0 (0.00 Byte)\n",
      "Non-trainable params: 25440 (99.38 KB)\n",
      "_________________________________________________________________\n"
     ]
    }
   ],
   "source": [
    "pubchem_drugs_rdkit_model.summary()"
   ]
  },
  {
   "cell_type": "code",
   "execution_count": 49,
   "id": "4276fa33-3544-4a49-904e-020095d81f43",
   "metadata": {},
   "outputs": [],
   "source": [
    "std = StandardScaler()"
   ]
  },
  {
   "cell_type": "code",
   "execution_count": 50,
   "id": "6d5f0911-6e51-446d-a281-dc05086de8bf",
   "metadata": {},
   "outputs": [],
   "source": [
    "# extract drug features - does not seem like these are used in the network\n",
    "drug_features_train = pubchem_drugs_rdkit_model(x_train[\"drug_id\"].values).numpy().astype(\"float32\")\n",
    "drug_features_valid = pubchem_drugs_rdkit_model(x_valid[\"drug_id\"].values).numpy().astype(\"float32\")"
   ]
  },
  {
   "cell_type": "code",
   "execution_count": 51,
   "id": "f09c1da2-9df1-4674-9a05-ed475aaed5fa",
   "metadata": {},
   "outputs": [
    {
     "data": {
      "text/plain": [
       "0"
      ]
     },
     "execution_count": 51,
     "metadata": {},
     "output_type": "execute_result"
    }
   ],
   "source": [
    "np.isinf(drug_features_train).sum()"
   ]
  },
  {
   "cell_type": "code",
   "execution_count": 52,
   "id": "76723b45-8e73-41b2-b00a-19c27200d943",
   "metadata": {},
   "outputs": [],
   "source": [
    "drug_features_train = std.fit_transform(drug_features_train)"
   ]
  },
  {
   "cell_type": "code",
   "execution_count": 53,
   "id": "3397ce65-28fa-42a3-8b35-cb378bde141d",
   "metadata": {},
   "outputs": [],
   "source": [
    "drug_features_valid = std.transform(drug_features_valid)"
   ]
  },
  {
   "cell_type": "code",
   "execution_count": 54,
   "id": "8a581814-8f25-47f8-88eb-b6d94e841e96",
   "metadata": {},
   "outputs": [],
   "source": [
    "# extract copy number features\n",
    "omics_copy_number_train = cancer_copy_number_model(x_train[\"Cancer_Cell_Line\"].values).numpy().astype(\"float16\")\n",
    "omics_copy_number_valid = cancer_copy_number_model(x_valid[\"Cancer_Cell_Line\"].values).numpy().astype(\"float16\")"
   ]
  },
  {
   "cell_type": "code",
   "execution_count": 55,
   "id": "e94af1a5-9555-4c31-aef5-7e778ed1a9b3",
   "metadata": {},
   "outputs": [],
   "source": [
    "# omics_copy_number_train"
   ]
  },
  {
   "cell_type": "code",
   "execution_count": 56,
   "id": "0d8f9737-5d43-4175-a68a-ff03ab3f58c3",
   "metadata": {},
   "outputs": [],
   "source": [
    "# extract gen expr features\n",
    "omics_gen_expr_train = cancer_cell_gen_expr_model(x_train[\"Cancer_Cell_Line\"].values).numpy().astype(\"float16\")\n",
    "omics_gen_expr_valid = cancer_cell_gen_expr_model(x_valid[\"Cancer_Cell_Line\"].values).numpy().astype(\"float16\")"
   ]
  },
  {
   "cell_type": "code",
   "execution_count": 57,
   "id": "ceb5e8e9-58c8-44b6-af28-2e676cd4c4d9",
   "metadata": {},
   "outputs": [],
   "source": [
    "omics_gen_copy_number_gen_expr_train = np.concatenate([np.expand_dims(omics_copy_number_train, -1),\n",
    "                                                      np.expand_dims(omics_gen_expr_train, -1)], axis = -1)"
   ]
  },
  {
   "cell_type": "code",
   "execution_count": 58,
   "id": "9af07cd6-3bf6-45eb-a0d9-6ada6e752a5d",
   "metadata": {},
   "outputs": [],
   "source": [
    "omics_gen_copy_number_gen_expr_valid = np.concatenate([np.expand_dims(omics_copy_number_valid, -1),\n",
    "                                                      np.expand_dims(omics_gen_expr_valid, -1)], axis = -1)"
   ]
  },
  {
   "cell_type": "code",
   "execution_count": 59,
   "id": "6fc3a94e-0ffe-4672-a97a-cc87eca89a54",
   "metadata": {},
   "outputs": [],
   "source": [
    "# extract gen methylation features\n",
    "omics_gen_methyl_train = cancer_cell_gen_methy_model(x_train[\"Cancer_Cell_Line\"].values).numpy().astype(\"float16\")\n",
    "omics_gen_methyl_valid = cancer_cell_gen_methy_model(x_valid[\"Cancer_Cell_Line\"].values).numpy().astype(\"float16\")"
   ]
  },
  {
   "cell_type": "code",
   "execution_count": 60,
   "id": "75398540-13b6-4cfa-b90d-8f2c0124dcd8",
   "metadata": {},
   "outputs": [
    {
     "name": "stdout",
     "output_type": "stream",
     "text": [
      "271/271 [==============================] - 8s 29ms/step\n",
      "68/68 [==============================] - 0s 5ms/step\n"
     ]
    }
   ],
   "source": [
    "# extract gen mutation features\n",
    "with tf.device('/cpu:0'):\n",
    "    omics_gen_mut_train = cancer_cell_gen_mut_model.predict(x_train[\"Cancer_Cell_Line\"].values, verbose = 1, batch_size = 256).astype(\"float16\")\n",
    "    omics_gen_mut_valid = cancer_cell_gen_mut_model.predict(x_valid[\"Cancer_Cell_Line\"].values, verbose = 1, batch_size = 256).astype(\"float16\")"
   ]
  },
  {
   "cell_type": "code",
   "execution_count": 61,
   "id": "1cd31175-0cb4-4718-8ff6-221e42f493d9",
   "metadata": {},
   "outputs": [],
   "source": [
    "smile_strings_train = x_train[\"Smiles\"].values.reshape(-1,1)\n",
    "smile_strings_valid = x_valid[\"Smiles\"].values.reshape(-1,1)"
   ]
  },
  {
   "cell_type": "code",
   "execution_count": 62,
   "id": "d13e5906-e69a-42a6-b9d0-c24f9d941e7d",
   "metadata": {},
   "outputs": [],
   "source": [
    "selected_info_common_cell_lines = \"..//data//cellline_list.txt\"\n",
    "selected_info_common_genes = \"..//data/gene_list.txt\""
   ]
  },
  {
   "cell_type": "code",
   "execution_count": 63,
   "id": "81270302-09c9-4885-bf20-1cea79f82c2c",
   "metadata": {},
   "outputs": [],
   "source": [
    "PPI_file = \"..//data/PPI_network.txt\""
   ]
  },
  {
   "cell_type": "code",
   "execution_count": 64,
   "id": "c061dec2-f66e-46bd-b75d-d0d3de3a4197",
   "metadata": {},
   "outputs": [],
   "source": [
    "with open(selected_info_common_cell_lines) as f:\n",
    "    common_cell_lines = [item.strip() for item in f.readlines()]"
   ]
  },
  {
   "cell_type": "code",
   "execution_count": 65,
   "id": "fec2991e-1152-4fc3-afae-e537b1d94224",
   "metadata": {},
   "outputs": [],
   "source": [
    "with open(\"..//data//common_genes.pickle\", \"rb\") as f:\n",
    "    common_genes = pickle.load(f)"
   ]
  },
  {
   "cell_type": "code",
   "execution_count": 66,
   "id": "81938b6c-b5ec-4bec-bf6c-bcfb99333479",
   "metadata": {},
   "outputs": [],
   "source": [
    "idx_dic={}\n",
    "for index, item in enumerate(common_genes):\n",
    "    idx_dic[item] = index"
   ]
  },
  {
   "cell_type": "code",
   "execution_count": 67,
   "id": "9be1966c-c95d-4763-9351-cc85f885dd77",
   "metadata": {},
   "outputs": [],
   "source": [
    "ppi_adj_info = [[] for item in common_genes] "
   ]
  },
  {
   "cell_type": "code",
   "execution_count": 68,
   "id": "dd95b114-413c-48b2-8ac4-d62341ca4b49",
   "metadata": {},
   "outputs": [],
   "source": [
    "# will return for each gene what other gene is connected - PPIs\n",
    "ppi_adj_info = [[] for item in common_genes] \n",
    "for line in open(PPI_file).readlines():\n",
    "    gene1,gene2 = line.split('\\t')[0],line.split('\\t')[1]\n",
    "    if (gene1 in common_genes) & (gene2 in common_genes):\n",
    "        if idx_dic[gene1]<=idx_dic[gene2]:\n",
    "            ppi_adj_info[idx_dic[gene1]].append(idx_dic[gene2])\n",
    "            ppi_adj_info[idx_dic[gene2]].append(idx_dic[gene1])"
   ]
  },
  {
   "cell_type": "code",
   "execution_count": 69,
   "id": "e8dba0ba-76bf-43d9-a282-64d5ef857164",
   "metadata": {},
   "outputs": [],
   "source": [
    "def CelllineGraphAdjNorm(ppi_adj_info,common_genes = common_genes):\n",
    "    # with open(selected_info_common_genes) as f:\n",
    "    #     common_genes = [item.strip() for item in f.readlines()]\n",
    "    nb_nodes = len(common_genes)\n",
    "    adj_mat = np.zeros((nb_nodes,nb_nodes),dtype='float32')\n",
    "    # print(adj_mat.shape)\n",
    "    for i in range(len(ppi_adj_info)):\n",
    "        # print(i)\n",
    "        nodes = ppi_adj_info[i]\n",
    "        for each in nodes:\n",
    "            adj_mat[i,each] = 1\n",
    "\n",
    "    # for checking if two sparse matrices are the same\n",
    "    assert np.allclose(adj_mat,adj_mat.T)\n",
    "    norm_adj = NormalizeAdj(adj_mat)\n",
    "    return norm_adj "
   ]
  },
  {
   "cell_type": "code",
   "execution_count": 70,
   "id": "ccca20d9-ccb8-4e11-87dc-3b8bca5df5ac",
   "metadata": {},
   "outputs": [],
   "source": [
    "def NormalizeAdj(adj):\n",
    "    adj = adj + np.eye(adj.shape[0])\n",
    "    d = sp.diags(np.power(np.array(adj.sum(1)), -0.5).flatten(), 0).toarray()\n",
    "    a_norm = adj.dot(d).transpose().dot(d)\n",
    "    return a_norm"
   ]
  },
  {
   "cell_type": "code",
   "execution_count": 71,
   "id": "2855c6e4-92b2-4dfc-b81d-1aae7ef46192",
   "metadata": {},
   "outputs": [],
   "source": [
    "import scipy.sparse as sp"
   ]
  },
  {
   "cell_type": "code",
   "execution_count": 72,
   "id": "c091ab77-fe5b-4f41-80c7-9f4e5af94302",
   "metadata": {},
   "outputs": [],
   "source": [
    "ppi_adj = CelllineGraphAdjNorm(ppi_adj_info,common_genes)"
   ]
  },
  {
   "cell_type": "code",
   "execution_count": 73,
   "id": "06b66e4c-ece7-40d6-b2d3-bf186c580ebd",
   "metadata": {},
   "outputs": [],
   "source": [
    "ppi_adj = np.expand_dims(ppi_adj,0)"
   ]
  },
  {
   "cell_type": "code",
   "execution_count": 74,
   "id": "9c523c6b-8a36-468a-966b-4bd5be2566d2",
   "metadata": {},
   "outputs": [],
   "source": [
    "omics_gen_copy_number_gen_expr_train_new = (ppi_adj@omics_gen_copy_number_gen_expr_train)\n",
    "omics_gen_copy_number_gen_expr_valid_new = (ppi_adj@omics_gen_copy_number_gen_expr_valid)"
   ]
  },
  {
   "cell_type": "code",
   "execution_count": 75,
   "id": "09b74033-ce1b-4886-afe8-1fc84eaaefec",
   "metadata": {},
   "outputs": [],
   "source": [
    "copy_number_train = omics_gen_copy_number_gen_expr_train_new[:,:,0:1]\n",
    "copy_number_valid = omics_gen_copy_number_gen_expr_valid_new[:,:,0:1]"
   ]
  },
  {
   "cell_type": "code",
   "execution_count": 76,
   "id": "62214add-cba7-4ef8-8351-26b8883f2129",
   "metadata": {},
   "outputs": [],
   "source": [
    "gene_expr_train = omics_gen_copy_number_gen_expr_train_new[:,:,1:2]\n",
    "gene_expr_valid = omics_gen_copy_number_gen_expr_valid_new[:,:,1:2]"
   ]
  },
  {
   "cell_type": "code",
   "execution_count": 77,
   "id": "e0b5599d-402e-493e-8e3a-fc9ca0492aaf",
   "metadata": {},
   "outputs": [],
   "source": [
    "valid_items = [[ valid_gcn_feats, valid_adj_list,\n",
    "                           copy_number_valid, gene_expr_valid,\n",
    "                           omics_gen_methyl_valid, omics_gen_mut_valid], y_valid]"
   ]
  },
  {
   "cell_type": "code",
   "execution_count": 78,
   "id": "32a9a130-7a5d-4cb0-b7f1-e95447642926",
   "metadata": {},
   "outputs": [],
   "source": [
    "input_gcn_features = tf.keras.layers.Input(shape = (100, 75))\n",
    "input_norm_adj_mat = tf.keras.layers.Input(shape = (100, 100))\n",
    "mult_1 = tf.keras.layers.Dot(1)([input_norm_adj_mat, input_gcn_features])\n",
    "dense_layer_gcn = tf.keras.layers.Dense(256, activation = \"relu\")\n",
    "dense_out = dense_layer_gcn(mult_1)\n",
    "dense_out = tf.keras.layers.BatchNormalization()(dense_out)\n",
    "dense_out = tf.keras.layers.Dropout(0.1)(dense_out)\n",
    "mult_2 = tf.keras.layers.Dot(1)([input_norm_adj_mat, dense_out])\n",
    "dense_layer_gcn = tf.keras.layers.Dense(128, activation = \"relu\")\n",
    "dense_out = dense_layer_gcn(mult_2)\n",
    "dense_out = tf.keras.layers.BatchNormalization()(dense_out)\n",
    "dense_out = tf.keras.layers.Dropout(0.1)(dense_out)\n",
    "\n",
    "# dense_layer_gcn = tf.keras.layers.Dense(100, activation = \"relu\")\n",
    "# mult_3 = tf.keras.layers.Dot(1)([input_norm_adj_mat, dense_out])\n",
    "# dense_out = dense_layer_gcn(mult_3)\n",
    "# dense_out = tf.keras.layers.BatchNormalization()(dense_out)\n",
    "# dense_out = tf.keras.layers.Dropout(0.2)(dense_out)\n",
    "\n",
    "dense_out = tf.keras.layers.GlobalAvgPool1D()(dense_out)"
   ]
  },
  {
   "cell_type": "code",
   "execution_count": 79,
   "id": "eb91c081-9638-48b8-b051-f7ad61b02954",
   "metadata": {},
   "outputs": [],
   "source": [
    "# here is the code for CNV and gene expression\n",
    "dropout1 = 0.10\n",
    "dropout2 = 0.20\n",
    "# first add the CNV\n",
    "input_cnv = tf.keras.layers.Input(shape = (omics_gen_expr_train.shape[1],1))\n",
    "    \n",
    "l1 = tf.keras.layers.Dense(32)(input_cnv)\n",
    "l1 = tf.keras.layers.Dropout(dropout1)(l1)\n",
    "l2 = tf.keras.layers.Dense(128)(l1)\n",
    "l2 = tf.keras.layers.Dropout(dropout1)(l2)\n",
    "    \n",
    "dense_layer_gcn1 = tf.keras.layers.Dense(256, activation = \"relu\")\n",
    "dense_out_cnv = dense_layer_gcn1(l2)\n",
    "dense_out_cnv = tf.keras.layers.BatchNormalization()(dense_out_cnv)\n",
    "dense_out_cnv = tf.keras.layers.Dropout(dropout1)(dense_out_cnv)\n",
    "# mult_21 = tf.keras.layers.Dot(1)([const_input, dense_out1])\n",
    "dense_layer_gcn1 = tf.keras.layers.Dense(256, activation = \"relu\")\n",
    "dense_out_cnv = dense_layer_gcn1(dense_out_cnv)\n",
    "dense_out_cnv = tf.keras.layers.BatchNormalization()(dense_out_cnv)\n",
    "dense_out_cnv = tf.keras.layers.Dropout(dropout1)(dense_out_cnv)\n",
    "dense_layer_gcn1 = tf.keras.layers.Dense(256, activation = \"relu\")\n",
    "dense_out_cnv = dense_layer_gcn1(dense_out_cnv)\n",
    "dense_out_cnv = tf.keras.layers.BatchNormalization()(dense_out_cnv)\n",
    "dense_out_cnv = tf.keras.layers.Dropout(dropout1)(dense_out_cnv)\n",
    "dense_layer_gcn1 = tf.keras.layers.Dense(256, activation = \"relu\")\n",
    "dense_out_cnv = dense_layer_gcn1(dense_out_cnv)\n",
    "dense_out_cnv = tf.keras.layers.BatchNormalization()(dense_out_cnv)\n",
    "dense_out_cnv = tf.keras.layers.Dropout(dropout1)(dense_out_cnv)\n",
    "dense_out_cnv = tf.keras.layers.GlobalAvgPool1D()(dense_out_cnv)\n"
   ]
  },
  {
   "cell_type": "code",
   "execution_count": 80,
   "id": "d873bfc5-fb61-4529-b989-424509ba4315",
   "metadata": {},
   "outputs": [],
   "source": [
    "all_omics = tf.keras.layers.Concatenate()([ dense_out_cnv, dense_out])"
   ]
  },
  {
   "cell_type": "code",
   "execution_count": 81,
   "id": "c09578f7-e654-451c-91bb-38ec98bda3cc",
   "metadata": {},
   "outputs": [],
   "source": [
    "x = tf.keras.layers.Dense(256,activation = 'tanh')(all_omics)\n",
    "x = tf.keras.layers.Dropout(0.3)(x, training = True)\n",
    "x = tf.keras.layers.Dense(128,activation = 'tanh')(x)\n",
    "x = tf.keras.layers.Dropout(0.2)(x, training = True)\n",
    "x = tf.keras.layers.Dense(10,activation = 'tanh')(x)"
   ]
  },
  {
   "cell_type": "code",
   "execution_count": 82,
   "id": "720ae0ed-8be9-44de-8beb-41155d444e76",
   "metadata": {},
   "outputs": [],
   "source": [
    "final_out_layer = tf.keras.layers.Dense(1)"
   ]
  },
  {
   "cell_type": "code",
   "execution_count": 83,
   "id": "a284faa6-42ed-4834-ab75-28291c65eb15",
   "metadata": {},
   "outputs": [],
   "source": [
    "final_out = final_out_layer(x)"
   ]
  },
  {
   "cell_type": "code",
   "execution_count": 84,
   "id": "dfe36747-9e6d-4f55-abaa-a52ef150d1f7",
   "metadata": {},
   "outputs": [],
   "source": [
    "simplegcn = tf.keras.models.Model([input_gcn_features, input_norm_adj_mat, input_cnv], final_out)"
   ]
  },
  {
   "cell_type": "code",
   "execution_count": 85,
   "id": "6179d8a4-d66a-4084-a944-bc3fced8da92",
   "metadata": {},
   "outputs": [
    {
     "name": "stdout",
     "output_type": "stream",
     "text": [
      "Model: \"model\"\n",
      "__________________________________________________________________________________________________\n",
      " Layer (type)                Output Shape                 Param #   Connected to                  \n",
      "==================================================================================================\n",
      " input_3 (InputLayer)        [(None, 691, 1)]             0         []                            \n",
      "                                                                                                  \n",
      " dense_2 (Dense)             (None, 691, 32)              64        ['input_3[0][0]']             \n",
      "                                                                                                  \n",
      " dropout_2 (Dropout)         (None, 691, 32)              0         ['dense_2[0][0]']             \n",
      "                                                                                                  \n",
      " dense_3 (Dense)             (None, 691, 128)             4224      ['dropout_2[0][0]']           \n",
      "                                                                                                  \n",
      " dropout_3 (Dropout)         (None, 691, 128)             0         ['dense_3[0][0]']             \n",
      "                                                                                                  \n",
      " dense_4 (Dense)             (None, 691, 256)             33024     ['dropout_3[0][0]']           \n",
      "                                                                                                  \n",
      " batch_normalization_2 (Bat  (None, 691, 256)             1024      ['dense_4[0][0]']             \n",
      " chNormalization)                                                                                 \n",
      "                                                                                                  \n",
      " dropout_4 (Dropout)         (None, 691, 256)             0         ['batch_normalization_2[0][0]'\n",
      "                                                                    ]                             \n",
      "                                                                                                  \n",
      " dense_5 (Dense)             (None, 691, 256)             65792     ['dropout_4[0][0]']           \n",
      "                                                                                                  \n",
      " input_2 (InputLayer)        [(None, 100, 100)]           0         []                            \n",
      "                                                                                                  \n",
      " input_1 (InputLayer)        [(None, 100, 75)]            0         []                            \n",
      "                                                                                                  \n",
      " batch_normalization_3 (Bat  (None, 691, 256)             1024      ['dense_5[0][0]']             \n",
      " chNormalization)                                                                                 \n",
      "                                                                                                  \n",
      " dot (Dot)                   (None, 100, 75)              0         ['input_2[0][0]',             \n",
      "                                                                     'input_1[0][0]']             \n",
      "                                                                                                  \n",
      " dropout_5 (Dropout)         (None, 691, 256)             0         ['batch_normalization_3[0][0]'\n",
      "                                                                    ]                             \n",
      "                                                                                                  \n",
      " dense (Dense)               (None, 100, 256)             19456     ['dot[0][0]']                 \n",
      "                                                                                                  \n",
      " dense_6 (Dense)             (None, 691, 256)             65792     ['dropout_5[0][0]']           \n",
      "                                                                                                  \n",
      " batch_normalization (Batch  (None, 100, 256)             1024      ['dense[0][0]']               \n",
      " Normalization)                                                                                   \n",
      "                                                                                                  \n",
      " batch_normalization_4 (Bat  (None, 691, 256)             1024      ['dense_6[0][0]']             \n",
      " chNormalization)                                                                                 \n",
      "                                                                                                  \n",
      " dropout (Dropout)           (None, 100, 256)             0         ['batch_normalization[0][0]'] \n",
      "                                                                                                  \n",
      " dropout_6 (Dropout)         (None, 691, 256)             0         ['batch_normalization_4[0][0]'\n",
      "                                                                    ]                             \n",
      "                                                                                                  \n",
      " dot_1 (Dot)                 (None, 100, 256)             0         ['input_2[0][0]',             \n",
      "                                                                     'dropout[0][0]']             \n",
      "                                                                                                  \n",
      " dense_7 (Dense)             (None, 691, 256)             65792     ['dropout_6[0][0]']           \n",
      "                                                                                                  \n",
      " dense_1 (Dense)             (None, 100, 128)             32896     ['dot_1[0][0]']               \n",
      "                                                                                                  \n",
      " batch_normalization_5 (Bat  (None, 691, 256)             1024      ['dense_7[0][0]']             \n",
      " chNormalization)                                                                                 \n",
      "                                                                                                  \n",
      " batch_normalization_1 (Bat  (None, 100, 128)             512       ['dense_1[0][0]']             \n",
      " chNormalization)                                                                                 \n",
      "                                                                                                  \n",
      " dropout_7 (Dropout)         (None, 691, 256)             0         ['batch_normalization_5[0][0]'\n",
      "                                                                    ]                             \n",
      "                                                                                                  \n",
      " dropout_1 (Dropout)         (None, 100, 128)             0         ['batch_normalization_1[0][0]'\n",
      "                                                                    ]                             \n",
      "                                                                                                  \n",
      " global_average_pooling1d_1  (None, 256)                  0         ['dropout_7[0][0]']           \n",
      "  (GlobalAveragePooling1D)                                                                        \n",
      "                                                                                                  \n",
      " global_average_pooling1d (  (None, 128)                  0         ['dropout_1[0][0]']           \n",
      " GlobalAveragePooling1D)                                                                          \n",
      "                                                                                                  \n",
      " concatenate (Concatenate)   (None, 384)                  0         ['global_average_pooling1d_1[0\n",
      "                                                                    ][0]',                        \n",
      "                                                                     'global_average_pooling1d[0][\n",
      "                                                                    0]']                          \n",
      "                                                                                                  \n",
      " dense_8 (Dense)             (None, 256)                  98560     ['concatenate[0][0]']         \n",
      "                                                                                                  \n",
      " dropout_8 (Dropout)         (None, 256)                  0         ['dense_8[0][0]']             \n",
      "                                                                                                  \n",
      " dense_9 (Dense)             (None, 128)                  32896     ['dropout_8[0][0]']           \n",
      "                                                                                                  \n",
      " dropout_9 (Dropout)         (None, 128)                  0         ['dense_9[0][0]']             \n",
      "                                                                                                  \n",
      " dense_10 (Dense)            (None, 10)                   1290      ['dropout_9[0][0]']           \n",
      "                                                                                                  \n",
      " dense_11 (Dense)            (None, 1)                    11        ['dense_10[0][0]']            \n",
      "                                                                                                  \n",
      "==================================================================================================\n",
      "Total params: 425429 (1.62 MB)\n",
      "Trainable params: 422613 (1.61 MB)\n",
      "Non-trainable params: 2816 (11.00 KB)\n",
      "__________________________________________________________________________________________________\n"
     ]
    }
   ],
   "source": [
    "simplegcn.summary()"
   ]
  },
  {
   "cell_type": "code",
   "execution_count": 86,
   "id": "e83ba73d-bc93-4d35-948a-3b99fa03ba78",
   "metadata": {},
   "outputs": [],
   "source": [
    "simplegcn.compile(loss = tf.keras.losses.MeanSquaredError(), \n",
    "                    optimizer = tf.keras.optimizers.Adam(learning_rate=0.0001), \n",
    "                    metrics = [tf.keras.metrics.RootMeanSquaredError()])"
   ]
  },
  {
   "cell_type": "code",
   "execution_count": 87,
   "id": "b1bd890b-7abb-4ebd-a082-0d98559a8981",
   "metadata": {},
   "outputs": [],
   "source": [
    "def chunks(lst, n):\n",
    "    \"\"\"Yield successive n-sized chunks from lst.\"\"\"\n",
    "    for i in range(0, len(lst), n):\n",
    "        yield lst[i:i + n]"
   ]
  },
  {
   "cell_type": "code",
   "execution_count": 88,
   "id": "f72bebfe-7ea5-4125-93bb-2a1f020a1289",
   "metadata": {},
   "outputs": [],
   "source": [
    "chunks = np.array_split(list(range(0,valid_gcn_feats.shape[0])), 3)"
   ]
  },
  {
   "cell_type": "code",
   "execution_count": 89,
   "id": "0372a2d6-2881-4b17-a2a2-b1e307f509a5",
   "metadata": {},
   "outputs": [],
   "source": [
    "test_index = 2"
   ]
  },
  {
   "cell_type": "code",
   "execution_count": 90,
   "id": "3fe2a8e3-d2c3-49d0-90de-d1a896ff37f5",
   "metadata": {},
   "outputs": [],
   "source": [
    "train_items = list(chunks[test_index])"
   ]
  },
  {
   "cell_type": "code",
   "execution_count": 91,
   "id": "76275e12-eec1-4f74-8251-cb08ea70c955",
   "metadata": {},
   "outputs": [],
   "source": [
    "test_items = list(set(list(range(0,valid_gcn_feats.shape[0]))).difference(train_items))"
   ]
  },
  {
   "cell_type": "code",
   "execution_count": 92,
   "id": "f5dfbf6f-3b54-4faf-8185-50818d58df7c",
   "metadata": {},
   "outputs": [
    {
     "name": "stdout",
     "output_type": "stream",
     "text": [
      "(5772, 100, 75) (11544, 100, 75)\n",
      "(5772, 100, 100) (11544, 100, 100)\n",
      "(5772, 691, 1) (11544, 691, 1)\n",
      "(5772,) (11544,)\n"
     ]
    }
   ],
   "source": [
    "# First the data - let's use a train set of 6k - then the rest will be test here (from the remaining values, use 3k for training the stacker, 1k for validation of it, and the rest ~7k as the final test data). \n",
    "# drug feats\n",
    "new_train_gcn_feats = valid_gcn_feats[train_items, :,:]\n",
    "new_test_gcn_feats = valid_gcn_feats[test_items, :,:]\n",
    "print(new_train_gcn_feats.shape, new_test_gcn_feats.shape)\n",
    "\n",
    "# drug adj info\n",
    "new_train_adj_list = valid_adj_list[train_items, :,:]\n",
    "new_test_adj_list = valid_adj_list[test_items, :,:]\n",
    "print(new_train_adj_list.shape, new_test_adj_list.shape)\n",
    "\n",
    "# cnv\n",
    "new_omics_cna_train = copy_number_valid[train_items, :]\n",
    "new_omics_cna_test = copy_number_valid[test_items,:]\n",
    "print(new_omics_cna_train.shape, new_omics_cna_test.shape)\n",
    "\n",
    "# y\n",
    "new_y_train = y_valid[train_items,]\n",
    "new_y_test = y_valid[test_items,]\n",
    "print(new_y_train.shape, new_y_test.shape)"
   ]
  },
  {
   "cell_type": "code",
   "execution_count": 93,
   "id": "565cc7ba-f3f0-40e3-adcb-2a08c74f92ec",
   "metadata": {},
   "outputs": [
    {
     "data": {
      "text/plain": [
       "(2.094244087144837, 2.8136855131635183)"
      ]
     },
     "execution_count": 93,
     "metadata": {},
     "output_type": "execute_result"
    }
   ],
   "source": [
    "new_y_train.mean(), new_y_train.std()"
   ]
  },
  {
   "cell_type": "code",
   "execution_count": 94,
   "id": "cc22860e-a72f-4546-9dc8-33324fc4f393",
   "metadata": {},
   "outputs": [],
   "source": [
    "# now, get the warm start weights from the previously trained network\n",
    "\n",
    "# import the model\n",
    "simpleGCN_original_model = tf.keras.models.load_model(\"../models/dualgcn_trained_on_domain/\")"
   ]
  },
  {
   "cell_type": "code",
   "execution_count": 95,
   "id": "ec4d850c-b9a8-4729-88d7-8e538981d3a9",
   "metadata": {},
   "outputs": [
    {
     "name": "stdout",
     "output_type": "stream",
     "text": [
      "Model: \"model\"\n",
      "__________________________________________________________________________________________________\n",
      " Layer (type)                Output Shape                 Param #   Connected to                  \n",
      "==================================================================================================\n",
      " input_3 (InputLayer)        [(None, 691, 1)]             0         []                            \n",
      "                                                                                                  \n",
      " input_4 (InputLayer)        [(None, 691, 1)]             0         []                            \n",
      "                                                                                                  \n",
      " dense_2 (Dense)             (None, 691, 32)              64        ['input_3[0][0]']             \n",
      "                                                                                                  \n",
      " dense_8 (Dense)             (None, 691, 32)              64        ['input_4[0][0]']             \n",
      "                                                                                                  \n",
      " dropout_2 (Dropout)         (None, 691, 32)              0         ['dense_2[0][0]']             \n",
      "                                                                                                  \n",
      " dropout_8 (Dropout)         (None, 691, 32)              0         ['dense_8[0][0]']             \n",
      "                                                                                                  \n",
      " dense_3 (Dense)             (None, 691, 128)             4224      ['dropout_2[0][0]']           \n",
      "                                                                                                  \n",
      " dense_9 (Dense)             (None, 691, 128)             4224      ['dropout_8[0][0]']           \n",
      "                                                                                                  \n",
      " dropout_3 (Dropout)         (None, 691, 128)             0         ['dense_3[0][0]']             \n",
      "                                                                                                  \n",
      " dropout_9 (Dropout)         (None, 691, 128)             0         ['dense_9[0][0]']             \n",
      "                                                                                                  \n",
      " dense_4 (Dense)             (None, 691, 256)             33024     ['dropout_3[0][0]']           \n",
      "                                                                                                  \n",
      " dense_10 (Dense)            (None, 691, 256)             33024     ['dropout_9[0][0]']           \n",
      "                                                                                                  \n",
      " batch_normalization_2 (Bat  (None, 691, 256)             1024      ['dense_4[0][0]']             \n",
      " chNormalization)                                                                                 \n",
      "                                                                                                  \n",
      " batch_normalization_6 (Bat  (None, 691, 256)             1024      ['dense_10[0][0]']            \n",
      " chNormalization)                                                                                 \n",
      "                                                                                                  \n",
      " dropout_4 (Dropout)         (None, 691, 256)             0         ['batch_normalization_2[0][0]'\n",
      "                                                                    ]                             \n",
      "                                                                                                  \n",
      " dropout_10 (Dropout)        (None, 691, 256)             0         ['batch_normalization_6[0][0]'\n",
      "                                                                    ]                             \n",
      "                                                                                                  \n",
      " dense_5 (Dense)             (None, 691, 256)             65792     ['dropout_4[0][0]']           \n",
      "                                                                                                  \n",
      " dense_11 (Dense)            (None, 691, 256)             65792     ['dropout_10[0][0]']          \n",
      "                                                                                                  \n",
      " input_2 (InputLayer)        [(None, 100, 100)]           0         []                            \n",
      "                                                                                                  \n",
      " input_1 (InputLayer)        [(None, 100, 75)]            0         []                            \n",
      "                                                                                                  \n",
      " batch_normalization_3 (Bat  (None, 691, 256)             1024      ['dense_5[0][0]']             \n",
      " chNormalization)                                                                                 \n",
      "                                                                                                  \n",
      " batch_normalization_7 (Bat  (None, 691, 256)             1024      ['dense_11[0][0]']            \n",
      " chNormalization)                                                                                 \n",
      "                                                                                                  \n",
      " dot (Dot)                   (None, 100, 75)              0         ['input_2[0][0]',             \n",
      "                                                                     'input_1[0][0]']             \n",
      "                                                                                                  \n",
      " dropout_5 (Dropout)         (None, 691, 256)             0         ['batch_normalization_3[0][0]'\n",
      "                                                                    ]                             \n",
      "                                                                                                  \n",
      " dropout_11 (Dropout)        (None, 691, 256)             0         ['batch_normalization_7[0][0]'\n",
      "                                                                    ]                             \n",
      "                                                                                                  \n",
      " dense (Dense)               (None, 100, 256)             19456     ['dot[0][0]']                 \n",
      "                                                                                                  \n",
      " dense_6 (Dense)             (None, 691, 256)             65792     ['dropout_5[0][0]']           \n",
      "                                                                                                  \n",
      " dense_12 (Dense)            (None, 691, 256)             65792     ['dropout_11[0][0]']          \n",
      "                                                                                                  \n",
      " batch_normalization (Batch  (None, 100, 256)             1024      ['dense[0][0]']               \n",
      " Normalization)                                                                                   \n",
      "                                                                                                  \n",
      " batch_normalization_4 (Bat  (None, 691, 256)             1024      ['dense_6[0][0]']             \n",
      " chNormalization)                                                                                 \n",
      "                                                                                                  \n",
      " batch_normalization_8 (Bat  (None, 691, 256)             1024      ['dense_12[0][0]']            \n",
      " chNormalization)                                                                                 \n",
      "                                                                                                  \n",
      " dropout (Dropout)           (None, 100, 256)             0         ['batch_normalization[0][0]'] \n",
      "                                                                                                  \n",
      " dropout_6 (Dropout)         (None, 691, 256)             0         ['batch_normalization_4[0][0]'\n",
      "                                                                    ]                             \n",
      "                                                                                                  \n",
      " dropout_12 (Dropout)        (None, 691, 256)             0         ['batch_normalization_8[0][0]'\n",
      "                                                                    ]                             \n",
      "                                                                                                  \n",
      " dot_1 (Dot)                 (None, 100, 256)             0         ['input_2[0][0]',             \n",
      "                                                                     'dropout[0][0]']             \n",
      "                                                                                                  \n",
      " dense_7 (Dense)             (None, 691, 256)             65792     ['dropout_6[0][0]']           \n",
      "                                                                                                  \n",
      " dense_13 (Dense)            (None, 691, 256)             65792     ['dropout_12[0][0]']          \n",
      "                                                                                                  \n",
      " dense_1 (Dense)             (None, 100, 128)             32896     ['dot_1[0][0]']               \n",
      "                                                                                                  \n",
      " batch_normalization_5 (Bat  (None, 691, 256)             1024      ['dense_7[0][0]']             \n",
      " chNormalization)                                                                                 \n",
      "                                                                                                  \n",
      " batch_normalization_9 (Bat  (None, 691, 256)             1024      ['dense_13[0][0]']            \n",
      " chNormalization)                                                                                 \n",
      "                                                                                                  \n",
      " batch_normalization_1 (Bat  (None, 100, 128)             512       ['dense_1[0][0]']             \n",
      " chNormalization)                                                                                 \n",
      "                                                                                                  \n",
      " dropout_7 (Dropout)         (None, 691, 256)             0         ['batch_normalization_5[0][0]'\n",
      "                                                                    ]                             \n",
      "                                                                                                  \n",
      " dropout_13 (Dropout)        (None, 691, 256)             0         ['batch_normalization_9[0][0]'\n",
      "                                                                    ]                             \n",
      "                                                                                                  \n",
      " dropout_1 (Dropout)         (None, 100, 128)             0         ['batch_normalization_1[0][0]'\n",
      "                                                                    ]                             \n",
      "                                                                                                  \n",
      " global_average_pooling1d_1  (None, 256)                  0         ['dropout_7[0][0]']           \n",
      "  (GlobalAveragePooling1D)                                                                        \n",
      "                                                                                                  \n",
      " global_average_pooling1d_2  (None, 256)                  0         ['dropout_13[0][0]']          \n",
      "  (GlobalAveragePooling1D)                                                                        \n",
      "                                                                                                  \n",
      " global_average_pooling1d (  (None, 128)                  0         ['dropout_1[0][0]']           \n",
      " GlobalAveragePooling1D)                                                                          \n",
      "                                                                                                  \n",
      " concatenate (Concatenate)   (None, 640)                  0         ['global_average_pooling1d_1[0\n",
      "                                                                    ][0]',                        \n",
      "                                                                     'global_average_pooling1d_2[0\n",
      "                                                                    ][0]',                        \n",
      "                                                                     'global_average_pooling1d[0][\n",
      "                                                                    0]']                          \n",
      "                                                                                                  \n",
      " dense_14 (Dense)            (None, 256)                  164096    ['concatenate[0][0]']         \n",
      "                                                                                                  \n",
      " dropout_14 (Dropout)        (None, 256)                  0         ['dense_14[0][0]']            \n",
      "                                                                                                  \n",
      " dense_15 (Dense)            (None, 128)                  32896     ['dropout_14[0][0]']          \n",
      "                                                                                                  \n",
      " dropout_15 (Dropout)        (None, 128)                  0         ['dense_15[0][0]']            \n",
      "                                                                                                  \n",
      " dense_16 (Dense)            (None, 10)                   1290      ['dropout_15[0][0]']          \n",
      "                                                                                                  \n",
      " dense_17 (Dense)            (None, 1)                    11        ['dense_16[0][0]']            \n",
      "                                                                                                  \n",
      "==================================================================================================\n",
      "Total params: 729749 (2.78 MB)\n",
      "Trainable params: 724885 (2.77 MB)\n",
      "Non-trainable params: 4864 (19.00 KB)\n",
      "__________________________________________________________________________________________________\n"
     ]
    }
   ],
   "source": [
    "simpleGCN_original_model.summary()"
   ]
  },
  {
   "cell_type": "code",
   "execution_count": 96,
   "id": "9a9e7a83-de96-4351-add2-2256f89bf7ff",
   "metadata": {},
   "outputs": [],
   "source": [
    "# get and set weights\n",
    "\n",
    "# get weights first\n",
    "\n",
    "# CNV\n",
    "Dense_1_weights, Dense_1_bias = simpleGCN_original_model.layers[2].get_weights()\n",
    "Dense_2_weights, Dense_2_bias = simpleGCN_original_model.layers[6].get_weights()\n",
    "Dense_3_weights, Dense_3_bias = simpleGCN_original_model.layers[10].get_weights()\n",
    "bn_1_weights = simpleGCN_original_model.layers[12].get_weights()\n",
    "Dense_4_weights, Dense_4_bias = simpleGCN_original_model.layers[16].get_weights()\n",
    "bn_2_weights = simpleGCN_original_model.layers[20].get_weights()\n",
    "Dense_5_weights, Dense_5_bias = simpleGCN_original_model.layers[26].get_weights()\n",
    "bn_3_weights = simpleGCN_original_model.layers[29].get_weights()\n",
    "Dense_6_weights, Dense_6_bias = simpleGCN_original_model.layers[35].get_weights()\n",
    "bn_4_weights = simpleGCN_original_model.layers[38].get_weights()\n",
    "\n",
    "# drugs\n",
    "Dense_1_weights_drug, Dense_1_bias_drug = simpleGCN_original_model.layers[25].get_weights()\n",
    "bn_1_weights_drug= simpleGCN_original_model.layers[28].get_weights()\n",
    "Dense_2_weights_drug, Dense_2_bias_drug = simpleGCN_original_model.layers[37].get_weights()\n",
    "bn_2_weights_drug= simpleGCN_original_model.layers[40].get_weights()\n",
    "\n",
    "# once concatenated\n",
    "Dense_1_weights_concat, Dense_1_bias_concat = simpleGCN_original_model.layers[50].get_weights()\n",
    "Dense_2_weights_concat, Dense_2_bias_concat = simpleGCN_original_model.layers[52].get_weights()\n",
    "Dense_final_weights_concat, Dense_final_bias_concat = simpleGCN_original_model.layers[53].get_weights()"
   ]
  },
  {
   "cell_type": "code",
   "execution_count": 97,
   "id": "f2e3d0e5-fb6c-4b2b-ab47-9f8f84fb49a0",
   "metadata": {},
   "outputs": [],
   "source": [
    "# set weights\n",
    "# cnv\n",
    "simplegcn.layers[1].set_weights((Dense_1_weights, Dense_1_bias))\n",
    "simplegcn.layers[3].set_weights((Dense_2_weights, Dense_2_bias))\n",
    "simplegcn.layers[5].set_weights((Dense_3_weights, Dense_3_bias))\n",
    "simplegcn.layers[6].set_weights(bn_1_weights)\n",
    "simplegcn.layers[8].set_weights((Dense_4_weights, Dense_4_bias))\n",
    "simplegcn.layers[11].set_weights(bn_2_weights)\n",
    "simplegcn.layers[15].set_weights((Dense_5_weights, Dense_5_bias))\n",
    "simplegcn.layers[17].set_weights(bn_3_weights)\n",
    "simplegcn.layers[21].set_weights((Dense_6_weights, Dense_6_bias))\n",
    "simplegcn.layers[23].set_weights(bn_4_weights)\n",
    "\n",
    "# drugs\n",
    "simplegcn.layers[14].set_weights((Dense_1_weights_drug, Dense_1_bias_drug))\n",
    "simplegcn.layers[16].set_weights(bn_1_weights_drug)\n",
    "simplegcn.layers[22].set_weights((Dense_2_weights_drug, Dense_2_bias_drug))\n",
    "simplegcn.layers[24].set_weights(bn_2_weights_drug)\n",
    "\n",
    "# concat\n",
    "simplegcn.layers[32].set_weights((Dense_1_weights_concat, Dense_1_bias_concat))\n",
    "simplegcn.layers[34].set_weights((Dense_2_weights_concat, Dense_2_bias_concat))\n",
    "simplegcn.layers[35].set_weights((Dense_final_weights_concat, Dense_final_bias_concat))"
   ]
  },
  {
   "cell_type": "code",
   "execution_count": 98,
   "id": "ebff6df3-7a4a-4fe9-870e-45bab44001ff",
   "metadata": {},
   "outputs": [
    {
     "name": "stdout",
     "output_type": "stream",
     "text": [
      "Epoch 1/1000\n"
     ]
    },
    {
     "name": "stderr",
     "output_type": "stream",
     "text": [
      "2024-08-14 11:18:50.625891: I external/local_xla/xla/service/service.cc:168] XLA service 0x14804c2f5150 initialized for platform CUDA (this does not guarantee that XLA will be used). Devices:\n",
      "2024-08-14 11:18:50.625942: I external/local_xla/xla/service/service.cc:176]   StreamExecutor device (0): Tesla V100S-PCIE-32GB, Compute Capability 7.0\n",
      "2024-08-14 11:18:50.666126: I tensorflow/compiler/mlir/tensorflow/utils/dump_mlir_util.cc:269] disabling MLIR crash reproducer, set env var `MLIR_CRASH_REPRODUCER_DIRECTORY` to enable.\n",
      "2024-08-14 11:18:50.757707: I external/local_xla/xla/stream_executor/cuda/cuda_dnn.cc:454] Loaded cuDNN version 8907\n",
      "WARNING: All log messages before absl::InitializeLog() is called are written to STDERR\n",
      "I0000 00:00:1723652330.980331 1508995 device_compiler.h:186] Compiled cluster using XLA!  This line is logged at most once for the lifetime of the process.\n"
     ]
    },
    {
     "name": "stdout",
     "output_type": "stream",
     "text": [
      "10/10 [==============================] - 9s 204ms/step - loss: 8.7318 - root_mean_squared_error: 2.9550 - val_loss: 7.6905 - val_root_mean_squared_error: 2.7732\n",
      "Epoch 2/1000\n",
      "10/10 [==============================] - 1s 145ms/step - loss: 6.8291 - root_mean_squared_error: 2.6133 - val_loss: 6.3424 - val_root_mean_squared_error: 2.5184\n",
      "Epoch 3/1000\n",
      "10/10 [==============================] - 1s 142ms/step - loss: 5.6883 - root_mean_squared_error: 2.3850 - val_loss: 5.6293 - val_root_mean_squared_error: 2.3726\n",
      "Epoch 4/1000\n",
      "10/10 [==============================] - 1s 146ms/step - loss: 4.9626 - root_mean_squared_error: 2.2277 - val_loss: 5.2184 - val_root_mean_squared_error: 2.2844\n",
      "Epoch 5/1000\n",
      "10/10 [==============================] - 1s 147ms/step - loss: 4.6140 - root_mean_squared_error: 2.1480 - val_loss: 4.5970 - val_root_mean_squared_error: 2.1441\n",
      "Epoch 6/1000\n",
      "10/10 [==============================] - 1s 145ms/step - loss: 4.2757 - root_mean_squared_error: 2.0678 - val_loss: 4.1904 - val_root_mean_squared_error: 2.0470\n",
      "Epoch 7/1000\n",
      "10/10 [==============================] - 1s 145ms/step - loss: 3.9801 - root_mean_squared_error: 1.9950 - val_loss: 3.9767 - val_root_mean_squared_error: 1.9942\n",
      "Epoch 8/1000\n",
      "10/10 [==============================] - 1s 143ms/step - loss: 3.8549 - root_mean_squared_error: 1.9634 - val_loss: 4.0444 - val_root_mean_squared_error: 2.0111\n",
      "Epoch 9/1000\n",
      "10/10 [==============================] - 1s 146ms/step - loss: 3.5822 - root_mean_squared_error: 1.8927 - val_loss: 3.8780 - val_root_mean_squared_error: 1.9693\n",
      "Epoch 10/1000\n",
      "10/10 [==============================] - 1s 142ms/step - loss: 3.5360 - root_mean_squared_error: 1.8804 - val_loss: 3.7315 - val_root_mean_squared_error: 1.9317\n",
      "Epoch 11/1000\n",
      "10/10 [==============================] - 1s 145ms/step - loss: 3.4637 - root_mean_squared_error: 1.8611 - val_loss: 3.5200 - val_root_mean_squared_error: 1.8762\n",
      "Epoch 12/1000\n",
      "10/10 [==============================] - 1s 143ms/step - loss: 3.4008 - root_mean_squared_error: 1.8441 - val_loss: 3.3807 - val_root_mean_squared_error: 1.8387\n",
      "Epoch 13/1000\n",
      "10/10 [==============================] - 1s 143ms/step - loss: 3.3023 - root_mean_squared_error: 1.8172 - val_loss: 3.2571 - val_root_mean_squared_error: 1.8047\n",
      "Epoch 14/1000\n",
      "10/10 [==============================] - 1s 144ms/step - loss: 3.3331 - root_mean_squared_error: 1.8257 - val_loss: 3.2610 - val_root_mean_squared_error: 1.8058\n",
      "Epoch 15/1000\n",
      "10/10 [==============================] - 1s 144ms/step - loss: 3.1980 - root_mean_squared_error: 1.7883 - val_loss: 3.2428 - val_root_mean_squared_error: 1.8008\n",
      "Epoch 16/1000\n",
      "10/10 [==============================] - 1s 146ms/step - loss: 3.2209 - root_mean_squared_error: 1.7947 - val_loss: 3.1641 - val_root_mean_squared_error: 1.7788\n",
      "Epoch 17/1000\n",
      "10/10 [==============================] - 1s 142ms/step - loss: 3.1886 - root_mean_squared_error: 1.7857 - val_loss: 3.3850 - val_root_mean_squared_error: 1.8398\n",
      "Epoch 18/1000\n",
      "10/10 [==============================] - 1s 143ms/step - loss: 3.0904 - root_mean_squared_error: 1.7579 - val_loss: 3.1117 - val_root_mean_squared_error: 1.7640\n",
      "Epoch 19/1000\n",
      "10/10 [==============================] - 1s 142ms/step - loss: 3.0796 - root_mean_squared_error: 1.7549 - val_loss: 3.1651 - val_root_mean_squared_error: 1.7791\n",
      "Epoch 20/1000\n",
      "10/10 [==============================] - 1s 145ms/step - loss: 3.0139 - root_mean_squared_error: 1.7361 - val_loss: 2.9849 - val_root_mean_squared_error: 1.7277\n",
      "Epoch 21/1000\n",
      "10/10 [==============================] - 1s 143ms/step - loss: 3.0448 - root_mean_squared_error: 1.7449 - val_loss: 3.1776 - val_root_mean_squared_error: 1.7826\n",
      "Epoch 22/1000\n",
      "10/10 [==============================] - 1s 143ms/step - loss: 3.0339 - root_mean_squared_error: 1.7418 - val_loss: 3.0252 - val_root_mean_squared_error: 1.7393\n",
      "Epoch 23/1000\n",
      "10/10 [==============================] - 2s 151ms/step - loss: 2.9921 - root_mean_squared_error: 1.7298 - val_loss: 2.9175 - val_root_mean_squared_error: 1.7081\n",
      "Epoch 24/1000\n",
      "10/10 [==============================] - 1s 147ms/step - loss: 2.9250 - root_mean_squared_error: 1.7103 - val_loss: 2.8269 - val_root_mean_squared_error: 1.6813\n",
      "Epoch 25/1000\n",
      "10/10 [==============================] - 1s 144ms/step - loss: 2.8814 - root_mean_squared_error: 1.6975 - val_loss: 2.9110 - val_root_mean_squared_error: 1.7062\n",
      "Epoch 26/1000\n",
      "10/10 [==============================] - 1s 142ms/step - loss: 2.9060 - root_mean_squared_error: 1.7047 - val_loss: 2.8721 - val_root_mean_squared_error: 1.6947\n",
      "Epoch 27/1000\n",
      "10/10 [==============================] - 1s 144ms/step - loss: 2.8805 - root_mean_squared_error: 1.6972 - val_loss: 2.8301 - val_root_mean_squared_error: 1.6823\n",
      "Epoch 28/1000\n",
      "10/10 [==============================] - 1s 143ms/step - loss: 2.9050 - root_mean_squared_error: 1.7044 - val_loss: 2.9312 - val_root_mean_squared_error: 1.7121\n",
      "Epoch 29/1000\n",
      "10/10 [==============================] - 1s 146ms/step - loss: 2.8778 - root_mean_squared_error: 1.6964 - val_loss: 2.8648 - val_root_mean_squared_error: 1.6926\n",
      "Epoch 30/1000\n",
      "10/10 [==============================] - 1s 144ms/step - loss: 2.8523 - root_mean_squared_error: 1.6889 - val_loss: 2.9655 - val_root_mean_squared_error: 1.7220\n",
      "Epoch 31/1000\n",
      "10/10 [==============================] - 1s 146ms/step - loss: 2.8257 - root_mean_squared_error: 1.6810 - val_loss: 2.7594 - val_root_mean_squared_error: 1.6611\n",
      "Epoch 32/1000\n",
      "10/10 [==============================] - 1s 144ms/step - loss: 2.7724 - root_mean_squared_error: 1.6650 - val_loss: 2.7876 - val_root_mean_squared_error: 1.6696\n",
      "Epoch 33/1000\n",
      "10/10 [==============================] - 1s 144ms/step - loss: 2.7525 - root_mean_squared_error: 1.6591 - val_loss: 2.8179 - val_root_mean_squared_error: 1.6787\n",
      "Epoch 34/1000\n",
      "10/10 [==============================] - 1s 143ms/step - loss: 2.8124 - root_mean_squared_error: 1.6770 - val_loss: 2.8866 - val_root_mean_squared_error: 1.6990\n",
      "Epoch 35/1000\n",
      "10/10 [==============================] - 1s 145ms/step - loss: 2.7299 - root_mean_squared_error: 1.6522 - val_loss: 2.7470 - val_root_mean_squared_error: 1.6574\n",
      "Epoch 36/1000\n",
      "10/10 [==============================] - 1s 143ms/step - loss: 2.7607 - root_mean_squared_error: 1.6615 - val_loss: 2.7867 - val_root_mean_squared_error: 1.6693\n",
      "Epoch 37/1000\n",
      "10/10 [==============================] - 1s 144ms/step - loss: 2.6882 - root_mean_squared_error: 1.6396 - val_loss: 2.8329 - val_root_mean_squared_error: 1.6831\n",
      "Epoch 38/1000\n",
      "10/10 [==============================] - 1s 146ms/step - loss: 2.7040 - root_mean_squared_error: 1.6444 - val_loss: 2.7233 - val_root_mean_squared_error: 1.6503\n",
      "Epoch 39/1000\n",
      "10/10 [==============================] - 1s 145ms/step - loss: 2.7395 - root_mean_squared_error: 1.6551 - val_loss: 2.7503 - val_root_mean_squared_error: 1.6584\n",
      "Epoch 40/1000\n",
      "10/10 [==============================] - 1s 144ms/step - loss: 2.6988 - root_mean_squared_error: 1.6428 - val_loss: 2.8591 - val_root_mean_squared_error: 1.6909\n",
      "Epoch 41/1000\n",
      "10/10 [==============================] - 1s 145ms/step - loss: 2.6558 - root_mean_squared_error: 1.6296 - val_loss: 2.8846 - val_root_mean_squared_error: 1.6984\n",
      "Epoch 42/1000\n",
      "10/10 [==============================] - 1s 145ms/step - loss: 2.6567 - root_mean_squared_error: 1.6299 - val_loss: 2.8073 - val_root_mean_squared_error: 1.6755\n",
      "Epoch 43/1000\n",
      "10/10 [==============================] - 1s 145ms/step - loss: 2.6735 - root_mean_squared_error: 1.6351 - val_loss: 2.7631 - val_root_mean_squared_error: 1.6623\n",
      "Epoch 44/1000\n",
      "10/10 [==============================] - 1s 145ms/step - loss: 2.6300 - root_mean_squared_error: 1.6217 - val_loss: 2.6894 - val_root_mean_squared_error: 1.6399\n",
      "Epoch 45/1000\n",
      "10/10 [==============================] - 1s 144ms/step - loss: 2.6187 - root_mean_squared_error: 1.6182 - val_loss: 2.6214 - val_root_mean_squared_error: 1.6191\n",
      "Epoch 46/1000\n",
      "10/10 [==============================] - 1s 143ms/step - loss: 2.5864 - root_mean_squared_error: 1.6082 - val_loss: 2.6491 - val_root_mean_squared_error: 1.6276\n",
      "Epoch 47/1000\n",
      "10/10 [==============================] - 1s 147ms/step - loss: 2.5790 - root_mean_squared_error: 1.6059 - val_loss: 2.5626 - val_root_mean_squared_error: 1.6008\n",
      "Epoch 48/1000\n",
      "10/10 [==============================] - 1s 146ms/step - loss: 2.5985 - root_mean_squared_error: 1.6120 - val_loss: 2.6802 - val_root_mean_squared_error: 1.6371\n",
      "Epoch 49/1000\n",
      "10/10 [==============================] - 1s 145ms/step - loss: 2.6382 - root_mean_squared_error: 1.6243 - val_loss: 2.7000 - val_root_mean_squared_error: 1.6432\n",
      "Epoch 50/1000\n",
      "10/10 [==============================] - 1s 144ms/step - loss: 2.6126 - root_mean_squared_error: 1.6164 - val_loss: 2.7237 - val_root_mean_squared_error: 1.6504\n",
      "Epoch 51/1000\n",
      "10/10 [==============================] - 1s 143ms/step - loss: 2.5957 - root_mean_squared_error: 1.6111 - val_loss: 2.7754 - val_root_mean_squared_error: 1.6659\n",
      "Epoch 52/1000\n",
      "10/10 [==============================] - 1s 144ms/step - loss: 2.5596 - root_mean_squared_error: 1.5999 - val_loss: 2.6843 - val_root_mean_squared_error: 1.6384\n",
      "Epoch 53/1000\n",
      "10/10 [==============================] - 1s 145ms/step - loss: 2.6294 - root_mean_squared_error: 1.6215 - val_loss: 2.7119 - val_root_mean_squared_error: 1.6468\n",
      "Epoch 54/1000\n",
      "10/10 [==============================] - 1s 144ms/step - loss: 2.5701 - root_mean_squared_error: 1.6032 - val_loss: 2.6097 - val_root_mean_squared_error: 1.6154\n",
      "Epoch 55/1000\n",
      "10/10 [==============================] - 1s 143ms/step - loss: 2.5768 - root_mean_squared_error: 1.6052 - val_loss: 2.5676 - val_root_mean_squared_error: 1.6024\n",
      "Epoch 56/1000\n",
      "10/10 [==============================] - 1s 143ms/step - loss: 2.5596 - root_mean_squared_error: 1.5999 - val_loss: 2.7019 - val_root_mean_squared_error: 1.6438\n",
      "Epoch 57/1000\n",
      "10/10 [==============================] - 1s 144ms/step - loss: 2.5238 - root_mean_squared_error: 1.5886 - val_loss: 2.6157 - val_root_mean_squared_error: 1.6173\n",
      "Epoch 58/1000\n",
      "10/10 [==============================] - 1s 144ms/step - loss: 2.5556 - root_mean_squared_error: 1.5986 - val_loss: 2.5899 - val_root_mean_squared_error: 1.6093\n",
      "Epoch 59/1000\n",
      "10/10 [==============================] - 1s 145ms/step - loss: 2.5528 - root_mean_squared_error: 1.5978 - val_loss: 2.6700 - val_root_mean_squared_error: 1.6340\n",
      "Epoch 60/1000\n",
      "10/10 [==============================] - 1s 144ms/step - loss: 2.5445 - root_mean_squared_error: 1.5952 - val_loss: 2.6492 - val_root_mean_squared_error: 1.6276\n",
      "Epoch 61/1000\n",
      "10/10 [==============================] - 1s 142ms/step - loss: 2.5547 - root_mean_squared_error: 1.5984 - val_loss: 2.6202 - val_root_mean_squared_error: 1.6187\n",
      "Epoch 62/1000\n",
      "10/10 [==============================] - 1s 144ms/step - loss: 2.4866 - root_mean_squared_error: 1.5769 - val_loss: 2.6103 - val_root_mean_squared_error: 1.6157\n",
      "Epoch 63/1000\n",
      "10/10 [==============================] - 1s 143ms/step - loss: 2.4945 - root_mean_squared_error: 1.5794 - val_loss: 2.6769 - val_root_mean_squared_error: 1.6361\n",
      "Epoch 64/1000\n",
      "10/10 [==============================] - 1s 142ms/step - loss: 2.5509 - root_mean_squared_error: 1.5972 - val_loss: 2.5711 - val_root_mean_squared_error: 1.6035\n",
      "Epoch 65/1000\n",
      "10/10 [==============================] - 1s 145ms/step - loss: 2.5271 - root_mean_squared_error: 1.5897 - val_loss: 2.5363 - val_root_mean_squared_error: 1.5926\n",
      "Epoch 66/1000\n",
      "10/10 [==============================] - 1s 144ms/step - loss: 2.5092 - root_mean_squared_error: 1.5840 - val_loss: 2.5105 - val_root_mean_squared_error: 1.5844\n",
      "Epoch 67/1000\n",
      "10/10 [==============================] - 1s 143ms/step - loss: 2.5361 - root_mean_squared_error: 1.5925 - val_loss: 2.5338 - val_root_mean_squared_error: 1.5918\n",
      "Epoch 68/1000\n",
      "10/10 [==============================] - 1s 143ms/step - loss: 2.5159 - root_mean_squared_error: 1.5861 - val_loss: 2.5289 - val_root_mean_squared_error: 1.5903\n",
      "Epoch 69/1000\n",
      "10/10 [==============================] - 1s 144ms/step - loss: 2.4899 - root_mean_squared_error: 1.5780 - val_loss: 2.5399 - val_root_mean_squared_error: 1.5937\n",
      "Epoch 70/1000\n",
      "10/10 [==============================] - 1s 144ms/step - loss: 2.4735 - root_mean_squared_error: 1.5727 - val_loss: 2.5502 - val_root_mean_squared_error: 1.5969\n",
      "Epoch 71/1000\n",
      "10/10 [==============================] - 1s 146ms/step - loss: 2.5141 - root_mean_squared_error: 1.5856 - val_loss: 2.5702 - val_root_mean_squared_error: 1.6032\n",
      "Epoch 72/1000\n",
      "10/10 [==============================] - 1s 141ms/step - loss: 2.4941 - root_mean_squared_error: 1.5793 - val_loss: 2.5734 - val_root_mean_squared_error: 1.6042\n",
      "Epoch 73/1000\n",
      "10/10 [==============================] - 1s 141ms/step - loss: 2.4564 - root_mean_squared_error: 1.5673 - val_loss: 2.5212 - val_root_mean_squared_error: 1.5878\n",
      "Epoch 74/1000\n",
      "10/10 [==============================] - 1s 142ms/step - loss: 2.4795 - root_mean_squared_error: 1.5746 - val_loss: 2.5861 - val_root_mean_squared_error: 1.6081\n",
      "Epoch 75/1000\n",
      "10/10 [==============================] - 1s 144ms/step - loss: 2.4412 - root_mean_squared_error: 1.5624 - val_loss: 2.4458 - val_root_mean_squared_error: 1.5639\n",
      "Epoch 76/1000\n",
      "10/10 [==============================] - 1s 144ms/step - loss: 2.4861 - root_mean_squared_error: 1.5767 - val_loss: 2.5150 - val_root_mean_squared_error: 1.5859\n",
      "Epoch 77/1000\n",
      "10/10 [==============================] - 1s 143ms/step - loss: 2.4619 - root_mean_squared_error: 1.5690 - val_loss: 2.4960 - val_root_mean_squared_error: 1.5799\n",
      "Epoch 78/1000\n",
      "10/10 [==============================] - 1s 142ms/step - loss: 2.4414 - root_mean_squared_error: 1.5625 - val_loss: 2.4152 - val_root_mean_squared_error: 1.5541\n",
      "Epoch 79/1000\n",
      "10/10 [==============================] - 1s 141ms/step - loss: 2.4735 - root_mean_squared_error: 1.5727 - val_loss: 2.5125 - val_root_mean_squared_error: 1.5851\n",
      "Epoch 80/1000\n",
      "10/10 [==============================] - 1s 144ms/step - loss: 2.5040 - root_mean_squared_error: 1.5824 - val_loss: 2.4694 - val_root_mean_squared_error: 1.5714\n",
      "Epoch 81/1000\n",
      "10/10 [==============================] - 1s 144ms/step - loss: 2.4268 - root_mean_squared_error: 1.5578 - val_loss: 2.5513 - val_root_mean_squared_error: 1.5973\n",
      "Epoch 82/1000\n",
      "10/10 [==============================] - 1s 143ms/step - loss: 2.4591 - root_mean_squared_error: 1.5682 - val_loss: 2.5124 - val_root_mean_squared_error: 1.5851\n",
      "Epoch 83/1000\n",
      "10/10 [==============================] - 1s 144ms/step - loss: 2.4101 - root_mean_squared_error: 1.5525 - val_loss: 2.5038 - val_root_mean_squared_error: 1.5823\n",
      "Epoch 84/1000\n",
      "10/10 [==============================] - 1s 143ms/step - loss: 2.4516 - root_mean_squared_error: 1.5658 - val_loss: 2.4496 - val_root_mean_squared_error: 1.5651\n",
      "Epoch 85/1000\n",
      "10/10 [==============================] - 1s 142ms/step - loss: 2.4305 - root_mean_squared_error: 1.5590 - val_loss: 2.4724 - val_root_mean_squared_error: 1.5724\n",
      "Epoch 86/1000\n",
      "10/10 [==============================] - 1s 143ms/step - loss: 2.3697 - root_mean_squared_error: 1.5394 - val_loss: 2.5722 - val_root_mean_squared_error: 1.6038\n",
      "Epoch 87/1000\n",
      "10/10 [==============================] - 1s 142ms/step - loss: 2.4199 - root_mean_squared_error: 1.5556 - val_loss: 2.4522 - val_root_mean_squared_error: 1.5659\n",
      "Epoch 88/1000\n",
      "10/10 [==============================] - 1s 142ms/step - loss: 2.4170 - root_mean_squared_error: 1.5547 - val_loss: 2.5005 - val_root_mean_squared_error: 1.5813\n",
      "Epoch 89/1000\n",
      "10/10 [==============================] - 1s 143ms/step - loss: 2.3675 - root_mean_squared_error: 1.5387 - val_loss: 2.4257 - val_root_mean_squared_error: 1.5575\n",
      "Epoch 90/1000\n",
      "10/10 [==============================] - 1s 143ms/step - loss: 2.4618 - root_mean_squared_error: 1.5690 - val_loss: 2.5265 - val_root_mean_squared_error: 1.5895\n",
      "Epoch 91/1000\n",
      "10/10 [==============================] - 1s 142ms/step - loss: 2.3780 - root_mean_squared_error: 1.5421 - val_loss: 2.4267 - val_root_mean_squared_error: 1.5578\n",
      "Epoch 92/1000\n",
      "10/10 [==============================] - 1s 143ms/step - loss: 2.4293 - root_mean_squared_error: 1.5586 - val_loss: 2.5302 - val_root_mean_squared_error: 1.5907\n",
      "Epoch 93/1000\n",
      "10/10 [==============================] - 1s 142ms/step - loss: 2.4185 - root_mean_squared_error: 1.5552 - val_loss: 2.5075 - val_root_mean_squared_error: 1.5835\n",
      "Epoch 94/1000\n",
      "10/10 [==============================] - 1s 141ms/step - loss: 2.4111 - root_mean_squared_error: 1.5528 - val_loss: 2.4474 - val_root_mean_squared_error: 1.5644\n",
      "Epoch 95/1000\n",
      "10/10 [==============================] - 1s 146ms/step - loss: 2.3877 - root_mean_squared_error: 1.5452 - val_loss: 2.4613 - val_root_mean_squared_error: 1.5689\n",
      "Epoch 96/1000\n",
      "10/10 [==============================] - 1s 143ms/step - loss: 2.3812 - root_mean_squared_error: 1.5431 - val_loss: 2.4236 - val_root_mean_squared_error: 1.5568\n",
      "Epoch 97/1000\n",
      "10/10 [==============================] - 1s 144ms/step - loss: 2.3490 - root_mean_squared_error: 1.5326 - val_loss: 2.5063 - val_root_mean_squared_error: 1.5831\n",
      "Epoch 98/1000\n",
      "10/10 [==============================] - 1s 144ms/step - loss: 2.3490 - root_mean_squared_error: 1.5326 - val_loss: 2.4535 - val_root_mean_squared_error: 1.5664\n",
      "CPU times: user 2min 10s, sys: 3.77 s, total: 2min 13s\n",
      "Wall time: 2min 29s\n"
     ]
    }
   ],
   "source": [
    "%%time\n",
    "history = simplegcn.fit([new_train_gcn_feats, new_train_adj_list, new_omics_cna_train], new_y_train, \n",
    "                         \n",
    "          batch_size = 512, epochs = 1000, verbose = 1,\n",
    "                         \n",
    "          validation_split = 0.2,\n",
    "                         \n",
    "\n",
    "        callbacks = tf.keras.callbacks.EarlyStopping(monitor = \"val_loss\", patience = 20, restore_best_weights=True,\n",
    "                                                       mode = \"min\"), \n",
    "         validation_batch_size = 512, shuffle = True)"
   ]
  },
  {
   "cell_type": "code",
   "execution_count": 99,
   "id": "163c3816-113b-4011-bc7e-9d312f422388",
   "metadata": {},
   "outputs": [
    {
     "name": "stdout",
     "output_type": "stream",
     "text": [
      "INFO:tensorflow:Assets written to: ..//models//ablation_dualgcn_complete_fine_tuned_split_2/assets\n"
     ]
    },
    {
     "name": "stderr",
     "output_type": "stream",
     "text": [
      "INFO:tensorflow:Assets written to: ..//models//ablation_dualgcn_complete_fine_tuned_split_2/assets\n"
     ]
    }
   ],
   "source": [
    "simplegcn.save(\"..//models//ablation_dualgcn_complete_fine_tuned_split_\" + str(test_index))"
   ]
  },
  {
   "cell_type": "code",
   "execution_count": 100,
   "id": "493de5e5-cbdb-415d-8821-fd3e7f88b8e3",
   "metadata": {},
   "outputs": [],
   "source": [
    "reps = 25"
   ]
  },
  {
   "cell_type": "code",
   "execution_count": 101,
   "id": "7912ea85-b6a9-4008-bcee-9e7c2ba377b8",
   "metadata": {},
   "outputs": [
    {
     "name": "stdout",
     "output_type": "stream",
     "text": [
      "0\n",
      "1\n",
      "2\n",
      "3\n",
      "4\n",
      "5\n",
      "6\n",
      "7\n",
      "8\n",
      "9\n",
      "10\n",
      "11\n",
      "12\n",
      "13\n",
      "14\n",
      "15\n",
      "16\n",
      "17\n",
      "18\n",
      "19\n",
      "20\n",
      "21\n",
      "22\n",
      "23\n",
      "24\n",
      "CPU times: user 43.6 s, sys: 6.6 s, total: 50.2 s\n",
      "Wall time: 52.6 s\n"
     ]
    }
   ],
   "source": [
    "%%time\n",
    "catch_preds = np.zeros((new_test_gcn_feats.shape[0],reps))\n",
    "for i in range(0,reps):\n",
    "    print(i)\n",
    "    preds = simplegcn.predict([ new_test_gcn_feats, new_test_adj_list, new_omics_cna_test], \n",
    "                              batch_size = 1024, verbose = 0)\n",
    "    catch_preds[:,i] = preds[:,0]"
   ]
  },
  {
   "cell_type": "code",
   "execution_count": 102,
   "id": "6d663744-fb94-4e9d-88f3-3374407476dc",
   "metadata": {},
   "outputs": [],
   "source": [
    "preds_data = np.hstack((new_y_test.reshape(-1,1), catch_preds))"
   ]
  },
  {
   "cell_type": "code",
   "execution_count": 103,
   "id": "61099e76-7e23-4552-add3-50e838e5d751",
   "metadata": {},
   "outputs": [],
   "source": [
    "np.save(\"..//data//ablation_dualgcn_complete_preds_val_and_test_\" +str(test_index) + \".npy\",preds_data )"
   ]
  }
 ],
 "metadata": {
  "kernelspec": {
   "display_name": "Python (tfp_for_TN)",
   "language": "python",
   "name": "tfp_for_tn"
  },
  "language_info": {
   "codemirror_mode": {
    "name": "ipython",
    "version": 3
   },
   "file_extension": ".py",
   "mimetype": "text/x-python",
   "name": "python",
   "nbconvert_exporter": "python",
   "pygments_lexer": "ipython3",
   "version": "3.10.14"
  }
 },
 "nbformat": 4,
 "nbformat_minor": 5
}
