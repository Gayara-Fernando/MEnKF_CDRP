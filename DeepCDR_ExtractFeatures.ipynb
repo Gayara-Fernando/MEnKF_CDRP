{
 "cells": [
  {
   "cell_type": "code",
   "execution_count": 1,
   "id": "0572d546-ea4b-4a3b-b7a5-9840d8a15742",
   "metadata": {},
   "outputs": [
    {
     "name": "stderr",
     "output_type": "stream",
     "text": [
      "2024-07-12 09:12:16.517687: I tensorflow/core/util/port.cc:113] oneDNN custom operations are on. You may see slightly different numerical results due to floating-point round-off errors from different computation orders. To turn them off, set the environment variable `TF_ENABLE_ONEDNN_OPTS=0`.\n",
      "2024-07-12 09:12:16.789280: E external/local_xla/xla/stream_executor/cuda/cuda_dnn.cc:9261] Unable to register cuDNN factory: Attempting to register factory for plugin cuDNN when one has already been registered\n",
      "2024-07-12 09:12:16.789337: E external/local_xla/xla/stream_executor/cuda/cuda_fft.cc:607] Unable to register cuFFT factory: Attempting to register factory for plugin cuFFT when one has already been registered\n",
      "2024-07-12 09:12:16.844685: E external/local_xla/xla/stream_executor/cuda/cuda_blas.cc:1515] Unable to register cuBLAS factory: Attempting to register factory for plugin cuBLAS when one has already been registered\n",
      "2024-07-12 09:12:16.929244: I tensorflow/core/platform/cpu_feature_guard.cc:182] This TensorFlow binary is optimized to use available CPU instructions in performance-critical operations.\n",
      "To enable the following instructions: SSE4.1 SSE4.2 AVX AVX2 AVX512F AVX512_VNNI FMA, in other operations, rebuild TensorFlow with the appropriate compiler flags.\n"
     ]
    }
   ],
   "source": [
    "import tensorflow as tf\n",
    "import pandas as pd\n",
    "import numpy as np\n",
    "import keras.backend as K\n",
    "import scipy.sparse as sp\n",
    "import random\n",
    "from sklearn.preprocessing import StandardScaler"
   ]
  },
  {
   "cell_type": "code",
   "execution_count": 2,
   "id": "cbb3d474-b564-4bad-a51c-c215ef6cbe05",
   "metadata": {},
   "outputs": [
    {
     "name": "stderr",
     "output_type": "stream",
     "text": [
      "2024-07-12 09:12:31.127314: I tensorflow/core/common_runtime/gpu/gpu_device.cc:1929] Created device /job:localhost/replica:0/task:0/device:GPU:0 with 31141 MB memory:  -> device: 0, name: Tesla V100S-PCIE-32GB, pci bus id: 0000:86:00.0, compute capability: 7.0\n"
     ]
    }
   ],
   "source": [
    "# load the trained model\n",
    "model = tf.keras.models.load_model(\"..//models//deepcdr_trained_on_domain\")"
   ]
  },
  {
   "cell_type": "code",
   "execution_count": 3,
   "id": "49c29701-554f-4738-b062-61f894e02f28",
   "metadata": {},
   "outputs": [
    {
     "name": "stdout",
     "output_type": "stream",
     "text": [
      "Model: \"model\"\n",
      "__________________________________________________________________________________________________\n",
      " Layer (type)                Output Shape                 Param #   Connected to                  \n",
      "==================================================================================================\n",
      " input_2 (InputLayer)        [(None, 100, 100)]           0         []                            \n",
      "                                                                                                  \n",
      " input_1 (InputLayer)        [(None, 100, 75)]            0         []                            \n",
      "                                                                                                  \n",
      " dot (Dot)                   (None, 100, 75)              0         ['input_2[0][0]',             \n",
      "                                                                     'input_1[0][0]']             \n",
      "                                                                                                  \n",
      " dense (Dense)               (None, 100, 256)             19456     ['dot[0][0]']                 \n",
      "                                                                                                  \n",
      " batch_normalization (Batch  (None, 100, 256)             1024      ['dense[0][0]']               \n",
      " Normalization)                                                                                   \n",
      "                                                                                                  \n",
      " dropout (Dropout)           (None, 100, 256)             0         ['batch_normalization[0][0]'] \n",
      "                                                                                                  \n",
      " dot_1 (Dot)                 (None, 100, 256)             0         ['input_2[0][0]',             \n",
      "                                                                     'dropout[0][0]']             \n",
      "                                                                                                  \n",
      " dense_1 (Dense)             (None, 100, 256)             65792     ['dot_1[0][0]']               \n",
      "                                                                                                  \n",
      " input_5 (InputLayer)        [(None, 34673)]              0         []                            \n",
      "                                                                                                  \n",
      " batch_normalization_1 (Bat  (None, 100, 256)             1024      ['dense_1[0][0]']             \n",
      " chNormalization)                                                                                 \n",
      "                                                                                                  \n",
      " reshape (Reshape)           (None, 1, 34673, 1)          0         ['input_5[0][0]']             \n",
      "                                                                                                  \n",
      " dropout_1 (Dropout)         (None, 100, 256)             0         ['batch_normalization_1[0][0]'\n",
      "                                                                    ]                             \n",
      "                                                                                                  \n",
      " input_4 (InputLayer)        [(None, 808)]                0         []                            \n",
      "                                                                                                  \n",
      " conv2d (Conv2D)             (None, 1, 6795, 50)          35050     ['reshape[0][0]']             \n",
      "                                                                                                  \n",
      " input_3 (InputLayer)        [(None, 691)]                0         []                            \n",
      "                                                                                                  \n",
      " dot_2 (Dot)                 (None, 100, 256)             0         ['input_2[0][0]',             \n",
      "                                                                     'dropout_1[0][0]']           \n",
      "                                                                                                  \n",
      " dense_5 (Dense)             (None, 256)                  207104    ['input_4[0][0]']             \n",
      "                                                                                                  \n",
      " max_pooling2d (MaxPooling2  (None, 1, 1359, 50)          0         ['conv2d[0][0]']              \n",
      " D)                                                                                               \n",
      "                                                                                                  \n",
      " dense_3 (Dense)             (None, 256)                  177152    ['input_3[0][0]']             \n",
      "                                                                                                  \n",
      " dense_2 (Dense)             (None, 100, 100)             25700     ['dot_2[0][0]']               \n",
      "                                                                                                  \n",
      " batch_normalization_4 (Bat  (None, 256)                  1024      ['dense_5[0][0]']             \n",
      " chNormalization)                                                                                 \n",
      "                                                                                                  \n",
      " conv2d_1 (Conv2D)           (None, 1, 678, 30)           7530      ['max_pooling2d[0][0]']       \n",
      "                                                                                                  \n",
      " batch_normalization_3 (Bat  (None, 256)                  1024      ['dense_3[0][0]']             \n",
      " chNormalization)                                                                                 \n",
      "                                                                                                  \n",
      " batch_normalization_2 (Bat  (None, 100, 100)             400       ['dense_2[0][0]']             \n",
      " chNormalization)                                                                                 \n",
      "                                                                                                  \n",
      " dropout_4 (Dropout)         (None, 256)                  0         ['batch_normalization_4[0][0]'\n",
      "                                                                    ]                             \n",
      "                                                                                                  \n",
      " max_pooling2d_1 (MaxPoolin  (None, 1, 67, 30)            0         ['conv2d_1[0][0]']            \n",
      " g2D)                                                                                             \n",
      "                                                                                                  \n",
      " dropout_3 (Dropout)         (None, 256)                  0         ['batch_normalization_3[0][0]'\n",
      "                                                                    ]                             \n",
      "                                                                                                  \n",
      " dropout_2 (Dropout)         (None, 100, 100)             0         ['batch_normalization_2[0][0]'\n",
      "                                                                    ]                             \n",
      "                                                                                                  \n",
      " dense_6 (Dense)             (None, 100)                  25700     ['dropout_4[0][0]']           \n",
      "                                                                                                  \n",
      " flatten (Flatten)           (None, 2010)                 0         ['max_pooling2d_1[0][0]']     \n",
      "                                                                                                  \n",
      " dense_4 (Dense)             (None, 100)                  25700     ['dropout_3[0][0]']           \n",
      "                                                                                                  \n",
      " global_average_pooling1d (  (None, 100)                  0         ['dropout_2[0][0]']           \n",
      " GlobalAveragePooling1D)                                                                          \n",
      "                                                                                                  \n",
      " concatenate (Concatenate)   (None, 2310)                 0         ['dense_6[0][0]',             \n",
      "                                                                     'flatten[0][0]',             \n",
      "                                                                     'dense_4[0][0]',             \n",
      "                                                                     'global_average_pooling1d[0][\n",
      "                                                                    0]']                          \n",
      "                                                                                                  \n",
      " dense_7 (Dense)             (None, 300)                  693300    ['concatenate[0][0]']         \n",
      "                                                                                                  \n",
      " dropout_5 (Dropout)         (None, 300)                  0         ['dense_7[0][0]']             \n",
      "                                                                                                  \n",
      " lambda (Lambda)             (None, 300, 1)               0         ['dropout_5[0][0]']           \n",
      "                                                                                                  \n",
      " lambda_1 (Lambda)           (None, 1, 300, 1)            0         ['lambda[0][0]']              \n",
      "                                                                                                  \n",
      " conv2d_2 (Conv2D)           (None, 1, 151, 30)           4530      ['lambda_1[0][0]']            \n",
      "                                                                                                  \n",
      " max_pooling2d_2 (MaxPoolin  (None, 1, 75, 30)            0         ['conv2d_2[0][0]']            \n",
      " g2D)                                                                                             \n",
      "                                                                                                  \n",
      " conv2d_3 (Conv2D)           (None, 1, 71, 10)            1510      ['max_pooling2d_2[0][0]']     \n",
      "                                                                                                  \n",
      " max_pooling2d_3 (MaxPoolin  (None, 1, 23, 10)            0         ['conv2d_3[0][0]']            \n",
      " g2D)                                                                                             \n",
      "                                                                                                  \n",
      " conv2d_4 (Conv2D)           (None, 1, 19, 5)             255       ['max_pooling2d_3[0][0]']     \n",
      "                                                                                                  \n",
      " max_pooling2d_4 (MaxPoolin  (None, 1, 6, 5)              0         ['conv2d_4[0][0]']            \n",
      " g2D)                                                                                             \n",
      "                                                                                                  \n",
      " dropout_6 (Dropout)         (None, 1, 6, 5)              0         ['max_pooling2d_4[0][0]']     \n",
      "                                                                                                  \n",
      " flatten_1 (Flatten)         (None, 30)                   0         ['dropout_6[0][0]']           \n",
      "                                                                                                  \n",
      " dropout_7 (Dropout)         (None, 30)                   0         ['flatten_1[0][0]']           \n",
      "                                                                                                  \n",
      " dense_8 (Dense)             (None, 1)                    31        ['dropout_7[0][0]']           \n",
      "                                                                                                  \n",
      "==================================================================================================\n",
      "Total params: 1293306 (4.93 MB)\n",
      "Trainable params: 1291058 (4.92 MB)\n",
      "Non-trainable params: 2248 (8.78 KB)\n",
      "__________________________________________________________________________________________________\n"
     ]
    }
   ],
   "source": [
    "model.summary()"
   ]
  },
  {
   "cell_type": "code",
   "execution_count": 4,
   "id": "4b4211df-7533-4e3a-af88-5041eebb09bb",
   "metadata": {},
   "outputs": [],
   "source": [
    "# tf.keras.utils.plot_model(model, show_shapes = True)"
   ]
  },
  {
   "cell_type": "code",
   "execution_count": 5,
   "id": "25266105-4b98-4403-99c8-1368306579db",
   "metadata": {},
   "outputs": [],
   "source": [
    "drug_output = model.get_layer(\"global_average_pooling1d\").output"
   ]
  },
  {
   "cell_type": "code",
   "execution_count": 6,
   "id": "5f5dd169-c982-463e-ba3e-71bc42431899",
   "metadata": {},
   "outputs": [
    {
     "data": {
      "text/plain": [
       "TensorShape([None, 100])"
      ]
     },
     "execution_count": 6,
     "metadata": {},
     "output_type": "execute_result"
    }
   ],
   "source": [
    "drug_output.shape"
   ]
  },
  {
   "cell_type": "code",
   "execution_count": 7,
   "id": "eb35980d-1123-4fe5-994a-ab6e65152fec",
   "metadata": {},
   "outputs": [
    {
     "data": {
      "text/plain": [
       "TensorShape([None, 100])"
      ]
     },
     "execution_count": 7,
     "metadata": {},
     "output_type": "execute_result"
    }
   ],
   "source": [
    "gene_expr_output = model.get_layer(\"dense_4\").output\n",
    "gene_expr_output.shape"
   ]
  },
  {
   "cell_type": "code",
   "execution_count": 8,
   "id": "bec8cff4-d065-4796-b166-ea902156cdc1",
   "metadata": {},
   "outputs": [
    {
     "data": {
      "text/plain": [
       "TensorShape([None, 300])"
      ]
     },
     "execution_count": 8,
     "metadata": {},
     "output_type": "execute_result"
    }
   ],
   "source": [
    "methyl_out = model.get_layer(\"dense_7\").output\n",
    "methyl_out.shape"
   ]
  },
  {
   "cell_type": "code",
   "execution_count": 9,
   "id": "d614d006-b8f9-4d25-b5e9-7c0c0338d135",
   "metadata": {},
   "outputs": [
    {
     "data": {
      "text/plain": [
       "TensorShape([None, 2010])"
      ]
     },
     "execution_count": 9,
     "metadata": {},
     "output_type": "execute_result"
    }
   ],
   "source": [
    "mutation_out = model.get_layer(\"flatten\").output\n",
    "mutation_out.shape"
   ]
  },
  {
   "cell_type": "code",
   "execution_count": 10,
   "id": "5cdc8d63-f8f4-4133-a2f4-8a2d4c7f67ac",
   "metadata": {},
   "outputs": [],
   "source": [
    "extract_model = tf.keras.models.Model(model.input, [gene_expr_output, methyl_out, mutation_out, drug_output])"
   ]
  },
  {
   "cell_type": "code",
   "execution_count": 11,
   "id": "8d388b11-e016-40a0-9db7-6dc608859cf6",
   "metadata": {},
   "outputs": [],
   "source": [
    "# Import and prep the data"
   ]
  },
  {
   "cell_type": "code",
   "execution_count": 12,
   "id": "7ec1a317-92cb-4d0d-9065-f7317123393f",
   "metadata": {},
   "outputs": [
    {
     "name": "stdout",
     "output_type": "stream",
     "text": [
      "(208734, 3)\n",
      "(238, 2)\n"
     ]
    }
   ],
   "source": [
    "# import the response data\n",
    "drugs_cell_lines_ic50_df = pd.read_csv(\"..//data/drugs_cell_lines_ic50.csv\") \n",
    "print(drugs_cell_lines_ic50_df.shape)\n",
    "# import the drug smiles data\n",
    "pubchem_drugs_smiles_df = pd.read_csv('..//data/drugs_smile_strings.csv')\n",
    "print(pubchem_drugs_smiles_df.shape)\n",
    "\n",
    "drugs_smiles_cell_lines_ic50_df = pd.merge(drugs_cell_lines_ic50_df, pubchem_drugs_smiles_df, \n",
    "                                             on = \"drug_id\")\n",
    "drugs_smiles_cell_lines_ic50_df = drugs_smiles_cell_lines_ic50_df[[\"drug_id\", \"Cancer_Cell_Line\", \"Smiles\", \"IC50\"]]\n",
    "drugs_smiles_cell_lines_ic50_df.dtypes\n",
    "drugs_smiles_cell_lines_ic50_df[\"drug_id\"] = drugs_smiles_cell_lines_ic50_df[\"drug_id\"].astype(object)\n"
   ]
  },
  {
   "cell_type": "code",
   "execution_count": 13,
   "id": "7108621e-fdae-41ba-8e8a-233dcf340c4c",
   "metadata": {},
   "outputs": [
    {
     "data": {
      "text/plain": [
       "(186789, 4)"
      ]
     },
     "execution_count": 13,
     "metadata": {},
     "output_type": "execute_result"
    }
   ],
   "source": [
    "drugs_smiles_cell_lines_ic50_df.shape"
   ]
  },
  {
   "cell_type": "code",
   "execution_count": 14,
   "id": "95334304-c35a-4dc8-a85f-c7943f1b2aff",
   "metadata": {},
   "outputs": [
    {
     "data": {
      "text/html": [
       "<div>\n",
       "<style scoped>\n",
       "    .dataframe tbody tr th:only-of-type {\n",
       "        vertical-align: middle;\n",
       "    }\n",
       "\n",
       "    .dataframe tbody tr th {\n",
       "        vertical-align: top;\n",
       "    }\n",
       "\n",
       "    .dataframe thead th {\n",
       "        text-align: right;\n",
       "    }\n",
       "</style>\n",
       "<table border=\"1\" class=\"dataframe\">\n",
       "  <thead>\n",
       "    <tr style=\"text-align: right;\">\n",
       "      <th></th>\n",
       "      <th>drug_id</th>\n",
       "      <th>Cancer_Cell_Line</th>\n",
       "      <th>Smiles</th>\n",
       "      <th>IC50</th>\n",
       "    </tr>\n",
       "  </thead>\n",
       "  <tbody>\n",
       "    <tr>\n",
       "      <th>0</th>\n",
       "      <td>1001</td>\n",
       "      <td>ACH-002137</td>\n",
       "      <td>NC(=O)c1ncn(C2OC(COP(=O)(O)O)C(O)C2O)c1N</td>\n",
       "      <td>7.258918</td>\n",
       "    </tr>\n",
       "    <tr>\n",
       "      <th>1</th>\n",
       "      <td>1004</td>\n",
       "      <td>ACH-002137</td>\n",
       "      <td>CCC1(O)CC2CN(CCc3c([nH]c4ccccc34)C(C(=O)OC)(c3...</td>\n",
       "      <td>-3.802467</td>\n",
       "    </tr>\n",
       "    <tr>\n",
       "      <th>2</th>\n",
       "      <td>1005</td>\n",
       "      <td>ACH-002137</td>\n",
       "      <td>N.N.[Cl-].[Cl-].[Pt+2]</td>\n",
       "      <td>4.146364</td>\n",
       "    </tr>\n",
       "    <tr>\n",
       "      <th>3</th>\n",
       "      <td>1006</td>\n",
       "      <td>ACH-002137</td>\n",
       "      <td>Nc1ccn(C2OC(CO)C(O)C2O)c(=O)n1</td>\n",
       "      <td>3.171367</td>\n",
       "    </tr>\n",
       "    <tr>\n",
       "      <th>4</th>\n",
       "      <td>1007</td>\n",
       "      <td>ACH-002137</td>\n",
       "      <td>CC(=O)OC12COC1CC(O)C1(C)C(=O)C(O)C3=C(C)C(OC(=...</td>\n",
       "      <td>-4.959442</td>\n",
       "    </tr>\n",
       "  </tbody>\n",
       "</table>\n",
       "</div>"
      ],
      "text/plain": [
       "  drug_id Cancer_Cell_Line                                             Smiles  \\\n",
       "0    1001       ACH-002137           NC(=O)c1ncn(C2OC(COP(=O)(O)O)C(O)C2O)c1N   \n",
       "1    1004       ACH-002137  CCC1(O)CC2CN(CCc3c([nH]c4ccccc34)C(C(=O)OC)(c3...   \n",
       "2    1005       ACH-002137                             N.N.[Cl-].[Cl-].[Pt+2]   \n",
       "3    1006       ACH-002137                     Nc1ccn(C2OC(CO)C(O)C2O)c(=O)n1   \n",
       "4    1007       ACH-002137  CC(=O)OC12COC1CC(O)C1(C)C(=O)C(O)C3=C(C)C(OC(=...   \n",
       "\n",
       "       IC50  \n",
       "0  7.258918  \n",
       "1 -3.802467  \n",
       "2  4.146364  \n",
       "3  3.171367  \n",
       "4 -4.959442  "
      ]
     },
     "execution_count": 14,
     "metadata": {},
     "output_type": "execute_result"
    }
   ],
   "source": [
    "drugs_smiles_cell_lines_ic50_df.head()"
   ]
  },
  {
   "cell_type": "code",
   "execution_count": 15,
   "id": "4eec56cb-d310-4e8e-9dd1-151b771c7714",
   "metadata": {},
   "outputs": [],
   "source": [
    "import pickle\n",
    "\n",
    "# Get drug features and adjacency information\n",
    "with open(\"..//data/drug_gcn_features.pickle\", \"rb\") as f:\n",
    "    dict_features = pickle.load(f)\n",
    "\n",
    "with open(\"..//data/drug_gcn_normalized_adj_mats.pickle\", \"rb\") as f:\n",
    "    dict_normalized_adj_mats = pickle.load(f)"
   ]
  },
  {
   "cell_type": "code",
   "execution_count": 16,
   "id": "a6faa4ef-7cf9-48c6-8da7-9affce7495d4",
   "metadata": {},
   "outputs": [],
   "source": [
    "dualgcn_train = pd.read_csv(\"..//data/DualGCN_Embedding_train.csv\")\n",
    "dualgcn_test = pd.read_csv(\"..//data/DualGCN_Embedding_test.csv\")\n",
    "pubchem_to_drugs_df = pd.read_csv('..//data/1.Drug_listMon Jun 24 09_00_55 2019.csv')\n",
    "pubchem_to_drugs_df = pubchem_to_drugs_df[[\"drug_id\", \"PubCHEM\"]]\n",
    "pubchem_to_drugs_df[\"PubCHEM\"] = [val if str(val).isdigit() else np.nan for val in pubchem_to_drugs_df[\"PubCHEM\"] ]\n",
    "pubchem_to_drugs_df = pubchem_to_drugs_df.dropna()\n",
    "pubchem_to_drugs_df[\"drug_id\"] = pubchem_to_drugs_df[\"drug_id\"].astype(str)\n",
    "from sklearn.model_selection import train_test_split\n",
    "x_train, x_valid, y_train, y_valid = train_test_split(drugs_smiles_cell_lines_ic50_df.drop([\"IC50\"],axis = 1), drugs_smiles_cell_lines_ic50_df[\"IC50\"].values, \n",
    "                                                     test_size = 0.20, random_state = 42)"
   ]
  },
  {
   "cell_type": "code",
   "execution_count": 17,
   "id": "0ab46a65-5761-43cc-8bd0-211d545e478e",
   "metadata": {},
   "outputs": [],
   "source": [
    "# dualgcn_train"
   ]
  },
  {
   "cell_type": "code",
   "execution_count": 18,
   "id": "9b18c062-c021-467d-b965-d770ad6085c6",
   "metadata": {},
   "outputs": [],
   "source": [
    "dualgcn_train[\"Drug_ID\"] = dualgcn_train[\"Drug_ID\"].astype(str)\n",
    "dualgcn_test[\"Drug_ID\"] = dualgcn_test[\"Drug_ID\"].astype(str)\n",
    "dualgcn_train = pubchem_to_drugs_df.merge(dualgcn_train, left_on = [\"PubCHEM\"], right_on = [\"Drug_ID\"])\n",
    "np.mean(dualgcn_train['PubCHEM'] == dualgcn_train['Drug_ID'])\n",
    "dualgcn_train = dualgcn_train[['Cell_Line', 'drug_id']]\n",
    "dualgcn_test = pubchem_to_drugs_df.merge(dualgcn_test, left_on = [\"PubCHEM\"], right_on = [\"Drug_ID\"])\n",
    "dualgcn_test = dualgcn_test[['Cell_Line', 'drug_id']]\n",
    "x_train['drug_id'] = x_train['drug_id'].astype(str)\n",
    "x_valid['drug_id'] = x_valid['drug_id'].astype(str)\n",
    "x_train_valid_feats = pd.concat([x_train, x_valid], ignore_index = True)\n",
    "y_train_valid = pd.concat([pd.DataFrame(y_train.reshape(-1,1)), pd.DataFrame(y_valid.reshape(-1,1))], ignore_index = True)\n",
    "combo_train_valid = pd.concat([x_train_valid_feats, y_train_valid], axis = 1)\n",
    "combo_train_valid.columns = ['drug_id', 'Cancer_Cell_Line', 'Smiles', 'IC50']\n",
    "# filter x_train x _valid here\n",
    "x_y_train = combo_train_valid.merge(dualgcn_train, left_on = ['Cancer_Cell_Line','drug_id'], right_on = [ 'Cell_Line','drug_id'])\n",
    "x_y_test = combo_train_valid.merge(dualgcn_test, left_on = ['Cancer_Cell_Line','drug_id'], right_on = [ 'Cell_Line','drug_id'])\n",
    "\n",
    "x_train, x_valid, y_train, y_valid = x_y_train.drop([\"IC50\", 'Cell_Line'],axis = 1), x_y_test.drop([\"IC50\", 'Cell_Line'], axis = 1), x_y_train[\"IC50\"].values, x_y_test[\"IC50\"].values\n",
    "\n",
    "train_gcn_feats = []\n",
    "train_adj_list = []\n",
    "for drug_id in x_train[\"drug_id\"].values:\n",
    "    train_gcn_feats.append(dict_features[drug_id])\n",
    "    train_adj_list.append(dict_normalized_adj_mats[drug_id])\n",
    "\n",
    "valid_gcn_feats = []\n",
    "valid_adj_list = []\n",
    "for drug_id in x_valid[\"drug_id\"].values:\n",
    "    valid_gcn_feats.append(dict_features[drug_id])\n",
    "    valid_adj_list.append(dict_normalized_adj_mats[drug_id])\n",
    "\n",
    "train_gcn_feats = np.array(train_gcn_feats).astype(\"float32\")\n",
    "valid_gcn_feats = np.array(valid_gcn_feats).astype(\"float32\")\n",
    "\n",
    "train_adj_list = np.array(train_adj_list).astype(\"float32\")\n",
    "valid_adj_list = np.array(valid_adj_list).astype(\"float32\")\n"
   ]
  },
  {
   "cell_type": "code",
   "execution_count": 19,
   "id": "ab7d0136-d098-4b12-bb01-fc12bc581e31",
   "metadata": {},
   "outputs": [
    {
     "name": "stdout",
     "output_type": "stream",
     "text": [
      "WARNING:tensorflow:No training configuration found in save file, so the model was *not* compiled. Compile it manually.\n"
     ]
    },
    {
     "name": "stderr",
     "output_type": "stream",
     "text": [
      "WARNING:tensorflow:No training configuration found in save file, so the model was *not* compiled. Compile it manually.\n"
     ]
    },
    {
     "name": "stdout",
     "output_type": "stream",
     "text": [
      "WARNING:tensorflow:No training configuration found in save file, so the model was *not* compiled. Compile it manually.\n"
     ]
    },
    {
     "name": "stderr",
     "output_type": "stream",
     "text": [
      "WARNING:tensorflow:No training configuration found in save file, so the model was *not* compiled. Compile it manually.\n"
     ]
    },
    {
     "name": "stdout",
     "output_type": "stream",
     "text": [
      "WARNING:tensorflow:No training configuration found in save file, so the model was *not* compiled. Compile it manually.\n"
     ]
    },
    {
     "name": "stderr",
     "output_type": "stream",
     "text": [
      "WARNING:tensorflow:No training configuration found in save file, so the model was *not* compiled. Compile it manually.\n"
     ]
    },
    {
     "name": "stdout",
     "output_type": "stream",
     "text": [
      "WARNING:tensorflow:No training configuration found in save file, so the model was *not* compiled. Compile it manually.\n"
     ]
    },
    {
     "name": "stderr",
     "output_type": "stream",
     "text": [
      "WARNING:tensorflow:No training configuration found in save file, so the model was *not* compiled. Compile it manually.\n"
     ]
    }
   ],
   "source": [
    "cancer_copy_number_model = tf.keras.models.load_model(\"..//models//cancer_copy_number_model_no_norm_common\")\n",
    "cancer_cell_gen_expr_model = tf.keras.models.load_model(\"..//models//cancer_cell_gen_expr_model_no_norm_common\")\n",
    "cancer_cell_gen_methy_model = tf.keras.models.load_model(\"..//models//cancer_cell_gen_methy_model_no_norm\")\n",
    "cancer_cell_gen_mut_model = tf.keras.models.load_model(\"..//models//cancer_cell_gen_mut_model_no_norm\")\n"
   ]
  },
  {
   "cell_type": "code",
   "execution_count": 20,
   "id": "ad1dac39-17ec-4e8f-a0e2-29a0f444d86e",
   "metadata": {},
   "outputs": [
    {
     "name": "stdout",
     "output_type": "stream",
     "text": [
      "WARNING:tensorflow:No training configuration found in save file, so the model was *not* compiled. Compile it manually.\n"
     ]
    },
    {
     "name": "stderr",
     "output_type": "stream",
     "text": [
      "WARNING:tensorflow:No training configuration found in save file, so the model was *not* compiled. Compile it manually.\n"
     ]
    }
   ],
   "source": [
    "pubchem_drugs_rdkit_model = tf.keras.models.load_model(\"..//models//pubchem_drugs_rdkit_model_no_norm\")"
   ]
  },
  {
   "cell_type": "code",
   "execution_count": 21,
   "id": "5f1a270e-2f2e-473e-bb8e-94292105b404",
   "metadata": {},
   "outputs": [],
   "source": [
    "std = StandardScaler()\n",
    "# extract drug features\n",
    "drug_features_train = pubchem_drugs_rdkit_model(x_train[\"drug_id\"].values).numpy().astype(\"float32\")\n",
    "drug_features_valid = pubchem_drugs_rdkit_model(x_valid[\"drug_id\"].values).numpy().astype(\"float32\")\n"
   ]
  },
  {
   "cell_type": "code",
   "execution_count": 22,
   "id": "d6d49df3-c847-4ff2-a43c-7f78dfa928d2",
   "metadata": {},
   "outputs": [],
   "source": [
    "drug_features_train = std.fit_transform(drug_features_train)\n",
    "drug_features_valid = std.transform(drug_features_valid)"
   ]
  },
  {
   "cell_type": "code",
   "execution_count": 23,
   "id": "7f5072a7-da09-44af-b3e0-d5befbb47ed6",
   "metadata": {},
   "outputs": [
    {
     "name": "stdout",
     "output_type": "stream",
     "text": [
      "271/271 [==============================] - 8s 29ms/step\n",
      "68/68 [==============================] - 0s 5ms/step\n"
     ]
    }
   ],
   "source": [
    "# extract copy number features\n",
    "omics_copy_number_train = cancer_copy_number_model(x_train[\"Cancer_Cell_Line\"].values).numpy().astype(\"float32\")\n",
    "omics_copy_number_valid = cancer_copy_number_model(x_valid[\"Cancer_Cell_Line\"].values).numpy().astype(\"float32\")\n",
    "\n",
    "# extract gen expr features\n",
    "omics_gen_expr_train = cancer_cell_gen_expr_model(x_train[\"Cancer_Cell_Line\"].values).numpy().astype(\"float32\")\n",
    "omics_gen_expr_valid = cancer_cell_gen_expr_model(x_valid[\"Cancer_Cell_Line\"].values).numpy().astype(\"float32\")\n",
    "\n",
    "omics_gen_copy_number_gen_expr_train = np.concatenate([np.expand_dims(omics_copy_number_train, -1),\n",
    "                                                      np.expand_dims(omics_gen_expr_train, -1)], axis = -1)\n",
    "\n",
    "omics_gen_copy_number_gen_expr_valid = np.concatenate([np.expand_dims(omics_copy_number_valid, -1),\n",
    "                                                      np.expand_dims(omics_gen_expr_valid, -1)], axis = -1)\n",
    "\n",
    "# extract gen methylation features\n",
    "omics_gen_methyl_train = cancer_cell_gen_methy_model(x_train[\"Cancer_Cell_Line\"].values).numpy().astype(\"float32\")\n",
    "omics_gen_methyl_valid = cancer_cell_gen_methy_model(x_valid[\"Cancer_Cell_Line\"].values).numpy().astype(\"float32\")\n",
    "\n",
    "# extract gen mutation features\n",
    "with tf.device('/cpu:0'):\n",
    "    omics_gen_mut_train = cancer_cell_gen_mut_model.predict(x_train[\"Cancer_Cell_Line\"].values, verbose = 1, batch_size = 256).astype(\"float32\")\n",
    "    omics_gen_mut_valid = cancer_cell_gen_mut_model.predict(x_valid[\"Cancer_Cell_Line\"].values, verbose = 1, batch_size = 256).astype(\"float32\")\n",
    "\n",
    "smile_strings_train = x_train[\"Smiles\"].values.reshape(-1,1)\n",
    "smile_strings_valid = x_valid[\"Smiles\"].values.reshape(-1,1)"
   ]
  },
  {
   "cell_type": "code",
   "execution_count": 24,
   "id": "d14ce0d0-2bfe-4dc9-9bf4-c503b852cd29",
   "metadata": {},
   "outputs": [],
   "source": [
    "# # Extract features\n",
    "# with tf.device('/cpu:0'):\n",
    "#     Train_all_features = extract_model.predict([train_gcn_feats, train_adj_list,omics_gen_expr_train, omics_gen_methyl_train, omics_gen_mut_train], batch_size = 32)"
   ]
  },
  {
   "cell_type": "code",
   "execution_count": 25,
   "id": "b1acd69e-9f78-4b59-8b52-b58be54b708a",
   "metadata": {},
   "outputs": [
    {
     "name": "stdout",
     "output_type": "stream",
     "text": [
      "542/542 [==============================] - 16s 28ms/step\n"
     ]
    }
   ],
   "source": [
    "with tf.device('/cpu:0'):\n",
    "    valid_all_featres = extract_model.predict([ valid_gcn_feats, valid_adj_list, omics_gen_expr_valid, omics_gen_methyl_valid, omics_gen_mut_valid], batch_size = 32)"
   ]
  },
  {
   "cell_type": "code",
   "execution_count": 26,
   "id": "0fc1ed59-d19e-496e-ab27-7d7a8ae295ae",
   "metadata": {},
   "outputs": [],
   "source": [
    "# # feature output order\n",
    "# # gene_expr_output, methyl_out, mutation_out, drug_output\n",
    "\n",
    "# # Extract the embeddings separately for features\n",
    "# Train_gene = Train_all_features[0]\n",
    "# Train_methyl = Train_all_features[1]\n",
    "# Train_mut = Train_all_features[2]\n",
    "# Train_drug = Train_all_features[3]"
   ]
  },
  {
   "cell_type": "code",
   "execution_count": 27,
   "id": "70e371cf-6f86-45a3-976b-d08f9ab8f747",
   "metadata": {},
   "outputs": [],
   "source": [
    "Valid_gene = valid_all_featres[0]\n",
    "Valid_methyl = valid_all_featres[1]\n",
    "Valid_mut = valid_all_featres[2]\n",
    "Valid_drug = valid_all_featres[3]"
   ]
  },
  {
   "cell_type": "code",
   "execution_count": 28,
   "id": "f7f6bffd-67f3-4e8d-b041-e6237aff3810",
   "metadata": {},
   "outputs": [
    {
     "data": {
      "text/plain": [
       "(17316, 100)"
      ]
     },
     "execution_count": 28,
     "metadata": {},
     "output_type": "execute_result"
    }
   ],
   "source": [
    "Valid_drug.shape"
   ]
  },
  {
   "cell_type": "code",
   "execution_count": 29,
   "id": "8272a1d4-dba8-4e19-a21b-c5c7268834a2",
   "metadata": {},
   "outputs": [],
   "source": [
    "# # save the extracted embeddings\n",
    "# np.save('..//saved_output_data/Train_gene_new_split_CDR.npy', Train_gene)\n",
    "# np.save('..//saved_output_data/Train_methyl_new_split_CDR.npy', Train_methyl)\n",
    "# np.save('..//saved_output_data/Train_mut_new_split_CDR.npy', Train_mut)\n",
    "# np.save('..//saved_output_data/Train_drug_new_split_CDR.npy', Train_drug)\n",
    "\n",
    "np.save('..//saved_output_data/Valid_gene_new_split_CDR.npy', Valid_gene)\n",
    "np.save('..//saved_output_data/Valid_methyl_new_split_CDR.npy', Valid_methyl)\n",
    "np.save('..//saved_output_data/Valid_mut_new_split_CDR.npy', Valid_mut)\n",
    "np.save('..//saved_output_data/Valid_drug_new_split_CDR.npy', Valid_drug)"
   ]
  },
  {
   "cell_type": "code",
   "execution_count": 30,
   "id": "81e53e37-250a-4716-9a77-9a89084c2233",
   "metadata": {},
   "outputs": [],
   "source": [
    "# y_train = y_train.reshape(-1,1)"
   ]
  },
  {
   "cell_type": "code",
   "execution_count": 31,
   "id": "0b2a5f67-26fd-4e03-8e70-700e645a4de2",
   "metadata": {},
   "outputs": [],
   "source": [
    "# y_train"
   ]
  },
  {
   "cell_type": "code",
   "execution_count": 32,
   "id": "a1d7d7e2-f7e3-40dc-ba06-779c7eaaccb2",
   "metadata": {},
   "outputs": [],
   "source": [
    "# y_train.shape"
   ]
  },
  {
   "cell_type": "code",
   "execution_count": 33,
   "id": "082addaa-f9fe-4b3f-b3e4-20342b14777d",
   "metadata": {},
   "outputs": [],
   "source": [
    "y_valid = y_valid.reshape(-1,1)"
   ]
  },
  {
   "cell_type": "code",
   "execution_count": 34,
   "id": "c7764785-03f6-4436-a15f-713ae0a2c2ac",
   "metadata": {},
   "outputs": [
    {
     "data": {
      "text/plain": [
       "array([[ 3.143044],\n",
       "       [ 3.213836],\n",
       "       [ 1.036346],\n",
       "       ...,\n",
       "       [ 1.73393 ],\n",
       "       [-2.714591],\n",
       "       [ 1.215302]])"
      ]
     },
     "execution_count": 34,
     "metadata": {},
     "output_type": "execute_result"
    }
   ],
   "source": [
    "y_valid"
   ]
  },
  {
   "cell_type": "code",
   "execution_count": 35,
   "id": "74f09c52-3a07-4a93-b563-9a492208fb34",
   "metadata": {},
   "outputs": [
    {
     "data": {
      "text/plain": [
       "(2.063824293081543, 2.8309603843576316)"
      ]
     },
     "execution_count": 35,
     "metadata": {},
     "output_type": "execute_result"
    }
   ],
   "source": [
    "np.mean(y_valid), np.std(y_valid)"
   ]
  },
  {
   "cell_type": "code",
   "execution_count": null,
   "id": "28692ea6-ce0b-4277-bb05-9d73fce138f7",
   "metadata": {},
   "outputs": [],
   "source": [
    "# (2.063824293081543, 2.8309603843576316)"
   ]
  },
  {
   "cell_type": "code",
   "execution_count": 36,
   "id": "2b57240e-a7d5-47b9-aa21-3da01e54e657",
   "metadata": {},
   "outputs": [],
   "source": [
    "np.save('..//saved_output_data/Valid_y.npy', y_valid)\n",
    "# np.save('..//saved_output_data/Train_y.npy', y_train)"
   ]
  }
 ],
 "metadata": {
  "kernelspec": {
   "display_name": "Python (tfp_for_TN)",
   "language": "python",
   "name": "tfp_for_tn"
  },
  "language_info": {
   "codemirror_mode": {
    "name": "ipython",
    "version": 3
   },
   "file_extension": ".py",
   "mimetype": "text/x-python",
   "name": "python",
   "nbconvert_exporter": "python",
   "pygments_lexer": "ipython3",
   "version": "3.10.14"
  }
 },
 "nbformat": 4,
 "nbformat_minor": 5
}
