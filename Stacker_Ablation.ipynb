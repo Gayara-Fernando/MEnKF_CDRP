{
 "cells": [
  {
   "cell_type": "code",
   "execution_count": 1,
   "id": "67156228-c944-4f3c-b98c-d13bb59790c0",
   "metadata": {},
   "outputs": [],
   "source": [
    "import numpy as np\n",
    "import pandas as pd\n",
    "from sklearn.model_selection import train_test_split\n",
    "from sklearn.linear_model import LinearRegression\n",
    "from sklearn.model_selection import cross_val_score, GridSearchCV\n",
    "import matplotlib.pyplot as plt\n",
    "from scipy.stats import pearsonr\n",
    "from sklearn.metrics import mean_squared_error"
   ]
  },
  {
   "cell_type": "code",
   "execution_count": 2,
   "id": "3033c1ac-20a6-4ca8-99c7-49463b544ea2",
   "metadata": {},
   "outputs": [],
   "source": [
    "# # import cdr data\n",
    "# cdr_data = pd.read_csv(\"data/cdr_all_feats_data_new_split.csv\")\n",
    "# gcn_data = pd.read_csv(\"data/gcn_all_feats_data_new_split.csv\")"
   ]
  },
  {
   "cell_type": "code",
   "execution_count": 3,
   "id": "c5b54fae-2838-4d21-bc26-e0d66559b122",
   "metadata": {},
   "outputs": [],
   "source": [
    "test_index = 1"
   ]
  },
  {
   "cell_type": "code",
   "execution_count": 4,
   "id": "58cedb94-235a-4035-ba4c-ee8b90dd21d0",
   "metadata": {},
   "outputs": [],
   "source": [
    "deepcdr_preds = np.load(\"..//data//ablation_deepcdr_preds_val_and_test_\" +str(test_index) + \".npy\")"
   ]
  },
  {
   "cell_type": "code",
   "execution_count": 5,
   "id": "156c560f-f861-4cf5-805f-37ac8a78a19f",
   "metadata": {},
   "outputs": [],
   "source": [
    "dualgcn_preds = np.load(\"..//data//ablation_dualgcn_complete_preds_val_and_test_\" +str(test_index) + \".npy\")"
   ]
  },
  {
   "cell_type": "code",
   "execution_count": 6,
   "id": "6af5fe53-8162-4327-a52e-c001ca8abe1d",
   "metadata": {},
   "outputs": [
    {
     "data": {
      "text/plain": [
       "1.0"
      ]
     },
     "execution_count": 6,
     "metadata": {},
     "output_type": "execute_result"
    }
   ],
   "source": [
    "np.mean(deepcdr_preds[:,0] == dualgcn_preds[:,0])"
   ]
  },
  {
   "cell_type": "code",
   "execution_count": 7,
   "id": "e0cbb28f-1737-4203-b783-742afd773e51",
   "metadata": {},
   "outputs": [
    {
     "data": {
      "text/plain": [
       "(11544, 26)"
      ]
     },
     "execution_count": 7,
     "metadata": {},
     "output_type": "execute_result"
    }
   ],
   "source": [
    "deepcdr_preds.shape"
   ]
  },
  {
   "cell_type": "code",
   "execution_count": 8,
   "id": "e1174358-c258-4bd3-b96d-1bb8220ed0b5",
   "metadata": {},
   "outputs": [],
   "source": [
    "def chunks(lst, n):\n",
    "    \"\"\"Yield successive n-sized chunks from lst.\"\"\"\n",
    "    for i in range(0, len(lst), n):\n",
    "        yield lst[i:i + n]"
   ]
  },
  {
   "cell_type": "code",
   "execution_count": 9,
   "id": "6c9f7683-311a-4b6d-ba89-1c7074233395",
   "metadata": {},
   "outputs": [],
   "source": [
    "chunks = np.array_split(list(range(0,deepcdr_preds.shape[0])), 2)"
   ]
  },
  {
   "cell_type": "code",
   "execution_count": 10,
   "id": "f43430f4-d160-4f79-86f0-76cafbaa5148",
   "metadata": {},
   "outputs": [],
   "source": [
    "half = 1"
   ]
  },
  {
   "cell_type": "code",
   "execution_count": 11,
   "id": "5010d8fd-f94c-42d9-b2b2-53c2c093cd16",
   "metadata": {},
   "outputs": [],
   "source": [
    "train_items = chunks[half]"
   ]
  },
  {
   "cell_type": "code",
   "execution_count": 12,
   "id": "cd9e2891-ea5c-4fe6-b1d7-c4c896a1b6b3",
   "metadata": {},
   "outputs": [],
   "source": [
    "test_items = list(set(list(range(0,deepcdr_preds.shape[0]))).difference(train_items))"
   ]
  },
  {
   "cell_type": "code",
   "execution_count": 13,
   "id": "6306959d-22cc-4a02-82da-52fcd1560e52",
   "metadata": {},
   "outputs": [],
   "source": [
    "# dualgcn_preds[:,0]"
   ]
  },
  {
   "cell_type": "code",
   "execution_count": 14,
   "id": "bad66067-0ba7-42b8-a1af-28d27e61b8a9",
   "metadata": {},
   "outputs": [],
   "source": [
    "# cdr_data.columns = ['True_response', 'Predicted_y_cdr']"
   ]
  },
  {
   "cell_type": "code",
   "execution_count": 15,
   "id": "f5155805-d587-4980-967e-62dd86734750",
   "metadata": {},
   "outputs": [],
   "source": [
    "valid_deepcdr = deepcdr_preds[train_items,1:]\n",
    "test_deepcdr = deepcdr_preds[test_items,1:]"
   ]
  },
  {
   "cell_type": "code",
   "execution_count": 16,
   "id": "2f2a63ed-edcf-4146-a1ec-c7f9f6392c8f",
   "metadata": {},
   "outputs": [],
   "source": [
    "valid_dualgcn = dualgcn_preds[train_items,1:]\n",
    "test_dualgcn = dualgcn_preds[test_items,1:]"
   ]
  },
  {
   "cell_type": "code",
   "execution_count": 17,
   "id": "b6b68181-17db-4c69-9f3e-9f493f0cdfe1",
   "metadata": {},
   "outputs": [],
   "source": [
    "# valid_dualgcn.shape"
   ]
  },
  {
   "cell_type": "code",
   "execution_count": 18,
   "id": "0c269639-185a-41e9-af70-890d6c35699f",
   "metadata": {},
   "outputs": [],
   "source": [
    "valid_y = deepcdr_preds[train_items,0]\n",
    "test_y = deepcdr_preds[test_items,0]"
   ]
  },
  {
   "cell_type": "code",
   "execution_count": 19,
   "id": "0ad00bb0-83d4-4ed2-9254-c07f33fb3bdb",
   "metadata": {},
   "outputs": [],
   "source": [
    "# stacker_data_train.shape"
   ]
  },
  {
   "cell_type": "code",
   "execution_count": 20,
   "id": "462894ba-3a8c-4442-8c43-f2c4dac637b6",
   "metadata": {},
   "outputs": [
    {
     "data": {
      "text/plain": [
       "array([3.143044, 3.213836, 1.036346, ..., 3.244352, 3.47219 , 3.39551 ])"
      ]
     },
     "execution_count": 20,
     "metadata": {},
     "output_type": "execute_result"
    }
   ],
   "source": [
    "test_y"
   ]
  },
  {
   "cell_type": "code",
   "execution_count": 21,
   "id": "e348b8af-b6fe-41a5-9806-5359ee86af4e",
   "metadata": {},
   "outputs": [
    {
     "data": {
      "text/plain": [
       "2.069332453915454"
      ]
     },
     "execution_count": 21,
     "metadata": {},
     "output_type": "execute_result"
    }
   ],
   "source": [
    "test_y.mean()"
   ]
  },
  {
   "cell_type": "code",
   "execution_count": 22,
   "id": "0646c7e0-10b2-488d-8011-719d732abca5",
   "metadata": {},
   "outputs": [
    {
     "data": {
      "text/plain": [
       "2.8460217894549977"
      ]
     },
     "execution_count": 22,
     "metadata": {},
     "output_type": "execute_result"
    }
   ],
   "source": [
    "test_y.std()"
   ]
  },
  {
   "cell_type": "code",
   "execution_count": 23,
   "id": "d400d2ef-c52a-4c3a-9abe-65ab93953f7e",
   "metadata": {},
   "outputs": [],
   "source": [
    "reps = valid_deepcdr.shape[1]"
   ]
  },
  {
   "cell_type": "code",
   "execution_count": 24,
   "id": "a3af61ab-0ffb-4a1c-a174-e43f20b4d0c9",
   "metadata": {},
   "outputs": [],
   "source": [
    "catch_preds = np.zeros((test_dualgcn.shape[0],reps))\n",
    "catch_weights = np.zeros((reps,2))\n",
    "for i in range(0,valid_deepcdr.shape[1]):\n",
    "    stacker_data_train = np.hstack((valid_deepcdr[:,i].reshape(-1,1), valid_dualgcn[:,i].reshape(-1,1)))\n",
    "    stacker_data_test = np.hstack((test_deepcdr[:,i].reshape(-1,1), test_dualgcn[:,i].reshape(-1,1)))\n",
    "    reg = LinearRegression()\n",
    "    reg.fit(stacker_data_train, valid_y)\n",
    "    y_preds = reg.predict(stacker_data_test)\n",
    "    res = pearsonr(test_y.tolist(), y_preds.tolist())\n",
    "    catch_preds[:,i] = y_preds\n",
    "    catch_weights[i,0], catch_weights[i,1] = reg.coef_[0]/(reg.coef_[0]+reg.coef_[1]), reg.coef_[1]/(reg.coef_[0]+reg.coef_[1])\n",
    "    # print(res[0])\n",
    "    # print(np.sqrt(mean_squared_error(test_y, y_preds)))\n",
    "    # plt.scatter(y_preds.reshape(-1,1), test_y, alpha = 0.1)\n",
    "    # plt.axline((0,0), slope = 1, c = \"black\")\n",
    "    # plt.show()"
   ]
  },
  {
   "cell_type": "code",
   "execution_count": 25,
   "id": "99700bbf-6c2e-4505-97d1-14f2902b68d6",
   "metadata": {},
   "outputs": [],
   "source": [
    "# test_y"
   ]
  },
  {
   "cell_type": "code",
   "execution_count": 26,
   "id": "1b209a32-61cd-4107-9c0b-6244eebf8178",
   "metadata": {},
   "outputs": [
    {
     "data": {
      "text/plain": [
       "(5772, 25)"
      ]
     },
     "execution_count": 26,
     "metadata": {},
     "output_type": "execute_result"
    }
   ],
   "source": [
    "catch_preds.shape"
   ]
  },
  {
   "cell_type": "code",
   "execution_count": 27,
   "id": "8075e020-0ba4-43f1-b415-648fac097cb1",
   "metadata": {},
   "outputs": [],
   "source": [
    "li, ui = np.percentile(catch_preds, q = [2.5, 97.5], axis = 1)[0,:], np.percentile(catch_preds, q = [2.5, 97.5], axis = 1)[1,:]"
   ]
  },
  {
   "cell_type": "code",
   "execution_count": 28,
   "id": "2cbff82b-5932-45cf-9cb3-4250e7d3f073",
   "metadata": {},
   "outputs": [
    {
     "data": {
      "text/plain": [
       "0.4203049203049203"
      ]
     },
     "execution_count": 28,
     "metadata": {},
     "output_type": "execute_result"
    }
   ],
   "source": [
    "test_coverage = np.mean((test_y.reshape(-1,1) >= li.reshape(-1,1)) & (test_y.reshape(-1,1) <= ui.reshape(-1,1)))\n",
    "test_coverage"
   ]
  },
  {
   "cell_type": "code",
   "execution_count": 29,
   "id": "2bf5372e-db3a-4aab-8613-ab9b5d0858dc",
   "metadata": {},
   "outputs": [
    {
     "data": {
      "text/plain": [
       "1.3399442968710935"
      ]
     },
     "execution_count": 29,
     "metadata": {},
     "output_type": "execute_result"
    }
   ],
   "source": [
    "test_width = np.mean(ui.reshape(-1,1) - li.reshape(-1,1))\n",
    "test_width"
   ]
  },
  {
   "cell_type": "code",
   "execution_count": 30,
   "id": "4498ed41-4a05-41af-a8d0-797dd7e31ae4",
   "metadata": {},
   "outputs": [
    {
     "data": {
      "text/plain": [
       "(5772,)"
      ]
     },
     "execution_count": 30,
     "metadata": {},
     "output_type": "execute_result"
    }
   ],
   "source": [
    "catch_preds.mean(1).shape"
   ]
  },
  {
   "cell_type": "code",
   "execution_count": 31,
   "id": "6662dd32-c820-451b-a0f9-2caf4b11e8ca",
   "metadata": {},
   "outputs": [
    {
     "data": {
      "text/plain": [
       "(5772,)"
      ]
     },
     "execution_count": 31,
     "metadata": {},
     "output_type": "execute_result"
    }
   ],
   "source": [
    "test_y.shape"
   ]
  },
  {
   "cell_type": "code",
   "execution_count": 32,
   "id": "5bb0fc89-35c7-41bd-abb1-49a8bced6217",
   "metadata": {},
   "outputs": [
    {
     "data": {
      "text/plain": [
       "0.8844630311215945"
      ]
     },
     "execution_count": 32,
     "metadata": {},
     "output_type": "execute_result"
    }
   ],
   "source": [
    "test_pearsonr = pearsonr(test_y, catch_preds.mean(1))\n",
    "test_pearsonr[0]"
   ]
  },
  {
   "cell_type": "code",
   "execution_count": 33,
   "id": "2497a91d-6316-4270-95b4-7e3071f643a5",
   "metadata": {},
   "outputs": [
    {
     "data": {
      "text/plain": [
       "1.3297560768519565"
      ]
     },
     "execution_count": 33,
     "metadata": {},
     "output_type": "execute_result"
    }
   ],
   "source": [
    "test_rmse = np.sqrt(np.mean((catch_preds.mean(1).reshape(-1,1)-test_y.reshape(-1,1))**2))\n",
    "test_rmse"
   ]
  },
  {
   "cell_type": "code",
   "execution_count": 34,
   "id": "22d2862f-d964-4fdd-8dc1-d9db06363be8",
   "metadata": {},
   "outputs": [
    {
     "data": {
      "text/plain": [
       "array([[0.6308114 , 0.3691886 ],\n",
       "       [0.59967835, 0.40032165],\n",
       "       [0.61160605, 0.38839395],\n",
       "       [0.61944765, 0.38055235],\n",
       "       [0.59636042, 0.40363958],\n",
       "       [0.61483738, 0.38516262],\n",
       "       [0.59054505, 0.40945495],\n",
       "       [0.61499938, 0.38500062],\n",
       "       [0.59384937, 0.40615063],\n",
       "       [0.61327069, 0.38672931],\n",
       "       [0.61085426, 0.38914574],\n",
       "       [0.61816443, 0.38183557],\n",
       "       [0.60630311, 0.39369689],\n",
       "       [0.62626865, 0.37373135],\n",
       "       [0.59027904, 0.40972096],\n",
       "       [0.59589968, 0.40410032],\n",
       "       [0.60345589, 0.39654411],\n",
       "       [0.59771702, 0.40228298],\n",
       "       [0.61000347, 0.38999653],\n",
       "       [0.60408098, 0.39591902],\n",
       "       [0.60448398, 0.39551602],\n",
       "       [0.61738841, 0.38261159],\n",
       "       [0.60608579, 0.39391421],\n",
       "       [0.62397912, 0.37602088],\n",
       "       [0.61228629, 0.38771371]])"
      ]
     },
     "execution_count": 34,
     "metadata": {},
     "output_type": "execute_result"
    }
   ],
   "source": [
    "catch_weights"
   ]
  },
  {
   "cell_type": "code",
   "execution_count": 35,
   "id": "5d9d19e1-7082-4c5e-89e2-0d0a284cda32",
   "metadata": {},
   "outputs": [
    {
     "data": {
      "text/plain": [
       "(0.6085062334756488, 0.39149376652435114)"
      ]
     },
     "execution_count": 35,
     "metadata": {},
     "output_type": "execute_result"
    }
   ],
   "source": [
    "test_cdr_weight, test_gcn_weight = np.mean(catch_weights,0)[0], np.mean(catch_weights,0)[1]\n",
    "test_cdr_weight, test_gcn_weight"
   ]
  },
  {
   "cell_type": "code",
   "execution_count": 36,
   "id": "c297054c-6186-47a0-bd58-6605920d1869",
   "metadata": {},
   "outputs": [
    {
     "data": {
      "text/plain": [
       "array([0.01081359, 0.01081359])"
      ]
     },
     "execution_count": 36,
     "metadata": {},
     "output_type": "execute_result"
    }
   ],
   "source": [
    "np.std(catch_weights,0)"
   ]
  },
  {
   "cell_type": "code",
   "execution_count": 37,
   "id": "c8cec6ae-aff9-4795-bc6c-44136d7b86b1",
   "metadata": {},
   "outputs": [],
   "source": [
    "# save the metrics for later\\\n",
    "col_name = ['test_coverage', 'test_width', 'test_pearsonr', 'test_rmse', 'test_cdr_weight', 'test_gcn_weight' ]\n",
    "col_vals = [test_coverage, test_width, test_pearsonr[0], test_rmse, test_cdr_weight, test_gcn_weight]"
   ]
  },
  {
   "cell_type": "code",
   "execution_count": 38,
   "id": "e424533d-95e1-4e4f-b1f5-d5096d538daa",
   "metadata": {},
   "outputs": [],
   "source": [
    "fold_idx = 0"
   ]
  },
  {
   "cell_type": "code",
   "execution_count": 39,
   "id": "50a1b9ef-b4fd-49a0-b886-446e11e760f3",
   "metadata": {},
   "outputs": [],
   "source": [
    "Stacker_test_results = pd.DataFrame({'parameter': col_name, 'value': col_vals})\n",
    "save_name = 'test_parameters_ablation_stacker_complete_for_test_fold_' + str(fold_idx) + '.csv'\n",
    "save_path = '../MEnKF_fold_results/Fold_0/'\n",
    "Stacker_test_results.to_csv(save_path + save_name, index = False)"
   ]
  },
  {
   "cell_type": "code",
   "execution_count": 40,
   "id": "52655850-ba2f-43e4-9853-dc9f4948ada4",
   "metadata": {},
   "outputs": [
    {
     "data": {
      "text/html": [
       "<div>\n",
       "<style scoped>\n",
       "    .dataframe tbody tr th:only-of-type {\n",
       "        vertical-align: middle;\n",
       "    }\n",
       "\n",
       "    .dataframe tbody tr th {\n",
       "        vertical-align: top;\n",
       "    }\n",
       "\n",
       "    .dataframe thead th {\n",
       "        text-align: right;\n",
       "    }\n",
       "</style>\n",
       "<table border=\"1\" class=\"dataframe\">\n",
       "  <thead>\n",
       "    <tr style=\"text-align: right;\">\n",
       "      <th></th>\n",
       "      <th>parameter</th>\n",
       "      <th>value</th>\n",
       "    </tr>\n",
       "  </thead>\n",
       "  <tbody>\n",
       "    <tr>\n",
       "      <th>0</th>\n",
       "      <td>test_coverage</td>\n",
       "      <td>0.420305</td>\n",
       "    </tr>\n",
       "    <tr>\n",
       "      <th>1</th>\n",
       "      <td>test_width</td>\n",
       "      <td>1.339944</td>\n",
       "    </tr>\n",
       "    <tr>\n",
       "      <th>2</th>\n",
       "      <td>test_pearsonr</td>\n",
       "      <td>0.884463</td>\n",
       "    </tr>\n",
       "    <tr>\n",
       "      <th>3</th>\n",
       "      <td>test_rmse</td>\n",
       "      <td>1.329756</td>\n",
       "    </tr>\n",
       "    <tr>\n",
       "      <th>4</th>\n",
       "      <td>test_cdr_weight</td>\n",
       "      <td>0.608506</td>\n",
       "    </tr>\n",
       "    <tr>\n",
       "      <th>5</th>\n",
       "      <td>test_gcn_weight</td>\n",
       "      <td>0.391494</td>\n",
       "    </tr>\n",
       "  </tbody>\n",
       "</table>\n",
       "</div>"
      ],
      "text/plain": [
       "         parameter     value\n",
       "0    test_coverage  0.420305\n",
       "1       test_width  1.339944\n",
       "2    test_pearsonr  0.884463\n",
       "3        test_rmse  1.329756\n",
       "4  test_cdr_weight  0.608506\n",
       "5  test_gcn_weight  0.391494"
      ]
     },
     "execution_count": 40,
     "metadata": {},
     "output_type": "execute_result"
    }
   ],
   "source": [
    "Stacker_test_results"
   ]
  }
 ],
 "metadata": {
  "kernelspec": {
   "display_name": "TensorFlow GPU 2.9 (py39)",
   "language": "python",
   "name": "tensorflow-gpu-2.9-py39"
  },
  "language_info": {
   "codemirror_mode": {
    "name": "ipython",
    "version": 3
   },
   "file_extension": ".py",
   "mimetype": "text/x-python",
   "name": "python",
   "nbconvert_exporter": "python",
   "pygments_lexer": "ipython3",
   "version": "3.9.13"
  }
 },
 "nbformat": 4,
 "nbformat_minor": 5
}
