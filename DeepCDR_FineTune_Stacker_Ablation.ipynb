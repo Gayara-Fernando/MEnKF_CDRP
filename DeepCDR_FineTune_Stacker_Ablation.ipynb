{
 "cells": [
  {
   "cell_type": "code",
   "execution_count": 1,
   "id": "d79c4d60-25e3-41cb-b814-ef360e2fee9e",
   "metadata": {},
   "outputs": [
    {
     "name": "stderr",
     "output_type": "stream",
     "text": [
      "2024-07-12 23:16:38.297130: I tensorflow/core/util/port.cc:113] oneDNN custom operations are on. You may see slightly different numerical results due to floating-point round-off errors from different computation orders. To turn them off, set the environment variable `TF_ENABLE_ONEDNN_OPTS=0`.\n",
      "2024-07-12 23:16:38.597519: E external/local_xla/xla/stream_executor/cuda/cuda_dnn.cc:9261] Unable to register cuDNN factory: Attempting to register factory for plugin cuDNN when one has already been registered\n",
      "2024-07-12 23:16:38.597589: E external/local_xla/xla/stream_executor/cuda/cuda_fft.cc:607] Unable to register cuFFT factory: Attempting to register factory for plugin cuFFT when one has already been registered\n",
      "2024-07-12 23:16:38.674139: E external/local_xla/xla/stream_executor/cuda/cuda_blas.cc:1515] Unable to register cuBLAS factory: Attempting to register factory for plugin cuBLAS when one has already been registered\n",
      "2024-07-12 23:16:38.772261: I tensorflow/core/platform/cpu_feature_guard.cc:182] This TensorFlow binary is optimized to use available CPU instructions in performance-critical operations.\n",
      "To enable the following instructions: SSE4.1 SSE4.2 AVX AVX2 AVX512F AVX512_VNNI FMA, in other operations, rebuild TensorFlow with the appropriate compiler flags.\n"
     ]
    }
   ],
   "source": [
    "import pandas as pd\n",
    "import tensorflow as tf\n",
    "import tensorflow_probability as tfp\n",
    "from tensorflow import keras\n",
    "from tensorflow.python.keras import backend as K\n",
    "from tensorflow.python.ops import array_ops\n",
    "from tensorflow.python.ops import math_ops\n",
    "from sklearn.model_selection import train_test_split\n",
    "import pickle\n",
    "import numpy as np\n",
    "import scipy.sparse as sp"
   ]
  },
  {
   "cell_type": "code",
   "execution_count": 2,
   "id": "06020fb9-0d23-4866-8a4b-d13beac7044f",
   "metadata": {},
   "outputs": [],
   "source": [
    "drugs_cell_lines_ic50_df = pd.read_csv(\"..//data//drugs_cell_lines_ic50.csv\")"
   ]
  },
  {
   "cell_type": "code",
   "execution_count": 3,
   "id": "1660298b-b5ce-4cff-bd71-86f7dc9222f5",
   "metadata": {},
   "outputs": [],
   "source": [
    "pubchem_drugs_smiles_df = pd.read_csv('..//data//drugs_smile_strings.csv')"
   ]
  },
  {
   "cell_type": "code",
   "execution_count": 4,
   "id": "d3b2a897-77be-420b-bd26-ab84d56a2ff3",
   "metadata": {},
   "outputs": [],
   "source": [
    "drugs_smiles_cell_lines_ic50_df = pd.merge(drugs_cell_lines_ic50_df, pubchem_drugs_smiles_df, \n",
    "                                             on = \"drug_id\")"
   ]
  },
  {
   "cell_type": "code",
   "execution_count": 5,
   "id": "c9c0eda5-75c5-45e4-b48b-7f90b38da4d8",
   "metadata": {},
   "outputs": [],
   "source": [
    "drugs_smiles_cell_lines_ic50_df = drugs_smiles_cell_lines_ic50_df[[\"drug_id\", \"Cancer_Cell_Line\", \"Smiles\", \"IC50\"]]"
   ]
  },
  {
   "cell_type": "code",
   "execution_count": 6,
   "id": "4255a229-bb41-4ffe-abef-e6d466e1c00b",
   "metadata": {},
   "outputs": [
    {
     "data": {
      "text/plain": [
       "drug_id               int64\n",
       "Cancer_Cell_Line     object\n",
       "Smiles               object\n",
       "IC50                float64\n",
       "dtype: object"
      ]
     },
     "execution_count": 6,
     "metadata": {},
     "output_type": "execute_result"
    }
   ],
   "source": [
    "drugs_smiles_cell_lines_ic50_df.dtypes"
   ]
  },
  {
   "cell_type": "code",
   "execution_count": 7,
   "id": "b8f12d16-3e37-4c9a-aabb-51e6ceb99a00",
   "metadata": {},
   "outputs": [],
   "source": [
    "drugs_smiles_cell_lines_ic50_df[\"drug_id\"] = drugs_smiles_cell_lines_ic50_df[\"drug_id\"].astype(object)"
   ]
  },
  {
   "cell_type": "code",
   "execution_count": 8,
   "id": "e17ed73d-5051-4322-afa0-f95e71485d50",
   "metadata": {},
   "outputs": [
    {
     "data": {
      "text/plain": [
       "(186789, 4)"
      ]
     },
     "execution_count": 8,
     "metadata": {},
     "output_type": "execute_result"
    }
   ],
   "source": [
    "drugs_smiles_cell_lines_ic50_df.shape"
   ]
  },
  {
   "cell_type": "code",
   "execution_count": 9,
   "id": "1318885c-6fc2-4ee6-a74d-0a8337307777",
   "metadata": {},
   "outputs": [],
   "source": [
    "with open(\"..//data//drug_gcn_features.pickle\", \"rb\") as f:\n",
    "    dict_features = pickle.load(f)"
   ]
  },
  {
   "cell_type": "code",
   "execution_count": 10,
   "id": "46e0e644-213c-4bc6-8dde-78b3bd5638bb",
   "metadata": {},
   "outputs": [],
   "source": [
    "with open(\"..//data//drug_gcn_normalized_adj_mats.pickle\", \"rb\") as f:\n",
    "    dict_normalized_adj_mats = pickle.load(f)"
   ]
  },
  {
   "cell_type": "code",
   "execution_count": 11,
   "id": "bfadc255-519f-4d0f-83c5-49277a277209",
   "metadata": {},
   "outputs": [],
   "source": [
    "dualgcn_train = pd.read_csv(\"..//data//DualGCN_Embedding_train.csv\")"
   ]
  },
  {
   "cell_type": "code",
   "execution_count": 12,
   "id": "7e62a800-6f13-4a2f-965d-62d34061612d",
   "metadata": {},
   "outputs": [],
   "source": [
    "dualgcn_test = pd.read_csv(\"..//data//DualGCN_Embedding_test.csv\")"
   ]
  },
  {
   "cell_type": "code",
   "execution_count": 13,
   "id": "5bd3f846-d0c4-4c92-b2af-1836b2cdf13b",
   "metadata": {},
   "outputs": [],
   "source": [
    "pubchem_to_drugs_df = pd.read_csv('..//data//1.Drug_listMon Jun 24 09_00_55 2019.csv')"
   ]
  },
  {
   "cell_type": "code",
   "execution_count": 14,
   "id": "4c1cabed-895b-4a33-9478-9c414246d9d6",
   "metadata": {},
   "outputs": [],
   "source": [
    "pubchem_to_drugs_df = pubchem_to_drugs_df[[\"drug_id\", \"PubCHEM\"]]"
   ]
  },
  {
   "cell_type": "code",
   "execution_count": 15,
   "id": "06050248-be5d-4413-a9f6-afba9c6dc1da",
   "metadata": {},
   "outputs": [
    {
     "data": {
      "text/plain": [
       "drug_id     int64\n",
       "PubCHEM    object\n",
       "dtype: object"
      ]
     },
     "execution_count": 15,
     "metadata": {},
     "output_type": "execute_result"
    }
   ],
   "source": [
    "pubchem_to_drugs_df.dtypes"
   ]
  },
  {
   "cell_type": "code",
   "execution_count": 16,
   "id": "226a6b4e-ddb7-4f0a-8e24-25fe64de8992",
   "metadata": {},
   "outputs": [],
   "source": [
    "pubchem_to_drugs_df[\"PubCHEM\"] = [val if str(val).isdigit() else np.nan for val in pubchem_to_drugs_df[\"PubCHEM\"] ]"
   ]
  },
  {
   "cell_type": "code",
   "execution_count": 17,
   "id": "49920b0c-24e4-4900-b65c-238b7918cb9f",
   "metadata": {},
   "outputs": [],
   "source": [
    "pubchem_to_drugs_df = pubchem_to_drugs_df.dropna()"
   ]
  },
  {
   "cell_type": "code",
   "execution_count": 18,
   "id": "7691b28b-0ae2-4ed4-8e16-54ff384b9dee",
   "metadata": {},
   "outputs": [
    {
     "data": {
      "text/plain": [
       "drug_id     int64\n",
       "PubCHEM    object\n",
       "dtype: object"
      ]
     },
     "execution_count": 18,
     "metadata": {},
     "output_type": "execute_result"
    }
   ],
   "source": [
    "pubchem_to_drugs_df.dtypes"
   ]
  },
  {
   "cell_type": "code",
   "execution_count": 19,
   "id": "6462ade0-cd2d-491d-be8a-aa0e7ddd3863",
   "metadata": {},
   "outputs": [],
   "source": [
    "pubchem_to_drugs_df[\"drug_id\"] = pubchem_to_drugs_df[\"drug_id\"].astype(str)"
   ]
  },
  {
   "cell_type": "code",
   "execution_count": 20,
   "id": "3286fd91-f6df-49fc-8d72-5e493f31d0ae",
   "metadata": {},
   "outputs": [],
   "source": [
    "x_train, x_valid, y_train, y_valid = train_test_split(drugs_smiles_cell_lines_ic50_df.drop([\"IC50\"],axis = 1), drugs_smiles_cell_lines_ic50_df[\"IC50\"].values, \n",
    "                                                     test_size = 0.20, random_state = 42)"
   ]
  },
  {
   "cell_type": "code",
   "execution_count": 21,
   "id": "1b1ddb77-6e32-4225-96ba-cce23480ab1b",
   "metadata": {},
   "outputs": [],
   "source": [
    "dualgcn_train[\"Drug_ID\"] = dualgcn_train[\"Drug_ID\"].astype(str)"
   ]
  },
  {
   "cell_type": "code",
   "execution_count": 22,
   "id": "5d534def-d5c7-4b2c-a3ee-f4c5c43650c2",
   "metadata": {},
   "outputs": [],
   "source": [
    "dualgcn_test[\"Drug_ID\"] = dualgcn_test[\"Drug_ID\"].astype(str)"
   ]
  },
  {
   "cell_type": "code",
   "execution_count": 23,
   "id": "5a7161ee-e146-4c38-a8b8-66369327384f",
   "metadata": {},
   "outputs": [
    {
     "data": {
      "text/plain": [
       "drug_id    object\n",
       "PubCHEM    object\n",
       "dtype: object"
      ]
     },
     "execution_count": 23,
     "metadata": {},
     "output_type": "execute_result"
    }
   ],
   "source": [
    "pubchem_to_drugs_df.dtypes"
   ]
  },
  {
   "cell_type": "code",
   "execution_count": 24,
   "id": "26536155-5c48-4960-bff8-21c5ec06bab2",
   "metadata": {},
   "outputs": [],
   "source": [
    "dualgcn_train = pubchem_to_drugs_df.merge(dualgcn_train, left_on = [\"PubCHEM\"], right_on = [\"Drug_ID\"])"
   ]
  },
  {
   "cell_type": "code",
   "execution_count": 25,
   "id": "2bc82e0e-8eff-4ca1-bf75-b7a7a9b129e0",
   "metadata": {},
   "outputs": [],
   "source": [
    "dualgcn_train = dualgcn_train[['Cell_Line', 'drug_id']]"
   ]
  },
  {
   "cell_type": "code",
   "execution_count": 26,
   "id": "eae9ef05-6e1c-4aaa-bf6b-940d92f46ffb",
   "metadata": {},
   "outputs": [],
   "source": [
    "dualgcn_test = pubchem_to_drugs_df.merge(dualgcn_test, left_on = [\"PubCHEM\"], right_on = [\"Drug_ID\"])"
   ]
  },
  {
   "cell_type": "code",
   "execution_count": 27,
   "id": "f30684d3-1a27-4d66-8fc4-f84310a30d70",
   "metadata": {},
   "outputs": [],
   "source": [
    "dualgcn_test = dualgcn_test[['Cell_Line', 'drug_id']]"
   ]
  },
  {
   "cell_type": "code",
   "execution_count": 28,
   "id": "f0542289-770e-4e4b-b664-92e4bc29cfc0",
   "metadata": {},
   "outputs": [
    {
     "data": {
      "text/plain": [
       "Cell_Line    object\n",
       "drug_id      object\n",
       "dtype: object"
      ]
     },
     "execution_count": 28,
     "metadata": {},
     "output_type": "execute_result"
    }
   ],
   "source": [
    "dualgcn_train.dtypes"
   ]
  },
  {
   "cell_type": "code",
   "execution_count": 29,
   "id": "1c63ae0c-24be-4d2e-91d5-6e2616980c51",
   "metadata": {},
   "outputs": [
    {
     "data": {
      "text/plain": [
       "drug_id             object\n",
       "Cancer_Cell_Line    object\n",
       "Smiles              object\n",
       "dtype: object"
      ]
     },
     "execution_count": 29,
     "metadata": {},
     "output_type": "execute_result"
    }
   ],
   "source": [
    "x_train.dtypes"
   ]
  },
  {
   "cell_type": "code",
   "execution_count": 30,
   "id": "ab53e997-9aa3-46ae-b3fe-f30549c35fdb",
   "metadata": {},
   "outputs": [],
   "source": [
    "# dualgcn_train"
   ]
  },
  {
   "cell_type": "code",
   "execution_count": 31,
   "id": "6cddda70-6c3e-4e5f-a2f7-882194bb43d1",
   "metadata": {},
   "outputs": [],
   "source": [
    "# x_train['drug_id'].values[0]"
   ]
  },
  {
   "cell_type": "code",
   "execution_count": 32,
   "id": "76078299-ae77-4b6b-99bf-c8d04c0d8d89",
   "metadata": {},
   "outputs": [],
   "source": [
    "x_train['drug_id'] = x_train['drug_id'].astype(str)"
   ]
  },
  {
   "cell_type": "code",
   "execution_count": 33,
   "id": "5c693879-9d22-426a-973c-10f2428782e8",
   "metadata": {},
   "outputs": [],
   "source": [
    "x_valid['drug_id'] = x_valid['drug_id'].astype(str)"
   ]
  },
  {
   "cell_type": "code",
   "execution_count": 34,
   "id": "bc17185f-ea74-4d95-8e77-549522dc6d9d",
   "metadata": {},
   "outputs": [],
   "source": [
    "x_train_valid_feats = pd.concat([x_train, x_valid], ignore_index = True)"
   ]
  },
  {
   "cell_type": "code",
   "execution_count": 35,
   "id": "3dd68714-74df-4643-9b6a-554e0db5884e",
   "metadata": {},
   "outputs": [],
   "source": [
    "y_train_valid = pd.concat([pd.DataFrame(y_train.reshape(-1,1)), pd.DataFrame(y_valid.reshape(-1,1))], ignore_index = True)"
   ]
  },
  {
   "cell_type": "code",
   "execution_count": 36,
   "id": "e5bdf3b9-9644-4f7a-a2d3-825b184a4671",
   "metadata": {},
   "outputs": [],
   "source": [
    "combo_train_valid = pd.concat([x_train_valid_feats, y_train_valid],axis =  1)"
   ]
  },
  {
   "cell_type": "code",
   "execution_count": 37,
   "id": "cd487c80-f100-47d8-91b4-704bc01aa318",
   "metadata": {},
   "outputs": [
    {
     "data": {
      "text/html": [
       "<div>\n",
       "<style scoped>\n",
       "    .dataframe tbody tr th:only-of-type {\n",
       "        vertical-align: middle;\n",
       "    }\n",
       "\n",
       "    .dataframe tbody tr th {\n",
       "        vertical-align: top;\n",
       "    }\n",
       "\n",
       "    .dataframe thead th {\n",
       "        text-align: right;\n",
       "    }\n",
       "</style>\n",
       "<table border=\"1\" class=\"dataframe\">\n",
       "  <thead>\n",
       "    <tr style=\"text-align: right;\">\n",
       "      <th></th>\n",
       "      <th>drug_id</th>\n",
       "      <th>Cancer_Cell_Line</th>\n",
       "      <th>Smiles</th>\n",
       "      <th>0</th>\n",
       "    </tr>\n",
       "  </thead>\n",
       "  <tbody>\n",
       "    <tr>\n",
       "      <th>0</th>\n",
       "      <td>1030</td>\n",
       "      <td>ACH-000295</td>\n",
       "      <td>O=c1cc(-c2cccc3c2Sc2ccccc2S3)oc(N2CCOCC2)c1</td>\n",
       "      <td>3.143044</td>\n",
       "    </tr>\n",
       "    <tr>\n",
       "      <th>1</th>\n",
       "      <td>203</td>\n",
       "      <td>ACH-000292</td>\n",
       "      <td>Cc1ccc2nc(NCCN)c3ncc(C)n3c2c1</td>\n",
       "      <td>2.772620</td>\n",
       "    </tr>\n",
       "    <tr>\n",
       "      <th>2</th>\n",
       "      <td>1072</td>\n",
       "      <td>ACH-002273</td>\n",
       "      <td>NC(=O)C(CCC(F)(F)F)N(Cc1ccc(-c2ncon2)cc1F)S(=O...</td>\n",
       "      <td>3.809977</td>\n",
       "    </tr>\n",
       "    <tr>\n",
       "      <th>3</th>\n",
       "      <td>150</td>\n",
       "      <td>ACH-000631</td>\n",
       "      <td>CC(O)(CS(=O)(=O)c1ccc(F)cc1)C(=O)Nc1ccc(C#N)c(...</td>\n",
       "      <td>3.053030</td>\n",
       "    </tr>\n",
       "    <tr>\n",
       "      <th>4</th>\n",
       "      <td>282</td>\n",
       "      <td>ACH-000270</td>\n",
       "      <td>CCOc1cc2ncc(C#N)c(Nc3ccc(F)c(Cl)c3)c2cc1NC(=O)...</td>\n",
       "      <td>-0.367467</td>\n",
       "    </tr>\n",
       "  </tbody>\n",
       "</table>\n",
       "</div>"
      ],
      "text/plain": [
       "  drug_id Cancer_Cell_Line                                             Smiles  \\\n",
       "0    1030       ACH-000295        O=c1cc(-c2cccc3c2Sc2ccccc2S3)oc(N2CCOCC2)c1   \n",
       "1     203       ACH-000292                      Cc1ccc2nc(NCCN)c3ncc(C)n3c2c1   \n",
       "2    1072       ACH-002273  NC(=O)C(CCC(F)(F)F)N(Cc1ccc(-c2ncon2)cc1F)S(=O...   \n",
       "3     150       ACH-000631  CC(O)(CS(=O)(=O)c1ccc(F)cc1)C(=O)Nc1ccc(C#N)c(...   \n",
       "4     282       ACH-000270  CCOc1cc2ncc(C#N)c(Nc3ccc(F)c(Cl)c3)c2cc1NC(=O)...   \n",
       "\n",
       "          0  \n",
       "0  3.143044  \n",
       "1  2.772620  \n",
       "2  3.809977  \n",
       "3  3.053030  \n",
       "4 -0.367467  "
      ]
     },
     "execution_count": 37,
     "metadata": {},
     "output_type": "execute_result"
    }
   ],
   "source": [
    "combo_train_valid.head()"
   ]
  },
  {
   "cell_type": "code",
   "execution_count": 38,
   "id": "b9de540d-bb4c-48e1-bcbe-b07df1a2c7f7",
   "metadata": {},
   "outputs": [],
   "source": [
    "combo_train_valid.columns = ['drug_id', 'Cancer_Cell_Line', 'Smiles', 'IC50']"
   ]
  },
  {
   "cell_type": "code",
   "execution_count": 39,
   "id": "6ad83127-f200-4ea3-8405-e3ec9e599ec1",
   "metadata": {},
   "outputs": [],
   "source": [
    "# filter x_train x _valid here\n",
    "x_y_train = combo_train_valid.merge(dualgcn_train, left_on = ['Cancer_Cell_Line','drug_id'], right_on = [ 'Cell_Line','drug_id'])"
   ]
  },
  {
   "cell_type": "code",
   "execution_count": 40,
   "id": "3ff87221-d69e-4ac0-b81c-408c18e6f3eb",
   "metadata": {},
   "outputs": [],
   "source": [
    "x_y_test = combo_train_valid.merge(dualgcn_test, left_on = ['Cancer_Cell_Line','drug_id'], right_on = [ 'Cell_Line','drug_id'])"
   ]
  },
  {
   "cell_type": "code",
   "execution_count": 41,
   "id": "6ca8133d-93bf-4598-a809-106415ce65f1",
   "metadata": {},
   "outputs": [
    {
     "data": {
      "text/plain": [
       "drug_id             object\n",
       "Cancer_Cell_Line    object\n",
       "Smiles              object\n",
       "dtype: object"
      ]
     },
     "execution_count": 41,
     "metadata": {},
     "output_type": "execute_result"
    }
   ],
   "source": [
    "x_train.dtypes"
   ]
  },
  {
   "cell_type": "code",
   "execution_count": 42,
   "id": "d526502f-cd0c-45f1-b1ac-21062fdb1ab6",
   "metadata": {},
   "outputs": [],
   "source": [
    "x_train, x_valid, y_train, y_valid = x_y_train.drop([\"IC50\", 'Cell_Line'],axis = 1), x_y_test.drop([\"IC50\", 'Cell_Line'],axis= 1), x_y_train[\"IC50\"].values, x_y_test[\"IC50\"].values"
   ]
  },
  {
   "cell_type": "code",
   "execution_count": 43,
   "id": "d8e8a19c-3fc2-4c28-8a5c-5d44890baff8",
   "metadata": {},
   "outputs": [],
   "source": [
    "train_gcn_feats = []\n",
    "train_adj_list = []\n",
    "for drug_id in x_train[\"drug_id\"].values:\n",
    "    train_gcn_feats.append(dict_features[drug_id])\n",
    "    train_adj_list.append(dict_normalized_adj_mats[drug_id])"
   ]
  },
  {
   "cell_type": "code",
   "execution_count": 44,
   "id": "f18af922-6ad2-4ec9-8a06-e21dfec89e16",
   "metadata": {},
   "outputs": [],
   "source": [
    "valid_gcn_feats = []\n",
    "valid_adj_list = []\n",
    "for drug_id in x_valid[\"drug_id\"].values:\n",
    "    valid_gcn_feats.append(dict_features[drug_id])\n",
    "    valid_adj_list.append(dict_normalized_adj_mats[drug_id])"
   ]
  },
  {
   "cell_type": "code",
   "execution_count": 45,
   "id": "9bed1e37-8576-42df-bc9d-4490bf6777c8",
   "metadata": {},
   "outputs": [],
   "source": [
    "import numpy as np"
   ]
  },
  {
   "cell_type": "code",
   "execution_count": 46,
   "id": "8727a949-fe53-4c23-a8f1-495b0575cfe7",
   "metadata": {},
   "outputs": [],
   "source": [
    "train_gcn_feats = np.array(train_gcn_feats).astype(\"float16\")\n",
    "valid_gcn_feats = np.array(valid_gcn_feats).astype(\"float16\")"
   ]
  },
  {
   "cell_type": "code",
   "execution_count": 47,
   "id": "2051e9cb-d041-4112-8155-cac3b6ef6684",
   "metadata": {},
   "outputs": [],
   "source": [
    "train_adj_list = np.array(train_adj_list).astype(\"float16\")\n",
    "valid_adj_list = np.array(valid_adj_list).astype(\"float16\")"
   ]
  },
  {
   "cell_type": "code",
   "execution_count": 48,
   "id": "b57c86db-c67b-4492-b945-9ee5ef7633be",
   "metadata": {},
   "outputs": [
    {
     "name": "stderr",
     "output_type": "stream",
     "text": [
      "2024-07-12 23:17:06.757070: I tensorflow/core/common_runtime/gpu/gpu_device.cc:1929] Created device /job:localhost/replica:0/task:0/device:GPU:0 with 31141 MB memory:  -> device: 0, name: Tesla V100S-PCIE-32GB, pci bus id: 0000:86:00.0, compute capability: 7.0\n"
     ]
    },
    {
     "name": "stdout",
     "output_type": "stream",
     "text": [
      "WARNING:tensorflow:No training configuration found in save file, so the model was *not* compiled. Compile it manually.\n"
     ]
    },
    {
     "name": "stderr",
     "output_type": "stream",
     "text": [
      "WARNING:tensorflow:No training configuration found in save file, so the model was *not* compiled. Compile it manually.\n"
     ]
    },
    {
     "name": "stdout",
     "output_type": "stream",
     "text": [
      "WARNING:tensorflow:No training configuration found in save file, so the model was *not* compiled. Compile it manually.\n"
     ]
    },
    {
     "name": "stderr",
     "output_type": "stream",
     "text": [
      "WARNING:tensorflow:No training configuration found in save file, so the model was *not* compiled. Compile it manually.\n"
     ]
    },
    {
     "name": "stdout",
     "output_type": "stream",
     "text": [
      "WARNING:tensorflow:No training configuration found in save file, so the model was *not* compiled. Compile it manually.\n"
     ]
    },
    {
     "name": "stderr",
     "output_type": "stream",
     "text": [
      "WARNING:tensorflow:No training configuration found in save file, so the model was *not* compiled. Compile it manually.\n"
     ]
    },
    {
     "name": "stdout",
     "output_type": "stream",
     "text": [
      "WARNING:tensorflow:No training configuration found in save file, so the model was *not* compiled. Compile it manually.\n"
     ]
    },
    {
     "name": "stderr",
     "output_type": "stream",
     "text": [
      "WARNING:tensorflow:No training configuration found in save file, so the model was *not* compiled. Compile it manually.\n"
     ]
    }
   ],
   "source": [
    "# load models\n",
    "# omic models\n",
    "cancer_copy_number_model = tf.keras.models.load_model(\"..//models//cancer_copy_number_model_no_norm_common\")\n",
    "cancer_cell_gen_expr_model = tf.keras.models.load_model(\"..//models//cancer_cell_gen_expr_model_no_norm_common\")\n",
    "cancer_cell_gen_methy_model = tf.keras.models.load_model(\"..//models//cancer_cell_gen_methy_model_no_norm\")\n",
    "cancer_cell_gen_mut_model = tf.keras.models.load_model(\"..//models//cancer_cell_gen_mut_model_no_norm\")"
   ]
  },
  {
   "cell_type": "code",
   "execution_count": 49,
   "id": "4c1533dd-2e0e-424f-be0d-24f06b51453b",
   "metadata": {},
   "outputs": [
    {
     "name": "stdout",
     "output_type": "stream",
     "text": [
      "WARNING:tensorflow:No training configuration found in save file, so the model was *not* compiled. Compile it manually.\n"
     ]
    },
    {
     "name": "stderr",
     "output_type": "stream",
     "text": [
      "WARNING:tensorflow:No training configuration found in save file, so the model was *not* compiled. Compile it manually.\n"
     ]
    }
   ],
   "source": [
    "# load models\n",
    "# drug models\n",
    "pubchem_drugs_rdkit_model = tf.keras.models.load_model(\"..//models//pubchem_drugs_rdkit_model_no_norm\")"
   ]
  },
  {
   "cell_type": "code",
   "execution_count": 50,
   "id": "77362536-513b-46f8-9ac9-e6a4b4da514a",
   "metadata": {},
   "outputs": [],
   "source": [
    "from sklearn.preprocessing import StandardScaler"
   ]
  },
  {
   "cell_type": "code",
   "execution_count": 51,
   "id": "4276fa33-3544-4a49-904e-020095d81f43",
   "metadata": {},
   "outputs": [],
   "source": [
    "std = StandardScaler()"
   ]
  },
  {
   "cell_type": "code",
   "execution_count": 52,
   "id": "6d5f0911-6e51-446d-a281-dc05086de8bf",
   "metadata": {},
   "outputs": [],
   "source": [
    "# extract drug features\n",
    "drug_features_train = pubchem_drugs_rdkit_model(x_train[\"drug_id\"].values).numpy().astype(\"float32\")\n",
    "drug_features_valid = pubchem_drugs_rdkit_model(x_valid[\"drug_id\"].values).numpy().astype(\"float32\")\n",
    "\n",
    "# drug_features_train = pubchem_drugs_rdkit_model(x_train[\"drug_id\"].values)\n",
    "# drug_features_valid = pubchem_drugs_rdkit_model(x_valid[\"drug_id\"].values)"
   ]
  },
  {
   "cell_type": "code",
   "execution_count": 53,
   "id": "f09c1da2-9df1-4674-9a05-ed475aaed5fa",
   "metadata": {},
   "outputs": [
    {
     "data": {
      "text/plain": [
       "0"
      ]
     },
     "execution_count": 53,
     "metadata": {},
     "output_type": "execute_result"
    }
   ],
   "source": [
    "np.isinf(drug_features_train).sum()"
   ]
  },
  {
   "cell_type": "code",
   "execution_count": 54,
   "id": "76723b45-8e73-41b2-b00a-19c27200d943",
   "metadata": {},
   "outputs": [],
   "source": [
    "drug_features_train = std.fit_transform(drug_features_train)"
   ]
  },
  {
   "cell_type": "code",
   "execution_count": 55,
   "id": "3397ce65-28fa-42a3-8b35-cb378bde141d",
   "metadata": {},
   "outputs": [],
   "source": [
    "drug_features_valid = std.transform(drug_features_valid)"
   ]
  },
  {
   "cell_type": "code",
   "execution_count": 56,
   "id": "8a581814-8f25-47f8-88eb-b6d94e841e96",
   "metadata": {},
   "outputs": [],
   "source": [
    "# extract copy number features\n",
    "omics_copy_number_train = cancer_copy_number_model(x_train[\"Cancer_Cell_Line\"].values).numpy().astype(\"float16\")\n",
    "omics_copy_number_valid = cancer_copy_number_model(x_valid[\"Cancer_Cell_Line\"].values).numpy().astype(\"float16\")"
   ]
  },
  {
   "cell_type": "code",
   "execution_count": 57,
   "id": "0d8f9737-5d43-4175-a68a-ff03ab3f58c3",
   "metadata": {},
   "outputs": [],
   "source": [
    "# extract gen expr features\n",
    "omics_gen_expr_train = cancer_cell_gen_expr_model(x_train[\"Cancer_Cell_Line\"].values).numpy().astype(\"float16\")\n",
    "omics_gen_expr_valid = cancer_cell_gen_expr_model(x_valid[\"Cancer_Cell_Line\"].values).numpy().astype(\"float16\")"
   ]
  },
  {
   "cell_type": "code",
   "execution_count": 58,
   "id": "6fc3a94e-0ffe-4672-a97a-cc87eca89a54",
   "metadata": {},
   "outputs": [],
   "source": [
    "# extract gen methylation features\n",
    "omics_gen_methyl_train = cancer_cell_gen_methy_model(x_train[\"Cancer_Cell_Line\"].values).numpy().astype(\"float16\")\n",
    "omics_gen_methyl_valid = cancer_cell_gen_methy_model(x_valid[\"Cancer_Cell_Line\"].values).numpy().astype(\"float16\")"
   ]
  },
  {
   "cell_type": "code",
   "execution_count": 59,
   "id": "75398540-13b6-4cfa-b90d-8f2c0124dcd8",
   "metadata": {},
   "outputs": [
    {
     "name": "stdout",
     "output_type": "stream",
     "text": [
      "271/271 [==============================] - 8s 28ms/step\n",
      "68/68 [==============================] - 0s 5ms/step\n"
     ]
    }
   ],
   "source": [
    "# extract gen mutation features\n",
    "with tf.device('/cpu:0'):\n",
    "    omics_gen_mut_train = cancer_cell_gen_mut_model.predict(x_train[\"Cancer_Cell_Line\"].values, verbose = 1, batch_size = 256).astype(\"float16\")\n",
    "    omics_gen_mut_valid = cancer_cell_gen_mut_model.predict(x_valid[\"Cancer_Cell_Line\"].values, verbose = 1, batch_size = 256).astype(\"float16\")"
   ]
  },
  {
   "cell_type": "code",
   "execution_count": 60,
   "id": "1cd31175-0cb4-4718-8ff6-221e42f493d9",
   "metadata": {},
   "outputs": [],
   "source": [
    "smile_strings_train = x_train[\"Smiles\"].values.reshape(-1,1)\n",
    "smile_strings_valid = x_valid[\"Smiles\"].values.reshape(-1,1)"
   ]
  },
  {
   "cell_type": "code",
   "execution_count": 61,
   "id": "32a9a130-7a5d-4cb0-b7f1-e95447642926",
   "metadata": {},
   "outputs": [],
   "source": [
    "input_gcn_features = tf.keras.layers.Input(shape = (100, 75))\n",
    "input_norm_adj_mat = tf.keras.layers.Input(shape = (100, 100))\n",
    "mult_1 = tf.keras.layers.Dot(1)([input_norm_adj_mat, input_gcn_features])\n",
    "dense_layer_gcn = tf.keras.layers.Dense(256, activation = \"relu\")\n",
    "dense_out = dense_layer_gcn(mult_1)\n",
    "dense_out = tf.keras.layers.BatchNormalization()(dense_out)\n",
    "dense_out = tf.keras.layers.Dropout(0.2)(dense_out)\n",
    "mult_2 = tf.keras.layers.Dot(1)([input_norm_adj_mat, dense_out])\n",
    "dense_layer_gcn = tf.keras.layers.Dense(256, activation = \"relu\")\n",
    "dense_out = dense_layer_gcn(mult_2)\n",
    "dense_out = tf.keras.layers.BatchNormalization()(dense_out)\n",
    "dense_out = tf.keras.layers.Dropout(0.2)(dense_out)\n",
    "\n",
    "dense_layer_gcn = tf.keras.layers.Dense(100, activation = \"relu\")\n",
    "mult_3 = tf.keras.layers.Dot(1)([input_norm_adj_mat, dense_out])\n",
    "dense_out = dense_layer_gcn(mult_3)\n",
    "dense_out = tf.keras.layers.BatchNormalization()(dense_out)\n",
    "dense_out = tf.keras.layers.Dropout(0.2)(dense_out)\n",
    "\n",
    "dense_out = tf.keras.layers.GlobalAvgPool1D()(dense_out)"
   ]
  },
  {
   "cell_type": "code",
   "execution_count": 62,
   "id": "5101070f-2ca2-45ba-ba43-8881a24fca55",
   "metadata": {},
   "outputs": [],
   "source": [
    "input_gen_methy = tf.keras.layers.Input(shape = (omics_gen_methyl_train.shape[1],))"
   ]
  },
  {
   "cell_type": "code",
   "execution_count": 63,
   "id": "73c6de76-6e7b-495c-a1ed-2f07bcbcac07",
   "metadata": {},
   "outputs": [],
   "source": [
    "gen_methy_layer = tf.keras.layers.Dense(256, activation = \"tanh\")"
   ]
  },
  {
   "cell_type": "code",
   "execution_count": 64,
   "id": "65dcd97c-9106-4928-b4ec-2b439579910a",
   "metadata": {},
   "outputs": [],
   "source": [
    "gen_methy_emb = gen_methy_layer(input_gen_methy)\n",
    "gen_methy_emb = tf.keras.layers.BatchNormalization()(gen_methy_emb)\n",
    "gen_methy_emb = tf.keras.layers.Dropout(0.2)(gen_methy_emb)"
   ]
  },
  {
   "cell_type": "code",
   "execution_count": 65,
   "id": "874a5732-d680-4cdc-8050-428fdcb3f81c",
   "metadata": {},
   "outputs": [],
   "source": [
    "gen_methy_layer = tf.keras.layers.Dense(100, activation = \"relu\")\n",
    "gen_methy_emb = gen_methy_layer(gen_methy_emb)"
   ]
  },
  {
   "cell_type": "code",
   "execution_count": 66,
   "id": "d873bfc5-fb61-4529-b989-424509ba4315",
   "metadata": {},
   "outputs": [],
   "source": [
    "all_feats = tf.keras.layers.Concatenate()([gen_methy_emb, dense_out])"
   ]
  },
  {
   "cell_type": "code",
   "execution_count": 67,
   "id": "c09578f7-e654-451c-91bb-38ec98bda3cc",
   "metadata": {},
   "outputs": [],
   "source": [
    "x = tf.keras.layers.Dense(300,activation = 'tanh')(all_feats)\n",
    "x = tf.keras.layers.Dropout(0.2)(x, training = True)\n",
    "x = tf.keras.layers.Lambda(lambda x: K.expand_dims(x,axis=-1))(x)\n",
    "x = tf.keras.layers.Lambda(lambda x: K.expand_dims(x,axis=1))(x)\n",
    "x = tf.keras.layers.Conv2D(filters=30, kernel_size=(1,150),strides=(1, 1), activation = 'relu',padding='valid')(x)\n",
    "x = tf.keras.layers.MaxPooling2D(pool_size=(1,2))(x)\n",
    "x = tf.keras.layers.Conv2D(filters=10, kernel_size=(1,5),strides=(1, 1), activation = 'relu',padding='valid')(x)\n",
    "x = tf.keras.layers.MaxPooling2D(pool_size=(1,3))(x)\n",
    "x = tf.keras.layers.Conv2D(filters=5, kernel_size=(1,5),strides=(1, 1), activation = 'relu',padding='valid')(x)\n",
    "x = tf.keras.layers.MaxPooling2D(pool_size=(1,3))(x)\n",
    "x = tf.keras.layers.Dropout(0.2)(x, training = True)\n",
    "x = tf.keras.layers.Flatten()(x)\n",
    "x = tf.keras.layers.Dropout(0.2)(x, training = True)"
   ]
  },
  {
   "cell_type": "code",
   "execution_count": 68,
   "id": "720ae0ed-8be9-44de-8beb-41155d444e76",
   "metadata": {},
   "outputs": [],
   "source": [
    "final_out_layer = tf.keras.layers.Dense(1)"
   ]
  },
  {
   "cell_type": "code",
   "execution_count": 69,
   "id": "a284faa6-42ed-4834-ab75-28291c65eb15",
   "metadata": {},
   "outputs": [],
   "source": [
    "final_out = final_out_layer(x)"
   ]
  },
  {
   "cell_type": "code",
   "execution_count": 70,
   "id": "dfe36747-9e6d-4f55-abaa-a52ef150d1f7",
   "metadata": {},
   "outputs": [],
   "source": [
    "simplecdr = tf.keras.models.Model([input_gcn_features, input_norm_adj_mat,\n",
    "                                   input_gen_methy], final_out)"
   ]
  },
  {
   "cell_type": "code",
   "execution_count": 71,
   "id": "e83ba73d-bc93-4d35-948a-3b99fa03ba78",
   "metadata": {},
   "outputs": [],
   "source": [
    "simplecdr.compile(loss = tf.keras.losses.MeanSquaredError(), \n",
    "                    optimizer = tf.keras.optimizers.Adam(learning_rate=0.001), \n",
    "                    metrics = [tf.keras.metrics.RootMeanSquaredError()])"
   ]
  },
  {
   "cell_type": "code",
   "execution_count": 72,
   "id": "20197d8b-ab33-44f9-aca3-92ca6d044667",
   "metadata": {},
   "outputs": [],
   "source": [
    "def chunks(lst, n):\n",
    "    \"\"\"Yield successive n-sized chunks from lst.\"\"\"\n",
    "    for i in range(0, len(lst), n):\n",
    "        yield lst[i:i + n]"
   ]
  },
  {
   "cell_type": "code",
   "execution_count": 73,
   "id": "a3fa46b0-782e-4d91-812f-dad5badceeb8",
   "metadata": {},
   "outputs": [],
   "source": [
    "chunks = np.array_split(list(range(0,valid_gcn_feats.shape[0])), 3)"
   ]
  },
  {
   "cell_type": "code",
   "execution_count": 74,
   "id": "176893a0-1e2f-4cc9-923c-b952662dcd6d",
   "metadata": {},
   "outputs": [],
   "source": [
    "test_index = 0"
   ]
  },
  {
   "cell_type": "code",
   "execution_count": 75,
   "id": "c7562ac0-ec9f-4eaa-8ccd-3447613a44c3",
   "metadata": {},
   "outputs": [],
   "source": [
    "train_items = list(chunks[test_index])"
   ]
  },
  {
   "cell_type": "code",
   "execution_count": 76,
   "id": "e057de2d-bbdb-4950-b58c-cb2eb3c59990",
   "metadata": {},
   "outputs": [],
   "source": [
    "test_items = list(set(list(range(0,valid_gcn_feats.shape[0]))).difference(train_items))"
   ]
  },
  {
   "cell_type": "code",
   "execution_count": 77,
   "id": "80ae9c76-cfdf-42e9-b9f0-5981484f0e30",
   "metadata": {},
   "outputs": [
    {
     "name": "stdout",
     "output_type": "stream",
     "text": [
      "(5772, 100, 75) (11544, 100, 75)\n",
      "(5772, 100, 100) (11544, 100, 100)\n",
      "(5772, 691) (11544, 691)\n",
      "(5772, 808) (11544, 808)\n",
      "(5772, 34673) (11544, 34673)\n",
      "(5772,) (11544,)\n"
     ]
    }
   ],
   "source": [
    "# First the data - let's use a train set of 6k - then the rest will be test here (from the remaining values, use 3k for training the stacker, 1k for validation of it, and the rest ~7k as the final test data). \n",
    "# drug feats\n",
    "new_train_gcn_feats = valid_gcn_feats[train_items, :,:]\n",
    "new_test_gcn_feats = valid_gcn_feats[test_items, :,:]\n",
    "print(new_train_gcn_feats.shape, new_test_gcn_feats.shape)\n",
    "\n",
    "# drug adj info\n",
    "new_train_adj_list = valid_adj_list[train_items, :,:]\n",
    "new_test_adj_list = valid_adj_list[test_items, :,:]\n",
    "print(new_train_adj_list.shape, new_test_adj_list.shape)\n",
    "\n",
    "# expression\n",
    "new_omics_gen_expr_train = omics_gen_expr_valid[train_items, :]\n",
    "new_omics_gen_expr_test = omics_gen_expr_valid[test_items,:]\n",
    "print(new_omics_gen_expr_train.shape, new_omics_gen_expr_test.shape)\n",
    "\n",
    "# methylation\n",
    "new_omics_gen_methyl_train = omics_gen_methyl_valid[train_items, :]\n",
    "new_omics_gen_methyl_test = omics_gen_methyl_valid[test_items,:]\n",
    "print(new_omics_gen_methyl_train.shape, new_omics_gen_methyl_test.shape)\n",
    "\n",
    "# mutation\n",
    "new_omics_gen_mut_train = omics_gen_mut_valid[train_items, :]\n",
    "new_omics_gen_mut_test = omics_gen_mut_valid[test_items,:]\n",
    "print(new_omics_gen_mut_train.shape, new_omics_gen_mut_test.shape)\n",
    "\n",
    "# y\n",
    "new_y_train = y_valid[train_items,]\n",
    "new_y_test = y_valid[test_items,]\n",
    "print(new_y_train.shape, new_y_test.shape)"
   ]
  },
  {
   "cell_type": "code",
   "execution_count": 78,
   "id": "b2fd6de2-a898-4511-ae09-9989c2a581a2",
   "metadata": {},
   "outputs": [
    {
     "data": {
      "text/plain": [
       "(2.069332453915454, 2.8460217894549977)"
      ]
     },
     "execution_count": 78,
     "metadata": {},
     "output_type": "execute_result"
    }
   ],
   "source": [
    "new_y_train.mean(), new_y_train.std() # match"
   ]
  },
  {
   "cell_type": "code",
   "execution_count": 79,
   "id": "270211a6-152f-45ae-96df-f6c324bcde38",
   "metadata": {},
   "outputs": [
    {
     "name": "stdout",
     "output_type": "stream",
     "text": [
      "Model: \"model\"\n",
      "__________________________________________________________________________________________________\n",
      " Layer (type)                Output Shape                 Param #   Connected to                  \n",
      "==================================================================================================\n",
      " input_2 (InputLayer)        [(None, 100, 100)]           0         []                            \n",
      "                                                                                                  \n",
      " input_1 (InputLayer)        [(None, 100, 75)]            0         []                            \n",
      "                                                                                                  \n",
      " dot (Dot)                   (None, 100, 75)              0         ['input_2[0][0]',             \n",
      "                                                                     'input_1[0][0]']             \n",
      "                                                                                                  \n",
      " dense (Dense)               (None, 100, 256)             19456     ['dot[0][0]']                 \n",
      "                                                                                                  \n",
      " batch_normalization (Batch  (None, 100, 256)             1024      ['dense[0][0]']               \n",
      " Normalization)                                                                                   \n",
      "                                                                                                  \n",
      " dropout (Dropout)           (None, 100, 256)             0         ['batch_normalization[0][0]'] \n",
      "                                                                                                  \n",
      " dot_1 (Dot)                 (None, 100, 256)             0         ['input_2[0][0]',             \n",
      "                                                                     'dropout[0][0]']             \n",
      "                                                                                                  \n",
      " dense_1 (Dense)             (None, 100, 256)             65792     ['dot_1[0][0]']               \n",
      "                                                                                                  \n",
      " input_5 (InputLayer)        [(None, 34673)]              0         []                            \n",
      "                                                                                                  \n",
      " batch_normalization_1 (Bat  (None, 100, 256)             1024      ['dense_1[0][0]']             \n",
      " chNormalization)                                                                                 \n",
      "                                                                                                  \n",
      " reshape (Reshape)           (None, 1, 34673, 1)          0         ['input_5[0][0]']             \n",
      "                                                                                                  \n",
      " dropout_1 (Dropout)         (None, 100, 256)             0         ['batch_normalization_1[0][0]'\n",
      "                                                                    ]                             \n",
      "                                                                                                  \n",
      " input_4 (InputLayer)        [(None, 808)]                0         []                            \n",
      "                                                                                                  \n",
      " conv2d (Conv2D)             (None, 1, 6795, 50)          35050     ['reshape[0][0]']             \n",
      "                                                                                                  \n",
      " input_3 (InputLayer)        [(None, 691)]                0         []                            \n",
      "                                                                                                  \n",
      " dot_2 (Dot)                 (None, 100, 256)             0         ['input_2[0][0]',             \n",
      "                                                                     'dropout_1[0][0]']           \n",
      "                                                                                                  \n",
      " dense_5 (Dense)             (None, 256)                  207104    ['input_4[0][0]']             \n",
      "                                                                                                  \n",
      " max_pooling2d (MaxPooling2  (None, 1, 1359, 50)          0         ['conv2d[0][0]']              \n",
      " D)                                                                                               \n",
      "                                                                                                  \n",
      " dense_3 (Dense)             (None, 256)                  177152    ['input_3[0][0]']             \n",
      "                                                                                                  \n",
      " dense_2 (Dense)             (None, 100, 100)             25700     ['dot_2[0][0]']               \n",
      "                                                                                                  \n",
      " batch_normalization_4 (Bat  (None, 256)                  1024      ['dense_5[0][0]']             \n",
      " chNormalization)                                                                                 \n",
      "                                                                                                  \n",
      " conv2d_1 (Conv2D)           (None, 1, 678, 30)           7530      ['max_pooling2d[0][0]']       \n",
      "                                                                                                  \n",
      " batch_normalization_3 (Bat  (None, 256)                  1024      ['dense_3[0][0]']             \n",
      " chNormalization)                                                                                 \n",
      "                                                                                                  \n",
      " batch_normalization_2 (Bat  (None, 100, 100)             400       ['dense_2[0][0]']             \n",
      " chNormalization)                                                                                 \n",
      "                                                                                                  \n",
      " dropout_4 (Dropout)         (None, 256)                  0         ['batch_normalization_4[0][0]'\n",
      "                                                                    ]                             \n",
      "                                                                                                  \n",
      " max_pooling2d_1 (MaxPoolin  (None, 1, 67, 30)            0         ['conv2d_1[0][0]']            \n",
      " g2D)                                                                                             \n",
      "                                                                                                  \n",
      " dropout_3 (Dropout)         (None, 256)                  0         ['batch_normalization_3[0][0]'\n",
      "                                                                    ]                             \n",
      "                                                                                                  \n",
      " dropout_2 (Dropout)         (None, 100, 100)             0         ['batch_normalization_2[0][0]'\n",
      "                                                                    ]                             \n",
      "                                                                                                  \n",
      " dense_6 (Dense)             (None, 100)                  25700     ['dropout_4[0][0]']           \n",
      "                                                                                                  \n",
      " flatten (Flatten)           (None, 2010)                 0         ['max_pooling2d_1[0][0]']     \n",
      "                                                                                                  \n",
      " dense_4 (Dense)             (None, 100)                  25700     ['dropout_3[0][0]']           \n",
      "                                                                                                  \n",
      " global_average_pooling1d (  (None, 100)                  0         ['dropout_2[0][0]']           \n",
      " GlobalAveragePooling1D)                                                                          \n",
      "                                                                                                  \n",
      " concatenate (Concatenate)   (None, 2310)                 0         ['dense_6[0][0]',             \n",
      "                                                                     'flatten[0][0]',             \n",
      "                                                                     'dense_4[0][0]',             \n",
      "                                                                     'global_average_pooling1d[0][\n",
      "                                                                    0]']                          \n",
      "                                                                                                  \n",
      " dense_7 (Dense)             (None, 300)                  693300    ['concatenate[0][0]']         \n",
      "                                                                                                  \n",
      " dropout_5 (Dropout)         (None, 300)                  0         ['dense_7[0][0]']             \n",
      "                                                                                                  \n",
      " lambda (Lambda)             (None, 300, 1)               0         ['dropout_5[0][0]']           \n",
      "                                                                                                  \n",
      " lambda_1 (Lambda)           (None, 1, 300, 1)            0         ['lambda[0][0]']              \n",
      "                                                                                                  \n",
      " conv2d_2 (Conv2D)           (None, 1, 151, 30)           4530      ['lambda_1[0][0]']            \n",
      "                                                                                                  \n",
      " max_pooling2d_2 (MaxPoolin  (None, 1, 75, 30)            0         ['conv2d_2[0][0]']            \n",
      " g2D)                                                                                             \n",
      "                                                                                                  \n",
      " conv2d_3 (Conv2D)           (None, 1, 71, 10)            1510      ['max_pooling2d_2[0][0]']     \n",
      "                                                                                                  \n",
      " max_pooling2d_3 (MaxPoolin  (None, 1, 23, 10)            0         ['conv2d_3[0][0]']            \n",
      " g2D)                                                                                             \n",
      "                                                                                                  \n",
      " conv2d_4 (Conv2D)           (None, 1, 19, 5)             255       ['max_pooling2d_3[0][0]']     \n",
      "                                                                                                  \n",
      " max_pooling2d_4 (MaxPoolin  (None, 1, 6, 5)              0         ['conv2d_4[0][0]']            \n",
      " g2D)                                                                                             \n",
      "                                                                                                  \n",
      " dropout_6 (Dropout)         (None, 1, 6, 5)              0         ['max_pooling2d_4[0][0]']     \n",
      "                                                                                                  \n",
      " flatten_1 (Flatten)         (None, 30)                   0         ['dropout_6[0][0]']           \n",
      "                                                                                                  \n",
      " dropout_7 (Dropout)         (None, 30)                   0         ['flatten_1[0][0]']           \n",
      "                                                                                                  \n",
      " dense_8 (Dense)             (None, 1)                    31        ['dropout_7[0][0]']           \n",
      "                                                                                                  \n",
      "==================================================================================================\n",
      "Total params: 1293306 (4.93 MB)\n",
      "Trainable params: 1291058 (4.92 MB)\n",
      "Non-trainable params: 2248 (8.78 KB)\n",
      "__________________________________________________________________________________________________\n"
     ]
    }
   ],
   "source": [
    "simpleCDR_original_model = tf.keras.models.load_model(\"../models/deepcdr_trained_on_domain\")\n",
    "simpleCDR_original_model.summary()"
   ]
  },
  {
   "cell_type": "code",
   "execution_count": 80,
   "id": "0d6b4461-7f87-42d7-9bba-1b22773901f8",
   "metadata": {},
   "outputs": [
    {
     "name": "stdout",
     "output_type": "stream",
     "text": [
      "Model: \"model\"\n",
      "__________________________________________________________________________________________________\n",
      " Layer (type)                Output Shape                 Param #   Connected to                  \n",
      "==================================================================================================\n",
      " input_2 (InputLayer)        [(None, 100, 100)]           0         []                            \n",
      "                                                                                                  \n",
      " input_1 (InputLayer)        [(None, 100, 75)]            0         []                            \n",
      "                                                                                                  \n",
      " dot (Dot)                   (None, 100, 75)              0         ['input_2[0][0]',             \n",
      "                                                                     'input_1[0][0]']             \n",
      "                                                                                                  \n",
      " dense (Dense)               (None, 100, 256)             19456     ['dot[0][0]']                 \n",
      "                                                                                                  \n",
      " batch_normalization (Batch  (None, 100, 256)             1024      ['dense[0][0]']               \n",
      " Normalization)                                                                                   \n",
      "                                                                                                  \n",
      " dropout (Dropout)           (None, 100, 256)             0         ['batch_normalization[0][0]'] \n",
      "                                                                                                  \n",
      " dot_1 (Dot)                 (None, 100, 256)             0         ['input_2[0][0]',             \n",
      "                                                                     'dropout[0][0]']             \n",
      "                                                                                                  \n",
      " dense_1 (Dense)             (None, 100, 256)             65792     ['dot_1[0][0]']               \n",
      "                                                                                                  \n",
      " batch_normalization_1 (Bat  (None, 100, 256)             1024      ['dense_1[0][0]']             \n",
      " chNormalization)                                                                                 \n",
      "                                                                                                  \n",
      " dropout_1 (Dropout)         (None, 100, 256)             0         ['batch_normalization_1[0][0]'\n",
      "                                                                    ]                             \n",
      "                                                                                                  \n",
      " input_3 (InputLayer)        [(None, 808)]                0         []                            \n",
      "                                                                                                  \n",
      " dot_2 (Dot)                 (None, 100, 256)             0         ['input_2[0][0]',             \n",
      "                                                                     'dropout_1[0][0]']           \n",
      "                                                                                                  \n",
      " dense_3 (Dense)             (None, 256)                  207104    ['input_3[0][0]']             \n",
      "                                                                                                  \n",
      " dense_2 (Dense)             (None, 100, 100)             25700     ['dot_2[0][0]']               \n",
      "                                                                                                  \n",
      " batch_normalization_3 (Bat  (None, 256)                  1024      ['dense_3[0][0]']             \n",
      " chNormalization)                                                                                 \n",
      "                                                                                                  \n",
      " batch_normalization_2 (Bat  (None, 100, 100)             400       ['dense_2[0][0]']             \n",
      " chNormalization)                                                                                 \n",
      "                                                                                                  \n",
      " dropout_3 (Dropout)         (None, 256)                  0         ['batch_normalization_3[0][0]'\n",
      "                                                                    ]                             \n",
      "                                                                                                  \n",
      " dropout_2 (Dropout)         (None, 100, 100)             0         ['batch_normalization_2[0][0]'\n",
      "                                                                    ]                             \n",
      "                                                                                                  \n",
      " dense_4 (Dense)             (None, 100)                  25700     ['dropout_3[0][0]']           \n",
      "                                                                                                  \n",
      " global_average_pooling1d (  (None, 100)                  0         ['dropout_2[0][0]']           \n",
      " GlobalAveragePooling1D)                                                                          \n",
      "                                                                                                  \n",
      " concatenate (Concatenate)   (None, 200)                  0         ['dense_4[0][0]',             \n",
      "                                                                     'global_average_pooling1d[0][\n",
      "                                                                    0]']                          \n",
      "                                                                                                  \n",
      " dense_5 (Dense)             (None, 300)                  60300     ['concatenate[0][0]']         \n",
      "                                                                                                  \n",
      " dropout_4 (Dropout)         (None, 300)                  0         ['dense_5[0][0]']             \n",
      "                                                                                                  \n",
      " lambda (Lambda)             (None, 300, 1)               0         ['dropout_4[0][0]']           \n",
      "                                                                                                  \n",
      " lambda_1 (Lambda)           (None, 1, 300, 1)            0         ['lambda[0][0]']              \n",
      "                                                                                                  \n",
      " conv2d (Conv2D)             (None, 1, 151, 30)           4530      ['lambda_1[0][0]']            \n",
      "                                                                                                  \n",
      " max_pooling2d (MaxPooling2  (None, 1, 75, 30)            0         ['conv2d[0][0]']              \n",
      " D)                                                                                               \n",
      "                                                                                                  \n",
      " conv2d_1 (Conv2D)           (None, 1, 71, 10)            1510      ['max_pooling2d[0][0]']       \n",
      "                                                                                                  \n",
      " max_pooling2d_1 (MaxPoolin  (None, 1, 23, 10)            0         ['conv2d_1[0][0]']            \n",
      " g2D)                                                                                             \n",
      "                                                                                                  \n",
      " conv2d_2 (Conv2D)           (None, 1, 19, 5)             255       ['max_pooling2d_1[0][0]']     \n",
      "                                                                                                  \n",
      " max_pooling2d_2 (MaxPoolin  (None, 1, 6, 5)              0         ['conv2d_2[0][0]']            \n",
      " g2D)                                                                                             \n",
      "                                                                                                  \n",
      " dropout_5 (Dropout)         (None, 1, 6, 5)              0         ['max_pooling2d_2[0][0]']     \n",
      "                                                                                                  \n",
      " flatten (Flatten)           (None, 30)                   0         ['dropout_5[0][0]']           \n",
      "                                                                                                  \n",
      " dropout_6 (Dropout)         (None, 30)                   0         ['flatten[0][0]']             \n",
      "                                                                                                  \n",
      " dense_6 (Dense)             (None, 1)                    31        ['dropout_6[0][0]']           \n",
      "                                                                                                  \n",
      "==================================================================================================\n",
      "Total params: 413850 (1.58 MB)\n",
      "Trainable params: 412114 (1.57 MB)\n",
      "Non-trainable params: 1736 (6.78 KB)\n",
      "__________________________________________________________________________________________________\n"
     ]
    }
   ],
   "source": [
    "simplecdr.summary()"
   ]
  },
  {
   "cell_type": "code",
   "execution_count": 81,
   "id": "c6ec8b6d-8db9-4903-b233-b9a1c9db5192",
   "metadata": {},
   "outputs": [],
   "source": [
    "# unpack the weights for the warm start\n",
    "\n",
    "# first drugs\n",
    "Dense_1_weights, Dense_1_bias = simpleCDR_original_model.layers[3].get_weights()\n",
    "bn_1_weights = simpleCDR_original_model.layers[4].get_weights()\n",
    "Dense_2_weights, Dense_2_bias = simpleCDR_original_model.layers[7].get_weights()\n",
    "bn_2_weights = simpleCDR_original_model.layers[9].get_weights()\n",
    "Dense_3_weights, Dense_3_bias = simpleCDR_original_model.layers[19].get_weights()\n",
    "bn_3_weights = simpleCDR_original_model.layers[23].get_weights()\n",
    "\n",
    "# # methylation\n",
    "Dense_1_weights_methyl, Dense_1_bias_methyl = simpleCDR_original_model.layers[16].get_weights()\n",
    "bn_1_weights_methyl = simpleCDR_original_model.layers[20].get_weights()\n",
    "Dense_2_weights_methyl, Dense_2_bias_methyl = simpleCDR_original_model.layers[28].get_weights()\n",
    "\n",
    "# once concatenated\n",
    "conv2d_1_weights_concat, conv2d_1_bias_concat = simpleCDR_original_model.layers[37].get_weights()\n",
    "conv2d_2_weights_concat, conv2d_2_bias_concat = simpleCDR_original_model.layers[39].get_weights()\n",
    "conv2d_3_weights_concat, conv2d_3_bias_concat = simpleCDR_original_model.layers[41].get_weights()\n",
    "Dense_final_weights_concat, Dense_final_bias_concat = simpleCDR_original_model.layers[46].get_weights()"
   ]
  },
  {
   "cell_type": "code",
   "execution_count": 82,
   "id": "9b4120cc-5850-4217-a395-3c5946e7c3b9",
   "metadata": {},
   "outputs": [
    {
     "name": "stdout",
     "output_type": "stream",
     "text": [
      "Model: \"model\"\n",
      "__________________________________________________________________________________________________\n",
      " Layer (type)                Output Shape                 Param #   Connected to                  \n",
      "==================================================================================================\n",
      " input_2 (InputLayer)        [(None, 100, 100)]           0         []                            \n",
      "                                                                                                  \n",
      " input_1 (InputLayer)        [(None, 100, 75)]            0         []                            \n",
      "                                                                                                  \n",
      " dot (Dot)                   (None, 100, 75)              0         ['input_2[0][0]',             \n",
      "                                                                     'input_1[0][0]']             \n",
      "                                                                                                  \n",
      " dense (Dense)               (None, 100, 256)             19456     ['dot[0][0]']                 \n",
      "                                                                                                  \n",
      " batch_normalization (Batch  (None, 100, 256)             1024      ['dense[0][0]']               \n",
      " Normalization)                                                                                   \n",
      "                                                                                                  \n",
      " dropout (Dropout)           (None, 100, 256)             0         ['batch_normalization[0][0]'] \n",
      "                                                                                                  \n",
      " dot_1 (Dot)                 (None, 100, 256)             0         ['input_2[0][0]',             \n",
      "                                                                     'dropout[0][0]']             \n",
      "                                                                                                  \n",
      " dense_1 (Dense)             (None, 100, 256)             65792     ['dot_1[0][0]']               \n",
      "                                                                                                  \n",
      " input_5 (InputLayer)        [(None, 34673)]              0         []                            \n",
      "                                                                                                  \n",
      " batch_normalization_1 (Bat  (None, 100, 256)             1024      ['dense_1[0][0]']             \n",
      " chNormalization)                                                                                 \n",
      "                                                                                                  \n",
      " reshape (Reshape)           (None, 1, 34673, 1)          0         ['input_5[0][0]']             \n",
      "                                                                                                  \n",
      " dropout_1 (Dropout)         (None, 100, 256)             0         ['batch_normalization_1[0][0]'\n",
      "                                                                    ]                             \n",
      "                                                                                                  \n",
      " input_4 (InputLayer)        [(None, 808)]                0         []                            \n",
      "                                                                                                  \n",
      " conv2d (Conv2D)             (None, 1, 6795, 50)          35050     ['reshape[0][0]']             \n",
      "                                                                                                  \n",
      " input_3 (InputLayer)        [(None, 691)]                0         []                            \n",
      "                                                                                                  \n",
      " dot_2 (Dot)                 (None, 100, 256)             0         ['input_2[0][0]',             \n",
      "                                                                     'dropout_1[0][0]']           \n",
      "                                                                                                  \n",
      " dense_5 (Dense)             (None, 256)                  207104    ['input_4[0][0]']             \n",
      "                                                                                                  \n",
      " max_pooling2d (MaxPooling2  (None, 1, 1359, 50)          0         ['conv2d[0][0]']              \n",
      " D)                                                                                               \n",
      "                                                                                                  \n",
      " dense_3 (Dense)             (None, 256)                  177152    ['input_3[0][0]']             \n",
      "                                                                                                  \n",
      " dense_2 (Dense)             (None, 100, 100)             25700     ['dot_2[0][0]']               \n",
      "                                                                                                  \n",
      " batch_normalization_4 (Bat  (None, 256)                  1024      ['dense_5[0][0]']             \n",
      " chNormalization)                                                                                 \n",
      "                                                                                                  \n",
      " conv2d_1 (Conv2D)           (None, 1, 678, 30)           7530      ['max_pooling2d[0][0]']       \n",
      "                                                                                                  \n",
      " batch_normalization_3 (Bat  (None, 256)                  1024      ['dense_3[0][0]']             \n",
      " chNormalization)                                                                                 \n",
      "                                                                                                  \n",
      " batch_normalization_2 (Bat  (None, 100, 100)             400       ['dense_2[0][0]']             \n",
      " chNormalization)                                                                                 \n",
      "                                                                                                  \n",
      " dropout_4 (Dropout)         (None, 256)                  0         ['batch_normalization_4[0][0]'\n",
      "                                                                    ]                             \n",
      "                                                                                                  \n",
      " max_pooling2d_1 (MaxPoolin  (None, 1, 67, 30)            0         ['conv2d_1[0][0]']            \n",
      " g2D)                                                                                             \n",
      "                                                                                                  \n",
      " dropout_3 (Dropout)         (None, 256)                  0         ['batch_normalization_3[0][0]'\n",
      "                                                                    ]                             \n",
      "                                                                                                  \n",
      " dropout_2 (Dropout)         (None, 100, 100)             0         ['batch_normalization_2[0][0]'\n",
      "                                                                    ]                             \n",
      "                                                                                                  \n",
      " dense_6 (Dense)             (None, 100)                  25700     ['dropout_4[0][0]']           \n",
      "                                                                                                  \n",
      " flatten (Flatten)           (None, 2010)                 0         ['max_pooling2d_1[0][0]']     \n",
      "                                                                                                  \n",
      " dense_4 (Dense)             (None, 100)                  25700     ['dropout_3[0][0]']           \n",
      "                                                                                                  \n",
      " global_average_pooling1d (  (None, 100)                  0         ['dropout_2[0][0]']           \n",
      " GlobalAveragePooling1D)                                                                          \n",
      "                                                                                                  \n",
      " concatenate (Concatenate)   (None, 2310)                 0         ['dense_6[0][0]',             \n",
      "                                                                     'flatten[0][0]',             \n",
      "                                                                     'dense_4[0][0]',             \n",
      "                                                                     'global_average_pooling1d[0][\n",
      "                                                                    0]']                          \n",
      "                                                                                                  \n",
      " dense_7 (Dense)             (None, 300)                  693300    ['concatenate[0][0]']         \n",
      "                                                                                                  \n",
      " dropout_5 (Dropout)         (None, 300)                  0         ['dense_7[0][0]']             \n",
      "                                                                                                  \n",
      " lambda (Lambda)             (None, 300, 1)               0         ['dropout_5[0][0]']           \n",
      "                                                                                                  \n",
      " lambda_1 (Lambda)           (None, 1, 300, 1)            0         ['lambda[0][0]']              \n",
      "                                                                                                  \n",
      " conv2d_2 (Conv2D)           (None, 1, 151, 30)           4530      ['lambda_1[0][0]']            \n",
      "                                                                                                  \n",
      " max_pooling2d_2 (MaxPoolin  (None, 1, 75, 30)            0         ['conv2d_2[0][0]']            \n",
      " g2D)                                                                                             \n",
      "                                                                                                  \n",
      " conv2d_3 (Conv2D)           (None, 1, 71, 10)            1510      ['max_pooling2d_2[0][0]']     \n",
      "                                                                                                  \n",
      " max_pooling2d_3 (MaxPoolin  (None, 1, 23, 10)            0         ['conv2d_3[0][0]']            \n",
      " g2D)                                                                                             \n",
      "                                                                                                  \n",
      " conv2d_4 (Conv2D)           (None, 1, 19, 5)             255       ['max_pooling2d_3[0][0]']     \n",
      "                                                                                                  \n",
      " max_pooling2d_4 (MaxPoolin  (None, 1, 6, 5)              0         ['conv2d_4[0][0]']            \n",
      " g2D)                                                                                             \n",
      "                                                                                                  \n",
      " dropout_6 (Dropout)         (None, 1, 6, 5)              0         ['max_pooling2d_4[0][0]']     \n",
      "                                                                                                  \n",
      " flatten_1 (Flatten)         (None, 30)                   0         ['dropout_6[0][0]']           \n",
      "                                                                                                  \n",
      " dropout_7 (Dropout)         (None, 30)                   0         ['flatten_1[0][0]']           \n",
      "                                                                                                  \n",
      " dense_8 (Dense)             (None, 1)                    31        ['dropout_7[0][0]']           \n",
      "                                                                                                  \n",
      "==================================================================================================\n",
      "Total params: 1293306 (4.93 MB)\n",
      "Trainable params: 1291058 (4.92 MB)\n",
      "Non-trainable params: 2248 (8.78 KB)\n",
      "__________________________________________________________________________________________________\n"
     ]
    }
   ],
   "source": [
    "simpleCDR_original_model.summary()"
   ]
  },
  {
   "cell_type": "code",
   "execution_count": 83,
   "id": "f60d7a61-29a0-4ebe-8292-f7c766dc1ecf",
   "metadata": {},
   "outputs": [],
   "source": [
    "# Set weights\n",
    "\n",
    "# drugs\n",
    "simplecdr.layers[3].set_weights((Dense_1_weights, Dense_1_bias))\n",
    "simplecdr.layers[4].set_weights(bn_1_weights)\n",
    "simplecdr.layers[7].set_weights((Dense_2_weights, Dense_2_bias))\n",
    "simplecdr.layers[8].set_weights(bn_2_weights)\n",
    "simplecdr.layers[13].set_weights((Dense_3_weights, Dense_3_bias))\n",
    "simplecdr.layers[15].set_weights(bn_3_weights)\n",
    "\n",
    "# methylation\n",
    "simplecdr.layers[12].set_weights((Dense_1_weights_methyl, Dense_1_bias_methyl))\n",
    "simplecdr.layers[14].set_weights(bn_1_weights_methyl)\n",
    "simplecdr.layers[18].set_weights((Dense_2_weights_methyl, Dense_2_bias_methyl))\n",
    "\n",
    "# concat\n",
    "simplecdr.layers[25].set_weights((conv2d_1_weights_concat, conv2d_1_bias_concat))\n",
    "simplecdr.layers[27].set_weights((conv2d_2_weights_concat, conv2d_2_bias_concat))\n",
    "simplecdr.layers[29].set_weights((conv2d_3_weights_concat, conv2d_3_bias_concat))\n",
    "simplecdr.layers[34].set_weights((Dense_final_weights_concat, Dense_final_bias_concat))"
   ]
  },
  {
   "cell_type": "code",
   "execution_count": 84,
   "id": "ebff6df3-7a4a-4fe9-870e-45bab44001ff",
   "metadata": {},
   "outputs": [
    {
     "name": "stdout",
     "output_type": "stream",
     "text": [
      "Epoch 1/1000\n"
     ]
    },
    {
     "name": "stderr",
     "output_type": "stream",
     "text": [
      "2024-07-12 23:17:40.374381: E tensorflow/core/grappler/optimizers/meta_optimizer.cc:961] layout failed: INVALID_ARGUMENT: Size of values 0 does not match size of permutation 4 @ fanin shape inmodel/dropout_5/dropout/SelectV2-2-TransposeNHWCToNCHW-LayoutOptimizer\n",
      "2024-07-12 23:17:42.130538: I external/local_xla/xla/stream_executor/cuda/cuda_dnn.cc:454] Loaded cuDNN version 8907\n",
      "2024-07-12 23:17:42.811718: I external/local_xla/xla/service/service.cc:168] XLA service 0x146cf54e5f90 initialized for platform CUDA (this does not guarantee that XLA will be used). Devices:\n",
      "2024-07-12 23:17:42.811774: I external/local_xla/xla/service/service.cc:176]   StreamExecutor device (0): Tesla V100S-PCIE-32GB, Compute Capability 7.0\n",
      "2024-07-12 23:17:42.862036: I tensorflow/compiler/mlir/tensorflow/utils/dump_mlir_util.cc:269] disabling MLIR crash reproducer, set env var `MLIR_CRASH_REPRODUCER_DIRECTORY` to enable.\n",
      "WARNING: All log messages before absl::InitializeLog() is called are written to STDERR\n",
      "I0000 00:00:1720844263.153757  343720 device_compiler.h:186] Compiled cluster using XLA!  This line is logged at most once for the lifetime of the process.\n"
     ]
    },
    {
     "name": "stdout",
     "output_type": "stream",
     "text": [
      "10/10 [==============================] - 9s 101ms/step - loss: 5.5154 - root_mean_squared_error: 2.3485 - val_loss: 3.3249 - val_root_mean_squared_error: 1.8234\n",
      "Epoch 2/1000\n",
      "10/10 [==============================] - 0s 37ms/step - loss: 3.3073 - root_mean_squared_error: 1.8186 - val_loss: 3.0535 - val_root_mean_squared_error: 1.7474\n",
      "Epoch 3/1000\n",
      "10/10 [==============================] - 0s 38ms/step - loss: 2.7209 - root_mean_squared_error: 1.6495 - val_loss: 2.6087 - val_root_mean_squared_error: 1.6152\n",
      "Epoch 4/1000\n",
      "10/10 [==============================] - 0s 38ms/step - loss: 2.5530 - root_mean_squared_error: 1.5978 - val_loss: 2.5737 - val_root_mean_squared_error: 1.6043\n",
      "Epoch 5/1000\n",
      "10/10 [==============================] - 0s 37ms/step - loss: 2.4428 - root_mean_squared_error: 1.5629 - val_loss: 2.7426 - val_root_mean_squared_error: 1.6561\n",
      "Epoch 6/1000\n",
      "10/10 [==============================] - 0s 38ms/step - loss: 2.2938 - root_mean_squared_error: 1.5145 - val_loss: 2.4447 - val_root_mean_squared_error: 1.5635\n",
      "Epoch 7/1000\n",
      "10/10 [==============================] - 0s 37ms/step - loss: 2.2412 - root_mean_squared_error: 1.4971 - val_loss: 2.4612 - val_root_mean_squared_error: 1.5688\n",
      "Epoch 8/1000\n",
      "10/10 [==============================] - 0s 39ms/step - loss: 2.2263 - root_mean_squared_error: 1.4921 - val_loss: 2.4158 - val_root_mean_squared_error: 1.5543\n",
      "Epoch 9/1000\n",
      "10/10 [==============================] - 0s 36ms/step - loss: 2.1463 - root_mean_squared_error: 1.4650 - val_loss: 2.4636 - val_root_mean_squared_error: 1.5696\n",
      "Epoch 10/1000\n",
      "10/10 [==============================] - 0s 38ms/step - loss: 2.1564 - root_mean_squared_error: 1.4685 - val_loss: 2.3337 - val_root_mean_squared_error: 1.5276\n",
      "Epoch 11/1000\n",
      "10/10 [==============================] - 0s 36ms/step - loss: 2.1159 - root_mean_squared_error: 1.4546 - val_loss: 2.4512 - val_root_mean_squared_error: 1.5656\n",
      "Epoch 12/1000\n",
      "10/10 [==============================] - 0s 37ms/step - loss: 2.1040 - root_mean_squared_error: 1.4505 - val_loss: 2.4115 - val_root_mean_squared_error: 1.5529\n",
      "Epoch 13/1000\n",
      "10/10 [==============================] - 0s 35ms/step - loss: 2.0399 - root_mean_squared_error: 1.4283 - val_loss: 2.3540 - val_root_mean_squared_error: 1.5343\n",
      "Epoch 14/1000\n",
      "10/10 [==============================] - 0s 37ms/step - loss: 1.9902 - root_mean_squared_error: 1.4107 - val_loss: 2.1834 - val_root_mean_squared_error: 1.4776\n",
      "Epoch 15/1000\n",
      "10/10 [==============================] - 0s 37ms/step - loss: 1.9467 - root_mean_squared_error: 1.3952 - val_loss: 2.1739 - val_root_mean_squared_error: 1.4744\n",
      "Epoch 16/1000\n",
      "10/10 [==============================] - 0s 36ms/step - loss: 1.9601 - root_mean_squared_error: 1.4000 - val_loss: 2.2104 - val_root_mean_squared_error: 1.4867\n",
      "Epoch 17/1000\n",
      "10/10 [==============================] - 0s 37ms/step - loss: 1.9888 - root_mean_squared_error: 1.4103 - val_loss: 2.1631 - val_root_mean_squared_error: 1.4707\n",
      "Epoch 18/1000\n",
      "10/10 [==============================] - 0s 38ms/step - loss: 1.9059 - root_mean_squared_error: 1.3805 - val_loss: 2.0173 - val_root_mean_squared_error: 1.4203\n",
      "Epoch 19/1000\n",
      "10/10 [==============================] - 0s 36ms/step - loss: 1.8650 - root_mean_squared_error: 1.3656 - val_loss: 2.1085 - val_root_mean_squared_error: 1.4521\n",
      "Epoch 20/1000\n",
      "10/10 [==============================] - 0s 37ms/step - loss: 1.8476 - root_mean_squared_error: 1.3593 - val_loss: 2.1179 - val_root_mean_squared_error: 1.4553\n",
      "Epoch 21/1000\n",
      "10/10 [==============================] - 0s 37ms/step - loss: 1.8997 - root_mean_squared_error: 1.3783 - val_loss: 2.0787 - val_root_mean_squared_error: 1.4418\n",
      "Epoch 22/1000\n",
      "10/10 [==============================] - 0s 37ms/step - loss: 1.7660 - root_mean_squared_error: 1.3289 - val_loss: 1.9873 - val_root_mean_squared_error: 1.4097\n",
      "Epoch 23/1000\n",
      "10/10 [==============================] - 0s 36ms/step - loss: 1.7382 - root_mean_squared_error: 1.3184 - val_loss: 2.1651 - val_root_mean_squared_error: 1.4714\n",
      "Epoch 24/1000\n",
      "10/10 [==============================] - 0s 37ms/step - loss: 1.8267 - root_mean_squared_error: 1.3515 - val_loss: 2.1868 - val_root_mean_squared_error: 1.4788\n",
      "Epoch 25/1000\n",
      "10/10 [==============================] - 0s 37ms/step - loss: 1.7713 - root_mean_squared_error: 1.3309 - val_loss: 2.0473 - val_root_mean_squared_error: 1.4308\n",
      "Epoch 26/1000\n",
      "10/10 [==============================] - 0s 37ms/step - loss: 1.7834 - root_mean_squared_error: 1.3354 - val_loss: 1.9663 - val_root_mean_squared_error: 1.4022\n",
      "Epoch 27/1000\n",
      "10/10 [==============================] - 0s 37ms/step - loss: 1.7844 - root_mean_squared_error: 1.3358 - val_loss: 2.3699 - val_root_mean_squared_error: 1.5395\n",
      "Epoch 28/1000\n",
      "10/10 [==============================] - 0s 36ms/step - loss: 1.8270 - root_mean_squared_error: 1.3517 - val_loss: 2.4333 - val_root_mean_squared_error: 1.5599\n",
      "Epoch 29/1000\n",
      "10/10 [==============================] - 0s 37ms/step - loss: 1.7794 - root_mean_squared_error: 1.3339 - val_loss: 2.1685 - val_root_mean_squared_error: 1.4726\n",
      "Epoch 30/1000\n",
      "10/10 [==============================] - 0s 37ms/step - loss: 1.7453 - root_mean_squared_error: 1.3211 - val_loss: 2.1138 - val_root_mean_squared_error: 1.4539\n",
      "Epoch 31/1000\n",
      "10/10 [==============================] - 0s 36ms/step - loss: 1.7352 - root_mean_squared_error: 1.3173 - val_loss: 2.2240 - val_root_mean_squared_error: 1.4913\n",
      "Epoch 32/1000\n",
      "10/10 [==============================] - 0s 37ms/step - loss: 1.6761 - root_mean_squared_error: 1.2946 - val_loss: 2.0597 - val_root_mean_squared_error: 1.4352\n",
      "Epoch 33/1000\n",
      "10/10 [==============================] - 0s 37ms/step - loss: 1.6814 - root_mean_squared_error: 1.2967 - val_loss: 2.2224 - val_root_mean_squared_error: 1.4908\n",
      "Epoch 34/1000\n",
      "10/10 [==============================] - 0s 36ms/step - loss: 1.7152 - root_mean_squared_error: 1.3097 - val_loss: 2.2541 - val_root_mean_squared_error: 1.5014\n",
      "Epoch 35/1000\n",
      "10/10 [==============================] - 0s 37ms/step - loss: 1.7402 - root_mean_squared_error: 1.3192 - val_loss: 1.9965 - val_root_mean_squared_error: 1.4130\n",
      "Epoch 36/1000\n",
      "10/10 [==============================] - 0s 37ms/step - loss: 1.6731 - root_mean_squared_error: 1.2935 - val_loss: 2.1376 - val_root_mean_squared_error: 1.4621\n",
      "Epoch 37/1000\n",
      "10/10 [==============================] - 0s 36ms/step - loss: 1.7108 - root_mean_squared_error: 1.3080 - val_loss: 2.0414 - val_root_mean_squared_error: 1.4288\n",
      "Epoch 38/1000\n",
      "10/10 [==============================] - 0s 37ms/step - loss: 1.7504 - root_mean_squared_error: 1.3230 - val_loss: 2.2760 - val_root_mean_squared_error: 1.5086\n",
      "Epoch 39/1000\n",
      "10/10 [==============================] - 0s 36ms/step - loss: 1.6865 - root_mean_squared_error: 1.2986 - val_loss: 2.6858 - val_root_mean_squared_error: 1.6388\n",
      "Epoch 40/1000\n",
      "10/10 [==============================] - 0s 36ms/step - loss: 1.7002 - root_mean_squared_error: 1.3039 - val_loss: 2.2607 - val_root_mean_squared_error: 1.5036\n",
      "Epoch 41/1000\n",
      "10/10 [==============================] - 0s 36ms/step - loss: 1.6711 - root_mean_squared_error: 1.2927 - val_loss: 2.1000 - val_root_mean_squared_error: 1.4491\n",
      "Epoch 42/1000\n",
      "10/10 [==============================] - 0s 37ms/step - loss: 1.5568 - root_mean_squared_error: 1.2477 - val_loss: 2.0414 - val_root_mean_squared_error: 1.4288\n",
      "Epoch 43/1000\n",
      "10/10 [==============================] - 0s 36ms/step - loss: 1.5468 - root_mean_squared_error: 1.2437 - val_loss: 2.0301 - val_root_mean_squared_error: 1.4248\n",
      "Epoch 44/1000\n",
      "10/10 [==============================] - 0s 37ms/step - loss: 1.5814 - root_mean_squared_error: 1.2575 - val_loss: 1.9304 - val_root_mean_squared_error: 1.3894\n",
      "Epoch 45/1000\n",
      "10/10 [==============================] - 0s 36ms/step - loss: 1.5528 - root_mean_squared_error: 1.2461 - val_loss: 2.2316 - val_root_mean_squared_error: 1.4938\n",
      "Epoch 46/1000\n",
      "10/10 [==============================] - 0s 36ms/step - loss: 1.5415 - root_mean_squared_error: 1.2416 - val_loss: 2.5736 - val_root_mean_squared_error: 1.6043\n",
      "Epoch 47/1000\n",
      "10/10 [==============================] - 0s 36ms/step - loss: 1.5708 - root_mean_squared_error: 1.2533 - val_loss: 2.4422 - val_root_mean_squared_error: 1.5627\n",
      "Epoch 48/1000\n",
      "10/10 [==============================] - 0s 37ms/step - loss: 1.5857 - root_mean_squared_error: 1.2592 - val_loss: 2.3975 - val_root_mean_squared_error: 1.5484\n",
      "Epoch 49/1000\n",
      "10/10 [==============================] - 0s 37ms/step - loss: 1.5601 - root_mean_squared_error: 1.2491 - val_loss: 2.3147 - val_root_mean_squared_error: 1.5214\n",
      "Epoch 50/1000\n",
      "10/10 [==============================] - 0s 36ms/step - loss: 1.5964 - root_mean_squared_error: 1.2635 - val_loss: 2.2474 - val_root_mean_squared_error: 1.4991\n",
      "Epoch 51/1000\n",
      "10/10 [==============================] - 0s 36ms/step - loss: 1.6199 - root_mean_squared_error: 1.2727 - val_loss: 2.1063 - val_root_mean_squared_error: 1.4513\n",
      "Epoch 52/1000\n",
      "10/10 [==============================] - 0s 35ms/step - loss: 1.6828 - root_mean_squared_error: 1.2972 - val_loss: 2.0637 - val_root_mean_squared_error: 1.4366\n",
      "Epoch 53/1000\n",
      "10/10 [==============================] - 0s 37ms/step - loss: 1.6730 - root_mean_squared_error: 1.2934 - val_loss: 2.3263 - val_root_mean_squared_error: 1.5252\n",
      "Epoch 54/1000\n",
      "10/10 [==============================] - 0s 37ms/step - loss: 1.5910 - root_mean_squared_error: 1.2614 - val_loss: 2.1812 - val_root_mean_squared_error: 1.4769\n",
      "Epoch 55/1000\n",
      "10/10 [==============================] - 0s 37ms/step - loss: 1.6404 - root_mean_squared_error: 1.2808 - val_loss: 2.2092 - val_root_mean_squared_error: 1.4863\n",
      "Epoch 56/1000\n",
      "10/10 [==============================] - 0s 38ms/step - loss: 1.5642 - root_mean_squared_error: 1.2507 - val_loss: 2.1607 - val_root_mean_squared_error: 1.4699\n",
      "Epoch 57/1000\n",
      "10/10 [==============================] - 0s 37ms/step - loss: 1.5617 - root_mean_squared_error: 1.2497 - val_loss: 2.1692 - val_root_mean_squared_error: 1.4728\n",
      "Epoch 58/1000\n",
      "10/10 [==============================] - 0s 37ms/step - loss: 1.4945 - root_mean_squared_error: 1.2225 - val_loss: 2.1434 - val_root_mean_squared_error: 1.4640\n",
      "Epoch 59/1000\n",
      "10/10 [==============================] - 0s 36ms/step - loss: 1.5140 - root_mean_squared_error: 1.2305 - val_loss: 2.1868 - val_root_mean_squared_error: 1.4788\n",
      "Epoch 60/1000\n",
      "10/10 [==============================] - 0s 36ms/step - loss: 1.6175 - root_mean_squared_error: 1.2718 - val_loss: 2.0352 - val_root_mean_squared_error: 1.4266\n",
      "Epoch 61/1000\n",
      "10/10 [==============================] - 0s 36ms/step - loss: 1.5615 - root_mean_squared_error: 1.2496 - val_loss: 2.1862 - val_root_mean_squared_error: 1.4786\n",
      "Epoch 62/1000\n",
      "10/10 [==============================] - 0s 37ms/step - loss: 1.5073 - root_mean_squared_error: 1.2277 - val_loss: 2.2300 - val_root_mean_squared_error: 1.4933\n",
      "Epoch 63/1000\n",
      "10/10 [==============================] - 0s 36ms/step - loss: 1.4747 - root_mean_squared_error: 1.2144 - val_loss: 1.9968 - val_root_mean_squared_error: 1.4131\n",
      "Epoch 64/1000\n",
      "10/10 [==============================] - 0s 39ms/step - loss: 1.4715 - root_mean_squared_error: 1.2131 - val_loss: 2.0597 - val_root_mean_squared_error: 1.4352\n",
      "CPU times: user 39.7 s, sys: 1.44 s, total: 41.2 s\n",
      "Wall time: 32.7 s\n"
     ]
    }
   ],
   "source": [
    "%%time\n",
    "history = simplecdr.fit([new_train_gcn_feats, new_train_adj_list,\n",
    "                         new_omics_gen_methyl_train], new_y_train.reshape(-1,1), \n",
    "                         \n",
    "          batch_size = 512, epochs = 1000, verbose = 1,\n",
    "                         \n",
    "          validation_split=0.2,\n",
    "        callbacks = tf.keras.callbacks.EarlyStopping(monitor = \"val_loss\", patience = 20, restore_best_weights=True,\n",
    "                                                       mode = \"min\"), \n",
    "         validation_batch_size = 512, shuffle = True)"
   ]
  },
  {
   "cell_type": "code",
   "execution_count": 85,
   "id": "163c3816-113b-4011-bc7e-9d312f422388",
   "metadata": {},
   "outputs": [
    {
     "name": "stdout",
     "output_type": "stream",
     "text": [
      "INFO:tensorflow:Assets written to: ..//models//ablation_deepcdr_fine_tuned_split_0/assets\n"
     ]
    },
    {
     "name": "stderr",
     "output_type": "stream",
     "text": [
      "INFO:tensorflow:Assets written to: ..//models//ablation_deepcdr_fine_tuned_split_0/assets\n"
     ]
    }
   ],
   "source": [
    "simplecdr.save(\"..//models//ablation_deepcdr_fine_tuned_split_\" + str(test_index))"
   ]
  },
  {
   "cell_type": "code",
   "execution_count": 86,
   "id": "79ba4c6e-26e3-46ec-a1e5-5c2812979c46",
   "metadata": {},
   "outputs": [],
   "source": [
    "reps = 25"
   ]
  },
  {
   "cell_type": "code",
   "execution_count": 87,
   "id": "67999a1b-c3c2-4a5b-8a99-9609a208c7a4",
   "metadata": {},
   "outputs": [
    {
     "name": "stdout",
     "output_type": "stream",
     "text": [
      "0\n",
      "1\n",
      "2\n",
      "3\n",
      "4\n",
      "5\n",
      "6\n",
      "7\n",
      "8\n",
      "9\n",
      "10\n",
      "11\n",
      "12\n",
      "13\n",
      "14\n",
      "15\n",
      "16\n",
      "17\n",
      "18\n",
      "19\n",
      "20\n",
      "21\n",
      "22\n",
      "23\n",
      "24\n"
     ]
    }
   ],
   "source": [
    "catch_preds = np.zeros((new_test_gcn_feats.shape[0],reps))\n",
    "for i in range(0,reps):\n",
    "    print(i)\n",
    "    preds = simplecdr.predict([ new_test_gcn_feats, new_test_adj_list,\n",
    "                           new_omics_gen_methyl_test], \n",
    "                              batch_size = 1024, verbose = 0)\n",
    "    catch_preds[:,i] = preds[:,0]"
   ]
  },
  {
   "cell_type": "code",
   "execution_count": 88,
   "id": "005d27ef-46df-469f-9f56-1e408c8f995f",
   "metadata": {},
   "outputs": [],
   "source": [
    "preds_data = np.hstack((new_y_test.reshape(-1,1), catch_preds))"
   ]
  },
  {
   "cell_type": "code",
   "execution_count": 89,
   "id": "2dd4d490-a536-4245-b034-be9c41818a9c",
   "metadata": {},
   "outputs": [],
   "source": [
    "np.save(\"..//data//ablation_deepcdr_preds_val_and_test_\" +str(test_index) + \".npy\",preds_data )"
   ]
  }
 ],
 "metadata": {
  "kernelspec": {
   "display_name": "Python (tfp_for_TN)",
   "language": "python",
   "name": "tfp_for_tn"
  },
  "language_info": {
   "codemirror_mode": {
    "name": "ipython",
    "version": 3
   },
   "file_extension": ".py",
   "mimetype": "text/x-python",
   "name": "python",
   "nbconvert_exporter": "python",
   "pygments_lexer": "ipython3",
   "version": "3.10.14"
  }
 },
 "nbformat": 4,
 "nbformat_minor": 5
}
