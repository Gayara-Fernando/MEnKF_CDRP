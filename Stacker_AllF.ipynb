{
 "cells": [
  {
   "cell_type": "code",
   "execution_count": null,
   "id": "67156228-c944-4f3c-b98c-d13bb59790c0",
   "metadata": {},
   "outputs": [],
   "source": [
    "import numpy as np\n",
    "import pandas as pd\n",
    "from sklearn.model_selection import train_test_split\n",
    "from sklearn.linear_model import LinearRegression\n",
    "from sklearn.model_selection import cross_val_score, GridSearchCV\n",
    "import matplotlib.pyplot as plt\n",
    "from scipy.stats import pearsonr\n",
    "from sklearn.metrics import mean_squared_error"
   ]
  },
  {
   "cell_type": "code",
   "execution_count": null,
   "id": "3033c1ac-20a6-4ca8-99c7-49463b544ea2",
   "metadata": {},
   "outputs": [],
   "source": [
    "# import cdr data\n",
    "cdr_data = pd.read_csv(\"data/cdr_all_feats_data_new_split.csv\")\n",
    "gcn_data = pd.read_csv(\"data/gcn_all_feats_data_new_split.csv\")"
   ]
  },
  {
   "cell_type": "code",
   "execution_count": null,
   "id": "bad66067-0ba7-42b8-a1af-28d27e61b8a9",
   "metadata": {},
   "outputs": [],
   "source": [
    "cdr_data.columns = ['True_response', 'Predicted_y_cdr']"
   ]
  },
  {
   "cell_type": "code",
   "execution_count": null,
   "id": "8afdffdf-7e33-44e6-bc28-232e47496a21",
   "metadata": {},
   "outputs": [],
   "source": [
    "# concatenate the two dataframes\n",
    "stacker_data = pd.concat((cdr_data, gcn_data), axis = 1)"
   ]
  },
  {
   "cell_type": "code",
   "execution_count": null,
   "id": "2e30317f-d13d-4103-8d2e-7d529d1df539",
   "metadata": {},
   "outputs": [],
   "source": [
    "stacker_data.head()"
   ]
  },
  {
   "cell_type": "code",
   "execution_count": null,
   "id": "90c10abf-710f-4fdf-a752-60816d96889e",
   "metadata": {},
   "outputs": [],
   "source": [
    "stacker_data = stacker_data.drop('True_y', axis = 1)"
   ]
  },
  {
   "cell_type": "code",
   "execution_count": null,
   "id": "e22dd708-e9be-4f40-9c05-36128d07f608",
   "metadata": {},
   "outputs": [],
   "source": [
    "stacker_data.shape"
   ]
  },
  {
   "cell_type": "code",
   "execution_count": null,
   "id": "f704385b-1c2b-4ce2-83b7-631b8febffc0",
   "metadata": {},
   "outputs": [],
   "source": [
    "# leave 3500 data for the final dataset - 3816 for stacker developing"
   ]
  },
  {
   "cell_type": "code",
   "execution_count": null,
   "id": "449928ef-7490-4cd5-9fb5-acec8b7288ac",
   "metadata": {},
   "outputs": [],
   "source": [
    "Train_stacker_data = stacker_data.iloc[:3816,:]"
   ]
  },
  {
   "cell_type": "code",
   "execution_count": null,
   "id": "a3936368-0b3c-4ac7-8f79-bdac6d1999da",
   "metadata": {},
   "outputs": [],
   "source": [
    "Train_stacker_data.shape"
   ]
  },
  {
   "cell_type": "code",
   "execution_count": null,
   "id": "945bbaec-c87a-4d01-99a4-74a54bcad11d",
   "metadata": {},
   "outputs": [],
   "source": [
    "X_train = Train_stacker_data[[\"Predicted_y_cdr\",\t\"Predicted_y_gcn\"]]"
   ]
  },
  {
   "cell_type": "code",
   "execution_count": null,
   "id": "e71ff4f9-b178-4f69-95ff-5653fdfbb7bd",
   "metadata": {},
   "outputs": [],
   "source": [
    "y_train = Train_stacker_data['True_response']"
   ]
  },
  {
   "cell_type": "code",
   "execution_count": null,
   "id": "cf268a2d-5a67-4b80-8f32-69b5232f7321",
   "metadata": {},
   "outputs": [],
   "source": [
    "Test_stacker_data = stacker_data.iloc[3816:,:]"
   ]
  },
  {
   "cell_type": "code",
   "execution_count": null,
   "id": "85454b06-503e-453e-b06a-179132e4fb59",
   "metadata": {},
   "outputs": [],
   "source": [
    "Test_stacker_data.shape"
   ]
  },
  {
   "cell_type": "code",
   "execution_count": null,
   "id": "4eb13bc4-b8f8-4d83-b83c-bc00ed9f54ab",
   "metadata": {},
   "outputs": [],
   "source": [
    "X_test = Test_stacker_data[[\"Predicted_y_cdr\",\t\"Predicted_y_gcn\"]]\n",
    "y_test = Test_stacker_data['True_response']"
   ]
  },
  {
   "cell_type": "code",
   "execution_count": null,
   "id": "ce757638-248a-4386-a39b-5e71f8380b5f",
   "metadata": {},
   "outputs": [],
   "source": [
    "print(X_train.shape, X_test.shape, y_train.shape, y_test.shape)"
   ]
  },
  {
   "cell_type": "code",
   "execution_count": null,
   "id": "95879680-2951-435b-8b2e-94284a19df6b",
   "metadata": {},
   "outputs": [],
   "source": [
    "reg = LinearRegression()"
   ]
  },
  {
   "cell_type": "code",
   "execution_count": null,
   "id": "9d3e8a78-92e1-4df5-b7af-4f1f0c4eee92",
   "metadata": {},
   "outputs": [],
   "source": [
    "reg.get_params()"
   ]
  },
  {
   "cell_type": "code",
   "execution_count": null,
   "id": "42c2fc0d-74a7-45cd-a979-75267afdf2ce",
   "metadata": {},
   "outputs": [],
   "source": [
    "reg.fit(X_train, y_train)"
   ]
  },
  {
   "cell_type": "code",
   "execution_count": null,
   "id": "b67e41fa-8ecf-4ff8-8c78-dbe377e60b6f",
   "metadata": {},
   "outputs": [],
   "source": [
    "reg.coef_"
   ]
  },
  {
   "cell_type": "code",
   "execution_count": null,
   "id": "67237c12-d5d9-4a6a-aaa1-d3056bac4d2a",
   "metadata": {},
   "outputs": [],
   "source": [
    "reg.get_params()"
   ]
  },
  {
   "cell_type": "code",
   "execution_count": null,
   "id": "dab38e12-6a90-4477-8754-95134f92a4b0",
   "metadata": {},
   "outputs": [],
   "source": [
    "y_preds = reg.predict(X_test)"
   ]
  },
  {
   "cell_type": "code",
   "execution_count": null,
   "id": "cfb6b32c-7c67-4caa-b748-aa186dcd2229",
   "metadata": {},
   "outputs": [],
   "source": [
    "plt.scatter(y_preds.reshape(-1,1), y_test, alpha = 0.1)\n",
    "plt.axline((0,0), slope = 1, c = \"black\")\n",
    "plt.show()"
   ]
  },
  {
   "cell_type": "code",
   "execution_count": null,
   "id": "8aa192f8-94d7-4e12-8546-66f0793fb8b2",
   "metadata": {},
   "outputs": [],
   "source": [
    "res = pearsonr(y_test.tolist(), y_preds.tolist())\n",
    "res[0]"
   ]
  },
  {
   "cell_type": "code",
   "execution_count": null,
   "id": "51c7ee77-3f32-40ce-9032-003762a0ea97",
   "metadata": {},
   "outputs": [],
   "source": [
    "np.sqrt(mean_squared_error(y_test, y_preds))"
   ]
  }
 ],
 "metadata": {
  "kernelspec": {
   "display_name": "Python (tf_env1)",
   "language": "python",
   "name": "tf_env1"
  },
  "language_info": {
   "codemirror_mode": {
    "name": "ipython",
    "version": 3
   },
   "file_extension": ".py",
   "mimetype": "text/x-python",
   "name": "python",
   "nbconvert_exporter": "python",
   "pygments_lexer": "ipython3",
   "version": "3.9.15"
  }
 },
 "nbformat": 4,
 "nbformat_minor": 5
}
