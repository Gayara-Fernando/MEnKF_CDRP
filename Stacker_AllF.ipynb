{
 "cells": [
  {
   "cell_type": "code",
   "execution_count": 1,
   "id": "67156228-c944-4f3c-b98c-d13bb59790c0",
   "metadata": {},
   "outputs": [],
   "source": [
    "import numpy as np\n",
    "import pandas as pd\n",
    "from sklearn.model_selection import train_test_split\n",
    "from sklearn.linear_model import LinearRegression\n",
    "from sklearn.model_selection import cross_val_score, GridSearchCV\n",
    "import matplotlib.pyplot as plt\n",
    "from scipy.stats import pearsonr\n",
    "from sklearn.metrics import mean_squared_error"
   ]
  },
  {
   "cell_type": "code",
   "execution_count": 2,
   "id": "3033c1ac-20a6-4ca8-99c7-49463b544ea2",
   "metadata": {},
   "outputs": [],
   "source": [
    "# # import cdr data\n",
    "# cdr_data = pd.read_csv(\"data/cdr_all_feats_data_new_split.csv\")\n",
    "# gcn_data = pd.read_csv(\"data/gcn_all_feats_data_new_split.csv\")"
   ]
  },
  {
   "cell_type": "code",
   "execution_count": 3,
   "id": "c5b54fae-2838-4d21-bc26-e0d66559b122",
   "metadata": {},
   "outputs": [],
   "source": [
    "# this is the train index\n",
    "test_index = 0"
   ]
  },
  {
   "cell_type": "code",
   "execution_count": 4,
   "id": "58cedb94-235a-4035-ba4c-ee8b90dd21d0",
   "metadata": {},
   "outputs": [],
   "source": [
    "deepcdr_preds = np.load(\"..//data//deepcdr_preds_val_and_test_\" +str(test_index) + \".npy\")"
   ]
  },
  {
   "cell_type": "code",
   "execution_count": 5,
   "id": "156c560f-f861-4cf5-805f-37ac8a78a19f",
   "metadata": {},
   "outputs": [],
   "source": [
    "dualgcn_preds = np.load(\"..//data//dualgcn_complete_preds_val_and_test_\" +str(test_index) + \".npy\")"
   ]
  },
  {
   "cell_type": "code",
   "execution_count": 6,
   "id": "86af0b65-b500-49a9-83d1-7e5cfb04df4e",
   "metadata": {},
   "outputs": [
    {
     "data": {
      "text/plain": [
       "((11544, 26), (11544, 26))"
      ]
     },
     "execution_count": 6,
     "metadata": {},
     "output_type": "execute_result"
    }
   ],
   "source": [
    "deepcdr_preds.shape, dualgcn_preds.shape"
   ]
  },
  {
   "cell_type": "code",
   "execution_count": 7,
   "id": "6af5fe53-8162-4327-a52e-c001ca8abe1d",
   "metadata": {},
   "outputs": [
    {
     "data": {
      "text/plain": [
       "1.0"
      ]
     },
     "execution_count": 7,
     "metadata": {},
     "output_type": "execute_result"
    }
   ],
   "source": [
    "np.mean(deepcdr_preds[:,0] == dualgcn_preds[:,0])"
   ]
  },
  {
   "cell_type": "code",
   "execution_count": 8,
   "id": "4f1de374-45fc-4a88-b1fb-27dc386069d6",
   "metadata": {},
   "outputs": [],
   "source": [
    "\n",
    "# valid_half = 0"
   ]
  },
  {
   "cell_type": "code",
   "execution_count": 9,
   "id": "e1174358-c258-4bd3-b96d-1bb8220ed0b5",
   "metadata": {},
   "outputs": [],
   "source": [
    "def chunks(lst, n):\n",
    "    \"\"\"Yield successive n-sized chunks from lst.\"\"\"\n",
    "    for i in range(0, len(lst), n):\n",
    "        yield lst[i:i + n]"
   ]
  },
  {
   "cell_type": "code",
   "execution_count": 10,
   "id": "6c9f7683-311a-4b6d-ba89-1c7074233395",
   "metadata": {},
   "outputs": [],
   "source": [
    "chunks = np.array_split(list(range(0,deepcdr_preds.shape[0])), 2)"
   ]
  },
  {
   "cell_type": "code",
   "execution_count": 11,
   "id": "f43430f4-d160-4f79-86f0-76cafbaa5148",
   "metadata": {},
   "outputs": [],
   "source": [
    "# this is the half for the stacker training\n",
    "half = 0"
   ]
  },
  {
   "cell_type": "code",
   "execution_count": 12,
   "id": "5010d8fd-f94c-42d9-b2b2-53c2c093cd16",
   "metadata": {},
   "outputs": [],
   "source": [
    "train_items = chunks[half]"
   ]
  },
  {
   "cell_type": "code",
   "execution_count": 13,
   "id": "cd9e2891-ea5c-4fe6-b1d7-c4c896a1b6b3",
   "metadata": {},
   "outputs": [],
   "source": [
    "test_items = list(set(list(range(0,deepcdr_preds.shape[0]))).difference(train_items))"
   ]
  },
  {
   "cell_type": "code",
   "execution_count": 14,
   "id": "6306959d-22cc-4a02-82da-52fcd1560e52",
   "metadata": {},
   "outputs": [],
   "source": [
    "# dualgcn_preds[:,0]"
   ]
  },
  {
   "cell_type": "code",
   "execution_count": 15,
   "id": "bad66067-0ba7-42b8-a1af-28d27e61b8a9",
   "metadata": {},
   "outputs": [],
   "source": [
    "# cdr_data.columns = ['True_response', 'Predicted_y_cdr']"
   ]
  },
  {
   "cell_type": "code",
   "execution_count": 16,
   "id": "f5155805-d587-4980-967e-62dd86734750",
   "metadata": {},
   "outputs": [],
   "source": [
    "valid_deepcdr = deepcdr_preds[train_items,1:]\n",
    "test_deepcdr = deepcdr_preds[test_items,1:]"
   ]
  },
  {
   "cell_type": "code",
   "execution_count": 17,
   "id": "2f2a63ed-edcf-4146-a1ec-c7f9f6392c8f",
   "metadata": {},
   "outputs": [],
   "source": [
    "valid_dualgcn = dualgcn_preds[train_items,1:]\n",
    "test_dualgcn = dualgcn_preds[test_items,1:]"
   ]
  },
  {
   "cell_type": "code",
   "execution_count": 18,
   "id": "b6b68181-17db-4c69-9f3e-9f493f0cdfe1",
   "metadata": {},
   "outputs": [],
   "source": [
    "# valid_dualgcn.shape"
   ]
  },
  {
   "cell_type": "code",
   "execution_count": 19,
   "id": "0c269639-185a-41e9-af70-890d6c35699f",
   "metadata": {},
   "outputs": [],
   "source": [
    "valid_y = deepcdr_preds[train_items,0]\n",
    "test_y = deepcdr_preds[test_items,0]"
   ]
  },
  {
   "cell_type": "code",
   "execution_count": 20,
   "id": "1b378ba7-9641-4927-a1c7-bdef02e875a0",
   "metadata": {},
   "outputs": [
    {
     "data": {
      "text/plain": [
       "2.094244087144837"
      ]
     },
     "execution_count": 20,
     "metadata": {},
     "output_type": "execute_result"
    }
   ],
   "source": [
    "test_y.mean()"
   ]
  },
  {
   "cell_type": "code",
   "execution_count": 21,
   "id": "937f996d-4cf3-4120-9f50-7ec3eeac7c04",
   "metadata": {},
   "outputs": [
    {
     "data": {
      "text/plain": [
       "2.8136855131635183"
      ]
     },
     "execution_count": 21,
     "metadata": {},
     "output_type": "execute_result"
    }
   ],
   "source": [
    "test_y.std()"
   ]
  },
  {
   "cell_type": "code",
   "execution_count": 22,
   "id": "0ad00bb0-83d4-4ed2-9254-c07f33fb3bdb",
   "metadata": {},
   "outputs": [],
   "source": [
    "# stacker_data_train.shape"
   ]
  },
  {
   "cell_type": "code",
   "execution_count": 23,
   "id": "d400d2ef-c52a-4c3a-9abe-65ab93953f7e",
   "metadata": {},
   "outputs": [],
   "source": [
    "reps = valid_deepcdr.shape[1]"
   ]
  },
  {
   "cell_type": "code",
   "execution_count": 24,
   "id": "0298dcc5-16af-4ae9-8cd5-4498a31abe1a",
   "metadata": {},
   "outputs": [],
   "source": [
    "# valid_deepcdr"
   ]
  },
  {
   "cell_type": "code",
   "execution_count": 25,
   "id": "a3af61ab-0ffb-4a1c-a174-e43f20b4d0c9",
   "metadata": {},
   "outputs": [
    {
     "name": "stdout",
     "output_type": "stream",
     "text": [
      "0\n",
      "1\n",
      "2\n",
      "3\n",
      "4\n",
      "5\n",
      "6\n",
      "7\n",
      "8\n",
      "9\n",
      "10\n",
      "11\n",
      "12\n",
      "13\n",
      "14\n",
      "15\n",
      "16\n",
      "17\n",
      "18\n",
      "19\n",
      "20\n",
      "21\n",
      "22\n",
      "23\n",
      "24\n",
      "CPU times: user 189 ms, sys: 789 ms, total: 979 ms\n",
      "Wall time: 82.1 ms\n"
     ]
    }
   ],
   "source": [
    "%%time\n",
    "catch_preds = np.zeros((test_dualgcn.shape[0],reps))\n",
    "catch_weights = np.zeros((reps,2))\n",
    "for i in range(0,valid_deepcdr.shape[1]):\n",
    "    print(i)\n",
    "    stacker_data_train = np.hstack((valid_deepcdr[:,i].reshape(-1,1), valid_dualgcn[:,i].reshape(-1,1)))\n",
    "    stacker_data_test = np.hstack((test_deepcdr[:,i].reshape(-1,1), test_dualgcn[:,i].reshape(-1,1)))\n",
    "    reg = LinearRegression()\n",
    "    reg.fit(stacker_data_train, valid_y)\n",
    "    # reg.\n",
    "    y_preds = reg.predict(stacker_data_test)\n",
    "    res = pearsonr(test_y.tolist(), y_preds.tolist())\n",
    "    catch_preds[:,i] = y_preds\n",
    "    catch_weights[i,0], catch_weights[i,1] = reg.coef_[0]/(reg.coef_[0]+reg.coef_[1]), reg.coef_[1]/(reg.coef_[0]+reg.coef_[1])\n",
    "    # print(res[0])\n",
    "    # print(np.sqrt(mean_squared_error(test_y, y_preds)))\n",
    "    # plt.scatter(y_preds.reshape(-1,1), test_y, alpha = 0.1)\n",
    "    # plt.axline((0,0), slope = 1, c = \"black\")\n",
    "    # plt.show()"
   ]
  },
  {
   "cell_type": "code",
   "execution_count": 26,
   "id": "99700bbf-6c2e-4505-97d1-14f2902b68d6",
   "metadata": {},
   "outputs": [],
   "source": [
    "# test_y"
   ]
  },
  {
   "cell_type": "code",
   "execution_count": 27,
   "id": "1b209a32-61cd-4107-9c0b-6244eebf8178",
   "metadata": {},
   "outputs": [
    {
     "data": {
      "text/plain": [
       "(5772, 25)"
      ]
     },
     "execution_count": 27,
     "metadata": {},
     "output_type": "execute_result"
    }
   ],
   "source": [
    "catch_preds.shape"
   ]
  },
  {
   "cell_type": "code",
   "execution_count": 28,
   "id": "8075e020-0ba4-43f1-b415-648fac097cb1",
   "metadata": {},
   "outputs": [],
   "source": [
    "li, ui = np.percentile(catch_preds, q = [2.5, 97.5], axis = 1)[0,:], np.percentile(catch_preds, q = [2.5, 97.5], axis = 1)[1,:]"
   ]
  },
  {
   "cell_type": "code",
   "execution_count": 29,
   "id": "23815062-2c6b-41fa-bae7-1f2cf06c7d71",
   "metadata": {},
   "outputs": [
    {
     "data": {
      "text/plain": [
       "0.43347193347193347"
      ]
     },
     "execution_count": 29,
     "metadata": {},
     "output_type": "execute_result"
    }
   ],
   "source": [
    "test_coverage = np.mean((test_y.reshape(-1,1) >= li.reshape(-1,1)) & (test_y.reshape(-1,1) <= ui.reshape(-1,1)))\n",
    "test_coverage"
   ]
  },
  {
   "cell_type": "code",
   "execution_count": 30,
   "id": "3522de0b-11d5-4d6b-9bc7-6c3a8405605f",
   "metadata": {},
   "outputs": [
    {
     "data": {
      "text/plain": [
       "1.2210323021678768"
      ]
     },
     "execution_count": 30,
     "metadata": {},
     "output_type": "execute_result"
    }
   ],
   "source": [
    "test_width = np.mean(ui.reshape(-1,1) - li.reshape(-1,1))\n",
    "test_width"
   ]
  },
  {
   "cell_type": "code",
   "execution_count": 31,
   "id": "752f4ba2-758d-4f55-8617-3e4fe295e4d9",
   "metadata": {},
   "outputs": [
    {
     "data": {
      "text/plain": [
       "(5772,)"
      ]
     },
     "execution_count": 31,
     "metadata": {},
     "output_type": "execute_result"
    }
   ],
   "source": [
    "catch_preds.mean(1).shape"
   ]
  },
  {
   "cell_type": "code",
   "execution_count": 32,
   "id": "26a9a833-86aa-425a-8186-fc5458e381eb",
   "metadata": {},
   "outputs": [
    {
     "data": {
      "text/plain": [
       "(5772,)"
      ]
     },
     "execution_count": 32,
     "metadata": {},
     "output_type": "execute_result"
    }
   ],
   "source": [
    "test_y.shape"
   ]
  },
  {
   "cell_type": "code",
   "execution_count": 33,
   "id": "b2759605-250e-4bd2-aeae-d562677dbac2",
   "metadata": {},
   "outputs": [
    {
     "data": {
      "text/plain": [
       "0.9139605354671096"
      ]
     },
     "execution_count": 33,
     "metadata": {},
     "output_type": "execute_result"
    }
   ],
   "source": [
    "test_pearsonr = pearsonr(test_y, catch_preds.mean(1))\n",
    "test_pearsonr[0]"
   ]
  },
  {
   "cell_type": "code",
   "execution_count": 34,
   "id": "7f392961-004c-429e-b4fd-54ac06e3f527",
   "metadata": {},
   "outputs": [
    {
     "data": {
      "text/plain": [
       "1.1437700964050153"
      ]
     },
     "execution_count": 34,
     "metadata": {},
     "output_type": "execute_result"
    }
   ],
   "source": [
    "test_rmse = np.sqrt(np.mean((catch_preds.mean(1).reshape(-1,1)-test_y.reshape(-1,1))**2))\n",
    "test_rmse"
   ]
  },
  {
   "cell_type": "code",
   "execution_count": 35,
   "id": "98bbca27-c1c4-4d5c-bcab-36d1707fa686",
   "metadata": {},
   "outputs": [
    {
     "data": {
      "text/plain": [
       "array([[0.55514262, 0.44485738],\n",
       "       [0.57913955, 0.42086045],\n",
       "       [0.579281  , 0.420719  ],\n",
       "       [0.56057213, 0.43942787],\n",
       "       [0.54354903, 0.45645097],\n",
       "       [0.56637057, 0.43362943],\n",
       "       [0.56750444, 0.43249556],\n",
       "       [0.54026892, 0.45973108],\n",
       "       [0.5327982 , 0.4672018 ],\n",
       "       [0.55774662, 0.44225338],\n",
       "       [0.54919396, 0.45080604],\n",
       "       [0.56503372, 0.43496628],\n",
       "       [0.53612455, 0.46387545],\n",
       "       [0.55335106, 0.44664894],\n",
       "       [0.5498429 , 0.4501571 ],\n",
       "       [0.55559566, 0.44440434],\n",
       "       [0.52920572, 0.47079428],\n",
       "       [0.56573769, 0.43426231],\n",
       "       [0.55572045, 0.44427955],\n",
       "       [0.5401512 , 0.4598488 ],\n",
       "       [0.54824861, 0.45175139],\n",
       "       [0.55942013, 0.44057987],\n",
       "       [0.55644367, 0.44355633],\n",
       "       [0.54328501, 0.45671499],\n",
       "       [0.54973041, 0.45026959]])"
      ]
     },
     "execution_count": 35,
     "metadata": {},
     "output_type": "execute_result"
    }
   ],
   "source": [
    "catch_weights"
   ]
  },
  {
   "cell_type": "code",
   "execution_count": 36,
   "id": "d5bc052e-114e-45c5-9bbb-01e7ce1c82f3",
   "metadata": {},
   "outputs": [
    {
     "data": {
      "text/plain": [
       "(0.5535783126475694, 0.4464216873524307)"
      ]
     },
     "execution_count": 36,
     "metadata": {},
     "output_type": "execute_result"
    }
   ],
   "source": [
    "test_cdr_weight, test_gcn_weight = np.mean(catch_weights,0)[0], np.mean(catch_weights,0)[1]\n",
    "test_cdr_weight, test_gcn_weight"
   ]
  },
  {
   "cell_type": "code",
   "execution_count": 37,
   "id": "b81eb72c-7db5-4c83-a296-fad0e832c8b8",
   "metadata": {},
   "outputs": [
    {
     "data": {
      "text/plain": [
       "array([0.01271419, 0.01271419])"
      ]
     },
     "execution_count": 37,
     "metadata": {},
     "output_type": "execute_result"
    }
   ],
   "source": [
    "np.std(catch_weights,0)"
   ]
  },
  {
   "cell_type": "code",
   "execution_count": 38,
   "id": "0cbcad77-620d-402a-8e2e-a9afe4025f31",
   "metadata": {},
   "outputs": [],
   "source": [
    "# save the metrics for later\\\n",
    "col_name = ['test_coverage', 'test_width', 'test_pearsonr', 'test_rmse', 'test_cdr_weight', 'test_gcn_weight' ]\n",
    "col_vals = [test_coverage, test_width, test_pearsonr[0], test_rmse, test_cdr_weight, test_gcn_weight]"
   ]
  },
  {
   "cell_type": "code",
   "execution_count": 39,
   "id": "f2b1baa0-eb87-4afc-ac88-8fb49539a332",
   "metadata": {},
   "outputs": [],
   "source": [
    "fold_idx = 2"
   ]
  },
  {
   "cell_type": "code",
   "execution_count": 40,
   "id": "609e4107-b239-4d3a-a5db-6295ff9a1256",
   "metadata": {},
   "outputs": [],
   "source": [
    "Stacker_test_results = pd.DataFrame({'parameter': col_name, 'value': col_vals})\n",
    "save_name = 'test_parameters_all_features_stacker_complete_for_test_fold_' + str(fold_idx) + '.csv'\n",
    "save_path = '../MEnKF_fold_results/Fold_2/'\n",
    "Stacker_test_results.to_csv(save_path + save_name, index = False)"
   ]
  },
  {
   "cell_type": "code",
   "execution_count": 41,
   "id": "7d77f2c7-37b0-41e7-bc4a-f6db9f7138dd",
   "metadata": {},
   "outputs": [
    {
     "data": {
      "text/html": [
       "<div>\n",
       "<style scoped>\n",
       "    .dataframe tbody tr th:only-of-type {\n",
       "        vertical-align: middle;\n",
       "    }\n",
       "\n",
       "    .dataframe tbody tr th {\n",
       "        vertical-align: top;\n",
       "    }\n",
       "\n",
       "    .dataframe thead th {\n",
       "        text-align: right;\n",
       "    }\n",
       "</style>\n",
       "<table border=\"1\" class=\"dataframe\">\n",
       "  <thead>\n",
       "    <tr style=\"text-align: right;\">\n",
       "      <th></th>\n",
       "      <th>parameter</th>\n",
       "      <th>value</th>\n",
       "    </tr>\n",
       "  </thead>\n",
       "  <tbody>\n",
       "    <tr>\n",
       "      <th>0</th>\n",
       "      <td>test_coverage</td>\n",
       "      <td>0.433472</td>\n",
       "    </tr>\n",
       "    <tr>\n",
       "      <th>1</th>\n",
       "      <td>test_width</td>\n",
       "      <td>1.221032</td>\n",
       "    </tr>\n",
       "    <tr>\n",
       "      <th>2</th>\n",
       "      <td>test_pearsonr</td>\n",
       "      <td>0.913961</td>\n",
       "    </tr>\n",
       "    <tr>\n",
       "      <th>3</th>\n",
       "      <td>test_rmse</td>\n",
       "      <td>1.143770</td>\n",
       "    </tr>\n",
       "    <tr>\n",
       "      <th>4</th>\n",
       "      <td>test_cdr_weight</td>\n",
       "      <td>0.553578</td>\n",
       "    </tr>\n",
       "    <tr>\n",
       "      <th>5</th>\n",
       "      <td>test_gcn_weight</td>\n",
       "      <td>0.446422</td>\n",
       "    </tr>\n",
       "  </tbody>\n",
       "</table>\n",
       "</div>"
      ],
      "text/plain": [
       "         parameter     value\n",
       "0    test_coverage  0.433472\n",
       "1       test_width  1.221032\n",
       "2    test_pearsonr  0.913961\n",
       "3        test_rmse  1.143770\n",
       "4  test_cdr_weight  0.553578\n",
       "5  test_gcn_weight  0.446422"
      ]
     },
     "execution_count": 41,
     "metadata": {},
     "output_type": "execute_result"
    }
   ],
   "source": [
    "Stacker_test_results"
   ]
  },
  {
   "cell_type": "code",
   "execution_count": null,
   "id": "67f3410b-4718-4be3-8a29-aaae8781a60d",
   "metadata": {},
   "outputs": [],
   "source": []
  }
 ],
 "metadata": {
  "kernelspec": {
   "display_name": "Python (tfp_for_TN)",
   "language": "python",
   "name": "tfp_for_tn"
  },
  "language_info": {
   "codemirror_mode": {
    "name": "ipython",
    "version": 3
   },
   "file_extension": ".py",
   "mimetype": "text/x-python",
   "name": "python",
   "nbconvert_exporter": "python",
   "pygments_lexer": "ipython3",
   "version": "3.10.14"
  }
 },
 "nbformat": 4,
 "nbformat_minor": 5
}
