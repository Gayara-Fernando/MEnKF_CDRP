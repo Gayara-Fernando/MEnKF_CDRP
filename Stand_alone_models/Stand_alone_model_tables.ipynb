{
 "cells": [
  {
   "cell_type": "code",
   "execution_count": 1,
   "id": "9dccd253-c297-4ca4-895f-84a25c0631d7",
   "metadata": {},
   "outputs": [],
   "source": [
    "import numpy as np\n",
    "import pandas as pd"
   ]
  },
  {
   "cell_type": "markdown",
   "id": "dbecf57c-4fd8-4387-ae30-d8d2cd1e462e",
   "metadata": {},
   "source": [
    "DeepCDR full model"
   ]
  },
  {
   "cell_type": "code",
   "execution_count": 2,
   "id": "9ce2e350-8407-4a36-8188-c9e8c76e9e85",
   "metadata": {},
   "outputs": [],
   "source": [
    "# RMSE\n",
    "fold_0_rmse = 1.118236754698801\n",
    "fold_1_rmse = 1.1141871003171653\n",
    "fold_2_rmse = 1.1196026525756604\n",
    "\n",
    "# Coverage\n",
    "fold_0_cvrg = 0.6216216216216216\n",
    "fold_1_cvrg = 0.6405058905058905\n",
    "fold_2_cvrg = 0.6266458766458767\n",
    "\n",
    "# Width\n",
    "fold_0_width = 2.0061771260890704\n",
    "fold_1_width = 1.9913265172466994\n",
    "fold_2_width = 1.989740161770181\n",
    "\n",
    "# Pearsonr\n",
    "fold_0_pearsonr = 0.9211575063291038\n",
    "fold_1_pearsonr = 0.9222846981899585\n",
    "fold_2_pearsonr = 0.9183832360173014"
   ]
  },
  {
   "cell_type": "code",
   "execution_count": 3,
   "id": "0e5342ac-d6e0-4d8c-83c2-0c26f8533cd8",
   "metadata": {},
   "outputs": [
    {
     "data": {
      "text/plain": [
       "1.117342169197209"
      ]
     },
     "execution_count": 3,
     "metadata": {},
     "output_type": "execute_result"
    }
   ],
   "source": [
    "# avg rmse\n",
    "cdr_full_rmse = np.mean((fold_0_rmse, fold_1_rmse, fold_2_rmse))\n",
    "cdr_full_rmse"
   ]
  },
  {
   "cell_type": "code",
   "execution_count": 4,
   "id": "9e180ee4-dd91-461f-bb29-01f4193a1477",
   "metadata": {},
   "outputs": [
    {
     "data": {
      "text/plain": [
       "0.6295911295911295"
      ]
     },
     "execution_count": 4,
     "metadata": {},
     "output_type": "execute_result"
    }
   ],
   "source": [
    "# avg coverage\n",
    "cdr_full_cvrg = np.mean((fold_0_cvrg, fold_1_cvrg, fold_2_cvrg))\n",
    "cdr_full_cvrg"
   ]
  },
  {
   "cell_type": "code",
   "execution_count": 5,
   "id": "0a33e112-a0ef-4fa7-abe4-11d6bfac287a",
   "metadata": {},
   "outputs": [
    {
     "data": {
      "text/plain": [
       "1.9957479350353171"
      ]
     },
     "execution_count": 5,
     "metadata": {},
     "output_type": "execute_result"
    }
   ],
   "source": [
    "# avg width\n",
    "cdr_full_width = np.mean((fold_0_width, fold_1_width, fold_2_width))\n",
    "cdr_full_width"
   ]
  },
  {
   "cell_type": "code",
   "execution_count": 6,
   "id": "8f601d82-c993-4984-9189-339557232f80",
   "metadata": {},
   "outputs": [
    {
     "data": {
      "text/plain": [
       "0.9206084801787879"
      ]
     },
     "execution_count": 6,
     "metadata": {},
     "output_type": "execute_result"
    }
   ],
   "source": [
    "# avg pearson\n",
    "cdr_full_corr = np.mean((fold_0_pearsonr, fold_1_pearsonr, fold_2_pearsonr))\n",
    "cdr_full_corr"
   ]
  },
  {
   "cell_type": "markdown",
   "id": "bc9a1d02-d4e5-43f2-8f32-b7a7a2595c60",
   "metadata": {},
   "source": [
    "DualGCN Full model"
   ]
  },
  {
   "cell_type": "code",
   "execution_count": 7,
   "id": "1d87b96c-ac9a-41a8-8cee-75f9ab714d9f",
   "metadata": {},
   "outputs": [],
   "source": [
    "# RMSE\n",
    "gcn_fold_0_rmse = 1.3374520408656616\n",
    "gcn_fold_1_rmse = 1.3112188321845346\n",
    "gcn_fold_2_rmse = 1.3300982253136753\n",
    "\n",
    "# Coverage\n",
    "gcn_fold_0_cvrg = 0.2597020097020097\n",
    "gcn_fold_1_cvrg = 0.26455301455301455\n",
    "gcn_fold_2_cvrg = 0.2591822591822592\n",
    "\n",
    "# Width\n",
    "gcn_fold_0_width = 0.7935321421977533\n",
    "gcn_fold_1_width = 0.7792606926266921\n",
    "gcn_fold_2_width = 0.7841207164488808\n",
    "\n",
    "# Pearsonr\n",
    "gcn_fold_0_pearsonr = 0.8830441107806083\n",
    "gcn_fold_1_pearsonr = 0.8869739458694192\n",
    "gcn_fold_2_pearsonr = 0.8813193389123751"
   ]
  },
  {
   "cell_type": "code",
   "execution_count": 8,
   "id": "685431da-ca14-4219-9271-ed48db5a1795",
   "metadata": {},
   "outputs": [
    {
     "data": {
      "text/plain": [
       "1.3262563661212905"
      ]
     },
     "execution_count": 8,
     "metadata": {},
     "output_type": "execute_result"
    }
   ],
   "source": [
    "# avg rmse\n",
    "gcn_full_rmse = np.mean((gcn_fold_0_rmse, gcn_fold_1_rmse, gcn_fold_2_rmse))\n",
    "gcn_full_rmse"
   ]
  },
  {
   "cell_type": "code",
   "execution_count": 9,
   "id": "103a9dd2-4d92-481e-b171-fc9c6f2536d3",
   "metadata": {},
   "outputs": [
    {
     "data": {
      "text/plain": [
       "0.2611457611457611"
      ]
     },
     "execution_count": 9,
     "metadata": {},
     "output_type": "execute_result"
    }
   ],
   "source": [
    "# avg coverage\n",
    "gcn_full_cvrg = np.mean((gcn_fold_0_cvrg, gcn_fold_1_cvrg, gcn_fold_2_cvrg))\n",
    "gcn_full_cvrg"
   ]
  },
  {
   "cell_type": "code",
   "execution_count": 10,
   "id": "f2b1a6e5-33fc-4b0e-8fd8-a2bdfb1b5229",
   "metadata": {},
   "outputs": [
    {
     "data": {
      "text/plain": [
       "0.785637850424442"
      ]
     },
     "execution_count": 10,
     "metadata": {},
     "output_type": "execute_result"
    }
   ],
   "source": [
    "# avg width\n",
    "gcn_full_width = np.mean((gcn_fold_0_width, gcn_fold_1_width, gcn_fold_2_width))\n",
    "gcn_full_width"
   ]
  },
  {
   "cell_type": "code",
   "execution_count": 11,
   "id": "d5e50b97-aaed-4452-97d2-a12519a95281",
   "metadata": {},
   "outputs": [
    {
     "data": {
      "text/plain": [
       "0.8837791318541343"
      ]
     },
     "execution_count": 11,
     "metadata": {},
     "output_type": "execute_result"
    }
   ],
   "source": [
    "# avg pearson\n",
    "gcn_full_corr = np.mean((gcn_fold_0_pearsonr, gcn_fold_1_pearsonr, gcn_fold_2_pearsonr))\n",
    "gcn_full_corr"
   ]
  },
  {
   "cell_type": "markdown",
   "id": "401ff99b-7e31-49a7-a303-9fb20749e7e5",
   "metadata": {},
   "source": [
    "DeepCDR ablated model"
   ]
  },
  {
   "cell_type": "code",
   "execution_count": 12,
   "id": "fd0318c4-d3b3-4cf1-b6f2-818140b58483",
   "metadata": {},
   "outputs": [],
   "source": [
    "# RMSE\n",
    "cdr_abl_fold_0_rmse = 1.2798625449699812\n",
    "cdr_abl_fold_1_rmse = 1.2590531121929962\n",
    "cdr_abl_fold_2_rmse = 1.277267274301765\n",
    "\n",
    "# Coverage\n",
    "cdr_abl_fold_0_cvrg = 0.5686070686070686\n",
    "cdr_abl_fold_1_cvrg = 0.5906098406098406\n",
    "cdr_abl_fold_2_cvrg = 0.568953568953569\n",
    "\n",
    "# Width\n",
    "cdr_abl_fold_0_width = 1.9534236148072044\n",
    "cdr_abl_fold_1_width = 1.9873746325097308\n",
    "cdr_abl_fold_2_width = 1.943950274237641\n",
    "\n",
    "# Pearsonr\n",
    "cdr_abl_fold_0_pearsonr = 0.8939285788040441\n",
    "cdr_abl_fold_1_pearsonr = 0.8959081820305033\n",
    "cdr_abl_fold_2_pearsonr = 0.8912876155846069"
   ]
  },
  {
   "cell_type": "code",
   "execution_count": 13,
   "id": "dfd1453c-d3c0-49ae-84fe-3d1328c1af58",
   "metadata": {},
   "outputs": [
    {
     "data": {
      "text/plain": [
       "1.2720609771549143"
      ]
     },
     "execution_count": 13,
     "metadata": {},
     "output_type": "execute_result"
    }
   ],
   "source": [
    "cdr_abl_rmse = np.mean((cdr_abl_fold_0_rmse, cdr_abl_fold_1_rmse, cdr_abl_fold_2_rmse))\n",
    "cdr_abl_rmse"
   ]
  },
  {
   "cell_type": "code",
   "execution_count": 14,
   "id": "2f113318-0799-4105-bf23-5b38b585cf55",
   "metadata": {},
   "outputs": [
    {
     "data": {
      "text/plain": [
       "0.5760568260568261"
      ]
     },
     "execution_count": 14,
     "metadata": {},
     "output_type": "execute_result"
    }
   ],
   "source": [
    "# avg coverage\n",
    "cdr_abl_cvrg = np.mean((cdr_abl_fold_0_cvrg, cdr_abl_fold_1_cvrg, cdr_abl_fold_2_cvrg))\n",
    "cdr_abl_cvrg"
   ]
  },
  {
   "cell_type": "code",
   "execution_count": 15,
   "id": "1f86161d-f1be-49d6-917c-3cf0950448aa",
   "metadata": {},
   "outputs": [
    {
     "data": {
      "text/plain": [
       "1.9615828405181919"
      ]
     },
     "execution_count": 15,
     "metadata": {},
     "output_type": "execute_result"
    }
   ],
   "source": [
    "# avg width\n",
    "cdr_abl_width = np.mean((cdr_abl_fold_0_width, cdr_abl_fold_1_width, cdr_abl_fold_2_width))\n",
    "cdr_abl_width"
   ]
  },
  {
   "cell_type": "code",
   "execution_count": 16,
   "id": "cc6c8469-db9f-4960-9c8e-97ae5f92a50b",
   "metadata": {},
   "outputs": [
    {
     "data": {
      "text/plain": [
       "0.8937081254730513"
      ]
     },
     "execution_count": 16,
     "metadata": {},
     "output_type": "execute_result"
    }
   ],
   "source": [
    "# avg pearson\n",
    "cdr_abl_corr = np.mean((cdr_abl_fold_0_pearsonr, cdr_abl_fold_1_pearsonr, cdr_abl_fold_2_pearsonr))\n",
    "cdr_abl_corr"
   ]
  },
  {
   "cell_type": "markdown",
   "id": "e1b78a8a-8357-4a6f-851c-8068865e5dbe",
   "metadata": {},
   "source": [
    "DualGCN ablated model"
   ]
  },
  {
   "cell_type": "code",
   "execution_count": 17,
   "id": "f0edd01d-906e-4625-afbe-e115da2f35ae",
   "metadata": {},
   "outputs": [],
   "source": [
    "# RMSE\n",
    "gcn_abl_fold_0_rmse = 1.4868933412580398\n",
    "gcn_abl_fold_1_rmse = 1.4486015923344844\n",
    "gcn_abl_fold_2_rmse = 1.4625944981185637\n",
    "\n",
    "# Coverage\n",
    "gcn_abl_fold_0_cvrg = 0.3057865557865558\n",
    "gcn_abl_fold_1_cvrg = 0.2955647955647956\n",
    "gcn_abl_fold_2_cvrg = 0.310984060984061\n",
    "\n",
    "# Width\n",
    "gcn_abl_fold_0_width = 1.0431522343098618\n",
    "gcn_abl_fold_1_width = 0.9704714816396669\n",
    "gcn_abl_fold_2_width = 1.0809332260778088\n",
    "\n",
    "# Pearsonr\n",
    "gcn_abl_fold_0_pearsonr = 0.852824787397635\n",
    "gcn_abl_fold_1_pearsonr = 0.8603510731411432\n",
    "gcn_abl_fold_2_pearsonr = 0.8548473423921649"
   ]
  },
  {
   "cell_type": "code",
   "execution_count": 18,
   "id": "5f3add19-cd6e-43d3-826e-d2f586c87cce",
   "metadata": {},
   "outputs": [
    {
     "data": {
      "text/plain": [
       "1.4660298105703626"
      ]
     },
     "execution_count": 18,
     "metadata": {},
     "output_type": "execute_result"
    }
   ],
   "source": [
    "gcn_abl_rmse = np.mean((gcn_abl_fold_0_rmse, gcn_abl_fold_1_rmse, gcn_abl_fold_2_rmse))\n",
    "gcn_abl_rmse"
   ]
  },
  {
   "cell_type": "code",
   "execution_count": 19,
   "id": "5c1ee452-38ef-4650-a297-a2c3bf37d5c5",
   "metadata": {},
   "outputs": [
    {
     "data": {
      "text/plain": [
       "0.3041118041118041"
      ]
     },
     "execution_count": 19,
     "metadata": {},
     "output_type": "execute_result"
    }
   ],
   "source": [
    "# avg coverage\n",
    "gcn_abl_cvrg = np.mean((gcn_abl_fold_0_cvrg, gcn_abl_fold_1_cvrg, gcn_abl_fold_2_cvrg))\n",
    "gcn_abl_cvrg"
   ]
  },
  {
   "cell_type": "code",
   "execution_count": 20,
   "id": "6037f896-c1e2-452e-9ef8-0f144c1c54d0",
   "metadata": {},
   "outputs": [
    {
     "data": {
      "text/plain": [
       "1.0315189806757792"
      ]
     },
     "execution_count": 20,
     "metadata": {},
     "output_type": "execute_result"
    }
   ],
   "source": [
    "# avg width\n",
    "gcn_abl_width = np.mean((gcn_abl_fold_0_width, gcn_abl_fold_1_width, gcn_abl_fold_2_width))\n",
    "gcn_abl_width"
   ]
  },
  {
   "cell_type": "code",
   "execution_count": 21,
   "id": "67d7cebc-b259-4e31-9c5e-62ac40f5504f",
   "metadata": {},
   "outputs": [
    {
     "data": {
      "text/plain": [
       "0.8560077343103143"
      ]
     },
     "execution_count": 21,
     "metadata": {},
     "output_type": "execute_result"
    }
   ],
   "source": [
    "# avg pearson\n",
    "gcn_abl_corr = np.mean((gcn_abl_fold_0_pearsonr, gcn_abl_fold_1_pearsonr, gcn_abl_fold_2_pearsonr))\n",
    "gcn_abl_corr"
   ]
  }
 ],
 "metadata": {
  "kernelspec": {
   "display_name": "Python (tfp_for_TN)",
   "language": "python",
   "name": "tfp_for_tn"
  },
  "language_info": {
   "codemirror_mode": {
    "name": "ipython",
    "version": 3
   },
   "file_extension": ".py",
   "mimetype": "text/x-python",
   "name": "python",
   "nbconvert_exporter": "python",
   "pygments_lexer": "ipython3",
   "version": "3.10.14"
  }
 },
 "nbformat": 4,
 "nbformat_minor": 5
}
