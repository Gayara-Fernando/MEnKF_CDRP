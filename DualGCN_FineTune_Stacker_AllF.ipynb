{
 "cells": [
  {
   "cell_type": "code",
   "execution_count": null,
   "id": "d79c4d60-25e3-41cb-b814-ef360e2fee9e",
   "metadata": {},
   "outputs": [],
   "source": [
    "import pandas as pd\n",
    "import tensorflow as tf\n",
    "import tensorflow_probability as tfp\n",
    "from tensorflow import keras\n",
    "from tensorflow.python.keras import backend as K\n",
    "from tensorflow.python.ops import array_ops\n",
    "from tensorflow.python.ops import math_ops\n",
    "import random\n",
    "import pickle\n",
    "import numpy as np\n",
    "from sklearn.preprocessing import StandardScaler\n",
    "from sklearn.model_selection import train_test_split"
   ]
  },
  {
   "cell_type": "code",
   "execution_count": null,
   "id": "06020fb9-0d23-4866-8a4b-d13beac7044f",
   "metadata": {},
   "outputs": [],
   "source": [
    "drugs_cell_lines_ic50_df = pd.read_csv(\"data//drugs_cell_lines_ic50.csv\")"
   ]
  },
  {
   "cell_type": "code",
   "execution_count": null,
   "id": "ef3c56b4-0691-4fb7-8d8d-e4637957e91a",
   "metadata": {},
   "outputs": [],
   "source": [
    "drugs_cell_lines_ic50_df.head()"
   ]
  },
  {
   "cell_type": "code",
   "execution_count": null,
   "id": "1660298b-b5ce-4cff-bd71-86f7dc9222f5",
   "metadata": {},
   "outputs": [],
   "source": [
    "pubchem_drugs_smiles_df = pd.read_csv('data//drugs_smile_strings.csv')"
   ]
  },
  {
   "cell_type": "code",
   "execution_count": null,
   "id": "d3b2a897-77be-420b-bd26-ab84d56a2ff3",
   "metadata": {},
   "outputs": [],
   "source": [
    "drugs_smiles_cell_lines_ic50_df = pd.merge(drugs_cell_lines_ic50_df, pubchem_drugs_smiles_df, \n",
    "                                             on = \"drug_id\")"
   ]
  },
  {
   "cell_type": "code",
   "execution_count": null,
   "id": "c9c0eda5-75c5-45e4-b48b-7f90b38da4d8",
   "metadata": {},
   "outputs": [],
   "source": [
    "drugs_smiles_cell_lines_ic50_df = drugs_smiles_cell_lines_ic50_df[[\"drug_id\", \"Cancer_Cell_Line\", \"Smiles\", \"IC50\"]]"
   ]
  },
  {
   "cell_type": "code",
   "execution_count": null,
   "id": "4255a229-bb41-4ffe-abef-e6d466e1c00b",
   "metadata": {},
   "outputs": [],
   "source": [
    "drugs_smiles_cell_lines_ic50_df.dtypes"
   ]
  },
  {
   "cell_type": "code",
   "execution_count": null,
   "id": "b8f12d16-3e37-4c9a-aabb-51e6ceb99a00",
   "metadata": {},
   "outputs": [],
   "source": [
    "drugs_smiles_cell_lines_ic50_df[\"drug_id\"] = drugs_smiles_cell_lines_ic50_df[\"drug_id\"].astype(object)"
   ]
  },
  {
   "cell_type": "code",
   "execution_count": null,
   "id": "1318885c-6fc2-4ee6-a74d-0a8337307777",
   "metadata": {},
   "outputs": [],
   "source": [
    "with open(\"data//drug_gcn_features.pickle\", \"rb\") as f:\n",
    "    dict_features = pickle.load(f)"
   ]
  },
  {
   "cell_type": "code",
   "execution_count": null,
   "id": "46e0e644-213c-4bc6-8dde-78b3bd5638bb",
   "metadata": {},
   "outputs": [],
   "source": [
    "with open(\"data//drug_gcn_normalized_adj_mats.pickle\", \"rb\") as f:\n",
    "    dict_normalized_adj_mats = pickle.load(f)"
   ]
  },
  {
   "cell_type": "code",
   "execution_count": null,
   "id": "bfadc255-519f-4d0f-83c5-49277a277209",
   "metadata": {},
   "outputs": [],
   "source": [
    "dualgcn_train = pd.read_csv(\"data//DualGCN_Embedding_train.csv\")"
   ]
  },
  {
   "cell_type": "code",
   "execution_count": null,
   "id": "7e62a800-6f13-4a2f-965d-62d34061612d",
   "metadata": {},
   "outputs": [],
   "source": [
    "dualgcn_test = pd.read_csv(\"data//DualGCN_Embedding_test.csv\")"
   ]
  },
  {
   "cell_type": "code",
   "execution_count": null,
   "id": "5bd3f846-d0c4-4c92-b2af-1836b2cdf13b",
   "metadata": {},
   "outputs": [],
   "source": [
    "pubchem_to_drugs_df = pd.read_csv('data//1.Drug_listMon Jun 24 09_00_55 2019.csv')"
   ]
  },
  {
   "cell_type": "code",
   "execution_count": null,
   "id": "2a664d12-9cd8-4aa0-bc4a-d3c3fc83b389",
   "metadata": {},
   "outputs": [],
   "source": [
    "pubchem_to_drugs_df.head()"
   ]
  },
  {
   "cell_type": "code",
   "execution_count": null,
   "id": "4c1cabed-895b-4a33-9478-9c414246d9d6",
   "metadata": {},
   "outputs": [],
   "source": [
    "pubchem_to_drugs_df = pubchem_to_drugs_df[[\"drug_id\", \"PubCHEM\"]]"
   ]
  },
  {
   "cell_type": "code",
   "execution_count": null,
   "id": "06050248-be5d-4413-a9f6-afba9c6dc1da",
   "metadata": {},
   "outputs": [],
   "source": [
    "pubchem_to_drugs_df.dtypes"
   ]
  },
  {
   "cell_type": "code",
   "execution_count": null,
   "id": "226a6b4e-ddb7-4f0a-8e24-25fe64de8992",
   "metadata": {},
   "outputs": [],
   "source": [
    "pubchem_to_drugs_df[\"PubCHEM\"] = [val if str(val).isdigit() else np.nan for val in pubchem_to_drugs_df[\"PubCHEM\"] ]"
   ]
  },
  {
   "cell_type": "code",
   "execution_count": null,
   "id": "49920b0c-24e4-4900-b65c-238b7918cb9f",
   "metadata": {},
   "outputs": [],
   "source": [
    "pubchem_to_drugs_df = pubchem_to_drugs_df.dropna()"
   ]
  },
  {
   "cell_type": "code",
   "execution_count": null,
   "id": "7691b28b-0ae2-4ed4-8e16-54ff384b9dee",
   "metadata": {},
   "outputs": [],
   "source": [
    "pubchem_to_drugs_df.dtypes"
   ]
  },
  {
   "cell_type": "code",
   "execution_count": null,
   "id": "6462ade0-cd2d-491d-be8a-aa0e7ddd3863",
   "metadata": {},
   "outputs": [],
   "source": [
    "pubchem_to_drugs_df[\"drug_id\"] = pubchem_to_drugs_df[\"drug_id\"].astype(str)"
   ]
  },
  {
   "cell_type": "code",
   "execution_count": null,
   "id": "3286fd91-f6df-49fc-8d72-5e493f31d0ae",
   "metadata": {},
   "outputs": [],
   "source": [
    "x_train, x_valid, y_train, y_valid = train_test_split(drugs_smiles_cell_lines_ic50_df.drop([\"IC50\"],1), drugs_smiles_cell_lines_ic50_df[\"IC50\"].values, \n",
    "                                                     test_size = 0.20, random_state = 42)"
   ]
  },
  {
   "cell_type": "code",
   "execution_count": null,
   "id": "1b1ddb77-6e32-4225-96ba-cce23480ab1b",
   "metadata": {},
   "outputs": [],
   "source": [
    "dualgcn_train[\"Drug_ID\"] = dualgcn_train[\"Drug_ID\"].astype(str)"
   ]
  },
  {
   "cell_type": "code",
   "execution_count": null,
   "id": "5d534def-d5c7-4b2c-a3ee-f4c5c43650c2",
   "metadata": {},
   "outputs": [],
   "source": [
    "dualgcn_test[\"Drug_ID\"] = dualgcn_test[\"Drug_ID\"].astype(str)"
   ]
  },
  {
   "cell_type": "code",
   "execution_count": null,
   "id": "5a7161ee-e146-4c38-a8b8-66369327384f",
   "metadata": {},
   "outputs": [],
   "source": [
    "pubchem_to_drugs_df.dtypes"
   ]
  },
  {
   "cell_type": "code",
   "execution_count": null,
   "id": "26536155-5c48-4960-bff8-21c5ec06bab2",
   "metadata": {},
   "outputs": [],
   "source": [
    "dualgcn_train = pubchem_to_drugs_df.merge(dualgcn_train, left_on = [\"PubCHEM\"], right_on = [\"Drug_ID\"])"
   ]
  },
  {
   "cell_type": "code",
   "execution_count": null,
   "id": "2bc82e0e-8eff-4ca1-bf75-b7a7a9b129e0",
   "metadata": {},
   "outputs": [],
   "source": [
    "dualgcn_train = dualgcn_train[['Cell_Line', 'drug_id']]"
   ]
  },
  {
   "cell_type": "code",
   "execution_count": null,
   "id": "eae9ef05-6e1c-4aaa-bf6b-940d92f46ffb",
   "metadata": {},
   "outputs": [],
   "source": [
    "dualgcn_test = pubchem_to_drugs_df.merge(dualgcn_test, left_on = [\"PubCHEM\"], right_on = [\"Drug_ID\"])"
   ]
  },
  {
   "cell_type": "code",
   "execution_count": null,
   "id": "f30684d3-1a27-4d66-8fc4-f84310a30d70",
   "metadata": {},
   "outputs": [],
   "source": [
    "dualgcn_test = dualgcn_test[['Cell_Line', 'drug_id']]"
   ]
  },
  {
   "cell_type": "code",
   "execution_count": null,
   "id": "f0542289-770e-4e4b-b664-92e4bc29cfc0",
   "metadata": {},
   "outputs": [],
   "source": [
    "dualgcn_train.dtypes"
   ]
  },
  {
   "cell_type": "code",
   "execution_count": null,
   "id": "1c63ae0c-24be-4d2e-91d5-6e2616980c51",
   "metadata": {},
   "outputs": [],
   "source": [
    "x_train.dtypes"
   ]
  },
  {
   "cell_type": "code",
   "execution_count": null,
   "id": "76078299-ae77-4b6b-99bf-c8d04c0d8d89",
   "metadata": {},
   "outputs": [],
   "source": [
    "x_train['drug_id'] = x_train['drug_id'].astype(str)"
   ]
  },
  {
   "cell_type": "code",
   "execution_count": null,
   "id": "5c693879-9d22-426a-973c-10f2428782e8",
   "metadata": {},
   "outputs": [],
   "source": [
    "x_valid['drug_id'] = x_valid['drug_id'].astype(str)"
   ]
  },
  {
   "cell_type": "code",
   "execution_count": null,
   "id": "bc17185f-ea74-4d95-8e77-549522dc6d9d",
   "metadata": {},
   "outputs": [],
   "source": [
    "x_train_valid_feats = pd.concat([x_train, x_valid], ignore_index = True)"
   ]
  },
  {
   "cell_type": "code",
   "execution_count": null,
   "id": "3dd68714-74df-4643-9b6a-554e0db5884e",
   "metadata": {},
   "outputs": [],
   "source": [
    "y_train_valid = pd.concat([pd.DataFrame(y_train.reshape(-1,1)), pd.DataFrame(y_valid.reshape(-1,1))], ignore_index = True)"
   ]
  },
  {
   "cell_type": "code",
   "execution_count": null,
   "id": "e5bdf3b9-9644-4f7a-a2d3-825b184a4671",
   "metadata": {},
   "outputs": [],
   "source": [
    "combo_train_valid = pd.concat([x_train_valid_feats, y_train_valid], 1)"
   ]
  },
  {
   "cell_type": "code",
   "execution_count": null,
   "id": "cd487c80-f100-47d8-91b4-704bc01aa318",
   "metadata": {},
   "outputs": [],
   "source": [
    "combo_train_valid.head()"
   ]
  },
  {
   "cell_type": "code",
   "execution_count": null,
   "id": "b9de540d-bb4c-48e1-bcbe-b07df1a2c7f7",
   "metadata": {},
   "outputs": [],
   "source": [
    "combo_train_valid.columns = ['drug_id', 'Cancer_Cell_Line', 'Smiles', 'IC50']"
   ]
  },
  {
   "cell_type": "code",
   "execution_count": null,
   "id": "6ad83127-f200-4ea3-8405-e3ec9e599ec1",
   "metadata": {},
   "outputs": [],
   "source": [
    "# filter x_train x _valid here\n",
    "x_y_train = combo_train_valid.merge(dualgcn_train, left_on = ['Cancer_Cell_Line','drug_id'], right_on = [ 'Cell_Line','drug_id'])"
   ]
  },
  {
   "cell_type": "code",
   "execution_count": null,
   "id": "3e687f3f-bba1-4fa6-9687-96f998938f34",
   "metadata": {},
   "outputs": [],
   "source": [
    "x_y_train.head()"
   ]
  },
  {
   "cell_type": "code",
   "execution_count": null,
   "id": "3ff87221-d69e-4ac0-b81c-408c18e6f3eb",
   "metadata": {},
   "outputs": [],
   "source": [
    "x_y_test = combo_train_valid.merge(dualgcn_test, left_on = ['Cancer_Cell_Line','drug_id'], right_on = [ 'Cell_Line','drug_id'])"
   ]
  },
  {
   "cell_type": "code",
   "execution_count": null,
   "id": "d526502f-cd0c-45f1-b1ac-21062fdb1ab6",
   "metadata": {},
   "outputs": [],
   "source": [
    "x_train, x_valid, y_train, y_valid = x_y_train.drop([\"IC50\", 'Cell_Line'],1), x_y_test.drop([\"IC50\", 'Cell_Line'], 1), x_y_train[\"IC50\"].values, x_y_test[\"IC50\"].values"
   ]
  },
  {
   "cell_type": "code",
   "execution_count": null,
   "id": "d8e8a19c-3fc2-4c28-8a5c-5d44890baff8",
   "metadata": {},
   "outputs": [],
   "source": [
    "train_gcn_feats = []\n",
    "train_adj_list = []\n",
    "for drug_id in x_train[\"drug_id\"].values:\n",
    "    train_gcn_feats.append(dict_features[drug_id])\n",
    "    train_adj_list.append(dict_normalized_adj_mats[drug_id])"
   ]
  },
  {
   "cell_type": "code",
   "execution_count": null,
   "id": "f18af922-6ad2-4ec9-8a06-e21dfec89e16",
   "metadata": {},
   "outputs": [],
   "source": [
    "valid_gcn_feats = []\n",
    "valid_adj_list = []\n",
    "for drug_id in x_valid[\"drug_id\"].values:\n",
    "    valid_gcn_feats.append(dict_features[drug_id])\n",
    "    valid_adj_list.append(dict_normalized_adj_mats[drug_id])"
   ]
  },
  {
   "cell_type": "code",
   "execution_count": null,
   "id": "8727a949-fe53-4c23-a8f1-495b0575cfe7",
   "metadata": {},
   "outputs": [],
   "source": [
    "train_gcn_feats = np.array(train_gcn_feats).astype(\"float16\")\n",
    "valid_gcn_feats = np.array(valid_gcn_feats).astype(\"float16\")"
   ]
  },
  {
   "cell_type": "code",
   "execution_count": null,
   "id": "2051e9cb-d041-4112-8155-cac3b6ef6684",
   "metadata": {},
   "outputs": [],
   "source": [
    "train_adj_list = np.array(train_adj_list).astype(\"float16\")\n",
    "valid_adj_list = np.array(valid_adj_list).astype(\"float16\")"
   ]
  },
  {
   "cell_type": "code",
   "execution_count": null,
   "id": "b57c86db-c67b-4492-b945-9ee5ef7633be",
   "metadata": {},
   "outputs": [],
   "source": [
    "# load models\n",
    "# omic models\n",
    "cancer_copy_number_model = tf.keras.models.load_model(\"models//cancer_copy_number_model_no_norm_common\")\n",
    "cancer_cell_gen_expr_model = tf.keras.models.load_model(\"models//cancer_cell_gen_expr_model_no_norm_common\")\n",
    "cancer_cell_gen_methy_model = tf.keras.models.load_model(\"models//cancer_cell_gen_methy_model_no_norm\")\n",
    "cancer_cell_gen_mut_model = tf.keras.models.load_model(\"models//cancer_cell_gen_mut_model_no_norm\")"
   ]
  },
  {
   "cell_type": "code",
   "execution_count": null,
   "id": "4c1533dd-2e0e-424f-be0d-24f06b51453b",
   "metadata": {},
   "outputs": [],
   "source": [
    "# load models\n",
    "# drug models\n",
    "pubchem_drugs_rdkit_model = tf.keras.models.load_model(\"models//pubchem_drugs_rdkit_model_no_norm\")"
   ]
  },
  {
   "cell_type": "code",
   "execution_count": null,
   "id": "4276fa33-3544-4a49-904e-020095d81f43",
   "metadata": {},
   "outputs": [],
   "source": [
    "std = StandardScaler()"
   ]
  },
  {
   "cell_type": "code",
   "execution_count": null,
   "id": "6d5f0911-6e51-446d-a281-dc05086de8bf",
   "metadata": {},
   "outputs": [],
   "source": [
    "# extract drug features - does not seem like these are used in the network\n",
    "drug_features_train = pubchem_drugs_rdkit_model(x_train[\"drug_id\"].values).numpy().astype(\"float32\")\n",
    "drug_features_valid = pubchem_drugs_rdkit_model(x_valid[\"drug_id\"].values).numpy().astype(\"float32\")\n",
    "\n",
    "# drug_features_train = pubchem_drugs_rdkit_model(x_train[\"drug_id\"].values)\n",
    "# drug_features_valid = pubchem_drugs_rdkit_model(x_valid[\"drug_id\"].values)"
   ]
  },
  {
   "cell_type": "code",
   "execution_count": null,
   "id": "f09c1da2-9df1-4674-9a05-ed475aaed5fa",
   "metadata": {},
   "outputs": [],
   "source": [
    "np.isinf(drug_features_train).sum()"
   ]
  },
  {
   "cell_type": "code",
   "execution_count": null,
   "id": "76723b45-8e73-41b2-b00a-19c27200d943",
   "metadata": {},
   "outputs": [],
   "source": [
    "drug_features_train = std.fit_transform(drug_features_train)"
   ]
  },
  {
   "cell_type": "code",
   "execution_count": null,
   "id": "3397ce65-28fa-42a3-8b35-cb378bde141d",
   "metadata": {},
   "outputs": [],
   "source": [
    "drug_features_valid = std.transform(drug_features_valid)"
   ]
  },
  {
   "cell_type": "code",
   "execution_count": null,
   "id": "8a581814-8f25-47f8-88eb-b6d94e841e96",
   "metadata": {},
   "outputs": [],
   "source": [
    "# extract copy number features\n",
    "omics_copy_number_train = cancer_copy_number_model(x_train[\"Cancer_Cell_Line\"].values).numpy().astype(\"float16\")\n",
    "omics_copy_number_valid = cancer_copy_number_model(x_valid[\"Cancer_Cell_Line\"].values).numpy().astype(\"float16\")"
   ]
  },
  {
   "cell_type": "code",
   "execution_count": null,
   "id": "0d8f9737-5d43-4175-a68a-ff03ab3f58c3",
   "metadata": {},
   "outputs": [],
   "source": [
    "# extract gen expr features\n",
    "omics_gen_expr_train = cancer_cell_gen_expr_model(x_train[\"Cancer_Cell_Line\"].values).numpy().astype(\"float16\")\n",
    "omics_gen_expr_valid = cancer_cell_gen_expr_model(x_valid[\"Cancer_Cell_Line\"].values).numpy().astype(\"float16\")"
   ]
  },
  {
   "cell_type": "code",
   "execution_count": null,
   "id": "ceb5e8e9-58c8-44b6-af28-2e676cd4c4d9",
   "metadata": {},
   "outputs": [],
   "source": [
    "omics_gen_copy_number_gen_expr_train = np.concatenate([np.expand_dims(omics_copy_number_train, -1),\n",
    "                                                      np.expand_dims(omics_gen_expr_train, -1)], axis = -1)"
   ]
  },
  {
   "cell_type": "code",
   "execution_count": null,
   "id": "9af07cd6-3bf6-45eb-a0d9-6ada6e752a5d",
   "metadata": {},
   "outputs": [],
   "source": [
    "omics_gen_copy_number_gen_expr_valid = np.concatenate([np.expand_dims(omics_copy_number_valid, -1),\n",
    "                                                      np.expand_dims(omics_gen_expr_valid, -1)], axis = -1)"
   ]
  },
  {
   "cell_type": "code",
   "execution_count": null,
   "id": "6fc3a94e-0ffe-4672-a97a-cc87eca89a54",
   "metadata": {},
   "outputs": [],
   "source": [
    "# extract gen methylation features\n",
    "omics_gen_methyl_train = cancer_cell_gen_methy_model(x_train[\"Cancer_Cell_Line\"].values).numpy().astype(\"float16\")\n",
    "omics_gen_methyl_valid = cancer_cell_gen_methy_model(x_valid[\"Cancer_Cell_Line\"].values).numpy().astype(\"float16\")"
   ]
  },
  {
   "cell_type": "code",
   "execution_count": null,
   "id": "75398540-13b6-4cfa-b90d-8f2c0124dcd8",
   "metadata": {},
   "outputs": [],
   "source": [
    "# extract gen mutation features\n",
    "with tf.device('/cpu:0'):\n",
    "    omics_gen_mut_train = cancer_cell_gen_mut_model.predict(x_train[\"Cancer_Cell_Line\"].values, verbose = 1, batch_size = 256).astype(\"float16\")\n",
    "    omics_gen_mut_valid = cancer_cell_gen_mut_model.predict(x_valid[\"Cancer_Cell_Line\"].values, verbose = 1, batch_size = 256).astype(\"float16\")"
   ]
  },
  {
   "cell_type": "code",
   "execution_count": null,
   "id": "1cd31175-0cb4-4718-8ff6-221e42f493d9",
   "metadata": {},
   "outputs": [],
   "source": [
    "smile_strings_train = x_train[\"Smiles\"].values.reshape(-1,1)\n",
    "smile_strings_valid = x_valid[\"Smiles\"].values.reshape(-1,1)"
   ]
  },
  {
   "cell_type": "code",
   "execution_count": null,
   "id": "d13e5906-e69a-42a6-b9d0-c24f9d941e7d",
   "metadata": {},
   "outputs": [],
   "source": [
    "selected_info_common_cell_lines = \"data//cellline_list.txt\"\n",
    "selected_info_common_genes = \"data//gene_list.txt\""
   ]
  },
  {
   "cell_type": "code",
   "execution_count": null,
   "id": "81270302-09c9-4885-bf20-1cea79f82c2c",
   "metadata": {},
   "outputs": [],
   "source": [
    "PPI_file = \"data/PPI_network.txt\""
   ]
  },
  {
   "cell_type": "code",
   "execution_count": null,
   "id": "c061dec2-f66e-46bd-b75d-d0d3de3a4197",
   "metadata": {},
   "outputs": [],
   "source": [
    "with open(selected_info_common_cell_lines) as f:\n",
    "    common_cell_lines = [item.strip() for item in f.readlines()]"
   ]
  },
  {
   "cell_type": "code",
   "execution_count": null,
   "id": "fec2991e-1152-4fc3-afae-e537b1d94224",
   "metadata": {},
   "outputs": [],
   "source": [
    "with open(\"data//common_genes.pickle\", \"rb\") as f:\n",
    "    common_genes = pickle.load(f)"
   ]
  },
  {
   "cell_type": "code",
   "execution_count": null,
   "id": "81938b6c-b5ec-4bec-bf6c-bcfb99333479",
   "metadata": {},
   "outputs": [],
   "source": [
    "idx_dic={}\n",
    "for index, item in enumerate(common_genes):\n",
    "    idx_dic[item] = index"
   ]
  },
  {
   "cell_type": "code",
   "execution_count": null,
   "id": "9be1966c-c95d-4763-9351-cc85f885dd77",
   "metadata": {},
   "outputs": [],
   "source": [
    "ppi_adj_info = [[] for item in common_genes] "
   ]
  },
  {
   "cell_type": "code",
   "execution_count": null,
   "id": "dd95b114-413c-48b2-8ac4-d62341ca4b49",
   "metadata": {},
   "outputs": [],
   "source": [
    "# will return for each gene what other gene is connected - PPIs\n",
    "ppi_adj_info = [[] for item in common_genes] \n",
    "for line in open(PPI_file).readlines():\n",
    "    gene1,gene2 = line.split('\\t')[0],line.split('\\t')[1]\n",
    "    if (gene1 in common_genes) & (gene2 in common_genes):\n",
    "        if idx_dic[gene1]<=idx_dic[gene2]:\n",
    "            ppi_adj_info[idx_dic[gene1]].append(idx_dic[gene2])\n",
    "            ppi_adj_info[idx_dic[gene2]].append(idx_dic[gene1])"
   ]
  },
  {
   "cell_type": "code",
   "execution_count": null,
   "id": "e8dba0ba-76bf-43d9-a282-64d5ef857164",
   "metadata": {},
   "outputs": [],
   "source": [
    "def CelllineGraphAdjNorm(ppi_adj_info,common_genes = common_genes):\n",
    "    # with open(selected_info_common_genes) as f:\n",
    "    #     common_genes = [item.strip() for item in f.readlines()]\n",
    "    nb_nodes = len(common_genes)\n",
    "    adj_mat = np.zeros((nb_nodes,nb_nodes),dtype='float32')\n",
    "    # print(adj_mat.shape)\n",
    "    for i in range(len(ppi_adj_info)):\n",
    "        # print(i)\n",
    "        nodes = ppi_adj_info[i]\n",
    "        for each in nodes:\n",
    "            adj_mat[i,each] = 1\n",
    "\n",
    "    # for checking if two sparse matrices are the same\n",
    "    assert np.allclose(adj_mat,adj_mat.T)\n",
    "    norm_adj = NormalizeAdj(adj_mat)\n",
    "    return norm_adj "
   ]
  },
  {
   "cell_type": "code",
   "execution_count": null,
   "id": "ccca20d9-ccb8-4e11-87dc-3b8bca5df5ac",
   "metadata": {},
   "outputs": [],
   "source": [
    "def NormalizeAdj(adj):\n",
    "    adj = adj + np.eye(adj.shape[0])\n",
    "    d = sp.diags(np.power(np.array(adj.sum(1)), -0.5).flatten(), 0).toarray()\n",
    "    a_norm = adj.dot(d).transpose().dot(d)\n",
    "    return a_norm"
   ]
  },
  {
   "cell_type": "code",
   "execution_count": null,
   "id": "2855c6e4-92b2-4dfc-b81d-1aae7ef46192",
   "metadata": {},
   "outputs": [],
   "source": [
    "import scipy.sparse as sp"
   ]
  },
  {
   "cell_type": "code",
   "execution_count": null,
   "id": "c091ab77-fe5b-4f41-80c7-9f4e5af94302",
   "metadata": {},
   "outputs": [],
   "source": [
    "ppi_adj = CelllineGraphAdjNorm(ppi_adj_info,common_genes)"
   ]
  },
  {
   "cell_type": "code",
   "execution_count": null,
   "id": "06b66e4c-ece7-40d6-b2d3-bf186c580ebd",
   "metadata": {},
   "outputs": [],
   "source": [
    "ppi_adj = np.expand_dims(ppi_adj,0)"
   ]
  },
  {
   "cell_type": "code",
   "execution_count": null,
   "id": "9c523c6b-8a36-468a-966b-4bd5be2566d2",
   "metadata": {},
   "outputs": [],
   "source": [
    "omics_gen_copy_number_gen_expr_train_new = (ppi_adj@omics_gen_copy_number_gen_expr_train)\n",
    "omics_gen_copy_number_gen_expr_valid_new = (ppi_adj@omics_gen_copy_number_gen_expr_valid)"
   ]
  },
  {
   "cell_type": "code",
   "execution_count": null,
   "id": "09b74033-ce1b-4886-afe8-1fc84eaaefec",
   "metadata": {},
   "outputs": [],
   "source": [
    "copy_number_train = omics_gen_copy_number_gen_expr_train_new[:,:,0:1]\n",
    "copy_number_valid = omics_gen_copy_number_gen_expr_valid_new[:,:,0:1]"
   ]
  },
  {
   "cell_type": "code",
   "execution_count": null,
   "id": "62214add-cba7-4ef8-8351-26b8883f2129",
   "metadata": {},
   "outputs": [],
   "source": [
    "gene_expr_train = omics_gen_copy_number_gen_expr_train_new[:,:,1:2]\n",
    "gene_expr_valid = omics_gen_copy_number_gen_expr_valid_new[:,:,1:2]"
   ]
  },
  {
   "cell_type": "code",
   "execution_count": null,
   "id": "e0b5599d-402e-493e-8e3a-fc9ca0492aaf",
   "metadata": {},
   "outputs": [],
   "source": [
    "valid_items = [[ valid_gcn_feats, valid_adj_list,\n",
    "                           copy_number_valid, gene_expr_valid,\n",
    "                           omics_gen_methyl_valid, omics_gen_mut_valid], y_valid]"
   ]
  },
  {
   "cell_type": "code",
   "execution_count": null,
   "id": "bdd33edb-ddd7-40c5-a2de-b1636bac80a3",
   "metadata": {},
   "outputs": [],
   "source": [
    "# import the existing trained model\n",
    "simpleGCN_original_model = tf.keras.models.load_model(\"models//simple_gcn_new_splits\")"
   ]
  },
  {
   "cell_type": "code",
   "execution_count": null,
   "id": "fead2806-bbcb-467b-896e-bf90b2703c16",
   "metadata": {},
   "outputs": [],
   "source": [
    "simpleGCN_original_model.summary()"
   ]
  },
  {
   "cell_type": "code",
   "execution_count": null,
   "id": "e1161655-b795-446a-a156-d021c232c8ea",
   "metadata": {},
   "outputs": [],
   "source": [
    "# get the layer before the last layer\n",
    "before_pred = simpleGCN_original_model.layers[-2].output"
   ]
  },
  {
   "cell_type": "code",
   "execution_count": null,
   "id": "9e2775c7-7cc3-4d79-b41c-1f58bf74f621",
   "metadata": {},
   "outputs": [],
   "source": [
    "# add the prediction layer\n",
    "pred_layer = tf.keras.layers.Dense(1, name = 'last_dense')\n",
    "pred_out = pred_layer(before_pred)"
   ]
  },
  {
   "cell_type": "code",
   "execution_count": null,
   "id": "7e099193-d483-4379-afc4-18040fb2611a",
   "metadata": {},
   "outputs": [],
   "source": [
    "new_gcn_model = tf.keras.models.Model(inputs = [simpleGCN_original_model.input], outputs = [pred_out])"
   ]
  },
  {
   "cell_type": "code",
   "execution_count": null,
   "id": "88a54b2b-cdaf-407a-a2f3-ce34cf4ad030",
   "metadata": {},
   "outputs": [],
   "source": [
    "new_gcn_model.summary()"
   ]
  },
  {
   "cell_type": "code",
   "execution_count": null,
   "id": "e83ba73d-bc93-4d35-948a-3b99fa03ba78",
   "metadata": {},
   "outputs": [],
   "source": [
    "new_gcn_model.compile(loss = tf.keras.losses.MeanSquaredError(), \n",
    "                    optimizer = tf.keras.optimizers.Adam(lr=0.001, beta_1=0.9, beta_2=0.999, epsilon=None, decay=0.0, amsgrad=False), \n",
    "                    metrics = [tf.keras.metrics.RootMeanSquaredError()])"
   ]
  },
  {
   "cell_type": "code",
   "execution_count": null,
   "id": "f5dfbf6f-3b54-4faf-8185-50818d58df7c",
   "metadata": {},
   "outputs": [],
   "source": [
    "# First the data - let's use a train set of 6k - then the rest will be test here (from the remaining values, use 3k for training the stacker, 1k for validation of it, and the rest ~7k as the final test data). \n",
    "# drug feats\n",
    "new_train_gcn_feats = valid_gcn_feats[:10000, :,:]\n",
    "new_test_gcn_feats = valid_gcn_feats[10000:, :,:]\n",
    "print(new_train_gcn_feats.shape, new_test_gcn_feats.shape)\n",
    "\n",
    "# drug adj info\n",
    "new_train_adj_list = valid_adj_list[:10000, :,:]\n",
    "new_test_adj_list = valid_adj_list[10000:, :,:]\n",
    "print(new_train_adj_list.shape, new_test_adj_list.shape)\n",
    "\n",
    "# cnv\n",
    "new_omics_cna_train = copy_number_valid[:10000, :]\n",
    "new_omics_cna_test = copy_number_valid[10000:,:]\n",
    "print(new_omics_cna_train.shape, new_omics_cna_test.shape)\n",
    "\n",
    "# expression\n",
    "new_omics_expr_train = gene_expr_valid[:10000, :]\n",
    "new_omics_expr_test = gene_expr_valid[10000:,:]\n",
    "print(new_omics_cna_train.shape, new_omics_cna_test.shape)\n",
    "\n",
    "# y\n",
    "new_y_train = y_valid[:10000,]\n",
    "new_y_test = y_valid[10000:,]\n",
    "print(new_y_train.shape, new_y_test.shape)"
   ]
  },
  {
   "cell_type": "code",
   "execution_count": null,
   "id": "ebff6df3-7a4a-4fe9-870e-45bab44001ff",
   "metadata": {},
   "outputs": [],
   "source": [
    "%%time\n",
    "history = new_gcn_model.fit([new_train_gcn_feats, new_train_adj_list, new_omics_cna_train, new_omics_expr_train], new_y_train, \n",
    "                         \n",
    "          batch_size = 64, epochs = 1000, verbose = 1,\n",
    "                         \n",
    "          validation_split = 0.1,\n",
    "                         \n",
    "\n",
    "        callbacks = tf.keras.callbacks.EarlyStopping(monitor = \"val_loss\", patience = 20, restore_best_weights=True,\n",
    "                                                       mode = \"min\"), \n",
    "         validation_batch_size = 512, shuffle = True)"
   ]
  },
  {
   "cell_type": "code",
   "execution_count": null,
   "id": "163c3816-113b-4011-bc7e-9d312f422388",
   "metadata": {},
   "outputs": [],
   "source": [
    "new_gcn_model.save(\"models//gcn_all_feats_new_splits\")"
   ]
  },
  {
   "cell_type": "code",
   "execution_count": null,
   "id": "67999a1b-c3c2-4a5b-8a99-9609a208c7a4",
   "metadata": {},
   "outputs": [],
   "source": [
    "val_preds = new_gcn_model.predict([new_test_gcn_feats, new_test_adj_list, new_omics_cna_test ,new_omics_expr_test])"
   ]
  },
  {
   "cell_type": "code",
   "execution_count": null,
   "id": "6d663744-fb94-4e9d-88f3-3374407476dc",
   "metadata": {},
   "outputs": [],
   "source": [
    "preds_data = pd.DataFrame(np.hstack((new_y_test.reshape(-1,1), val_preds)), columns = ['True_y', 'Predicted_y_gcn'])"
   ]
  },
  {
   "cell_type": "code",
   "execution_count": null,
   "id": "61099e76-7e23-4552-add3-50e838e5d751",
   "metadata": {},
   "outputs": [],
   "source": [
    "preds_data.to_csv(\"data/gcn_all_feats_data_new_split.csv\", index = False)"
   ]
  }
 ],
 "metadata": {
  "kernelspec": {
   "display_name": "Python (tf_env1)",
   "language": "python",
   "name": "tf_env1"
  },
  "language_info": {
   "codemirror_mode": {
    "name": "ipython",
    "version": 3
   },
   "file_extension": ".py",
   "mimetype": "text/x-python",
   "name": "python",
   "nbconvert_exporter": "python",
   "pygments_lexer": "ipython3",
   "version": "3.9.15"
  }
 },
 "nbformat": 4,
 "nbformat_minor": 5
}
