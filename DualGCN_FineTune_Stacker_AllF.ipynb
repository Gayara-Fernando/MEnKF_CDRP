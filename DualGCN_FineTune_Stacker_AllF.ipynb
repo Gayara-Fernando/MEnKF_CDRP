{
 "cells": [
  {
   "cell_type": "code",
   "execution_count": 1,
   "id": "d79c4d60-25e3-41cb-b814-ef360e2fee9e",
   "metadata": {},
   "outputs": [
    {
     "name": "stderr",
     "output_type": "stream",
     "text": [
      "2024-08-14 10:41:46.299119: I tensorflow/core/util/port.cc:113] oneDNN custom operations are on. You may see slightly different numerical results due to floating-point round-off errors from different computation orders. To turn them off, set the environment variable `TF_ENABLE_ONEDNN_OPTS=0`.\n",
      "2024-08-14 10:41:46.572758: E external/local_xla/xla/stream_executor/cuda/cuda_dnn.cc:9261] Unable to register cuDNN factory: Attempting to register factory for plugin cuDNN when one has already been registered\n",
      "2024-08-14 10:41:46.572815: E external/local_xla/xla/stream_executor/cuda/cuda_fft.cc:607] Unable to register cuFFT factory: Attempting to register factory for plugin cuFFT when one has already been registered\n",
      "2024-08-14 10:41:46.627550: E external/local_xla/xla/stream_executor/cuda/cuda_blas.cc:1515] Unable to register cuBLAS factory: Attempting to register factory for plugin cuBLAS when one has already been registered\n",
      "2024-08-14 10:41:46.719369: I tensorflow/core/platform/cpu_feature_guard.cc:182] This TensorFlow binary is optimized to use available CPU instructions in performance-critical operations.\n",
      "To enable the following instructions: SSE4.1 SSE4.2 AVX AVX2 AVX512F AVX512_VNNI FMA, in other operations, rebuild TensorFlow with the appropriate compiler flags.\n"
     ]
    }
   ],
   "source": [
    "import pandas as pd\n",
    "import tensorflow as tf\n",
    "import tensorflow_probability as tfp\n",
    "from tensorflow import keras\n",
    "from tensorflow.python.keras import backend as K\n",
    "from tensorflow.python.ops import array_ops\n",
    "from tensorflow.python.ops import math_ops\n",
    "import random\n",
    "import pickle\n",
    "import numpy as np\n",
    "from sklearn.preprocessing import StandardScaler\n",
    "from sklearn.model_selection import train_test_split"
   ]
  },
  {
   "cell_type": "code",
   "execution_count": 2,
   "id": "06020fb9-0d23-4866-8a4b-d13beac7044f",
   "metadata": {},
   "outputs": [],
   "source": [
    "drugs_cell_lines_ic50_df = pd.read_csv(\"..//data//drugs_cell_lines_ic50.csv\")"
   ]
  },
  {
   "cell_type": "code",
   "execution_count": 3,
   "id": "ef3c56b4-0691-4fb7-8d8d-e4637957e91a",
   "metadata": {},
   "outputs": [
    {
     "data": {
      "text/html": [
       "<div>\n",
       "<style scoped>\n",
       "    .dataframe tbody tr th:only-of-type {\n",
       "        vertical-align: middle;\n",
       "    }\n",
       "\n",
       "    .dataframe tbody tr th {\n",
       "        vertical-align: top;\n",
       "    }\n",
       "\n",
       "    .dataframe thead th {\n",
       "        text-align: right;\n",
       "    }\n",
       "</style>\n",
       "<table border=\"1\" class=\"dataframe\">\n",
       "  <thead>\n",
       "    <tr style=\"text-align: right;\">\n",
       "      <th></th>\n",
       "      <th>drug_id</th>\n",
       "      <th>Cancer_Cell_Line</th>\n",
       "      <th>IC50</th>\n",
       "    </tr>\n",
       "  </thead>\n",
       "  <tbody>\n",
       "    <tr>\n",
       "      <th>0</th>\n",
       "      <td>1001</td>\n",
       "      <td>ACH-002137</td>\n",
       "      <td>7.258918</td>\n",
       "    </tr>\n",
       "    <tr>\n",
       "      <th>1</th>\n",
       "      <td>1004</td>\n",
       "      <td>ACH-002137</td>\n",
       "      <td>-3.802467</td>\n",
       "    </tr>\n",
       "    <tr>\n",
       "      <th>2</th>\n",
       "      <td>1005</td>\n",
       "      <td>ACH-002137</td>\n",
       "      <td>4.146364</td>\n",
       "    </tr>\n",
       "    <tr>\n",
       "      <th>3</th>\n",
       "      <td>1006</td>\n",
       "      <td>ACH-002137</td>\n",
       "      <td>3.171367</td>\n",
       "    </tr>\n",
       "    <tr>\n",
       "      <th>4</th>\n",
       "      <td>1007</td>\n",
       "      <td>ACH-002137</td>\n",
       "      <td>-4.959442</td>\n",
       "    </tr>\n",
       "  </tbody>\n",
       "</table>\n",
       "</div>"
      ],
      "text/plain": [
       "   drug_id Cancer_Cell_Line      IC50\n",
       "0     1001       ACH-002137  7.258918\n",
       "1     1004       ACH-002137 -3.802467\n",
       "2     1005       ACH-002137  4.146364\n",
       "3     1006       ACH-002137  3.171367\n",
       "4     1007       ACH-002137 -4.959442"
      ]
     },
     "execution_count": 3,
     "metadata": {},
     "output_type": "execute_result"
    }
   ],
   "source": [
    "drugs_cell_lines_ic50_df.head()"
   ]
  },
  {
   "cell_type": "code",
   "execution_count": 4,
   "id": "1660298b-b5ce-4cff-bd71-86f7dc9222f5",
   "metadata": {},
   "outputs": [],
   "source": [
    "pubchem_drugs_smiles_df = pd.read_csv('..//data//drugs_smile_strings.csv')"
   ]
  },
  {
   "cell_type": "code",
   "execution_count": 5,
   "id": "d3b2a897-77be-420b-bd26-ab84d56a2ff3",
   "metadata": {},
   "outputs": [],
   "source": [
    "drugs_smiles_cell_lines_ic50_df = pd.merge(drugs_cell_lines_ic50_df, pubchem_drugs_smiles_df, \n",
    "                                             on = \"drug_id\")"
   ]
  },
  {
   "cell_type": "code",
   "execution_count": 6,
   "id": "c9c0eda5-75c5-45e4-b48b-7f90b38da4d8",
   "metadata": {},
   "outputs": [],
   "source": [
    "drugs_smiles_cell_lines_ic50_df = drugs_smiles_cell_lines_ic50_df[[\"drug_id\", \"Cancer_Cell_Line\", \"Smiles\", \"IC50\"]]"
   ]
  },
  {
   "cell_type": "code",
   "execution_count": 7,
   "id": "4255a229-bb41-4ffe-abef-e6d466e1c00b",
   "metadata": {},
   "outputs": [
    {
     "data": {
      "text/plain": [
       "drug_id               int64\n",
       "Cancer_Cell_Line     object\n",
       "Smiles               object\n",
       "IC50                float64\n",
       "dtype: object"
      ]
     },
     "execution_count": 7,
     "metadata": {},
     "output_type": "execute_result"
    }
   ],
   "source": [
    "drugs_smiles_cell_lines_ic50_df.dtypes"
   ]
  },
  {
   "cell_type": "code",
   "execution_count": 8,
   "id": "b8f12d16-3e37-4c9a-aabb-51e6ceb99a00",
   "metadata": {},
   "outputs": [],
   "source": [
    "drugs_smiles_cell_lines_ic50_df[\"drug_id\"] = drugs_smiles_cell_lines_ic50_df[\"drug_id\"].astype(object)"
   ]
  },
  {
   "cell_type": "code",
   "execution_count": 9,
   "id": "1318885c-6fc2-4ee6-a74d-0a8337307777",
   "metadata": {},
   "outputs": [],
   "source": [
    "with open(\"..//data//drug_gcn_features.pickle\", \"rb\") as f:\n",
    "    dict_features = pickle.load(f)"
   ]
  },
  {
   "cell_type": "code",
   "execution_count": 10,
   "id": "46e0e644-213c-4bc6-8dde-78b3bd5638bb",
   "metadata": {},
   "outputs": [],
   "source": [
    "with open(\"..//data//drug_gcn_normalized_adj_mats.pickle\", \"rb\") as f:\n",
    "    dict_normalized_adj_mats = pickle.load(f)"
   ]
  },
  {
   "cell_type": "code",
   "execution_count": 11,
   "id": "bfadc255-519f-4d0f-83c5-49277a277209",
   "metadata": {},
   "outputs": [],
   "source": [
    "dualgcn_train = pd.read_csv(\"..//data//DualGCN_Embedding_train.csv\")"
   ]
  },
  {
   "cell_type": "code",
   "execution_count": 12,
   "id": "7e62a800-6f13-4a2f-965d-62d34061612d",
   "metadata": {},
   "outputs": [],
   "source": [
    "dualgcn_test = pd.read_csv(\"..//data//DualGCN_Embedding_test.csv\")"
   ]
  },
  {
   "cell_type": "code",
   "execution_count": 13,
   "id": "5bd3f846-d0c4-4c92-b2af-1836b2cdf13b",
   "metadata": {},
   "outputs": [],
   "source": [
    "pubchem_to_drugs_df = pd.read_csv('..//data//1.Drug_listMon Jun 24 09_00_55 2019.csv')"
   ]
  },
  {
   "cell_type": "code",
   "execution_count": 14,
   "id": "2a664d12-9cd8-4aa0-bc4a-d3c3fc83b389",
   "metadata": {},
   "outputs": [
    {
     "data": {
      "text/html": [
       "<div>\n",
       "<style scoped>\n",
       "    .dataframe tbody tr th:only-of-type {\n",
       "        vertical-align: middle;\n",
       "    }\n",
       "\n",
       "    .dataframe tbody tr th {\n",
       "        vertical-align: top;\n",
       "    }\n",
       "\n",
       "    .dataframe thead th {\n",
       "        text-align: right;\n",
       "    }\n",
       "</style>\n",
       "<table border=\"1\" class=\"dataframe\">\n",
       "  <thead>\n",
       "    <tr style=\"text-align: right;\">\n",
       "      <th></th>\n",
       "      <th>drug_id</th>\n",
       "      <th>Name</th>\n",
       "      <th>Synonyms</th>\n",
       "      <th>Targets</th>\n",
       "      <th>Target pathway</th>\n",
       "      <th>PubCHEM</th>\n",
       "      <th>Sample Size</th>\n",
       "      <th>Count</th>\n",
       "    </tr>\n",
       "  </thead>\n",
       "  <tbody>\n",
       "    <tr>\n",
       "      <th>0</th>\n",
       "      <td>1242</td>\n",
       "      <td>(5Z)-7-Oxozeaenol</td>\n",
       "      <td>5Z-7-Oxozeaenol, LL-Z1640-2</td>\n",
       "      <td>TAK1</td>\n",
       "      <td>Other, kinases</td>\n",
       "      <td>9863776</td>\n",
       "      <td>945</td>\n",
       "      <td>266</td>\n",
       "    </tr>\n",
       "    <tr>\n",
       "      <th>1</th>\n",
       "      <td>179</td>\n",
       "      <td>5-Fluorouracil</td>\n",
       "      <td>5-FU</td>\n",
       "      <td>Antimetabolite (DNA &amp; RNA)</td>\n",
       "      <td>Other</td>\n",
       "      <td>3385</td>\n",
       "      <td>968</td>\n",
       "      <td>266</td>\n",
       "    </tr>\n",
       "    <tr>\n",
       "      <th>2</th>\n",
       "      <td>86</td>\n",
       "      <td>A-443654</td>\n",
       "      <td>KIN001-139</td>\n",
       "      <td>AKT1, AKT2, AKT3</td>\n",
       "      <td>PI3K/MTOR signaling</td>\n",
       "      <td>10172943</td>\n",
       "      <td>425</td>\n",
       "      <td>266</td>\n",
       "    </tr>\n",
       "    <tr>\n",
       "      <th>3</th>\n",
       "      <td>55</td>\n",
       "      <td>A-770041</td>\n",
       "      <td>KIN001-111</td>\n",
       "      <td>LCK, FYN</td>\n",
       "      <td>Other, kinases</td>\n",
       "      <td>9549184</td>\n",
       "      <td>426</td>\n",
       "      <td>266</td>\n",
       "    </tr>\n",
       "    <tr>\n",
       "      <th>4</th>\n",
       "      <td>1001</td>\n",
       "      <td>AICA Ribonucleotide</td>\n",
       "      <td>AICAR, N1-(b-D-Ribofuranosyl)-5-aminoimidazole...</td>\n",
       "      <td>AMPK agonist</td>\n",
       "      <td>Metabolism</td>\n",
       "      <td>65110</td>\n",
       "      <td>872</td>\n",
       "      <td>266</td>\n",
       "    </tr>\n",
       "  </tbody>\n",
       "</table>\n",
       "</div>"
      ],
      "text/plain": [
       "   drug_id                 Name  \\\n",
       "0     1242    (5Z)-7-Oxozeaenol   \n",
       "1      179       5-Fluorouracil   \n",
       "2       86             A-443654   \n",
       "3       55             A-770041   \n",
       "4     1001  AICA Ribonucleotide   \n",
       "\n",
       "                                            Synonyms  \\\n",
       "0                        5Z-7-Oxozeaenol, LL-Z1640-2   \n",
       "1                                               5-FU   \n",
       "2                                         KIN001-139   \n",
       "3                                         KIN001-111   \n",
       "4  AICAR, N1-(b-D-Ribofuranosyl)-5-aminoimidazole...   \n",
       "\n",
       "                      Targets       Target pathway   PubCHEM  Sample Size  \\\n",
       "0                        TAK1       Other, kinases   9863776          945   \n",
       "1  Antimetabolite (DNA & RNA)                Other      3385          968   \n",
       "2            AKT1, AKT2, AKT3  PI3K/MTOR signaling  10172943          425   \n",
       "3                    LCK, FYN       Other, kinases   9549184          426   \n",
       "4                AMPK agonist           Metabolism     65110          872   \n",
       "\n",
       "   Count  \n",
       "0    266  \n",
       "1    266  \n",
       "2    266  \n",
       "3    266  \n",
       "4    266  "
      ]
     },
     "execution_count": 14,
     "metadata": {},
     "output_type": "execute_result"
    }
   ],
   "source": [
    "pubchem_to_drugs_df.head()"
   ]
  },
  {
   "cell_type": "code",
   "execution_count": 15,
   "id": "4c1cabed-895b-4a33-9478-9c414246d9d6",
   "metadata": {},
   "outputs": [],
   "source": [
    "pubchem_to_drugs_df = pubchem_to_drugs_df[[\"drug_id\", \"PubCHEM\"]]"
   ]
  },
  {
   "cell_type": "code",
   "execution_count": 16,
   "id": "06050248-be5d-4413-a9f6-afba9c6dc1da",
   "metadata": {},
   "outputs": [
    {
     "data": {
      "text/plain": [
       "drug_id     int64\n",
       "PubCHEM    object\n",
       "dtype: object"
      ]
     },
     "execution_count": 16,
     "metadata": {},
     "output_type": "execute_result"
    }
   ],
   "source": [
    "pubchem_to_drugs_df.dtypes"
   ]
  },
  {
   "cell_type": "code",
   "execution_count": 17,
   "id": "226a6b4e-ddb7-4f0a-8e24-25fe64de8992",
   "metadata": {},
   "outputs": [],
   "source": [
    "pubchem_to_drugs_df[\"PubCHEM\"] = [val if str(val).isdigit() else np.nan for val in pubchem_to_drugs_df[\"PubCHEM\"] ]"
   ]
  },
  {
   "cell_type": "code",
   "execution_count": 18,
   "id": "49920b0c-24e4-4900-b65c-238b7918cb9f",
   "metadata": {},
   "outputs": [],
   "source": [
    "pubchem_to_drugs_df = pubchem_to_drugs_df.dropna()"
   ]
  },
  {
   "cell_type": "code",
   "execution_count": 19,
   "id": "7691b28b-0ae2-4ed4-8e16-54ff384b9dee",
   "metadata": {},
   "outputs": [
    {
     "data": {
      "text/plain": [
       "drug_id     int64\n",
       "PubCHEM    object\n",
       "dtype: object"
      ]
     },
     "execution_count": 19,
     "metadata": {},
     "output_type": "execute_result"
    }
   ],
   "source": [
    "pubchem_to_drugs_df.dtypes"
   ]
  },
  {
   "cell_type": "code",
   "execution_count": 20,
   "id": "6462ade0-cd2d-491d-be8a-aa0e7ddd3863",
   "metadata": {},
   "outputs": [],
   "source": [
    "pubchem_to_drugs_df[\"drug_id\"] = pubchem_to_drugs_df[\"drug_id\"].astype(str)"
   ]
  },
  {
   "cell_type": "code",
   "execution_count": 21,
   "id": "3286fd91-f6df-49fc-8d72-5e493f31d0ae",
   "metadata": {},
   "outputs": [],
   "source": [
    "x_train, x_valid, y_train, y_valid = train_test_split(drugs_smiles_cell_lines_ic50_df.drop([\"IC50\"],axis = 1), drugs_smiles_cell_lines_ic50_df[\"IC50\"].values, \n",
    "                                                     test_size = 0.20, random_state = 42)"
   ]
  },
  {
   "cell_type": "code",
   "execution_count": 22,
   "id": "1b1ddb77-6e32-4225-96ba-cce23480ab1b",
   "metadata": {},
   "outputs": [],
   "source": [
    "dualgcn_train[\"Drug_ID\"] = dualgcn_train[\"Drug_ID\"].astype(str)"
   ]
  },
  {
   "cell_type": "code",
   "execution_count": 23,
   "id": "5d534def-d5c7-4b2c-a3ee-f4c5c43650c2",
   "metadata": {},
   "outputs": [],
   "source": [
    "dualgcn_test[\"Drug_ID\"] = dualgcn_test[\"Drug_ID\"].astype(str)"
   ]
  },
  {
   "cell_type": "code",
   "execution_count": 24,
   "id": "5a7161ee-e146-4c38-a8b8-66369327384f",
   "metadata": {},
   "outputs": [
    {
     "data": {
      "text/plain": [
       "drug_id    object\n",
       "PubCHEM    object\n",
       "dtype: object"
      ]
     },
     "execution_count": 24,
     "metadata": {},
     "output_type": "execute_result"
    }
   ],
   "source": [
    "pubchem_to_drugs_df.dtypes"
   ]
  },
  {
   "cell_type": "code",
   "execution_count": 25,
   "id": "26536155-5c48-4960-bff8-21c5ec06bab2",
   "metadata": {},
   "outputs": [],
   "source": [
    "dualgcn_train = pubchem_to_drugs_df.merge(dualgcn_train, left_on = [\"PubCHEM\"], right_on = [\"Drug_ID\"])"
   ]
  },
  {
   "cell_type": "code",
   "execution_count": 26,
   "id": "2bc82e0e-8eff-4ca1-bf75-b7a7a9b129e0",
   "metadata": {},
   "outputs": [],
   "source": [
    "dualgcn_train = dualgcn_train[['Cell_Line', 'drug_id']]"
   ]
  },
  {
   "cell_type": "code",
   "execution_count": 27,
   "id": "eae9ef05-6e1c-4aaa-bf6b-940d92f46ffb",
   "metadata": {},
   "outputs": [],
   "source": [
    "dualgcn_test = pubchem_to_drugs_df.merge(dualgcn_test, left_on = [\"PubCHEM\"], right_on = [\"Drug_ID\"])"
   ]
  },
  {
   "cell_type": "code",
   "execution_count": 28,
   "id": "f30684d3-1a27-4d66-8fc4-f84310a30d70",
   "metadata": {},
   "outputs": [],
   "source": [
    "dualgcn_test = dualgcn_test[['Cell_Line', 'drug_id']]"
   ]
  },
  {
   "cell_type": "code",
   "execution_count": 29,
   "id": "f0542289-770e-4e4b-b664-92e4bc29cfc0",
   "metadata": {},
   "outputs": [
    {
     "data": {
      "text/plain": [
       "Cell_Line    object\n",
       "drug_id      object\n",
       "dtype: object"
      ]
     },
     "execution_count": 29,
     "metadata": {},
     "output_type": "execute_result"
    }
   ],
   "source": [
    "dualgcn_train.dtypes"
   ]
  },
  {
   "cell_type": "code",
   "execution_count": 30,
   "id": "1c63ae0c-24be-4d2e-91d5-6e2616980c51",
   "metadata": {},
   "outputs": [
    {
     "data": {
      "text/plain": [
       "drug_id             object\n",
       "Cancer_Cell_Line    object\n",
       "Smiles              object\n",
       "dtype: object"
      ]
     },
     "execution_count": 30,
     "metadata": {},
     "output_type": "execute_result"
    }
   ],
   "source": [
    "x_train.dtypes"
   ]
  },
  {
   "cell_type": "code",
   "execution_count": 31,
   "id": "76078299-ae77-4b6b-99bf-c8d04c0d8d89",
   "metadata": {},
   "outputs": [],
   "source": [
    "x_train['drug_id'] = x_train['drug_id'].astype(str)"
   ]
  },
  {
   "cell_type": "code",
   "execution_count": 32,
   "id": "5c693879-9d22-426a-973c-10f2428782e8",
   "metadata": {},
   "outputs": [],
   "source": [
    "x_valid['drug_id'] = x_valid['drug_id'].astype(str)"
   ]
  },
  {
   "cell_type": "code",
   "execution_count": 33,
   "id": "bc17185f-ea74-4d95-8e77-549522dc6d9d",
   "metadata": {},
   "outputs": [],
   "source": [
    "x_train_valid_feats = pd.concat([x_train, x_valid], ignore_index = True)"
   ]
  },
  {
   "cell_type": "code",
   "execution_count": 34,
   "id": "3dd68714-74df-4643-9b6a-554e0db5884e",
   "metadata": {},
   "outputs": [],
   "source": [
    "y_train_valid = pd.concat([pd.DataFrame(y_train.reshape(-1,1)), pd.DataFrame(y_valid.reshape(-1,1))], ignore_index = True)"
   ]
  },
  {
   "cell_type": "code",
   "execution_count": 35,
   "id": "e5bdf3b9-9644-4f7a-a2d3-825b184a4671",
   "metadata": {},
   "outputs": [],
   "source": [
    "combo_train_valid = pd.concat([x_train_valid_feats, y_train_valid], axis = 1)"
   ]
  },
  {
   "cell_type": "code",
   "execution_count": 36,
   "id": "cd487c80-f100-47d8-91b4-704bc01aa318",
   "metadata": {},
   "outputs": [
    {
     "data": {
      "text/html": [
       "<div>\n",
       "<style scoped>\n",
       "    .dataframe tbody tr th:only-of-type {\n",
       "        vertical-align: middle;\n",
       "    }\n",
       "\n",
       "    .dataframe tbody tr th {\n",
       "        vertical-align: top;\n",
       "    }\n",
       "\n",
       "    .dataframe thead th {\n",
       "        text-align: right;\n",
       "    }\n",
       "</style>\n",
       "<table border=\"1\" class=\"dataframe\">\n",
       "  <thead>\n",
       "    <tr style=\"text-align: right;\">\n",
       "      <th></th>\n",
       "      <th>drug_id</th>\n",
       "      <th>Cancer_Cell_Line</th>\n",
       "      <th>Smiles</th>\n",
       "      <th>0</th>\n",
       "    </tr>\n",
       "  </thead>\n",
       "  <tbody>\n",
       "    <tr>\n",
       "      <th>0</th>\n",
       "      <td>1030</td>\n",
       "      <td>ACH-000295</td>\n",
       "      <td>O=c1cc(-c2cccc3c2Sc2ccccc2S3)oc(N2CCOCC2)c1</td>\n",
       "      <td>3.143044</td>\n",
       "    </tr>\n",
       "    <tr>\n",
       "      <th>1</th>\n",
       "      <td>203</td>\n",
       "      <td>ACH-000292</td>\n",
       "      <td>Cc1ccc2nc(NCCN)c3ncc(C)n3c2c1</td>\n",
       "      <td>2.772620</td>\n",
       "    </tr>\n",
       "    <tr>\n",
       "      <th>2</th>\n",
       "      <td>1072</td>\n",
       "      <td>ACH-002273</td>\n",
       "      <td>NC(=O)C(CCC(F)(F)F)N(Cc1ccc(-c2ncon2)cc1F)S(=O...</td>\n",
       "      <td>3.809977</td>\n",
       "    </tr>\n",
       "    <tr>\n",
       "      <th>3</th>\n",
       "      <td>150</td>\n",
       "      <td>ACH-000631</td>\n",
       "      <td>CC(O)(CS(=O)(=O)c1ccc(F)cc1)C(=O)Nc1ccc(C#N)c(...</td>\n",
       "      <td>3.053030</td>\n",
       "    </tr>\n",
       "    <tr>\n",
       "      <th>4</th>\n",
       "      <td>282</td>\n",
       "      <td>ACH-000270</td>\n",
       "      <td>CCOc1cc2ncc(C#N)c(Nc3ccc(F)c(Cl)c3)c2cc1NC(=O)...</td>\n",
       "      <td>-0.367467</td>\n",
       "    </tr>\n",
       "  </tbody>\n",
       "</table>\n",
       "</div>"
      ],
      "text/plain": [
       "  drug_id Cancer_Cell_Line                                             Smiles  \\\n",
       "0    1030       ACH-000295        O=c1cc(-c2cccc3c2Sc2ccccc2S3)oc(N2CCOCC2)c1   \n",
       "1     203       ACH-000292                      Cc1ccc2nc(NCCN)c3ncc(C)n3c2c1   \n",
       "2    1072       ACH-002273  NC(=O)C(CCC(F)(F)F)N(Cc1ccc(-c2ncon2)cc1F)S(=O...   \n",
       "3     150       ACH-000631  CC(O)(CS(=O)(=O)c1ccc(F)cc1)C(=O)Nc1ccc(C#N)c(...   \n",
       "4     282       ACH-000270  CCOc1cc2ncc(C#N)c(Nc3ccc(F)c(Cl)c3)c2cc1NC(=O)...   \n",
       "\n",
       "          0  \n",
       "0  3.143044  \n",
       "1  2.772620  \n",
       "2  3.809977  \n",
       "3  3.053030  \n",
       "4 -0.367467  "
      ]
     },
     "execution_count": 36,
     "metadata": {},
     "output_type": "execute_result"
    }
   ],
   "source": [
    "combo_train_valid.head()"
   ]
  },
  {
   "cell_type": "code",
   "execution_count": 37,
   "id": "b9de540d-bb4c-48e1-bcbe-b07df1a2c7f7",
   "metadata": {},
   "outputs": [],
   "source": [
    "combo_train_valid.columns = ['drug_id', 'Cancer_Cell_Line', 'Smiles', 'IC50']"
   ]
  },
  {
   "cell_type": "code",
   "execution_count": 38,
   "id": "6ad83127-f200-4ea3-8405-e3ec9e599ec1",
   "metadata": {},
   "outputs": [],
   "source": [
    "# filter x_train x _valid here\n",
    "x_y_train = combo_train_valid.merge(dualgcn_train, left_on = ['Cancer_Cell_Line','drug_id'], right_on = [ 'Cell_Line','drug_id'])"
   ]
  },
  {
   "cell_type": "code",
   "execution_count": 39,
   "id": "3e687f3f-bba1-4fa6-9687-96f998938f34",
   "metadata": {},
   "outputs": [
    {
     "data": {
      "text/html": [
       "<div>\n",
       "<style scoped>\n",
       "    .dataframe tbody tr th:only-of-type {\n",
       "        vertical-align: middle;\n",
       "    }\n",
       "\n",
       "    .dataframe tbody tr th {\n",
       "        vertical-align: top;\n",
       "    }\n",
       "\n",
       "    .dataframe thead th {\n",
       "        text-align: right;\n",
       "    }\n",
       "</style>\n",
       "<table border=\"1\" class=\"dataframe\">\n",
       "  <thead>\n",
       "    <tr style=\"text-align: right;\">\n",
       "      <th></th>\n",
       "      <th>drug_id</th>\n",
       "      <th>Cancer_Cell_Line</th>\n",
       "      <th>Smiles</th>\n",
       "      <th>IC50</th>\n",
       "      <th>Cell_Line</th>\n",
       "    </tr>\n",
       "  </thead>\n",
       "  <tbody>\n",
       "    <tr>\n",
       "      <th>0</th>\n",
       "      <td>203</td>\n",
       "      <td>ACH-000292</td>\n",
       "      <td>Cc1ccc2nc(NCCN)c3ncc(C)n3c2c1</td>\n",
       "      <td>2.772620</td>\n",
       "      <td>ACH-000292</td>\n",
       "    </tr>\n",
       "    <tr>\n",
       "      <th>1</th>\n",
       "      <td>282</td>\n",
       "      <td>ACH-000270</td>\n",
       "      <td>CCOc1cc2ncc(C#N)c(Nc3ccc(F)c(Cl)c3)c2cc1NC(=O)...</td>\n",
       "      <td>-0.367467</td>\n",
       "      <td>ACH-000270</td>\n",
       "    </tr>\n",
       "    <tr>\n",
       "      <th>2</th>\n",
       "      <td>51</td>\n",
       "      <td>ACH-000087</td>\n",
       "      <td>Cc1nc(Nc2ncc(C(=O)Nc3c(C)cccc3Cl)s2)cc(N2CCN(C...</td>\n",
       "      <td>2.620152</td>\n",
       "      <td>ACH-000087</td>\n",
       "    </tr>\n",
       "    <tr>\n",
       "      <th>3</th>\n",
       "      <td>167</td>\n",
       "      <td>ACH-000948</td>\n",
       "      <td>NCC(=O)Nc1ccc(-n2nc(C(F)(F)F)cc2-c2ccc3c(ccc4c...</td>\n",
       "      <td>2.061684</td>\n",
       "      <td>ACH-000948</td>\n",
       "    </tr>\n",
       "    <tr>\n",
       "      <th>4</th>\n",
       "      <td>180</td>\n",
       "      <td>ACH-000971</td>\n",
       "      <td>CC=C(C)C(=O)OC1C(C)=C2C(C1OC(=O)CCCCCCC)C(C)(O...</td>\n",
       "      <td>-5.105745</td>\n",
       "      <td>ACH-000971</td>\n",
       "    </tr>\n",
       "  </tbody>\n",
       "</table>\n",
       "</div>"
      ],
      "text/plain": [
       "  drug_id Cancer_Cell_Line                                             Smiles  \\\n",
       "0     203       ACH-000292                      Cc1ccc2nc(NCCN)c3ncc(C)n3c2c1   \n",
       "1     282       ACH-000270  CCOc1cc2ncc(C#N)c(Nc3ccc(F)c(Cl)c3)c2cc1NC(=O)...   \n",
       "2      51       ACH-000087  Cc1nc(Nc2ncc(C(=O)Nc3c(C)cccc3Cl)s2)cc(N2CCN(C...   \n",
       "3     167       ACH-000948  NCC(=O)Nc1ccc(-n2nc(C(F)(F)F)cc2-c2ccc3c(ccc4c...   \n",
       "4     180       ACH-000971  CC=C(C)C(=O)OC1C(C)=C2C(C1OC(=O)CCCCCCC)C(C)(O...   \n",
       "\n",
       "       IC50   Cell_Line  \n",
       "0  2.772620  ACH-000292  \n",
       "1 -0.367467  ACH-000270  \n",
       "2  2.620152  ACH-000087  \n",
       "3  2.061684  ACH-000948  \n",
       "4 -5.105745  ACH-000971  "
      ]
     },
     "execution_count": 39,
     "metadata": {},
     "output_type": "execute_result"
    }
   ],
   "source": [
    "x_y_train.head()"
   ]
  },
  {
   "cell_type": "code",
   "execution_count": 40,
   "id": "3ff87221-d69e-4ac0-b81c-408c18e6f3eb",
   "metadata": {},
   "outputs": [],
   "source": [
    "x_y_test = combo_train_valid.merge(dualgcn_test, left_on = ['Cancer_Cell_Line','drug_id'], right_on = [ 'Cell_Line','drug_id'])"
   ]
  },
  {
   "cell_type": "code",
   "execution_count": 41,
   "id": "d526502f-cd0c-45f1-b1ac-21062fdb1ab6",
   "metadata": {},
   "outputs": [],
   "source": [
    "x_train, x_valid, y_train, y_valid = x_y_train.drop([\"IC50\", 'Cell_Line'],axis = 1), x_y_test.drop([\"IC50\", 'Cell_Line'], axis = 1), x_y_train[\"IC50\"].values, x_y_test[\"IC50\"].values"
   ]
  },
  {
   "cell_type": "code",
   "execution_count": 42,
   "id": "ee9f261d-d701-4199-be40-8a38fa5fcbae",
   "metadata": {},
   "outputs": [
    {
     "data": {
      "text/plain": [
       "(2.063824293081543, 2.8309603843576316)"
      ]
     },
     "execution_count": 42,
     "metadata": {},
     "output_type": "execute_result"
    }
   ],
   "source": [
    "np.mean(y_valid), np.std(y_valid)"
   ]
  },
  {
   "cell_type": "code",
   "execution_count": 43,
   "id": "b52c1aba-16c3-4aa0-92c2-d28f6157974c",
   "metadata": {},
   "outputs": [],
   "source": [
    "# from deepcdr train\n",
    "# (2.063824293081543, 2.8309603843576316)"
   ]
  },
  {
   "cell_type": "code",
   "execution_count": 44,
   "id": "d8e8a19c-3fc2-4c28-8a5c-5d44890baff8",
   "metadata": {},
   "outputs": [],
   "source": [
    "train_gcn_feats = []\n",
    "train_adj_list = []\n",
    "for drug_id in x_train[\"drug_id\"].values:\n",
    "    train_gcn_feats.append(dict_features[drug_id])\n",
    "    train_adj_list.append(dict_normalized_adj_mats[drug_id])"
   ]
  },
  {
   "cell_type": "code",
   "execution_count": 45,
   "id": "f18af922-6ad2-4ec9-8a06-e21dfec89e16",
   "metadata": {},
   "outputs": [],
   "source": [
    "valid_gcn_feats = []\n",
    "valid_adj_list = []\n",
    "for drug_id in x_valid[\"drug_id\"].values:\n",
    "    valid_gcn_feats.append(dict_features[drug_id])\n",
    "    valid_adj_list.append(dict_normalized_adj_mats[drug_id])"
   ]
  },
  {
   "cell_type": "code",
   "execution_count": 46,
   "id": "8727a949-fe53-4c23-a8f1-495b0575cfe7",
   "metadata": {},
   "outputs": [],
   "source": [
    "train_gcn_feats = np.array(train_gcn_feats).astype(\"float16\")\n",
    "valid_gcn_feats = np.array(valid_gcn_feats).astype(\"float16\")"
   ]
  },
  {
   "cell_type": "code",
   "execution_count": 47,
   "id": "2051e9cb-d041-4112-8155-cac3b6ef6684",
   "metadata": {},
   "outputs": [],
   "source": [
    "train_adj_list = np.array(train_adj_list).astype(\"float16\")\n",
    "valid_adj_list = np.array(valid_adj_list).astype(\"float16\")"
   ]
  },
  {
   "cell_type": "code",
   "execution_count": 48,
   "id": "b57c86db-c67b-4492-b945-9ee5ef7633be",
   "metadata": {},
   "outputs": [
    {
     "name": "stderr",
     "output_type": "stream",
     "text": [
      "2024-08-14 10:42:13.227080: I tensorflow/core/common_runtime/gpu/gpu_device.cc:1929] Created device /job:localhost/replica:0/task:0/device:GPU:0 with 31141 MB memory:  -> device: 0, name: Tesla V100S-PCIE-32GB, pci bus id: 0000:06:00.0, compute capability: 7.0\n"
     ]
    },
    {
     "name": "stdout",
     "output_type": "stream",
     "text": [
      "WARNING:tensorflow:No training configuration found in save file, so the model was *not* compiled. Compile it manually.\n"
     ]
    },
    {
     "name": "stderr",
     "output_type": "stream",
     "text": [
      "WARNING:tensorflow:No training configuration found in save file, so the model was *not* compiled. Compile it manually.\n"
     ]
    },
    {
     "name": "stdout",
     "output_type": "stream",
     "text": [
      "WARNING:tensorflow:No training configuration found in save file, so the model was *not* compiled. Compile it manually.\n"
     ]
    },
    {
     "name": "stderr",
     "output_type": "stream",
     "text": [
      "WARNING:tensorflow:No training configuration found in save file, so the model was *not* compiled. Compile it manually.\n"
     ]
    },
    {
     "name": "stdout",
     "output_type": "stream",
     "text": [
      "WARNING:tensorflow:No training configuration found in save file, so the model was *not* compiled. Compile it manually.\n"
     ]
    },
    {
     "name": "stderr",
     "output_type": "stream",
     "text": [
      "WARNING:tensorflow:No training configuration found in save file, so the model was *not* compiled. Compile it manually.\n"
     ]
    },
    {
     "name": "stdout",
     "output_type": "stream",
     "text": [
      "WARNING:tensorflow:No training configuration found in save file, so the model was *not* compiled. Compile it manually.\n"
     ]
    },
    {
     "name": "stderr",
     "output_type": "stream",
     "text": [
      "WARNING:tensorflow:No training configuration found in save file, so the model was *not* compiled. Compile it manually.\n"
     ]
    }
   ],
   "source": [
    "# load models\n",
    "# omic models\n",
    "cancer_copy_number_model = tf.keras.models.load_model(\"..//models//cancer_copy_number_model_no_norm_common\")\n",
    "cancer_cell_gen_expr_model = tf.keras.models.load_model(\"..//models//cancer_cell_gen_expr_model_no_norm_common\")\n",
    "cancer_cell_gen_methy_model = tf.keras.models.load_model(\"..//models//cancer_cell_gen_methy_model_no_norm\")\n",
    "cancer_cell_gen_mut_model = tf.keras.models.load_model(\"..//models//cancer_cell_gen_mut_model_no_norm\")"
   ]
  },
  {
   "cell_type": "code",
   "execution_count": 49,
   "id": "4c1533dd-2e0e-424f-be0d-24f06b51453b",
   "metadata": {},
   "outputs": [
    {
     "name": "stdout",
     "output_type": "stream",
     "text": [
      "WARNING:tensorflow:No training configuration found in save file, so the model was *not* compiled. Compile it manually.\n"
     ]
    },
    {
     "name": "stderr",
     "output_type": "stream",
     "text": [
      "WARNING:tensorflow:No training configuration found in save file, so the model was *not* compiled. Compile it manually.\n"
     ]
    }
   ],
   "source": [
    "# load models\n",
    "# drug models\n",
    "pubchem_drugs_rdkit_model = tf.keras.models.load_model(\"..//models//pubchem_drugs_rdkit_model_no_norm\")"
   ]
  },
  {
   "cell_type": "code",
   "execution_count": 50,
   "id": "4276fa33-3544-4a49-904e-020095d81f43",
   "metadata": {},
   "outputs": [],
   "source": [
    "std = StandardScaler()"
   ]
  },
  {
   "cell_type": "code",
   "execution_count": 51,
   "id": "6d5f0911-6e51-446d-a281-dc05086de8bf",
   "metadata": {},
   "outputs": [],
   "source": [
    "# extract drug features - does not seem like these are used in the network\n",
    "drug_features_train = pubchem_drugs_rdkit_model(x_train[\"drug_id\"].values).numpy().astype(\"float32\")\n",
    "drug_features_valid = pubchem_drugs_rdkit_model(x_valid[\"drug_id\"].values).numpy().astype(\"float32\")\n",
    "\n",
    "# drug_features_train = pubchem_drugs_rdkit_model(x_train[\"drug_id\"].values)\n",
    "# drug_features_valid = pubchem_drugs_rdkit_model(x_valid[\"drug_id\"].values)"
   ]
  },
  {
   "cell_type": "code",
   "execution_count": 52,
   "id": "f09c1da2-9df1-4674-9a05-ed475aaed5fa",
   "metadata": {},
   "outputs": [
    {
     "data": {
      "text/plain": [
       "0"
      ]
     },
     "execution_count": 52,
     "metadata": {},
     "output_type": "execute_result"
    }
   ],
   "source": [
    "np.isinf(drug_features_train).sum()"
   ]
  },
  {
   "cell_type": "code",
   "execution_count": 53,
   "id": "76723b45-8e73-41b2-b00a-19c27200d943",
   "metadata": {},
   "outputs": [],
   "source": [
    "drug_features_train = std.fit_transform(drug_features_train)"
   ]
  },
  {
   "cell_type": "code",
   "execution_count": 54,
   "id": "3397ce65-28fa-42a3-8b35-cb378bde141d",
   "metadata": {},
   "outputs": [],
   "source": [
    "drug_features_valid = std.transform(drug_features_valid)"
   ]
  },
  {
   "cell_type": "code",
   "execution_count": 55,
   "id": "8a581814-8f25-47f8-88eb-b6d94e841e96",
   "metadata": {},
   "outputs": [],
   "source": [
    "# extract copy number features\n",
    "omics_copy_number_train = cancer_copy_number_model(x_train[\"Cancer_Cell_Line\"].values).numpy().astype(\"float16\")\n",
    "omics_copy_number_valid = cancer_copy_number_model(x_valid[\"Cancer_Cell_Line\"].values).numpy().astype(\"float16\")"
   ]
  },
  {
   "cell_type": "code",
   "execution_count": 56,
   "id": "0d8f9737-5d43-4175-a68a-ff03ab3f58c3",
   "metadata": {},
   "outputs": [],
   "source": [
    "# extract gen expr features\n",
    "omics_gen_expr_train = cancer_cell_gen_expr_model(x_train[\"Cancer_Cell_Line\"].values).numpy().astype(\"float16\")\n",
    "omics_gen_expr_valid = cancer_cell_gen_expr_model(x_valid[\"Cancer_Cell_Line\"].values).numpy().astype(\"float16\")"
   ]
  },
  {
   "cell_type": "code",
   "execution_count": 57,
   "id": "ceb5e8e9-58c8-44b6-af28-2e676cd4c4d9",
   "metadata": {},
   "outputs": [],
   "source": [
    "omics_gen_copy_number_gen_expr_train = np.concatenate([np.expand_dims(omics_copy_number_train, -1),\n",
    "                                                      np.expand_dims(omics_gen_expr_train, -1)], axis = -1)"
   ]
  },
  {
   "cell_type": "code",
   "execution_count": 58,
   "id": "9af07cd6-3bf6-45eb-a0d9-6ada6e752a5d",
   "metadata": {},
   "outputs": [],
   "source": [
    "omics_gen_copy_number_gen_expr_valid = np.concatenate([np.expand_dims(omics_copy_number_valid, -1),\n",
    "                                                      np.expand_dims(omics_gen_expr_valid, -1)], axis = -1)"
   ]
  },
  {
   "cell_type": "code",
   "execution_count": 59,
   "id": "6fc3a94e-0ffe-4672-a97a-cc87eca89a54",
   "metadata": {},
   "outputs": [],
   "source": [
    "# extract gen methylation features\n",
    "omics_gen_methyl_train = cancer_cell_gen_methy_model(x_train[\"Cancer_Cell_Line\"].values).numpy().astype(\"float16\")\n",
    "omics_gen_methyl_valid = cancer_cell_gen_methy_model(x_valid[\"Cancer_Cell_Line\"].values).numpy().astype(\"float16\")"
   ]
  },
  {
   "cell_type": "code",
   "execution_count": 60,
   "id": "75398540-13b6-4cfa-b90d-8f2c0124dcd8",
   "metadata": {},
   "outputs": [
    {
     "name": "stdout",
     "output_type": "stream",
     "text": [
      "271/271 [==============================] - 8s 29ms/step\n",
      "68/68 [==============================] - 0s 6ms/step\n"
     ]
    }
   ],
   "source": [
    "# extract gen mutation features\n",
    "with tf.device('/cpu:0'):\n",
    "    omics_gen_mut_train = cancer_cell_gen_mut_model.predict(x_train[\"Cancer_Cell_Line\"].values, verbose = 1, batch_size = 256).astype(\"float16\")\n",
    "    omics_gen_mut_valid = cancer_cell_gen_mut_model.predict(x_valid[\"Cancer_Cell_Line\"].values, verbose = 1, batch_size = 256).astype(\"float16\")"
   ]
  },
  {
   "cell_type": "code",
   "execution_count": 61,
   "id": "1cd31175-0cb4-4718-8ff6-221e42f493d9",
   "metadata": {},
   "outputs": [],
   "source": [
    "smile_strings_train = x_train[\"Smiles\"].values.reshape(-1,1)\n",
    "smile_strings_valid = x_valid[\"Smiles\"].values.reshape(-1,1)"
   ]
  },
  {
   "cell_type": "code",
   "execution_count": 62,
   "id": "d13e5906-e69a-42a6-b9d0-c24f9d941e7d",
   "metadata": {},
   "outputs": [],
   "source": [
    "selected_info_common_cell_lines = \"..//data//cellline_list.txt\"\n",
    "selected_info_common_genes = \"..//data//gene_list.txt\""
   ]
  },
  {
   "cell_type": "code",
   "execution_count": 63,
   "id": "81270302-09c9-4885-bf20-1cea79f82c2c",
   "metadata": {},
   "outputs": [],
   "source": [
    "PPI_file = \"..//data/PPI_network.txt\""
   ]
  },
  {
   "cell_type": "code",
   "execution_count": 64,
   "id": "c061dec2-f66e-46bd-b75d-d0d3de3a4197",
   "metadata": {},
   "outputs": [],
   "source": [
    "with open(selected_info_common_cell_lines) as f:\n",
    "    common_cell_lines = [item.strip() for item in f.readlines()]"
   ]
  },
  {
   "cell_type": "code",
   "execution_count": 65,
   "id": "fec2991e-1152-4fc3-afae-e537b1d94224",
   "metadata": {},
   "outputs": [],
   "source": [
    "with open(\"..//data//common_genes.pickle\", \"rb\") as f:\n",
    "    common_genes = pickle.load(f)"
   ]
  },
  {
   "cell_type": "code",
   "execution_count": 66,
   "id": "81938b6c-b5ec-4bec-bf6c-bcfb99333479",
   "metadata": {},
   "outputs": [],
   "source": [
    "idx_dic={}\n",
    "for index, item in enumerate(common_genes):\n",
    "    idx_dic[item] = index"
   ]
  },
  {
   "cell_type": "code",
   "execution_count": 67,
   "id": "9be1966c-c95d-4763-9351-cc85f885dd77",
   "metadata": {},
   "outputs": [],
   "source": [
    "ppi_adj_info = [[] for item in common_genes] "
   ]
  },
  {
   "cell_type": "code",
   "execution_count": 68,
   "id": "dd95b114-413c-48b2-8ac4-d62341ca4b49",
   "metadata": {},
   "outputs": [],
   "source": [
    "# will return for each gene what other gene is connected - PPIs\n",
    "ppi_adj_info = [[] for item in common_genes] \n",
    "for line in open(PPI_file).readlines():\n",
    "    gene1,gene2 = line.split('\\t')[0],line.split('\\t')[1]\n",
    "    if (gene1 in common_genes) & (gene2 in common_genes):\n",
    "        if idx_dic[gene1]<=idx_dic[gene2]:\n",
    "            ppi_adj_info[idx_dic[gene1]].append(idx_dic[gene2])\n",
    "            ppi_adj_info[idx_dic[gene2]].append(idx_dic[gene1])"
   ]
  },
  {
   "cell_type": "code",
   "execution_count": 69,
   "id": "e8dba0ba-76bf-43d9-a282-64d5ef857164",
   "metadata": {},
   "outputs": [],
   "source": [
    "def CelllineGraphAdjNorm(ppi_adj_info,common_genes = common_genes):\n",
    "    # with open(selected_info_common_genes) as f:\n",
    "    #     common_genes = [item.strip() for item in f.readlines()]\n",
    "    nb_nodes = len(common_genes)\n",
    "    adj_mat = np.zeros((nb_nodes,nb_nodes),dtype='float32')\n",
    "    # print(adj_mat.shape)\n",
    "    for i in range(len(ppi_adj_info)):\n",
    "        # print(i)\n",
    "        nodes = ppi_adj_info[i]\n",
    "        for each in nodes:\n",
    "            adj_mat[i,each] = 1\n",
    "\n",
    "    # for checking if two sparse matrices are the same\n",
    "    assert np.allclose(adj_mat,adj_mat.T)\n",
    "    norm_adj = NormalizeAdj(adj_mat)\n",
    "    return norm_adj "
   ]
  },
  {
   "cell_type": "code",
   "execution_count": 70,
   "id": "ccca20d9-ccb8-4e11-87dc-3b8bca5df5ac",
   "metadata": {},
   "outputs": [],
   "source": [
    "def NormalizeAdj(adj):\n",
    "    adj = adj + np.eye(adj.shape[0])\n",
    "    d = sp.diags(np.power(np.array(adj.sum(1)), -0.5).flatten(), 0).toarray()\n",
    "    a_norm = adj.dot(d).transpose().dot(d)\n",
    "    return a_norm"
   ]
  },
  {
   "cell_type": "code",
   "execution_count": 71,
   "id": "2855c6e4-92b2-4dfc-b81d-1aae7ef46192",
   "metadata": {},
   "outputs": [],
   "source": [
    "import scipy.sparse as sp"
   ]
  },
  {
   "cell_type": "code",
   "execution_count": 72,
   "id": "c091ab77-fe5b-4f41-80c7-9f4e5af94302",
   "metadata": {},
   "outputs": [],
   "source": [
    "ppi_adj = CelllineGraphAdjNorm(ppi_adj_info,common_genes)"
   ]
  },
  {
   "cell_type": "code",
   "execution_count": 73,
   "id": "06b66e4c-ece7-40d6-b2d3-bf186c580ebd",
   "metadata": {},
   "outputs": [],
   "source": [
    "ppi_adj = np.expand_dims(ppi_adj,0)"
   ]
  },
  {
   "cell_type": "code",
   "execution_count": 74,
   "id": "9c523c6b-8a36-468a-966b-4bd5be2566d2",
   "metadata": {},
   "outputs": [],
   "source": [
    "omics_gen_copy_number_gen_expr_train_new = (ppi_adj@omics_gen_copy_number_gen_expr_train)\n",
    "omics_gen_copy_number_gen_expr_valid_new = (ppi_adj@omics_gen_copy_number_gen_expr_valid)"
   ]
  },
  {
   "cell_type": "code",
   "execution_count": 75,
   "id": "09b74033-ce1b-4886-afe8-1fc84eaaefec",
   "metadata": {},
   "outputs": [],
   "source": [
    "copy_number_train = omics_gen_copy_number_gen_expr_train_new[:,:,0:1]\n",
    "copy_number_valid = omics_gen_copy_number_gen_expr_valid_new[:,:,0:1]"
   ]
  },
  {
   "cell_type": "code",
   "execution_count": 76,
   "id": "62214add-cba7-4ef8-8351-26b8883f2129",
   "metadata": {},
   "outputs": [],
   "source": [
    "gene_expr_train = omics_gen_copy_number_gen_expr_train_new[:,:,1:2]\n",
    "gene_expr_valid = omics_gen_copy_number_gen_expr_valid_new[:,:,1:2]"
   ]
  },
  {
   "cell_type": "code",
   "execution_count": 77,
   "id": "e0b5599d-402e-493e-8e3a-fc9ca0492aaf",
   "metadata": {},
   "outputs": [],
   "source": [
    "valid_items = [[ valid_gcn_feats, valid_adj_list,\n",
    "                           copy_number_valid, gene_expr_valid,\n",
    "                           omics_gen_methyl_valid, omics_gen_mut_valid], y_valid]"
   ]
  },
  {
   "cell_type": "code",
   "execution_count": 78,
   "id": "fead2806-bbcb-467b-896e-bf90b2703c16",
   "metadata": {},
   "outputs": [],
   "source": [
    "input_gcn_features = tf.keras.layers.Input(shape = (100, 75))\n",
    "input_norm_adj_mat = tf.keras.layers.Input(shape = (100, 100))\n",
    "mult_1 = tf.keras.layers.Dot(1)([input_norm_adj_mat, input_gcn_features])\n",
    "dense_layer_gcn = tf.keras.layers.Dense(256, activation = \"relu\")\n",
    "dense_out = dense_layer_gcn(mult_1)\n",
    "dense_out = tf.keras.layers.BatchNormalization()(dense_out)\n",
    "dense_out = tf.keras.layers.Dropout(0.1)(dense_out)\n",
    "mult_2 = tf.keras.layers.Dot(1)([input_norm_adj_mat, dense_out])\n",
    "dense_layer_gcn = tf.keras.layers.Dense(128, activation = \"relu\")\n",
    "dense_out = dense_layer_gcn(mult_2)\n",
    "dense_out = tf.keras.layers.BatchNormalization()(dense_out)\n",
    "dense_out = tf.keras.layers.Dropout(0.1)(dense_out)\n",
    "\n",
    "# dense_layer_gcn = tf.keras.layers.Dense(100, activation = \"relu\")\n",
    "# mult_3 = tf.keras.layers.Dot(1)([input_norm_adj_mat, dense_out])\n",
    "# dense_out = dense_layer_gcn(mult_3)\n",
    "# dense_out = tf.keras.layers.BatchNormalization()(dense_out)\n",
    "# dense_out = tf.keras.layers.Dropout(0.2)(dense_out)\n",
    "\n",
    "dense_out = tf.keras.layers.GlobalAvgPool1D()(dense_out)"
   ]
  },
  {
   "cell_type": "code",
   "execution_count": 79,
   "id": "17f5ca46-6eca-4ede-bbf6-e9ef62eaf608",
   "metadata": {},
   "outputs": [],
   "source": [
    "# here is the code for CNV and gene expression\n",
    "dropout1 = 0.10\n",
    "dropout2 = 0.20\n",
    "# first add the CNV\n",
    "input_cnv = tf.keras.layers.Input(shape = (omics_gen_expr_train.shape[1],1))\n",
    "    \n",
    "l1 = tf.keras.layers.Dense(32)(input_cnv)\n",
    "l1 = tf.keras.layers.Dropout(dropout1)(l1)\n",
    "l2 = tf.keras.layers.Dense(128)(l1)\n",
    "l2 = tf.keras.layers.Dropout(dropout1)(l2)\n",
    "    \n",
    "dense_layer_gcn1 = tf.keras.layers.Dense(256, activation = \"relu\")\n",
    "dense_out_cnv = dense_layer_gcn1(l2)\n",
    "dense_out_cnv = tf.keras.layers.BatchNormalization()(dense_out_cnv)\n",
    "dense_out_cnv = tf.keras.layers.Dropout(dropout1)(dense_out_cnv)\n",
    "# mult_21 = tf.keras.layers.Dot(1)([const_input, dense_out1])\n",
    "dense_layer_gcn1 = tf.keras.layers.Dense(256, activation = \"relu\")\n",
    "dense_out_cnv = dense_layer_gcn1(dense_out_cnv)\n",
    "dense_out_cnv = tf.keras.layers.BatchNormalization()(dense_out_cnv)\n",
    "dense_out_cnv = tf.keras.layers.Dropout(dropout1)(dense_out_cnv)\n",
    "dense_layer_gcn1 = tf.keras.layers.Dense(256, activation = \"relu\")\n",
    "dense_out_cnv = dense_layer_gcn1(dense_out_cnv)\n",
    "dense_out_cnv = tf.keras.layers.BatchNormalization()(dense_out_cnv)\n",
    "dense_out_cnv = tf.keras.layers.Dropout(dropout1)(dense_out_cnv)\n",
    "dense_layer_gcn1 = tf.keras.layers.Dense(256, activation = \"relu\")\n",
    "dense_out_cnv = dense_layer_gcn1(dense_out_cnv)\n",
    "dense_out_cnv = tf.keras.layers.BatchNormalization()(dense_out_cnv)\n",
    "dense_out_cnv = tf.keras.layers.Dropout(dropout1)(dense_out_cnv)\n",
    "dense_out_cnv = tf.keras.layers.GlobalAvgPool1D()(dense_out_cnv)\n",
    "\n",
    "# now add the gene expr\n",
    "input_gene_expr = tf.keras.layers.Input(shape = (omics_gen_expr_train.shape[1],1))\n",
    "    \n",
    "l11 = tf.keras.layers.Dense(32)(input_gene_expr)\n",
    "l11 = tf.keras.layers.Dropout(dropout1)(l11)\n",
    "l21 = tf.keras.layers.Dense(128)(l11)\n",
    "l21 = tf.keras.layers.Dropout(dropout1)(l21)\n",
    "    \n",
    "dense_layer_gcn2 = tf.keras.layers.Dense(256, activation = \"relu\")\n",
    "dense_out_expr = dense_layer_gcn2(l21)\n",
    "dense_out_expr = tf.keras.layers.BatchNormalization()(dense_out_expr)\n",
    "dense_out_expr = tf.keras.layers.Dropout(dropout1)(dense_out_expr)\n",
    "# mult_21 = tf.keras.layers.Dot(1)([const_input, dense_out1])\n",
    "dense_layer_gcn2 = tf.keras.layers.Dense(256, activation = \"relu\")\n",
    "dense_out_expr = dense_layer_gcn2(dense_out_expr)\n",
    "dense_out_expr = tf.keras.layers.BatchNormalization()(dense_out_expr)\n",
    "dense_out_expr = tf.keras.layers.Dropout(dropout1)(dense_out_expr)\n",
    "dense_layer_gcn2 = tf.keras.layers.Dense(256, activation = \"relu\")\n",
    "dense_out_expr = dense_layer_gcn2(dense_out_expr)\n",
    "dense_out_expr = tf.keras.layers.BatchNormalization()(dense_out_expr)\n",
    "dense_out_expr = tf.keras.layers.Dropout(dropout1)(dense_out_expr )\n",
    "dense_layer_gcn2 = tf.keras.layers.Dense(256, activation = \"relu\")\n",
    "dense_out_expr = dense_layer_gcn2(dense_out_expr)\n",
    "dense_out_expr = tf.keras.layers.BatchNormalization()(dense_out_expr)\n",
    "dense_out_expr = tf.keras.layers.Dropout(dropout1)(dense_out_expr)\n",
    "dense_out_expr = tf.keras.layers.GlobalAvgPool1D()(dense_out_expr)"
   ]
  },
  {
   "cell_type": "code",
   "execution_count": 80,
   "id": "0fd00eeb-9651-4f64-b8f9-4d854f12ada4",
   "metadata": {},
   "outputs": [],
   "source": [
    "all_omics = tf.keras.layers.Concatenate()([ dense_out_cnv, dense_out_expr, dense_out])"
   ]
  },
  {
   "cell_type": "code",
   "execution_count": 81,
   "id": "1a38325b-d912-445b-8807-bc0d4ff5e7cd",
   "metadata": {},
   "outputs": [],
   "source": [
    "x = tf.keras.layers.Dense(256,activation = 'tanh')(all_omics)\n",
    "x = tf.keras.layers.Dropout(0.3)(x, training = True)\n",
    "x = tf.keras.layers.Dense(128,activation = 'tanh')(x)\n",
    "x = tf.keras.layers.Dropout(0.2)(x, training = True)\n",
    "x = tf.keras.layers.Dense(10,activation = 'tanh')(x)"
   ]
  },
  {
   "cell_type": "code",
   "execution_count": 82,
   "id": "21eefc69-7fbe-4a64-8933-fbafd0301863",
   "metadata": {},
   "outputs": [],
   "source": [
    "final_out_layer = tf.keras.layers.Dense(1)"
   ]
  },
  {
   "cell_type": "code",
   "execution_count": 83,
   "id": "ae37d5ad-d7b4-41de-acea-7423ff0f5cd7",
   "metadata": {},
   "outputs": [],
   "source": [
    "final_out = final_out_layer(x)"
   ]
  },
  {
   "cell_type": "code",
   "execution_count": 84,
   "id": "f3a7f494-0a02-40b9-a7c4-f2f4a282c947",
   "metadata": {},
   "outputs": [],
   "source": [
    "simplegcn = tf.keras.models.Model([input_gcn_features, input_norm_adj_mat, input_cnv, input_gene_expr], final_out)"
   ]
  },
  {
   "cell_type": "code",
   "execution_count": 85,
   "id": "e83ba73d-bc93-4d35-948a-3b99fa03ba78",
   "metadata": {},
   "outputs": [],
   "source": [
    "simplegcn.compile(loss = tf.keras.losses.MeanSquaredError(), \n",
    "                    optimizer = tf.keras.optimizers.Adam(learning_rate=0.0001), \n",
    "                    metrics = [tf.keras.metrics.RootMeanSquaredError()])"
   ]
  },
  {
   "cell_type": "code",
   "execution_count": 86,
   "id": "4dc73675-f253-4b05-a6a6-47c3003642d3",
   "metadata": {},
   "outputs": [],
   "source": [
    "# import the existing trained model\n",
    "simpleGCN_original_model = tf.keras.models.load_model(\"..//models//dualgcn_trained_on_domain\")"
   ]
  },
  {
   "cell_type": "code",
   "execution_count": 87,
   "id": "958acb0a-2f31-4712-a01b-b894266d2956",
   "metadata": {},
   "outputs": [],
   "source": [
    "simplegcn.set_weights(simpleGCN_original_model.get_weights())"
   ]
  },
  {
   "cell_type": "code",
   "execution_count": 88,
   "id": "098f4d42-4cc4-4425-a13a-287fe915426f",
   "metadata": {},
   "outputs": [],
   "source": [
    "def chunks(lst, n):\n",
    "    \"\"\"Yield successive n-sized chunks from lst.\"\"\"\n",
    "    for i in range(0, len(lst), n):\n",
    "        yield lst[i:i + n]"
   ]
  },
  {
   "cell_type": "code",
   "execution_count": 89,
   "id": "6f5aeaa8-30b4-483d-a5e8-2cf2e8c1c14d",
   "metadata": {},
   "outputs": [],
   "source": [
    "chunks = np.array_split(list(range(0,valid_gcn_feats.shape[0])), 3)"
   ]
  },
  {
   "cell_type": "code",
   "execution_count": 90,
   "id": "8519cfe8-aab2-487e-9df9-082a252860b9",
   "metadata": {},
   "outputs": [],
   "source": [
    "test_index = 2"
   ]
  },
  {
   "cell_type": "code",
   "execution_count": 91,
   "id": "7bc3b5ad-dc58-4208-96f3-9755e74ad646",
   "metadata": {},
   "outputs": [],
   "source": [
    "train_items = list(chunks[test_index])"
   ]
  },
  {
   "cell_type": "code",
   "execution_count": 92,
   "id": "3561b0f6-d621-4e46-968f-ea3a2b7e7376",
   "metadata": {},
   "outputs": [],
   "source": [
    "test_items = list(set(list(range(0,valid_gcn_feats.shape[0]))).difference(train_items))"
   ]
  },
  {
   "cell_type": "code",
   "execution_count": 93,
   "id": "f5dfbf6f-3b54-4faf-8185-50818d58df7c",
   "metadata": {},
   "outputs": [
    {
     "name": "stdout",
     "output_type": "stream",
     "text": [
      "(5772, 100, 75) (11544, 100, 75)\n",
      "(5772, 100, 100) (11544, 100, 100)\n",
      "(5772, 691, 1) (11544, 691, 1)\n",
      "(5772, 691, 1) (11544, 691, 1)\n",
      "(5772,) (11544,)\n"
     ]
    }
   ],
   "source": [
    "# First the data - let's use a train set of 6k - then the rest will be test here (from the remaining values, use 3k for training the stacker, 1k for validation of it, and the rest ~7k as the final test data). \n",
    "# drug feats\n",
    "new_train_gcn_feats = valid_gcn_feats[train_items, :,:]\n",
    "new_test_gcn_feats = valid_gcn_feats[test_items, :,:]\n",
    "print(new_train_gcn_feats.shape, new_test_gcn_feats.shape)\n",
    "\n",
    "# drug adj info\n",
    "new_train_adj_list = valid_adj_list[train_items, :,:]\n",
    "new_test_adj_list = valid_adj_list[test_items, :,:]\n",
    "print(new_train_adj_list.shape, new_test_adj_list.shape)\n",
    "\n",
    "# cnv\n",
    "new_omics_cna_train = copy_number_valid[train_items, :]\n",
    "new_omics_cna_test = copy_number_valid[test_items,:]\n",
    "print(new_omics_cna_train.shape, new_omics_cna_test.shape)\n",
    "\n",
    "# expression\n",
    "new_omics_expr_train = gene_expr_valid[train_items, :]\n",
    "new_omics_expr_test = gene_expr_valid[test_items,:]\n",
    "print(new_omics_cna_train.shape, new_omics_cna_test.shape)\n",
    "\n",
    "# y\n",
    "new_y_train = y_valid[train_items,]\n",
    "new_y_test = y_valid[test_items,]\n",
    "print(new_y_train.shape, new_y_test.shape)"
   ]
  },
  {
   "cell_type": "code",
   "execution_count": 94,
   "id": "eb15ecb9-9d65-418b-af61-06c7e08c356f",
   "metadata": {},
   "outputs": [],
   "source": [
    "# from deepcdr fold 0\n",
    "# (2.069332453915454, 2.8460217894549977, 2.0610702126645877, 2.8233955229121412)"
   ]
  },
  {
   "cell_type": "code",
   "execution_count": 95,
   "id": "46948d0f-e80f-4e04-99e9-7fba1256925d",
   "metadata": {},
   "outputs": [
    {
     "data": {
      "text/plain": [
       "(2.094244087144837, 2.8136855131635183, 2.048614396049896, 2.8394362011334575)"
      ]
     },
     "execution_count": 95,
     "metadata": {},
     "output_type": "execute_result"
    }
   ],
   "source": [
    "np.mean(new_y_train), np.std(new_y_train), np.mean(new_y_test), np.std(new_y_test)"
   ]
  },
  {
   "cell_type": "code",
   "execution_count": 96,
   "id": "ebff6df3-7a4a-4fe9-870e-45bab44001ff",
   "metadata": {},
   "outputs": [
    {
     "name": "stdout",
     "output_type": "stream",
     "text": [
      "Epoch 1/1000\n"
     ]
    },
    {
     "name": "stderr",
     "output_type": "stream",
     "text": [
      "2024-08-14 10:43:05.178925: I external/local_xla/xla/service/service.cc:168] XLA service 0x14f30464ce20 initialized for platform CUDA (this does not guarantee that XLA will be used). Devices:\n",
      "2024-08-14 10:43:05.178984: I external/local_xla/xla/service/service.cc:176]   StreamExecutor device (0): Tesla V100S-PCIE-32GB, Compute Capability 7.0\n",
      "2024-08-14 10:43:05.215560: I tensorflow/compiler/mlir/tensorflow/utils/dump_mlir_util.cc:269] disabling MLIR crash reproducer, set env var `MLIR_CRASH_REPRODUCER_DIRECTORY` to enable.\n",
      "2024-08-14 10:43:05.301772: I external/local_xla/xla/stream_executor/cuda/cuda_dnn.cc:454] Loaded cuDNN version 8907\n",
      "WARNING: All log messages before absl::InitializeLog() is called are written to STDERR\n",
      "I0000 00:00:1723650185.508365 1494878 device_compiler.h:186] Compiled cluster using XLA!  This line is logged at most once for the lifetime of the process.\n"
     ]
    },
    {
     "name": "stdout",
     "output_type": "stream",
     "text": [
      "10/10 [==============================] - 13s 343ms/step - loss: 1.8506 - root_mean_squared_error: 1.3604 - val_loss: 1.8351 - val_root_mean_squared_error: 1.3547\n",
      "Epoch 2/1000\n",
      "10/10 [==============================] - 3s 259ms/step - loss: 1.8155 - root_mean_squared_error: 1.3474 - val_loss: 1.8407 - val_root_mean_squared_error: 1.3567\n",
      "Epoch 3/1000\n",
      "10/10 [==============================] - 3s 261ms/step - loss: 1.8335 - root_mean_squared_error: 1.3541 - val_loss: 1.8846 - val_root_mean_squared_error: 1.3728\n",
      "Epoch 4/1000\n",
      "10/10 [==============================] - 3s 261ms/step - loss: 1.8259 - root_mean_squared_error: 1.3513 - val_loss: 1.8264 - val_root_mean_squared_error: 1.3514\n",
      "Epoch 5/1000\n",
      "10/10 [==============================] - 3s 261ms/step - loss: 1.8267 - root_mean_squared_error: 1.3515 - val_loss: 1.8258 - val_root_mean_squared_error: 1.3512\n",
      "Epoch 6/1000\n",
      "10/10 [==============================] - 3s 261ms/step - loss: 1.8194 - root_mean_squared_error: 1.3489 - val_loss: 1.8067 - val_root_mean_squared_error: 1.3441\n",
      "Epoch 7/1000\n",
      "10/10 [==============================] - 3s 256ms/step - loss: 1.8322 - root_mean_squared_error: 1.3536 - val_loss: 1.8328 - val_root_mean_squared_error: 1.3538\n",
      "Epoch 8/1000\n",
      "10/10 [==============================] - 3s 259ms/step - loss: 1.8142 - root_mean_squared_error: 1.3469 - val_loss: 1.8090 - val_root_mean_squared_error: 1.3450\n",
      "Epoch 9/1000\n",
      "10/10 [==============================] - 3s 259ms/step - loss: 1.8191 - root_mean_squared_error: 1.3487 - val_loss: 1.8133 - val_root_mean_squared_error: 1.3466\n",
      "Epoch 10/1000\n",
      "10/10 [==============================] - 3s 259ms/step - loss: 1.8029 - root_mean_squared_error: 1.3427 - val_loss: 1.8360 - val_root_mean_squared_error: 1.3550\n",
      "Epoch 11/1000\n",
      "10/10 [==============================] - 3s 258ms/step - loss: 1.8172 - root_mean_squared_error: 1.3480 - val_loss: 1.8710 - val_root_mean_squared_error: 1.3678\n",
      "Epoch 12/1000\n",
      "10/10 [==============================] - 3s 258ms/step - loss: 1.7873 - root_mean_squared_error: 1.3369 - val_loss: 1.8440 - val_root_mean_squared_error: 1.3579\n",
      "Epoch 13/1000\n",
      "10/10 [==============================] - 3s 261ms/step - loss: 1.8221 - root_mean_squared_error: 1.3498 - val_loss: 1.7952 - val_root_mean_squared_error: 1.3398\n",
      "Epoch 14/1000\n",
      "10/10 [==============================] - 3s 258ms/step - loss: 1.7980 - root_mean_squared_error: 1.3409 - val_loss: 1.8540 - val_root_mean_squared_error: 1.3616\n",
      "Epoch 15/1000\n",
      "10/10 [==============================] - 3s 259ms/step - loss: 1.8018 - root_mean_squared_error: 1.3423 - val_loss: 1.8590 - val_root_mean_squared_error: 1.3634\n",
      "Epoch 16/1000\n",
      "10/10 [==============================] - 3s 258ms/step - loss: 1.8329 - root_mean_squared_error: 1.3538 - val_loss: 1.8147 - val_root_mean_squared_error: 1.3471\n",
      "Epoch 17/1000\n",
      "10/10 [==============================] - 3s 258ms/step - loss: 1.8069 - root_mean_squared_error: 1.3442 - val_loss: 1.7794 - val_root_mean_squared_error: 1.3339\n",
      "Epoch 18/1000\n",
      "10/10 [==============================] - 3s 259ms/step - loss: 1.8111 - root_mean_squared_error: 1.3458 - val_loss: 1.8258 - val_root_mean_squared_error: 1.3512\n",
      "Epoch 19/1000\n",
      "10/10 [==============================] - 3s 258ms/step - loss: 1.8117 - root_mean_squared_error: 1.3460 - val_loss: 1.8118 - val_root_mean_squared_error: 1.3460\n",
      "Epoch 20/1000\n",
      "10/10 [==============================] - 3s 258ms/step - loss: 1.8139 - root_mean_squared_error: 1.3468 - val_loss: 1.8145 - val_root_mean_squared_error: 1.3470\n",
      "Epoch 21/1000\n",
      "10/10 [==============================] - 3s 258ms/step - loss: 1.7937 - root_mean_squared_error: 1.3393 - val_loss: 1.8366 - val_root_mean_squared_error: 1.3552\n",
      "Epoch 22/1000\n",
      "10/10 [==============================] - 3s 260ms/step - loss: 1.7981 - root_mean_squared_error: 1.3409 - val_loss: 1.8014 - val_root_mean_squared_error: 1.3422\n",
      "Epoch 23/1000\n",
      "10/10 [==============================] - 3s 258ms/step - loss: 1.8090 - root_mean_squared_error: 1.3450 - val_loss: 1.7972 - val_root_mean_squared_error: 1.3406\n",
      "Epoch 24/1000\n",
      "10/10 [==============================] - 3s 258ms/step - loss: 1.8062 - root_mean_squared_error: 1.3440 - val_loss: 1.8544 - val_root_mean_squared_error: 1.3618\n",
      "Epoch 25/1000\n",
      "10/10 [==============================] - 3s 259ms/step - loss: 1.8022 - root_mean_squared_error: 1.3425 - val_loss: 1.8117 - val_root_mean_squared_error: 1.3460\n",
      "Epoch 26/1000\n",
      "10/10 [==============================] - 3s 259ms/step - loss: 1.7994 - root_mean_squared_error: 1.3414 - val_loss: 1.8035 - val_root_mean_squared_error: 1.3429\n",
      "Epoch 27/1000\n",
      "10/10 [==============================] - 3s 259ms/step - loss: 1.8101 - root_mean_squared_error: 1.3454 - val_loss: 1.8068 - val_root_mean_squared_error: 1.3442\n",
      "Epoch 28/1000\n",
      "10/10 [==============================] - 3s 260ms/step - loss: 1.7780 - root_mean_squared_error: 1.3334 - val_loss: 1.8080 - val_root_mean_squared_error: 1.3446\n",
      "Epoch 29/1000\n",
      "10/10 [==============================] - 3s 258ms/step - loss: 1.7985 - root_mean_squared_error: 1.3411 - val_loss: 1.8001 - val_root_mean_squared_error: 1.3417\n",
      "Epoch 30/1000\n",
      "10/10 [==============================] - 3s 259ms/step - loss: 1.7945 - root_mean_squared_error: 1.3396 - val_loss: 1.7906 - val_root_mean_squared_error: 1.3381\n",
      "Epoch 31/1000\n",
      "10/10 [==============================] - 3s 259ms/step - loss: 1.7985 - root_mean_squared_error: 1.3411 - val_loss: 1.8171 - val_root_mean_squared_error: 1.3480\n",
      "Epoch 32/1000\n",
      "10/10 [==============================] - 3s 261ms/step - loss: 1.7895 - root_mean_squared_error: 1.3377 - val_loss: 1.8048 - val_root_mean_squared_error: 1.3434\n",
      "Epoch 33/1000\n",
      "10/10 [==============================] - 3s 259ms/step - loss: 1.8101 - root_mean_squared_error: 1.3454 - val_loss: 1.8069 - val_root_mean_squared_error: 1.3442\n",
      "Epoch 34/1000\n",
      "10/10 [==============================] - 3s 262ms/step - loss: 1.7936 - root_mean_squared_error: 1.3392 - val_loss: 1.8242 - val_root_mean_squared_error: 1.3506\n",
      "Epoch 35/1000\n",
      "10/10 [==============================] - 3s 260ms/step - loss: 1.8052 - root_mean_squared_error: 1.3436 - val_loss: 1.8076 - val_root_mean_squared_error: 1.3445\n",
      "Epoch 36/1000\n",
      "10/10 [==============================] - 3s 259ms/step - loss: 1.7897 - root_mean_squared_error: 1.3378 - val_loss: 1.8208 - val_root_mean_squared_error: 1.3494\n",
      "Epoch 37/1000\n",
      "10/10 [==============================] - 3s 263ms/step - loss: 1.7932 - root_mean_squared_error: 1.3391 - val_loss: 1.8362 - val_root_mean_squared_error: 1.3551\n",
      "CPU times: user 1min 27s, sys: 2.81 s, total: 1min 30s\n",
      "Wall time: 1min 46s\n"
     ]
    }
   ],
   "source": [
    "%%time\n",
    "history = simplegcn.fit([new_train_gcn_feats, new_train_adj_list, new_omics_cna_train, new_omics_expr_train], new_y_train, \n",
    "                         \n",
    "          batch_size = 512, epochs = 1000, verbose = 1,\n",
    "                         \n",
    "          validation_split = 0.2,\n",
    "                         \n",
    "\n",
    "        callbacks = tf.keras.callbacks.EarlyStopping(monitor = \"val_loss\", patience = 20, restore_best_weights=True,\n",
    "                                                       mode = \"min\"), \n",
    "         validation_batch_size = 512, shuffle = True)"
   ]
  },
  {
   "cell_type": "code",
   "execution_count": 97,
   "id": "163c3816-113b-4011-bc7e-9d312f422388",
   "metadata": {},
   "outputs": [
    {
     "name": "stdout",
     "output_type": "stream",
     "text": [
      "INFO:tensorflow:Assets written to: ..//models//dualgcn_complete_fine_tuned_split_2/assets\n"
     ]
    },
    {
     "name": "stderr",
     "output_type": "stream",
     "text": [
      "INFO:tensorflow:Assets written to: ..//models//dualgcn_complete_fine_tuned_split_2/assets\n"
     ]
    }
   ],
   "source": [
    "simplegcn.save(\"..//models//dualgcn_complete_fine_tuned_split_\" + str(test_index))"
   ]
  },
  {
   "cell_type": "code",
   "execution_count": 98,
   "id": "67999a1b-c3c2-4a5b-8a99-9609a208c7a4",
   "metadata": {},
   "outputs": [],
   "source": [
    "reps = 25"
   ]
  },
  {
   "cell_type": "code",
   "execution_count": 99,
   "id": "2d26bd8f-f3cb-46e1-b4e6-d48392fc841d",
   "metadata": {},
   "outputs": [
    {
     "name": "stdout",
     "output_type": "stream",
     "text": [
      "0\n",
      "1\n",
      "2\n",
      "3\n",
      "4\n",
      "5\n",
      "6\n",
      "7\n",
      "8\n",
      "9\n",
      "10\n",
      "11\n",
      "12\n",
      "13\n",
      "14\n",
      "15\n",
      "16\n",
      "17\n",
      "18\n",
      "19\n",
      "20\n",
      "21\n",
      "22\n",
      "23\n",
      "24\n",
      "CPU times: user 48.7 s, sys: 7.85 s, total: 56.6 s\n",
      "Wall time: 1min 8s\n"
     ]
    }
   ],
   "source": [
    "%%time\n",
    "catch_preds = np.zeros((new_test_gcn_feats.shape[0],reps))\n",
    "for i in range(0,reps):\n",
    "    print(i)\n",
    "    preds = simplegcn.predict([ new_test_gcn_feats, new_test_adj_list, new_omics_cna_test, new_omics_expr_test], \n",
    "                              batch_size = 1024, verbose = 0)\n",
    "    catch_preds[:,i] = preds[:,0]"
   ]
  },
  {
   "cell_type": "code",
   "execution_count": 100,
   "id": "6d663744-fb94-4e9d-88f3-3374407476dc",
   "metadata": {},
   "outputs": [],
   "source": [
    "preds_data = np.hstack((new_y_test.reshape(-1,1), catch_preds))"
   ]
  },
  {
   "cell_type": "code",
   "execution_count": 101,
   "id": "61099e76-7e23-4552-add3-50e838e5d751",
   "metadata": {},
   "outputs": [],
   "source": [
    "np.save(\"..//data//dualgcn_complete_preds_val_and_test_\" +str(test_index) + \".npy\", preds_data)"
   ]
  }
 ],
 "metadata": {
  "kernelspec": {
   "display_name": "Python (tfp_for_TN)",
   "language": "python",
   "name": "tfp_for_tn"
  },
  "language_info": {
   "codemirror_mode": {
    "name": "ipython",
    "version": 3
   },
   "file_extension": ".py",
   "mimetype": "text/x-python",
   "name": "python",
   "nbconvert_exporter": "python",
   "pygments_lexer": "ipython3",
   "version": "3.10.14"
  }
 },
 "nbformat": 4,
 "nbformat_minor": 5
}
